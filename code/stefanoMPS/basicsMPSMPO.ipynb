{
 "cells": [
  {
   "cell_type": "markdown",
   "metadata": {},
   "source": [
    "# MPS canonical forms "
   ]
  },
  {
   "cell_type": "code",
   "execution_count": 1,
   "metadata": {},
   "outputs": [],
   "source": [
    "%load_ext autoreload\n",
    "%autoreload 2\n"
   ]
  },
  {
   "cell_type": "code",
   "execution_count": null,
   "metadata": {},
   "outputs": [],
   "source": [
    "\n"
   ]
  },
  {
   "cell_type": "code",
   "execution_count": 2,
   "metadata": {},
   "outputs": [],
   "source": [
    "\n",
    "import numpy as np\n",
    "\n",
    "import copy \n",
    "\n",
    "import myMPSstuff as mps\n",
    "import myMPOstuff as mpo\n",
    "\n",
    "import isingMPO as isi\n",
    "import applMPOMPS as mpomps\n",
    "\n",
    "from myUtils import sncon as ncon\n",
    "from myUtils import real_close as rc\n",
    "from myUtils import checkIdMatrix\n",
    "\n",
    "import myEnvironmentsMPO as envs\n",
    "\n"
   ]
  },
  {
   "cell_type": "code",
   "execution_count": 3,
   "metadata": {},
   "outputs": [
    {
     "name": "stderr",
     "output_type": "stream",
     "text": [
      "WARNING:root:Putting in canonical form and truncating at 100\n"
     ]
    },
    {
     "name": "stdout",
     "output_type": "stream",
     "text": [
      "3 sweeps\n",
      "Entropies=  [0.0, 2.694595076367125e-05, 6.327220788930835e-07, 4.7570257225485857e-07, 3.505242920488149e-07, 3.020487153824784e-07, 2.786561285450707e-07, 3.5912698970549453e-07, 2.933263188532166e-07, 0.00023936977941098396, 0.0]\n",
      "<class 'myMPSstuff.myMPS'>\n",
      "<class 'list'>\n"
     ]
    }
   ],
   "source": [
    "\n",
    "test2 = mps.myMPS(mps.randMPS(chi=100))\n",
    "print(f\"Entropies=  {test2.getEntropies()}\")\n",
    "\n",
    "print(type(test2))\n",
    "print(type(test2.MPS))\n"
   ]
  },
  {
   "cell_type": "code",
   "execution_count": 4,
   "metadata": {},
   "outputs": [],
   "source": [
    "\n",
    "testMPO = mpo.myMPO(isi.IsingMPO(LL=10, J = 1, g = 0.4))\n"
   ]
  },
  {
   "cell_type": "code",
   "execution_count": 5,
   "metadata": {},
   "outputs": [
    {
     "name": "stdout",
     "output_type": "stream",
     "text": [
      "[1, 20, 20, 20, 20, 20, 20, 1]\n",
      "[(1, 20, 2), (20, 20, 2), (20, 20, 2), (20, 20, 2), (20, 20, 2), (20, 20, 2), (20, 1, 2)]\n",
      "(3818579710500857.5-0.0625j)\n",
      "61794657.62103435\n"
     ]
    }
   ],
   "source": [
    "\n",
    "#mpstest = np.random.rand(4,7,3,7)\n",
    "\n",
    "test = mps.myMPS()\n",
    "\n",
    "print(test.chis)\n",
    "print([np.shape(s) for s in test.MPS])\n",
    "\n",
    "print(test.getNormSlow())\n",
    "print(test.getNorm())\n",
    "\n"
   ]
  },
  {
   "cell_type": "code",
   "execution_count": 6,
   "metadata": {},
   "outputs": [
    {
     "name": "stdout",
     "output_type": "stream",
     "text": [
      "[1, 1, 1, 1, 1, 1, 1, 1, 1, 1, 1]\n",
      "[(1, 1, 2), (1, 1, 2), (1, 1, 2), (1, 1, 2), (1, 1, 2), (1, 1, 2), (1, 1, 2), (1, 1, 2), (1, 1, 2), (1, 1, 2)]\n",
      "0.9999999999999978\n",
      "0.9999999999999992\n",
      "3 sweeps\n",
      "[0.0, 0.0, 0.0, 0.0, 0.0, 0.0, 0.0, 0.0, 0.0, 0.0, 0.0]\n"
     ]
    }
   ],
   "source": [
    "test = mps.myMPS(mps.plusState(10))\n",
    "\n",
    "print(test.chis)\n",
    "print([np.shape(s) for s in test.MPS])\n",
    "\n",
    "# the state should be normalized already \n",
    "print(test.getNormSlow())\n",
    "print(test.getNorm())\n",
    "\n",
    "test.bringCan()\n",
    "print(test.getEntropies())  # should be zero for a prod state\n",
    "\n"
   ]
  },
  {
   "cell_type": "code",
   "execution_count": 7,
   "metadata": {},
   "outputs": [
    {
     "name": "stdout",
     "output_type": "stream",
     "text": [
      "(3818579710500857.5-0.0625j)\n",
      "61794657.62103435\n",
      "3 sweeps\n"
     ]
    },
    {
     "data": {
      "text/plain": [
       "'L'"
      ]
     },
     "execution_count": 7,
     "metadata": {},
     "output_type": "execute_result"
    }
   ],
   "source": [
    "test = mps.myMPS()\n",
    "print(test.getNormSlow())\n",
    "\n",
    "print(test.getNorm())\n",
    "test.bringCan()"
   ]
  },
  {
   "cell_type": "code",
   "execution_count": 8,
   "metadata": {},
   "outputs": [
    {
     "name": "stderr",
     "output_type": "stream",
     "text": [
      "WARNING:root:Putting in canonical form and truncating at 200\n"
     ]
    },
    {
     "name": "stdout",
     "output_type": "stream",
     "text": [
      "3 sweeps\n",
      "Entropies=  [0.0, 1.2573890686017716e-05, 1.999302538565336e-07, 8.069839711398202e-08, 1.0426632435772923e-08, 8.259309608427732e-08, 1.0381344172403728e-07, 4.8715736842272496e-08, 6.530039362639734e-09, 1.4586232945557017e-08, 2.233489557158525e-08, 2.6121404313700047e-08, 7.304817147256808e-09, 1.75820659581536e-07, 1.8981308427669686e-07, 1.6995870780581854e-07, 4.697375539224514e-09, 5.5587312041864756e-08, 7.584879139772995e-08, 2.0056930684263962e-05, -1.3322676295501888e-15]\n"
     ]
    }
   ],
   "source": [
    "\n",
    "\n",
    "test3 = mps.myMPS(mps.randMPS(LL=20, chi=200))\n",
    "print(f\"Entropies=  {test3.getEntropies()}\")\n",
    "\n",
    "testMPO = mpo.myMPO()\n",
    "\n",
    "\n"
   ]
  },
  {
   "cell_type": "code",
   "execution_count": null,
   "metadata": {},
   "outputs": [],
   "source": []
  },
  {
   "cell_type": "markdown",
   "metadata": {},
   "source": [
    "## Check that we're actually in proper L-R canon forms by contracting a bit and see if we recover identity matrices and normalizations "
   ]
  },
  {
   "cell_type": "code",
   "execution_count": 9,
   "metadata": {},
   "outputs": [
    {
     "name": "stdout",
     "output_type": "stream",
     "text": [
      "3 sweeps\n",
      "L\n",
      "[1, 2, 4, 7, 5, 4, 5, 4, 5, 5, 4, 4, 5, 4, 4, 4, 4, 5, 5, 4, 5, 4, 4, 4, 4, 4, 5, 4, 4, 4, 5, 4, 4, 4, 4, 4, 4, 7, 4, 2, 1]\n",
      "R\n",
      "Norm=1.0000000000000022\n",
      "identity, size = 1\n",
      "identity, size = 2\n",
      "identity, size = 4\n",
      "identity, size = 7\n",
      "identity, size = 5\n",
      "identity, size = 4\n",
      "identity, size = 5\n",
      "identity, size = 4\n",
      "identity, size = 5\n",
      "identity, size = 5\n",
      "identity, size = 4\n",
      "identity, size = 4\n",
      "identity, size = 5\n",
      "identity, size = 4\n",
      "identity, size = 4\n",
      "identity, size = 4\n",
      "identity, size = 4\n",
      "identity, size = 5\n",
      "identity, size = 5\n",
      "identity, size = 4\n",
      "identity, size = 5\n",
      "identity, size = 4\n",
      "identity, size = 4\n",
      "identity, size = 4\n",
      "identity, size = 4\n",
      "identity, size = 4\n",
      "identity, size = 5\n",
      "identity, size = 4\n",
      "identity, size = 4\n",
      "identity, size = 4\n",
      "identity, size = 5\n",
      "identity, size = 4\n",
      "identity, size = 4\n",
      "identity, size = 4\n",
      "identity, size = 4\n",
      "identity, size = 4\n",
      "identity, size = 4\n",
      "identity, size = 7\n",
      "identity, size = 4\n",
      "identity, size = 2\n",
      "L\n",
      "Norm=1.0000000000000018\n",
      "identity, size = 2\n",
      "identity, size = 4\n",
      "identity, size = 7\n",
      "identity, size = 5\n",
      "identity, size = 4\n",
      "identity, size = 5\n",
      "identity, size = 4\n",
      "identity, size = 5\n",
      "identity, size = 5\n",
      "identity, size = 4\n",
      "identity, size = 4\n",
      "identity, size = 5\n",
      "identity, size = 4\n",
      "identity, size = 4\n",
      "identity, size = 4\n",
      "identity, size = 4\n",
      "identity, size = 5\n",
      "identity, size = 5\n",
      "identity, size = 4\n",
      "identity, size = 5\n",
      "identity, size = 4\n",
      "identity, size = 4\n",
      "identity, size = 4\n",
      "identity, size = 4\n",
      "identity, size = 4\n",
      "identity, size = 5\n",
      "identity, size = 4\n",
      "identity, size = 4\n",
      "identity, size = 4\n",
      "identity, size = 5\n",
      "identity, size = 4\n",
      "identity, size = 4\n",
      "identity, size = 4\n",
      "identity, size = 4\n",
      "identity, size = 4\n",
      "identity, size = 4\n",
      "identity, size = 7\n",
      "identity, size = 4\n",
      "identity, size = 2\n",
      "identity, size = 1\n"
     ]
    },
    {
     "data": {
      "text/plain": [
       "[True,\n",
       " True,\n",
       " True,\n",
       " True,\n",
       " True,\n",
       " True,\n",
       " True,\n",
       " True,\n",
       " True,\n",
       " True,\n",
       " True,\n",
       " True,\n",
       " True,\n",
       " True,\n",
       " True,\n",
       " True,\n",
       " True,\n",
       " True,\n",
       " True,\n",
       " True,\n",
       " True,\n",
       " True,\n",
       " True,\n",
       " True,\n",
       " True,\n",
       " True,\n",
       " True,\n",
       " True,\n",
       " True,\n",
       " True,\n",
       " True,\n",
       " True,\n",
       " True,\n",
       " True,\n",
       " True,\n",
       " True,\n",
       " True,\n",
       " True,\n",
       " True,\n",
       " True]"
      ]
     },
     "execution_count": 9,
     "metadata": {},
     "output_type": "execute_result"
    }
   ],
   "source": [
    "mymps3 = mps.myMPS(mps.randMPS(40,chi=300))\n",
    "\n",
    "mymps3.bringCan(epsTrunc=1e-10,epsNorm=1e-14, chiMax=200)\n",
    "print(mymps3.curr_form)\n",
    "# print(mymps3.SV)\n",
    "# print(mymps3.SVinv)\n",
    "print(mymps3.chis)\n",
    "\n",
    "# Now set to R \n",
    "mymps3.set_form(mode='R')\n",
    "print(mymps3.curr_form)\n",
    "# So now the MPS should be normalized and in  RIGHT canonical form \n",
    "# Check by contracting some B's \n",
    "\n",
    "print(f\"Norm={mymps3.getNorm()}\")\n",
    "\n",
    "[ checkIdMatrix(ncon([m,np.conj(m)],[[-1,1,2],[-2,1,2]])) for m in mymps3.MPS ]\n",
    "\n",
    "\n",
    "mymps3.set_form(mode='L')\n",
    "print(mymps3.curr_form)\n",
    "# print(mymps3.SV)\n",
    "# print(mymps3.SVinv)\n",
    "\n",
    "\n",
    "# So now the MPS should be normalized and in  LEFT canonical form \n",
    "# Check by contracting some A's \n",
    "\n",
    "print(f\"Norm={mymps3.getNorm()}\")\n",
    "\n",
    "[ checkIdMatrix(ncon([m,np.conj(m)],[[1,-1,2],[1,-2,2]])) for m in mymps3.MPS ]\n",
    "\n",
    "# # Now set to R again \n",
    "# mymps3.set_form(mode='R')\n",
    "# print(mymps3.curr_form)\n",
    "# # So now the MPS should be normalized and in  RIGHT canonical form \n",
    "# # Check by contracting some B's \n",
    "\n",
    "# print(f\"Norm={mymps3.getNorm()}\")\n",
    "\n",
    "# [ checkIdMatrix(ncon([m,np.conj(m)],[[-1,1,2],[-2,1,2]])) for m in mymps3.MPS ]\n",
    "\n"
   ]
  },
  {
   "cell_type": "code",
   "execution_count": 10,
   "metadata": {},
   "outputs": [
    {
     "name": "stdout",
     "output_type": "stream",
     "text": [
      "0.9999999989584117\n",
      "1.0000000000000004\n",
      "[1.00000000e+00 2.84719379e-05 6.82247474e-08 4.59255367e-09\n",
      " 1.66368874e-10]\n",
      "1.0000000000000004\n",
      "[1.00000000e+00 3.51223019e+04 1.46574379e+07 2.17743781e+08\n",
      " 6.01073973e+09]\n",
      "6014700267.230909\n"
     ]
    }
   ],
   "source": [
    "m =mymps3.MPS[8]\n",
    "np.real_if_close(np.around(ncon([m,np.conj(m)],[[1,-1,2],[1,-2,2]]),12))\n",
    "\n",
    "print(mymps3.SV[7][0])\n",
    "print(np.linalg.norm((mymps3.SV[7])))\n",
    "print(mymps3.SV[8])\n",
    "print(np.linalg.norm((mymps3.SV[8])))\n",
    "print(mymps3.SVinv[8])\n",
    "print(np.linalg.norm((mymps3.SVinv[8])))"
   ]
  },
  {
   "cell_type": "markdown",
   "metadata": {},
   "source": [
    "## Try computing an expectation value, first the \"hard\" way (ncon the whole thing), then using the right-canonical expression"
   ]
  },
  {
   "cell_type": "code",
   "execution_count": 11,
   "metadata": {},
   "outputs": [
    {
     "name": "stdout",
     "output_type": "stream",
     "text": [
      "Exp value the hard way: \n",
      "0.983674957343944\n",
      "Second way: apply the op to the relevant site, then compute the overlap with itself\n",
      "0.9836749573439441\n",
      " Now compute it with the canonical form \n",
      "3 sweeps\n",
      "(8, 8)\n",
      "(8, 8)\n",
      "(8, 8, 2)\n",
      "(8, 8, 2)\n",
      "(2, 2)\n",
      "5 5\n",
      "0.983674957343945\n"
     ]
    }
   ],
   "source": [
    "# Try to do it a bit better, define separately psi and psi*\n",
    "# and compute the norm \n",
    "\n",
    "testL = 12\n",
    "testd = 2\n",
    "testChi = 8\n",
    "\n",
    "mps1 = mps.randMPS(testL,chi=testChi, d=testd)\n",
    "\n",
    "mypsi = mps.myMPS(mps1)\n",
    "#mypsic = mps.myMPS([np.conj(m) for m in mps1])\n",
    "\n",
    "# make two copies for later messing around \n",
    "mypsic1 = copy.deepcopy(mypsi)\n",
    "mypsic1conj = mps.myMPS([np.conj(m) for m in mypsic1.MPS])\n",
    "\n",
    "mypsic2 = copy.deepcopy(mypsi)\n",
    "\n",
    "\n",
    "# Now define the operator to exp-value,\n",
    "# say we wanna compute <sigma_x> \n",
    "op1 = np.array([[0,1.],[1.,0]])\n",
    "\n",
    "# at site r = 3 \n",
    "\n",
    "print(\"Exp value the hard way: \")\n",
    "\n",
    "insertjj = 3 \n",
    "tryind = [[1,3,2]]\n",
    "tryind.append([1,4,2])\n",
    "\n",
    "for jj in range(1,testL):\n",
    "    tj = 3*jj\n",
    "    if jj == insertjj: # horrible hack \n",
    "        tryind.append([tj,tj+3,tj+2])\n",
    "        tryind.append([tj+2,9999])\n",
    "        tryind.append([tj+1,tj+4,9999])\n",
    "    else:\n",
    "        tryind.append([tj,tj+3,tj+2])\n",
    "        tryind.append([tj+1,tj+4,tj+2])\n",
    "\n",
    "tryind[-2][1] = tryind[-1][1]\n",
    "\n",
    "opList = []\n",
    "for jj, m in enumerate(mypsi.MPS):\n",
    "    if jj == insertjj:\n",
    "        opList.append(m)\n",
    "        opList.append(op1)\n",
    "        opList.append(m.conj())\n",
    "    else:\n",
    "        opList.append(m)\n",
    "        opList.append(m.conj())\n",
    "\n",
    "ev = ncon(opList,tryind)\n",
    "\n",
    "#print(tryind )\n",
    "print(np.real_if_close(ev/mypsi.getNormSlow() ))\n",
    "#print(np.real_if_close(ev/mypsi.getNorm() ))\n",
    "\n",
    "print(\"Second way: apply the op to the relevant site, then compute the overlap with itself\")\n",
    "mypsic1.MPS[3] = ncon([op1,mypsic1.MPS[3]],[[-3,1],[-1,-2,1]])\n",
    "expvaloverlap = mypsic1.overlap(mypsic1conj) \n",
    "print(np.real_if_close(expvaloverlap/mypsic1.getNormSlow() ))\n",
    "\n",
    "print(\" Now compute it with the canonical form \")\n",
    "\n",
    "mypsic2.set_form('R')\n",
    "\n",
    "conTen = [np.diag(mypsic2.SV[3]),np.diag(mypsic2.SV[3]),mypsic2.MPS[3],np.conj(mypsic2.MPS[3]),op1]\n",
    "conIdx = [[1,2],[1,3],[3,5,4],[2,5,6],[4,6]]\n",
    "\n",
    "[print(np.shape(elem)) for elem in conTen]\n",
    "print(len(conTen),len(conIdx))\n",
    "\n",
    "print(np.real_if_close(ncon(conTen,conIdx)))\n"
   ]
  },
  {
   "cell_type": "markdown",
   "metadata": {},
   "source": [
    "# build and test environments"
   ]
  },
  {
   "cell_type": "code",
   "execution_count": 12,
   "metadata": {},
   "outputs": [],
   "source": [
    "o = mpo.myMPO(isi.IsingMPO(LL = 20))\n",
    "\n",
    "psi = mps.myMPS(mps.randMPS(LL=o.LL))"
   ]
  },
  {
   "cell_type": "code",
   "execution_count": 13,
   "metadata": {},
   "outputs": [
    {
     "name": "stdout",
     "output_type": "stream",
     "text": [
      "3 sweeps\n",
      "-7.541504759916814\n",
      "0 -7.541504759916804\n",
      "1 -7.541504759916805\n",
      "2 -7.541504759916807\n",
      "3 -7.541504759916806\n",
      "4 -7.541504759916805\n",
      "5 -7.541504759916805\n",
      "6 -7.541504759916804\n",
      "7 -7.541504759916806\n",
      "8 -7.541504759916805\n",
      "9 -7.541504759916807\n",
      "10 -7.541504759916806\n",
      "11 -7.541504759916807\n",
      "12 -7.541504759916808\n",
      "13 -7.5415047599168075\n",
      "14 -7.5415047599168075\n",
      "15 -7.541504759916808\n",
      "16 -7.541504759916808\n",
      "17 -7.541504759916807\n",
      "18 -7.541504759916807\n",
      "19 -7.541504759916807\n"
     ]
    }
   ],
   "source": [
    "le, re = envs.build_environments(psi, o)\n",
    "\n",
    "print(mpomps.expValMPO(psi, o))\n",
    "\n",
    "for j in range(0,psi.LL):\n",
    "    #print(np.shape(le[j]), np.shape(re[j]), np.shape(re[j+1]))\n",
    "    expval = np.real_if_close(ncon([le[j],re[j]],[[1,2,3],[1,2,3]]))\n",
    "    print(j, expval)\n"
   ]
  },
  {
   "cell_type": "code",
   "execution_count": 14,
   "metadata": {},
   "outputs": [
    {
     "name": "stdout",
     "output_type": "stream",
     "text": [
      "[[[-7.54150476]]]\n"
     ]
    }
   ],
   "source": [
    "print(rc(le[-1])) # should be a number"
   ]
  },
  {
   "cell_type": "code",
   "execution_count": null,
   "metadata": {},
   "outputs": [],
   "source": []
  }
 ],
 "metadata": {
  "interpreter": {
   "hash": "aee8b7b246df8f9039afb4144a1f6fd8d2ca17a180786b69acc140d282b71a49"
  },
  "kernelspec": {
   "display_name": "Python 3.9.10 64-bit",
   "language": "python",
   "name": "python3"
  },
  "language_info": {
   "codemirror_mode": {
    "name": "ipython",
    "version": 3
   },
   "file_extension": ".py",
   "mimetype": "text/x-python",
   "name": "python",
   "nbconvert_exporter": "python",
   "pygments_lexer": "ipython3",
   "version": "3.10.6"
  },
  "orig_nbformat": 4
 },
 "nbformat": 4,
 "nbformat_minor": 2
}
