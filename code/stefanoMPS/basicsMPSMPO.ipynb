{
 "cells": [
  {
   "cell_type": "markdown",
   "metadata": {},
   "source": [
    "# MPS canonical forms "
   ]
  },
  {
   "cell_type": "code",
   "execution_count": 1,
   "metadata": {},
   "outputs": [],
   "source": [
    "%load_ext autoreload\n",
    "%autoreload 2\n"
   ]
  },
  {
   "cell_type": "code",
   "execution_count": 2,
   "metadata": {},
   "outputs": [],
   "source": [
    "\n",
    "\n",
    "import numpy as np\n",
    "from tensornetwork import ncon\n",
    "import logging\n",
    "\n",
    "\n",
    "\n",
    "logging.basicConfig()\n",
    "logger = logging.getLogger('Something')\n",
    "logger.setLevel(logging.DEBUG)\n",
    "\n",
    "\n",
    "import copy "
   ]
  },
  {
   "cell_type": "code",
   "execution_count": 3,
   "metadata": {},
   "outputs": [],
   "source": [
    "\n",
    "import myMPSstuff as mps\n",
    "import myMPOstuff as mpo\n",
    "\n",
    "from matrixUtils import checkIdMatrix\n",
    "\n"
   ]
  },
  {
   "cell_type": "code",
   "execution_count": 4,
   "metadata": {},
   "outputs": [
    {
     "name": "stdout",
     "output_type": "stream",
     "text": [
      "Entropies=  [0.0, 4.829998516205387e-05, 1.9779360346658478e-07, 1.736505974043932e-07, 1.126631896853777e-08, 8.500440208979441e-07, 1.6636804517372122e-07, 6.209827349186839e-07, 7.084753982714019e-07, 4.078496228242625e-05, 0.0]\n"
     ]
    }
   ],
   "source": [
    "\n",
    "test2 = mps.myMPS(mps.randMPS(chi=100))\n",
    "print(f\"Entropies=  {test2.getEntropies()}\")\n"
   ]
  },
  {
   "cell_type": "code",
   "execution_count": 5,
   "metadata": {},
   "outputs": [
    {
     "name": "stdout",
     "output_type": "stream",
     "text": [
      "Ising MPO, parameters: J=1 g=0.4,  shapes:\n",
      "[(1, 3, 2, 2), (3, 3, 2, 2), (3, 3, 2, 2), (3, 3, 2, 2), (3, 3, 2, 2), (3, 3, 2, 2), (3, 3, 2, 2), (3, 3, 2, 2), (3, 3, 2, 2), (3, 1, 2, 2)]\n"
     ]
    }
   ],
   "source": [
    "\n",
    "testMPO = mpo.myMPO(mpo.IsingMPO(LL=10, J = 1, g = 0.4))\n",
    "#print(testMPO.getIndices())"
   ]
  },
  {
   "cell_type": "code",
   "execution_count": 6,
   "metadata": {},
   "outputs": [
    {
     "name": "stdout",
     "output_type": "stream",
     "text": [
      "[1, 20, 20, 20, 20, 20, 20, 1]\n",
      "[(1, 20, 2), (20, 20, 2), (20, 20, 2), (20, 20, 2), (20, 20, 2), (20, 20, 2), (20, 1, 2)]\n",
      "(3853171256171380+0.0859375j)\n",
      "3853171256171380.5\n"
     ]
    }
   ],
   "source": [
    "\n",
    "#mpstest = np.random.rand(4,7,3,7)\n",
    "\n",
    "test = mps.myMPS()\n",
    "\n",
    "print(test.chis)\n",
    "print([np.shape(s) for s in test.MPS])\n",
    "\n",
    "print(test.getNormSlow())\n",
    "print(test.getNorm())\n",
    "\n"
   ]
  },
  {
   "cell_type": "code",
   "execution_count": 7,
   "metadata": {},
   "outputs": [
    {
     "name": "stdout",
     "output_type": "stream",
     "text": [
      "[1, 1, 1, 1, 1, 1, 1, 1, 1, 1, 1]\n",
      "[(1, 1, 2), (1, 1, 2), (1, 1, 2), (1, 1, 2), (1, 1, 2), (1, 1, 2), (1, 1, 2), (1, 1, 2), (1, 1, 2), (1, 1, 2)]\n",
      "0.9999999999999978\n",
      "0.9999999999999984\n",
      "[0.0, 0.0, 0.0, 0.0, 0.0, 0.0, 0.0, 0.0, 0.0, 0.0, 0.0]\n"
     ]
    }
   ],
   "source": [
    "test = mps.myMPS(mps.plusState(10))\n",
    "\n",
    "print(test.chis)\n",
    "print([np.shape(s) for s in test.MPS])\n",
    "\n",
    "# the state should be normalized already \n",
    "print(test.getNormSlow())\n",
    "print(test.getNorm())\n",
    "\n",
    "test.bringCan()\n",
    "print(test.getEntropies())  # should be zero for a prod state\n",
    "\n"
   ]
  },
  {
   "cell_type": "code",
   "execution_count": 8,
   "metadata": {},
   "outputs": [
    {
     "name": "stdout",
     "output_type": "stream",
     "text": [
      "(3853171256171380+0.0859375j)\n",
      "3853171256171380.5\n"
     ]
    },
    {
     "data": {
      "text/plain": [
       "'R'"
      ]
     },
     "execution_count": 8,
     "metadata": {},
     "output_type": "execute_result"
    }
   ],
   "source": [
    "test = mps.myMPS()\n",
    "print(test.getNormSlow())\n",
    "\n",
    "print(test.getNorm())\n",
    "test.bringCan()"
   ]
  },
  {
   "cell_type": "code",
   "execution_count": 9,
   "metadata": {},
   "outputs": [
    {
     "name": "stdout",
     "output_type": "stream",
     "text": [
      "Entropies=  [0.0, 1.0507781804625003e-06, 4.5395212932700594e-08, 6.18394486751068e-08, 2.8159296341644437e-09, 3.1013983482497284e-08, 5.350895276282465e-08, 2.7579413936564797e-08, 1.839786187933455e-08, 4.6922339601826875e-08, 1.6974636176776982e-08, 7.493079711378727e-08, 5.695102935961323e-08, 1.4208561900172424e-08, 6.542566147663851e-08, 2.5545545430923548e-08, 1.301413527306575e-08, 1.0134726710795046e-07, 5.2002173099468896e-08, 1.4958262609650796e-06, 0.0]\n"
     ]
    }
   ],
   "source": [
    "\n",
    "\n",
    "test3 = mps.myMPS(mps.randMPS(LL=20, chi=200))\n",
    "print(f\"Entropies=  {test3.getEntropies()}\")\n",
    "\n",
    "testMPO = mpo.myMPO()\n",
    "#print(testMPO.getIndices())\n",
    "\n"
   ]
  },
  {
   "cell_type": "code",
   "execution_count": null,
   "metadata": {},
   "outputs": [],
   "source": []
  },
  {
   "cell_type": "markdown",
   "metadata": {},
   "source": [
    "## Check that we're actually in proper L-R canon forms by contracting a bit and see if we recover identity matrices and normalizations "
   ]
  },
  {
   "cell_type": "code",
   "execution_count": 10,
   "metadata": {},
   "outputs": [
    {
     "name": "stdout",
     "output_type": "stream",
     "text": [
      "Norm=1.0000000000000009\n",
      "identity, size = 2\n",
      "identity, size = 4\n",
      "identity, size = 4\n",
      "identity, size = 4\n",
      "identity, size = 4\n",
      "identity, size = 4\n",
      "identity, size = 4\n",
      "identity, size = 4\n",
      "identity, size = 2\n",
      "identity, size = 1\n"
     ]
    },
    {
     "data": {
      "text/plain": [
       "[True, True, True, True, True, True, True, True, True, True]"
      ]
     },
     "execution_count": 10,
     "metadata": {},
     "output_type": "execute_result"
    }
   ],
   "source": [
    "mymps3 = mps.myMPS(mps.randMPS(10,chi=30))\n",
    "\n",
    "mymps3.bringCan(mode='L',epsTrunc=1e-6)\n",
    "\n",
    "\n",
    "# So now the MPS should be normalized and in  LEFT canonical form \n",
    "# Check by contracting some A's \n",
    "\n",
    "print(f\"Norm={mymps3.getNorm()}\")\n",
    "\n",
    "mp = mymps3.MPS\n",
    "sv = mymps3.SV\n",
    "svinv = mymps3.SVinv\n",
    "\n",
    "\n",
    "[ checkIdMatrix(ncon([m,np.conj(m)],[[1,-1,2],[1,-2,2]])) for m in mymps3.MPS ]\n",
    "\n",
    "# Looks good \n",
    "\n",
    "\n"
   ]
  },
  {
   "cell_type": "markdown",
   "metadata": {},
   "source": [
    "## Try computing an expectation value, first the \"hard\" way (ncon the whole thing), then using the right-canonical expression"
   ]
  },
  {
   "cell_type": "code",
   "execution_count": 11,
   "metadata": {},
   "outputs": [
    {
     "name": "stdout",
     "output_type": "stream",
     "text": [
      "<class 'myMPSstuff.myMPS'> <class 'myMPSstuff.myMPS'>\n",
      "Exp value the hard way: \n",
      "0.9882075987428638\n",
      "Second way: apply the op to the relevant site, then compute the overlap with itself\n",
      "0.9882075987428641\n",
      " Now compute it with the canonical form \n",
      "(8, 8)\n",
      "(8, 8)\n",
      "(8, 8, 2)\n",
      "(8, 8, 2)\n",
      "(2, 2)\n",
      "5 5\n",
      "0.9882075987428642\n"
     ]
    }
   ],
   "source": [
    "# Try to do it a bit better, define separately psi and psi*\n",
    "# and compute the norm \n",
    "\n",
    "testL = 12\n",
    "testd = 2\n",
    "testChi = 8\n",
    "\n",
    "mps1 = mps.randMPS(testL,chi=testChi, d=testd)\n",
    "\n",
    "mypsi = mps.myMPS(mps1)\n",
    "#mypsic = mps.myMPS([np.conj(m) for m in mps1])\n",
    "\n",
    "# make two copies for later messing around \n",
    "mypsic1 = copy.deepcopy(mypsi)\n",
    "mypsic1conj = mps.myMPS([np.conj(m) for m in mypsic1.MPS])\n",
    "\n",
    "mypsic2 = copy.deepcopy(mypsi)\n",
    "\n",
    "print(type(mypsi),type(mypsic1))\n",
    "\n",
    "# Now define the operator to exp-value,\n",
    "# say we wanna compute <sigma_x> \n",
    "op1 = np.array([[0,1.],[1.,0]])\n",
    "\n",
    "# at site r = 3 \n",
    "\n",
    "print(\"Exp value the hard way: \")\n",
    "\n",
    "insertjj = 3 \n",
    "tryind = [[1,3,2]]\n",
    "tryind.append([1,4,2])\n",
    "\n",
    "for jj in range(1,testL):\n",
    "    tj = 3*jj\n",
    "    if jj == insertjj: # horrible hack \n",
    "        tryind.append([tj,tj+3,tj+2])\n",
    "        tryind.append([tj+2,9999])\n",
    "        tryind.append([tj+1,tj+4,9999])\n",
    "    else:\n",
    "        tryind.append([tj,tj+3,tj+2])\n",
    "        tryind.append([tj+1,tj+4,tj+2])\n",
    "\n",
    "tryind[-2][1] = tryind[-1][1]\n",
    "\n",
    "opList = []\n",
    "for jj, m in enumerate(mypsi.MPS):\n",
    "    if jj == insertjj:\n",
    "        opList.append(m)\n",
    "        opList.append(op1)\n",
    "        opList.append(m.conj())\n",
    "    else:\n",
    "        opList.append(m)\n",
    "        opList.append(m.conj())\n",
    "\n",
    "ev = ncon(opList,tryind)\n",
    "\n",
    "#print(tryind )\n",
    "print(np.real_if_close(ev/mypsi.getNormSlow() ))\n",
    "#print(np.real_if_close(ev/mypsi.getNorm() ))\n",
    "\n",
    "print(\"Second way: apply the op to the relevant site, then compute the overlap with itself\")\n",
    "mypsic1.MPS[3] = ncon([op1,mypsic1.MPS[3]],[[-3,1],[-1,-2,1]])\n",
    "expvaloverlap = mypsic1.overlap(mypsic1conj) \n",
    "print(np.real_if_close(expvaloverlap/mypsic1.getNormSlow() ))\n",
    "\n",
    "print(\" Now compute it with the canonical form \")\n",
    "\n",
    "mypsic2.bringCan(mode='R',epsTrunc=1e-12)\n",
    "\n",
    "conTen = [np.diag(mypsic2.SV[3]),np.diag(mypsic2.SV[3]),mypsic2.MPS[3],np.conj(mypsic2.MPS[3]),op1]\n",
    "conIdx = [[1,2],[1,3],[3,5,4],[2,5,6],[4,6]]\n",
    "\n",
    "[print(np.shape(elem)) for elem in conTen]\n",
    "print(len(conTen),len(conIdx))\n",
    "\n",
    "print(np.real_if_close(ncon(conTen,conIdx)))\n"
   ]
  },
  {
   "cell_type": "code",
   "execution_count": null,
   "metadata": {},
   "outputs": [],
   "source": []
  }
 ],
 "metadata": {
  "interpreter": {
   "hash": "aee8b7b246df8f9039afb4144a1f6fd8d2ca17a180786b69acc140d282b71a49"
  },
  "kernelspec": {
   "display_name": "Python 3.9.10 64-bit",
   "language": "python",
   "name": "python3"
  },
  "language_info": {
   "codemirror_mode": {
    "name": "ipython",
    "version": 3
   },
   "file_extension": ".py",
   "mimetype": "text/x-python",
   "name": "python",
   "nbconvert_exporter": "python",
   "pygments_lexer": "ipython3",
   "version": "3.9.13"
  },
  "orig_nbformat": 4
 },
 "nbformat": 4,
 "nbformat_minor": 2
}
