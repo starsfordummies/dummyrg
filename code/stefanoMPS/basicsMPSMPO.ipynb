{
 "cells": [
  {
   "cell_type": "markdown",
   "metadata": {},
   "source": [
    "# MPS canonical forms "
   ]
  },
  {
   "cell_type": "code",
   "execution_count": 1,
   "metadata": {},
   "outputs": [],
   "source": [
    "%load_ext autoreload\n",
    "%autoreload 2\n"
   ]
  },
  {
   "cell_type": "code",
   "execution_count": 2,
   "metadata": {},
   "outputs": [],
   "source": [
    "\n",
    "\n",
    "import numpy as np\n",
    "from tensornetwork import ncon\n",
    "import logging\n",
    "\n",
    "\n",
    "\n",
    "logging.basicConfig()\n",
    "logger = logging.getLogger('Something')\n",
    "logger.setLevel(logging.DEBUG)\n",
    "\n",
    "\n",
    "import copy "
   ]
  },
  {
   "cell_type": "code",
   "execution_count": 3,
   "metadata": {},
   "outputs": [],
   "source": [
    "\n",
    "import myMPSstuff as mps\n",
    "import myMPOstuff as mpo\n",
    "\n",
    "import isingMPO as isi\n",
    "from matrixUtils import checkIdMatrix\n",
    "\n"
   ]
  },
  {
   "cell_type": "code",
   "execution_count": 4,
   "metadata": {},
   "outputs": [
    {
     "name": "stderr",
     "output_type": "stream",
     "text": [
      "WARNING:root:Putting in canonical form and truncating at 100\n"
     ]
    },
    {
     "name": "stdout",
     "output_type": "stream",
     "text": [
      "Entropies=  [0.0, 8.280730220766956e-06, 2.1142041567131908e-07, 1.8250108096141917e-06, 2.8222274702988566e-07, 1.575621695936895e-07, 3.3184451420153265e-07, 9.284042107582242e-07, 1.1339747333867862e-06, 6.7519349174026685e-06, 0.0]\n"
     ]
    }
   ],
   "source": [
    "\n",
    "test2 = mps.myMPS(mps.randMPS(chi=100))\n",
    "print(f\"Entropies=  {test2.getEntropies()}\")\n"
   ]
  },
  {
   "cell_type": "code",
   "execution_count": 5,
   "metadata": {},
   "outputs": [],
   "source": [
    "\n",
    "testMPO = mpo.myMPO(isi.IsingMPO(LL=10, J = 1, g = 0.4))\n"
   ]
  },
  {
   "cell_type": "code",
   "execution_count": 6,
   "metadata": {},
   "outputs": [
    {
     "name": "stdout",
     "output_type": "stream",
     "text": [
      "[1, 20, 20, 20, 20, 20, 20, 1]\n",
      "[(1, 20, 2), (20, 20, 2), (20, 20, 2), (20, 20, 2), (20, 20, 2), (20, 20, 2), (20, 1, 2)]\n",
      "(5229041450065621+0.0234375j)\n",
      "5229041450065621.0\n"
     ]
    }
   ],
   "source": [
    "\n",
    "#mpstest = np.random.rand(4,7,3,7)\n",
    "\n",
    "test = mps.myMPS()\n",
    "\n",
    "print(test.chis)\n",
    "print([np.shape(s) for s in test.MPS])\n",
    "\n",
    "print(test.getNormSlow())\n",
    "print(test.getNorm())\n",
    "\n"
   ]
  },
  {
   "cell_type": "code",
   "execution_count": 7,
   "metadata": {},
   "outputs": [
    {
     "name": "stdout",
     "output_type": "stream",
     "text": [
      "[1, 1, 1, 1, 1, 1, 1, 1, 1, 1, 1]\n",
      "[(1, 1, 2), (1, 1, 2), (1, 1, 2), (1, 1, 2), (1, 1, 2), (1, 1, 2), (1, 1, 2), (1, 1, 2), (1, 1, 2), (1, 1, 2)]\n",
      "0.9999999999999978\n",
      "0.9999999999999984\n",
      "[0.0, 0.0, 0.0, 0.0, 0.0, 0.0, 0.0, 0.0, 0.0, 0.0, 0.0]\n"
     ]
    }
   ],
   "source": [
    "test = mps.myMPS(mps.plusState(10))\n",
    "\n",
    "print(test.chis)\n",
    "print([np.shape(s) for s in test.MPS])\n",
    "\n",
    "# the state should be normalized already \n",
    "print(test.getNormSlow())\n",
    "print(test.getNorm())\n",
    "\n",
    "test.bringCan()\n",
    "print(test.getEntropies())  # should be zero for a prod state\n",
    "\n"
   ]
  },
  {
   "cell_type": "code",
   "execution_count": 8,
   "metadata": {},
   "outputs": [
    {
     "name": "stdout",
     "output_type": "stream",
     "text": [
      "(5229041450065621+0.0234375j)\n",
      "5229041450065621.0\n"
     ]
    },
    {
     "data": {
      "text/plain": [
       "'R'"
      ]
     },
     "execution_count": 8,
     "metadata": {},
     "output_type": "execute_result"
    }
   ],
   "source": [
    "test = mps.myMPS()\n",
    "print(test.getNormSlow())\n",
    "\n",
    "print(test.getNorm())\n",
    "test.bringCan()"
   ]
  },
  {
   "cell_type": "code",
   "execution_count": 9,
   "metadata": {},
   "outputs": [
    {
     "name": "stderr",
     "output_type": "stream",
     "text": [
      "WARNING:root:Putting in canonical form and truncating at 200\n"
     ]
    },
    {
     "name": "stdout",
     "output_type": "stream",
     "text": [
      "Entropies=  [0.0, 1.7774442069489657e-05, 2.1843432184513955e-07, 6.082796114688316e-08, 1.0635113170209364e-07, 1.586448683825531e-08, 1.1800184139582515e-08, 1.0941990339828066e-07, 2.866300213772028e-08, 1.1684226675991084e-07, 1.1839618413182704e-08, 6.417239608337313e-08, 2.942784324269051e-07, 4.354952781163115e-08, 2.1265277011193277e-08, 6.63258903243965e-08, 4.946892364132572e-08, 2.8996637111027522e-08, 4.133591453773981e-08, 4.780491141203311e-06, 0.0]\n"
     ]
    }
   ],
   "source": [
    "\n",
    "\n",
    "test3 = mps.myMPS(mps.randMPS(LL=20, chi=200))\n",
    "print(f\"Entropies=  {test3.getEntropies()}\")\n",
    "\n",
    "testMPO = mpo.myMPO()\n",
    "#print(testMPO.getIndices())\n",
    "\n"
   ]
  },
  {
   "cell_type": "code",
   "execution_count": null,
   "metadata": {},
   "outputs": [],
   "source": []
  },
  {
   "cell_type": "markdown",
   "metadata": {},
   "source": [
    "## Check that we're actually in proper L-R canon forms by contracting a bit and see if we recover identity matrices and normalizations "
   ]
  },
  {
   "cell_type": "code",
   "execution_count": 10,
   "metadata": {},
   "outputs": [
    {
     "name": "stdout",
     "output_type": "stream",
     "text": [
      "Norm=0.9999999999999997\n",
      "identity, size = 2\n",
      "identity, size = 4\n",
      "identity, size = 4\n",
      "identity, size = 4\n",
      "identity, size = 4\n",
      "identity, size = 4\n",
      "identity, size = 5\n",
      "identity, size = 4\n",
      "identity, size = 2\n",
      "identity, size = 1\n"
     ]
    },
    {
     "data": {
      "text/plain": [
       "[True, True, True, True, True, True, True, True, True, True]"
      ]
     },
     "execution_count": 10,
     "metadata": {},
     "output_type": "execute_result"
    }
   ],
   "source": [
    "mymps3 = mps.myMPS(mps.randMPS(10,chi=30))\n",
    "\n",
    "mymps3.bringCan(epsTrunc=1e-6)\n",
    "mymps3.set_form(mode='L')\n",
    "\n",
    "\n",
    "# So now the MPS should be normalized and in  LEFT canonical form \n",
    "# Check by contracting some A's \n",
    "\n",
    "print(f\"Norm={mymps3.getNorm()}\")\n",
    "\n",
    "mp = mymps3.MPS\n",
    "sv = mymps3.SV\n",
    "svinv = mymps3.SVinv\n",
    "\n",
    "\n",
    "[ checkIdMatrix(ncon([m,np.conj(m)],[[1,-1,2],[1,-2,2]])) for m in mymps3.MPS ]\n",
    "\n",
    "# Looks good \n",
    "\n",
    "\n"
   ]
  },
  {
   "cell_type": "markdown",
   "metadata": {},
   "source": [
    "## Try computing an expectation value, first the \"hard\" way (ncon the whole thing), then using the right-canonical expression"
   ]
  },
  {
   "cell_type": "code",
   "execution_count": 11,
   "metadata": {},
   "outputs": [
    {
     "name": "stdout",
     "output_type": "stream",
     "text": [
      "<class 'myMPSstuff.myMPS'> <class 'myMPSstuff.myMPS'>\n",
      "Exp value the hard way: \n",
      "0.9930584024130452\n",
      "Second way: apply the op to the relevant site, then compute the overlap with itself\n",
      "0.9930584024130451\n",
      " Now compute it with the canonical form \n",
      "MPS not canonical, bringing to canon form\n",
      "(8, 8)\n",
      "(8, 8)\n",
      "(8, 8, 2)\n",
      "(8, 8, 2)\n",
      "(2, 2)\n",
      "5 5\n",
      "0.9930584024130418\n"
     ]
    }
   ],
   "source": [
    "# Try to do it a bit better, define separately psi and psi*\n",
    "# and compute the norm \n",
    "\n",
    "testL = 12\n",
    "testd = 2\n",
    "testChi = 8\n",
    "\n",
    "mps1 = mps.randMPS(testL,chi=testChi, d=testd)\n",
    "\n",
    "mypsi = mps.myMPS(mps1)\n",
    "#mypsic = mps.myMPS([np.conj(m) for m in mps1])\n",
    "\n",
    "# make two copies for later messing around \n",
    "mypsic1 = copy.deepcopy(mypsi)\n",
    "mypsic1conj = mps.myMPS([np.conj(m) for m in mypsic1.MPS])\n",
    "\n",
    "mypsic2 = copy.deepcopy(mypsi)\n",
    "\n",
    "print(type(mypsi),type(mypsic1))\n",
    "\n",
    "# Now define the operator to exp-value,\n",
    "# say we wanna compute <sigma_x> \n",
    "op1 = np.array([[0,1.],[1.,0]])\n",
    "\n",
    "# at site r = 3 \n",
    "\n",
    "print(\"Exp value the hard way: \")\n",
    "\n",
    "insertjj = 3 \n",
    "tryind = [[1,3,2]]\n",
    "tryind.append([1,4,2])\n",
    "\n",
    "for jj in range(1,testL):\n",
    "    tj = 3*jj\n",
    "    if jj == insertjj: # horrible hack \n",
    "        tryind.append([tj,tj+3,tj+2])\n",
    "        tryind.append([tj+2,9999])\n",
    "        tryind.append([tj+1,tj+4,9999])\n",
    "    else:\n",
    "        tryind.append([tj,tj+3,tj+2])\n",
    "        tryind.append([tj+1,tj+4,tj+2])\n",
    "\n",
    "tryind[-2][1] = tryind[-1][1]\n",
    "\n",
    "opList = []\n",
    "for jj, m in enumerate(mypsi.MPS):\n",
    "    if jj == insertjj:\n",
    "        opList.append(m)\n",
    "        opList.append(op1)\n",
    "        opList.append(m.conj())\n",
    "    else:\n",
    "        opList.append(m)\n",
    "        opList.append(m.conj())\n",
    "\n",
    "ev = ncon(opList,tryind)\n",
    "\n",
    "#print(tryind )\n",
    "print(np.real_if_close(ev/mypsi.getNormSlow() ))\n",
    "#print(np.real_if_close(ev/mypsi.getNorm() ))\n",
    "\n",
    "print(\"Second way: apply the op to the relevant site, then compute the overlap with itself\")\n",
    "mypsic1.MPS[3] = ncon([op1,mypsic1.MPS[3]],[[-3,1],[-1,-2,1]])\n",
    "expvaloverlap = mypsic1.overlap(mypsic1conj) \n",
    "print(np.real_if_close(expvaloverlap/mypsic1.getNormSlow() ))\n",
    "\n",
    "print(\" Now compute it with the canonical form \")\n",
    "\n",
    "mypsic2.set_form('R')\n",
    "\n",
    "conTen = [np.diag(mypsic2.SV[3]),np.diag(mypsic2.SV[3]),mypsic2.MPS[3],np.conj(mypsic2.MPS[3]),op1]\n",
    "conIdx = [[1,2],[1,3],[3,5,4],[2,5,6],[4,6]]\n",
    "\n",
    "[print(np.shape(elem)) for elem in conTen]\n",
    "print(len(conTen),len(conIdx))\n",
    "\n",
    "print(np.real_if_close(ncon(conTen,conIdx)))\n"
   ]
  },
  {
   "cell_type": "code",
   "execution_count": null,
   "metadata": {},
   "outputs": [],
   "source": []
  }
 ],
 "metadata": {
  "interpreter": {
   "hash": "aee8b7b246df8f9039afb4144a1f6fd8d2ca17a180786b69acc140d282b71a49"
  },
  "kernelspec": {
   "display_name": "Python 3.9.10 64-bit",
   "language": "python",
   "name": "python3"
  },
  "language_info": {
   "codemirror_mode": {
    "name": "ipython",
    "version": 3
   },
   "file_extension": ".py",
   "mimetype": "text/x-python",
   "name": "python",
   "nbconvert_exporter": "python",
   "pygments_lexer": "ipython3",
   "version": "3.9.13"
  },
  "orig_nbformat": 4
 },
 "nbformat": 4,
 "nbformat_minor": 2
}
