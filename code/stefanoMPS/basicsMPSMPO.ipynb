{
 "cells": [
  {
   "cell_type": "markdown",
   "metadata": {},
   "source": [
    "# MPS canonical forms "
   ]
  },
  {
   "cell_type": "code",
   "execution_count": 1,
   "metadata": {},
   "outputs": [],
   "source": [
    "%load_ext autoreload\n",
    "%autoreload 2\n"
   ]
  },
  {
   "cell_type": "code",
   "execution_count": null,
   "metadata": {},
   "outputs": [],
   "source": [
    "\n"
   ]
  },
  {
   "cell_type": "code",
   "execution_count": 2,
   "metadata": {},
   "outputs": [],
   "source": [
    "\n",
    "import numpy as np\n",
    "\n",
    "import copy \n",
    "\n",
    "import myMPSstuff as mps\n",
    "import myMPOstuff as mpo\n",
    "\n",
    "import myIsingMPO as isi\n",
    "import myMPOMPS as mpomps\n",
    "\n",
    "from myUtils import sncon as ncon\n",
    "from myUtils import real_close as rc\n",
    "from myUtils import checkIdMatrix\n",
    "\n",
    "import myEnvironmentsMPO as envs\n",
    "\n"
   ]
  },
  {
   "cell_type": "code",
   "execution_count": 3,
   "metadata": {},
   "outputs": [
    {
     "name": "stderr",
     "output_type": "stream",
     "text": [
      "WARNING:root:Putting in canonical form and truncating at 100\n"
     ]
    },
    {
     "name": "stdout",
     "output_type": "stream",
     "text": [
      "Entropies=  [0.0, 1.3222656501872186e-05, 8.096534644701398e-07, 7.8723506315777e-07, 1.1737047584651014e-07, 6.438246046194521e-08, 2.569399823963767e-07, 9.721000449553574e-08, 1.199602076941477e-06, 9.861370787303927e-06, 6.661338147750936e-16]\n",
      "<class 'myMPSstuff.myMPS'>\n",
      "<class 'list'>\n"
     ]
    }
   ],
   "source": [
    "\n",
    "test2 = mps.myMPS(mps.randMPS(chi=100))\n",
    "print(f\"Entropies=  {test2.getEntropies()}\")\n",
    "\n",
    "print(type(test2))\n",
    "print(type(test2.MPS))\n"
   ]
  },
  {
   "cell_type": "code",
   "execution_count": 4,
   "metadata": {},
   "outputs": [],
   "source": [
    "\n",
    "testMPO = mpo.myMPO(isi.IsingMPO(LL=10, J = 1, g = 0.4))\n"
   ]
  },
  {
   "cell_type": "code",
   "execution_count": 5,
   "metadata": {},
   "outputs": [
    {
     "name": "stdout",
     "output_type": "stream",
     "text": [
      "[1, 20, 20, 20, 20, 20, 20, 1]\n",
      "[(1, 20, 2), (20, 20, 2), (20, 20, 2), (20, 20, 2), (20, 20, 2), (20, 20, 2), (20, 1, 2)]\n",
      "(71634487.91145544+1.0906059675692416e-10j)\n",
      "71634487.91145544\n"
     ]
    }
   ],
   "source": [
    "\n",
    "#mpstest = np.random.rand(4,7,3,7)\n",
    "\n",
    "test = mps.myMPS()\n",
    "\n",
    "print(test.chis)\n",
    "print([np.shape(s) for s in test.MPS])\n",
    "\n",
    "print(test.getNormSlow())\n",
    "print(test.getNorm())\n",
    "\n"
   ]
  },
  {
   "cell_type": "code",
   "execution_count": 6,
   "metadata": {},
   "outputs": [
    {
     "name": "stdout",
     "output_type": "stream",
     "text": [
      "[1, 1, 1, 1, 1, 1, 1, 1, 1, 1, 1]\n",
      "[(1, 1, 2), (1, 1, 2), (1, 1, 2), (1, 1, 2), (1, 1, 2), (1, 1, 2), (1, 1, 2), (1, 1, 2), (1, 1, 2), (1, 1, 2)]\n",
      "0.9999999999999989\n",
      "0.9999999999999992\n",
      "[0.0, 0.0, 0.0, 0.0, 0.0, 0.0, 0.0, 0.0, 0.0, 0.0, 0.0]\n"
     ]
    }
   ],
   "source": [
    "test = mps.myMPS(mps.plusState(10))\n",
    "\n",
    "print(test.chis)\n",
    "print([np.shape(s) for s in test.MPS])\n",
    "\n",
    "# the state should be normalized already \n",
    "print(test.getNormSlow())\n",
    "print(test.getNorm())\n",
    "\n",
    "test.bringCan()\n",
    "print(test.getEntropies())  # should be zero for a prod state\n",
    "\n"
   ]
  },
  {
   "cell_type": "code",
   "execution_count": 7,
   "metadata": {},
   "outputs": [
    {
     "name": "stdout",
     "output_type": "stream",
     "text": [
      "(71634487.91145544+1.0906059675692416e-10j)\n",
      "71634487.91145544\n"
     ]
    },
    {
     "data": {
      "text/plain": [
       "'L'"
      ]
     },
     "execution_count": 7,
     "metadata": {},
     "output_type": "execute_result"
    }
   ],
   "source": [
    "test = mps.myMPS()\n",
    "print(test.getNormSlow())\n",
    "\n",
    "print(test.getNorm())\n",
    "test.bringCan()"
   ]
  },
  {
   "cell_type": "code",
   "execution_count": 8,
   "metadata": {},
   "outputs": [
    {
     "name": "stderr",
     "output_type": "stream",
     "text": [
      "WARNING:root:Putting in canonical form and truncating at 200\n"
     ]
    },
    {
     "name": "stdout",
     "output_type": "stream",
     "text": [
      "Entropies=  [0.0, 1.2630591034956043e-06, 3.138693711496794e-07, 2.7647643933426194e-08, 3.043902441702274e-08, 5.710164457502063e-08, 4.576140498533507e-08, 1.1899803406489368e-07, 1.506169679591301e-07, 1.4188084037992554e-07, 2.2102182897632132e-09, 1.4947375748536123e-07, 2.5048302497119856e-08, 3.8859953336183724e-08, 6.540629119289407e-09, 1.301045193908247e-07, 2.9468698573895984e-08, 3.452539858962834e-09, 1.5205943654348293e-07, 8.31889558261259e-06, -4.4408920985006364e-15]\n"
     ]
    }
   ],
   "source": [
    "\n",
    "\n",
    "test3 = mps.myMPS(mps.randMPS(LL=20, chi=200))\n",
    "print(f\"Entropies=  {test3.getEntropies()}\")\n",
    "\n",
    "testMPO = mpo.myMPO()\n",
    "\n",
    "\n"
   ]
  },
  {
   "cell_type": "code",
   "execution_count": null,
   "metadata": {},
   "outputs": [],
   "source": []
  },
  {
   "cell_type": "markdown",
   "metadata": {},
   "source": [
    "## Check that we're actually in proper L-R canon forms by contracting a bit and see if we recover identity matrices and normalizations "
   ]
  },
  {
   "cell_type": "code",
   "execution_count": 9,
   "metadata": {},
   "outputs": [
    {
     "name": "stdout",
     "output_type": "stream",
     "text": [
      "L\n",
      "[1, 2, 4, 8, 4, 4, 5, 4, 4, 4, 5, 5, 4, 5, 4, 4, 4, 5, 5, 4, 5, 4, 5, 4, 5, 4, 4, 5, 4, 4, 5, 5, 4, 5, 4, 4, 5, 7, 4, 2, 1]\n",
      "R\n",
      "Norm=1.0000000000000036\n",
      "identity, size = 1\n",
      "identity, size = 2\n",
      "identity, size = 4\n",
      "identity, size = 8\n",
      "identity, size = 4\n",
      "identity, size = 4\n",
      "identity, size = 5\n",
      "identity, size = 4\n",
      "identity, size = 4\n",
      "identity, size = 4\n",
      "identity, size = 5\n",
      "identity, size = 5\n",
      "identity, size = 4\n",
      "identity, size = 5\n",
      "identity, size = 4\n",
      "identity, size = 4\n",
      "identity, size = 4\n",
      "identity, size = 5\n",
      "identity, size = 5\n",
      "identity, size = 4\n",
      "identity, size = 5\n",
      "identity, size = 4\n",
      "identity, size = 5\n",
      "identity, size = 4\n",
      "identity, size = 5\n",
      "identity, size = 4\n",
      "identity, size = 4\n",
      "identity, size = 5\n",
      "identity, size = 4\n",
      "identity, size = 4\n",
      "identity, size = 5\n",
      "identity, size = 5\n",
      "identity, size = 4\n",
      "identity, size = 5\n",
      "identity, size = 4\n",
      "identity, size = 4\n",
      "identity, size = 5\n",
      "identity, size = 7\n",
      "identity, size = 4\n",
      "identity, size = 2\n",
      "L\n",
      "Norm=1.0000000000000036\n",
      "identity, size = 2\n",
      "identity, size = 4\n",
      "identity, size = 8\n",
      "identity, size = 4\n",
      "identity, size = 4\n",
      "identity, size = 5\n",
      "identity, size = 4\n",
      "identity, size = 4\n",
      "identity, size = 4\n",
      "identity, size = 5\n",
      "identity, size = 5\n",
      "identity, size = 4\n",
      "identity, size = 5\n",
      "identity, size = 4\n",
      "identity, size = 4\n",
      "identity, size = 4\n",
      "identity, size = 5\n",
      "identity, size = 5\n",
      "identity, size = 4\n",
      "identity, size = 5\n",
      "identity, size = 4\n",
      "identity, size = 5\n",
      "identity, size = 4\n",
      "identity, size = 5\n",
      "identity, size = 4\n",
      "identity, size = 4\n",
      "identity, size = 5\n",
      "identity, size = 4\n",
      "identity, size = 4\n",
      "identity, size = 5\n",
      "identity, size = 5\n",
      "identity, size = 4\n",
      "identity, size = 5\n",
      "identity, size = 4\n",
      "identity, size = 4\n",
      "identity, size = 5\n",
      "identity, size = 7\n",
      "identity, size = 4\n",
      "identity, size = 2\n",
      "identity, size = 1\n"
     ]
    },
    {
     "data": {
      "text/plain": [
       "[True,\n",
       " True,\n",
       " True,\n",
       " True,\n",
       " True,\n",
       " True,\n",
       " True,\n",
       " True,\n",
       " True,\n",
       " True,\n",
       " True,\n",
       " True,\n",
       " True,\n",
       " True,\n",
       " True,\n",
       " True,\n",
       " True,\n",
       " True,\n",
       " True,\n",
       " True,\n",
       " True,\n",
       " True,\n",
       " True,\n",
       " True,\n",
       " True,\n",
       " True,\n",
       " True,\n",
       " True,\n",
       " True,\n",
       " True,\n",
       " True,\n",
       " True,\n",
       " True,\n",
       " True,\n",
       " True,\n",
       " True,\n",
       " True,\n",
       " True,\n",
       " True,\n",
       " True]"
      ]
     },
     "execution_count": 9,
     "metadata": {},
     "output_type": "execute_result"
    }
   ],
   "source": [
    "mymps3 = mps.myMPS(mps.randMPS(40,chi=300))\n",
    "\n",
    "mymps3.bringCan(epsTrunc=1e-10,epsNorm=1e-14, chiMax=200)\n",
    "print(mymps3.curr_form)\n",
    "# print(mymps3.SV)\n",
    "# print(mymps3.SVinv)\n",
    "print(mymps3.chis)\n",
    "\n",
    "# Now set to R \n",
    "mymps3.set_form(mode='R')\n",
    "print(mymps3.curr_form)\n",
    "# So now the MPS should be normalized and in  RIGHT canonical form \n",
    "# Check by contracting some B's \n",
    "\n",
    "print(f\"Norm={mymps3.getNorm()}\")\n",
    "\n",
    "[ checkIdMatrix(ncon([m,np.conj(m)],[[-1,1,2],[-2,1,2]])) for m in mymps3.MPS ]\n",
    "\n",
    "\n",
    "mymps3.set_form(mode='L')\n",
    "print(mymps3.curr_form)\n",
    "# print(mymps3.SV)\n",
    "# print(mymps3.SVinv)\n",
    "\n",
    "\n",
    "# So now the MPS should be normalized and in  LEFT canonical form \n",
    "# Check by contracting some A's \n",
    "\n",
    "print(f\"Norm={mymps3.getNorm()}\")\n",
    "\n",
    "[ checkIdMatrix(ncon([m,np.conj(m)],[[1,-1,2],[1,-2,2]])) for m in mymps3.MPS ]\n",
    "\n",
    "# # Now set to R again \n",
    "# mymps3.set_form(mode='R')\n",
    "# print(mymps3.curr_form)\n",
    "# # So now the MPS should be normalized and in  RIGHT canonical form \n",
    "# # Check by contracting some B's \n",
    "\n",
    "# print(f\"Norm={mymps3.getNorm()}\")\n",
    "\n",
    "# [ checkIdMatrix(ncon([m,np.conj(m)],[[-1,1,2],[-2,1,2]])) for m in mymps3.MPS ]\n",
    "\n"
   ]
  },
  {
   "cell_type": "code",
   "execution_count": 10,
   "metadata": {},
   "outputs": [
    {
     "name": "stdout",
     "output_type": "stream",
     "text": [
      "0.9999999999188647\n",
      "1.0000000000000004\n",
      "[9.99999999e-01 3.53316180e-05 3.80894081e-08 2.18096358e-08]\n",
      "1.0000000000000007\n",
      "[1.00000000e+00 2.83032608e+04 2.62540179e+07 4.58512930e+07]\n",
      "52835739.08505169\n"
     ]
    }
   ],
   "source": [
    "m =mymps3.MPS[8]\n",
    "np.real_if_close(np.around(ncon([m,np.conj(m)],[[1,-1,2],[1,-2,2]]),12))\n",
    "\n",
    "print(mymps3.SV[7][0])\n",
    "print(np.linalg.norm((mymps3.SV[7])))\n",
    "print(mymps3.SV[8])\n",
    "print(np.linalg.norm((mymps3.SV[8])))\n",
    "print(mymps3.SVinv[8])\n",
    "print(np.linalg.norm((mymps3.SVinv[8])))"
   ]
  },
  {
   "cell_type": "markdown",
   "metadata": {},
   "source": [
    "## Try computing an expectation value, first the \"hard\" way (ncon the whole thing), then using the right-canonical expression"
   ]
  },
  {
   "cell_type": "code",
   "execution_count": 11,
   "metadata": {},
   "outputs": [
    {
     "name": "stdout",
     "output_type": "stream",
     "text": [
      "Exp value the hard way: \n",
      "(8553445332.681737+3.9513141676414005e-07j)\n",
      "Second way: apply the op to the relevant site, then compute the overlap with itself\n",
      "(8553445332.681738-7.425130922421363e-09j)\n",
      " Now compute it with the canonical form \n",
      "(8, 8)\n",
      "(8, 8)\n",
      "(8, 8, 2)\n",
      "(8, 8, 2)\n",
      "(2, 2)\n",
      "5 5\n",
      "0.99616805993749\n"
     ]
    }
   ],
   "source": [
    "# Try to do it a bit better, define separately psi and psi*\n",
    "# and compute the norm \n",
    "\n",
    "testL = 12\n",
    "testd = 2\n",
    "testChi = 8\n",
    "\n",
    "mps1 = mps.randMPS(testL,chi=testChi, d=testd)\n",
    "\n",
    "mypsi = mps.myMPS(mps1)\n",
    "#mypsic = mps.myMPS([np.conj(m) for m in mps1])\n",
    "\n",
    "# make two copies for later messing around \n",
    "mypsic1 = copy.deepcopy(mypsi)\n",
    "mypsic1conj = mps.myMPS([np.conj(m) for m in mypsic1.MPS])\n",
    "\n",
    "mypsic2 = copy.deepcopy(mypsi)\n",
    "\n",
    "\n",
    "# Now define the operator to exp-value,\n",
    "# say we wanna compute <sigma_x> \n",
    "op1 = np.array([[0,1.],[1.,0]])\n",
    "\n",
    "# at site r = 3 \n",
    "\n",
    "print(\"Exp value the hard way: \")\n",
    "\n",
    "insertjj = 3 \n",
    "tryind = [[1,3,2]]\n",
    "tryind.append([1,4,2])\n",
    "\n",
    "for jj in range(1,testL):\n",
    "    tj = 3*jj\n",
    "    if jj == insertjj: # horrible hack \n",
    "        tryind.append([tj,tj+3,tj+2])\n",
    "        tryind.append([tj+2,9999])\n",
    "        tryind.append([tj+1,tj+4,9999])\n",
    "    else:\n",
    "        tryind.append([tj,tj+3,tj+2])\n",
    "        tryind.append([tj+1,tj+4,tj+2])\n",
    "\n",
    "tryind[-2][1] = tryind[-1][1]\n",
    "\n",
    "opList = []\n",
    "for jj, m in enumerate(mypsi.MPS):\n",
    "    if jj == insertjj:\n",
    "        opList.append(m)\n",
    "        opList.append(op1)\n",
    "        opList.append(m.conj())\n",
    "    else:\n",
    "        opList.append(m)\n",
    "        opList.append(m.conj())\n",
    "\n",
    "ev = ncon(opList,tryind)\n",
    "\n",
    "#print(tryind )\n",
    "print(np.real_if_close(ev/mypsi.getNormSlow() ))\n",
    "#print(np.real_if_close(ev/mypsi.getNorm() ))\n",
    "\n",
    "print(\"Second way: apply the op to the relevant site, then compute the overlap with itself\")\n",
    "mypsic1.MPS[3] = ncon([op1,mypsic1.MPS[3]],[[-3,1],[-1,-2,1]])\n",
    "expvaloverlap = mypsic1.overlap(mypsic1conj) \n",
    "print(np.real_if_close(expvaloverlap/mypsic1.getNormSlow() ))\n",
    "\n",
    "print(\" Now compute it with the canonical form \")\n",
    "\n",
    "mypsic2.set_form('R')\n",
    "\n",
    "conTen = [np.diag(mypsic2.SV[3]),np.diag(mypsic2.SV[3]),mypsic2.MPS[3],np.conj(mypsic2.MPS[3]),op1]\n",
    "conIdx = [[1,2],[1,3],[3,5,4],[2,5,6],[4,6]]\n",
    "\n",
    "[print(np.shape(elem)) for elem in conTen]\n",
    "print(len(conTen),len(conIdx))\n",
    "\n",
    "print(np.real_if_close(ncon(conTen,conIdx)))\n"
   ]
  },
  {
   "cell_type": "markdown",
   "metadata": {},
   "source": [
    "# build and test environments"
   ]
  },
  {
   "cell_type": "code",
   "execution_count": 12,
   "metadata": {},
   "outputs": [],
   "source": [
    "o = mpo.myMPO(isi.IsingMPO(LL = 20))\n",
    "\n",
    "psi = mps.myMPS(mps.randMPS(LL=o.LL))"
   ]
  },
  {
   "cell_type": "code",
   "execution_count": 13,
   "metadata": {},
   "outputs": [
    {
     "name": "stdout",
     "output_type": "stream",
     "text": [
      "-8.076737197963357\n",
      "2 -8.076737197963357\n",
      "3 -8.076737197963357\n",
      "4 -8.076737197963359\n",
      "5 -8.076737197963356\n",
      "6 -8.076737197963356\n",
      "7 -8.076737197963354\n",
      "8 -8.076737197963352\n",
      "9 -8.076737197963356\n",
      "10 -8.076737197963354\n",
      "11 -8.076737197963356\n",
      "12 -8.076737197963359\n",
      "13 -8.076737197963357\n",
      "14 -8.076737197963357\n",
      "15 -8.076737197963359\n",
      "16 -8.076737197963359\n",
      "17 -8.076737197963359\n",
      "18 -8.076737197963359\n",
      "19 -8.076737197963359\n"
     ]
    }
   ],
   "source": [
    "le, re = envs.build_environments(psi, o)\n",
    "\n",
    "print(mpomps.expValMPO(psi, o))\n",
    "\n",
    "for j in range(2,psi.LL):\n",
    "    #print(np.shape(le[j]), np.shape(re[j]), np.shape(re[j+1]))\n",
    "    expval = np.real_if_close(ncon([le[j],re[j]],[[1,2,3],[1,2,3]]))\n",
    "    print(j, expval)\n"
   ]
  },
  {
   "cell_type": "code",
   "execution_count": 14,
   "metadata": {},
   "outputs": [
    {
     "name": "stdout",
     "output_type": "stream",
     "text": [
      "[[[1.]]]\n"
     ]
    }
   ],
   "source": [
    "print(rc(le[-1])) # should be a number"
   ]
  },
  {
   "cell_type": "code",
   "execution_count": 15,
   "metadata": {},
   "outputs": [],
   "source": [
    "oN = mpo.myMPO(mpo.trivial_sx_MPO(LL = 20))"
   ]
  },
  {
   "cell_type": "code",
   "execution_count": 16,
   "metadata": {},
   "outputs": [
    {
     "name": "stdout",
     "output_type": "stream",
     "text": [
      "Returning energies as expectation value of the evolution MPO\n"
     ]
    },
    {
     "name": "stderr",
     "output_type": "stream",
     "text": [
      "6, chi/max 10/10:   5%|▌         | 5/100 [00:00<00:10,  8.87it/s]\n",
      "WARNING:root:largest entropy is NOT at midchain! (1 vs 10)\n",
      "WARNING:root:Largest entropy: S(1) = 0.00129231935576864\n",
      "WARNING:root:entropies = [0.0, 0.00129231935576864, 0.00018304241691145646, 0.00015039134636740702, 0.00018044420231066367, 7.62858637134604e-05, 0.00023092188587019115, 0.0004785972047765138, 0.00022988327093616473, 4.0759919655571024e-05, 0.00024132944816711402, 2.2711165214646756e-05, 2.6001766913142553e-05, 0.00010043481335871257, 0.00018773582290178208, 1.1190068617608452e-05, 0.00018779372365294744, 0.0010473960869899486, 0.00034791429955964424, 0.0002624926402075785, 0.0]\n"
     ]
    },
    {
     "name": "stdout",
     "output_type": "stream",
     "text": [
      "Looks converged after 6 steps\n",
      "max chi reached(/max): 10/50, final dSmid = 6.664319703725274e-16\n",
      "Returning *ALL* entropies\n"
     ]
    },
    {
     "data": {
      "text/plain": [
       "(<myMPSstuff.myMPS at 0x1158a6880>,\n",
       " [2, 4, 6],\n",
       " [[0.0,\n",
       "   0.0012923193557686386,\n",
       "   0.00018304241691212257,\n",
       "   0.00015039134636785117,\n",
       "   0.0001804442023113296,\n",
       "   7.628586371412643e-05,\n",
       "   0.00023092188587085652,\n",
       "   0.00047859720477673673,\n",
       "   0.0002298832709361652,\n",
       "   4.075991965601523e-05,\n",
       "   0.0002413294481675578,\n",
       "   2.2711165214424583e-05,\n",
       "   2.6001766912920428e-05,\n",
       "   0.00010043481335782435,\n",
       "   0.00018773582290111549,\n",
       "   1.1190068617164372e-05,\n",
       "   0.00018779372365205908,\n",
       "   0.0010473960869890617,\n",
       "   0.0003479142995589798,\n",
       "   0.0002624926402069189,\n",
       "   -8.881784197001256e-16],\n",
       "  [0.0,\n",
       "   0.0012923193557686388,\n",
       "   0.00018304241691079025,\n",
       "   0.000150391346366741,\n",
       "   0.00018044420230977598,\n",
       "   7.628586371257232e-05,\n",
       "   0.00023092188586930316,\n",
       "   0.0004785972047756272,\n",
       "   0.00022988327093483328,\n",
       "   4.075991965446085e-05,\n",
       "   0.00024132944816622568,\n",
       "   2.2711165213536492e-05,\n",
       "   2.6001766912032293e-05,\n",
       "   0.00010043481335782442,\n",
       "   0.0001877358229011153,\n",
       "   1.1190068616720278e-05,\n",
       "   0.00018779372365250322,\n",
       "   0.0010473960869899475,\n",
       "   0.00034791429955964456,\n",
       "   0.00026249264020802827,\n",
       "   4.440892098500625e-16],\n",
       "  [0.0,\n",
       "   0.00129231935576864,\n",
       "   0.00018304241691145646,\n",
       "   0.00015039134636740702,\n",
       "   0.00018044420231066367,\n",
       "   7.62858637134604e-05,\n",
       "   0.00023092188587019115,\n",
       "   0.0004785972047765138,\n",
       "   0.00022988327093616473,\n",
       "   4.0759919655571024e-05,\n",
       "   0.00024132944816711402,\n",
       "   2.2711165214646756e-05,\n",
       "   2.6001766913142553e-05,\n",
       "   0.00010043481335871257,\n",
       "   0.00018773582290178208,\n",
       "   1.1190068617608452e-05,\n",
       "   0.00018779372365294744,\n",
       "   0.0010473960869899486,\n",
       "   0.00034791429955964424,\n",
       "   0.0002624926402075785,\n",
       "   0.0]],\n",
       " [4.441163149043748e-16, 1.3319965790070665e-15, 6.664319703725274e-16],\n",
       " [array(0.88256948), array(0.88256948), array(0.88256948)],\n",
       " 10)"
      ]
     },
     "execution_count": 16,
     "metadata": {},
     "output_type": "execute_result"
    }
   ],
   "source": [
    "import myPowerMethod as pow\n",
    "\n",
    "pow.power_method(oN, 0, 50, 100, 0, True)"
   ]
  },
  {
   "cell_type": "code",
   "execution_count": null,
   "metadata": {},
   "outputs": [],
   "source": []
  }
 ],
 "metadata": {
  "interpreter": {
   "hash": "aee8b7b246df8f9039afb4144a1f6fd8d2ca17a180786b69acc140d282b71a49"
  },
  "kernelspec": {
   "display_name": "Python 3.9.10 64-bit",
   "language": "python",
   "name": "python3"
  },
  "language_info": {
   "codemirror_mode": {
    "name": "ipython",
    "version": 3
   },
   "file_extension": ".py",
   "mimetype": "text/x-python",
   "name": "python",
   "nbconvert_exporter": "python",
   "pygments_lexer": "ipython3",
   "version": "3.10.6"
  },
  "orig_nbformat": 4
 },
 "nbformat": 4,
 "nbformat_minor": 2
}
