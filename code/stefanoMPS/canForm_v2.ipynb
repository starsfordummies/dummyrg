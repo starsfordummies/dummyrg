{
 "cells": [
  {
   "cell_type": "markdown",
   "metadata": {},
   "source": [
    "# MPS canonical forms "
   ]
  },
  {
   "cell_type": "code",
   "execution_count": 14,
   "metadata": {},
   "outputs": [
    {
     "name": "stdout",
     "output_type": "stream",
     "text": [
      "The autoreload extension is already loaded. To reload it, use:\n",
      "  %reload_ext autoreload\n"
     ]
    }
   ],
   "source": [
    "%load_ext autoreload\n",
    "%autoreload 2\n"
   ]
  },
  {
   "cell_type": "code",
   "execution_count": 15,
   "metadata": {},
   "outputs": [],
   "source": [
    "\n",
    "import numpy as np\n",
    "from tensornetwork import ncon\n",
    "import logging\n",
    "\n",
    "import copy \n",
    "\n",
    "from myMPSstuff import myMPS, randMPS\n",
    "from myMPOstuff import myMPO, randMPO, isingMPO\n",
    "\n",
    "from matrixUtils import checkIdMatrix\n",
    "\n",
    "from applMPOMPS import applyMPOtoMPS\n",
    "\n",
    "\n",
    "logging.basicConfig()\n",
    "logger = logging.getLogger('Something')\n",
    "logger.setLevel(logging.DEBUG)"
   ]
  },
  {
   "cell_type": "code",
   "execution_count": 16,
   "metadata": {},
   "outputs": [
    {
     "name": "stdout",
     "output_type": "stream",
     "text": [
      "MPS with length 10 and physical d=2\n",
      "chi [1, 200, 200, 200, 200, 200, 200, 200, 200, 200, 1]\n",
      "Entropies=  [0.0, 0.0007796035758451088, 0.0003943557446954149, 0.0007694910691817312, 0.0003404877637843445, 0.0005831493093520493, 0.00021117710379840808, 0.0006012569185665346, 0.0006427030093367449, 0.005883650422771164, 0.0]\n"
     ]
    }
   ],
   "source": [
    "\n",
    "test2 = myMPS(randMPS(chi=200))\n",
    "print(f\"Entropies=  {test2.getEntropies()}\")\n"
   ]
  },
  {
   "cell_type": "code",
   "execution_count": 17,
   "metadata": {},
   "outputs": [
    {
     "name": "stdout",
     "output_type": "stream",
     "text": [
      "Ising MPO, parameters: J=1 g=0.4,  shapes:\n",
      "[(1, 3, 2, 2), (3, 3, 2, 2), (3, 3, 2, 2), (3, 3, 2, 2), (3, 3, 2, 2), (3, 3, 2, 2), (3, 3, 2, 2), (3, 3, 2, 2), (3, 3, 2, 2), (3, 1, 2, 2)]\n",
      "MPO with length 10 and physical d=2\n",
      "chi [1, 3, 3, 3, 3, 3, 3, 3, 3, 3, 1]\n",
      "[[951, 1, 11, 952], [952, 2, 12, 953], [953, 3, 13, 954], [954, 4, 14, 955], [955, 5, 15, 956], [956, 6, 16, 957], [957, 7, 17, 958], [958, 8, 18, 959], [959, 9, 19, 960], [960, 10, 20, 961]]\n"
     ]
    }
   ],
   "source": [
    "\n",
    "testMPO = myMPO(isingMPO(LL=10, J = 1, g = 0.4))\n",
    "print(testMPO.getIndices())"
   ]
  },
  {
   "cell_type": "code",
   "execution_count": 18,
   "metadata": {},
   "outputs": [
    {
     "name": "stdout",
     "output_type": "stream",
     "text": [
      "MPS with length 7 and physical d=2\n",
      "chi [1, 20, 20, 20, 20, 20, 20, 1]\n",
      "MPS with length 4 and physical d=3\n",
      "chi [7, 7, 7, 7, 7]\n",
      "[[21, 1, 22], [22, 2, 23], [23, 3, 24], [24, 4, 25]]\n",
      "[[999, 9, 22], [22, 9, 23], [23, 9, 24], [24, 9, 999]]\n",
      "1441910.075615249\n"
     ]
    }
   ],
   "source": [
    "test = myMPS()  # This should spit out a logger message from console\n",
    "\n",
    "mpstest = np.random.rand(4,7,3,7)\n",
    "\n",
    "test = myMPS(mpstest)\n",
    "\n",
    "print(test.getIndices())\n",
    "\n",
    "test.updatePhysIndices([9,9,9,9])\n",
    "\n",
    "test.updateEdgeIndices([999,999])\n",
    "\n",
    "print(test.getIndices())\n",
    "\n",
    "print(test.getNorm())\n",
    "\n"
   ]
  },
  {
   "cell_type": "code",
   "execution_count": 19,
   "metadata": {},
   "outputs": [
    {
     "name": "stdout",
     "output_type": "stream",
     "text": [
      "MPS with length 20 and physical d=2\n",
      "chi [1, 200, 200, 200, 200, 200, 200, 200, 200, 200, 200, 200, 200, 200, 200, 200, 200, 200, 200, 200, 1]\n",
      "Entropies=  [0.0, 0.0042503383498021605, 0.0006000295579973591, 0.0007933952159018645, 0.0008372869030627497, 0.0009484313919038004, 0.0005519203017440932, 0.0004453138932441249, 0.0005040326486668797, 0.0009127171251663469, 0.00040469511768201414, 0.0006536724602675777, 0.0007568394894115162, 9.536580071213937e-05, 0.0006202771166915785, 0.0006150444852406763, 0.00042559846313471305, 0.0003821528130221137, 0.0006086042754874874, 0.007334784136722864, 0.0]\n",
      "MPO with length 7 and physical d=2\n",
      "chi [1, 5, 5, 5, 5, 5, 5, 1]\n",
      "[[666, 1, 8, 667], [667, 2, 9, 668], [668, 3, 10, 669], [669, 4, 11, 670], [670, 5, 12, 671], [671, 6, 13, 672], [672, 7, 14, 673]]\n"
     ]
    }
   ],
   "source": [
    "\n",
    "\n",
    "test3 = myMPS(randMPS(LL=20, chi=200))\n",
    "print(f\"Entropies=  {test3.getEntropies()}\")\n",
    "\n",
    "testMPO = myMPO()\n",
    "print(testMPO.getIndices())\n",
    "\n"
   ]
  },
  {
   "cell_type": "code",
   "execution_count": null,
   "metadata": {},
   "outputs": [],
   "source": []
  },
  {
   "cell_type": "markdown",
   "metadata": {},
   "source": [
    "## Check that we're actually in proper L-R canon forms by contracting a bit and see if we recover identity matrices and normalizations "
   ]
  },
  {
   "cell_type": "code",
   "execution_count": 20,
   "metadata": {},
   "outputs": [
    {
     "name": "stdout",
     "output_type": "stream",
     "text": [
      "MPS with length 6 and physical d=2\n",
      "chi [1, 5, 5, 5, 5, 5, 1]\n",
      "Norm=1.0000000000000002\n",
      "identity, size = 2\n",
      "identity, size = 4\n",
      "identity, size = 5\n",
      "identity, size = 4\n",
      "identity, size = 2\n",
      "identity, size = 1\n",
      "\n",
      "identity, size = 1\n",
      "identity, size = 2\n",
      "identity, size = 4\n",
      "identity, size = 5\n",
      "identity, size = 4\n",
      "identity, size = 2\n"
     ]
    }
   ],
   "source": [
    "mymps3 = myMPS(randMPS(6))\n",
    "\n",
    "aaa = mymps3.bringCan(mode='LR',epsTrunc=1e-6)\n",
    "bbb = mymps3.bringCan(mode='L')\n",
    "\n",
    "# So now the MPS should be normalized and in  LEFT canonical form \n",
    "# Check by contracting some A's \n",
    "\n",
    "print(f\"Norm={mymps3.getNorm()}\")\n",
    "\n",
    "mp = mymps3.MPS\n",
    "sv = mymps3.SV\n",
    "svinv = [svv**(-1) for svv in sv ]\n",
    "\n",
    "for m in mp:\n",
    "    checkIdMatrix(ncon([m,np.conj(m)],[[1,2,-1],[1,2,-2]]))\n",
    "\n",
    "# Looks good \n",
    "\n",
    "# Now try and build the B's using the recipe \n",
    "#Bj = (L_{j-1})^-1 @ Aj @ Lj\n",
    "\n",
    "\n",
    "print(\"\")\n",
    "\n",
    "for j in range(0,len(mp)):\n",
    "    #print(j,np.shape(svinv[j]),  np.shape(mp[j]), np.shape(sv[j+1]))\n",
    "    mb = ncon([np.diag(svinv[j]),  mp[j] ,  np.diag(sv[j+1]) ], [[-1,1],[1,-2,2],[2,-3]])\n",
    "    checkIdMatrix(ncon([mb,np.conj(mb)],[[-1,1,2],[-2,1,2]]))\n",
    "\n",
    "\n",
    "# Also looks good. \n",
    "\n"
   ]
  },
  {
   "cell_type": "markdown",
   "metadata": {},
   "source": [
    "## Try computing an expectation value, first the \"hard\" way (ncon the whole thing), then using the right-canonical expression"
   ]
  },
  {
   "cell_type": "code",
   "execution_count": 21,
   "metadata": {},
   "outputs": [
    {
     "name": "stdout",
     "output_type": "stream",
     "text": [
      "MPS with length 7 and physical d=2\n",
      "chi [1, 5, 5, 5, 5, 5, 5, 1]\n",
      "MPS with length 7 and physical d=2\n",
      "chi [1, 5, 5, 5, 5, 5, 5, 1]\n",
      "15 7 7 2\n",
      "[[-1, 1, 212], [212, 2, 213], [213, 66, 214], [214, 4, 215], [215, 5, 216], [216, 6, 217], [217, 7, -2], [-3, 1, 352], [352, 2, 353], [353, 67, 354], [354, 4, 355], [355, 5, 356], [356, 6, 357], [357, 7, -4], [66, 67]]\n",
      "15 15\n",
      "Exp value done the hard way: \n",
      "[[[[0.99552056]]]]\n",
      " Now compute it with the canonical form \n",
      "(4, 4)\n",
      "(4, 4)\n",
      "(4, 2, 5)\n",
      "(4, 2, 5)\n",
      "(2, 2)\n",
      "5 5\n",
      "0.9955205587134393\n"
     ]
    },
    {
     "name": "stderr",
     "output_type": "stream",
     "text": [
      "/var/folders/jz/kz6llp3d33xdg4k3pprgcxyc0000gn/T/ipykernel_98626/3307051872.py:11: VisibleDeprecationWarning: Creating an ndarray from ragged nested sequences (which is a list-or-tuple of lists-or-tuples-or ndarrays with different lengths or shapes) is deprecated. If you meant to do this, you must specify 'dtype=object' when creating the ndarray.\n",
      "  mypsic = myMPS(np.conj(mps1), offIndices=50)\n"
     ]
    }
   ],
   "source": [
    "# Try to do it a bit better, define separately psi and psi*\n",
    "# and compute the norm \n",
    "\n",
    "testL = 7\n",
    "testd = 2\n",
    "testChi = 5\n",
    "\n",
    "mps1 = randMPS(testL,chi=testChi, d=testd)\n",
    "\n",
    "mypsi = myMPS(mps1, offIndices=30)\n",
    "mypsic = myMPS(np.conj(mps1), offIndices=50)\n",
    "\n",
    "copymypsi = copy.deepcopy(mypsi)\n",
    "\n",
    "# Now define the operator to exp-value\n",
    "\n",
    "# Say we wanna compute <sigma_x> \n",
    "op1 = np.array([[0,1.],[1.,0]])\n",
    "\n",
    "# at site r = 3 \n",
    "\n",
    "psiOpens =  [1,2, 66, 4,5,6,7]\n",
    "psicOpens = [1,2, 67, 4,5,6,7]\n",
    "op1Opens = [66,67]\n",
    "\n",
    "mypsi.updatePhysIndices(psiOpens)\n",
    "mypsic.updatePhysIndices(psicOpens)\n",
    "\n",
    "mypsi.updateEdgeIndices([-1,-2])\n",
    "mypsic.updateEdgeIndices([-3,-4])\n",
    "\n",
    "mtocon = [m for m in mypsi.MPS]\n",
    "[mtocon.append(m) for m in mypsic.MPS]\n",
    "\n",
    "mtocon = [m for m in mypsi.MPS]\n",
    "[mtocon.append(m) for m in mypsic.MPS]\n",
    "mtocon.append(op1)\n",
    "\n",
    "print(len(mtocon),len(mypsi.MPS),len(mypsic.MPS),len(op1))\n",
    "\n",
    "#itocon = mypsi.getIndices()\n",
    "itocon = [idx for idx in mypsi.getIndices()]\n",
    "[itocon.append(idx) for idx in mypsic.getIndices()]\n",
    "itocon.append(op1Opens)\n",
    "\n",
    "print(itocon)\n",
    "print(len(itocon),len(mtocon))\n",
    "\n",
    "tnc = ncon( mtocon, itocon)\n",
    "\n",
    "mtocon[-1] = np.eye(2)\n",
    "\n",
    "norm = ncon(mtocon, itocon )\n",
    "\n",
    "print(\"Exp value done the hard way: \")\n",
    "print(np.real_if_close(tnc/norm))\n",
    "\n",
    "\n",
    "\n",
    "print(\" Now compute it with the canonical form \")\n",
    "\n",
    "copymypsi.bringCan(mode='R',epsTrunc=1e-12)\n",
    "\n",
    "conTen = [np.diag(copymypsi.SV[2]),np.diag(copymypsi.SV[2]),copymypsi.MPS[2],np.conj(copymypsi.MPS[2]),op1]\n",
    "conIdx = [[1,2],[1,3],[3,4,5],[2,6,5],[4,6]]\n",
    "\n",
    "[print(np.shape(elem)) for elem in conTen]\n",
    "print(len(conTen),len(conIdx))\n",
    "\n",
    "print(np.real_if_close(ncon(conTen,conIdx)))\n"
   ]
  },
  {
   "cell_type": "markdown",
   "metadata": {},
   "source": [
    "# The canonical form Gamma-Lambda \n",
    "\n",
    "Let's build it from our LR sweep\n",
    "and check that we get the same results for our MPS "
   ]
  },
  {
   "cell_type": "code",
   "execution_count": 22,
   "metadata": {},
   "outputs": [],
   "source": [
    "#TODO: still to implement checks here, but it should work I guess "
   ]
  },
  {
   "cell_type": "markdown",
   "metadata": {},
   "source": [
    "# Apply MPO to MPS operations \n"
   ]
  },
  {
   "cell_type": "code",
   "execution_count": 23,
   "metadata": {},
   "outputs": [
    {
     "name": "stdout",
     "output_type": "stream",
     "text": [
      "Ising MPO, parameters: J=1.0 g=0.5,  shapes:\n",
      "[(1, 3, 2, 2), (3, 3, 2, 2), (3, 3, 2, 2), (3, 3, 2, 2), (3, 3, 2, 2), (3, 3, 2, 2), (3, 3, 2, 2), (3, 3, 2, 2), (3, 3, 2, 2), (3, 3, 2, 2), (3, 3, 2, 2), (3, 3, 2, 2), (3, 3, 2, 2), (3, 3, 2, 2), (3, 3, 2, 2), (3, 3, 2, 2), (3, 3, 2, 2), (3, 3, 2, 2), (3, 3, 2, 2), (3, 1, 2, 2)]\n",
      "MPO with length 20 and physical d=2\n",
      "chi [1, 3, 3, 3, 3, 3, 3, 3, 3, 3, 3, 3, 3, 3, 3, 3, 3, 3, 3, 3, 1]\n"
     ]
    }
   ],
   "source": [
    "\n",
    "o = myMPO(isingMPO(20))"
   ]
  },
  {
   "cell_type": "code",
   "execution_count": 25,
   "metadata": {},
   "outputs": [
    {
     "name": "stdout",
     "output_type": "stream",
     "text": [
      "MPS with length 30 and physical d=2\n",
      "chi [1, 5, 5, 5, 5, 5, 5, 5, 5, 5, 5, 5, 5, 5, 5, 5, 5, 5, 5, 5, 5, 5, 5, 5, 5, 5, 5, 5, 5, 5, 1]\n",
      "Ising MPO, parameters: J=1.0 g=0.5,  shapes:\n",
      "[(1, 3, 2, 2), (3, 3, 2, 2), (3, 3, 2, 2), (3, 3, 2, 2), (3, 3, 2, 2), (3, 3, 2, 2), (3, 3, 2, 2), (3, 3, 2, 2), (3, 3, 2, 2), (3, 3, 2, 2), (3, 3, 2, 2), (3, 3, 2, 2), (3, 3, 2, 2), (3, 3, 2, 2), (3, 3, 2, 2), (3, 3, 2, 2), (3, 3, 2, 2), (3, 3, 2, 2), (3, 3, 2, 2), (3, 3, 2, 2), (3, 3, 2, 2), (3, 3, 2, 2), (3, 3, 2, 2), (3, 3, 2, 2), (3, 3, 2, 2), (3, 3, 2, 2), (3, 3, 2, 2), (3, 3, 2, 2), (3, 3, 2, 2), (3, 1, 2, 2)]\n",
      "MPO with length 30 and physical d=2\n",
      "chi [1, 3, 3, 3, 3, 3, 3, 3, 3, 3, 3, 3, 3, 3, 3, 3, 3, 3, 3, 3, 3, 3, 3, 3, 3, 3, 3, 3, 3, 3, 1]\n",
      "MPS with length 30 and physical d=2\n",
      "chi [1, 15, 15, 15, 15, 15, 15, 15, 15, 15, 15, 15, 15, 15, 15, 15, 15, 15, 15, 15, 15, 15, 15, 15, 15, 15, 15, 15, 15, 15, 1]\n",
      "MPS with length 30 and physical d=2\n",
      "chi [1, 6, 12, 24, 45, 45, 45, 45, 45, 45, 45, 45, 45, 45, 45, 45, 45, 45, 45, 45, 45, 45, 45, 45, 45, 45, 45, 24, 12, 6, 1]\n"
     ]
    },
    {
     "name": "stderr",
     "output_type": "stream",
     "text": [
      "WARNING:root:Truncating @ 40, latest SV = 0.00513266630778519\n",
      "WARNING:root:Truncating @ 40, latest SV = 0.008264389582241337\n",
      "WARNING:root:Truncating @ 40, latest SV = 0.010255230926774396\n"
     ]
    },
    {
     "name": "stdout",
     "output_type": "stream",
     "text": [
      "1 [1, 2, 4, 8, 16, 28, 35, 35, 35, 35, 35, 35, 35, 35, 35, 35, 35, 35, 35, 35, 35, 35, 35, 35, 35, 32, 16, 8, 4, 2, 1]\n",
      "MPS with length 30 and physical d=2\n",
      "chi [1, 6, 12, 24, 48, 84, 105, 105, 105, 105, 105, 105, 105, 105, 105, 105, 105, 105, 105, 105, 105, 105, 105, 105, 105, 96, 48, 24, 12, 6, 1]\n"
     ]
    },
    {
     "name": "stderr",
     "output_type": "stream",
     "text": [
      "WARNING:root:Truncating @ 40, latest SV = 0.011225122732125555\n",
      "WARNING:root:Truncating @ 40, latest SV = 0.012259023008186452\n",
      "WARNING:root:Truncating @ 40, latest SV = 0.011334907264890125\n",
      "WARNING:root:Truncating @ 40, latest SV = 0.011001127501847896\n",
      "WARNING:root:Truncating @ 40, latest SV = 0.008714969205760804\n",
      "WARNING:root:Truncating @ 40, latest SV = 0.008134590342694623\n",
      "WARNING:root:Truncating @ 40, latest SV = 0.00679888303033677\n",
      "WARNING:root:Truncating @ 40, latest SV = 0.006072285136813453\n",
      "WARNING:root:Truncating @ 40, latest SV = 0.0038221361600986083\n",
      "WARNING:root:Truncating @ 40, latest SV = 0.0024667787594959793\n",
      "WARNING:root:Truncating @ 40, latest SV = 0.0016743243244175124\n",
      "WARNING:root:Truncating @ 40, latest SV = 0.0010781356413236366\n",
      "WARNING:root:Truncating @ 40, latest SV = 0.0006105324329907945\n",
      "WARNING:root:Truncating @ 40, latest SV = 0.00019224576005690428\n",
      "WARNING:root:Truncating @ 40, latest SV = 1.0141852795647127e-05\n",
      "WARNING:root:Truncating @ 40, latest SV = 4.6230512249581106e-08\n"
     ]
    },
    {
     "name": "stdout",
     "output_type": "stream",
     "text": [
      "2 [1, 2, 4, 8, 16, 30, 40, 40, 40, 40, 40, 40, 40, 40, 40, 40, 40, 40, 40, 40, 40, 40, 40, 40, 40, 32, 16, 8, 4, 2, 1]\n",
      "MPS with length 30 and physical d=2\n",
      "chi [1, 6, 12, 24, 48, 90, 120, 120, 120, 120, 120, 120, 120, 120, 120, 120, 120, 120, 120, 120, 120, 120, 120, 120, 120, 96, 48, 24, 12, 6, 1]\n"
     ]
    },
    {
     "name": "stderr",
     "output_type": "stream",
     "text": [
      "WARNING:root:Truncating @ 40, latest SV = 0.004542532160021697\n",
      "WARNING:root:Truncating @ 40, latest SV = 0.007247372990245807\n",
      "WARNING:root:Truncating @ 40, latest SV = 0.009369736239073076\n",
      "WARNING:root:Truncating @ 40, latest SV = 0.011304716267305727\n",
      "WARNING:root:Truncating @ 40, latest SV = 0.010804405627154911\n",
      "WARNING:root:Truncating @ 40, latest SV = 0.010285251342723211\n",
      "WARNING:root:Truncating @ 40, latest SV = 0.009526489847913676\n",
      "WARNING:root:Truncating @ 40, latest SV = 0.00854492533826476\n",
      "WARNING:root:Truncating @ 40, latest SV = 0.007442251859476698\n",
      "WARNING:root:Truncating @ 40, latest SV = 0.006603817582875989\n",
      "WARNING:root:Truncating @ 40, latest SV = 0.0051281049492891695\n",
      "WARNING:root:Truncating @ 40, latest SV = 0.004157803266411805\n",
      "WARNING:root:Truncating @ 40, latest SV = 0.0031493712191747814\n",
      "WARNING:root:Truncating @ 40, latest SV = 0.001969737449115574\n",
      "WARNING:root:Truncating @ 40, latest SV = 0.0011499867201125928\n",
      "WARNING:root:Truncating @ 40, latest SV = 0.000569242328290002\n",
      "WARNING:root:Truncating @ 40, latest SV = 0.00015782970216509523\n",
      "WARNING:root:Truncating @ 40, latest SV = 9.479207385156047e-06\n",
      "WARNING:root:Truncating @ 40, latest SV = 4.779244238019711e-08\n"
     ]
    },
    {
     "name": "stdout",
     "output_type": "stream",
     "text": [
      "3 [1, 2, 4, 8, 16, 30, 40, 40, 40, 40, 40, 40, 40, 40, 40, 40, 40, 40, 40, 40, 40, 40, 40, 40, 40, 32, 16, 8, 4, 2, 1]\n",
      "MPS with length 30 and physical d=2\n",
      "chi [1, 6, 12, 24, 48, 90, 120, 120, 120, 120, 120, 120, 120, 120, 120, 120, 120, 120, 120, 120, 120, 120, 120, 120, 120, 96, 48, 24, 12, 6, 1]\n"
     ]
    },
    {
     "name": "stderr",
     "output_type": "stream",
     "text": [
      "WARNING:root:Truncating @ 40, latest SV = 0.0034594353806255565\n",
      "WARNING:root:Truncating @ 40, latest SV = 0.005224115099551271\n",
      "WARNING:root:Truncating @ 40, latest SV = 0.0075481893535989456\n",
      "WARNING:root:Truncating @ 40, latest SV = 0.008245119966278046\n",
      "WARNING:root:Truncating @ 40, latest SV = 0.008350304870043106\n",
      "WARNING:root:Truncating @ 40, latest SV = 0.008024485103805191\n",
      "WARNING:root:Truncating @ 40, latest SV = 0.007169950889716434\n",
      "WARNING:root:Truncating @ 40, latest SV = 0.006369510915031912\n",
      "WARNING:root:Truncating @ 40, latest SV = 0.005552723491721552\n",
      "WARNING:root:Truncating @ 40, latest SV = 0.0047315524346732574\n",
      "WARNING:root:Truncating @ 40, latest SV = 0.003895820183495893\n",
      "WARNING:root:Truncating @ 40, latest SV = 0.0030103289644058083\n",
      "WARNING:root:Truncating @ 40, latest SV = 0.0020370448806771536\n",
      "WARNING:root:Truncating @ 40, latest SV = 0.001092425965646748\n",
      "WARNING:root:Truncating @ 40, latest SV = 0.0005850335811036368\n",
      "WARNING:root:Truncating @ 40, latest SV = 0.0002923795491070764\n",
      "WARNING:root:Truncating @ 40, latest SV = 0.00010771141024590489\n",
      "WARNING:root:Truncating @ 40, latest SV = 6.695466948405848e-06\n",
      "WARNING:root:Truncating @ 40, latest SV = 9.02977200866224e-08\n"
     ]
    },
    {
     "name": "stdout",
     "output_type": "stream",
     "text": [
      "4 [1, 2, 4, 8, 16, 30, 40, 40, 40, 40, 40, 40, 40, 40, 40, 40, 40, 40, 40, 40, 40, 40, 40, 40, 40, 32, 16, 8, 4, 2, 1]\n",
      "MPS with length 30 and physical d=2\n",
      "chi [1, 6, 12, 24, 48, 90, 120, 120, 120, 120, 120, 120, 120, 120, 120, 120, 120, 120, 120, 120, 120, 120, 120, 120, 120, 96, 48, 24, 12, 6, 1]\n"
     ]
    },
    {
     "name": "stderr",
     "output_type": "stream",
     "text": [
      "WARNING:root:Truncating @ 40, latest SV = 0.001433803562173786\n",
      "WARNING:root:Truncating @ 40, latest SV = 0.0026632528065240833\n",
      "WARNING:root:Truncating @ 40, latest SV = 0.0039901989669366665\n",
      "WARNING:root:Truncating @ 40, latest SV = 0.004418266018943799\n",
      "WARNING:root:Truncating @ 40, latest SV = 0.00447676865415087\n",
      "WARNING:root:Truncating @ 40, latest SV = 0.004403695947234208\n",
      "WARNING:root:Truncating @ 40, latest SV = 0.00420747553814398\n",
      "WARNING:root:Truncating @ 40, latest SV = 0.003879170295555347\n",
      "WARNING:root:Truncating @ 40, latest SV = 0.003611622662387393\n",
      "WARNING:root:Truncating @ 40, latest SV = 0.0033211674037221953\n",
      "WARNING:root:Truncating @ 40, latest SV = 0.002571473567961295\n",
      "WARNING:root:Truncating @ 40, latest SV = 0.0017305395576254373\n",
      "WARNING:root:Truncating @ 40, latest SV = 0.0011464708427665652\n",
      "WARNING:root:Truncating @ 40, latest SV = 0.0005640999554348351\n",
      "WARNING:root:Truncating @ 40, latest SV = 0.00020658891612905086\n",
      "WARNING:root:Truncating @ 40, latest SV = 0.000112303311165837\n",
      "WARNING:root:Truncating @ 40, latest SV = 4.420478282253627e-05\n",
      "WARNING:root:Truncating @ 40, latest SV = 2.327366739474135e-06\n",
      "WARNING:root:Truncating @ 40, latest SV = 1.9687706665348413e-08\n"
     ]
    },
    {
     "name": "stdout",
     "output_type": "stream",
     "text": [
      "5 [1, 2, 4, 8, 16, 29, 40, 40, 40, 40, 40, 40, 40, 40, 40, 40, 40, 40, 40, 40, 40, 40, 40, 40, 40, 32, 16, 8, 4, 2, 1]\n",
      "MPS with length 30 and physical d=2\n",
      "chi [1, 6, 12, 24, 48, 87, 120, 120, 120, 120, 120, 120, 120, 120, 120, 120, 120, 120, 120, 120, 120, 120, 120, 120, 120, 96, 48, 24, 12, 6, 1]\n"
     ]
    },
    {
     "name": "stderr",
     "output_type": "stream",
     "text": [
      "WARNING:root:Truncating @ 40, latest SV = 0.001676457119325616\n",
      "WARNING:root:Truncating @ 40, latest SV = 0.0028706073364910636\n",
      "WARNING:root:Truncating @ 40, latest SV = 0.004009691643928531\n",
      "WARNING:root:Truncating @ 40, latest SV = 0.004838998395474106\n",
      "WARNING:root:Truncating @ 40, latest SV = 0.004875886978869664\n",
      "WARNING:root:Truncating @ 40, latest SV = 0.004796255082727128\n",
      "WARNING:root:Truncating @ 40, latest SV = 0.005049174005477277\n",
      "WARNING:root:Truncating @ 40, latest SV = 0.004628194303562398\n",
      "WARNING:root:Truncating @ 40, latest SV = 0.0043149564563652095\n",
      "WARNING:root:Truncating @ 40, latest SV = 0.0036156821120347416\n",
      "WARNING:root:Truncating @ 40, latest SV = 0.003096377270920839\n",
      "WARNING:root:Truncating @ 40, latest SV = 0.002605698162207147\n",
      "WARNING:root:Truncating @ 40, latest SV = 0.0020689678684117944\n",
      "WARNING:root:Truncating @ 40, latest SV = 0.0011933374418418904\n",
      "WARNING:root:Truncating @ 40, latest SV = 0.0005291199110979882\n",
      "WARNING:root:Truncating @ 40, latest SV = 0.0002413603756874369\n",
      "WARNING:root:Truncating @ 40, latest SV = 7.876265643643506e-05\n",
      "WARNING:root:Truncating @ 40, latest SV = 5.845411821376113e-06\n",
      "WARNING:root:Truncating @ 40, latest SV = 2.3123968314675866e-08\n"
     ]
    },
    {
     "name": "stdout",
     "output_type": "stream",
     "text": [
      "6 [1, 2, 4, 8, 16, 30, 40, 40, 40, 40, 40, 40, 40, 40, 40, 40, 40, 40, 40, 40, 40, 40, 40, 40, 40, 32, 16, 8, 4, 2, 1]\n",
      "MPS with length 30 and physical d=2\n",
      "chi [1, 6, 12, 24, 48, 90, 120, 120, 120, 120, 120, 120, 120, 120, 120, 120, 120, 120, 120, 120, 120, 120, 120, 120, 120, 96, 48, 24, 12, 6, 1]\n"
     ]
    },
    {
     "name": "stderr",
     "output_type": "stream",
     "text": [
      "WARNING:root:Truncating @ 40, latest SV = 0.0016928821289342838\n",
      "WARNING:root:Truncating @ 40, latest SV = 0.002727163280081302\n",
      "WARNING:root:Truncating @ 40, latest SV = 0.003707419593571639\n",
      "WARNING:root:Truncating @ 40, latest SV = 0.004211221559743705\n",
      "WARNING:root:Truncating @ 40, latest SV = 0.004584115668566652\n",
      "WARNING:root:Truncating @ 40, latest SV = 0.00426215202065446\n",
      "WARNING:root:Truncating @ 40, latest SV = 0.004240078727390666\n",
      "WARNING:root:Truncating @ 40, latest SV = 0.0036636124114091044\n",
      "WARNING:root:Truncating @ 40, latest SV = 0.0034298175040724933\n",
      "WARNING:root:Truncating @ 40, latest SV = 0.0029389977833725717\n",
      "WARNING:root:Truncating @ 40, latest SV = 0.002465829714935815\n",
      "WARNING:root:Truncating @ 40, latest SV = 0.001912245723032855\n",
      "WARNING:root:Truncating @ 40, latest SV = 0.0013212833126735977\n",
      "WARNING:root:Truncating @ 40, latest SV = 0.0009215061909656697\n",
      "WARNING:root:Truncating @ 40, latest SV = 0.0005381543110510044\n",
      "WARNING:root:Truncating @ 40, latest SV = 0.0001622023787792479\n",
      "WARNING:root:Truncating @ 40, latest SV = 2.0391775410007513e-05\n",
      "WARNING:root:Truncating @ 40, latest SV = 2.738296930775687e-06\n",
      "WARNING:root:Truncating @ 40, latest SV = 1.1875834571805767e-08\n"
     ]
    },
    {
     "name": "stdout",
     "output_type": "stream",
     "text": [
      "7 [1, 2, 4, 8, 15, 28, 40, 40, 40, 40, 40, 40, 40, 40, 40, 40, 40, 40, 40, 40, 40, 40, 40, 40, 40, 32, 16, 8, 4, 2, 1]\n",
      "MPS with length 30 and physical d=2\n",
      "chi [1, 6, 12, 24, 45, 84, 120, 120, 120, 120, 120, 120, 120, 120, 120, 120, 120, 120, 120, 120, 120, 120, 120, 120, 120, 96, 48, 24, 12, 6, 1]\n"
     ]
    },
    {
     "name": "stderr",
     "output_type": "stream",
     "text": [
      "WARNING:root:Truncating @ 40, latest SV = 0.0013295885474164607\n",
      "WARNING:root:Truncating @ 40, latest SV = 0.0022967238389230917\n",
      "WARNING:root:Truncating @ 40, latest SV = 0.003238757097129995\n",
      "WARNING:root:Truncating @ 40, latest SV = 0.00369694506345436\n",
      "WARNING:root:Truncating @ 40, latest SV = 0.004011446142025285\n",
      "WARNING:root:Truncating @ 40, latest SV = 0.004285928379677688\n",
      "WARNING:root:Truncating @ 40, latest SV = 0.004033804911701579\n",
      "WARNING:root:Truncating @ 40, latest SV = 0.0038828797799636034\n",
      "WARNING:root:Truncating @ 40, latest SV = 0.0036229016706174613\n",
      "WARNING:root:Truncating @ 40, latest SV = 0.0033025634798044446\n",
      "WARNING:root:Truncating @ 40, latest SV = 0.0027263868422144617\n",
      "WARNING:root:Truncating @ 40, latest SV = 0.0022299346977361504\n",
      "WARNING:root:Truncating @ 40, latest SV = 0.001652185208651024\n",
      "WARNING:root:Truncating @ 40, latest SV = 0.0011266574802230656\n",
      "WARNING:root:Truncating @ 40, latest SV = 0.00020072261741403588\n",
      "WARNING:root:Truncating @ 40, latest SV = 9.426576825746045e-05\n",
      "WARNING:root:Truncating @ 40, latest SV = 4.70616265511778e-05\n",
      "WARNING:root:Truncating @ 40, latest SV = 3.315892425688518e-06\n",
      "WARNING:root:Truncating @ 40, latest SV = 7.841597265031562e-09\n"
     ]
    },
    {
     "name": "stdout",
     "output_type": "stream",
     "text": [
      "8 [1, 2, 4, 8, 16, 30, 40, 40, 40, 40, 40, 40, 40, 40, 40, 40, 40, 40, 40, 40, 40, 40, 40, 40, 40, 32, 16, 8, 4, 2, 1]\n",
      "MPS with length 30 and physical d=2\n",
      "chi [1, 6, 12, 24, 48, 90, 120, 120, 120, 120, 120, 120, 120, 120, 120, 120, 120, 120, 120, 120, 120, 120, 120, 120, 120, 96, 48, 24, 12, 6, 1]\n"
     ]
    },
    {
     "name": "stderr",
     "output_type": "stream",
     "text": [
      "WARNING:root:Truncating @ 40, latest SV = 0.0009035661439773928\n",
      "WARNING:root:Truncating @ 40, latest SV = 0.0019353851443961133\n",
      "WARNING:root:Truncating @ 40, latest SV = 0.002899117728168658\n",
      "WARNING:root:Truncating @ 40, latest SV = 0.0034077305832119677\n",
      "WARNING:root:Truncating @ 40, latest SV = 0.004015198017528119\n",
      "WARNING:root:Truncating @ 40, latest SV = 0.003977185294341294\n",
      "WARNING:root:Truncating @ 40, latest SV = 0.004188584703167036\n",
      "WARNING:root:Truncating @ 40, latest SV = 0.003674453546185665\n",
      "WARNING:root:Truncating @ 40, latest SV = 0.0032688415698996507\n",
      "WARNING:root:Truncating @ 40, latest SV = 0.002641423868742881\n",
      "WARNING:root:Truncating @ 40, latest SV = 0.0019593649468006946\n",
      "WARNING:root:Truncating @ 40, latest SV = 0.001667641413324042\n",
      "WARNING:root:Truncating @ 40, latest SV = 0.0011043725727314761\n",
      "WARNING:root:Truncating @ 40, latest SV = 0.0004932926127551457\n",
      "WARNING:root:Truncating @ 40, latest SV = 0.00010000358263212713\n",
      "WARNING:root:Truncating @ 40, latest SV = 4.903438145219331e-05\n",
      "WARNING:root:Truncating @ 40, latest SV = 2.160927189972118e-05\n",
      "WARNING:root:Truncating @ 40, latest SV = 6.684937501953062e-07\n",
      "WARNING:root:Truncating @ 40, latest SV = 2.300750532656187e-09\n"
     ]
    },
    {
     "name": "stdout",
     "output_type": "stream",
     "text": [
      "9 [1, 2, 4, 8, 14, 26, 40, 40, 40, 40, 40, 40, 40, 40, 40, 40, 40, 40, 40, 40, 40, 40, 40, 40, 40, 32, 16, 8, 4, 2, 1]\n",
      "MPS with length 30 and physical d=2\n",
      "chi [1, 6, 12, 24, 42, 78, 120, 120, 120, 120, 120, 120, 120, 120, 120, 120, 120, 120, 120, 120, 120, 120, 120, 120, 120, 96, 48, 24, 12, 6, 1]\n"
     ]
    },
    {
     "name": "stderr",
     "output_type": "stream",
     "text": [
      "WARNING:root:Truncating @ 40, latest SV = 0.0006098120880950586\n",
      "WARNING:root:Truncating @ 40, latest SV = 0.001330448718715557\n",
      "WARNING:root:Truncating @ 40, latest SV = 0.002161297620818746\n",
      "WARNING:root:Truncating @ 40, latest SV = 0.0025513991727335377\n",
      "WARNING:root:Truncating @ 40, latest SV = 0.002805026955184688\n",
      "WARNING:root:Truncating @ 40, latest SV = 0.0029354457074532753\n",
      "WARNING:root:Truncating @ 40, latest SV = 0.002618904419589591\n",
      "WARNING:root:Truncating @ 40, latest SV = 0.002578284187845554\n",
      "WARNING:root:Truncating @ 40, latest SV = 0.0021535661239631535\n",
      "WARNING:root:Truncating @ 40, latest SV = 0.0018971322033623022\n",
      "WARNING:root:Truncating @ 40, latest SV = 0.0018422998711213662\n",
      "WARNING:root:Truncating @ 40, latest SV = 0.0014861574392398334\n",
      "WARNING:root:Truncating @ 40, latest SV = 0.0010457715214773598\n",
      "WARNING:root:Truncating @ 40, latest SV = 0.0006855959907128412\n",
      "WARNING:root:Truncating @ 40, latest SV = 0.00016679836387026198\n",
      "WARNING:root:Truncating @ 40, latest SV = 5.1176685094137907e-05\n",
      "WARNING:root:Truncating @ 40, latest SV = 1.570551694002934e-05\n",
      "WARNING:root:Truncating @ 40, latest SV = 1.0104582197245084e-06\n",
      "WARNING:root:Truncating @ 40, latest SV = 2.6422674576903745e-09\n"
     ]
    },
    {
     "name": "stdout",
     "output_type": "stream",
     "text": [
      "10 [1, 2, 4, 8, 15, 27, 40, 40, 40, 40, 40, 40, 40, 40, 40, 40, 40, 40, 40, 40, 40, 40, 40, 40, 40, 32, 16, 8, 4, 2, 1]\n",
      "MPS with length 30 and physical d=2\n",
      "chi [1, 6, 12, 24, 45, 81, 120, 120, 120, 120, 120, 120, 120, 120, 120, 120, 120, 120, 120, 120, 120, 120, 120, 120, 120, 96, 48, 24, 12, 6, 1]\n"
     ]
    },
    {
     "name": "stderr",
     "output_type": "stream",
     "text": [
      "WARNING:root:Truncating @ 40, latest SV = 0.000837408550120582\n",
      "WARNING:root:Truncating @ 40, latest SV = 0.001368449564593018\n",
      "WARNING:root:Truncating @ 40, latest SV = 0.0019432856606629403\n",
      "WARNING:root:Truncating @ 40, latest SV = 0.0023264047500439027\n",
      "WARNING:root:Truncating @ 40, latest SV = 0.002456361971228866\n",
      "WARNING:root:Truncating @ 40, latest SV = 0.002443384586063442\n",
      "WARNING:root:Truncating @ 40, latest SV = 0.002209828608808016\n",
      "WARNING:root:Truncating @ 40, latest SV = 0.002209557756692144\n",
      "WARNING:root:Truncating @ 40, latest SV = 0.001958314092682764\n",
      "WARNING:root:Truncating @ 40, latest SV = 0.00171248511313265\n",
      "WARNING:root:Truncating @ 40, latest SV = 0.0015090398986872843\n",
      "WARNING:root:Truncating @ 40, latest SV = 0.0011455081250542165\n",
      "WARNING:root:Truncating @ 40, latest SV = 0.0008874582351945622\n",
      "WARNING:root:Truncating @ 40, latest SV = 0.00045902843781120845\n",
      "WARNING:root:Truncating @ 40, latest SV = 6.097146022038291e-05\n",
      "WARNING:root:Truncating @ 40, latest SV = 3.448803876679284e-05\n",
      "WARNING:root:Truncating @ 40, latest SV = 1.8597233957857483e-05\n",
      "WARNING:root:Truncating @ 40, latest SV = 2.687080339816335e-07\n",
      "WARNING:root:Truncating @ 40, latest SV = 2.2302886722178787e-09\n"
     ]
    },
    {
     "name": "stdout",
     "output_type": "stream",
     "text": [
      "11 [1, 2, 4, 8, 14, 26, 40, 40, 40, 40, 40, 40, 40, 40, 40, 40, 40, 40, 40, 40, 40, 40, 40, 40, 40, 32, 16, 8, 4, 2, 1]\n",
      "MPS with length 30 and physical d=2\n",
      "chi [1, 6, 12, 24, 42, 78, 120, 120, 120, 120, 120, 120, 120, 120, 120, 120, 120, 120, 120, 120, 120, 120, 120, 120, 120, 96, 48, 24, 12, 6, 1]\n"
     ]
    },
    {
     "name": "stderr",
     "output_type": "stream",
     "text": [
      "WARNING:root:Truncating @ 40, latest SV = 0.0008856398158728865\n",
      "WARNING:root:Truncating @ 40, latest SV = 0.0018048117735248116\n",
      "WARNING:root:Truncating @ 40, latest SV = 0.0023912577724459158\n",
      "WARNING:root:Truncating @ 40, latest SV = 0.0028139493083170586\n",
      "WARNING:root:Truncating @ 40, latest SV = 0.002852779128185599\n",
      "WARNING:root:Truncating @ 40, latest SV = 0.002701969372987362\n",
      "WARNING:root:Truncating @ 40, latest SV = 0.0027036286805476716\n",
      "WARNING:root:Truncating @ 40, latest SV = 0.0024064140027440398\n",
      "WARNING:root:Truncating @ 40, latest SV = 0.0022860982503930915\n",
      "WARNING:root:Truncating @ 40, latest SV = 0.0020228633228832095\n",
      "WARNING:root:Truncating @ 40, latest SV = 0.0018878667760701847\n",
      "WARNING:root:Truncating @ 40, latest SV = 0.0015527935093727575\n",
      "WARNING:root:Truncating @ 40, latest SV = 0.0012761385121738559\n",
      "WARNING:root:Truncating @ 40, latest SV = 0.0008412635798047042\n",
      "WARNING:root:Truncating @ 40, latest SV = 0.00014447223628544546\n",
      "WARNING:root:Truncating @ 40, latest SV = 6.475994649797722e-05\n",
      "WARNING:root:Truncating @ 40, latest SV = 1.599510550516117e-05\n",
      "WARNING:root:Truncating @ 40, latest SV = 5.64489239690632e-07\n",
      "WARNING:root:Truncating @ 40, latest SV = 3.7136003626030773e-10\n"
     ]
    },
    {
     "name": "stdout",
     "output_type": "stream",
     "text": [
      "12 [1, 2, 4, 7, 14, 25, 40, 40, 40, 40, 40, 40, 40, 40, 40, 40, 40, 40, 40, 40, 40, 40, 40, 40, 40, 32, 16, 8, 4, 2, 1]\n",
      "MPS with length 30 and physical d=2\n",
      "chi [1, 6, 12, 21, 42, 75, 120, 120, 120, 120, 120, 120, 120, 120, 120, 120, 120, 120, 120, 120, 120, 120, 120, 120, 120, 96, 48, 24, 12, 6, 1]\n"
     ]
    },
    {
     "name": "stderr",
     "output_type": "stream",
     "text": [
      "WARNING:root:Truncating @ 40, latest SV = 0.0008429750631632518\n",
      "WARNING:root:Truncating @ 40, latest SV = 0.0016147837396757261\n",
      "WARNING:root:Truncating @ 40, latest SV = 0.0023226841917684178\n",
      "WARNING:root:Truncating @ 40, latest SV = 0.0029862779690580147\n",
      "WARNING:root:Truncating @ 40, latest SV = 0.003257737455422515\n",
      "WARNING:root:Truncating @ 40, latest SV = 0.0028409568362312877\n",
      "WARNING:root:Truncating @ 40, latest SV = 0.002785411838014848\n",
      "WARNING:root:Truncating @ 40, latest SV = 0.0028075578729559957\n",
      "WARNING:root:Truncating @ 40, latest SV = 0.002437147832796575\n",
      "WARNING:root:Truncating @ 40, latest SV = 0.002164869563335913\n",
      "WARNING:root:Truncating @ 40, latest SV = 0.001786354593947018\n",
      "WARNING:root:Truncating @ 40, latest SV = 0.0014748438701415228\n",
      "WARNING:root:Truncating @ 40, latest SV = 0.0009084611050068244\n",
      "WARNING:root:Truncating @ 40, latest SV = 0.0005383558810382596\n",
      "WARNING:root:Truncating @ 40, latest SV = 0.00010654040982882571\n",
      "WARNING:root:Truncating @ 40, latest SV = 4.131423206835838e-05\n",
      "WARNING:root:Truncating @ 40, latest SV = 2.2723421748559893e-05\n",
      "WARNING:root:Truncating @ 40, latest SV = 7.038664454291439e-07\n",
      "WARNING:root:Truncating @ 40, latest SV = 8.557495386906925e-10\n"
     ]
    },
    {
     "name": "stdout",
     "output_type": "stream",
     "text": [
      "13 [1, 2, 4, 8, 14, 25, 40, 40, 40, 40, 40, 40, 40, 40, 40, 40, 40, 40, 40, 40, 40, 40, 40, 40, 40, 32, 16, 8, 4, 2, 1]\n",
      "MPS with length 30 and physical d=2\n",
      "chi [1, 6, 12, 24, 42, 75, 120, 120, 120, 120, 120, 120, 120, 120, 120, 120, 120, 120, 120, 120, 120, 120, 120, 120, 120, 96, 48, 24, 12, 6, 1]\n"
     ]
    },
    {
     "name": "stderr",
     "output_type": "stream",
     "text": [
      "WARNING:root:Truncating @ 40, latest SV = 0.0011942426463475632\n",
      "WARNING:root:Truncating @ 40, latest SV = 0.0021470139615431955\n",
      "WARNING:root:Truncating @ 40, latest SV = 0.0029246871213098784\n",
      "WARNING:root:Truncating @ 40, latest SV = 0.003471619084695236\n",
      "WARNING:root:Truncating @ 40, latest SV = 0.0037251002892303786\n",
      "WARNING:root:Truncating @ 40, latest SV = 0.0039415190530282945\n",
      "WARNING:root:Truncating @ 40, latest SV = 0.003737328401742436\n",
      "WARNING:root:Truncating @ 40, latest SV = 0.003587942660314319\n",
      "WARNING:root:Truncating @ 40, latest SV = 0.003326192755390842\n",
      "WARNING:root:Truncating @ 40, latest SV = 0.003160054998797991\n",
      "WARNING:root:Truncating @ 40, latest SV = 0.0025594506480811864\n",
      "WARNING:root:Truncating @ 40, latest SV = 0.0021662422398722237\n",
      "WARNING:root:Truncating @ 40, latest SV = 0.0016229365498266095\n",
      "WARNING:root:Truncating @ 40, latest SV = 0.0010425316052141518\n",
      "WARNING:root:Truncating @ 40, latest SV = 0.00024750307030421345\n",
      "WARNING:root:Truncating @ 40, latest SV = 8.813450422322141e-05\n",
      "WARNING:root:Truncating @ 40, latest SV = 2.0210794298952493e-05\n",
      "WARNING:root:Truncating @ 40, latest SV = 1.5693633210253796e-06\n",
      "WARNING:root:Truncating @ 40, latest SV = 8.256879287965376e-10\n"
     ]
    },
    {
     "name": "stdout",
     "output_type": "stream",
     "text": [
      "14 [1, 2, 4, 7, 14, 25, 40, 40, 40, 40, 40, 40, 40, 40, 40, 40, 40, 40, 40, 40, 40, 40, 40, 40, 40, 32, 16, 8, 4, 2, 1]\n",
      "MPS with length 30 and physical d=2\n",
      "chi [1, 6, 12, 21, 42, 75, 120, 120, 120, 120, 120, 120, 120, 120, 120, 120, 120, 120, 120, 120, 120, 120, 120, 120, 120, 96, 48, 24, 12, 6, 1]\n"
     ]
    },
    {
     "name": "stderr",
     "output_type": "stream",
     "text": [
      "WARNING:root:Truncating @ 40, latest SV = 0.001326215356059062\n",
      "WARNING:root:Truncating @ 40, latest SV = 0.002169039584751491\n",
      "WARNING:root:Truncating @ 40, latest SV = 0.0032540219669940943\n",
      "WARNING:root:Truncating @ 40, latest SV = 0.003493809373068308\n",
      "WARNING:root:Truncating @ 40, latest SV = 0.003647767068389576\n",
      "WARNING:root:Truncating @ 40, latest SV = 0.003772642633421142\n",
      "WARNING:root:Truncating @ 40, latest SV = 0.0033663858153949807\n",
      "WARNING:root:Truncating @ 40, latest SV = 0.0033481253352948873\n",
      "WARNING:root:Truncating @ 40, latest SV = 0.0029665397715547266\n",
      "WARNING:root:Truncating @ 40, latest SV = 0.002570590679479172\n",
      "WARNING:root:Truncating @ 40, latest SV = 0.00209071135226626\n",
      "WARNING:root:Truncating @ 40, latest SV = 0.0017157716059991491\n",
      "WARNING:root:Truncating @ 40, latest SV = 0.001104234498089576\n",
      "WARNING:root:Truncating @ 40, latest SV = 0.0005554928206108188\n",
      "WARNING:root:Truncating @ 40, latest SV = 0.00014724319786643707\n",
      "WARNING:root:Truncating @ 40, latest SV = 3.629026592612535e-05\n",
      "WARNING:root:Truncating @ 40, latest SV = 1.9950031928443183e-05\n",
      "WARNING:root:Truncating @ 40, latest SV = 5.419158500417895e-07\n",
      "WARNING:root:Truncating @ 40, latest SV = 8.158052888081748e-10\n"
     ]
    },
    {
     "name": "stdout",
     "output_type": "stream",
     "text": [
      "15 [1, 2, 4, 8, 14, 26, 40, 40, 40, 40, 40, 40, 40, 40, 40, 40, 40, 40, 40, 40, 40, 40, 40, 40, 40, 32, 16, 8, 4, 2, 1]\n",
      "MPS with length 30 and physical d=2\n",
      "chi [1, 6, 12, 24, 42, 78, 120, 120, 120, 120, 120, 120, 120, 120, 120, 120, 120, 120, 120, 120, 120, 120, 120, 120, 120, 96, 48, 24, 12, 6, 1]\n"
     ]
    },
    {
     "name": "stderr",
     "output_type": "stream",
     "text": [
      "WARNING:root:Truncating @ 40, latest SV = 0.0013877196280531554\n",
      "WARNING:root:Truncating @ 40, latest SV = 0.0023028800564982646\n",
      "WARNING:root:Truncating @ 40, latest SV = 0.003041984302838521\n",
      "WARNING:root:Truncating @ 40, latest SV = 0.0033008890990578466\n",
      "WARNING:root:Truncating @ 40, latest SV = 0.0034898173514859754\n",
      "WARNING:root:Truncating @ 40, latest SV = 0.003576184558726453\n",
      "WARNING:root:Truncating @ 40, latest SV = 0.003235075070136519\n",
      "WARNING:root:Truncating @ 40, latest SV = 0.0029786286115159703\n",
      "WARNING:root:Truncating @ 40, latest SV = 0.002780155102166584\n",
      "WARNING:root:Truncating @ 40, latest SV = 0.002598863305343882\n",
      "WARNING:root:Truncating @ 40, latest SV = 0.0021758386232404907\n",
      "WARNING:root:Truncating @ 40, latest SV = 0.0018336371812149818\n",
      "WARNING:root:Truncating @ 40, latest SV = 0.001547001378491935\n",
      "WARNING:root:Truncating @ 40, latest SV = 0.0010304498323610103\n",
      "WARNING:root:Truncating @ 40, latest SV = 0.0004468818275421853\n",
      "WARNING:root:Truncating @ 40, latest SV = 0.00012625273161116356\n",
      "WARNING:root:Truncating @ 40, latest SV = 2.1512512007505563e-05\n",
      "WARNING:root:Truncating @ 40, latest SV = 1.7020203259009857e-06\n"
     ]
    },
    {
     "name": "stdout",
     "output_type": "stream",
     "text": [
      "16 [1, 2, 4, 7, 12, 21, 38, 40, 40, 40, 40, 40, 40, 40, 40, 40, 40, 40, 40, 40, 40, 40, 40, 40, 40, 32, 16, 8, 4, 2, 1]\n",
      "MPS with length 30 and physical d=2\n",
      "chi [1, 6, 12, 21, 36, 63, 114, 120, 120, 120, 120, 120, 120, 120, 120, 120, 120, 120, 120, 120, 120, 120, 120, 120, 120, 96, 48, 24, 12, 6, 1]\n"
     ]
    },
    {
     "name": "stderr",
     "output_type": "stream",
     "text": [
      "WARNING:root:Truncating @ 40, latest SV = 0.0014253843108673777\n",
      "WARNING:root:Truncating @ 40, latest SV = 0.002330156688080022\n",
      "WARNING:root:Truncating @ 40, latest SV = 0.0029173405397794256\n",
      "WARNING:root:Truncating @ 40, latest SV = 0.0029938057081047185\n",
      "WARNING:root:Truncating @ 40, latest SV = 0.00321965876917014\n",
      "WARNING:root:Truncating @ 40, latest SV = 0.003224679073856486\n",
      "WARNING:root:Truncating @ 40, latest SV = 0.002943271876699768\n",
      "WARNING:root:Truncating @ 40, latest SV = 0.0027808964585981826\n",
      "WARNING:root:Truncating @ 40, latest SV = 0.0026424600097343463\n",
      "WARNING:root:Truncating @ 40, latest SV = 0.0021799968787708643\n",
      "WARNING:root:Truncating @ 40, latest SV = 0.0017886272136400877\n",
      "WARNING:root:Truncating @ 40, latest SV = 0.001413938178348723\n",
      "WARNING:root:Truncating @ 40, latest SV = 0.0008684366143319693\n",
      "WARNING:root:Truncating @ 40, latest SV = 0.0005158125572919714\n",
      "WARNING:root:Truncating @ 40, latest SV = 0.00035391018638444155\n",
      "WARNING:root:Truncating @ 40, latest SV = 0.0001480818143481307\n",
      "WARNING:root:Truncating @ 40, latest SV = 1.3858371485255479e-05\n",
      "WARNING:root:Truncating @ 40, latest SV = 3.0255447415340915e-07\n",
      "WARNING:root:Truncating @ 40, latest SV = 1.2346004244681757e-10\n"
     ]
    },
    {
     "name": "stdout",
     "output_type": "stream",
     "text": [
      "17 [1, 2, 4, 8, 14, 24, 40, 40, 40, 40, 40, 40, 40, 40, 40, 40, 40, 40, 40, 40, 40, 40, 40, 40, 40, 32, 16, 8, 4, 2, 1]\n",
      "MPS with length 30 and physical d=2\n",
      "chi [1, 6, 12, 24, 42, 72, 120, 120, 120, 120, 120, 120, 120, 120, 120, 120, 120, 120, 120, 120, 120, 120, 120, 120, 120, 96, 48, 24, 12, 6, 1]\n"
     ]
    },
    {
     "name": "stderr",
     "output_type": "stream",
     "text": [
      "WARNING:root:Truncating @ 40, latest SV = 0.0015648810092412798\n",
      "WARNING:root:Truncating @ 40, latest SV = 0.002447511139670053\n",
      "WARNING:root:Truncating @ 40, latest SV = 0.003294187615502643\n",
      "WARNING:root:Truncating @ 40, latest SV = 0.0038114178001879637\n",
      "WARNING:root:Truncating @ 40, latest SV = 0.003631531732092162\n",
      "WARNING:root:Truncating @ 40, latest SV = 0.003742158721954301\n",
      "WARNING:root:Truncating @ 40, latest SV = 0.0033763481263987586\n",
      "WARNING:root:Truncating @ 40, latest SV = 0.0029106946696842483\n",
      "WARNING:root:Truncating @ 40, latest SV = 0.002752230452204675\n",
      "WARNING:root:Truncating @ 40, latest SV = 0.0022602888578074415\n",
      "WARNING:root:Truncating @ 40, latest SV = 0.002016672206613241\n",
      "WARNING:root:Truncating @ 40, latest SV = 0.0017023560133732033\n",
      "WARNING:root:Truncating @ 40, latest SV = 0.0014957205819938393\n",
      "WARNING:root:Truncating @ 40, latest SV = 0.0010445187515440942\n",
      "WARNING:root:Truncating @ 40, latest SV = 0.0005420431650498375\n",
      "WARNING:root:Truncating @ 40, latest SV = 0.00015645362907624536\n",
      "WARNING:root:Truncating @ 40, latest SV = 1.227551543092881e-05\n",
      "WARNING:root:Truncating @ 40, latest SV = 6.167790195836248e-07\n"
     ]
    },
    {
     "name": "stdout",
     "output_type": "stream",
     "text": [
      "18 [1, 2, 4, 7, 12, 22, 38, 40, 40, 40, 40, 40, 40, 40, 40, 40, 40, 40, 40, 40, 40, 40, 40, 40, 40, 32, 16, 8, 4, 2, 1]\n",
      "MPS with length 30 and physical d=2\n",
      "chi [1, 6, 12, 21, 36, 66, 114, 120, 120, 120, 120, 120, 120, 120, 120, 120, 120, 120, 120, 120, 120, 120, 120, 120, 120, 96, 48, 24, 12, 6, 1]\n"
     ]
    },
    {
     "name": "stderr",
     "output_type": "stream",
     "text": [
      "WARNING:root:Truncating @ 40, latest SV = 0.0017014673424736938\n",
      "WARNING:root:Truncating @ 40, latest SV = 0.002552068296593408\n",
      "WARNING:root:Truncating @ 40, latest SV = 0.0032397534283156613\n",
      "WARNING:root:Truncating @ 40, latest SV = 0.004021649294206901\n",
      "WARNING:root:Truncating @ 40, latest SV = 0.003940878325350553\n",
      "WARNING:root:Truncating @ 40, latest SV = 0.00414335396186393\n",
      "WARNING:root:Truncating @ 40, latest SV = 0.0039816521734734696\n",
      "WARNING:root:Truncating @ 40, latest SV = 0.003772428673596013\n",
      "WARNING:root:Truncating @ 40, latest SV = 0.0035801930736467\n",
      "WARNING:root:Truncating @ 40, latest SV = 0.003159175855089213\n",
      "WARNING:root:Truncating @ 40, latest SV = 0.002500363443842777\n",
      "WARNING:root:Truncating @ 40, latest SV = 0.0019546873553758872\n",
      "WARNING:root:Truncating @ 40, latest SV = 0.001399851128429184\n",
      "WARNING:root:Truncating @ 40, latest SV = 0.0008458756324482895\n",
      "WARNING:root:Truncating @ 40, latest SV = 0.0004431941012696241\n",
      "WARNING:root:Truncating @ 40, latest SV = 0.0001421234418823874\n",
      "WARNING:root:Truncating @ 40, latest SV = 1.788123174060563e-05\n",
      "WARNING:root:Truncating @ 40, latest SV = 5.983313518534321e-07\n"
     ]
    },
    {
     "name": "stdout",
     "output_type": "stream",
     "text": [
      "19 [1, 2, 4, 7, 13, 24, 40, 40, 40, 40, 40, 40, 40, 40, 40, 40, 40, 40, 40, 40, 40, 40, 40, 40, 40, 32, 16, 8, 4, 2, 1]\n",
      "MPS with length 30 and physical d=2\n",
      "chi [1, 6, 12, 21, 39, 72, 120, 120, 120, 120, 120, 120, 120, 120, 120, 120, 120, 120, 120, 120, 120, 120, 120, 120, 120, 96, 48, 24, 12, 6, 1]\n"
     ]
    },
    {
     "name": "stderr",
     "output_type": "stream",
     "text": [
      "WARNING:root:Truncating @ 40, latest SV = 0.0016606693861121271\n",
      "WARNING:root:Truncating @ 40, latest SV = 0.0025843383499095473\n",
      "WARNING:root:Truncating @ 40, latest SV = 0.0032942593609891968\n",
      "WARNING:root:Truncating @ 40, latest SV = 0.003666910526788854\n",
      "WARNING:root:Truncating @ 40, latest SV = 0.003909088262519992\n",
      "WARNING:root:Truncating @ 40, latest SV = 0.003625127098812446\n",
      "WARNING:root:Truncating @ 40, latest SV = 0.0038043755832504475\n",
      "WARNING:root:Truncating @ 40, latest SV = 0.003779218318627948\n",
      "WARNING:root:Truncating @ 40, latest SV = 0.0032881780777946476\n",
      "WARNING:root:Truncating @ 40, latest SV = 0.0030794944596369864\n",
      "WARNING:root:Truncating @ 40, latest SV = 0.002553215491276641\n",
      "WARNING:root:Truncating @ 40, latest SV = 0.002120938236417993\n",
      "WARNING:root:Truncating @ 40, latest SV = 0.0015694234634329978\n",
      "WARNING:root:Truncating @ 40, latest SV = 0.0009852454674908495\n",
      "WARNING:root:Truncating @ 40, latest SV = 0.0005669680271233066\n",
      "WARNING:root:Truncating @ 40, latest SV = 0.0002603634758959219\n",
      "WARNING:root:Truncating @ 40, latest SV = 9.316839560776267e-05\n",
      "WARNING:root:Truncating @ 40, latest SV = 2.527257434280471e-06\n"
     ]
    },
    {
     "name": "stdout",
     "output_type": "stream",
     "text": [
      "20 [1, 2, 4, 7, 12, 20, 39, 40, 40, 40, 40, 40, 40, 40, 40, 40, 40, 40, 40, 40, 40, 40, 40, 40, 40, 32, 16, 8, 4, 2, 1]\n",
      "MPS with length 30 and physical d=2\n",
      "chi [1, 6, 12, 21, 36, 60, 117, 120, 120, 120, 120, 120, 120, 120, 120, 120, 120, 120, 120, 120, 120, 120, 120, 120, 120, 96, 48, 24, 12, 6, 1]\n"
     ]
    },
    {
     "name": "stderr",
     "output_type": "stream",
     "text": [
      "WARNING:root:Truncating @ 40, latest SV = 0.001313489073922711\n",
      "WARNING:root:Truncating @ 40, latest SV = 0.0023215688899530236\n",
      "WARNING:root:Truncating @ 40, latest SV = 0.002786045267379931\n",
      "WARNING:root:Truncating @ 40, latest SV = 0.003011829416603374\n",
      "WARNING:root:Truncating @ 40, latest SV = 0.0029402532042410484\n",
      "WARNING:root:Truncating @ 40, latest SV = 0.0029705405113881135\n",
      "WARNING:root:Truncating @ 40, latest SV = 0.002985083655422398\n",
      "WARNING:root:Truncating @ 40, latest SV = 0.002632801363845704\n",
      "WARNING:root:Truncating @ 40, latest SV = 0.002482573690068444\n",
      "WARNING:root:Truncating @ 40, latest SV = 0.0021858046900603417\n",
      "WARNING:root:Truncating @ 40, latest SV = 0.001864541909918526\n",
      "WARNING:root:Truncating @ 40, latest SV = 0.0015075213291293268\n",
      "WARNING:root:Truncating @ 40, latest SV = 0.0011278579119006335\n",
      "WARNING:root:Truncating @ 40, latest SV = 0.0007153830931765807\n",
      "WARNING:root:Truncating @ 40, latest SV = 0.00032299383236054755\n",
      "WARNING:root:Truncating @ 40, latest SV = 0.00013460837661192934\n",
      "WARNING:root:Truncating @ 40, latest SV = 3.4874684022977046e-05\n",
      "WARNING:root:Truncating @ 40, latest SV = 1.7644970626472118e-07\n"
     ]
    },
    {
     "name": "stdout",
     "output_type": "stream",
     "text": [
      "21 [1, 2, 4, 7, 13, 21, 36, 40, 40, 40, 40, 40, 40, 40, 40, 40, 40, 40, 40, 40, 40, 40, 40, 40, 40, 32, 16, 8, 4, 2, 1]\n",
      "MPS with length 30 and physical d=2\n",
      "chi [1, 6, 12, 21, 39, 63, 108, 120, 120, 120, 120, 120, 120, 120, 120, 120, 120, 120, 120, 120, 120, 120, 120, 120, 120, 96, 48, 24, 12, 6, 1]\n"
     ]
    },
    {
     "name": "stderr",
     "output_type": "stream",
     "text": [
      "WARNING:root:Truncating @ 40, latest SV = 0.0014983780846188801\n",
      "WARNING:root:Truncating @ 40, latest SV = 0.0022148594380362705\n",
      "WARNING:root:Truncating @ 40, latest SV = 0.002767167748663848\n",
      "WARNING:root:Truncating @ 40, latest SV = 0.0030726209838449078\n",
      "WARNING:root:Truncating @ 40, latest SV = 0.003035694727207947\n",
      "WARNING:root:Truncating @ 40, latest SV = 0.002912776087338652\n",
      "WARNING:root:Truncating @ 40, latest SV = 0.0028256124229875976\n",
      "WARNING:root:Truncating @ 40, latest SV = 0.0025718210776512853\n",
      "WARNING:root:Truncating @ 40, latest SV = 0.0024015015447446256\n",
      "WARNING:root:Truncating @ 40, latest SV = 0.0021793868876488695\n",
      "WARNING:root:Truncating @ 40, latest SV = 0.0020197060259141307\n",
      "WARNING:root:Truncating @ 40, latest SV = 0.0016932249497466651\n",
      "WARNING:root:Truncating @ 40, latest SV = 0.001387578627945829\n",
      "WARNING:root:Truncating @ 40, latest SV = 0.0010213408624349437\n",
      "WARNING:root:Truncating @ 40, latest SV = 0.0005754194219697059\n",
      "WARNING:root:Truncating @ 40, latest SV = 0.00012620036931909804\n",
      "WARNING:root:Truncating @ 40, latest SV = 3.182434420411734e-05\n",
      "WARNING:root:Truncating @ 40, latest SV = 2.0033801410631794e-06\n"
     ]
    },
    {
     "name": "stdout",
     "output_type": "stream",
     "text": [
      "22 [1, 2, 4, 6, 11, 20, 36, 40, 40, 40, 40, 40, 40, 40, 40, 40, 40, 40, 40, 40, 40, 40, 40, 40, 40, 32, 16, 8, 4, 2, 1]\n",
      "MPS with length 30 and physical d=2\n",
      "chi [1, 6, 12, 18, 33, 60, 108, 120, 120, 120, 120, 120, 120, 120, 120, 120, 120, 120, 120, 120, 120, 120, 120, 120, 120, 96, 48, 24, 12, 6, 1]\n"
     ]
    },
    {
     "name": "stderr",
     "output_type": "stream",
     "text": [
      "WARNING:root:Truncating @ 40, latest SV = 0.0011703524723341364\n",
      "WARNING:root:Truncating @ 40, latest SV = 0.001889389009771628\n",
      "WARNING:root:Truncating @ 40, latest SV = 0.002239261213140413\n",
      "WARNING:root:Truncating @ 40, latest SV = 0.0024612989742700837\n",
      "WARNING:root:Truncating @ 40, latest SV = 0.0025849623198712147\n",
      "WARNING:root:Truncating @ 40, latest SV = 0.0024191483364882065\n",
      "WARNING:root:Truncating @ 40, latest SV = 0.002439410574236996\n",
      "WARNING:root:Truncating @ 40, latest SV = 0.0021618637528070857\n",
      "WARNING:root:Truncating @ 40, latest SV = 0.001949709887574278\n",
      "WARNING:root:Truncating @ 40, latest SV = 0.0017099140305427143\n",
      "WARNING:root:Truncating @ 40, latest SV = 0.0013029801355260047\n",
      "WARNING:root:Truncating @ 40, latest SV = 0.0010485848075938835\n",
      "WARNING:root:Truncating @ 40, latest SV = 0.0008102165291845315\n",
      "WARNING:root:Truncating @ 40, latest SV = 0.0004399907716005268\n",
      "WARNING:root:Truncating @ 40, latest SV = 0.00019396083536671115\n",
      "WARNING:root:Truncating @ 40, latest SV = 8.648236360867402e-05\n",
      "WARNING:root:Truncating @ 40, latest SV = 1.3283192722606658e-05\n",
      "WARNING:root:Truncating @ 40, latest SV = 4.0809472626230036e-07\n"
     ]
    },
    {
     "name": "stdout",
     "output_type": "stream",
     "text": [
      "23 [1, 2, 4, 6, 9, 17, 33, 40, 40, 40, 40, 40, 40, 40, 40, 40, 40, 40, 40, 40, 40, 40, 40, 40, 40, 32, 16, 8, 4, 2, 1]\n",
      "MPS with length 30 and physical d=2\n",
      "chi [1, 6, 12, 18, 27, 51, 99, 120, 120, 120, 120, 120, 120, 120, 120, 120, 120, 120, 120, 120, 120, 120, 120, 120, 120, 96, 48, 24, 12, 6, 1]\n"
     ]
    },
    {
     "name": "stderr",
     "output_type": "stream",
     "text": [
      "WARNING:root:Truncating @ 40, latest SV = 0.0013117295141500886\n",
      "WARNING:root:Truncating @ 40, latest SV = 0.002083555897465359\n",
      "WARNING:root:Truncating @ 40, latest SV = 0.0024461928486197615\n",
      "WARNING:root:Truncating @ 40, latest SV = 0.002957561639697772\n",
      "WARNING:root:Truncating @ 40, latest SV = 0.0030364030361438666\n",
      "WARNING:root:Truncating @ 40, latest SV = 0.0031059112257263628\n",
      "WARNING:root:Truncating @ 40, latest SV = 0.0028702495016252215\n",
      "WARNING:root:Truncating @ 40, latest SV = 0.0025383484602938978\n",
      "WARNING:root:Truncating @ 40, latest SV = 0.0023082817586301614\n",
      "WARNING:root:Truncating @ 40, latest SV = 0.0019769241922831596\n",
      "WARNING:root:Truncating @ 40, latest SV = 0.0017104175200025077\n",
      "WARNING:root:Truncating @ 40, latest SV = 0.0015403402234964677\n",
      "WARNING:root:Truncating @ 40, latest SV = 0.001212787646525998\n",
      "WARNING:root:Truncating @ 40, latest SV = 0.0007681414236973672\n",
      "WARNING:root:Truncating @ 40, latest SV = 0.00028002876558047633\n",
      "WARNING:root:Truncating @ 40, latest SV = 0.00010386961330769508\n",
      "WARNING:root:Truncating @ 40, latest SV = 3.737109442423073e-05\n",
      "WARNING:root:Truncating @ 40, latest SV = 2.6740252376807884e-06\n"
     ]
    },
    {
     "name": "stdout",
     "output_type": "stream",
     "text": [
      "24 [1, 2, 3, 5, 10, 19, 35, 40, 40, 40, 40, 40, 40, 40, 40, 40, 40, 40, 40, 40, 40, 40, 40, 40, 40, 32, 16, 8, 4, 2, 1]\n",
      "MPS with length 30 and physical d=2\n",
      "chi [1, 6, 9, 15, 30, 57, 105, 120, 120, 120, 120, 120, 120, 120, 120, 120, 120, 120, 120, 120, 120, 120, 120, 120, 120, 96, 48, 24, 12, 6, 1]\n"
     ]
    },
    {
     "name": "stderr",
     "output_type": "stream",
     "text": [
      "WARNING:root:Truncating @ 40, latest SV = 0.0011272623812139727\n",
      "WARNING:root:Truncating @ 40, latest SV = 0.001810562872307359\n",
      "WARNING:root:Truncating @ 40, latest SV = 0.0023700476210013017\n",
      "WARNING:root:Truncating @ 40, latest SV = 0.002755540808785393\n",
      "WARNING:root:Truncating @ 40, latest SV = 0.0028887625594337806\n",
      "WARNING:root:Truncating @ 40, latest SV = 0.0028601099701074132\n",
      "WARNING:root:Truncating @ 40, latest SV = 0.0027662427680816945\n",
      "WARNING:root:Truncating @ 40, latest SV = 0.0025515394368453713\n",
      "WARNING:root:Truncating @ 40, latest SV = 0.0023483490300720135\n",
      "WARNING:root:Truncating @ 40, latest SV = 0.002004373063062747\n",
      "WARNING:root:Truncating @ 40, latest SV = 0.001670277613039292\n",
      "WARNING:root:Truncating @ 40, latest SV = 0.0013507911451644298\n",
      "WARNING:root:Truncating @ 40, latest SV = 0.0009844870326033755\n",
      "WARNING:root:Truncating @ 40, latest SV = 0.000636766153306084\n",
      "WARNING:root:Truncating @ 40, latest SV = 0.00040052119116871024\n",
      "WARNING:root:Truncating @ 40, latest SV = 0.0002232651559766453\n",
      "WARNING:root:Truncating @ 40, latest SV = 4.1842148415695515e-05\n",
      "WARNING:root:Truncating @ 40, latest SV = 2.310768942072686e-06\n"
     ]
    },
    {
     "name": "stdout",
     "output_type": "stream",
     "text": [
      "25 [1, 2, 4, 7, 10, 19, 32, 40, 40, 40, 40, 40, 40, 40, 40, 40, 40, 40, 40, 40, 40, 40, 40, 40, 40, 32, 16, 8, 4, 2, 1]\n",
      "MPS with length 30 and physical d=2\n",
      "chi [1, 6, 12, 21, 30, 57, 96, 120, 120, 120, 120, 120, 120, 120, 120, 120, 120, 120, 120, 120, 120, 120, 120, 120, 120, 96, 48, 24, 12, 6, 1]\n"
     ]
    },
    {
     "name": "stderr",
     "output_type": "stream",
     "text": [
      "WARNING:root:Truncating @ 40, latest SV = 0.0016918529437732707\n",
      "WARNING:root:Truncating @ 40, latest SV = 0.002566757458662083\n",
      "WARNING:root:Truncating @ 40, latest SV = 0.003235405218150246\n",
      "WARNING:root:Truncating @ 40, latest SV = 0.0034858214167960634\n",
      "WARNING:root:Truncating @ 40, latest SV = 0.0036045847627210656\n",
      "WARNING:root:Truncating @ 40, latest SV = 0.0034422536991678488\n",
      "WARNING:root:Truncating @ 40, latest SV = 0.0033267083789358973\n",
      "WARNING:root:Truncating @ 40, latest SV = 0.003253269714293476\n",
      "WARNING:root:Truncating @ 40, latest SV = 0.002850805345606117\n",
      "WARNING:root:Truncating @ 40, latest SV = 0.0025551989123088355\n",
      "WARNING:root:Truncating @ 40, latest SV = 0.002311904492034623\n",
      "WARNING:root:Truncating @ 40, latest SV = 0.0018797389857407236\n",
      "WARNING:root:Truncating @ 40, latest SV = 0.0014394711701258896\n",
      "WARNING:root:Truncating @ 40, latest SV = 0.0010970422157433328\n",
      "WARNING:root:Truncating @ 40, latest SV = 0.0006931374844160511\n",
      "WARNING:root:Truncating @ 40, latest SV = 0.00046294150264277975\n",
      "WARNING:root:Truncating @ 40, latest SV = 0.0002152571911562339\n",
      "WARNING:root:Truncating @ 40, latest SV = 2.2679565971360318e-05\n"
     ]
    },
    {
     "name": "stdout",
     "output_type": "stream",
     "text": [
      "26 [1, 2, 4, 7, 11, 19, 34, 40, 40, 40, 40, 40, 40, 40, 40, 40, 40, 40, 40, 40, 40, 40, 40, 40, 40, 32, 16, 8, 4, 2, 1]\n",
      "MPS with length 30 and physical d=2\n",
      "chi [1, 6, 12, 21, 33, 57, 102, 120, 120, 120, 120, 120, 120, 120, 120, 120, 120, 120, 120, 120, 120, 120, 120, 120, 120, 96, 48, 24, 12, 6, 1]\n"
     ]
    },
    {
     "name": "stderr",
     "output_type": "stream",
     "text": [
      "WARNING:root:Truncating @ 40, latest SV = 0.0017042048822606404\n",
      "WARNING:root:Truncating @ 40, latest SV = 0.002625100687259816\n",
      "WARNING:root:Truncating @ 40, latest SV = 0.00316358907446346\n",
      "WARNING:root:Truncating @ 40, latest SV = 0.0036842300860019375\n",
      "WARNING:root:Truncating @ 40, latest SV = 0.0038881509164988724\n",
      "WARNING:root:Truncating @ 40, latest SV = 0.0036719488243371324\n",
      "WARNING:root:Truncating @ 40, latest SV = 0.0035588351848758267\n",
      "WARNING:root:Truncating @ 40, latest SV = 0.003143033321390231\n",
      "WARNING:root:Truncating @ 40, latest SV = 0.002736273950635006\n",
      "WARNING:root:Truncating @ 40, latest SV = 0.002383640931078242\n",
      "WARNING:root:Truncating @ 40, latest SV = 0.001899689251961957\n",
      "WARNING:root:Truncating @ 40, latest SV = 0.0015117127464333202\n",
      "WARNING:root:Truncating @ 40, latest SV = 0.00119106172097682\n",
      "WARNING:root:Truncating @ 40, latest SV = 0.0009431146911246953\n",
      "WARNING:root:Truncating @ 40, latest SV = 0.0007864867652912885\n",
      "WARNING:root:Truncating @ 40, latest SV = 0.0005233597175035376\n",
      "WARNING:root:Truncating @ 40, latest SV = 0.0002278082687403372\n",
      "WARNING:root:Truncating @ 40, latest SV = 3.9673225116903455e-05\n"
     ]
    },
    {
     "name": "stdout",
     "output_type": "stream",
     "text": [
      "27 [1, 2, 4, 6, 11, 20, 36, 40, 40, 40, 40, 40, 40, 40, 40, 40, 40, 40, 40, 40, 40, 40, 40, 40, 40, 32, 16, 8, 4, 2, 1]\n",
      "MPS with length 30 and physical d=2\n",
      "chi [1, 6, 12, 18, 33, 60, 108, 120, 120, 120, 120, 120, 120, 120, 120, 120, 120, 120, 120, 120, 120, 120, 120, 120, 120, 96, 48, 24, 12, 6, 1]\n"
     ]
    },
    {
     "name": "stderr",
     "output_type": "stream",
     "text": [
      "WARNING:root:Truncating @ 40, latest SV = 0.0013429241457238595\n",
      "WARNING:root:Truncating @ 40, latest SV = 0.0019301552567001638\n",
      "WARNING:root:Truncating @ 40, latest SV = 0.0023632958094334027\n",
      "WARNING:root:Truncating @ 40, latest SV = 0.0026539261697601803\n",
      "WARNING:root:Truncating @ 40, latest SV = 0.002706443515119851\n",
      "WARNING:root:Truncating @ 40, latest SV = 0.002608894852508663\n",
      "WARNING:root:Truncating @ 40, latest SV = 0.0023103382059245824\n",
      "WARNING:root:Truncating @ 40, latest SV = 0.002243949040776989\n",
      "WARNING:root:Truncating @ 40, latest SV = 0.001998205473528316\n",
      "WARNING:root:Truncating @ 40, latest SV = 0.0016371669352250903\n",
      "WARNING:root:Truncating @ 40, latest SV = 0.0014647360595094498\n",
      "WARNING:root:Truncating @ 40, latest SV = 0.001448284014218881\n",
      "WARNING:root:Truncating @ 40, latest SV = 0.0012653843804054008\n",
      "WARNING:root:Truncating @ 40, latest SV = 0.0009768586724465949\n",
      "WARNING:root:Truncating @ 40, latest SV = 0.000818037780266107\n",
      "WARNING:root:Truncating @ 40, latest SV = 0.0006123049757501893\n",
      "WARNING:root:Truncating @ 40, latest SV = 0.0002465457507614216\n",
      "WARNING:root:Truncating @ 40, latest SV = 2.4638435343564383e-05\n"
     ]
    },
    {
     "name": "stdout",
     "output_type": "stream",
     "text": [
      "28 [1, 2, 3, 5, 10, 18, 32, 40, 40, 40, 40, 40, 40, 40, 40, 40, 40, 40, 40, 40, 40, 40, 40, 40, 40, 32, 16, 8, 4, 2, 1]\n",
      "MPS with length 30 and physical d=2\n",
      "chi [1, 6, 9, 15, 30, 54, 96, 120, 120, 120, 120, 120, 120, 120, 120, 120, 120, 120, 120, 120, 120, 120, 120, 120, 120, 96, 48, 24, 12, 6, 1]\n"
     ]
    },
    {
     "name": "stderr",
     "output_type": "stream",
     "text": [
      "WARNING:root:Truncating @ 40, latest SV = 0.0010337938615066701\n",
      "WARNING:root:Truncating @ 40, latest SV = 0.0014845978726143203\n",
      "WARNING:root:Truncating @ 40, latest SV = 0.0018919229928918444\n",
      "WARNING:root:Truncating @ 40, latest SV = 0.001979409886875123\n",
      "WARNING:root:Truncating @ 40, latest SV = 0.001965893063668393\n",
      "WARNING:root:Truncating @ 40, latest SV = 0.0020430276935068654\n",
      "WARNING:root:Truncating @ 40, latest SV = 0.0022077342002975934\n",
      "WARNING:root:Truncating @ 40, latest SV = 0.002131271781478277\n",
      "WARNING:root:Truncating @ 40, latest SV = 0.0020465585630889418\n",
      "WARNING:root:Truncating @ 40, latest SV = 0.001788674383031104\n",
      "WARNING:root:Truncating @ 40, latest SV = 0.0016516414510382845\n",
      "WARNING:root:Truncating @ 40, latest SV = 0.001388594416834134\n",
      "WARNING:root:Truncating @ 40, latest SV = 0.0011982483810997024\n",
      "WARNING:root:Truncating @ 40, latest SV = 0.0008553296261000986\n",
      "WARNING:root:Truncating @ 40, latest SV = 0.0006856582915427183\n",
      "WARNING:root:Truncating @ 40, latest SV = 0.00035592527915688846\n",
      "WARNING:root:Truncating @ 40, latest SV = 8.801997662160123e-05\n",
      "WARNING:root:Truncating @ 40, latest SV = 6.935984213524992e-06\n"
     ]
    },
    {
     "name": "stdout",
     "output_type": "stream",
     "text": [
      "29 [1, 2, 4, 6, 10, 16, 32, 40, 40, 40, 40, 40, 40, 40, 40, 40, 40, 40, 40, 40, 40, 40, 40, 40, 40, 32, 16, 8, 4, 2, 1]\n",
      "MPS with length 30 and physical d=2\n",
      "chi [1, 6, 12, 18, 30, 48, 96, 120, 120, 120, 120, 120, 120, 120, 120, 120, 120, 120, 120, 120, 120, 120, 120, 120, 120, 96, 48, 24, 12, 6, 1]\n"
     ]
    },
    {
     "name": "stderr",
     "output_type": "stream",
     "text": [
      "WARNING:root:Truncating @ 40, latest SV = 0.0011803017830464841\n",
      "WARNING:root:Truncating @ 40, latest SV = 0.0017334832836477592\n",
      "WARNING:root:Truncating @ 40, latest SV = 0.0021986009612054345\n",
      "WARNING:root:Truncating @ 40, latest SV = 0.002728856769891726\n",
      "WARNING:root:Truncating @ 40, latest SV = 0.0027822770969662823\n",
      "WARNING:root:Truncating @ 40, latest SV = 0.002936825808102405\n",
      "WARNING:root:Truncating @ 40, latest SV = 0.002814748680177807\n",
      "WARNING:root:Truncating @ 40, latest SV = 0.0026533619419219752\n",
      "WARNING:root:Truncating @ 40, latest SV = 0.0024494564894176657\n",
      "WARNING:root:Truncating @ 40, latest SV = 0.0021333619401967406\n",
      "WARNING:root:Truncating @ 40, latest SV = 0.002088729327630714\n",
      "WARNING:root:Truncating @ 40, latest SV = 0.0016940270372643978\n",
      "WARNING:root:Truncating @ 40, latest SV = 0.0011629989507522002\n",
      "WARNING:root:Truncating @ 40, latest SV = 0.0008633219963218882\n",
      "WARNING:root:Truncating @ 40, latest SV = 0.0005981382329156166\n",
      "WARNING:root:Truncating @ 40, latest SV = 0.0003589430135610652\n",
      "WARNING:root:Truncating @ 40, latest SV = 0.00012974513866594785\n",
      "WARNING:root:Truncating @ 40, latest SV = 9.425840848537606e-06\n"
     ]
    },
    {
     "name": "stdout",
     "output_type": "stream",
     "text": [
      "30 [1, 2, 4, 4, 8, 16, 32, 40, 40, 40, 40, 40, 40, 40, 40, 40, 40, 40, 40, 40, 40, 40, 40, 40, 40, 32, 16, 8, 4, 2, 1]\n",
      "MPS with length 30 and physical d=2\n",
      "chi [1, 6, 12, 12, 24, 48, 96, 120, 120, 120, 120, 120, 120, 120, 120, 120, 120, 120, 120, 120, 120, 120, 120, 120, 120, 96, 48, 24, 12, 6, 1]\n"
     ]
    },
    {
     "name": "stderr",
     "output_type": "stream",
     "text": [
      "WARNING:root:Truncating @ 40, latest SV = 0.0010708153919138808\n",
      "WARNING:root:Truncating @ 40, latest SV = 0.0017460570525831213\n",
      "WARNING:root:Truncating @ 40, latest SV = 0.00235520643412285\n",
      "WARNING:root:Truncating @ 40, latest SV = 0.0025514703864520103\n",
      "WARNING:root:Truncating @ 40, latest SV = 0.002843154642877067\n",
      "WARNING:root:Truncating @ 40, latest SV = 0.003047586314326845\n",
      "WARNING:root:Truncating @ 40, latest SV = 0.002830721098306487\n",
      "WARNING:root:Truncating @ 40, latest SV = 0.0026641306543086067\n",
      "WARNING:root:Truncating @ 40, latest SV = 0.00233289804636447\n",
      "WARNING:root:Truncating @ 40, latest SV = 0.0021410434695300707\n",
      "WARNING:root:Truncating @ 40, latest SV = 0.001973039678089061\n",
      "WARNING:root:Truncating @ 40, latest SV = 0.001671216831093612\n",
      "WARNING:root:Truncating @ 40, latest SV = 0.001336653783985427\n",
      "WARNING:root:Truncating @ 40, latest SV = 0.0010680551154218548\n",
      "WARNING:root:Truncating @ 40, latest SV = 0.0006853560706748987\n",
      "WARNING:root:Truncating @ 40, latest SV = 0.00024962899755093265\n",
      "WARNING:root:Truncating @ 40, latest SV = 4.934479103454203e-05\n",
      "WARNING:root:Truncating @ 40, latest SV = 3.015926843258977e-06\n"
     ]
    },
    {
     "name": "stdout",
     "output_type": "stream",
     "text": [
      "31 [1, 2, 3, 5, 9, 16, 31, 40, 40, 40, 40, 40, 40, 40, 40, 40, 40, 40, 40, 40, 40, 40, 40, 40, 40, 32, 16, 8, 4, 2, 1]\n",
      "MPS with length 30 and physical d=2\n",
      "chi [1, 6, 9, 15, 27, 48, 93, 120, 120, 120, 120, 120, 120, 120, 120, 120, 120, 120, 120, 120, 120, 120, 120, 120, 120, 96, 48, 24, 12, 6, 1]\n"
     ]
    },
    {
     "name": "stderr",
     "output_type": "stream",
     "text": [
      "WARNING:root:Truncating @ 40, latest SV = 0.0012554476833827367\n",
      "WARNING:root:Truncating @ 40, latest SV = 0.0019515858900779283\n",
      "WARNING:root:Truncating @ 40, latest SV = 0.0022600353181911046\n",
      "WARNING:root:Truncating @ 40, latest SV = 0.0027467849281101863\n",
      "WARNING:root:Truncating @ 40, latest SV = 0.003029904551387541\n",
      "WARNING:root:Truncating @ 40, latest SV = 0.002846460508005354\n",
      "WARNING:root:Truncating @ 40, latest SV = 0.0027932791503368303\n",
      "WARNING:root:Truncating @ 40, latest SV = 0.002606074590654744\n",
      "WARNING:root:Truncating @ 40, latest SV = 0.002216375591472566\n",
      "WARNING:root:Truncating @ 40, latest SV = 0.002002218060513796\n",
      "WARNING:root:Truncating @ 40, latest SV = 0.0018039362494271776\n",
      "WARNING:root:Truncating @ 40, latest SV = 0.0016128471830733674\n",
      "WARNING:root:Truncating @ 40, latest SV = 0.001365982182826131\n",
      "WARNING:root:Truncating @ 40, latest SV = 0.0010346097597678599\n",
      "WARNING:root:Truncating @ 40, latest SV = 0.0008103548923209956\n",
      "WARNING:root:Truncating @ 40, latest SV = 0.0005861853772781639\n",
      "WARNING:root:Truncating @ 40, latest SV = 0.00021690854071794183\n",
      "WARNING:root:Truncating @ 40, latest SV = 8.541845376026604e-06\n"
     ]
    },
    {
     "name": "stdout",
     "output_type": "stream",
     "text": [
      "32 [1, 1, 2, 4, 8, 16, 31, 40, 40, 40, 40, 40, 40, 40, 40, 40, 40, 40, 40, 40, 40, 40, 40, 40, 40, 32, 16, 8, 4, 2, 1]\n",
      "MPS with length 30 and physical d=2\n",
      "chi [1, 3, 6, 12, 24, 48, 93, 120, 120, 120, 120, 120, 120, 120, 120, 120, 120, 120, 120, 120, 120, 120, 120, 120, 120, 96, 48, 24, 12, 6, 1]\n"
     ]
    },
    {
     "name": "stderr",
     "output_type": "stream",
     "text": [
      "WARNING:root:Truncating @ 40, latest SV = 0.0011670533359515417\n",
      "WARNING:root:Truncating @ 40, latest SV = 0.0016256175271452532\n",
      "WARNING:root:Truncating @ 40, latest SV = 0.002110654056666682\n",
      "WARNING:root:Truncating @ 40, latest SV = 0.002297637737029284\n",
      "WARNING:root:Truncating @ 40, latest SV = 0.0024139486041260044\n",
      "WARNING:root:Truncating @ 40, latest SV = 0.0026516782144266286\n",
      "WARNING:root:Truncating @ 40, latest SV = 0.0026154379254193613\n",
      "WARNING:root:Truncating @ 40, latest SV = 0.002463960759868069\n",
      "WARNING:root:Truncating @ 40, latest SV = 0.0023038359838445173\n",
      "WARNING:root:Truncating @ 40, latest SV = 0.0021210642641420535\n",
      "WARNING:root:Truncating @ 40, latest SV = 0.001971502314332046\n",
      "WARNING:root:Truncating @ 40, latest SV = 0.0018335296103647212\n",
      "WARNING:root:Truncating @ 40, latest SV = 0.0016304564336317615\n",
      "WARNING:root:Truncating @ 40, latest SV = 0.0012801923390311526\n",
      "WARNING:root:Truncating @ 40, latest SV = 0.0009905888256734874\n",
      "WARNING:root:Truncating @ 40, latest SV = 0.0005615191057660284\n",
      "WARNING:root:Truncating @ 40, latest SV = 0.00012574729781292742\n",
      "WARNING:root:Truncating @ 40, latest SV = 5.892217374894332e-06\n",
      "WARNING:root:Truncating @ 40, latest SV = 1.2783641524856075e-08\n"
     ]
    },
    {
     "name": "stdout",
     "output_type": "stream",
     "text": [
      "33 [1, 2, 4, 8, 14, 25, 40, 40, 40, 40, 40, 40, 40, 40, 40, 40, 40, 40, 40, 40, 40, 40, 40, 40, 40, 32, 16, 8, 4, 2, 1]\n",
      "MPS with length 30 and physical d=2\n",
      "chi [1, 6, 12, 24, 42, 75, 120, 120, 120, 120, 120, 120, 120, 120, 120, 120, 120, 120, 120, 120, 120, 120, 120, 120, 120, 96, 48, 24, 12, 6, 1]\n"
     ]
    },
    {
     "name": "stderr",
     "output_type": "stream",
     "text": [
      "WARNING:root:Truncating @ 40, latest SV = 0.0009265436172198461\n",
      "WARNING:root:Truncating @ 40, latest SV = 0.0015783441653833086\n",
      "WARNING:root:Truncating @ 40, latest SV = 0.0019336620264474727\n",
      "WARNING:root:Truncating @ 40, latest SV = 0.0022106596977039023\n",
      "WARNING:root:Truncating @ 40, latest SV = 0.002221371637367081\n",
      "WARNING:root:Truncating @ 40, latest SV = 0.0021843077540747036\n",
      "WARNING:root:Truncating @ 40, latest SV = 0.0021704083586909727\n",
      "WARNING:root:Truncating @ 40, latest SV = 0.002142772584259235\n",
      "WARNING:root:Truncating @ 40, latest SV = 0.0019009060827864502\n",
      "WARNING:root:Truncating @ 40, latest SV = 0.0017585140868015068\n",
      "WARNING:root:Truncating @ 40, latest SV = 0.0015100288741134785\n",
      "WARNING:root:Truncating @ 40, latest SV = 0.0011396330630067848\n",
      "WARNING:root:Truncating @ 40, latest SV = 0.0008503492850397803\n",
      "WARNING:root:Truncating @ 40, latest SV = 0.0005863451962704397\n",
      "WARNING:root:Truncating @ 40, latest SV = 0.000291659083745581\n",
      "WARNING:root:Truncating @ 40, latest SV = 0.00014070425313591494\n",
      "WARNING:root:Truncating @ 40, latest SV = 4.2647413158757186e-05\n",
      "WARNING:root:Truncating @ 40, latest SV = 6.547416366396125e-06\n",
      "WARNING:root:Truncating @ 40, latest SV = 2.7445617002369965e-08\n"
     ]
    },
    {
     "name": "stdout",
     "output_type": "stream",
     "text": [
      "34 [1, 2, 4, 8, 15, 28, 40, 40, 40, 40, 40, 40, 40, 40, 40, 40, 40, 40, 40, 40, 40, 40, 40, 40, 40, 32, 16, 8, 4, 2, 1]\n",
      "MPS with length 30 and physical d=2\n",
      "chi [1, 6, 12, 24, 45, 84, 120, 120, 120, 120, 120, 120, 120, 120, 120, 120, 120, 120, 120, 120, 120, 120, 120, 120, 120, 96, 48, 24, 12, 6, 1]\n"
     ]
    },
    {
     "name": "stderr",
     "output_type": "stream",
     "text": [
      "WARNING:root:Truncating @ 40, latest SV = 0.0013910332665747669\n",
      "WARNING:root:Truncating @ 40, latest SV = 0.0022914742299789815\n",
      "WARNING:root:Truncating @ 40, latest SV = 0.0029960730633710225\n",
      "WARNING:root:Truncating @ 40, latest SV = 0.0034982970126134216\n",
      "WARNING:root:Truncating @ 40, latest SV = 0.003861326194996546\n",
      "WARNING:root:Truncating @ 40, latest SV = 0.003968706884225563\n",
      "WARNING:root:Truncating @ 40, latest SV = 0.004112516826036998\n",
      "WARNING:root:Truncating @ 40, latest SV = 0.0037905487841046184\n",
      "WARNING:root:Truncating @ 40, latest SV = 0.003721254485833863\n",
      "WARNING:root:Truncating @ 40, latest SV = 0.0036930953127214047\n",
      "WARNING:root:Truncating @ 40, latest SV = 0.003400517345891647\n",
      "WARNING:root:Truncating @ 40, latest SV = 0.002960164643191522\n",
      "WARNING:root:Truncating @ 40, latest SV = 0.002456192992487673\n",
      "WARNING:root:Truncating @ 40, latest SV = 0.0014809622684915083\n",
      "WARNING:root:Truncating @ 40, latest SV = 0.0005235454188970982\n",
      "WARNING:root:Truncating @ 40, latest SV = 0.00017485987098798608\n",
      "WARNING:root:Truncating @ 40, latest SV = 4.54802330845931e-05\n",
      "WARNING:root:Truncating @ 40, latest SV = 5.542802338422808e-06\n",
      "WARNING:root:Truncating @ 40, latest SV = 5.843018881635823e-08\n"
     ]
    },
    {
     "name": "stdout",
     "output_type": "stream",
     "text": [
      "35 [1, 2, 4, 8, 16, 30, 40, 40, 40, 40, 40, 40, 40, 40, 40, 40, 40, 40, 40, 40, 40, 40, 40, 40, 40, 32, 16, 8, 4, 2, 1]\n",
      "MPS with length 30 and physical d=2\n",
      "chi [1, 6, 12, 24, 48, 90, 120, 120, 120, 120, 120, 120, 120, 120, 120, 120, 120, 120, 120, 120, 120, 120, 120, 120, 120, 96, 48, 24, 12, 6, 1]\n"
     ]
    },
    {
     "name": "stderr",
     "output_type": "stream",
     "text": [
      "WARNING:root:Truncating @ 40, latest SV = 0.001349213535556833\n",
      "WARNING:root:Truncating @ 40, latest SV = 0.0022866894167487793\n",
      "WARNING:root:Truncating @ 40, latest SV = 0.0028029883882983897\n",
      "WARNING:root:Truncating @ 40, latest SV = 0.0032021248974763573\n",
      "WARNING:root:Truncating @ 40, latest SV = 0.003345984148829338\n",
      "WARNING:root:Truncating @ 40, latest SV = 0.003377738916528366\n",
      "WARNING:root:Truncating @ 40, latest SV = 0.0032682485244889827\n",
      "WARNING:root:Truncating @ 40, latest SV = 0.0031854868945565924\n",
      "WARNING:root:Truncating @ 40, latest SV = 0.002730678899070862\n",
      "WARNING:root:Truncating @ 40, latest SV = 0.00252303678014251\n",
      "WARNING:root:Truncating @ 40, latest SV = 0.002156925797076364\n",
      "WARNING:root:Truncating @ 40, latest SV = 0.0018043998458058927\n",
      "WARNING:root:Truncating @ 40, latest SV = 0.0012425611818755132\n",
      "WARNING:root:Truncating @ 40, latest SV = 0.0008379268866317638\n",
      "WARNING:root:Truncating @ 40, latest SV = 0.00046488600950278595\n",
      "WARNING:root:Truncating @ 40, latest SV = 0.00021065880416621925\n",
      "WARNING:root:Truncating @ 40, latest SV = 5.428681562394289e-05\n",
      "WARNING:root:Truncating @ 40, latest SV = 1.4672206421901903e-06\n",
      "WARNING:root:Truncating @ 40, latest SV = 2.8580395666326785e-08\n"
     ]
    },
    {
     "name": "stdout",
     "output_type": "stream",
     "text": [
      "36 [1, 2, 4, 8, 16, 30, 40, 40, 40, 40, 40, 40, 40, 40, 40, 40, 40, 40, 40, 40, 40, 40, 40, 40, 40, 32, 16, 8, 4, 2, 1]\n",
      "MPS with length 30 and physical d=2\n",
      "chi [1, 6, 12, 24, 48, 90, 120, 120, 120, 120, 120, 120, 120, 120, 120, 120, 120, 120, 120, 120, 120, 120, 120, 120, 120, 96, 48, 24, 12, 6, 1]\n"
     ]
    },
    {
     "name": "stderr",
     "output_type": "stream",
     "text": [
      "WARNING:root:Truncating @ 40, latest SV = 0.0026105565222810647\n",
      "WARNING:root:Truncating @ 40, latest SV = 0.0037057728281305285\n",
      "WARNING:root:Truncating @ 40, latest SV = 0.00483616178536147\n",
      "WARNING:root:Truncating @ 40, latest SV = 0.005252560502522083\n",
      "WARNING:root:Truncating @ 40, latest SV = 0.005381121456046978\n",
      "WARNING:root:Truncating @ 40, latest SV = 0.005228533780909584\n",
      "WARNING:root:Truncating @ 40, latest SV = 0.004878525242113042\n",
      "WARNING:root:Truncating @ 40, latest SV = 0.0046452868501321905\n",
      "WARNING:root:Truncating @ 40, latest SV = 0.004116142716669391\n",
      "WARNING:root:Truncating @ 40, latest SV = 0.0035922728553981877\n",
      "WARNING:root:Truncating @ 40, latest SV = 0.003075697919710601\n",
      "WARNING:root:Truncating @ 40, latest SV = 0.0024925249148069167\n",
      "WARNING:root:Truncating @ 40, latest SV = 0.0017502157528778539\n",
      "WARNING:root:Truncating @ 40, latest SV = 0.0011257337492865836\n",
      "WARNING:root:Truncating @ 40, latest SV = 0.0003710867278411413\n",
      "WARNING:root:Truncating @ 40, latest SV = 7.710555842750209e-05\n",
      "WARNING:root:Truncating @ 40, latest SV = 2.541114061201534e-05\n",
      "WARNING:root:Truncating @ 40, latest SV = 2.4191027543369365e-06\n",
      "WARNING:root:Truncating @ 40, latest SV = 2.8258418135765526e-08\n"
     ]
    },
    {
     "name": "stdout",
     "output_type": "stream",
     "text": [
      "37 [1, 2, 4, 8, 16, 30, 40, 40, 40, 40, 40, 40, 40, 40, 40, 40, 40, 40, 40, 40, 40, 40, 40, 40, 40, 32, 16, 8, 4, 2, 1]\n",
      "MPS with length 30 and physical d=2\n",
      "chi [1, 6, 12, 24, 48, 90, 120, 120, 120, 120, 120, 120, 120, 120, 120, 120, 120, 120, 120, 120, 120, 120, 120, 120, 120, 96, 48, 24, 12, 6, 1]\n"
     ]
    },
    {
     "name": "stderr",
     "output_type": "stream",
     "text": [
      "WARNING:root:Truncating @ 40, latest SV = 0.0018711272705709096\n",
      "WARNING:root:Truncating @ 40, latest SV = 0.002922597993832867\n",
      "WARNING:root:Truncating @ 40, latest SV = 0.003219773239516376\n",
      "WARNING:root:Truncating @ 40, latest SV = 0.003633991893706293\n",
      "WARNING:root:Truncating @ 40, latest SV = 0.0036910441908034773\n",
      "WARNING:root:Truncating @ 40, latest SV = 0.0036322773331860653\n",
      "WARNING:root:Truncating @ 40, latest SV = 0.0035785590477261445\n",
      "WARNING:root:Truncating @ 40, latest SV = 0.0035796852781493907\n",
      "WARNING:root:Truncating @ 40, latest SV = 0.003303418254293339\n",
      "WARNING:root:Truncating @ 40, latest SV = 0.002885489910307557\n",
      "WARNING:root:Truncating @ 40, latest SV = 0.0025111646280605313\n",
      "WARNING:root:Truncating @ 40, latest SV = 0.0020341447747958923\n",
      "WARNING:root:Truncating @ 40, latest SV = 0.0014011202903178835\n",
      "WARNING:root:Truncating @ 40, latest SV = 0.0008522938870479132\n",
      "WARNING:root:Truncating @ 40, latest SV = 0.00029932392602266945\n",
      "WARNING:root:Truncating @ 40, latest SV = 0.00015285371498754673\n",
      "WARNING:root:Truncating @ 40, latest SV = 2.931951234601941e-05\n",
      "WARNING:root:Truncating @ 40, latest SV = 1.7201815311649767e-06\n",
      "WARNING:root:Truncating @ 40, latest SV = 9.357546686027662e-09\n"
     ]
    },
    {
     "name": "stdout",
     "output_type": "stream",
     "text": [
      "38 [1, 2, 4, 8, 16, 29, 40, 40, 40, 40, 40, 40, 40, 40, 40, 40, 40, 40, 40, 40, 40, 40, 40, 40, 40, 32, 16, 8, 4, 2, 1]\n",
      "MPS with length 30 and physical d=2\n",
      "chi [1, 6, 12, 24, 48, 87, 120, 120, 120, 120, 120, 120, 120, 120, 120, 120, 120, 120, 120, 120, 120, 120, 120, 120, 120, 96, 48, 24, 12, 6, 1]\n"
     ]
    },
    {
     "name": "stderr",
     "output_type": "stream",
     "text": [
      "WARNING:root:Truncating @ 40, latest SV = 0.0012058594027138413\n",
      "WARNING:root:Truncating @ 40, latest SV = 0.0019114425260384745\n",
      "WARNING:root:Truncating @ 40, latest SV = 0.0025493379957157846\n",
      "WARNING:root:Truncating @ 40, latest SV = 0.002798267315706248\n",
      "WARNING:root:Truncating @ 40, latest SV = 0.0031039269928925684\n",
      "WARNING:root:Truncating @ 40, latest SV = 0.002828385652146162\n",
      "WARNING:root:Truncating @ 40, latest SV = 0.002804770972168906\n",
      "WARNING:root:Truncating @ 40, latest SV = 0.0027289576567619323\n",
      "WARNING:root:Truncating @ 40, latest SV = 0.002484457298876357\n",
      "WARNING:root:Truncating @ 40, latest SV = 0.002371516973791186\n",
      "WARNING:root:Truncating @ 40, latest SV = 0.0022530400957888625\n",
      "WARNING:root:Truncating @ 40, latest SV = 0.0018105850158257066\n",
      "WARNING:root:Truncating @ 40, latest SV = 0.0013302694364244257\n",
      "WARNING:root:Truncating @ 40, latest SV = 0.0006966714349656357\n",
      "WARNING:root:Truncating @ 40, latest SV = 0.0002717752322612102\n",
      "WARNING:root:Truncating @ 40, latest SV = 0.0001165125561731353\n",
      "WARNING:root:Truncating @ 40, latest SV = 3.9632663740164796e-05\n",
      "WARNING:root:Truncating @ 40, latest SV = 1.7159719825850458e-06\n",
      "WARNING:root:Truncating @ 40, latest SV = 4.0644457857915995e-09\n"
     ]
    },
    {
     "name": "stdout",
     "output_type": "stream",
     "text": [
      "39 [1, 2, 4, 8, 15, 27, 40, 40, 40, 40, 40, 40, 40, 40, 40, 40, 40, 40, 40, 40, 40, 40, 40, 40, 40, 32, 16, 8, 4, 2, 1]\n",
      "MPS with length 30 and physical d=2\n",
      "chi [1, 6, 12, 24, 45, 81, 120, 120, 120, 120, 120, 120, 120, 120, 120, 120, 120, 120, 120, 120, 120, 120, 120, 120, 120, 96, 48, 24, 12, 6, 1]\n"
     ]
    },
    {
     "name": "stderr",
     "output_type": "stream",
     "text": [
      "WARNING:root:Truncating @ 40, latest SV = 0.0010874060893590978\n",
      "WARNING:root:Truncating @ 40, latest SV = 0.0018550866975458353\n",
      "WARNING:root:Truncating @ 40, latest SV = 0.002525306162812326\n",
      "WARNING:root:Truncating @ 40, latest SV = 0.0029995862180929134\n",
      "WARNING:root:Truncating @ 40, latest SV = 0.003069027806858339\n",
      "WARNING:root:Truncating @ 40, latest SV = 0.003032880382964758\n",
      "WARNING:root:Truncating @ 40, latest SV = 0.0027947211704120348\n",
      "WARNING:root:Truncating @ 40, latest SV = 0.002710247785332963\n",
      "WARNING:root:Truncating @ 40, latest SV = 0.0023573999723456255\n",
      "WARNING:root:Truncating @ 40, latest SV = 0.0019978511392145654\n",
      "WARNING:root:Truncating @ 40, latest SV = 0.0016707828732240382\n",
      "WARNING:root:Truncating @ 40, latest SV = 0.0014513088289101845\n",
      "WARNING:root:Truncating @ 40, latest SV = 0.0009089567992495521\n",
      "WARNING:root:Truncating @ 40, latest SV = 0.0005608023556686648\n",
      "WARNING:root:Truncating @ 40, latest SV = 0.00021867147431976191\n",
      "WARNING:root:Truncating @ 40, latest SV = 0.00011790532173495067\n",
      "WARNING:root:Truncating @ 40, latest SV = 3.5684680585774294e-05\n",
      "WARNING:root:Truncating @ 40, latest SV = 1.3904658230325158e-06\n",
      "WARNING:root:Truncating @ 40, latest SV = 6.037234204525198e-09\n"
     ]
    },
    {
     "name": "stdout",
     "output_type": "stream",
     "text": [
      "40 [1, 2, 4, 8, 14, 28, 40, 40, 40, 40, 40, 40, 40, 40, 40, 40, 40, 40, 40, 40, 40, 40, 40, 40, 40, 32, 16, 8, 4, 2, 1]\n",
      "MPS with length 30 and physical d=2\n",
      "chi [1, 6, 12, 24, 42, 84, 120, 120, 120, 120, 120, 120, 120, 120, 120, 120, 120, 120, 120, 120, 120, 120, 120, 120, 120, 96, 48, 24, 12, 6, 1]\n"
     ]
    },
    {
     "name": "stderr",
     "output_type": "stream",
     "text": [
      "WARNING:root:Truncating @ 40, latest SV = 0.0008550853961437087\n",
      "WARNING:root:Truncating @ 40, latest SV = 0.0013552243301684216\n",
      "WARNING:root:Truncating @ 40, latest SV = 0.001874990057561434\n",
      "WARNING:root:Truncating @ 40, latest SV = 0.002163504029824352\n",
      "WARNING:root:Truncating @ 40, latest SV = 0.0021375296441817748\n",
      "WARNING:root:Truncating @ 40, latest SV = 0.002164403765678403\n",
      "WARNING:root:Truncating @ 40, latest SV = 0.0021572754052372445\n",
      "WARNING:root:Truncating @ 40, latest SV = 0.0021195359206316335\n",
      "WARNING:root:Truncating @ 40, latest SV = 0.001924042327214645\n",
      "WARNING:root:Truncating @ 40, latest SV = 0.0017095737456845619\n",
      "WARNING:root:Truncating @ 40, latest SV = 0.00157834922254123\n",
      "WARNING:root:Truncating @ 40, latest SV = 0.0013495960547821593\n",
      "WARNING:root:Truncating @ 40, latest SV = 0.0011476436903598585\n",
      "WARNING:root:Truncating @ 40, latest SV = 0.0007376717817313811\n",
      "WARNING:root:Truncating @ 40, latest SV = 0.00030020133891696686\n",
      "WARNING:root:Truncating @ 40, latest SV = 0.00014034851676185113\n",
      "WARNING:root:Truncating @ 40, latest SV = 2.0926496813199398e-05\n",
      "WARNING:root:Truncating @ 40, latest SV = 6.265192032292413e-07\n",
      "WARNING:root:Truncating @ 40, latest SV = 1.5685541780637999e-09\n"
     ]
    },
    {
     "name": "stdout",
     "output_type": "stream",
     "text": [
      "41 [1, 2, 4, 8, 15, 26, 40, 40, 40, 40, 40, 40, 40, 40, 40, 40, 40, 40, 40, 40, 40, 40, 40, 40, 40, 32, 16, 8, 4, 2, 1]\n",
      "MPS with length 30 and physical d=2\n",
      "chi [1, 6, 12, 24, 45, 78, 120, 120, 120, 120, 120, 120, 120, 120, 120, 120, 120, 120, 120, 120, 120, 120, 120, 120, 120, 96, 48, 24, 12, 6, 1]\n"
     ]
    },
    {
     "name": "stderr",
     "output_type": "stream",
     "text": [
      "WARNING:root:Truncating @ 40, latest SV = 0.0011443870032985495\n",
      "WARNING:root:Truncating @ 40, latest SV = 0.001985758117899631\n",
      "WARNING:root:Truncating @ 40, latest SV = 0.0027999969911023043\n",
      "WARNING:root:Truncating @ 40, latest SV = 0.003381425379630085\n",
      "WARNING:root:Truncating @ 40, latest SV = 0.003342076200139543\n",
      "WARNING:root:Truncating @ 40, latest SV = 0.003512595188179198\n",
      "WARNING:root:Truncating @ 40, latest SV = 0.003460094032916391\n",
      "WARNING:root:Truncating @ 40, latest SV = 0.0029928496252751794\n",
      "WARNING:root:Truncating @ 40, latest SV = 0.0027827807513271835\n",
      "WARNING:root:Truncating @ 40, latest SV = 0.0026241865461102925\n",
      "WARNING:root:Truncating @ 40, latest SV = 0.0022320309013890032\n",
      "WARNING:root:Truncating @ 40, latest SV = 0.0016252345714120077\n",
      "WARNING:root:Truncating @ 40, latest SV = 0.0011055561061761015\n",
      "WARNING:root:Truncating @ 40, latest SV = 0.0005855562635906935\n",
      "WARNING:root:Truncating @ 40, latest SV = 0.00024751593445267986\n",
      "WARNING:root:Truncating @ 40, latest SV = 7.68147726725756e-05\n",
      "WARNING:root:Truncating @ 40, latest SV = 8.09675143110437e-06\n",
      "WARNING:root:Truncating @ 40, latest SV = 2.9377492340566825e-07\n",
      "WARNING:root:Truncating @ 40, latest SV = 3.6204925106043845e-09\n"
     ]
    },
    {
     "name": "stdout",
     "output_type": "stream",
     "text": [
      "42 [1, 2, 4, 8, 15, 27, 40, 40, 40, 40, 40, 40, 40, 40, 40, 40, 40, 40, 40, 40, 40, 40, 40, 40, 40, 32, 16, 8, 4, 2, 1]\n",
      "MPS with length 30 and physical d=2\n",
      "chi [1, 6, 12, 24, 45, 81, 120, 120, 120, 120, 120, 120, 120, 120, 120, 120, 120, 120, 120, 120, 120, 120, 120, 120, 120, 96, 48, 24, 12, 6, 1]\n"
     ]
    },
    {
     "name": "stderr",
     "output_type": "stream",
     "text": [
      "WARNING:root:Truncating @ 40, latest SV = 0.001478997095581927\n",
      "WARNING:root:Truncating @ 40, latest SV = 0.002237601800388053\n",
      "WARNING:root:Truncating @ 40, latest SV = 0.0029875171039136306\n",
      "WARNING:root:Truncating @ 40, latest SV = 0.0036276383454626666\n",
      "WARNING:root:Truncating @ 40, latest SV = 0.004092070130684727\n",
      "WARNING:root:Truncating @ 40, latest SV = 0.003953493313999892\n",
      "WARNING:root:Truncating @ 40, latest SV = 0.0036203431905680655\n",
      "WARNING:root:Truncating @ 40, latest SV = 0.003497206963188325\n",
      "WARNING:root:Truncating @ 40, latest SV = 0.0033586299105767916\n",
      "WARNING:root:Truncating @ 40, latest SV = 0.002897720866644172\n",
      "WARNING:root:Truncating @ 40, latest SV = 0.002486099489961428\n",
      "WARNING:root:Truncating @ 40, latest SV = 0.0020765778272359026\n",
      "WARNING:root:Truncating @ 40, latest SV = 0.0016259031575991225\n",
      "WARNING:root:Truncating @ 40, latest SV = 0.0011522575560520083\n",
      "WARNING:root:Truncating @ 40, latest SV = 0.00046595148064349835\n",
      "WARNING:root:Truncating @ 40, latest SV = 0.0002374665273224993\n",
      "WARNING:root:Truncating @ 40, latest SV = 3.403455707302758e-05\n",
      "WARNING:root:Truncating @ 40, latest SV = 1.6996810991456526e-06\n",
      "WARNING:root:Truncating @ 40, latest SV = 4.344004555255209e-09\n"
     ]
    },
    {
     "name": "stdout",
     "output_type": "stream",
     "text": [
      "43 [1, 2, 4, 7, 14, 26, 40, 40, 40, 40, 40, 40, 40, 40, 40, 40, 40, 40, 40, 40, 40, 40, 40, 40, 40, 32, 16, 8, 4, 2, 1]\n",
      "MPS with length 30 and physical d=2\n",
      "chi [1, 6, 12, 21, 42, 78, 120, 120, 120, 120, 120, 120, 120, 120, 120, 120, 120, 120, 120, 120, 120, 120, 120, 120, 120, 96, 48, 24, 12, 6, 1]\n"
     ]
    },
    {
     "name": "stderr",
     "output_type": "stream",
     "text": [
      "WARNING:root:Truncating @ 40, latest SV = 0.0014845772089476675\n",
      "WARNING:root:Truncating @ 40, latest SV = 0.0024599164617013706\n",
      "WARNING:root:Truncating @ 40, latest SV = 0.003736836957254368\n",
      "WARNING:root:Truncating @ 40, latest SV = 0.004202545835676263\n",
      "WARNING:root:Truncating @ 40, latest SV = 0.004299658307078783\n",
      "WARNING:root:Truncating @ 40, latest SV = 0.004224139900376453\n",
      "WARNING:root:Truncating @ 40, latest SV = 0.004078773625726494\n",
      "WARNING:root:Truncating @ 40, latest SV = 0.0036063517740659284\n",
      "WARNING:root:Truncating @ 40, latest SV = 0.00324757831651038\n",
      "WARNING:root:Truncating @ 40, latest SV = 0.0027464300091021936\n",
      "WARNING:root:Truncating @ 40, latest SV = 0.0022485994754282666\n",
      "WARNING:root:Truncating @ 40, latest SV = 0.0018158741224312694\n",
      "WARNING:root:Truncating @ 40, latest SV = 0.0011032565574599445\n",
      "WARNING:root:Truncating @ 40, latest SV = 0.0006700670471472568\n",
      "WARNING:root:Truncating @ 40, latest SV = 0.00031155017877385055\n",
      "WARNING:root:Truncating @ 40, latest SV = 0.00010179057227697918\n",
      "WARNING:root:Truncating @ 40, latest SV = 2.829688135287564e-05\n",
      "WARNING:root:Truncating @ 40, latest SV = 7.506737250162717e-07\n",
      "WARNING:root:Truncating @ 40, latest SV = 1.5227222603792013e-09\n"
     ]
    },
    {
     "name": "stdout",
     "output_type": "stream",
     "text": [
      "44 [1, 2, 4, 8, 15, 26, 40, 40, 40, 40, 40, 40, 40, 40, 40, 40, 40, 40, 40, 40, 40, 40, 40, 40, 40, 32, 16, 8, 4, 2, 1]\n",
      "MPS with length 30 and physical d=2\n",
      "chi [1, 6, 12, 24, 45, 78, 120, 120, 120, 120, 120, 120, 120, 120, 120, 120, 120, 120, 120, 120, 120, 120, 120, 120, 120, 96, 48, 24, 12, 6, 1]\n"
     ]
    },
    {
     "name": "stderr",
     "output_type": "stream",
     "text": [
      "WARNING:root:Truncating @ 40, latest SV = 0.0016139083972292665\n",
      "WARNING:root:Truncating @ 40, latest SV = 0.002349049883603735\n",
      "WARNING:root:Truncating @ 40, latest SV = 0.00325756504409958\n",
      "WARNING:root:Truncating @ 40, latest SV = 0.003979137671451514\n",
      "WARNING:root:Truncating @ 40, latest SV = 0.004154790323487623\n",
      "WARNING:root:Truncating @ 40, latest SV = 0.004172301691157944\n",
      "WARNING:root:Truncating @ 40, latest SV = 0.004124840988056608\n",
      "WARNING:root:Truncating @ 40, latest SV = 0.004012454345169082\n",
      "WARNING:root:Truncating @ 40, latest SV = 0.0036104419572023597\n",
      "WARNING:root:Truncating @ 40, latest SV = 0.003237291666726714\n",
      "WARNING:root:Truncating @ 40, latest SV = 0.0029952664238203836\n",
      "WARNING:root:Truncating @ 40, latest SV = 0.0025378059938654858\n",
      "WARNING:root:Truncating @ 40, latest SV = 0.002024399855256596\n",
      "WARNING:root:Truncating @ 40, latest SV = 0.0011650534513477195\n",
      "WARNING:root:Truncating @ 40, latest SV = 0.00045355755989393004\n",
      "WARNING:root:Truncating @ 40, latest SV = 0.00015848998370824607\n",
      "WARNING:root:Truncating @ 40, latest SV = 2.5652633369291108e-05\n",
      "WARNING:root:Truncating @ 40, latest SV = 4.721227513009748e-07\n",
      "WARNING:root:Truncating @ 40, latest SV = 2.3532543490666656e-10\n"
     ]
    },
    {
     "name": "stdout",
     "output_type": "stream",
     "text": [
      "45 [1, 2, 4, 7, 13, 23, 40, 40, 40, 40, 40, 40, 40, 40, 40, 40, 40, 40, 40, 40, 40, 40, 40, 40, 40, 32, 16, 8, 4, 2, 1]\n",
      "MPS with length 30 and physical d=2\n",
      "chi [1, 6, 12, 21, 39, 69, 120, 120, 120, 120, 120, 120, 120, 120, 120, 120, 120, 120, 120, 120, 120, 120, 120, 120, 120, 96, 48, 24, 12, 6, 1]\n"
     ]
    },
    {
     "name": "stderr",
     "output_type": "stream",
     "text": [
      "WARNING:root:Truncating @ 40, latest SV = 0.0012533512045249623\n",
      "WARNING:root:Truncating @ 40, latest SV = 0.001929697590275717\n",
      "WARNING:root:Truncating @ 40, latest SV = 0.002211311180978205\n",
      "WARNING:root:Truncating @ 40, latest SV = 0.0026251690145885345\n",
      "WARNING:root:Truncating @ 40, latest SV = 0.002854781569189306\n",
      "WARNING:root:Truncating @ 40, latest SV = 0.002953517895784495\n",
      "WARNING:root:Truncating @ 40, latest SV = 0.002805487569246707\n",
      "WARNING:root:Truncating @ 40, latest SV = 0.0028136586060826395\n",
      "WARNING:root:Truncating @ 40, latest SV = 0.002636609958555492\n",
      "WARNING:root:Truncating @ 40, latest SV = 0.0024876844717750236\n",
      "WARNING:root:Truncating @ 40, latest SV = 0.0021703826210055827\n",
      "WARNING:root:Truncating @ 40, latest SV = 0.0016758129895529236\n",
      "WARNING:root:Truncating @ 40, latest SV = 0.0012841473989570512\n",
      "WARNING:root:Truncating @ 40, latest SV = 0.0007283867014102492\n",
      "WARNING:root:Truncating @ 40, latest SV = 0.0002544703865569715\n",
      "WARNING:root:Truncating @ 40, latest SV = 8.095449149006692e-05\n",
      "WARNING:root:Truncating @ 40, latest SV = 1.7939328741000424e-05\n",
      "WARNING:root:Truncating @ 40, latest SV = 1.1034868458839326e-06\n",
      "WARNING:root:Truncating @ 40, latest SV = 1.3559254446130904e-09\n"
     ]
    },
    {
     "name": "stdout",
     "output_type": "stream",
     "text": [
      "46 [1, 2, 4, 7, 14, 27, 40, 40, 40, 40, 40, 40, 40, 40, 40, 40, 40, 40, 40, 40, 40, 40, 40, 40, 40, 32, 16, 8, 4, 2, 1]\n",
      "MPS with length 30 and physical d=2\n",
      "chi [1, 6, 12, 21, 42, 81, 120, 120, 120, 120, 120, 120, 120, 120, 120, 120, 120, 120, 120, 120, 120, 120, 120, 120, 120, 96, 48, 24, 12, 6, 1]\n"
     ]
    },
    {
     "name": "stderr",
     "output_type": "stream",
     "text": [
      "WARNING:root:Truncating @ 40, latest SV = 0.0009662944854208601\n",
      "WARNING:root:Truncating @ 40, latest SV = 0.0017797626370153038\n",
      "WARNING:root:Truncating @ 40, latest SV = 0.0025220104200271852\n",
      "WARNING:root:Truncating @ 40, latest SV = 0.0026977976493716767\n",
      "WARNING:root:Truncating @ 40, latest SV = 0.002841136900359582\n",
      "WARNING:root:Truncating @ 40, latest SV = 0.0030775258888252866\n",
      "WARNING:root:Truncating @ 40, latest SV = 0.0029162548740956557\n",
      "WARNING:root:Truncating @ 40, latest SV = 0.0028111091863407883\n",
      "WARNING:root:Truncating @ 40, latest SV = 0.0025952001855586203\n",
      "WARNING:root:Truncating @ 40, latest SV = 0.0022977800117190933\n",
      "WARNING:root:Truncating @ 40, latest SV = 0.0019873010311054983\n",
      "WARNING:root:Truncating @ 40, latest SV = 0.0016061614665736923\n",
      "WARNING:root:Truncating @ 40, latest SV = 0.0011460956061126247\n",
      "WARNING:root:Truncating @ 40, latest SV = 0.0008441951079033605\n",
      "WARNING:root:Truncating @ 40, latest SV = 0.0005078674992986083\n",
      "WARNING:root:Truncating @ 40, latest SV = 0.0001676197264833352\n",
      "WARNING:root:Truncating @ 40, latest SV = 4.3796573764496715e-05\n",
      "WARNING:root:Truncating @ 40, latest SV = 1.6867676589405215e-06\n",
      "WARNING:root:Truncating @ 40, latest SV = 4.2273491871822516e-10\n"
     ]
    },
    {
     "name": "stdout",
     "output_type": "stream",
     "text": [
      "47 [1, 2, 4, 7, 13, 25, 40, 40, 40, 40, 40, 40, 40, 40, 40, 40, 40, 40, 40, 40, 40, 40, 40, 40, 40, 32, 16, 8, 4, 2, 1]\n",
      "MPS with length 30 and physical d=2\n",
      "chi [1, 6, 12, 21, 39, 75, 120, 120, 120, 120, 120, 120, 120, 120, 120, 120, 120, 120, 120, 120, 120, 120, 120, 120, 120, 96, 48, 24, 12, 6, 1]\n"
     ]
    },
    {
     "name": "stderr",
     "output_type": "stream",
     "text": [
      "WARNING:root:Truncating @ 40, latest SV = 0.0009417235967206016\n",
      "WARNING:root:Truncating @ 40, latest SV = 0.0015333118277627113\n",
      "WARNING:root:Truncating @ 40, latest SV = 0.0021689913632822674\n",
      "WARNING:root:Truncating @ 40, latest SV = 0.0024594954450479095\n",
      "WARNING:root:Truncating @ 40, latest SV = 0.002615084926780072\n",
      "WARNING:root:Truncating @ 40, latest SV = 0.002517298371620512\n",
      "WARNING:root:Truncating @ 40, latest SV = 0.0025857524206463873\n",
      "WARNING:root:Truncating @ 40, latest SV = 0.002317351321736203\n",
      "WARNING:root:Truncating @ 40, latest SV = 0.0022572698425414577\n",
      "WARNING:root:Truncating @ 40, latest SV = 0.0019921771792285902\n",
      "WARNING:root:Truncating @ 40, latest SV = 0.0017798289236078723\n",
      "WARNING:root:Truncating @ 40, latest SV = 0.001329478286712818\n",
      "WARNING:root:Truncating @ 40, latest SV = 0.0009710345264392004\n",
      "WARNING:root:Truncating @ 40, latest SV = 0.0005436041821514461\n",
      "WARNING:root:Truncating @ 40, latest SV = 0.00016398549317171046\n",
      "WARNING:root:Truncating @ 40, latest SV = 8.845962720442953e-05\n",
      "WARNING:root:Truncating @ 40, latest SV = 2.709690294142059e-05\n",
      "WARNING:root:Truncating @ 40, latest SV = 7.700519779702966e-07\n",
      "WARNING:root:Truncating @ 40, latest SV = 2.8288867661407886e-10\n"
     ]
    },
    {
     "name": "stdout",
     "output_type": "stream",
     "text": [
      "48 [1, 2, 4, 8, 15, 26, 40, 40, 40, 40, 40, 40, 40, 40, 40, 40, 40, 40, 40, 40, 40, 40, 40, 40, 40, 32, 16, 8, 4, 2, 1]\n",
      "MPS with length 30 and physical d=2\n",
      "chi [1, 6, 12, 24, 45, 78, 120, 120, 120, 120, 120, 120, 120, 120, 120, 120, 120, 120, 120, 120, 120, 120, 120, 120, 120, 96, 48, 24, 12, 6, 1]\n"
     ]
    },
    {
     "name": "stderr",
     "output_type": "stream",
     "text": [
      "WARNING:root:Truncating @ 40, latest SV = 0.0009070140781927353\n",
      "WARNING:root:Truncating @ 40, latest SV = 0.001508963538476569\n",
      "WARNING:root:Truncating @ 40, latest SV = 0.0021165471353193173\n",
      "WARNING:root:Truncating @ 40, latest SV = 0.002450856958412163\n",
      "WARNING:root:Truncating @ 40, latest SV = 0.0025366654701530836\n",
      "WARNING:root:Truncating @ 40, latest SV = 0.0027237074185751955\n",
      "WARNING:root:Truncating @ 40, latest SV = 0.0028681221607772538\n",
      "WARNING:root:Truncating @ 40, latest SV = 0.0025273394584812703\n",
      "WARNING:root:Truncating @ 40, latest SV = 0.002500897292833434\n",
      "WARNING:root:Truncating @ 40, latest SV = 0.002168010010129426\n",
      "WARNING:root:Truncating @ 40, latest SV = 0.0017892976926290056\n",
      "WARNING:root:Truncating @ 40, latest SV = 0.0014193209729582565\n",
      "WARNING:root:Truncating @ 40, latest SV = 0.0008539027116730014\n",
      "WARNING:root:Truncating @ 40, latest SV = 0.00037330249417499584\n",
      "WARNING:root:Truncating @ 40, latest SV = 0.0002133765866142217\n",
      "WARNING:root:Truncating @ 40, latest SV = 0.00011401268007836235\n",
      "WARNING:root:Truncating @ 40, latest SV = 4.1960348144632987e-05\n",
      "WARNING:root:Truncating @ 40, latest SV = 2.8833535972494003e-06\n"
     ]
    },
    {
     "name": "stdout",
     "output_type": "stream",
     "text": [
      "49 [1, 2, 4, 7, 13, 22, 39, 40, 40, 40, 40, 40, 40, 40, 40, 40, 40, 40, 40, 40, 40, 40, 40, 40, 40, 32, 16, 8, 4, 2, 1]\n",
      "MPS with length 30 and physical d=2\n",
      "chi [1, 6, 12, 21, 39, 66, 117, 120, 120, 120, 120, 120, 120, 120, 120, 120, 120, 120, 120, 120, 120, 120, 120, 120, 120, 96, 48, 24, 12, 6, 1]\n"
     ]
    },
    {
     "name": "stderr",
     "output_type": "stream",
     "text": [
      "WARNING:root:Truncating @ 40, latest SV = 0.0011349320842004957\n",
      "WARNING:root:Truncating @ 40, latest SV = 0.0019391235284685084\n",
      "WARNING:root:Truncating @ 40, latest SV = 0.0025347921446433864\n",
      "WARNING:root:Truncating @ 40, latest SV = 0.0028952713742966\n",
      "WARNING:root:Truncating @ 40, latest SV = 0.0031335612028709947\n",
      "WARNING:root:Truncating @ 40, latest SV = 0.0029550740831504455\n",
      "WARNING:root:Truncating @ 40, latest SV = 0.002999823035120056\n",
      "WARNING:root:Truncating @ 40, latest SV = 0.00259128572712392\n",
      "WARNING:root:Truncating @ 40, latest SV = 0.0023108269198252682\n",
      "WARNING:root:Truncating @ 40, latest SV = 0.0018883745307614259\n",
      "WARNING:root:Truncating @ 40, latest SV = 0.0014247140833091982\n",
      "WARNING:root:Truncating @ 40, latest SV = 0.0011444632054999223\n",
      "WARNING:root:Truncating @ 40, latest SV = 0.0008714552111894209\n",
      "WARNING:root:Truncating @ 40, latest SV = 0.00048779164484912544\n",
      "WARNING:root:Truncating @ 40, latest SV = 0.00023950028472238108\n",
      "WARNING:root:Truncating @ 40, latest SV = 0.00012579889715221145\n",
      "WARNING:root:Truncating @ 40, latest SV = 4.310347484494296e-05\n",
      "WARNING:root:Truncating @ 40, latest SV = 1.6847730513386653e-06\n",
      "WARNING:root:Truncating @ 40, latest SV = 1.0845078760847188e-10\n"
     ]
    },
    {
     "name": "stdout",
     "output_type": "stream",
     "text": [
      "50 [1, 2, 4, 7, 13, 22, 40, 40, 40, 40, 40, 40, 40, 40, 40, 40, 40, 40, 40, 40, 40, 40, 40, 40, 40, 32, 16, 8, 4, 2, 1]\n",
      "MPS with length 30 and physical d=2\n",
      "chi [1, 6, 12, 21, 39, 66, 120, 120, 120, 120, 120, 120, 120, 120, 120, 120, 120, 120, 120, 120, 120, 120, 120, 120, 120, 96, 48, 24, 12, 6, 1]\n"
     ]
    },
    {
     "name": "stderr",
     "output_type": "stream",
     "text": [
      "WARNING:root:Truncating @ 40, latest SV = 0.0012608492278047964\n",
      "WARNING:root:Truncating @ 40, latest SV = 0.002072684111641816\n",
      "WARNING:root:Truncating @ 40, latest SV = 0.0026360353264186535\n",
      "WARNING:root:Truncating @ 40, latest SV = 0.003017108422386278\n",
      "WARNING:root:Truncating @ 40, latest SV = 0.003331757407314868\n",
      "WARNING:root:Truncating @ 40, latest SV = 0.003339829460352\n",
      "WARNING:root:Truncating @ 40, latest SV = 0.00322347891169597\n",
      "WARNING:root:Truncating @ 40, latest SV = 0.003180232154663304\n",
      "WARNING:root:Truncating @ 40, latest SV = 0.0027161444546275884\n",
      "WARNING:root:Truncating @ 40, latest SV = 0.0026422685754166893\n",
      "WARNING:root:Truncating @ 40, latest SV = 0.002242833785363971\n",
      "WARNING:root:Truncating @ 40, latest SV = 0.0019016692123138062\n",
      "WARNING:root:Truncating @ 40, latest SV = 0.0014220824227323707\n",
      "WARNING:root:Truncating @ 40, latest SV = 0.0009853709126047801\n",
      "WARNING:root:Truncating @ 40, latest SV = 0.0004446114984879224\n",
      "WARNING:root:Truncating @ 40, latest SV = 0.00021680326102185493\n",
      "WARNING:root:Truncating @ 40, latest SV = 3.918365149036561e-05\n",
      "WARNING:root:Truncating @ 40, latest SV = 1.5057966316150162e-06\n",
      "WARNING:root:Truncating @ 40, latest SV = 1.2023196658567377e-10\n"
     ]
    },
    {
     "name": "stdout",
     "output_type": "stream",
     "text": [
      "51 [1, 2, 4, 8, 15, 24, 40, 40, 40, 40, 40, 40, 40, 40, 40, 40, 40, 40, 40, 40, 40, 40, 40, 40, 40, 32, 16, 8, 4, 2, 1]\n",
      "MPS with length 30 and physical d=2\n",
      "chi [1, 6, 12, 24, 45, 72, 120, 120, 120, 120, 120, 120, 120, 120, 120, 120, 120, 120, 120, 120, 120, 120, 120, 120, 120, 96, 48, 24, 12, 6, 1]\n"
     ]
    },
    {
     "name": "stderr",
     "output_type": "stream",
     "text": [
      "WARNING:root:Truncating @ 40, latest SV = 0.0013746904855548548\n",
      "WARNING:root:Truncating @ 40, latest SV = 0.0021105553001532\n",
      "WARNING:root:Truncating @ 40, latest SV = 0.0026894251760956013\n",
      "WARNING:root:Truncating @ 40, latest SV = 0.0030618450846777966\n",
      "WARNING:root:Truncating @ 40, latest SV = 0.003304756958689287\n",
      "WARNING:root:Truncating @ 40, latest SV = 0.0032447094246275225\n",
      "WARNING:root:Truncating @ 40, latest SV = 0.0029061092239613313\n",
      "WARNING:root:Truncating @ 40, latest SV = 0.0031098319755241246\n",
      "WARNING:root:Truncating @ 40, latest SV = 0.002805178889077079\n",
      "WARNING:root:Truncating @ 40, latest SV = 0.0026538012858290157\n",
      "WARNING:root:Truncating @ 40, latest SV = 0.002270272282246165\n",
      "WARNING:root:Truncating @ 40, latest SV = 0.0018870437499145256\n",
      "WARNING:root:Truncating @ 40, latest SV = 0.0011323053481892384\n",
      "WARNING:root:Truncating @ 40, latest SV = 0.0006338086596769932\n",
      "WARNING:root:Truncating @ 40, latest SV = 0.00039566962969280655\n",
      "WARNING:root:Truncating @ 40, latest SV = 0.00017966040062361477\n",
      "WARNING:root:Truncating @ 40, latest SV = 4.2395447634266707e-05\n",
      "WARNING:root:Truncating @ 40, latest SV = 3.377366773589987e-06\n"
     ]
    },
    {
     "name": "stdout",
     "output_type": "stream",
     "text": [
      "52 [1, 2, 4, 7, 12, 22, 38, 40, 40, 40, 40, 40, 40, 40, 40, 40, 40, 40, 40, 40, 40, 40, 40, 40, 40, 32, 16, 8, 4, 2, 1]\n",
      "MPS with length 30 and physical d=2\n",
      "chi [1, 6, 12, 21, 36, 66, 114, 120, 120, 120, 120, 120, 120, 120, 120, 120, 120, 120, 120, 120, 120, 120, 120, 120, 120, 96, 48, 24, 12, 6, 1]\n"
     ]
    },
    {
     "name": "stderr",
     "output_type": "stream",
     "text": [
      "WARNING:root:Truncating @ 40, latest SV = 0.0014793442646954759\n",
      "WARNING:root:Truncating @ 40, latest SV = 0.002238230441943821\n",
      "WARNING:root:Truncating @ 40, latest SV = 0.003160583591034653\n",
      "WARNING:root:Truncating @ 40, latest SV = 0.003437819618863915\n",
      "WARNING:root:Truncating @ 40, latest SV = 0.003457419472043597\n",
      "WARNING:root:Truncating @ 40, latest SV = 0.0031651583856006547\n",
      "WARNING:root:Truncating @ 40, latest SV = 0.0031162444946375837\n",
      "WARNING:root:Truncating @ 40, latest SV = 0.0031168666594594977\n",
      "WARNING:root:Truncating @ 40, latest SV = 0.002755490823496483\n",
      "WARNING:root:Truncating @ 40, latest SV = 0.002300801051412387\n",
      "WARNING:root:Truncating @ 40, latest SV = 0.00211800504847089\n",
      "WARNING:root:Truncating @ 40, latest SV = 0.001680051482622558\n",
      "WARNING:root:Truncating @ 40, latest SV = 0.0011191390172834129\n",
      "WARNING:root:Truncating @ 40, latest SV = 0.0006961526437209578\n",
      "WARNING:root:Truncating @ 40, latest SV = 0.00028772724339688586\n",
      "WARNING:root:Truncating @ 40, latest SV = 0.00011961839127051998\n",
      "WARNING:root:Truncating @ 40, latest SV = 3.5927359634098126e-05\n",
      "WARNING:root:Truncating @ 40, latest SV = 1.6894763187953901e-06\n"
     ]
    },
    {
     "name": "stdout",
     "output_type": "stream",
     "text": [
      "53 [1, 2, 4, 7, 11, 20, 38, 40, 40, 40, 40, 40, 40, 40, 40, 40, 40, 40, 40, 40, 40, 40, 40, 40, 40, 32, 16, 8, 4, 2, 1]\n",
      "MPS with length 30 and physical d=2\n",
      "chi [1, 6, 12, 21, 33, 60, 114, 120, 120, 120, 120, 120, 120, 120, 120, 120, 120, 120, 120, 120, 120, 120, 120, 120, 120, 96, 48, 24, 12, 6, 1]\n"
     ]
    },
    {
     "name": "stderr",
     "output_type": "stream",
     "text": [
      "WARNING:root:Truncating @ 40, latest SV = 0.0015263356544063114\n",
      "WARNING:root:Truncating @ 40, latest SV = 0.0024589648049690707\n",
      "WARNING:root:Truncating @ 40, latest SV = 0.0032803191337719847\n",
      "WARNING:root:Truncating @ 40, latest SV = 0.00362287052315587\n",
      "WARNING:root:Truncating @ 40, latest SV = 0.004003365366460377\n",
      "WARNING:root:Truncating @ 40, latest SV = 0.0037915817193471843\n",
      "WARNING:root:Truncating @ 40, latest SV = 0.003547214033728999\n",
      "WARNING:root:Truncating @ 40, latest SV = 0.0034295131598840027\n",
      "WARNING:root:Truncating @ 40, latest SV = 0.0032220652715747437\n",
      "WARNING:root:Truncating @ 40, latest SV = 0.0028933293766860327\n",
      "WARNING:root:Truncating @ 40, latest SV = 0.0025734573909636594\n",
      "WARNING:root:Truncating @ 40, latest SV = 0.0022830854123276068\n",
      "WARNING:root:Truncating @ 40, latest SV = 0.0017469811617446724\n",
      "WARNING:root:Truncating @ 40, latest SV = 0.0011764731215121694\n",
      "WARNING:root:Truncating @ 40, latest SV = 0.0005447219543299762\n",
      "WARNING:root:Truncating @ 40, latest SV = 0.0002221041669231279\n",
      "WARNING:root:Truncating @ 40, latest SV = 8.53433595230048e-05\n",
      "WARNING:root:Truncating @ 40, latest SV = 3.380886377054366e-06\n"
     ]
    },
    {
     "name": "stdout",
     "output_type": "stream",
     "text": [
      "54 [1, 2, 4, 7, 12, 20, 36, 40, 40, 40, 40, 40, 40, 40, 40, 40, 40, 40, 40, 40, 40, 40, 40, 40, 40, 32, 16, 8, 4, 2, 1]\n",
      "MPS with length 30 and physical d=2\n",
      "chi [1, 6, 12, 21, 36, 60, 108, 120, 120, 120, 120, 120, 120, 120, 120, 120, 120, 120, 120, 120, 120, 120, 120, 120, 120, 96, 48, 24, 12, 6, 1]\n"
     ]
    },
    {
     "name": "stderr",
     "output_type": "stream",
     "text": [
      "WARNING:root:Truncating @ 40, latest SV = 0.00121591751767094\n",
      "WARNING:root:Truncating @ 40, latest SV = 0.002004242922020592\n",
      "WARNING:root:Truncating @ 40, latest SV = 0.0027366603844662476\n",
      "WARNING:root:Truncating @ 40, latest SV = 0.003117197535158346\n",
      "WARNING:root:Truncating @ 40, latest SV = 0.003403392638596068\n",
      "WARNING:root:Truncating @ 40, latest SV = 0.003433367181451676\n",
      "WARNING:root:Truncating @ 40, latest SV = 0.0032605725070638876\n",
      "WARNING:root:Truncating @ 40, latest SV = 0.003391679357663757\n",
      "WARNING:root:Truncating @ 40, latest SV = 0.00287406156128216\n",
      "WARNING:root:Truncating @ 40, latest SV = 0.002450151055588118\n",
      "WARNING:root:Truncating @ 40, latest SV = 0.002317718157357443\n",
      "WARNING:root:Truncating @ 40, latest SV = 0.0018384995483132626\n",
      "WARNING:root:Truncating @ 40, latest SV = 0.0011103979806923738\n",
      "WARNING:root:Truncating @ 40, latest SV = 0.000725147468409862\n",
      "WARNING:root:Truncating @ 40, latest SV = 0.00042891298585605715\n",
      "WARNING:root:Truncating @ 40, latest SV = 0.0001514831385014368\n",
      "WARNING:root:Truncating @ 40, latest SV = 5.606569646011372e-05\n",
      "WARNING:root:Truncating @ 40, latest SV = 2.625154179669893e-06\n"
     ]
    },
    {
     "name": "stdout",
     "output_type": "stream",
     "text": [
      "55 [1, 2, 4, 7, 11, 20, 36, 40, 40, 40, 40, 40, 40, 40, 40, 40, 40, 40, 40, 40, 40, 40, 40, 40, 40, 32, 16, 8, 4, 2, 1]\n",
      "MPS with length 30 and physical d=2\n",
      "chi [1, 6, 12, 21, 33, 60, 108, 120, 120, 120, 120, 120, 120, 120, 120, 120, 120, 120, 120, 120, 120, 120, 120, 120, 120, 96, 48, 24, 12, 6, 1]\n"
     ]
    },
    {
     "name": "stderr",
     "output_type": "stream",
     "text": [
      "WARNING:root:Truncating @ 40, latest SV = 0.0022186895878613575\n",
      "WARNING:root:Truncating @ 40, latest SV = 0.0035354913117605358\n",
      "WARNING:root:Truncating @ 40, latest SV = 0.004910361386439768\n",
      "WARNING:root:Truncating @ 40, latest SV = 0.005708475584469263\n",
      "WARNING:root:Truncating @ 40, latest SV = 0.005982124950480056\n",
      "WARNING:root:Truncating @ 40, latest SV = 0.006226793272895888\n",
      "WARNING:root:Truncating @ 40, latest SV = 0.005758291290406346\n",
      "WARNING:root:Truncating @ 40, latest SV = 0.0054193542056785405\n",
      "WARNING:root:Truncating @ 40, latest SV = 0.005071482615836439\n",
      "WARNING:root:Truncating @ 40, latest SV = 0.004371730019683038\n",
      "WARNING:root:Truncating @ 40, latest SV = 0.003740771028045047\n",
      "WARNING:root:Truncating @ 40, latest SV = 0.0030362663301196926\n",
      "WARNING:root:Truncating @ 40, latest SV = 0.002444742740939643\n",
      "WARNING:root:Truncating @ 40, latest SV = 0.0016896597986622664\n",
      "WARNING:root:Truncating @ 40, latest SV = 0.0012065206465919007\n",
      "WARNING:root:Truncating @ 40, latest SV = 0.0006171439218173476\n",
      "WARNING:root:Truncating @ 40, latest SV = 0.0001710683914810074\n",
      "WARNING:root:Truncating @ 40, latest SV = 5.630086433423084e-06\n"
     ]
    },
    {
     "name": "stdout",
     "output_type": "stream",
     "text": [
      "56 [1, 2, 4, 6, 11, 19, 36, 40, 40, 40, 40, 40, 40, 40, 40, 40, 40, 40, 40, 40, 40, 40, 40, 40, 40, 32, 16, 8, 4, 2, 1]\n",
      "MPS with length 30 and physical d=2\n",
      "chi [1, 6, 12, 18, 33, 57, 108, 120, 120, 120, 120, 120, 120, 120, 120, 120, 120, 120, 120, 120, 120, 120, 120, 120, 120, 96, 48, 24, 12, 6, 1]\n"
     ]
    },
    {
     "name": "stderr",
     "output_type": "stream",
     "text": [
      "WARNING:root:Truncating @ 40, latest SV = 0.0015298454260505596\n",
      "WARNING:root:Truncating @ 40, latest SV = 0.0026396321096514973\n",
      "WARNING:root:Truncating @ 40, latest SV = 0.0035884005451860073\n",
      "WARNING:root:Truncating @ 40, latest SV = 0.004360804197740789\n",
      "WARNING:root:Truncating @ 40, latest SV = 0.004880424547097895\n",
      "WARNING:root:Truncating @ 40, latest SV = 0.004753240441181403\n",
      "WARNING:root:Truncating @ 40, latest SV = 0.004727305172498968\n",
      "WARNING:root:Truncating @ 40, latest SV = 0.004165518564558111\n",
      "WARNING:root:Truncating @ 40, latest SV = 0.00401897170877604\n",
      "WARNING:root:Truncating @ 40, latest SV = 0.003660306876283578\n",
      "WARNING:root:Truncating @ 40, latest SV = 0.00290135763062946\n",
      "WARNING:root:Truncating @ 40, latest SV = 0.0025108178512035545\n",
      "WARNING:root:Truncating @ 40, latest SV = 0.001711821387727361\n",
      "WARNING:root:Truncating @ 40, latest SV = 0.0012573249358531799\n",
      "WARNING:root:Truncating @ 40, latest SV = 0.0007301821413701215\n",
      "WARNING:root:Truncating @ 40, latest SV = 0.00037444017623751766\n",
      "WARNING:root:Truncating @ 40, latest SV = 0.0001045687498581535\n",
      "WARNING:root:Truncating @ 40, latest SV = 6.9057680653847805e-06\n"
     ]
    },
    {
     "name": "stdout",
     "output_type": "stream",
     "text": [
      "57 [1, 2, 4, 7, 10, 18, 35, 40, 40, 40, 40, 40, 40, 40, 40, 40, 40, 40, 40, 40, 40, 40, 40, 40, 40, 32, 16, 8, 4, 2, 1]\n",
      "MPS with length 30 and physical d=2\n",
      "chi [1, 6, 12, 21, 30, 54, 105, 120, 120, 120, 120, 120, 120, 120, 120, 120, 120, 120, 120, 120, 120, 120, 120, 120, 120, 96, 48, 24, 12, 6, 1]\n"
     ]
    },
    {
     "name": "stderr",
     "output_type": "stream",
     "text": [
      "WARNING:root:Truncating @ 40, latest SV = 0.0008017779445262287\n",
      "WARNING:root:Truncating @ 40, latest SV = 0.0015441920544909758\n",
      "WARNING:root:Truncating @ 40, latest SV = 0.002411338148088486\n",
      "WARNING:root:Truncating @ 40, latest SV = 0.0028556877644517874\n",
      "WARNING:root:Truncating @ 40, latest SV = 0.0031563309575603745\n",
      "WARNING:root:Truncating @ 40, latest SV = 0.00324494380631779\n",
      "WARNING:root:Truncating @ 40, latest SV = 0.003290498520940061\n",
      "WARNING:root:Truncating @ 40, latest SV = 0.0030924482003276605\n",
      "WARNING:root:Truncating @ 40, latest SV = 0.002791137452053492\n",
      "WARNING:root:Truncating @ 40, latest SV = 0.002544475295397567\n",
      "WARNING:root:Truncating @ 40, latest SV = 0.0022938309473071188\n",
      "WARNING:root:Truncating @ 40, latest SV = 0.0017695391918461452\n",
      "WARNING:root:Truncating @ 40, latest SV = 0.0014924562691212414\n",
      "WARNING:root:Truncating @ 40, latest SV = 0.0009165474152848979\n",
      "WARNING:root:Truncating @ 40, latest SV = 0.000452248161925359\n",
      "WARNING:root:Truncating @ 40, latest SV = 0.0002384461652614306\n",
      "WARNING:root:Truncating @ 40, latest SV = 9.423198744059492e-05\n",
      "WARNING:root:Truncating @ 40, latest SV = 4.309671719199594e-06\n"
     ]
    },
    {
     "name": "stdout",
     "output_type": "stream",
     "text": [
      "58 [1, 2, 4, 6, 11, 19, 35, 40, 40, 40, 40, 40, 40, 40, 40, 40, 40, 40, 40, 40, 40, 40, 40, 40, 40, 32, 16, 8, 4, 2, 1]\n",
      "MPS with length 30 and physical d=2\n",
      "chi [1, 6, 12, 18, 33, 57, 105, 120, 120, 120, 120, 120, 120, 120, 120, 120, 120, 120, 120, 120, 120, 120, 120, 120, 120, 96, 48, 24, 12, 6, 1]\n"
     ]
    },
    {
     "name": "stderr",
     "output_type": "stream",
     "text": [
      "WARNING:root:Truncating @ 40, latest SV = 0.0010427008643423194\n",
      "WARNING:root:Truncating @ 40, latest SV = 0.0017837399375415536\n",
      "WARNING:root:Truncating @ 40, latest SV = 0.002727909425463029\n",
      "WARNING:root:Truncating @ 40, latest SV = 0.0031234554214098114\n",
      "WARNING:root:Truncating @ 40, latest SV = 0.003231237175367851\n",
      "WARNING:root:Truncating @ 40, latest SV = 0.003297418878896954\n",
      "WARNING:root:Truncating @ 40, latest SV = 0.0031075762424785237\n",
      "WARNING:root:Truncating @ 40, latest SV = 0.0030063295552473007\n",
      "WARNING:root:Truncating @ 40, latest SV = 0.0027832169748778484\n",
      "WARNING:root:Truncating @ 40, latest SV = 0.002531667990762835\n",
      "WARNING:root:Truncating @ 40, latest SV = 0.0022449019660292736\n",
      "WARNING:root:Truncating @ 40, latest SV = 0.0018455323695183525\n",
      "WARNING:root:Truncating @ 40, latest SV = 0.0014613869563152961\n",
      "WARNING:root:Truncating @ 40, latest SV = 0.0011495264591491385\n",
      "WARNING:root:Truncating @ 40, latest SV = 0.0007012358346145808\n",
      "WARNING:root:Truncating @ 40, latest SV = 0.00033714298160479497\n",
      "WARNING:root:Truncating @ 40, latest SV = 5.566651680171354e-05\n",
      "WARNING:root:Truncating @ 40, latest SV = 1.920168595299517e-06\n"
     ]
    },
    {
     "name": "stdout",
     "output_type": "stream",
     "text": [
      "59 [1, 2, 3, 6, 11, 20, 37, 40, 40, 40, 40, 40, 40, 40, 40, 40, 40, 40, 40, 40, 40, 40, 40, 40, 40, 32, 16, 8, 4, 2, 1]\n",
      "MPS with length 30 and physical d=2\n",
      "chi [1, 6, 9, 18, 33, 60, 111, 120, 120, 120, 120, 120, 120, 120, 120, 120, 120, 120, 120, 120, 120, 120, 120, 120, 120, 96, 48, 24, 12, 6, 1]\n"
     ]
    },
    {
     "name": "stderr",
     "output_type": "stream",
     "text": [
      "WARNING:root:Truncating @ 40, latest SV = 0.0011992805318901173\n",
      "WARNING:root:Truncating @ 40, latest SV = 0.002031346261725004\n",
      "WARNING:root:Truncating @ 40, latest SV = 0.0030281107937248147\n",
      "WARNING:root:Truncating @ 40, latest SV = 0.003658558922810979\n",
      "WARNING:root:Truncating @ 40, latest SV = 0.004219367563236441\n",
      "WARNING:root:Truncating @ 40, latest SV = 0.004093344735164081\n",
      "WARNING:root:Truncating @ 40, latest SV = 0.003824135946474668\n",
      "WARNING:root:Truncating @ 40, latest SV = 0.003426714496177066\n",
      "WARNING:root:Truncating @ 40, latest SV = 0.003412367551494144\n",
      "WARNING:root:Truncating @ 40, latest SV = 0.0031572518036237928\n",
      "WARNING:root:Truncating @ 40, latest SV = 0.003006155055132758\n",
      "WARNING:root:Truncating @ 40, latest SV = 0.0027443446790886786\n",
      "WARNING:root:Truncating @ 40, latest SV = 0.0021784661656863045\n",
      "WARNING:root:Truncating @ 40, latest SV = 0.001844345099800601\n",
      "WARNING:root:Truncating @ 40, latest SV = 0.0009896351520034053\n",
      "WARNING:root:Truncating @ 40, latest SV = 0.00032111197013362226\n",
      "WARNING:root:Truncating @ 40, latest SV = 8.230871005923648e-05\n",
      "WARNING:root:Truncating @ 40, latest SV = 2.6302871298078096e-06\n"
     ]
    },
    {
     "name": "stdout",
     "output_type": "stream",
     "text": [
      "60 [1, 2, 4, 5, 8, 16, 29, 40, 40, 40, 40, 40, 40, 40, 40, 40, 40, 40, 40, 40, 40, 40, 40, 40, 40, 32, 16, 8, 4, 2, 1]\n",
      "MPS with length 30 and physical d=2\n",
      "chi [1, 6, 12, 15, 24, 48, 87, 120, 120, 120, 120, 120, 120, 120, 120, 120, 120, 120, 120, 120, 120, 120, 120, 120, 120, 96, 48, 24, 12, 6, 1]\n"
     ]
    },
    {
     "name": "stderr",
     "output_type": "stream",
     "text": [
      "WARNING:root:Truncating @ 40, latest SV = 0.001315389428643244\n",
      "WARNING:root:Truncating @ 40, latest SV = 0.0024850362334990737\n",
      "WARNING:root:Truncating @ 40, latest SV = 0.0033013577188013717\n",
      "WARNING:root:Truncating @ 40, latest SV = 0.00413131976516168\n",
      "WARNING:root:Truncating @ 40, latest SV = 0.004472724632260705\n",
      "WARNING:root:Truncating @ 40, latest SV = 0.004592771528532674\n",
      "WARNING:root:Truncating @ 40, latest SV = 0.004365481590201138\n",
      "WARNING:root:Truncating @ 40, latest SV = 0.0042032191226319595\n",
      "WARNING:root:Truncating @ 40, latest SV = 0.004025802111705195\n",
      "WARNING:root:Truncating @ 40, latest SV = 0.0037761601262900316\n",
      "WARNING:root:Truncating @ 40, latest SV = 0.0032684894128263905\n",
      "WARNING:root:Truncating @ 40, latest SV = 0.002558108719362994\n",
      "WARNING:root:Truncating @ 40, latest SV = 0.002137853215194403\n",
      "WARNING:root:Truncating @ 40, latest SV = 0.0013757108335591172\n",
      "WARNING:root:Truncating @ 40, latest SV = 0.000843691492750561\n",
      "WARNING:root:Truncating @ 40, latest SV = 0.0005409189392853372\n",
      "WARNING:root:Truncating @ 40, latest SV = 0.00023943763829098626\n",
      "WARNING:root:Truncating @ 40, latest SV = 1.4909065399043749e-05\n"
     ]
    },
    {
     "name": "stdout",
     "output_type": "stream",
     "text": [
      "61 [1, 2, 4, 7, 10, 17, 32, 40, 40, 40, 40, 40, 40, 40, 40, 40, 40, 40, 40, 40, 40, 40, 40, 40, 40, 32, 16, 8, 4, 2, 1]\n",
      "MPS with length 30 and physical d=2\n",
      "chi [1, 6, 12, 21, 30, 51, 96, 120, 120, 120, 120, 120, 120, 120, 120, 120, 120, 120, 120, 120, 120, 120, 120, 120, 120, 96, 48, 24, 12, 6, 1]\n"
     ]
    },
    {
     "name": "stderr",
     "output_type": "stream",
     "text": [
      "WARNING:root:Truncating @ 40, latest SV = 0.0010414878380422792\n",
      "WARNING:root:Truncating @ 40, latest SV = 0.002021626640549914\n",
      "WARNING:root:Truncating @ 40, latest SV = 0.00281495403043179\n",
      "WARNING:root:Truncating @ 40, latest SV = 0.003351194881190973\n",
      "WARNING:root:Truncating @ 40, latest SV = 0.0036933973490757836\n",
      "WARNING:root:Truncating @ 40, latest SV = 0.0037222317016512327\n",
      "WARNING:root:Truncating @ 40, latest SV = 0.003636773097268715\n",
      "WARNING:root:Truncating @ 40, latest SV = 0.0034445317602467855\n",
      "WARNING:root:Truncating @ 40, latest SV = 0.0034095127112465655\n",
      "WARNING:root:Truncating @ 40, latest SV = 0.0030044056323004853\n",
      "WARNING:root:Truncating @ 40, latest SV = 0.0025709816890312487\n",
      "WARNING:root:Truncating @ 40, latest SV = 0.0022529108389389807\n",
      "WARNING:root:Truncating @ 40, latest SV = 0.0018710046741943548\n",
      "WARNING:root:Truncating @ 40, latest SV = 0.0015678027613916013\n",
      "WARNING:root:Truncating @ 40, latest SV = 0.001149696588035815\n",
      "WARNING:root:Truncating @ 40, latest SV = 0.0006337696651078209\n",
      "WARNING:root:Truncating @ 40, latest SV = 0.0002484053198907217\n",
      "WARNING:root:Truncating @ 40, latest SV = 4.368149094788528e-05\n"
     ]
    },
    {
     "name": "stdout",
     "output_type": "stream",
     "text": [
      "62 [1, 2, 4, 5, 10, 18, 33, 40, 40, 40, 40, 40, 40, 40, 40, 40, 40, 40, 40, 40, 40, 40, 40, 40, 40, 32, 16, 8, 4, 2, 1]\n",
      "MPS with length 30 and physical d=2\n",
      "chi [1, 6, 12, 15, 30, 54, 99, 120, 120, 120, 120, 120, 120, 120, 120, 120, 120, 120, 120, 120, 120, 120, 120, 120, 120, 96, 48, 24, 12, 6, 1]\n"
     ]
    },
    {
     "name": "stderr",
     "output_type": "stream",
     "text": [
      "WARNING:root:Truncating @ 40, latest SV = 0.0007355643056266809\n",
      "WARNING:root:Truncating @ 40, latest SV = 0.0018162523855809027\n",
      "WARNING:root:Truncating @ 40, latest SV = 0.0028569273583742435\n",
      "WARNING:root:Truncating @ 40, latest SV = 0.0034956608678186687\n",
      "WARNING:root:Truncating @ 40, latest SV = 0.003889960544343911\n",
      "WARNING:root:Truncating @ 40, latest SV = 0.003757627398459919\n",
      "WARNING:root:Truncating @ 40, latest SV = 0.003730258269753107\n",
      "WARNING:root:Truncating @ 40, latest SV = 0.003553910873654389\n",
      "WARNING:root:Truncating @ 40, latest SV = 0.0030719761529228447\n",
      "WARNING:root:Truncating @ 40, latest SV = 0.0027514193272701734\n",
      "WARNING:root:Truncating @ 40, latest SV = 0.002360915830601017\n",
      "WARNING:root:Truncating @ 40, latest SV = 0.001893084532367205\n",
      "WARNING:root:Truncating @ 40, latest SV = 0.0014247933237714506\n",
      "WARNING:root:Truncating @ 40, latest SV = 0.0009676376151300916\n",
      "WARNING:root:Truncating @ 40, latest SV = 0.0006073701434074978\n",
      "WARNING:root:Truncating @ 40, latest SV = 0.00030692350734647214\n",
      "WARNING:root:Truncating @ 40, latest SV = 0.0001292197401049018\n",
      "WARNING:root:Truncating @ 40, latest SV = 1.9430746686515805e-05\n"
     ]
    },
    {
     "name": "stdout",
     "output_type": "stream",
     "text": [
      "63 [1, 2, 4, 5, 9, 16, 32, 40, 40, 40, 40, 40, 40, 40, 40, 40, 40, 40, 40, 40, 40, 40, 40, 40, 40, 32, 16, 8, 4, 2, 1]\n",
      "MPS with length 30 and physical d=2\n",
      "chi [1, 6, 12, 15, 27, 48, 96, 120, 120, 120, 120, 120, 120, 120, 120, 120, 120, 120, 120, 120, 120, 120, 120, 120, 120, 96, 48, 24, 12, 6, 1]\n"
     ]
    },
    {
     "name": "stderr",
     "output_type": "stream",
     "text": [
      "WARNING:root:Truncating @ 40, latest SV = 0.001146578647877137\n",
      "WARNING:root:Truncating @ 40, latest SV = 0.001845288991467043\n",
      "WARNING:root:Truncating @ 40, latest SV = 0.0028298671595797776\n",
      "WARNING:root:Truncating @ 40, latest SV = 0.0031372709896297876\n",
      "WARNING:root:Truncating @ 40, latest SV = 0.0034106734135296636\n",
      "WARNING:root:Truncating @ 40, latest SV = 0.0034269990756232906\n",
      "WARNING:root:Truncating @ 40, latest SV = 0.003450905658208079\n",
      "WARNING:root:Truncating @ 40, latest SV = 0.0035021254109218417\n",
      "WARNING:root:Truncating @ 40, latest SV = 0.0029605595064188515\n",
      "WARNING:root:Truncating @ 40, latest SV = 0.002593773151112642\n",
      "WARNING:root:Truncating @ 40, latest SV = 0.002392884661429791\n",
      "WARNING:root:Truncating @ 40, latest SV = 0.0019660245263399237\n",
      "WARNING:root:Truncating @ 40, latest SV = 0.001554435848213698\n",
      "WARNING:root:Truncating @ 40, latest SV = 0.0013116459835009059\n",
      "WARNING:root:Truncating @ 40, latest SV = 0.0010172219255644675\n",
      "WARNING:root:Truncating @ 40, latest SV = 0.0006512862601591202\n",
      "WARNING:root:Truncating @ 40, latest SV = 0.00022295495324864504\n",
      "WARNING:root:Truncating @ 40, latest SV = 1.603694107583728e-05\n"
     ]
    },
    {
     "name": "stdout",
     "output_type": "stream",
     "text": [
      "64 [1, 2, 3, 5, 9, 17, 32, 40, 40, 40, 40, 40, 40, 40, 40, 40, 40, 40, 40, 40, 40, 40, 40, 40, 40, 32, 16, 8, 4, 2, 1]\n",
      "MPS with length 30 and physical d=2\n",
      "chi [1, 6, 9, 15, 27, 51, 96, 120, 120, 120, 120, 120, 120, 120, 120, 120, 120, 120, 120, 120, 120, 120, 120, 120, 120, 96, 48, 24, 12, 6, 1]\n"
     ]
    },
    {
     "name": "stderr",
     "output_type": "stream",
     "text": [
      "WARNING:root:Truncating @ 40, latest SV = 0.00109021794642112\n",
      "WARNING:root:Truncating @ 40, latest SV = 0.001986321379266947\n",
      "WARNING:root:Truncating @ 40, latest SV = 0.002953885220983272\n",
      "WARNING:root:Truncating @ 40, latest SV = 0.003247465649123688\n",
      "WARNING:root:Truncating @ 40, latest SV = 0.003517069850941216\n",
      "WARNING:root:Truncating @ 40, latest SV = 0.003577301750147894\n",
      "WARNING:root:Truncating @ 40, latest SV = 0.003156825054082995\n",
      "WARNING:root:Truncating @ 40, latest SV = 0.0030203285922185746\n",
      "WARNING:root:Truncating @ 40, latest SV = 0.0024799174177483666\n",
      "WARNING:root:Truncating @ 40, latest SV = 0.002336675200958715\n",
      "WARNING:root:Truncating @ 40, latest SV = 0.0020667531730336\n",
      "WARNING:root:Truncating @ 40, latest SV = 0.0016746431834728352\n",
      "WARNING:root:Truncating @ 40, latest SV = 0.0014856099006496772\n",
      "WARNING:root:Truncating @ 40, latest SV = 0.0011530552181948813\n",
      "WARNING:root:Truncating @ 40, latest SV = 0.0009606094985695608\n",
      "WARNING:root:Truncating @ 40, latest SV = 0.0007018040198276069\n",
      "WARNING:root:Truncating @ 40, latest SV = 0.00030853145469899093\n",
      "WARNING:root:Truncating @ 40, latest SV = 4.932086683721685e-05\n"
     ]
    },
    {
     "name": "stdout",
     "output_type": "stream",
     "text": [
      "65 [1, 2, 3, 5, 8, 16, 32, 40, 40, 40, 40, 40, 40, 40, 40, 40, 40, 40, 40, 40, 40, 40, 40, 40, 40, 32, 16, 8, 4, 2, 1]\n",
      "MPS with length 30 and physical d=2\n",
      "chi [1, 6, 9, 15, 24, 48, 96, 120, 120, 120, 120, 120, 120, 120, 120, 120, 120, 120, 120, 120, 120, 120, 120, 120, 120, 96, 48, 24, 12, 6, 1]\n"
     ]
    },
    {
     "name": "stderr",
     "output_type": "stream",
     "text": [
      "WARNING:root:Truncating @ 40, latest SV = 0.0011331052276247497\n",
      "WARNING:root:Truncating @ 40, latest SV = 0.0024214145187073524\n",
      "WARNING:root:Truncating @ 40, latest SV = 0.00359883379846658\n",
      "WARNING:root:Truncating @ 40, latest SV = 0.0041068784371774475\n",
      "WARNING:root:Truncating @ 40, latest SV = 0.004156112118860562\n",
      "WARNING:root:Truncating @ 40, latest SV = 0.003986799206135255\n",
      "WARNING:root:Truncating @ 40, latest SV = 0.003867162633550817\n",
      "WARNING:root:Truncating @ 40, latest SV = 0.0034589282538242914\n",
      "WARNING:root:Truncating @ 40, latest SV = 0.003262429335771214\n",
      "WARNING:root:Truncating @ 40, latest SV = 0.0028172955791088148\n",
      "WARNING:root:Truncating @ 40, latest SV = 0.0026445607502287457\n",
      "WARNING:root:Truncating @ 40, latest SV = 0.0024219360470516763\n",
      "WARNING:root:Truncating @ 40, latest SV = 0.002126078671872083\n",
      "WARNING:root:Truncating @ 40, latest SV = 0.0017825189526473138\n",
      "WARNING:root:Truncating @ 40, latest SV = 0.0012056206644504416\n",
      "WARNING:root:Truncating @ 40, latest SV = 0.0005808349247304619\n",
      "WARNING:root:Truncating @ 40, latest SV = 0.00016348531404969318\n",
      "WARNING:root:Truncating @ 40, latest SV = 9.098957159800348e-06\n"
     ]
    },
    {
     "name": "stdout",
     "output_type": "stream",
     "text": [
      "66 [1, 1, 2, 4, 8, 16, 32, 40, 40, 40, 40, 40, 40, 40, 40, 40, 40, 40, 40, 40, 40, 40, 40, 40, 40, 32, 16, 8, 4, 2, 1]\n",
      "MPS with length 30 and physical d=2\n",
      "chi [1, 3, 6, 12, 24, 48, 96, 120, 120, 120, 120, 120, 120, 120, 120, 120, 120, 120, 120, 120, 120, 120, 120, 120, 120, 96, 48, 24, 12, 6, 1]\n"
     ]
    },
    {
     "name": "stderr",
     "output_type": "stream",
     "text": [
      "WARNING:root:Truncating @ 40, latest SV = 0.0012525721797339265\n",
      "WARNING:root:Truncating @ 40, latest SV = 0.0027902665875003075\n",
      "WARNING:root:Truncating @ 40, latest SV = 0.003908306199970806\n",
      "WARNING:root:Truncating @ 40, latest SV = 0.004497068099019537\n",
      "WARNING:root:Truncating @ 40, latest SV = 0.005106111530670606\n",
      "WARNING:root:Truncating @ 40, latest SV = 0.005226453690214576\n",
      "WARNING:root:Truncating @ 40, latest SV = 0.005228822525656659\n",
      "WARNING:root:Truncating @ 40, latest SV = 0.005046199403179854\n",
      "WARNING:root:Truncating @ 40, latest SV = 0.004768758935907524\n",
      "WARNING:root:Truncating @ 40, latest SV = 0.004396554735922668\n",
      "WARNING:root:Truncating @ 40, latest SV = 0.004076091466568751\n",
      "WARNING:root:Truncating @ 40, latest SV = 0.003554590121062259\n",
      "WARNING:root:Truncating @ 40, latest SV = 0.0029609636402471978\n",
      "WARNING:root:Truncating @ 40, latest SV = 0.002604159912374911\n",
      "WARNING:root:Truncating @ 40, latest SV = 0.0017648270661909657\n",
      "WARNING:root:Truncating @ 40, latest SV = 0.0010368845116820451\n",
      "WARNING:root:Truncating @ 40, latest SV = 0.00016393994987282107\n",
      "WARNING:root:Truncating @ 40, latest SV = 9.652274919321129e-06\n",
      "WARNING:root:Truncating @ 40, latest SV = 2.420322308404544e-08\n"
     ]
    },
    {
     "name": "stdout",
     "output_type": "stream",
     "text": [
      "67 [1, 2, 4, 8, 15, 26, 40, 40, 40, 40, 40, 40, 40, 40, 40, 40, 40, 40, 40, 40, 40, 40, 40, 40, 40, 32, 16, 8, 4, 2, 1]\n",
      "MPS with length 30 and physical d=2\n",
      "chi [1, 6, 12, 24, 45, 78, 120, 120, 120, 120, 120, 120, 120, 120, 120, 120, 120, 120, 120, 120, 120, 120, 120, 120, 120, 96, 48, 24, 12, 6, 1]\n"
     ]
    },
    {
     "name": "stderr",
     "output_type": "stream",
     "text": [
      "WARNING:root:Truncating @ 40, latest SV = 0.0010767492208596263\n",
      "WARNING:root:Truncating @ 40, latest SV = 0.0021993610070263556\n",
      "WARNING:root:Truncating @ 40, latest SV = 0.003167252395216442\n",
      "WARNING:root:Truncating @ 40, latest SV = 0.0038068544953921736\n",
      "WARNING:root:Truncating @ 40, latest SV = 0.004037807472108392\n",
      "WARNING:root:Truncating @ 40, latest SV = 0.004246051632104486\n",
      "WARNING:root:Truncating @ 40, latest SV = 0.004007730668950986\n",
      "WARNING:root:Truncating @ 40, latest SV = 0.0037530349147551828\n",
      "WARNING:root:Truncating @ 40, latest SV = 0.0033747589822869\n",
      "WARNING:root:Truncating @ 40, latest SV = 0.0031327229769850576\n",
      "WARNING:root:Truncating @ 40, latest SV = 0.002602817353971798\n",
      "WARNING:root:Truncating @ 40, latest SV = 0.0020407833444077775\n",
      "WARNING:root:Truncating @ 40, latest SV = 0.0013054772266655635\n",
      "WARNING:root:Truncating @ 40, latest SV = 0.0008016508593469601\n",
      "WARNING:root:Truncating @ 40, latest SV = 0.000457268061004944\n",
      "WARNING:root:Truncating @ 40, latest SV = 0.00027106359056326267\n",
      "WARNING:root:Truncating @ 40, latest SV = 9.092498245186071e-05\n",
      "WARNING:root:Truncating @ 40, latest SV = 1.1763493773101788e-05\n",
      "WARNING:root:Truncating @ 40, latest SV = 3.4844441141706695e-08\n"
     ]
    },
    {
     "name": "stdout",
     "output_type": "stream",
     "text": [
      "68 [1, 2, 4, 8, 16, 30, 40, 40, 40, 40, 40, 40, 40, 40, 40, 40, 40, 40, 40, 40, 40, 40, 40, 40, 40, 32, 16, 8, 4, 2, 1]\n",
      "MPS with length 30 and physical d=2\n",
      "chi [1, 6, 12, 24, 48, 90, 120, 120, 120, 120, 120, 120, 120, 120, 120, 120, 120, 120, 120, 120, 120, 120, 120, 120, 120, 96, 48, 24, 12, 6, 1]\n"
     ]
    },
    {
     "name": "stderr",
     "output_type": "stream",
     "text": [
      "WARNING:root:Truncating @ 40, latest SV = 0.0012977948467921571\n",
      "WARNING:root:Truncating @ 40, latest SV = 0.0020967663115040377\n",
      "WARNING:root:Truncating @ 40, latest SV = 0.0027864607654843627\n",
      "WARNING:root:Truncating @ 40, latest SV = 0.0031435976437963983\n",
      "WARNING:root:Truncating @ 40, latest SV = 0.003375244592060346\n",
      "WARNING:root:Truncating @ 40, latest SV = 0.0032364859486171205\n",
      "WARNING:root:Truncating @ 40, latest SV = 0.0035334733636650387\n",
      "WARNING:root:Truncating @ 40, latest SV = 0.003335189872280313\n",
      "WARNING:root:Truncating @ 40, latest SV = 0.0033354245444142247\n",
      "WARNING:root:Truncating @ 40, latest SV = 0.0032526727118955224\n",
      "WARNING:root:Truncating @ 40, latest SV = 0.0029117434626877744\n",
      "WARNING:root:Truncating @ 40, latest SV = 0.0026289077828491234\n",
      "WARNING:root:Truncating @ 40, latest SV = 0.0017825388311434114\n",
      "WARNING:root:Truncating @ 40, latest SV = 0.0008822230612611971\n",
      "WARNING:root:Truncating @ 40, latest SV = 0.0004268205410328562\n",
      "WARNING:root:Truncating @ 40, latest SV = 0.00014357019772893778\n",
      "WARNING:root:Truncating @ 40, latest SV = 5.258533256171782e-05\n",
      "WARNING:root:Truncating @ 40, latest SV = 6.2510436294497556e-06\n",
      "WARNING:root:Truncating @ 40, latest SV = 2.712467944245881e-08\n"
     ]
    },
    {
     "name": "stdout",
     "output_type": "stream",
     "text": [
      "69 [1, 2, 4, 8, 16, 29, 40, 40, 40, 40, 40, 40, 40, 40, 40, 40, 40, 40, 40, 40, 40, 40, 40, 40, 40, 32, 16, 8, 4, 2, 1]\n",
      "MPS with length 30 and physical d=2\n",
      "chi [1, 6, 12, 24, 48, 87, 120, 120, 120, 120, 120, 120, 120, 120, 120, 120, 120, 120, 120, 120, 120, 120, 120, 120, 120, 96, 48, 24, 12, 6, 1]\n"
     ]
    },
    {
     "name": "stderr",
     "output_type": "stream",
     "text": [
      "WARNING:root:Truncating @ 40, latest SV = 0.0008099023388904853\n",
      "WARNING:root:Truncating @ 40, latest SV = 0.0014161877803752928\n",
      "WARNING:root:Truncating @ 40, latest SV = 0.001946395540787544\n",
      "WARNING:root:Truncating @ 40, latest SV = 0.002221104430593025\n",
      "WARNING:root:Truncating @ 40, latest SV = 0.002266870688200255\n",
      "WARNING:root:Truncating @ 40, latest SV = 0.0022243426341319646\n",
      "WARNING:root:Truncating @ 40, latest SV = 0.0021898078506459836\n",
      "WARNING:root:Truncating @ 40, latest SV = 0.002119213847734292\n",
      "WARNING:root:Truncating @ 40, latest SV = 0.0018889424947023691\n",
      "WARNING:root:Truncating @ 40, latest SV = 0.0017233829192915906\n",
      "WARNING:root:Truncating @ 40, latest SV = 0.0014450499828449791\n",
      "WARNING:root:Truncating @ 40, latest SV = 0.0011627300080955156\n",
      "WARNING:root:Truncating @ 40, latest SV = 0.0007061563017075488\n",
      "WARNING:root:Truncating @ 40, latest SV = 0.0004281958504157439\n",
      "WARNING:root:Truncating @ 40, latest SV = 0.0003208699467957301\n",
      "WARNING:root:Truncating @ 40, latest SV = 0.00017373996672483507\n",
      "WARNING:root:Truncating @ 40, latest SV = 5.232688960874107e-05\n",
      "WARNING:root:Truncating @ 40, latest SV = 1.8369209055888146e-06\n",
      "WARNING:root:Truncating @ 40, latest SV = 3.179479515838284e-08\n"
     ]
    },
    {
     "name": "stdout",
     "output_type": "stream",
     "text": [
      "70 [1, 2, 4, 8, 16, 31, 40, 40, 40, 40, 40, 40, 40, 40, 40, 40, 40, 40, 40, 40, 40, 40, 40, 40, 40, 32, 16, 8, 4, 2, 1]\n",
      "MPS with length 30 and physical d=2\n",
      "chi [1, 6, 12, 24, 48, 93, 120, 120, 120, 120, 120, 120, 120, 120, 120, 120, 120, 120, 120, 120, 120, 120, 120, 120, 120, 96, 48, 24, 12, 6, 1]\n"
     ]
    },
    {
     "name": "stderr",
     "output_type": "stream",
     "text": [
      "WARNING:root:Truncating @ 40, latest SV = 0.0008859172002647124\n",
      "WARNING:root:Truncating @ 40, latest SV = 0.0015168189090727796\n",
      "WARNING:root:Truncating @ 40, latest SV = 0.0020278779450369103\n",
      "WARNING:root:Truncating @ 40, latest SV = 0.002257115113054683\n",
      "WARNING:root:Truncating @ 40, latest SV = 0.002328262298610359\n",
      "WARNING:root:Truncating @ 40, latest SV = 0.002249474827954367\n",
      "WARNING:root:Truncating @ 40, latest SV = 0.0019234553650708155\n",
      "WARNING:root:Truncating @ 40, latest SV = 0.0017982831368342825\n",
      "WARNING:root:Truncating @ 40, latest SV = 0.0015964671711808898\n",
      "WARNING:root:Truncating @ 40, latest SV = 0.0015309964720758354\n",
      "WARNING:root:Truncating @ 40, latest SV = 0.0012881793416195317\n",
      "WARNING:root:Truncating @ 40, latest SV = 0.0010248428051529163\n",
      "WARNING:root:Truncating @ 40, latest SV = 0.0008593769153748189\n",
      "WARNING:root:Truncating @ 40, latest SV = 0.0006602766763789394\n",
      "WARNING:root:Truncating @ 40, latest SV = 0.0002748445673063303\n",
      "WARNING:root:Truncating @ 40, latest SV = 7.950970286209744e-05\n",
      "WARNING:root:Truncating @ 40, latest SV = 2.229828675159345e-05\n",
      "WARNING:root:Truncating @ 40, latest SV = 1.157141337271871e-06\n",
      "WARNING:root:Truncating @ 40, latest SV = 4.3069437607267576e-08\n"
     ]
    },
    {
     "name": "stdout",
     "output_type": "stream",
     "text": [
      "71 [1, 2, 4, 8, 16, 31, 40, 40, 40, 40, 40, 40, 40, 40, 40, 40, 40, 40, 40, 40, 40, 40, 40, 40, 40, 32, 16, 8, 4, 2, 1]\n",
      "MPS with length 30 and physical d=2\n",
      "chi [1, 6, 12, 24, 48, 93, 120, 120, 120, 120, 120, 120, 120, 120, 120, 120, 120, 120, 120, 120, 120, 120, 120, 120, 120, 96, 48, 24, 12, 6, 1]\n"
     ]
    },
    {
     "name": "stderr",
     "output_type": "stream",
     "text": [
      "WARNING:root:Truncating @ 40, latest SV = 0.0007747511959902423\n",
      "WARNING:root:Truncating @ 40, latest SV = 0.0015123633188069278\n",
      "WARNING:root:Truncating @ 40, latest SV = 0.0019352663703753865\n",
      "WARNING:root:Truncating @ 40, latest SV = 0.002450836850592944\n",
      "WARNING:root:Truncating @ 40, latest SV = 0.0024943830491530802\n",
      "WARNING:root:Truncating @ 40, latest SV = 0.002397594756394556\n",
      "WARNING:root:Truncating @ 40, latest SV = 0.0023970505576023527\n",
      "WARNING:root:Truncating @ 40, latest SV = 0.0021443961883686677\n",
      "WARNING:root:Truncating @ 40, latest SV = 0.002070850893768328\n",
      "WARNING:root:Truncating @ 40, latest SV = 0.0019761425649654695\n",
      "WARNING:root:Truncating @ 40, latest SV = 0.001561680529880113\n",
      "WARNING:root:Truncating @ 40, latest SV = 0.0013561360156287244\n",
      "WARNING:root:Truncating @ 40, latest SV = 0.0010014907452230392\n",
      "WARNING:root:Truncating @ 40, latest SV = 0.0005856308370772656\n",
      "WARNING:root:Truncating @ 40, latest SV = 0.00015790707018309262\n",
      "WARNING:root:Truncating @ 40, latest SV = 3.589242914170731e-05\n",
      "WARNING:root:Truncating @ 40, latest SV = 1.1187206885924072e-05\n",
      "WARNING:root:Truncating @ 40, latest SV = 1.8718301273160912e-06\n",
      "WARNING:root:Truncating @ 40, latest SV = 2.623682440733432e-08\n"
     ]
    },
    {
     "name": "stdout",
     "output_type": "stream",
     "text": [
      "72 [1, 2, 4, 8, 16, 30, 40, 40, 40, 40, 40, 40, 40, 40, 40, 40, 40, 40, 40, 40, 40, 40, 40, 40, 40, 32, 16, 8, 4, 2, 1]\n",
      "MPS with length 30 and physical d=2\n",
      "chi [1, 6, 12, 24, 48, 90, 120, 120, 120, 120, 120, 120, 120, 120, 120, 120, 120, 120, 120, 120, 120, 120, 120, 120, 120, 96, 48, 24, 12, 6, 1]\n"
     ]
    },
    {
     "name": "stderr",
     "output_type": "stream",
     "text": [
      "WARNING:root:Truncating @ 40, latest SV = 0.0010211386073998758\n",
      "WARNING:root:Truncating @ 40, latest SV = 0.0017952907047542332\n",
      "WARNING:root:Truncating @ 40, latest SV = 0.002793861475141517\n",
      "WARNING:root:Truncating @ 40, latest SV = 0.003433385008014329\n",
      "WARNING:root:Truncating @ 40, latest SV = 0.0038571509478714312\n",
      "WARNING:root:Truncating @ 40, latest SV = 0.003478268673289279\n",
      "WARNING:root:Truncating @ 40, latest SV = 0.0031654945768073285\n",
      "WARNING:root:Truncating @ 40, latest SV = 0.0029732808370910653\n",
      "WARNING:root:Truncating @ 40, latest SV = 0.002771844868611035\n",
      "WARNING:root:Truncating @ 40, latest SV = 0.0024700249468161107\n",
      "WARNING:root:Truncating @ 40, latest SV = 0.002244030970331094\n",
      "WARNING:root:Truncating @ 40, latest SV = 0.0019882187038187046\n",
      "WARNING:root:Truncating @ 40, latest SV = 0.0014956084989806678\n",
      "WARNING:root:Truncating @ 40, latest SV = 0.0009056093241874416\n",
      "WARNING:root:Truncating @ 40, latest SV = 0.00034139700402461046\n",
      "WARNING:root:Truncating @ 40, latest SV = 0.00015320800571597422\n",
      "WARNING:root:Truncating @ 40, latest SV = 4.141768023547375e-05\n",
      "WARNING:root:Truncating @ 40, latest SV = 1.7595746991953358e-06\n",
      "WARNING:root:Truncating @ 40, latest SV = 1.4625107371920642e-08\n"
     ]
    },
    {
     "name": "stdout",
     "output_type": "stream",
     "text": [
      "73 [1, 2, 4, 8, 16, 30, 40, 40, 40, 40, 40, 40, 40, 40, 40, 40, 40, 40, 40, 40, 40, 40, 40, 40, 40, 32, 16, 8, 4, 2, 1]\n",
      "MPS with length 30 and physical d=2\n",
      "chi [1, 6, 12, 24, 48, 90, 120, 120, 120, 120, 120, 120, 120, 120, 120, 120, 120, 120, 120, 120, 120, 120, 120, 120, 120, 96, 48, 24, 12, 6, 1]\n"
     ]
    },
    {
     "name": "stderr",
     "output_type": "stream",
     "text": [
      "WARNING:root:Truncating @ 40, latest SV = 0.0009911145512567796\n",
      "WARNING:root:Truncating @ 40, latest SV = 0.0016390942348159378\n",
      "WARNING:root:Truncating @ 40, latest SV = 0.0022511177340607856\n",
      "WARNING:root:Truncating @ 40, latest SV = 0.002616435592607083\n",
      "WARNING:root:Truncating @ 40, latest SV = 0.002705426932150381\n",
      "WARNING:root:Truncating @ 40, latest SV = 0.0028850477160905596\n",
      "WARNING:root:Truncating @ 40, latest SV = 0.002499950950310495\n",
      "WARNING:root:Truncating @ 40, latest SV = 0.0023365706279432612\n",
      "WARNING:root:Truncating @ 40, latest SV = 0.0021665598435083033\n",
      "WARNING:root:Truncating @ 40, latest SV = 0.001947681491832676\n",
      "WARNING:root:Truncating @ 40, latest SV = 0.0016555161472067914\n",
      "WARNING:root:Truncating @ 40, latest SV = 0.0011850247503427253\n",
      "WARNING:root:Truncating @ 40, latest SV = 0.0007962687589738326\n",
      "WARNING:root:Truncating @ 40, latest SV = 0.0003454575072067416\n",
      "WARNING:root:Truncating @ 40, latest SV = 0.00012929270435633032\n",
      "WARNING:root:Truncating @ 40, latest SV = 6.516967429364532e-05\n",
      "WARNING:root:Truncating @ 40, latest SV = 1.0856352768590775e-05\n",
      "WARNING:root:Truncating @ 40, latest SV = 6.39376091967814e-07\n",
      "WARNING:root:Truncating @ 40, latest SV = 4.105653578111923e-09\n"
     ]
    },
    {
     "name": "stdout",
     "output_type": "stream",
     "text": [
      "74 [1, 2, 4, 8, 15, 28, 40, 40, 40, 40, 40, 40, 40, 40, 40, 40, 40, 40, 40, 40, 40, 40, 40, 40, 40, 32, 16, 8, 4, 2, 1]\n",
      "MPS with length 30 and physical d=2\n",
      "chi [1, 6, 12, 24, 45, 84, 120, 120, 120, 120, 120, 120, 120, 120, 120, 120, 120, 120, 120, 120, 120, 120, 120, 120, 120, 96, 48, 24, 12, 6, 1]\n"
     ]
    },
    {
     "name": "stderr",
     "output_type": "stream",
     "text": [
      "WARNING:root:Truncating @ 40, latest SV = 0.0015509254855990242\n",
      "WARNING:root:Truncating @ 40, latest SV = 0.0020511838174072853\n",
      "WARNING:root:Truncating @ 40, latest SV = 0.002461628198397397\n",
      "WARNING:root:Truncating @ 40, latest SV = 0.002930153843709795\n",
      "WARNING:root:Truncating @ 40, latest SV = 0.0030238664706060308\n",
      "WARNING:root:Truncating @ 40, latest SV = 0.002977243018089248\n",
      "WARNING:root:Truncating @ 40, latest SV = 0.0029112266331072804\n",
      "WARNING:root:Truncating @ 40, latest SV = 0.0024216103142903635\n",
      "WARNING:root:Truncating @ 40, latest SV = 0.002367643869238809\n",
      "WARNING:root:Truncating @ 40, latest SV = 0.002128218621100069\n",
      "WARNING:root:Truncating @ 40, latest SV = 0.0017123748454630136\n",
      "WARNING:root:Truncating @ 40, latest SV = 0.0014780117070540937\n",
      "WARNING:root:Truncating @ 40, latest SV = 0.00114956305446137\n",
      "WARNING:root:Truncating @ 40, latest SV = 0.0007364816629715628\n",
      "WARNING:root:Truncating @ 40, latest SV = 0.0002164663378759072\n",
      "WARNING:root:Truncating @ 40, latest SV = 6.0769949824202126e-05\n",
      "WARNING:root:Truncating @ 40, latest SV = 2.4250639684403504e-05\n",
      "WARNING:root:Truncating @ 40, latest SV = 1.3835492853492742e-06\n",
      "WARNING:root:Truncating @ 40, latest SV = 5.798885497514841e-09\n"
     ]
    },
    {
     "name": "stdout",
     "output_type": "stream",
     "text": [
      "75 [1, 2, 4, 8, 15, 27, 40, 40, 40, 40, 40, 40, 40, 40, 40, 40, 40, 40, 40, 40, 40, 40, 40, 40, 40, 32, 16, 8, 4, 2, 1]\n",
      "MPS with length 30 and physical d=2\n",
      "chi [1, 6, 12, 24, 45, 81, 120, 120, 120, 120, 120, 120, 120, 120, 120, 120, 120, 120, 120, 120, 120, 120, 120, 120, 120, 96, 48, 24, 12, 6, 1]\n"
     ]
    },
    {
     "name": "stderr",
     "output_type": "stream",
     "text": [
      "WARNING:root:Truncating @ 40, latest SV = 0.0012903197824921462\n",
      "WARNING:root:Truncating @ 40, latest SV = 0.002168699187779756\n",
      "WARNING:root:Truncating @ 40, latest SV = 0.0025022219495757295\n",
      "WARNING:root:Truncating @ 40, latest SV = 0.0029438930405617575\n",
      "WARNING:root:Truncating @ 40, latest SV = 0.0030907981697003376\n",
      "WARNING:root:Truncating @ 40, latest SV = 0.00319821280942634\n",
      "WARNING:root:Truncating @ 40, latest SV = 0.0028624987380086553\n",
      "WARNING:root:Truncating @ 40, latest SV = 0.002780061473256764\n",
      "WARNING:root:Truncating @ 40, latest SV = 0.002406412685485186\n",
      "WARNING:root:Truncating @ 40, latest SV = 0.002129394954209058\n",
      "WARNING:root:Truncating @ 40, latest SV = 0.001773518850002717\n",
      "WARNING:root:Truncating @ 40, latest SV = 0.0012176230269126977\n",
      "WARNING:root:Truncating @ 40, latest SV = 0.0008443832559974942\n",
      "WARNING:root:Truncating @ 40, latest SV = 0.0005025493676195543\n",
      "WARNING:root:Truncating @ 40, latest SV = 0.00013843558275891695\n",
      "WARNING:root:Truncating @ 40, latest SV = 4.326409571107319e-05\n",
      "WARNING:root:Truncating @ 40, latest SV = 1.4902344255975002e-05\n",
      "WARNING:root:Truncating @ 40, latest SV = 4.828432307683724e-07\n",
      "WARNING:root:Truncating @ 40, latest SV = 4.507868769167538e-09\n"
     ]
    },
    {
     "name": "stdout",
     "output_type": "stream",
     "text": [
      "76 [1, 2, 4, 8, 14, 26, 40, 40, 40, 40, 40, 40, 40, 40, 40, 40, 40, 40, 40, 40, 40, 40, 40, 40, 40, 32, 16, 8, 4, 2, 1]\n",
      "MPS with length 30 and physical d=2\n",
      "chi [1, 6, 12, 24, 42, 78, 120, 120, 120, 120, 120, 120, 120, 120, 120, 120, 120, 120, 120, 120, 120, 120, 120, 120, 120, 96, 48, 24, 12, 6, 1]\n"
     ]
    },
    {
     "name": "stderr",
     "output_type": "stream",
     "text": [
      "WARNING:root:Truncating @ 40, latest SV = 0.0018745234238919622\n",
      "WARNING:root:Truncating @ 40, latest SV = 0.00274427750137232\n",
      "WARNING:root:Truncating @ 40, latest SV = 0.003531760770006996\n",
      "WARNING:root:Truncating @ 40, latest SV = 0.003867963070751299\n",
      "WARNING:root:Truncating @ 40, latest SV = 0.0041393181174776425\n",
      "WARNING:root:Truncating @ 40, latest SV = 0.004072985670804343\n",
      "WARNING:root:Truncating @ 40, latest SV = 0.003899762548118431\n",
      "WARNING:root:Truncating @ 40, latest SV = 0.0036136457669917427\n",
      "WARNING:root:Truncating @ 40, latest SV = 0.0033262831589128184\n",
      "WARNING:root:Truncating @ 40, latest SV = 0.0028407808530333772\n",
      "WARNING:root:Truncating @ 40, latest SV = 0.002327095150304176\n",
      "WARNING:root:Truncating @ 40, latest SV = 0.0018748650645174186\n",
      "WARNING:root:Truncating @ 40, latest SV = 0.0014822608637577843\n",
      "WARNING:root:Truncating @ 40, latest SV = 0.0009478173814135125\n",
      "WARNING:root:Truncating @ 40, latest SV = 0.0002667207185260758\n",
      "WARNING:root:Truncating @ 40, latest SV = 8.789360809546639e-05\n",
      "WARNING:root:Truncating @ 40, latest SV = 1.955757908240272e-05\n",
      "WARNING:root:Truncating @ 40, latest SV = 1.353475985214277e-06\n",
      "WARNING:root:Truncating @ 40, latest SV = 2.4321781179438905e-09\n"
     ]
    },
    {
     "name": "stdout",
     "output_type": "stream",
     "text": [
      "77 [1, 2, 4, 8, 14, 25, 40, 40, 40, 40, 40, 40, 40, 40, 40, 40, 40, 40, 40, 40, 40, 40, 40, 40, 40, 32, 16, 8, 4, 2, 1]\n",
      "MPS with length 30 and physical d=2\n",
      "chi [1, 6, 12, 24, 42, 75, 120, 120, 120, 120, 120, 120, 120, 120, 120, 120, 120, 120, 120, 120, 120, 120, 120, 120, 120, 96, 48, 24, 12, 6, 1]\n"
     ]
    },
    {
     "name": "stderr",
     "output_type": "stream",
     "text": [
      "WARNING:root:Truncating @ 40, latest SV = 0.001336476423341433\n",
      "WARNING:root:Truncating @ 40, latest SV = 0.0022865437145459635\n",
      "WARNING:root:Truncating @ 40, latest SV = 0.0029391208071789013\n",
      "WARNING:root:Truncating @ 40, latest SV = 0.0031116142272143966\n",
      "WARNING:root:Truncating @ 40, latest SV = 0.0033413590643773254\n",
      "WARNING:root:Truncating @ 40, latest SV = 0.003184680117955575\n",
      "WARNING:root:Truncating @ 40, latest SV = 0.0032062619093378287\n",
      "WARNING:root:Truncating @ 40, latest SV = 0.0028471401590275227\n",
      "WARNING:root:Truncating @ 40, latest SV = 0.0024181173515772595\n",
      "WARNING:root:Truncating @ 40, latest SV = 0.0021474476773238665\n",
      "WARNING:root:Truncating @ 40, latest SV = 0.0020076436668832126\n",
      "WARNING:root:Truncating @ 40, latest SV = 0.0015063597921940422\n",
      "WARNING:root:Truncating @ 40, latest SV = 0.0008273876713490397\n",
      "WARNING:root:Truncating @ 40, latest SV = 0.0003750751112014845\n",
      "WARNING:root:Truncating @ 40, latest SV = 9.064332665871362e-05\n",
      "WARNING:root:Truncating @ 40, latest SV = 4.491621416937569e-05\n",
      "WARNING:root:Truncating @ 40, latest SV = 2.0457805424346223e-05\n",
      "WARNING:root:Truncating @ 40, latest SV = 1.4875171867927658e-07\n",
      "WARNING:root:Truncating @ 40, latest SV = 1.070074988962728e-09\n"
     ]
    },
    {
     "name": "stdout",
     "output_type": "stream",
     "text": [
      "78 [1, 2, 4, 8, 14, 26, 40, 40, 40, 40, 40, 40, 40, 40, 40, 40, 40, 40, 40, 40, 40, 40, 40, 40, 40, 32, 16, 8, 4, 2, 1]\n",
      "MPS with length 30 and physical d=2\n",
      "chi [1, 6, 12, 24, 42, 78, 120, 120, 120, 120, 120, 120, 120, 120, 120, 120, 120, 120, 120, 120, 120, 120, 120, 120, 120, 96, 48, 24, 12, 6, 1]\n"
     ]
    },
    {
     "name": "stderr",
     "output_type": "stream",
     "text": [
      "WARNING:root:Truncating @ 40, latest SV = 0.0016979368604177903\n",
      "WARNING:root:Truncating @ 40, latest SV = 0.003162302269485247\n",
      "WARNING:root:Truncating @ 40, latest SV = 0.00412329526116676\n",
      "WARNING:root:Truncating @ 40, latest SV = 0.004378951009628745\n",
      "WARNING:root:Truncating @ 40, latest SV = 0.0044651108818056\n",
      "WARNING:root:Truncating @ 40, latest SV = 0.004732965068598418\n",
      "WARNING:root:Truncating @ 40, latest SV = 0.004629102887488168\n",
      "WARNING:root:Truncating @ 40, latest SV = 0.004098831077487993\n",
      "WARNING:root:Truncating @ 40, latest SV = 0.003367075125409457\n",
      "WARNING:root:Truncating @ 40, latest SV = 0.0031316713724385955\n",
      "WARNING:root:Truncating @ 40, latest SV = 0.002794847600770929\n",
      "WARNING:root:Truncating @ 40, latest SV = 0.002385439094285356\n",
      "WARNING:root:Truncating @ 40, latest SV = 0.002047408504867198\n",
      "WARNING:root:Truncating @ 40, latest SV = 0.0013848935113962297\n",
      "WARNING:root:Truncating @ 40, latest SV = 0.0007494645490866138\n",
      "WARNING:root:Truncating @ 40, latest SV = 0.0002611999890081252\n",
      "WARNING:root:Truncating @ 40, latest SV = 2.1455561235760462e-05\n",
      "WARNING:root:Truncating @ 40, latest SV = 6.616055247963781e-07\n",
      "WARNING:root:Truncating @ 40, latest SV = 2.200361941590257e-10\n"
     ]
    },
    {
     "name": "stdout",
     "output_type": "stream",
     "text": [
      "79 [1, 2, 4, 7, 13, 23, 40, 40, 40, 40, 40, 40, 40, 40, 40, 40, 40, 40, 40, 40, 40, 40, 40, 40, 40, 32, 16, 8, 4, 2, 1]\n",
      "MPS with length 30 and physical d=2\n",
      "chi [1, 6, 12, 21, 39, 69, 120, 120, 120, 120, 120, 120, 120, 120, 120, 120, 120, 120, 120, 120, 120, 120, 120, 120, 120, 96, 48, 24, 12, 6, 1]\n"
     ]
    },
    {
     "name": "stderr",
     "output_type": "stream",
     "text": [
      "WARNING:root:Truncating @ 40, latest SV = 0.0013248076810931323\n",
      "WARNING:root:Truncating @ 40, latest SV = 0.0022283516656514835\n",
      "WARNING:root:Truncating @ 40, latest SV = 0.002996252007826693\n",
      "WARNING:root:Truncating @ 40, latest SV = 0.003715321498990441\n",
      "WARNING:root:Truncating @ 40, latest SV = 0.0036537647037001887\n",
      "WARNING:root:Truncating @ 40, latest SV = 0.0038170753334061613\n",
      "WARNING:root:Truncating @ 40, latest SV = 0.0036203274628562668\n",
      "WARNING:root:Truncating @ 40, latest SV = 0.0032753664333830166\n",
      "WARNING:root:Truncating @ 40, latest SV = 0.002888101233458334\n",
      "WARNING:root:Truncating @ 40, latest SV = 0.0025793487687586904\n",
      "WARNING:root:Truncating @ 40, latest SV = 0.0020992844962843074\n",
      "WARNING:root:Truncating @ 40, latest SV = 0.0017356819863106536\n",
      "WARNING:root:Truncating @ 40, latest SV = 0.0012651101645052727\n",
      "WARNING:root:Truncating @ 40, latest SV = 0.0007249692852413761\n",
      "WARNING:root:Truncating @ 40, latest SV = 0.00034245708008917667\n",
      "WARNING:root:Truncating @ 40, latest SV = 0.00010096774787502457\n",
      "WARNING:root:Truncating @ 40, latest SV = 2.082536085787993e-05\n",
      "WARNING:root:Truncating @ 40, latest SV = 4.301272992995927e-07\n",
      "WARNING:root:Truncating @ 40, latest SV = 1.1798426348490925e-09\n"
     ]
    },
    {
     "name": "stdout",
     "output_type": "stream",
     "text": [
      "80 [1, 2, 4, 7, 14, 27, 40, 40, 40, 40, 40, 40, 40, 40, 40, 40, 40, 40, 40, 40, 40, 40, 40, 40, 40, 32, 16, 8, 4, 2, 1]\n",
      "MPS with length 30 and physical d=2\n",
      "chi [1, 6, 12, 21, 42, 81, 120, 120, 120, 120, 120, 120, 120, 120, 120, 120, 120, 120, 120, 120, 120, 120, 120, 120, 120, 96, 48, 24, 12, 6, 1]\n"
     ]
    },
    {
     "name": "stderr",
     "output_type": "stream",
     "text": [
      "WARNING:root:Truncating @ 40, latest SV = 0.001443535319246394\n",
      "WARNING:root:Truncating @ 40, latest SV = 0.002144583214255252\n",
      "WARNING:root:Truncating @ 40, latest SV = 0.0027322080582799055\n",
      "WARNING:root:Truncating @ 40, latest SV = 0.0032671392037451046\n",
      "WARNING:root:Truncating @ 40, latest SV = 0.0034539824023396503\n",
      "WARNING:root:Truncating @ 40, latest SV = 0.003517342166003507\n",
      "WARNING:root:Truncating @ 40, latest SV = 0.0034924382377005264\n",
      "WARNING:root:Truncating @ 40, latest SV = 0.0034675507673652454\n",
      "WARNING:root:Truncating @ 40, latest SV = 0.0032018438562266614\n",
      "WARNING:root:Truncating @ 40, latest SV = 0.003038100554355385\n",
      "WARNING:root:Truncating @ 40, latest SV = 0.0027895036950854996\n",
      "WARNING:root:Truncating @ 40, latest SV = 0.002634338033812866\n",
      "WARNING:root:Truncating @ 40, latest SV = 0.0020126901155319223\n",
      "WARNING:root:Truncating @ 40, latest SV = 0.0014003513652902427\n",
      "WARNING:root:Truncating @ 40, latest SV = 0.0006115530699308597\n",
      "WARNING:root:Truncating @ 40, latest SV = 0.0002534789736577853\n",
      "WARNING:root:Truncating @ 40, latest SV = 6.503956412946695e-05\n",
      "WARNING:root:Truncating @ 40, latest SV = 8.161820615135481e-07\n",
      "WARNING:root:Truncating @ 40, latest SV = 1.2817674987525695e-09\n"
     ]
    },
    {
     "name": "stdout",
     "output_type": "stream",
     "text": [
      "81 [1, 2, 4, 8, 13, 25, 40, 40, 40, 40, 40, 40, 40, 40, 40, 40, 40, 40, 40, 40, 40, 40, 40, 40, 40, 32, 16, 8, 4, 2, 1]\n",
      "MPS with length 30 and physical d=2\n",
      "chi [1, 6, 12, 24, 39, 75, 120, 120, 120, 120, 120, 120, 120, 120, 120, 120, 120, 120, 120, 120, 120, 120, 120, 120, 120, 96, 48, 24, 12, 6, 1]\n"
     ]
    },
    {
     "name": "stderr",
     "output_type": "stream",
     "text": [
      "WARNING:root:Truncating @ 40, latest SV = 0.0011219797662165906\n",
      "WARNING:root:Truncating @ 40, latest SV = 0.0022518883414678246\n",
      "WARNING:root:Truncating @ 40, latest SV = 0.002954857995471009\n",
      "WARNING:root:Truncating @ 40, latest SV = 0.003596925919972446\n",
      "WARNING:root:Truncating @ 40, latest SV = 0.0037197029585114066\n",
      "WARNING:root:Truncating @ 40, latest SV = 0.0035667175477094547\n",
      "WARNING:root:Truncating @ 40, latest SV = 0.003621390531388832\n",
      "WARNING:root:Truncating @ 40, latest SV = 0.0034865140967656615\n",
      "WARNING:root:Truncating @ 40, latest SV = 0.003099904318066545\n",
      "WARNING:root:Truncating @ 40, latest SV = 0.0025906931912201485\n",
      "WARNING:root:Truncating @ 40, latest SV = 0.002361003175757336\n",
      "WARNING:root:Truncating @ 40, latest SV = 0.0020150437709871637\n",
      "WARNING:root:Truncating @ 40, latest SV = 0.0015268021328293706\n",
      "WARNING:root:Truncating @ 40, latest SV = 0.000886279140075702\n",
      "WARNING:root:Truncating @ 40, latest SV = 0.00042154640443458713\n",
      "WARNING:root:Truncating @ 40, latest SV = 0.00018505908023479158\n",
      "WARNING:root:Truncating @ 40, latest SV = 1.5917598431365236e-05\n",
      "WARNING:root:Truncating @ 40, latest SV = 2.2113625070684903e-07\n",
      "WARNING:root:Truncating @ 40, latest SV = 5.357802078095328e-10\n"
     ]
    },
    {
     "name": "stdout",
     "output_type": "stream",
     "text": [
      "82 [1, 2, 4, 7, 13, 24, 40, 40, 40, 40, 40, 40, 40, 40, 40, 40, 40, 40, 40, 40, 40, 40, 40, 40, 40, 32, 16, 8, 4, 2, 1]\n",
      "MPS with length 30 and physical d=2\n",
      "chi [1, 6, 12, 21, 39, 72, 120, 120, 120, 120, 120, 120, 120, 120, 120, 120, 120, 120, 120, 120, 120, 120, 120, 120, 120, 96, 48, 24, 12, 6, 1]\n"
     ]
    },
    {
     "name": "stderr",
     "output_type": "stream",
     "text": [
      "WARNING:root:Truncating @ 40, latest SV = 0.0012011080866588684\n",
      "WARNING:root:Truncating @ 40, latest SV = 0.001913562293048314\n",
      "WARNING:root:Truncating @ 40, latest SV = 0.002837987657232796\n",
      "WARNING:root:Truncating @ 40, latest SV = 0.003458341440571606\n",
      "WARNING:root:Truncating @ 40, latest SV = 0.004052358585055862\n",
      "WARNING:root:Truncating @ 40, latest SV = 0.004314909488898782\n",
      "WARNING:root:Truncating @ 40, latest SV = 0.004442031519965791\n",
      "WARNING:root:Truncating @ 40, latest SV = 0.004163613529370384\n",
      "WARNING:root:Truncating @ 40, latest SV = 0.0040791496694217435\n",
      "WARNING:root:Truncating @ 40, latest SV = 0.003549995488086426\n",
      "WARNING:root:Truncating @ 40, latest SV = 0.0033404340405911613\n",
      "WARNING:root:Truncating @ 40, latest SV = 0.0029907926307704558\n",
      "WARNING:root:Truncating @ 40, latest SV = 0.0025161869430491758\n",
      "WARNING:root:Truncating @ 40, latest SV = 0.0019358583201393763\n",
      "WARNING:root:Truncating @ 40, latest SV = 0.0011211065687227793\n",
      "WARNING:root:Truncating @ 40, latest SV = 0.0004546601148349769\n",
      "WARNING:root:Truncating @ 40, latest SV = 0.0001039946931966449\n",
      "WARNING:root:Truncating @ 40, latest SV = 1.6053500439510957e-06\n",
      "WARNING:root:Truncating @ 40, latest SV = 3.214281806561419e-10\n"
     ]
    },
    {
     "name": "stdout",
     "output_type": "stream",
     "text": [
      "83 [1, 2, 4, 7, 12, 23, 40, 40, 40, 40, 40, 40, 40, 40, 40, 40, 40, 40, 40, 40, 40, 40, 40, 40, 40, 32, 16, 8, 4, 2, 1]\n",
      "MPS with length 30 and physical d=2\n",
      "chi [1, 6, 12, 21, 36, 69, 120, 120, 120, 120, 120, 120, 120, 120, 120, 120, 120, 120, 120, 120, 120, 120, 120, 120, 120, 96, 48, 24, 12, 6, 1]\n"
     ]
    },
    {
     "name": "stderr",
     "output_type": "stream",
     "text": [
      "WARNING:root:Truncating @ 40, latest SV = 0.0012810830904038107\n",
      "WARNING:root:Truncating @ 40, latest SV = 0.0023126727723588466\n",
      "WARNING:root:Truncating @ 40, latest SV = 0.003039475378876671\n",
      "WARNING:root:Truncating @ 40, latest SV = 0.003342687082163223\n",
      "WARNING:root:Truncating @ 40, latest SV = 0.0034000817543224943\n",
      "WARNING:root:Truncating @ 40, latest SV = 0.0036896744561089115\n",
      "WARNING:root:Truncating @ 40, latest SV = 0.003464588819279166\n",
      "WARNING:root:Truncating @ 40, latest SV = 0.0034500241376433064\n",
      "WARNING:root:Truncating @ 40, latest SV = 0.0030676512337963788\n",
      "WARNING:root:Truncating @ 40, latest SV = 0.002667095878580175\n",
      "WARNING:root:Truncating @ 40, latest SV = 0.0024056920212476747\n",
      "WARNING:root:Truncating @ 40, latest SV = 0.0020111125960226594\n",
      "WARNING:root:Truncating @ 40, latest SV = 0.0015032606500028963\n",
      "WARNING:root:Truncating @ 40, latest SV = 0.001133734835009032\n",
      "WARNING:root:Truncating @ 40, latest SV = 0.0003803276063993569\n",
      "WARNING:root:Truncating @ 40, latest SV = 0.00012648069640583068\n",
      "WARNING:root:Truncating @ 40, latest SV = 1.4365052374580834e-05\n",
      "WARNING:root:Truncating @ 40, latest SV = 5.251116313591155e-07\n",
      "WARNING:root:Truncating @ 40, latest SV = 2.8537863620984746e-10\n"
     ]
    },
    {
     "name": "stdout",
     "output_type": "stream",
     "text": [
      "84 [1, 2, 4, 7, 12, 23, 40, 40, 40, 40, 40, 40, 40, 40, 40, 40, 40, 40, 40, 40, 40, 40, 40, 40, 40, 32, 16, 8, 4, 2, 1]\n",
      "MPS with length 30 and physical d=2\n",
      "chi [1, 6, 12, 21, 36, 69, 120, 120, 120, 120, 120, 120, 120, 120, 120, 120, 120, 120, 120, 120, 120, 120, 120, 120, 120, 96, 48, 24, 12, 6, 1]\n"
     ]
    },
    {
     "name": "stderr",
     "output_type": "stream",
     "text": [
      "WARNING:root:Truncating @ 40, latest SV = 0.001260361613539767\n",
      "WARNING:root:Truncating @ 40, latest SV = 0.001793123278727649\n",
      "WARNING:root:Truncating @ 40, latest SV = 0.0021157217351233325\n",
      "WARNING:root:Truncating @ 40, latest SV = 0.002469871485012867\n",
      "WARNING:root:Truncating @ 40, latest SV = 0.002651487887378571\n",
      "WARNING:root:Truncating @ 40, latest SV = 0.0026819091113830383\n",
      "WARNING:root:Truncating @ 40, latest SV = 0.0025625176999987957\n",
      "WARNING:root:Truncating @ 40, latest SV = 0.0025950602376154466\n",
      "WARNING:root:Truncating @ 40, latest SV = 0.002357398432264559\n",
      "WARNING:root:Truncating @ 40, latest SV = 0.0021327201118766237\n",
      "WARNING:root:Truncating @ 40, latest SV = 0.002047191465274832\n",
      "WARNING:root:Truncating @ 40, latest SV = 0.0018495027793428336\n",
      "WARNING:root:Truncating @ 40, latest SV = 0.00158267275236517\n",
      "WARNING:root:Truncating @ 40, latest SV = 0.0011641045816910018\n",
      "WARNING:root:Truncating @ 40, latest SV = 0.0005014897243784501\n",
      "WARNING:root:Truncating @ 40, latest SV = 0.00018731855833806733\n",
      "WARNING:root:Truncating @ 40, latest SV = 5.259739933250372e-05\n",
      "WARNING:root:Truncating @ 40, latest SV = 6.694756417002939e-06\n",
      "WARNING:root:Truncating @ 40, latest SV = 1.4089724866530495e-10\n"
     ]
    },
    {
     "name": "stdout",
     "output_type": "stream",
     "text": [
      "85 [1, 2, 4, 8, 14, 24, 40, 40, 40, 40, 40, 40, 40, 40, 40, 40, 40, 40, 40, 40, 40, 40, 40, 40, 40, 32, 16, 8, 4, 2, 1]\n",
      "MPS with length 30 and physical d=2\n",
      "chi [1, 6, 12, 24, 42, 72, 120, 120, 120, 120, 120, 120, 120, 120, 120, 120, 120, 120, 120, 120, 120, 120, 120, 120, 120, 96, 48, 24, 12, 6, 1]\n"
     ]
    },
    {
     "name": "stderr",
     "output_type": "stream",
     "text": [
      "WARNING:root:Truncating @ 40, latest SV = 0.0008512273621441851\n",
      "WARNING:root:Truncating @ 40, latest SV = 0.0016506891651338125\n",
      "WARNING:root:Truncating @ 40, latest SV = 0.0022444696346671828\n",
      "WARNING:root:Truncating @ 40, latest SV = 0.002591678908091805\n",
      "WARNING:root:Truncating @ 40, latest SV = 0.0028961892869208217\n",
      "WARNING:root:Truncating @ 40, latest SV = 0.0027937401745964587\n",
      "WARNING:root:Truncating @ 40, latest SV = 0.002688905528611563\n",
      "WARNING:root:Truncating @ 40, latest SV = 0.0025276896316229363\n",
      "WARNING:root:Truncating @ 40, latest SV = 0.0024424381215493807\n",
      "WARNING:root:Truncating @ 40, latest SV = 0.002188070690782798\n",
      "WARNING:root:Truncating @ 40, latest SV = 0.001978424779241754\n",
      "WARNING:root:Truncating @ 40, latest SV = 0.0015713872359695731\n",
      "WARNING:root:Truncating @ 40, latest SV = 0.0011087436166410994\n",
      "WARNING:root:Truncating @ 40, latest SV = 0.000748821209807757\n",
      "WARNING:root:Truncating @ 40, latest SV = 0.00045384370381309943\n",
      "WARNING:root:Truncating @ 40, latest SV = 7.947416874749958e-05\n",
      "WARNING:root:Truncating @ 40, latest SV = 1.2969051630648122e-05\n",
      "WARNING:root:Truncating @ 40, latest SV = 4.693102622069591e-07\n",
      "WARNING:root:Truncating @ 40, latest SV = 1.0736087468255925e-10\n"
     ]
    },
    {
     "name": "stdout",
     "output_type": "stream",
     "text": [
      "86 [1, 2, 4, 7, 13, 24, 40, 40, 40, 40, 40, 40, 40, 40, 40, 40, 40, 40, 40, 40, 40, 40, 40, 40, 40, 32, 16, 8, 4, 2, 1]\n",
      "MPS with length 30 and physical d=2\n",
      "chi [1, 6, 12, 21, 39, 72, 120, 120, 120, 120, 120, 120, 120, 120, 120, 120, 120, 120, 120, 120, 120, 120, 120, 120, 120, 96, 48, 24, 12, 6, 1]\n"
     ]
    },
    {
     "name": "stderr",
     "output_type": "stream",
     "text": [
      "WARNING:root:Truncating @ 40, latest SV = 0.0008124077007324305\n",
      "WARNING:root:Truncating @ 40, latest SV = 0.0014013879153540359\n",
      "WARNING:root:Truncating @ 40, latest SV = 0.0018901759353377584\n",
      "WARNING:root:Truncating @ 40, latest SV = 0.0021629802788756315\n",
      "WARNING:root:Truncating @ 40, latest SV = 0.002297959354200489\n",
      "WARNING:root:Truncating @ 40, latest SV = 0.002462982005173275\n",
      "WARNING:root:Truncating @ 40, latest SV = 0.002465543020530715\n",
      "WARNING:root:Truncating @ 40, latest SV = 0.0025193988751633705\n",
      "WARNING:root:Truncating @ 40, latest SV = 0.002326138263853677\n",
      "WARNING:root:Truncating @ 40, latest SV = 0.002185388987659561\n",
      "WARNING:root:Truncating @ 40, latest SV = 0.0019638151402210386\n",
      "WARNING:root:Truncating @ 40, latest SV = 0.001696515894391915\n",
      "WARNING:root:Truncating @ 40, latest SV = 0.0013324132113516122\n",
      "WARNING:root:Truncating @ 40, latest SV = 0.000867327003096299\n",
      "WARNING:root:Truncating @ 40, latest SV = 0.0003478079003768056\n",
      "WARNING:root:Truncating @ 40, latest SV = 0.00015715641141929984\n",
      "WARNING:root:Truncating @ 40, latest SV = 6.574236308654474e-05\n",
      "WARNING:root:Truncating @ 40, latest SV = 3.2920322856168e-06\n"
     ]
    },
    {
     "name": "stdout",
     "output_type": "stream",
     "text": [
      "87 [1, 2, 4, 6, 11, 20, 37, 40, 40, 40, 40, 40, 40, 40, 40, 40, 40, 40, 40, 40, 40, 40, 40, 40, 40, 32, 16, 8, 4, 2, 1]\n",
      "MPS with length 30 and physical d=2\n",
      "chi [1, 6, 12, 18, 33, 60, 111, 120, 120, 120, 120, 120, 120, 120, 120, 120, 120, 120, 120, 120, 120, 120, 120, 120, 120, 96, 48, 24, 12, 6, 1]\n"
     ]
    },
    {
     "name": "stderr",
     "output_type": "stream",
     "text": [
      "WARNING:root:Truncating @ 40, latest SV = 0.0012301109857620562\n",
      "WARNING:root:Truncating @ 40, latest SV = 0.001876676012544193\n",
      "WARNING:root:Truncating @ 40, latest SV = 0.002500472067789542\n",
      "WARNING:root:Truncating @ 40, latest SV = 0.0029181860081538367\n",
      "WARNING:root:Truncating @ 40, latest SV = 0.003024409238364931\n",
      "WARNING:root:Truncating @ 40, latest SV = 0.0032258575226652227\n",
      "WARNING:root:Truncating @ 40, latest SV = 0.003094468303178659\n",
      "WARNING:root:Truncating @ 40, latest SV = 0.003140588145507412\n",
      "WARNING:root:Truncating @ 40, latest SV = 0.002908861700630248\n",
      "WARNING:root:Truncating @ 40, latest SV = 0.0027093130482425147\n",
      "WARNING:root:Truncating @ 40, latest SV = 0.0025392609623245\n",
      "WARNING:root:Truncating @ 40, latest SV = 0.0019491984842013436\n",
      "WARNING:root:Truncating @ 40, latest SV = 0.0015684610392466118\n",
      "WARNING:root:Truncating @ 40, latest SV = 0.001077481715170486\n",
      "WARNING:root:Truncating @ 40, latest SV = 0.000632397533226923\n",
      "WARNING:root:Truncating @ 40, latest SV = 0.00022744681022873978\n",
      "WARNING:root:Truncating @ 40, latest SV = 5.030046038479968e-05\n",
      "WARNING:root:Truncating @ 40, latest SV = 5.429281562715554e-07\n"
     ]
    },
    {
     "name": "stdout",
     "output_type": "stream",
     "text": [
      "88 [1, 2, 4, 6, 11, 22, 39, 40, 40, 40, 40, 40, 40, 40, 40, 40, 40, 40, 40, 40, 40, 40, 40, 40, 40, 32, 16, 8, 4, 2, 1]\n",
      "MPS with length 30 and physical d=2\n",
      "chi [1, 6, 12, 18, 33, 66, 117, 120, 120, 120, 120, 120, 120, 120, 120, 120, 120, 120, 120, 120, 120, 120, 120, 120, 120, 96, 48, 24, 12, 6, 1]\n"
     ]
    },
    {
     "name": "stderr",
     "output_type": "stream",
     "text": [
      "WARNING:root:Truncating @ 40, latest SV = 0.0011220310245194844\n",
      "WARNING:root:Truncating @ 40, latest SV = 0.001824708292127393\n",
      "WARNING:root:Truncating @ 40, latest SV = 0.0027174366927711965\n",
      "WARNING:root:Truncating @ 40, latest SV = 0.0031498241730877146\n",
      "WARNING:root:Truncating @ 40, latest SV = 0.0033773387124120735\n",
      "WARNING:root:Truncating @ 40, latest SV = 0.003323424237770575\n",
      "WARNING:root:Truncating @ 40, latest SV = 0.003444336016734592\n",
      "WARNING:root:Truncating @ 40, latest SV = 0.0035041299729982466\n",
      "WARNING:root:Truncating @ 40, latest SV = 0.0030834081012602417\n",
      "WARNING:root:Truncating @ 40, latest SV = 0.0029270254013051434\n",
      "WARNING:root:Truncating @ 40, latest SV = 0.002732140757499201\n",
      "WARNING:root:Truncating @ 40, latest SV = 0.002474566152533758\n",
      "WARNING:root:Truncating @ 40, latest SV = 0.0020860533026306398\n",
      "WARNING:root:Truncating @ 40, latest SV = 0.0014720697537884304\n",
      "WARNING:root:Truncating @ 40, latest SV = 0.0007513759768098125\n",
      "WARNING:root:Truncating @ 40, latest SV = 0.0003467294617876942\n",
      "WARNING:root:Truncating @ 40, latest SV = 0.00014361044391765057\n",
      "WARNING:root:Truncating @ 40, latest SV = 1.1622249163410309e-05\n"
     ]
    },
    {
     "name": "stdout",
     "output_type": "stream",
     "text": [
      "89 [1, 2, 4, 7, 13, 20, 37, 40, 40, 40, 40, 40, 40, 40, 40, 40, 40, 40, 40, 40, 40, 40, 40, 40, 40, 32, 16, 8, 4, 2, 1]\n",
      "MPS with length 30 and physical d=2\n",
      "chi [1, 6, 12, 21, 39, 60, 111, 120, 120, 120, 120, 120, 120, 120, 120, 120, 120, 120, 120, 120, 120, 120, 120, 120, 120, 96, 48, 24, 12, 6, 1]\n"
     ]
    },
    {
     "name": "stderr",
     "output_type": "stream",
     "text": [
      "WARNING:root:Truncating @ 40, latest SV = 0.001203841147528549\n",
      "WARNING:root:Truncating @ 40, latest SV = 0.0018970790570765385\n",
      "WARNING:root:Truncating @ 40, latest SV = 0.002619951090083232\n",
      "WARNING:root:Truncating @ 40, latest SV = 0.0029571416677051966\n",
      "WARNING:root:Truncating @ 40, latest SV = 0.0032628791682252187\n",
      "WARNING:root:Truncating @ 40, latest SV = 0.003285709610774701\n",
      "WARNING:root:Truncating @ 40, latest SV = 0.0030990434804178974\n",
      "WARNING:root:Truncating @ 40, latest SV = 0.003037918089281121\n",
      "WARNING:root:Truncating @ 40, latest SV = 0.00288779568607233\n",
      "WARNING:root:Truncating @ 40, latest SV = 0.0025732674342390845\n",
      "WARNING:root:Truncating @ 40, latest SV = 0.00231690700631104\n",
      "WARNING:root:Truncating @ 40, latest SV = 0.0018879643026161554\n",
      "WARNING:root:Truncating @ 40, latest SV = 0.0015507911003535654\n",
      "WARNING:root:Truncating @ 40, latest SV = 0.0012049179991848338\n",
      "WARNING:root:Truncating @ 40, latest SV = 0.0006017005203782403\n",
      "WARNING:root:Truncating @ 40, latest SV = 0.0002780740597435789\n",
      "WARNING:root:Truncating @ 40, latest SV = 6.0056605673430215e-05\n",
      "WARNING:root:Truncating @ 40, latest SV = 4.93903438918014e-06\n"
     ]
    },
    {
     "name": "stdout",
     "output_type": "stream",
     "text": [
      "90 [1, 2, 4, 7, 12, 23, 40, 40, 40, 40, 40, 40, 40, 40, 40, 40, 40, 40, 40, 40, 40, 40, 40, 40, 40, 32, 16, 8, 4, 2, 1]\n",
      "MPS with length 30 and physical d=2\n",
      "chi [1, 6, 12, 21, 36, 69, 120, 120, 120, 120, 120, 120, 120, 120, 120, 120, 120, 120, 120, 120, 120, 120, 120, 120, 120, 96, 48, 24, 12, 6, 1]\n"
     ]
    },
    {
     "name": "stderr",
     "output_type": "stream",
     "text": [
      "WARNING:root:Truncating @ 40, latest SV = 0.0012704477327948964\n",
      "WARNING:root:Truncating @ 40, latest SV = 0.002070662132074614\n",
      "WARNING:root:Truncating @ 40, latest SV = 0.0027723958689237576\n",
      "WARNING:root:Truncating @ 40, latest SV = 0.0032786668301172613\n",
      "WARNING:root:Truncating @ 40, latest SV = 0.00343868944902149\n",
      "WARNING:root:Truncating @ 40, latest SV = 0.0036523136312287393\n",
      "WARNING:root:Truncating @ 40, latest SV = 0.003442514021107023\n",
      "WARNING:root:Truncating @ 40, latest SV = 0.0031960215916716447\n",
      "WARNING:root:Truncating @ 40, latest SV = 0.0030219719910683594\n",
      "WARNING:root:Truncating @ 40, latest SV = 0.002605703670176085\n",
      "WARNING:root:Truncating @ 40, latest SV = 0.002431686513563559\n",
      "WARNING:root:Truncating @ 40, latest SV = 0.0020511659668737393\n",
      "WARNING:root:Truncating @ 40, latest SV = 0.0017014254049995605\n",
      "WARNING:root:Truncating @ 40, latest SV = 0.001351074279612617\n",
      "WARNING:root:Truncating @ 40, latest SV = 0.0007967727361567007\n",
      "WARNING:root:Truncating @ 40, latest SV = 0.0003372373974690232\n",
      "WARNING:root:Truncating @ 40, latest SV = 0.00013168039790599845\n",
      "WARNING:root:Truncating @ 40, latest SV = 8.997842186131267e-06\n"
     ]
    },
    {
     "name": "stdout",
     "output_type": "stream",
     "text": [
      "91 [1, 2, 4, 7, 11, 20, 36, 40, 40, 40, 40, 40, 40, 40, 40, 40, 40, 40, 40, 40, 40, 40, 40, 40, 40, 32, 16, 8, 4, 2, 1]\n",
      "MPS with length 30 and physical d=2\n",
      "chi [1, 6, 12, 21, 33, 60, 108, 120, 120, 120, 120, 120, 120, 120, 120, 120, 120, 120, 120, 120, 120, 120, 120, 120, 120, 96, 48, 24, 12, 6, 1]\n"
     ]
    },
    {
     "name": "stderr",
     "output_type": "stream",
     "text": [
      "WARNING:root:Truncating @ 40, latest SV = 0.0010134100115631718\n",
      "WARNING:root:Truncating @ 40, latest SV = 0.0018203136833651924\n",
      "WARNING:root:Truncating @ 40, latest SV = 0.0023602998354080415\n",
      "WARNING:root:Truncating @ 40, latest SV = 0.0026209594936007093\n",
      "WARNING:root:Truncating @ 40, latest SV = 0.0026656489572212134\n",
      "WARNING:root:Truncating @ 40, latest SV = 0.002990159620535992\n",
      "WARNING:root:Truncating @ 40, latest SV = 0.002602391513517406\n",
      "WARNING:root:Truncating @ 40, latest SV = 0.0025696058250532176\n",
      "WARNING:root:Truncating @ 40, latest SV = 0.002491759414856392\n",
      "WARNING:root:Truncating @ 40, latest SV = 0.0022333179305122236\n",
      "WARNING:root:Truncating @ 40, latest SV = 0.0019403004337337727\n",
      "WARNING:root:Truncating @ 40, latest SV = 0.0016027061939286253\n",
      "WARNING:root:Truncating @ 40, latest SV = 0.0013749752819341241\n",
      "WARNING:root:Truncating @ 40, latest SV = 0.0008602611117511117\n",
      "WARNING:root:Truncating @ 40, latest SV = 0.0005204560032137428\n",
      "WARNING:root:Truncating @ 40, latest SV = 0.00021369636886882785\n",
      "WARNING:root:Truncating @ 40, latest SV = 4.146432979362911e-05\n",
      "WARNING:root:Truncating @ 40, latest SV = 2.731867915433141e-06\n"
     ]
    },
    {
     "name": "stdout",
     "output_type": "stream",
     "text": [
      "92 [1, 2, 4, 6, 11, 22, 37, 40, 40, 40, 40, 40, 40, 40, 40, 40, 40, 40, 40, 40, 40, 40, 40, 40, 40, 32, 16, 8, 4, 2, 1]\n",
      "MPS with length 30 and physical d=2\n",
      "chi [1, 6, 12, 18, 33, 66, 111, 120, 120, 120, 120, 120, 120, 120, 120, 120, 120, 120, 120, 120, 120, 120, 120, 120, 120, 96, 48, 24, 12, 6, 1]\n"
     ]
    },
    {
     "name": "stderr",
     "output_type": "stream",
     "text": [
      "WARNING:root:Truncating @ 40, latest SV = 0.001064099488883872\n",
      "WARNING:root:Truncating @ 40, latest SV = 0.0018551393857039278\n",
      "WARNING:root:Truncating @ 40, latest SV = 0.002439490605932152\n",
      "WARNING:root:Truncating @ 40, latest SV = 0.003006757084569918\n",
      "WARNING:root:Truncating @ 40, latest SV = 0.0032161346108464423\n",
      "WARNING:root:Truncating @ 40, latest SV = 0.00324646499543882\n",
      "WARNING:root:Truncating @ 40, latest SV = 0.003118540476674816\n",
      "WARNING:root:Truncating @ 40, latest SV = 0.0028825485297894683\n",
      "WARNING:root:Truncating @ 40, latest SV = 0.00280482477646309\n",
      "WARNING:root:Truncating @ 40, latest SV = 0.0026002863855260714\n",
      "WARNING:root:Truncating @ 40, latest SV = 0.0023381952491796794\n",
      "WARNING:root:Truncating @ 40, latest SV = 0.0018196156826731692\n",
      "WARNING:root:Truncating @ 40, latest SV = 0.001413266366277985\n",
      "WARNING:root:Truncating @ 40, latest SV = 0.0010620798081559146\n",
      "WARNING:root:Truncating @ 40, latest SV = 0.0005181440057350805\n",
      "WARNING:root:Truncating @ 40, latest SV = 0.0002286381250900106\n",
      "WARNING:root:Truncating @ 40, latest SV = 7.426353114557317e-05\n",
      "WARNING:root:Truncating @ 40, latest SV = 8.834193634683498e-06\n"
     ]
    },
    {
     "name": "stdout",
     "output_type": "stream",
     "text": [
      "93 [1, 2, 3, 5, 10, 19, 36, 40, 40, 40, 40, 40, 40, 40, 40, 40, 40, 40, 40, 40, 40, 40, 40, 40, 40, 32, 16, 8, 4, 2, 1]\n",
      "MPS with length 30 and physical d=2\n",
      "chi [1, 6, 9, 15, 30, 57, 108, 120, 120, 120, 120, 120, 120, 120, 120, 120, 120, 120, 120, 120, 120, 120, 120, 120, 120, 96, 48, 24, 12, 6, 1]\n"
     ]
    },
    {
     "name": "stderr",
     "output_type": "stream",
     "text": [
      "WARNING:root:Truncating @ 40, latest SV = 0.0011330460106163608\n",
      "WARNING:root:Truncating @ 40, latest SV = 0.001990613291505801\n",
      "WARNING:root:Truncating @ 40, latest SV = 0.002963871766099186\n",
      "WARNING:root:Truncating @ 40, latest SV = 0.0034538507255838236\n",
      "WARNING:root:Truncating @ 40, latest SV = 0.00353159786647843\n",
      "WARNING:root:Truncating @ 40, latest SV = 0.003839051040067919\n",
      "WARNING:root:Truncating @ 40, latest SV = 0.003444346101497093\n",
      "WARNING:root:Truncating @ 40, latest SV = 0.0034245476268298103\n",
      "WARNING:root:Truncating @ 40, latest SV = 0.0033135750318651403\n",
      "WARNING:root:Truncating @ 40, latest SV = 0.0028072356270841597\n",
      "WARNING:root:Truncating @ 40, latest SV = 0.0024268438753761736\n",
      "WARNING:root:Truncating @ 40, latest SV = 0.002193398000170428\n",
      "WARNING:root:Truncating @ 40, latest SV = 0.001816870656407343\n",
      "WARNING:root:Truncating @ 40, latest SV = 0.0013097936576340404\n",
      "WARNING:root:Truncating @ 40, latest SV = 0.0009230173590974421\n",
      "WARNING:root:Truncating @ 40, latest SV = 0.00048201106995225673\n",
      "WARNING:root:Truncating @ 40, latest SV = 0.00016032032713815279\n",
      "WARNING:root:Truncating @ 40, latest SV = 1.736137523514962e-05\n"
     ]
    },
    {
     "name": "stdout",
     "output_type": "stream",
     "text": [
      "94 [1, 2, 4, 8, 11, 19, 34, 40, 40, 40, 40, 40, 40, 40, 40, 40, 40, 40, 40, 40, 40, 40, 40, 40, 40, 32, 16, 8, 4, 2, 1]\n",
      "MPS with length 30 and physical d=2\n",
      "chi [1, 6, 12, 24, 33, 57, 102, 120, 120, 120, 120, 120, 120, 120, 120, 120, 120, 120, 120, 120, 120, 120, 120, 120, 120, 96, 48, 24, 12, 6, 1]\n"
     ]
    },
    {
     "name": "stderr",
     "output_type": "stream",
     "text": [
      "WARNING:root:Truncating @ 40, latest SV = 0.0013992339639713172\n",
      "WARNING:root:Truncating @ 40, latest SV = 0.002443076815065745\n",
      "WARNING:root:Truncating @ 40, latest SV = 0.003584808937523837\n",
      "WARNING:root:Truncating @ 40, latest SV = 0.0038518573510877467\n",
      "WARNING:root:Truncating @ 40, latest SV = 0.004098201568929572\n",
      "WARNING:root:Truncating @ 40, latest SV = 0.004168564405003979\n",
      "WARNING:root:Truncating @ 40, latest SV = 0.0042532262110578645\n",
      "WARNING:root:Truncating @ 40, latest SV = 0.00397454221726696\n",
      "WARNING:root:Truncating @ 40, latest SV = 0.0035495862035327995\n",
      "WARNING:root:Truncating @ 40, latest SV = 0.003217085818719848\n",
      "WARNING:root:Truncating @ 40, latest SV = 0.0029523213787421548\n",
      "WARNING:root:Truncating @ 40, latest SV = 0.0027435873109417494\n",
      "WARNING:root:Truncating @ 40, latest SV = 0.002336603822335382\n",
      "WARNING:root:Truncating @ 40, latest SV = 0.00180751277897469\n",
      "WARNING:root:Truncating @ 40, latest SV = 0.0014189136814488454\n",
      "WARNING:root:Truncating @ 40, latest SV = 0.0009068807174773384\n",
      "WARNING:root:Truncating @ 40, latest SV = 0.0003668346565690001\n",
      "WARNING:root:Truncating @ 40, latest SV = 6.250664156028489e-05\n"
     ]
    },
    {
     "name": "stdout",
     "output_type": "stream",
     "text": [
      "95 [1, 2, 4, 6, 9, 18, 33, 40, 40, 40, 40, 40, 40, 40, 40, 40, 40, 40, 40, 40, 40, 40, 40, 40, 40, 32, 16, 8, 4, 2, 1]\n",
      "MPS with length 30 and physical d=2\n",
      "chi [1, 6, 12, 18, 27, 54, 99, 120, 120, 120, 120, 120, 120, 120, 120, 120, 120, 120, 120, 120, 120, 120, 120, 120, 120, 96, 48, 24, 12, 6, 1]\n"
     ]
    },
    {
     "name": "stderr",
     "output_type": "stream",
     "text": [
      "WARNING:root:Truncating @ 40, latest SV = 0.0013656605153327664\n",
      "WARNING:root:Truncating @ 40, latest SV = 0.0026052291540306486\n",
      "WARNING:root:Truncating @ 40, latest SV = 0.0035595261101589214\n",
      "WARNING:root:Truncating @ 40, latest SV = 0.004089499632667555\n",
      "WARNING:root:Truncating @ 40, latest SV = 0.00443850118732887\n",
      "WARNING:root:Truncating @ 40, latest SV = 0.0044561213180739495\n",
      "WARNING:root:Truncating @ 40, latest SV = 0.004624873306063891\n",
      "WARNING:root:Truncating @ 40, latest SV = 0.004129931235517106\n",
      "WARNING:root:Truncating @ 40, latest SV = 0.0038609941240914276\n",
      "WARNING:root:Truncating @ 40, latest SV = 0.0034811629119430683\n",
      "WARNING:root:Truncating @ 40, latest SV = 0.0028666745032893248\n",
      "WARNING:root:Truncating @ 40, latest SV = 0.0025551432138945433\n",
      "WARNING:root:Truncating @ 40, latest SV = 0.0021710511167173\n",
      "WARNING:root:Truncating @ 40, latest SV = 0.0017936197994978006\n",
      "WARNING:root:Truncating @ 40, latest SV = 0.0014617675754251766\n",
      "WARNING:root:Truncating @ 40, latest SV = 0.0009480452510325407\n",
      "WARNING:root:Truncating @ 40, latest SV = 0.00034344874838400396\n",
      "WARNING:root:Truncating @ 40, latest SV = 4.305609406211441e-05\n"
     ]
    },
    {
     "name": "stdout",
     "output_type": "stream",
     "text": [
      "96 [1, 2, 4, 6, 9, 17, 32, 40, 40, 40, 40, 40, 40, 40, 40, 40, 40, 40, 40, 40, 40, 40, 40, 40, 40, 32, 16, 8, 4, 2, 1]\n",
      "MPS with length 30 and physical d=2\n",
      "chi [1, 6, 12, 18, 27, 51, 96, 120, 120, 120, 120, 120, 120, 120, 120, 120, 120, 120, 120, 120, 120, 120, 120, 120, 120, 96, 48, 24, 12, 6, 1]\n"
     ]
    },
    {
     "name": "stderr",
     "output_type": "stream",
     "text": [
      "WARNING:root:Truncating @ 40, latest SV = 0.0017328054513352114\n",
      "WARNING:root:Truncating @ 40, latest SV = 0.0028551936699974245\n",
      "WARNING:root:Truncating @ 40, latest SV = 0.0035557913633182427\n",
      "WARNING:root:Truncating @ 40, latest SV = 0.003988593911849017\n",
      "WARNING:root:Truncating @ 40, latest SV = 0.0045675198141392\n",
      "WARNING:root:Truncating @ 40, latest SV = 0.004275063510706608\n",
      "WARNING:root:Truncating @ 40, latest SV = 0.004192322051121266\n",
      "WARNING:root:Truncating @ 40, latest SV = 0.003804329738518888\n",
      "WARNING:root:Truncating @ 40, latest SV = 0.003715730974033735\n",
      "WARNING:root:Truncating @ 40, latest SV = 0.003422145225753698\n",
      "WARNING:root:Truncating @ 40, latest SV = 0.002898568570087962\n",
      "WARNING:root:Truncating @ 40, latest SV = 0.002527979486900673\n",
      "WARNING:root:Truncating @ 40, latest SV = 0.002161591588461032\n",
      "WARNING:root:Truncating @ 40, latest SV = 0.0017333366664913066\n",
      "WARNING:root:Truncating @ 40, latest SV = 0.0011679674485157877\n",
      "WARNING:root:Truncating @ 40, latest SV = 0.0006922507614912811\n",
      "WARNING:root:Truncating @ 40, latest SV = 0.0003444642609976176\n",
      "WARNING:root:Truncating @ 40, latest SV = 5.722977653664813e-05\n"
     ]
    },
    {
     "name": "stdout",
     "output_type": "stream",
     "text": [
      "97 [1, 2, 3, 5, 9, 16, 32, 40, 40, 40, 40, 40, 40, 40, 40, 40, 40, 40, 40, 40, 40, 40, 40, 40, 40, 32, 16, 8, 4, 2, 1]\n",
      "MPS with length 30 and physical d=2\n",
      "chi [1, 6, 9, 15, 27, 48, 96, 120, 120, 120, 120, 120, 120, 120, 120, 120, 120, 120, 120, 120, 120, 120, 120, 120, 120, 96, 48, 24, 12, 6, 1]\n"
     ]
    },
    {
     "name": "stderr",
     "output_type": "stream",
     "text": [
      "WARNING:root:Truncating @ 40, latest SV = 0.0011613208606030762\n",
      "WARNING:root:Truncating @ 40, latest SV = 0.002023361868279433\n",
      "WARNING:root:Truncating @ 40, latest SV = 0.0029121545832721087\n",
      "WARNING:root:Truncating @ 40, latest SV = 0.0031785704678934847\n",
      "WARNING:root:Truncating @ 40, latest SV = 0.0034389723986716463\n",
      "WARNING:root:Truncating @ 40, latest SV = 0.0034976493954842884\n",
      "WARNING:root:Truncating @ 40, latest SV = 0.003528483901163149\n",
      "WARNING:root:Truncating @ 40, latest SV = 0.003235661210440648\n",
      "WARNING:root:Truncating @ 40, latest SV = 0.0033692596434721418\n",
      "WARNING:root:Truncating @ 40, latest SV = 0.0032185530667171412\n",
      "WARNING:root:Truncating @ 40, latest SV = 0.0029486439617688286\n",
      "WARNING:root:Truncating @ 40, latest SV = 0.002659099399262101\n",
      "WARNING:root:Truncating @ 40, latest SV = 0.0021800063830905644\n",
      "WARNING:root:Truncating @ 40, latest SV = 0.0017874950690798818\n",
      "WARNING:root:Truncating @ 40, latest SV = 0.0012495076771075213\n",
      "WARNING:root:Truncating @ 40, latest SV = 0.0006909416697538206\n",
      "WARNING:root:Truncating @ 40, latest SV = 0.0002535408026810261\n",
      "WARNING:root:Truncating @ 40, latest SV = 1.985860038666896e-05\n"
     ]
    },
    {
     "name": "stdout",
     "output_type": "stream",
     "text": [
      "98 [1, 1, 2, 4, 8, 16, 32, 40, 40, 40, 40, 40, 40, 40, 40, 40, 40, 40, 40, 40, 40, 40, 40, 40, 40, 32, 16, 8, 4, 2, 1]\n",
      "MPS with length 30 and physical d=2\n",
      "chi [1, 3, 6, 12, 24, 48, 96, 120, 120, 120, 120, 120, 120, 120, 120, 120, 120, 120, 120, 120, 120, 120, 120, 120, 120, 96, 48, 24, 12, 6, 1]\n"
     ]
    },
    {
     "name": "stderr",
     "output_type": "stream",
     "text": [
      "WARNING:root:Truncating @ 40, latest SV = 0.0010629631747969995\n",
      "WARNING:root:Truncating @ 40, latest SV = 0.0018276329555815605\n",
      "WARNING:root:Truncating @ 40, latest SV = 0.002462774918459347\n",
      "WARNING:root:Truncating @ 40, latest SV = 0.002921169230010535\n",
      "WARNING:root:Truncating @ 40, latest SV = 0.0030469620620513435\n",
      "WARNING:root:Truncating @ 40, latest SV = 0.003028657659594996\n",
      "WARNING:root:Truncating @ 40, latest SV = 0.003240886252971925\n",
      "WARNING:root:Truncating @ 40, latest SV = 0.0028727657542025062\n",
      "WARNING:root:Truncating @ 40, latest SV = 0.0027646375281459214\n",
      "WARNING:root:Truncating @ 40, latest SV = 0.002614881514179475\n",
      "WARNING:root:Truncating @ 40, latest SV = 0.002357641265510876\n",
      "WARNING:root:Truncating @ 40, latest SV = 0.0022597146634473495\n",
      "WARNING:root:Truncating @ 40, latest SV = 0.0018764701652345913\n",
      "WARNING:root:Truncating @ 40, latest SV = 0.0016011227977843214\n",
      "WARNING:root:Truncating @ 40, latest SV = 0.0011207712309540892\n",
      "WARNING:root:Truncating @ 40, latest SV = 0.00059588420601027\n",
      "WARNING:root:Truncating @ 40, latest SV = 0.00011003920736683431\n",
      "WARNING:root:Truncating @ 40, latest SV = 1.0263506001336002e-05\n",
      "WARNING:root:Truncating @ 40, latest SV = 2.1129806996158457e-08\n"
     ]
    },
    {
     "name": "stdout",
     "output_type": "stream",
     "text": [
      "99 [1, 2, 4, 8, 15, 26, 40, 40, 40, 40, 40, 40, 40, 40, 40, 40, 40, 40, 40, 40, 40, 40, 40, 40, 40, 32, 16, 8, 4, 2, 1]\n",
      "MPS with length 30 and physical d=2\n",
      "chi [1, 6, 12, 24, 45, 78, 120, 120, 120, 120, 120, 120, 120, 120, 120, 120, 120, 120, 120, 120, 120, 120, 120, 120, 120, 96, 48, 24, 12, 6, 1]\n"
     ]
    },
    {
     "name": "stderr",
     "output_type": "stream",
     "text": [
      "WARNING:root:Truncating @ 40, latest SV = 0.00108707885136186\n",
      "WARNING:root:Truncating @ 40, latest SV = 0.001718363627900687\n",
      "WARNING:root:Truncating @ 40, latest SV = 0.002451061089166289\n",
      "WARNING:root:Truncating @ 40, latest SV = 0.0029766998006123587\n",
      "WARNING:root:Truncating @ 40, latest SV = 0.003093285992929928\n",
      "WARNING:root:Truncating @ 40, latest SV = 0.003071567979641781\n",
      "WARNING:root:Truncating @ 40, latest SV = 0.003302608862021747\n",
      "WARNING:root:Truncating @ 40, latest SV = 0.003205730706685706\n",
      "WARNING:root:Truncating @ 40, latest SV = 0.0030424565696073073\n",
      "WARNING:root:Truncating @ 40, latest SV = 0.0027345019617772428\n",
      "WARNING:root:Truncating @ 40, latest SV = 0.0023949092085951097\n",
      "WARNING:root:Truncating @ 40, latest SV = 0.0018297053309951402\n",
      "WARNING:root:Truncating @ 40, latest SV = 0.0014884582373384833\n",
      "WARNING:root:Truncating @ 40, latest SV = 0.0010308149949574972\n",
      "WARNING:root:Truncating @ 40, latest SV = 0.0006038034337717268\n",
      "WARNING:root:Truncating @ 40, latest SV = 0.0003321384188032873\n",
      "WARNING:root:Truncating @ 40, latest SV = 9.760834508545658e-05\n",
      "WARNING:root:Truncating @ 40, latest SV = 1.0534638983346127e-05\n",
      "WARNING:root:Truncating @ 40, latest SV = 6.789495251692744e-08\n"
     ]
    },
    {
     "name": "stdout",
     "output_type": "stream",
     "text": [
      "100 [1, 2, 4, 8, 16, 31, 40, 40, 40, 40, 40, 40, 40, 40, 40, 40, 40, 40, 40, 40, 40, 40, 40, 40, 40, 32, 16, 8, 4, 2, 1]\n",
      "MPS with length 30 and physical d=2\n",
      "chi [1, 6, 12, 24, 48, 93, 120, 120, 120, 120, 120, 120, 120, 120, 120, 120, 120, 120, 120, 120, 120, 120, 120, 120, 120, 96, 48, 24, 12, 6, 1]\n"
     ]
    },
    {
     "name": "stderr",
     "output_type": "stream",
     "text": [
      "WARNING:root:Truncating @ 40, latest SV = 0.0014496701106759431\n",
      "WARNING:root:Truncating @ 40, latest SV = 0.00262688275674119\n",
      "WARNING:root:Truncating @ 40, latest SV = 0.0034742051800829244\n",
      "WARNING:root:Truncating @ 40, latest SV = 0.004644641525625894\n",
      "WARNING:root:Truncating @ 40, latest SV = 0.005574662547590137\n",
      "WARNING:root:Truncating @ 40, latest SV = 0.005476432549205034\n",
      "WARNING:root:Truncating @ 40, latest SV = 0.005564465061060212\n",
      "WARNING:root:Truncating @ 40, latest SV = 0.00534444565009943\n",
      "WARNING:root:Truncating @ 40, latest SV = 0.004850258723320695\n",
      "WARNING:root:Truncating @ 40, latest SV = 0.004433440940437895\n",
      "WARNING:root:Truncating @ 40, latest SV = 0.004015429189561557\n",
      "WARNING:root:Truncating @ 40, latest SV = 0.0031689192016710124\n",
      "WARNING:root:Truncating @ 40, latest SV = 0.0023704170542557124\n",
      "WARNING:root:Truncating @ 40, latest SV = 0.0011226311520312778\n",
      "WARNING:root:Truncating @ 40, latest SV = 0.000557061379610815\n",
      "WARNING:root:Truncating @ 40, latest SV = 0.00029791019672954533\n",
      "WARNING:root:Truncating @ 40, latest SV = 6.444106602692734e-05\n",
      "WARNING:root:Truncating @ 40, latest SV = 7.033291686258047e-06\n",
      "WARNING:root:Truncating @ 40, latest SV = 1.0186654727059962e-07\n"
     ]
    },
    {
     "name": "stdout",
     "output_type": "stream",
     "text": [
      "101 [1, 2, 4, 8, 16, 30, 40, 40, 40, 40, 40, 40, 40, 40, 40, 40, 40, 40, 40, 40, 40, 40, 40, 40, 40, 32, 16, 8, 4, 2, 1]\n",
      "MPS with length 30 and physical d=2\n",
      "chi [1, 6, 12, 24, 48, 90, 120, 120, 120, 120, 120, 120, 120, 120, 120, 120, 120, 120, 120, 120, 120, 120, 120, 120, 120, 96, 48, 24, 12, 6, 1]\n"
     ]
    },
    {
     "name": "stderr",
     "output_type": "stream",
     "text": [
      "WARNING:root:Truncating @ 40, latest SV = 0.0013138557120971046\n",
      "WARNING:root:Truncating @ 40, latest SV = 0.0020222841695509315\n",
      "WARNING:root:Truncating @ 40, latest SV = 0.002954815560887387\n",
      "WARNING:root:Truncating @ 40, latest SV = 0.0033613030653652574\n",
      "WARNING:root:Truncating @ 40, latest SV = 0.003839502601262768\n",
      "WARNING:root:Truncating @ 40, latest SV = 0.003937084452989375\n",
      "WARNING:root:Truncating @ 40, latest SV = 0.003988770732283915\n",
      "WARNING:root:Truncating @ 40, latest SV = 0.0037388610452022126\n",
      "WARNING:root:Truncating @ 40, latest SV = 0.0034557492858441545\n",
      "WARNING:root:Truncating @ 40, latest SV = 0.00292336694424699\n",
      "WARNING:root:Truncating @ 40, latest SV = 0.0026585897311372925\n",
      "WARNING:root:Truncating @ 40, latest SV = 0.0019373208380290279\n",
      "WARNING:root:Truncating @ 40, latest SV = 0.0013269774381564972\n",
      "WARNING:root:Truncating @ 40, latest SV = 0.0007682494496134448\n",
      "WARNING:root:Truncating @ 40, latest SV = 0.0004011907616060933\n",
      "WARNING:root:Truncating @ 40, latest SV = 0.0002044331684993294\n",
      "WARNING:root:Truncating @ 40, latest SV = 4.553587338489172e-05\n",
      "WARNING:root:Truncating @ 40, latest SV = 3.721482284117477e-06\n",
      "WARNING:root:Truncating @ 40, latest SV = 7.578692696456272e-08\n"
     ]
    },
    {
     "name": "stdout",
     "output_type": "stream",
     "text": [
      "102 [1, 2, 4, 8, 16, 31, 40, 40, 40, 40, 40, 40, 40, 40, 40, 40, 40, 40, 40, 40, 40, 40, 40, 40, 40, 32, 16, 8, 4, 2, 1]\n",
      "MPS with length 30 and physical d=2\n",
      "chi [1, 6, 12, 24, 48, 93, 120, 120, 120, 120, 120, 120, 120, 120, 120, 120, 120, 120, 120, 120, 120, 120, 120, 120, 120, 96, 48, 24, 12, 6, 1]\n"
     ]
    },
    {
     "name": "stderr",
     "output_type": "stream",
     "text": [
      "WARNING:root:Truncating @ 40, latest SV = 0.0010615292684018004\n",
      "WARNING:root:Truncating @ 40, latest SV = 0.0019438839511798835\n",
      "WARNING:root:Truncating @ 40, latest SV = 0.0028270563425436494\n",
      "WARNING:root:Truncating @ 40, latest SV = 0.003347129207462059\n",
      "WARNING:root:Truncating @ 40, latest SV = 0.003554348173097998\n",
      "WARNING:root:Truncating @ 40, latest SV = 0.0035595148528585556\n",
      "WARNING:root:Truncating @ 40, latest SV = 0.003471980088970836\n",
      "WARNING:root:Truncating @ 40, latest SV = 0.0033591546991835522\n",
      "WARNING:root:Truncating @ 40, latest SV = 0.0030039044911185572\n",
      "WARNING:root:Truncating @ 40, latest SV = 0.0026070850079721536\n",
      "WARNING:root:Truncating @ 40, latest SV = 0.0023959849380347053\n",
      "WARNING:root:Truncating @ 40, latest SV = 0.001919526023292156\n",
      "WARNING:root:Truncating @ 40, latest SV = 0.0013083445957545782\n",
      "WARNING:root:Truncating @ 40, latest SV = 0.0007132569227794062\n",
      "WARNING:root:Truncating @ 40, latest SV = 0.0002039711844712242\n",
      "WARNING:root:Truncating @ 40, latest SV = 0.00011114000339171274\n",
      "WARNING:root:Truncating @ 40, latest SV = 2.220571593302994e-05\n",
      "WARNING:root:Truncating @ 40, latest SV = 3.0834880398895334e-06\n",
      "WARNING:root:Truncating @ 40, latest SV = 3.4160529231433974e-08\n"
     ]
    },
    {
     "name": "stdout",
     "output_type": "stream",
     "text": [
      "103 [1, 2, 4, 8, 16, 30, 40, 40, 40, 40, 40, 40, 40, 40, 40, 40, 40, 40, 40, 40, 40, 40, 40, 40, 40, 32, 16, 8, 4, 2, 1]\n",
      "MPS with length 30 and physical d=2\n",
      "chi [1, 6, 12, 24, 48, 90, 120, 120, 120, 120, 120, 120, 120, 120, 120, 120, 120, 120, 120, 120, 120, 120, 120, 120, 120, 96, 48, 24, 12, 6, 1]\n"
     ]
    },
    {
     "name": "stderr",
     "output_type": "stream",
     "text": [
      "WARNING:root:Truncating @ 40, latest SV = 0.0013782349799215153\n",
      "WARNING:root:Truncating @ 40, latest SV = 0.0020861780270461597\n",
      "WARNING:root:Truncating @ 40, latest SV = 0.0031514913625334115\n",
      "WARNING:root:Truncating @ 40, latest SV = 0.0033716181006120316\n",
      "WARNING:root:Truncating @ 40, latest SV = 0.0035156601173201964\n",
      "WARNING:root:Truncating @ 40, latest SV = 0.003579452273340314\n",
      "WARNING:root:Truncating @ 40, latest SV = 0.003398811386431767\n",
      "WARNING:root:Truncating @ 40, latest SV = 0.00317351679106382\n",
      "WARNING:root:Truncating @ 40, latest SV = 0.003106948373629531\n",
      "WARNING:root:Truncating @ 40, latest SV = 0.002550659007466205\n",
      "WARNING:root:Truncating @ 40, latest SV = 0.0022894005478673674\n",
      "WARNING:root:Truncating @ 40, latest SV = 0.0016564488764577035\n",
      "WARNING:root:Truncating @ 40, latest SV = 0.001074653142716521\n",
      "WARNING:root:Truncating @ 40, latest SV = 0.000378526409181494\n",
      "WARNING:root:Truncating @ 40, latest SV = 0.0001542577197431208\n",
      "WARNING:root:Truncating @ 40, latest SV = 7.749972724541439e-05\n",
      "WARNING:root:Truncating @ 40, latest SV = 1.5250677020087928e-05\n",
      "WARNING:root:Truncating @ 40, latest SV = 1.1868368930226354e-06\n",
      "WARNING:root:Truncating @ 40, latest SV = 7.517058620369903e-09\n"
     ]
    },
    {
     "name": "stdout",
     "output_type": "stream",
     "text": [
      "104 [1, 2, 4, 8, 16, 29, 40, 40, 40, 40, 40, 40, 40, 40, 40, 40, 40, 40, 40, 40, 40, 40, 40, 40, 40, 32, 16, 8, 4, 2, 1]\n",
      "MPS with length 30 and physical d=2\n",
      "chi [1, 6, 12, 24, 48, 87, 120, 120, 120, 120, 120, 120, 120, 120, 120, 120, 120, 120, 120, 120, 120, 120, 120, 120, 120, 96, 48, 24, 12, 6, 1]\n"
     ]
    },
    {
     "name": "stderr",
     "output_type": "stream",
     "text": [
      "WARNING:root:Truncating @ 40, latest SV = 0.0013549662456473343\n",
      "WARNING:root:Truncating @ 40, latest SV = 0.0021179759993430816\n",
      "WARNING:root:Truncating @ 40, latest SV = 0.002893295409119194\n",
      "WARNING:root:Truncating @ 40, latest SV = 0.0030994021086480396\n",
      "WARNING:root:Truncating @ 40, latest SV = 0.0034294439030580423\n",
      "WARNING:root:Truncating @ 40, latest SV = 0.0031852292991830624\n",
      "WARNING:root:Truncating @ 40, latest SV = 0.0030972536730140177\n",
      "WARNING:root:Truncating @ 40, latest SV = 0.00303706648520906\n",
      "WARNING:root:Truncating @ 40, latest SV = 0.0026019992564739625\n",
      "WARNING:root:Truncating @ 40, latest SV = 0.002427332127868311\n",
      "WARNING:root:Truncating @ 40, latest SV = 0.0018552866803809658\n",
      "WARNING:root:Truncating @ 40, latest SV = 0.0014112358058309595\n",
      "WARNING:root:Truncating @ 40, latest SV = 0.0010205205386410864\n",
      "WARNING:root:Truncating @ 40, latest SV = 0.0004302964990359554\n",
      "WARNING:root:Truncating @ 40, latest SV = 0.00012913581100565134\n",
      "WARNING:root:Truncating @ 40, latest SV = 6.810164762414464e-05\n",
      "WARNING:root:Truncating @ 40, latest SV = 1.4324382101776245e-05\n",
      "WARNING:root:Truncating @ 40, latest SV = 3.584621930675457e-07\n",
      "WARNING:root:Truncating @ 40, latest SV = 2.1424369182207517e-09\n"
     ]
    },
    {
     "name": "stdout",
     "output_type": "stream",
     "text": [
      "105 [1, 2, 4, 8, 15, 28, 40, 40, 40, 40, 40, 40, 40, 40, 40, 40, 40, 40, 40, 40, 40, 40, 40, 40, 40, 32, 16, 8, 4, 2, 1]\n",
      "MPS with length 30 and physical d=2\n",
      "chi [1, 6, 12, 24, 45, 84, 120, 120, 120, 120, 120, 120, 120, 120, 120, 120, 120, 120, 120, 120, 120, 120, 120, 120, 120, 96, 48, 24, 12, 6, 1]\n"
     ]
    },
    {
     "name": "stderr",
     "output_type": "stream",
     "text": [
      "WARNING:root:Truncating @ 40, latest SV = 0.0012665532750919064\n",
      "WARNING:root:Truncating @ 40, latest SV = 0.002231099164579413\n",
      "WARNING:root:Truncating @ 40, latest SV = 0.0028817207776119977\n",
      "WARNING:root:Truncating @ 40, latest SV = 0.003511815044937901\n",
      "WARNING:root:Truncating @ 40, latest SV = 0.003633880240541115\n",
      "WARNING:root:Truncating @ 40, latest SV = 0.003699964515939915\n",
      "WARNING:root:Truncating @ 40, latest SV = 0.0034769444727072206\n",
      "WARNING:root:Truncating @ 40, latest SV = 0.00321875322888542\n",
      "WARNING:root:Truncating @ 40, latest SV = 0.002910970276576495\n",
      "WARNING:root:Truncating @ 40, latest SV = 0.0025178017835728044\n",
      "WARNING:root:Truncating @ 40, latest SV = 0.002023051333928972\n",
      "WARNING:root:Truncating @ 40, latest SV = 0.0015062911357377722\n",
      "WARNING:root:Truncating @ 40, latest SV = 0.0010921706652070894\n",
      "WARNING:root:Truncating @ 40, latest SV = 0.0004920172305760512\n",
      "WARNING:root:Truncating @ 40, latest SV = 0.00013838951649949402\n",
      "WARNING:root:Truncating @ 40, latest SV = 6.483938212159742e-05\n",
      "WARNING:root:Truncating @ 40, latest SV = 2.300027218554915e-05\n",
      "WARNING:root:Truncating @ 40, latest SV = 9.024758911935751e-07\n",
      "WARNING:root:Truncating @ 40, latest SV = 2.285861977297218e-09\n"
     ]
    },
    {
     "name": "stdout",
     "output_type": "stream",
     "text": [
      "106 [1, 2, 4, 8, 15, 26, 40, 40, 40, 40, 40, 40, 40, 40, 40, 40, 40, 40, 40, 40, 40, 40, 40, 40, 40, 32, 16, 8, 4, 2, 1]\n",
      "MPS with length 30 and physical d=2\n",
      "chi [1, 6, 12, 24, 45, 78, 120, 120, 120, 120, 120, 120, 120, 120, 120, 120, 120, 120, 120, 120, 120, 120, 120, 120, 120, 96, 48, 24, 12, 6, 1]\n"
     ]
    },
    {
     "name": "stderr",
     "output_type": "stream",
     "text": [
      "WARNING:root:Truncating @ 40, latest SV = 0.001565143482466212\n",
      "WARNING:root:Truncating @ 40, latest SV = 0.0024731575939429115\n",
      "WARNING:root:Truncating @ 40, latest SV = 0.003199881515877616\n",
      "WARNING:root:Truncating @ 40, latest SV = 0.0037180216474478884\n",
      "WARNING:root:Truncating @ 40, latest SV = 0.0042391041567427165\n",
      "WARNING:root:Truncating @ 40, latest SV = 0.004016105396987491\n",
      "WARNING:root:Truncating @ 40, latest SV = 0.003815002613354017\n",
      "WARNING:root:Truncating @ 40, latest SV = 0.003418915982167453\n",
      "WARNING:root:Truncating @ 40, latest SV = 0.0034414317535622395\n",
      "WARNING:root:Truncating @ 40, latest SV = 0.00277350118340101\n",
      "WARNING:root:Truncating @ 40, latest SV = 0.002287650191502873\n",
      "WARNING:root:Truncating @ 40, latest SV = 0.0020410401096783316\n",
      "WARNING:root:Truncating @ 40, latest SV = 0.001497856054155471\n",
      "WARNING:root:Truncating @ 40, latest SV = 0.0008344438084344605\n",
      "WARNING:root:Truncating @ 40, latest SV = 0.0002236451666968742\n",
      "WARNING:root:Truncating @ 40, latest SV = 8.220684905863463e-05\n",
      "WARNING:root:Truncating @ 40, latest SV = 3.2980211938248235e-05\n",
      "WARNING:root:Truncating @ 40, latest SV = 1.200647973738857e-06\n",
      "WARNING:root:Truncating @ 40, latest SV = 1.423763992960301e-09\n"
     ]
    },
    {
     "name": "stdout",
     "output_type": "stream",
     "text": [
      "107 [1, 2, 4, 8, 15, 27, 40, 40, 40, 40, 40, 40, 40, 40, 40, 40, 40, 40, 40, 40, 40, 40, 40, 40, 40, 32, 16, 8, 4, 2, 1]\n",
      "MPS with length 30 and physical d=2\n",
      "chi [1, 6, 12, 24, 45, 81, 120, 120, 120, 120, 120, 120, 120, 120, 120, 120, 120, 120, 120, 120, 120, 120, 120, 120, 120, 96, 48, 24, 12, 6, 1]\n"
     ]
    },
    {
     "name": "stderr",
     "output_type": "stream",
     "text": [
      "WARNING:root:Truncating @ 40, latest SV = 0.0012165442743334405\n",
      "WARNING:root:Truncating @ 40, latest SV = 0.0021887633606436775\n",
      "WARNING:root:Truncating @ 40, latest SV = 0.0031361181089175545\n",
      "WARNING:root:Truncating @ 40, latest SV = 0.0037066491761718052\n",
      "WARNING:root:Truncating @ 40, latest SV = 0.003928201267867777\n",
      "WARNING:root:Truncating @ 40, latest SV = 0.003971287159239561\n",
      "WARNING:root:Truncating @ 40, latest SV = 0.0036263051807794416\n",
      "WARNING:root:Truncating @ 40, latest SV = 0.0034435128360349654\n",
      "WARNING:root:Truncating @ 40, latest SV = 0.0029973237920501755\n",
      "WARNING:root:Truncating @ 40, latest SV = 0.002617183987885447\n",
      "WARNING:root:Truncating @ 40, latest SV = 0.0022650264077588513\n",
      "WARNING:root:Truncating @ 40, latest SV = 0.0018180848580773917\n",
      "WARNING:root:Truncating @ 40, latest SV = 0.0012835725663520178\n",
      "WARNING:root:Truncating @ 40, latest SV = 0.0007069803718131879\n",
      "WARNING:root:Truncating @ 40, latest SV = 0.00016117419177869455\n",
      "WARNING:root:Truncating @ 40, latest SV = 4.997206439248952e-05\n",
      "WARNING:root:Truncating @ 40, latest SV = 1.5558887668073475e-05\n",
      "WARNING:root:Truncating @ 40, latest SV = 6.68770540766421e-07\n",
      "WARNING:root:Truncating @ 40, latest SV = 2.80576546637184e-09\n"
     ]
    },
    {
     "name": "stdout",
     "output_type": "stream",
     "text": [
      "108 [1, 2, 4, 8, 14, 26, 40, 40, 40, 40, 40, 40, 40, 40, 40, 40, 40, 40, 40, 40, 40, 40, 40, 40, 40, 32, 16, 8, 4, 2, 1]\n",
      "MPS with length 30 and physical d=2\n",
      "chi [1, 6, 12, 24, 42, 78, 120, 120, 120, 120, 120, 120, 120, 120, 120, 120, 120, 120, 120, 120, 120, 120, 120, 120, 120, 96, 48, 24, 12, 6, 1]\n"
     ]
    },
    {
     "name": "stderr",
     "output_type": "stream",
     "text": [
      "WARNING:root:Truncating @ 40, latest SV = 0.0010260533054946273\n",
      "WARNING:root:Truncating @ 40, latest SV = 0.001674639809778976\n",
      "WARNING:root:Truncating @ 40, latest SV = 0.0023265451136165365\n",
      "WARNING:root:Truncating @ 40, latest SV = 0.0027713142232602124\n",
      "WARNING:root:Truncating @ 40, latest SV = 0.0031652720991141112\n",
      "WARNING:root:Truncating @ 40, latest SV = 0.0031635140163065157\n",
      "WARNING:root:Truncating @ 40, latest SV = 0.003015679032588962\n",
      "WARNING:root:Truncating @ 40, latest SV = 0.0026130300321990352\n",
      "WARNING:root:Truncating @ 40, latest SV = 0.0023773544619595296\n",
      "WARNING:root:Truncating @ 40, latest SV = 0.0021199930298189634\n",
      "WARNING:root:Truncating @ 40, latest SV = 0.0018593327449397366\n",
      "WARNING:root:Truncating @ 40, latest SV = 0.0014674029199623774\n",
      "WARNING:root:Truncating @ 40, latest SV = 0.0011907138511469003\n",
      "WARNING:root:Truncating @ 40, latest SV = 0.0007756256537023074\n",
      "WARNING:root:Truncating @ 40, latest SV = 0.0001860918564767229\n",
      "WARNING:root:Truncating @ 40, latest SV = 4.7081135328420465e-05\n",
      "WARNING:root:Truncating @ 40, latest SV = 1.6968547855124118e-05\n",
      "WARNING:root:Truncating @ 40, latest SV = 4.946383119763472e-07\n",
      "WARNING:root:Truncating @ 40, latest SV = 4.937350892121602e-10\n"
     ]
    },
    {
     "name": "stdout",
     "output_type": "stream",
     "text": [
      "109 [1, 2, 4, 8, 14, 25, 40, 40, 40, 40, 40, 40, 40, 40, 40, 40, 40, 40, 40, 40, 40, 40, 40, 40, 40, 32, 16, 8, 4, 2, 1]\n",
      "MPS with length 30 and physical d=2\n",
      "chi [1, 6, 12, 24, 42, 75, 120, 120, 120, 120, 120, 120, 120, 120, 120, 120, 120, 120, 120, 120, 120, 120, 120, 120, 120, 96, 48, 24, 12, 6, 1]\n"
     ]
    },
    {
     "name": "stderr",
     "output_type": "stream",
     "text": [
      "WARNING:root:Truncating @ 40, latest SV = 0.0012317012166257744\n",
      "WARNING:root:Truncating @ 40, latest SV = 0.001782766200283738\n",
      "WARNING:root:Truncating @ 40, latest SV = 0.002142564303436008\n",
      "WARNING:root:Truncating @ 40, latest SV = 0.00241774660635743\n",
      "WARNING:root:Truncating @ 40, latest SV = 0.002418097964649134\n",
      "WARNING:root:Truncating @ 40, latest SV = 0.0023942409876513823\n",
      "WARNING:root:Truncating @ 40, latest SV = 0.002255742302307988\n",
      "WARNING:root:Truncating @ 40, latest SV = 0.0022299292046153133\n",
      "WARNING:root:Truncating @ 40, latest SV = 0.0019952695569860276\n",
      "WARNING:root:Truncating @ 40, latest SV = 0.0016201747057565414\n",
      "WARNING:root:Truncating @ 40, latest SV = 0.0013929788571057254\n",
      "WARNING:root:Truncating @ 40, latest SV = 0.0011338600825929648\n",
      "WARNING:root:Truncating @ 40, latest SV = 0.0008105342621216975\n",
      "WARNING:root:Truncating @ 40, latest SV = 0.00047030102693736587\n",
      "WARNING:root:Truncating @ 40, latest SV = 0.00011526869973867727\n",
      "WARNING:root:Truncating @ 40, latest SV = 2.813469059501446e-05\n",
      "WARNING:root:Truncating @ 40, latest SV = 7.190573233742238e-06\n",
      "WARNING:root:Truncating @ 40, latest SV = 1.883313287037733e-07\n",
      "WARNING:root:Truncating @ 40, latest SV = 1.0042482679103712e-09\n"
     ]
    },
    {
     "name": "stdout",
     "output_type": "stream",
     "text": [
      "110 [1, 2, 4, 8, 13, 25, 40, 40, 40, 40, 40, 40, 40, 40, 40, 40, 40, 40, 40, 40, 40, 40, 40, 40, 40, 32, 16, 8, 4, 2, 1]\n",
      "MPS with length 30 and physical d=2\n",
      "chi [1, 6, 12, 24, 39, 75, 120, 120, 120, 120, 120, 120, 120, 120, 120, 120, 120, 120, 120, 120, 120, 120, 120, 120, 120, 96, 48, 24, 12, 6, 1]\n"
     ]
    },
    {
     "name": "stderr",
     "output_type": "stream",
     "text": [
      "WARNING:root:Truncating @ 40, latest SV = 0.0014483981867068655\n",
      "WARNING:root:Truncating @ 40, latest SV = 0.002165929109803051\n",
      "WARNING:root:Truncating @ 40, latest SV = 0.0029591748704149573\n",
      "WARNING:root:Truncating @ 40, latest SV = 0.0034126718055701296\n",
      "WARNING:root:Truncating @ 40, latest SV = 0.0036063538837572606\n",
      "WARNING:root:Truncating @ 40, latest SV = 0.0034156087275546212\n",
      "WARNING:root:Truncating @ 40, latest SV = 0.0033687409850488865\n",
      "WARNING:root:Truncating @ 40, latest SV = 0.0029732395732641596\n",
      "WARNING:root:Truncating @ 40, latest SV = 0.002658478112713759\n",
      "WARNING:root:Truncating @ 40, latest SV = 0.0024113838787030066\n",
      "WARNING:root:Truncating @ 40, latest SV = 0.0019997637604081495\n",
      "WARNING:root:Truncating @ 40, latest SV = 0.001544089639599082\n",
      "WARNING:root:Truncating @ 40, latest SV = 0.0011082104651763678\n",
      "WARNING:root:Truncating @ 40, latest SV = 0.0007299680316515693\n",
      "WARNING:root:Truncating @ 40, latest SV = 0.00016928517293044934\n",
      "WARNING:root:Truncating @ 40, latest SV = 8.195587789421914e-05\n",
      "WARNING:root:Truncating @ 40, latest SV = 3.506735340088694e-05\n",
      "WARNING:root:Truncating @ 40, latest SV = 8.093170490498491e-07\n",
      "WARNING:root:Truncating @ 40, latest SV = 5.609084470991104e-10\n"
     ]
    },
    {
     "name": "stdout",
     "output_type": "stream",
     "text": [
      "111 [1, 2, 4, 7, 13, 25, 40, 40, 40, 40, 40, 40, 40, 40, 40, 40, 40, 40, 40, 40, 40, 40, 40, 40, 40, 32, 16, 8, 4, 2, 1]\n",
      "MPS with length 30 and physical d=2\n",
      "chi [1, 6, 12, 21, 39, 75, 120, 120, 120, 120, 120, 120, 120, 120, 120, 120, 120, 120, 120, 120, 120, 120, 120, 120, 120, 96, 48, 24, 12, 6, 1]\n"
     ]
    },
    {
     "name": "stderr",
     "output_type": "stream",
     "text": [
      "WARNING:root:Truncating @ 40, latest SV = 0.0008405414501910436\n",
      "WARNING:root:Truncating @ 40, latest SV = 0.0015424061956262486\n",
      "WARNING:root:Truncating @ 40, latest SV = 0.002150992215176035\n",
      "WARNING:root:Truncating @ 40, latest SV = 0.0024015782451856055\n",
      "WARNING:root:Truncating @ 40, latest SV = 0.002593223023744732\n",
      "WARNING:root:Truncating @ 40, latest SV = 0.0027529090603155754\n",
      "WARNING:root:Truncating @ 40, latest SV = 0.0027864314288532526\n",
      "WARNING:root:Truncating @ 40, latest SV = 0.0026247533969122414\n",
      "WARNING:root:Truncating @ 40, latest SV = 0.002431990395010073\n",
      "WARNING:root:Truncating @ 40, latest SV = 0.0019759422889993384\n",
      "WARNING:root:Truncating @ 40, latest SV = 0.0018212275566179459\n",
      "WARNING:root:Truncating @ 40, latest SV = 0.0015127521068727683\n",
      "WARNING:root:Truncating @ 40, latest SV = 0.0010546195256725525\n",
      "WARNING:root:Truncating @ 40, latest SV = 0.0005800393267341721\n",
      "WARNING:root:Truncating @ 40, latest SV = 0.00021203296797111702\n",
      "WARNING:root:Truncating @ 40, latest SV = 8.443286230986688e-05\n",
      "WARNING:root:Truncating @ 40, latest SV = 3.1256223968468094e-05\n",
      "WARNING:root:Truncating @ 40, latest SV = 1.3138194123872388e-06\n",
      "WARNING:root:Truncating @ 40, latest SV = 1.6415271536697816e-09\n"
     ]
    },
    {
     "name": "stdout",
     "output_type": "stream",
     "text": [
      "112 [1, 2, 4, 7, 13, 25, 40, 40, 40, 40, 40, 40, 40, 40, 40, 40, 40, 40, 40, 40, 40, 40, 40, 40, 40, 32, 16, 8, 4, 2, 1]\n",
      "MPS with length 30 and physical d=2\n",
      "chi [1, 6, 12, 21, 39, 75, 120, 120, 120, 120, 120, 120, 120, 120, 120, 120, 120, 120, 120, 120, 120, 120, 120, 120, 120, 96, 48, 24, 12, 6, 1]\n"
     ]
    },
    {
     "name": "stderr",
     "output_type": "stream",
     "text": [
      "WARNING:root:Truncating @ 40, latest SV = 0.0013860197650077644\n",
      "WARNING:root:Truncating @ 40, latest SV = 0.002028130937919799\n",
      "WARNING:root:Truncating @ 40, latest SV = 0.0027211692460926695\n",
      "WARNING:root:Truncating @ 40, latest SV = 0.002985349390062437\n",
      "WARNING:root:Truncating @ 40, latest SV = 0.003173213185524014\n",
      "WARNING:root:Truncating @ 40, latest SV = 0.002970335711899298\n",
      "WARNING:root:Truncating @ 40, latest SV = 0.0030322936011922793\n",
      "WARNING:root:Truncating @ 40, latest SV = 0.0028888133032375254\n",
      "WARNING:root:Truncating @ 40, latest SV = 0.0026147153592190444\n",
      "WARNING:root:Truncating @ 40, latest SV = 0.002263984827419938\n",
      "WARNING:root:Truncating @ 40, latest SV = 0.0018733925430746193\n",
      "WARNING:root:Truncating @ 40, latest SV = 0.001412544729751067\n",
      "WARNING:root:Truncating @ 40, latest SV = 0.0011266543869406602\n",
      "WARNING:root:Truncating @ 40, latest SV = 0.0006303114741486771\n",
      "WARNING:root:Truncating @ 40, latest SV = 0.0003032137633346525\n",
      "WARNING:root:Truncating @ 40, latest SV = 0.00013561371968677332\n",
      "WARNING:root:Truncating @ 40, latest SV = 4.763912344048724e-05\n",
      "WARNING:root:Truncating @ 40, latest SV = 5.533997379774472e-06\n",
      "WARNING:root:Truncating @ 40, latest SV = 3.4318702431608737e-09\n"
     ]
    },
    {
     "name": "stdout",
     "output_type": "stream",
     "text": [
      "113 [1, 2, 4, 7, 14, 26, 40, 40, 40, 40, 40, 40, 40, 40, 40, 40, 40, 40, 40, 40, 40, 40, 40, 40, 40, 32, 16, 8, 4, 2, 1]\n",
      "MPS with length 30 and physical d=2\n",
      "chi [1, 6, 12, 21, 42, 78, 120, 120, 120, 120, 120, 120, 120, 120, 120, 120, 120, 120, 120, 120, 120, 120, 120, 120, 120, 96, 48, 24, 12, 6, 1]\n"
     ]
    },
    {
     "name": "stderr",
     "output_type": "stream",
     "text": [
      "WARNING:root:Truncating @ 40, latest SV = 0.0012013388565058265\n",
      "WARNING:root:Truncating @ 40, latest SV = 0.002416370250072806\n",
      "WARNING:root:Truncating @ 40, latest SV = 0.003179849541259284\n",
      "WARNING:root:Truncating @ 40, latest SV = 0.0038312581458922333\n",
      "WARNING:root:Truncating @ 40, latest SV = 0.004192547966973631\n",
      "WARNING:root:Truncating @ 40, latest SV = 0.0039239003272902445\n",
      "WARNING:root:Truncating @ 40, latest SV = 0.0038904560812516725\n",
      "WARNING:root:Truncating @ 40, latest SV = 0.0035880490218744604\n",
      "WARNING:root:Truncating @ 40, latest SV = 0.0030120200204244137\n",
      "WARNING:root:Truncating @ 40, latest SV = 0.002446631013417986\n",
      "WARNING:root:Truncating @ 40, latest SV = 0.0018828631670862925\n",
      "WARNING:root:Truncating @ 40, latest SV = 0.0014185575366331595\n",
      "WARNING:root:Truncating @ 40, latest SV = 0.0009204489703489408\n",
      "WARNING:root:Truncating @ 40, latest SV = 0.0006348801343709898\n",
      "WARNING:root:Truncating @ 40, latest SV = 0.00035073614650601986\n",
      "WARNING:root:Truncating @ 40, latest SV = 0.00020944985375709132\n",
      "WARNING:root:Truncating @ 40, latest SV = 9.763221762793659e-05\n",
      "WARNING:root:Truncating @ 40, latest SV = 1.970922290090442e-06\n",
      "WARNING:root:Truncating @ 40, latest SV = 1.552505242239518e-09\n"
     ]
    },
    {
     "name": "stdout",
     "output_type": "stream",
     "text": [
      "114 [1, 2, 4, 8, 15, 26, 40, 40, 40, 40, 40, 40, 40, 40, 40, 40, 40, 40, 40, 40, 40, 40, 40, 40, 40, 32, 16, 8, 4, 2, 1]\n",
      "MPS with length 30 and physical d=2\n",
      "chi [1, 6, 12, 24, 45, 78, 120, 120, 120, 120, 120, 120, 120, 120, 120, 120, 120, 120, 120, 120, 120, 120, 120, 120, 120, 96, 48, 24, 12, 6, 1]\n"
     ]
    },
    {
     "name": "stderr",
     "output_type": "stream",
     "text": [
      "WARNING:root:Truncating @ 40, latest SV = 0.0014431292449505328\n",
      "WARNING:root:Truncating @ 40, latest SV = 0.002382458021890992\n",
      "WARNING:root:Truncating @ 40, latest SV = 0.0032419342069048007\n",
      "WARNING:root:Truncating @ 40, latest SV = 0.003815420333726412\n",
      "WARNING:root:Truncating @ 40, latest SV = 0.0038664422655455143\n",
      "WARNING:root:Truncating @ 40, latest SV = 0.004082317056603727\n",
      "WARNING:root:Truncating @ 40, latest SV = 0.0038423705798075474\n",
      "WARNING:root:Truncating @ 40, latest SV = 0.003778819283175223\n",
      "WARNING:root:Truncating @ 40, latest SV = 0.0032377200787603836\n",
      "WARNING:root:Truncating @ 40, latest SV = 0.002879586277751977\n",
      "WARNING:root:Truncating @ 40, latest SV = 0.002244044243037087\n",
      "WARNING:root:Truncating @ 40, latest SV = 0.001860927979293976\n",
      "WARNING:root:Truncating @ 40, latest SV = 0.0015676476239256574\n",
      "WARNING:root:Truncating @ 40, latest SV = 0.0009684924233759505\n",
      "WARNING:root:Truncating @ 40, latest SV = 0.0003799865490372265\n",
      "WARNING:root:Truncating @ 40, latest SV = 0.0001775121657969021\n",
      "WARNING:root:Truncating @ 40, latest SV = 4.84255853926812e-05\n",
      "WARNING:root:Truncating @ 40, latest SV = 1.6113093273428298e-06\n",
      "WARNING:root:Truncating @ 40, latest SV = 2.747679964629914e-10\n"
     ]
    },
    {
     "name": "stdout",
     "output_type": "stream",
     "text": [
      "115 [1, 2, 4, 7, 13, 24, 40, 40, 40, 40, 40, 40, 40, 40, 40, 40, 40, 40, 40, 40, 40, 40, 40, 40, 40, 32, 16, 8, 4, 2, 1]\n",
      "MPS with length 30 and physical d=2\n",
      "chi [1, 6, 12, 21, 39, 72, 120, 120, 120, 120, 120, 120, 120, 120, 120, 120, 120, 120, 120, 120, 120, 120, 120, 120, 120, 96, 48, 24, 12, 6, 1]\n"
     ]
    },
    {
     "name": "stderr",
     "output_type": "stream",
     "text": [
      "WARNING:root:Truncating @ 40, latest SV = 0.0010353896740229929\n",
      "WARNING:root:Truncating @ 40, latest SV = 0.0021954018184500907\n",
      "WARNING:root:Truncating @ 40, latest SV = 0.0034098245076413115\n",
      "WARNING:root:Truncating @ 40, latest SV = 0.0034852995434032385\n",
      "WARNING:root:Truncating @ 40, latest SV = 0.0037563810076730584\n",
      "WARNING:root:Truncating @ 40, latest SV = 0.0035593261374539577\n",
      "WARNING:root:Truncating @ 40, latest SV = 0.0032905204861735284\n",
      "WARNING:root:Truncating @ 40, latest SV = 0.0033592629730865168\n",
      "WARNING:root:Truncating @ 40, latest SV = 0.0031014846616638707\n",
      "WARNING:root:Truncating @ 40, latest SV = 0.00280267013676536\n",
      "WARNING:root:Truncating @ 40, latest SV = 0.002250622695903091\n",
      "WARNING:root:Truncating @ 40, latest SV = 0.0017457079399273055\n",
      "WARNING:root:Truncating @ 40, latest SV = 0.0013754249031622263\n",
      "WARNING:root:Truncating @ 40, latest SV = 0.0007105909125353444\n",
      "WARNING:root:Truncating @ 40, latest SV = 0.0003462520442739592\n",
      "WARNING:root:Truncating @ 40, latest SV = 0.00019210752647884753\n",
      "WARNING:root:Truncating @ 40, latest SV = 8.579182279251571e-05\n",
      "WARNING:root:Truncating @ 40, latest SV = 4.4066686611203086e-06\n",
      "WARNING:root:Truncating @ 40, latest SV = 3.373731863182013e-10\n"
     ]
    },
    {
     "name": "stdout",
     "output_type": "stream",
     "text": [
      "116 [1, 2, 4, 8, 14, 24, 40, 40, 40, 40, 40, 40, 40, 40, 40, 40, 40, 40, 40, 40, 40, 40, 40, 40, 40, 32, 16, 8, 4, 2, 1]\n",
      "MPS with length 30 and physical d=2\n",
      "chi [1, 6, 12, 24, 42, 72, 120, 120, 120, 120, 120, 120, 120, 120, 120, 120, 120, 120, 120, 120, 120, 120, 120, 120, 120, 96, 48, 24, 12, 6, 1]\n"
     ]
    },
    {
     "name": "stderr",
     "output_type": "stream",
     "text": [
      "WARNING:root:Truncating @ 40, latest SV = 0.0008940184144941602\n",
      "WARNING:root:Truncating @ 40, latest SV = 0.0015397651445125493\n",
      "WARNING:root:Truncating @ 40, latest SV = 0.0023214782755278996\n",
      "WARNING:root:Truncating @ 40, latest SV = 0.0030031286728811777\n",
      "WARNING:root:Truncating @ 40, latest SV = 0.003204160262562528\n",
      "WARNING:root:Truncating @ 40, latest SV = 0.0032301939861943997\n",
      "WARNING:root:Truncating @ 40, latest SV = 0.003223816821819051\n",
      "WARNING:root:Truncating @ 40, latest SV = 0.003066910197914767\n",
      "WARNING:root:Truncating @ 40, latest SV = 0.002834065323332858\n",
      "WARNING:root:Truncating @ 40, latest SV = 0.0026635507374575215\n",
      "WARNING:root:Truncating @ 40, latest SV = 0.002331525738232959\n",
      "WARNING:root:Truncating @ 40, latest SV = 0.0018202576501166854\n",
      "WARNING:root:Truncating @ 40, latest SV = 0.001403032219249618\n",
      "WARNING:root:Truncating @ 40, latest SV = 0.0011483009239562593\n",
      "WARNING:root:Truncating @ 40, latest SV = 0.0006568303872558261\n",
      "WARNING:root:Truncating @ 40, latest SV = 0.00023967666491359546\n",
      "WARNING:root:Truncating @ 40, latest SV = 2.4424920796219883e-05\n",
      "WARNING:root:Truncating @ 40, latest SV = 4.809467737617373e-07\n"
     ]
    },
    {
     "name": "stdout",
     "output_type": "stream",
     "text": [
      "117 [1, 2, 4, 7, 12, 20, 36, 40, 40, 40, 40, 40, 40, 40, 40, 40, 40, 40, 40, 40, 40, 40, 40, 40, 40, 32, 16, 8, 4, 2, 1]\n",
      "MPS with length 30 and physical d=2\n",
      "chi [1, 6, 12, 21, 36, 60, 108, 120, 120, 120, 120, 120, 120, 120, 120, 120, 120, 120, 120, 120, 120, 120, 120, 120, 120, 96, 48, 24, 12, 6, 1]\n"
     ]
    },
    {
     "name": "stderr",
     "output_type": "stream",
     "text": [
      "WARNING:root:Truncating @ 40, latest SV = 0.000719266957129273\n",
      "WARNING:root:Truncating @ 40, latest SV = 0.0014038631415637902\n",
      "WARNING:root:Truncating @ 40, latest SV = 0.0021374734704584447\n",
      "WARNING:root:Truncating @ 40, latest SV = 0.0025925489338999613\n",
      "WARNING:root:Truncating @ 40, latest SV = 0.002642945047028278\n",
      "WARNING:root:Truncating @ 40, latest SV = 0.0030207927610173754\n",
      "WARNING:root:Truncating @ 40, latest SV = 0.0029233154133640367\n",
      "WARNING:root:Truncating @ 40, latest SV = 0.002733299827893331\n",
      "WARNING:root:Truncating @ 40, latest SV = 0.002504219325925694\n",
      "WARNING:root:Truncating @ 40, latest SV = 0.0020828451709080193\n",
      "WARNING:root:Truncating @ 40, latest SV = 0.0018143016770965277\n",
      "WARNING:root:Truncating @ 40, latest SV = 0.0013873274552806479\n",
      "WARNING:root:Truncating @ 40, latest SV = 0.0011100025155568703\n",
      "WARNING:root:Truncating @ 40, latest SV = 0.0006871945431151265\n",
      "WARNING:root:Truncating @ 40, latest SV = 0.00027543481511612864\n",
      "WARNING:root:Truncating @ 40, latest SV = 7.482641545602073e-05\n",
      "WARNING:root:Truncating @ 40, latest SV = 2.08615060220892e-05\n",
      "WARNING:root:Truncating @ 40, latest SV = 8.789713792434927e-07\n"
     ]
    },
    {
     "name": "stdout",
     "output_type": "stream",
     "text": [
      "118 [1, 2, 4, 7, 12, 21, 38, 40, 40, 40, 40, 40, 40, 40, 40, 40, 40, 40, 40, 40, 40, 40, 40, 40, 40, 32, 16, 8, 4, 2, 1]\n",
      "MPS with length 30 and physical d=2\n",
      "chi [1, 6, 12, 21, 36, 63, 114, 120, 120, 120, 120, 120, 120, 120, 120, 120, 120, 120, 120, 120, 120, 120, 120, 120, 120, 96, 48, 24, 12, 6, 1]\n"
     ]
    },
    {
     "name": "stderr",
     "output_type": "stream",
     "text": [
      "WARNING:root:Truncating @ 40, latest SV = 0.000814292791578325\n",
      "WARNING:root:Truncating @ 40, latest SV = 0.0014205022953036447\n",
      "WARNING:root:Truncating @ 40, latest SV = 0.0020274154893705474\n",
      "WARNING:root:Truncating @ 40, latest SV = 0.0025640283412015764\n",
      "WARNING:root:Truncating @ 40, latest SV = 0.0028692973393380948\n",
      "WARNING:root:Truncating @ 40, latest SV = 0.0027101086166340335\n",
      "WARNING:root:Truncating @ 40, latest SV = 0.0028946820243968933\n",
      "WARNING:root:Truncating @ 40, latest SV = 0.0028351505380083083\n",
      "WARNING:root:Truncating @ 40, latest SV = 0.002508361579013\n",
      "WARNING:root:Truncating @ 40, latest SV = 0.00235514151816075\n",
      "WARNING:root:Truncating @ 40, latest SV = 0.0019850375983584867\n",
      "WARNING:root:Truncating @ 40, latest SV = 0.0016716390560822\n",
      "WARNING:root:Truncating @ 40, latest SV = 0.001300028180669142\n",
      "WARNING:root:Truncating @ 40, latest SV = 0.0009281144954494996\n",
      "WARNING:root:Truncating @ 40, latest SV = 0.0004732773925797818\n",
      "WARNING:root:Truncating @ 40, latest SV = 0.0001995868777000897\n",
      "WARNING:root:Truncating @ 40, latest SV = 4.072748720119143e-05\n",
      "WARNING:root:Truncating @ 40, latest SV = 3.222563731580725e-07\n"
     ]
    },
    {
     "name": "stdout",
     "output_type": "stream",
     "text": [
      "119 [1, 2, 4, 7, 11, 20, 37, 40, 40, 40, 40, 40, 40, 40, 40, 40, 40, 40, 40, 40, 40, 40, 40, 40, 40, 32, 16, 8, 4, 2, 1]\n",
      "MPS with length 30 and physical d=2\n",
      "chi [1, 6, 12, 21, 33, 60, 111, 120, 120, 120, 120, 120, 120, 120, 120, 120, 120, 120, 120, 120, 120, 120, 120, 120, 120, 96, 48, 24, 12, 6, 1]\n"
     ]
    },
    {
     "name": "stderr",
     "output_type": "stream",
     "text": [
      "WARNING:root:Truncating @ 40, latest SV = 0.0013342333340715777\n",
      "WARNING:root:Truncating @ 40, latest SV = 0.0021313904788005634\n",
      "WARNING:root:Truncating @ 40, latest SV = 0.002723073615482122\n",
      "WARNING:root:Truncating @ 40, latest SV = 0.0034301706961980733\n",
      "WARNING:root:Truncating @ 40, latest SV = 0.003693937329330264\n",
      "WARNING:root:Truncating @ 40, latest SV = 0.0036706724821492153\n",
      "WARNING:root:Truncating @ 40, latest SV = 0.0034691037830052733\n",
      "WARNING:root:Truncating @ 40, latest SV = 0.003521800500518391\n",
      "WARNING:root:Truncating @ 40, latest SV = 0.0033353751113672572\n",
      "WARNING:root:Truncating @ 40, latest SV = 0.0028582644223834122\n",
      "WARNING:root:Truncating @ 40, latest SV = 0.0022989472396884756\n",
      "WARNING:root:Truncating @ 40, latest SV = 0.0018099071544757552\n",
      "WARNING:root:Truncating @ 40, latest SV = 0.0013807736560580567\n",
      "WARNING:root:Truncating @ 40, latest SV = 0.0009985706196837503\n",
      "WARNING:root:Truncating @ 40, latest SV = 0.0007492083193347408\n",
      "WARNING:root:Truncating @ 40, latest SV = 0.00024730918791998526\n",
      "WARNING:root:Truncating @ 40, latest SV = 2.0510189045645242e-05\n",
      "WARNING:root:Truncating @ 40, latest SV = 8.582205487630888e-07\n"
     ]
    },
    {
     "name": "stdout",
     "output_type": "stream",
     "text": [
      "120 [1, 2, 4, 7, 12, 20, 37, 40, 40, 40, 40, 40, 40, 40, 40, 40, 40, 40, 40, 40, 40, 40, 40, 40, 40, 32, 16, 8, 4, 2, 1]\n",
      "MPS with length 30 and physical d=2\n",
      "chi [1, 6, 12, 21, 36, 60, 111, 120, 120, 120, 120, 120, 120, 120, 120, 120, 120, 120, 120, 120, 120, 120, 120, 120, 120, 96, 48, 24, 12, 6, 1]\n"
     ]
    },
    {
     "name": "stderr",
     "output_type": "stream",
     "text": [
      "WARNING:root:Truncating @ 40, latest SV = 0.0010181189731677726\n",
      "WARNING:root:Truncating @ 40, latest SV = 0.002199639756823472\n",
      "WARNING:root:Truncating @ 40, latest SV = 0.00365500357201482\n",
      "WARNING:root:Truncating @ 40, latest SV = 0.004397278382217514\n",
      "WARNING:root:Truncating @ 40, latest SV = 0.004719540258643152\n",
      "WARNING:root:Truncating @ 40, latest SV = 0.004598484401584911\n",
      "WARNING:root:Truncating @ 40, latest SV = 0.004473579750621535\n",
      "WARNING:root:Truncating @ 40, latest SV = 0.004197241923426976\n",
      "WARNING:root:Truncating @ 40, latest SV = 0.004028828520064999\n",
      "WARNING:root:Truncating @ 40, latest SV = 0.003953148712657875\n",
      "WARNING:root:Truncating @ 40, latest SV = 0.0034322640994570415\n",
      "WARNING:root:Truncating @ 40, latest SV = 0.003089273155929943\n",
      "WARNING:root:Truncating @ 40, latest SV = 0.002720801056514089\n",
      "WARNING:root:Truncating @ 40, latest SV = 0.0019247397979682234\n",
      "WARNING:root:Truncating @ 40, latest SV = 0.0009546270547135799\n",
      "WARNING:root:Truncating @ 40, latest SV = 0.00027059882509126114\n",
      "WARNING:root:Truncating @ 40, latest SV = 7.79265018644313e-05\n",
      "WARNING:root:Truncating @ 40, latest SV = 3.363377464150121e-06\n"
     ]
    },
    {
     "name": "stdout",
     "output_type": "stream",
     "text": [
      "121 [1, 2, 4, 7, 12, 20, 37, 40, 40, 40, 40, 40, 40, 40, 40, 40, 40, 40, 40, 40, 40, 40, 40, 40, 40, 32, 16, 8, 4, 2, 1]\n",
      "MPS with length 30 and physical d=2\n",
      "chi [1, 6, 12, 21, 36, 60, 111, 120, 120, 120, 120, 120, 120, 120, 120, 120, 120, 120, 120, 120, 120, 120, 120, 120, 120, 96, 48, 24, 12, 6, 1]\n"
     ]
    },
    {
     "name": "stderr",
     "output_type": "stream",
     "text": [
      "WARNING:root:Truncating @ 40, latest SV = 0.0010746149662319595\n",
      "WARNING:root:Truncating @ 40, latest SV = 0.0020390475496748052\n",
      "WARNING:root:Truncating @ 40, latest SV = 0.0032426430701659016\n",
      "WARNING:root:Truncating @ 40, latest SV = 0.004069893519407568\n",
      "WARNING:root:Truncating @ 40, latest SV = 0.004013909248147978\n",
      "WARNING:root:Truncating @ 40, latest SV = 0.0044526103552039115\n",
      "WARNING:root:Truncating @ 40, latest SV = 0.004083783723454597\n",
      "WARNING:root:Truncating @ 40, latest SV = 0.003548942578561731\n",
      "WARNING:root:Truncating @ 40, latest SV = 0.003307701382338987\n",
      "WARNING:root:Truncating @ 40, latest SV = 0.003269069256661222\n",
      "WARNING:root:Truncating @ 40, latest SV = 0.002812372582849919\n",
      "WARNING:root:Truncating @ 40, latest SV = 0.0024489634306992755\n",
      "WARNING:root:Truncating @ 40, latest SV = 0.0017037768276609714\n",
      "WARNING:root:Truncating @ 40, latest SV = 0.0009452991905568433\n",
      "WARNING:root:Truncating @ 40, latest SV = 0.0004611998068027491\n",
      "WARNING:root:Truncating @ 40, latest SV = 0.0002523955220312538\n",
      "WARNING:root:Truncating @ 40, latest SV = 8.94371313122506e-05\n",
      "WARNING:root:Truncating @ 40, latest SV = 1.3296544824464863e-06\n"
     ]
    },
    {
     "name": "stdout",
     "output_type": "stream",
     "text": [
      "122 [1, 2, 4, 6, 11, 19, 35, 40, 40, 40, 40, 40, 40, 40, 40, 40, 40, 40, 40, 40, 40, 40, 40, 40, 40, 32, 16, 8, 4, 2, 1]\n",
      "MPS with length 30 and physical d=2\n",
      "chi [1, 6, 12, 18, 33, 57, 105, 120, 120, 120, 120, 120, 120, 120, 120, 120, 120, 120, 120, 120, 120, 120, 120, 120, 120, 96, 48, 24, 12, 6, 1]\n"
     ]
    },
    {
     "name": "stderr",
     "output_type": "stream",
     "text": [
      "WARNING:root:Truncating @ 40, latest SV = 0.00091000721324866\n",
      "WARNING:root:Truncating @ 40, latest SV = 0.0015240072531063453\n",
      "WARNING:root:Truncating @ 40, latest SV = 0.0021607499955555633\n",
      "WARNING:root:Truncating @ 40, latest SV = 0.002713458865289628\n",
      "WARNING:root:Truncating @ 40, latest SV = 0.002860363792720818\n",
      "WARNING:root:Truncating @ 40, latest SV = 0.0030355639641800702\n",
      "WARNING:root:Truncating @ 40, latest SV = 0.0027124348825766694\n",
      "WARNING:root:Truncating @ 40, latest SV = 0.0027313684225959713\n",
      "WARNING:root:Truncating @ 40, latest SV = 0.002640195175517001\n",
      "WARNING:root:Truncating @ 40, latest SV = 0.0024891245825212674\n",
      "WARNING:root:Truncating @ 40, latest SV = 0.0022098639968793753\n",
      "WARNING:root:Truncating @ 40, latest SV = 0.0018730431226478854\n",
      "WARNING:root:Truncating @ 40, latest SV = 0.0015994732347543478\n",
      "WARNING:root:Truncating @ 40, latest SV = 0.001078609339201026\n",
      "WARNING:root:Truncating @ 40, latest SV = 0.0006670609343852982\n",
      "WARNING:root:Truncating @ 40, latest SV = 0.0002751176256977678\n",
      "WARNING:root:Truncating @ 40, latest SV = 6.193434306725564e-05\n",
      "WARNING:root:Truncating @ 40, latest SV = 4.4576180900523065e-06\n"
     ]
    },
    {
     "name": "stdout",
     "output_type": "stream",
     "text": [
      "123 [1, 2, 4, 6, 10, 18, 35, 40, 40, 40, 40, 40, 40, 40, 40, 40, 40, 40, 40, 40, 40, 40, 40, 40, 40, 32, 16, 8, 4, 2, 1]\n",
      "MPS with length 30 and physical d=2\n",
      "chi [1, 6, 12, 18, 30, 54, 105, 120, 120, 120, 120, 120, 120, 120, 120, 120, 120, 120, 120, 120, 120, 120, 120, 120, 120, 96, 48, 24, 12, 6, 1]\n"
     ]
    },
    {
     "name": "stderr",
     "output_type": "stream",
     "text": [
      "WARNING:root:Truncating @ 40, latest SV = 0.0007689024199117125\n",
      "WARNING:root:Truncating @ 40, latest SV = 0.0013784564990725926\n",
      "WARNING:root:Truncating @ 40, latest SV = 0.002206111446530246\n",
      "WARNING:root:Truncating @ 40, latest SV = 0.0028161500473983256\n",
      "WARNING:root:Truncating @ 40, latest SV = 0.0027876397362059557\n",
      "WARNING:root:Truncating @ 40, latest SV = 0.0027584428758745164\n",
      "WARNING:root:Truncating @ 40, latest SV = 0.0027969242622413785\n",
      "WARNING:root:Truncating @ 40, latest SV = 0.002671847838273529\n",
      "WARNING:root:Truncating @ 40, latest SV = 0.0024397518318218007\n",
      "WARNING:root:Truncating @ 40, latest SV = 0.002295914927970694\n",
      "WARNING:root:Truncating @ 40, latest SV = 0.0020977460807243037\n",
      "WARNING:root:Truncating @ 40, latest SV = 0.0017122308462420204\n",
      "WARNING:root:Truncating @ 40, latest SV = 0.0013036693185938216\n",
      "WARNING:root:Truncating @ 40, latest SV = 0.000904666028052005\n",
      "WARNING:root:Truncating @ 40, latest SV = 0.0004134027914619023\n",
      "WARNING:root:Truncating @ 40, latest SV = 0.00017406201502936548\n",
      "WARNING:root:Truncating @ 40, latest SV = 5.027623654808594e-05\n",
      "WARNING:root:Truncating @ 40, latest SV = 6.91676676449313e-07\n"
     ]
    },
    {
     "name": "stdout",
     "output_type": "stream",
     "text": [
      "124 [1, 2, 4, 6, 11, 18, 33, 40, 40, 40, 40, 40, 40, 40, 40, 40, 40, 40, 40, 40, 40, 40, 40, 40, 40, 32, 16, 8, 4, 2, 1]\n",
      "MPS with length 30 and physical d=2\n",
      "chi [1, 6, 12, 18, 33, 54, 99, 120, 120, 120, 120, 120, 120, 120, 120, 120, 120, 120, 120, 120, 120, 120, 120, 120, 120, 96, 48, 24, 12, 6, 1]\n"
     ]
    },
    {
     "name": "stderr",
     "output_type": "stream",
     "text": [
      "WARNING:root:Truncating @ 40, latest SV = 0.0006087299710770199\n",
      "WARNING:root:Truncating @ 40, latest SV = 0.0010540395384789525\n",
      "WARNING:root:Truncating @ 40, latest SV = 0.0016977478426390019\n",
      "WARNING:root:Truncating @ 40, latest SV = 0.001961435951175475\n",
      "WARNING:root:Truncating @ 40, latest SV = 0.001988741144628808\n",
      "WARNING:root:Truncating @ 40, latest SV = 0.002159798157968198\n",
      "WARNING:root:Truncating @ 40, latest SV = 0.0020628935974672086\n",
      "WARNING:root:Truncating @ 40, latest SV = 0.0020066750430465323\n",
      "WARNING:root:Truncating @ 40, latest SV = 0.002022907700608299\n",
      "WARNING:root:Truncating @ 40, latest SV = 0.0018045748565736\n",
      "WARNING:root:Truncating @ 40, latest SV = 0.0016169855862106762\n",
      "WARNING:root:Truncating @ 40, latest SV = 0.0012992895834357137\n",
      "WARNING:root:Truncating @ 40, latest SV = 0.0010771976026148458\n",
      "WARNING:root:Truncating @ 40, latest SV = 0.0007288956014670846\n",
      "WARNING:root:Truncating @ 40, latest SV = 0.0003358254887878975\n",
      "WARNING:root:Truncating @ 40, latest SV = 0.00012911561926890258\n",
      "WARNING:root:Truncating @ 40, latest SV = 3.694132606724706e-05\n",
      "WARNING:root:Truncating @ 40, latest SV = 1.8954793847598289e-06\n"
     ]
    },
    {
     "name": "stdout",
     "output_type": "stream",
     "text": [
      "125 [1, 2, 3, 5, 9, 18, 34, 40, 40, 40, 40, 40, 40, 40, 40, 40, 40, 40, 40, 40, 40, 40, 40, 40, 40, 32, 16, 8, 4, 2, 1]\n",
      "MPS with length 30 and physical d=2\n",
      "chi [1, 6, 9, 15, 27, 54, 102, 120, 120, 120, 120, 120, 120, 120, 120, 120, 120, 120, 120, 120, 120, 120, 120, 120, 120, 96, 48, 24, 12, 6, 1]\n"
     ]
    },
    {
     "name": "stderr",
     "output_type": "stream",
     "text": [
      "WARNING:root:Truncating @ 40, latest SV = 0.0005465851742843282\n",
      "WARNING:root:Truncating @ 40, latest SV = 0.0010573491571024664\n",
      "WARNING:root:Truncating @ 40, latest SV = 0.0015779347777751054\n",
      "WARNING:root:Truncating @ 40, latest SV = 0.0019343039198441532\n",
      "WARNING:root:Truncating @ 40, latest SV = 0.0022418987512572743\n",
      "WARNING:root:Truncating @ 40, latest SV = 0.0022909410320441246\n",
      "WARNING:root:Truncating @ 40, latest SV = 0.0022147825119841987\n",
      "WARNING:root:Truncating @ 40, latest SV = 0.0019473128242643277\n",
      "WARNING:root:Truncating @ 40, latest SV = 0.0017238054985265323\n",
      "WARNING:root:Truncating @ 40, latest SV = 0.00157816435030742\n",
      "WARNING:root:Truncating @ 40, latest SV = 0.0013829570773841843\n",
      "WARNING:root:Truncating @ 40, latest SV = 0.0010825376808695664\n",
      "WARNING:root:Truncating @ 40, latest SV = 0.000843038472977911\n",
      "WARNING:root:Truncating @ 40, latest SV = 0.0005749491003350439\n",
      "WARNING:root:Truncating @ 40, latest SV = 0.00034372932394091557\n",
      "WARNING:root:Truncating @ 40, latest SV = 0.0001463500569062841\n",
      "WARNING:root:Truncating @ 40, latest SV = 5.204246659622686e-05\n",
      "WARNING:root:Truncating @ 40, latest SV = 3.1207954494243975e-06\n"
     ]
    },
    {
     "name": "stdout",
     "output_type": "stream",
     "text": [
      "126 [1, 2, 4, 6, 11, 18, 32, 40, 40, 40, 40, 40, 40, 40, 40, 40, 40, 40, 40, 40, 40, 40, 40, 40, 40, 32, 16, 8, 4, 2, 1]\n",
      "MPS with length 30 and physical d=2\n",
      "chi [1, 6, 12, 18, 33, 54, 96, 120, 120, 120, 120, 120, 120, 120, 120, 120, 120, 120, 120, 120, 120, 120, 120, 120, 120, 96, 48, 24, 12, 6, 1]\n"
     ]
    },
    {
     "name": "stderr",
     "output_type": "stream",
     "text": [
      "WARNING:root:Truncating @ 40, latest SV = 0.0010611676555960395\n",
      "WARNING:root:Truncating @ 40, latest SV = 0.0016773755839401966\n",
      "WARNING:root:Truncating @ 40, latest SV = 0.0025988687125057027\n",
      "WARNING:root:Truncating @ 40, latest SV = 0.0028616212955536236\n",
      "WARNING:root:Truncating @ 40, latest SV = 0.0029680792313666227\n",
      "WARNING:root:Truncating @ 40, latest SV = 0.0028451072308942294\n",
      "WARNING:root:Truncating @ 40, latest SV = 0.0027790889890646274\n",
      "WARNING:root:Truncating @ 40, latest SV = 0.0025822254092125797\n",
      "WARNING:root:Truncating @ 40, latest SV = 0.002335383947986145\n",
      "WARNING:root:Truncating @ 40, latest SV = 0.0019983768820127654\n",
      "WARNING:root:Truncating @ 40, latest SV = 0.0015023262649464307\n",
      "WARNING:root:Truncating @ 40, latest SV = 0.001313855728092934\n",
      "WARNING:root:Truncating @ 40, latest SV = 0.0010617299844512282\n",
      "WARNING:root:Truncating @ 40, latest SV = 0.0008316773972124598\n",
      "WARNING:root:Truncating @ 40, latest SV = 0.0006168638230524936\n",
      "WARNING:root:Truncating @ 40, latest SV = 0.00043174096423275675\n",
      "WARNING:root:Truncating @ 40, latest SV = 0.00015406450274027056\n",
      "WARNING:root:Truncating @ 40, latest SV = 6.733535758801403e-06\n"
     ]
    },
    {
     "name": "stdout",
     "output_type": "stream",
     "text": [
      "127 [1, 2, 4, 6, 9, 17, 33, 40, 40, 40, 40, 40, 40, 40, 40, 40, 40, 40, 40, 40, 40, 40, 40, 40, 40, 32, 16, 8, 4, 2, 1]\n",
      "MPS with length 30 and physical d=2\n",
      "chi [1, 6, 12, 18, 27, 51, 99, 120, 120, 120, 120, 120, 120, 120, 120, 120, 120, 120, 120, 120, 120, 120, 120, 120, 120, 96, 48, 24, 12, 6, 1]\n"
     ]
    },
    {
     "name": "stderr",
     "output_type": "stream",
     "text": [
      "WARNING:root:Truncating @ 40, latest SV = 0.0010614230189334682\n",
      "WARNING:root:Truncating @ 40, latest SV = 0.0017817433677619157\n",
      "WARNING:root:Truncating @ 40, latest SV = 0.00243105578312987\n",
      "WARNING:root:Truncating @ 40, latest SV = 0.0026857449979577944\n",
      "WARNING:root:Truncating @ 40, latest SV = 0.0029131319641103643\n",
      "WARNING:root:Truncating @ 40, latest SV = 0.002987832550914699\n",
      "WARNING:root:Truncating @ 40, latest SV = 0.003008576522621202\n",
      "WARNING:root:Truncating @ 40, latest SV = 0.0027710392071049754\n",
      "WARNING:root:Truncating @ 40, latest SV = 0.0025559639425192723\n",
      "WARNING:root:Truncating @ 40, latest SV = 0.0024022816795441194\n",
      "WARNING:root:Truncating @ 40, latest SV = 0.0020290708858452912\n",
      "WARNING:root:Truncating @ 40, latest SV = 0.0017908308274262803\n",
      "WARNING:root:Truncating @ 40, latest SV = 0.0014636144205375339\n",
      "WARNING:root:Truncating @ 40, latest SV = 0.0009734935167156028\n",
      "WARNING:root:Truncating @ 40, latest SV = 0.0006734098216299994\n",
      "WARNING:root:Truncating @ 40, latest SV = 0.0004703635512608097\n",
      "WARNING:root:Truncating @ 40, latest SV = 0.00023843214730966838\n",
      "WARNING:root:Truncating @ 40, latest SV = 3.223273386486335e-05\n"
     ]
    },
    {
     "name": "stdout",
     "output_type": "stream",
     "text": [
      "128 [1, 2, 3, 6, 9, 17, 33, 40, 40, 40, 40, 40, 40, 40, 40, 40, 40, 40, 40, 40, 40, 40, 40, 40, 40, 32, 16, 8, 4, 2, 1]\n",
      "MPS with length 30 and physical d=2\n",
      "chi [1, 6, 9, 18, 27, 51, 99, 120, 120, 120, 120, 120, 120, 120, 120, 120, 120, 120, 120, 120, 120, 120, 120, 120, 120, 96, 48, 24, 12, 6, 1]\n"
     ]
    },
    {
     "name": "stderr",
     "output_type": "stream",
     "text": [
      "WARNING:root:Truncating @ 40, latest SV = 0.0011649839862099918\n",
      "WARNING:root:Truncating @ 40, latest SV = 0.0018622808889236142\n",
      "WARNING:root:Truncating @ 40, latest SV = 0.0025864303395867557\n",
      "WARNING:root:Truncating @ 40, latest SV = 0.0030318786868771294\n",
      "WARNING:root:Truncating @ 40, latest SV = 0.0030990689864332957\n",
      "WARNING:root:Truncating @ 40, latest SV = 0.003281427169402345\n",
      "WARNING:root:Truncating @ 40, latest SV = 0.003050991809684785\n",
      "WARNING:root:Truncating @ 40, latest SV = 0.003014470428626266\n",
      "WARNING:root:Truncating @ 40, latest SV = 0.002702372105832468\n",
      "WARNING:root:Truncating @ 40, latest SV = 0.0025504931168362764\n",
      "WARNING:root:Truncating @ 40, latest SV = 0.002397524941981736\n",
      "WARNING:root:Truncating @ 40, latest SV = 0.0020611583896486727\n",
      "WARNING:root:Truncating @ 40, latest SV = 0.0017715155523447073\n",
      "WARNING:root:Truncating @ 40, latest SV = 0.0014025516184143385\n",
      "WARNING:root:Truncating @ 40, latest SV = 0.000957322301541651\n",
      "WARNING:root:Truncating @ 40, latest SV = 0.0006487141484080598\n",
      "WARNING:root:Truncating @ 40, latest SV = 0.0003395842668348312\n",
      "WARNING:root:Truncating @ 40, latest SV = 1.890131039583279e-05\n"
     ]
    },
    {
     "name": "stdout",
     "output_type": "stream",
     "text": [
      "129 [1, 2, 3, 5, 9, 16, 32, 40, 40, 40, 40, 40, 40, 40, 40, 40, 40, 40, 40, 40, 40, 40, 40, 40, 40, 32, 16, 8, 4, 2, 1]\n",
      "MPS with length 30 and physical d=2\n",
      "chi [1, 6, 9, 15, 27, 48, 96, 120, 120, 120, 120, 120, 120, 120, 120, 120, 120, 120, 120, 120, 120, 120, 120, 120, 120, 96, 48, 24, 12, 6, 1]\n"
     ]
    },
    {
     "name": "stderr",
     "output_type": "stream",
     "text": [
      "WARNING:root:Truncating @ 40, latest SV = 0.0009729861650060078\n",
      "WARNING:root:Truncating @ 40, latest SV = 0.0017813370559586247\n",
      "WARNING:root:Truncating @ 40, latest SV = 0.0026160685650783735\n",
      "WARNING:root:Truncating @ 40, latest SV = 0.003008598942942423\n",
      "WARNING:root:Truncating @ 40, latest SV = 0.0032432202710433447\n",
      "WARNING:root:Truncating @ 40, latest SV = 0.0034101748721538884\n",
      "WARNING:root:Truncating @ 40, latest SV = 0.003210271984709489\n",
      "WARNING:root:Truncating @ 40, latest SV = 0.0029033334723132117\n",
      "WARNING:root:Truncating @ 40, latest SV = 0.0027883177881266085\n",
      "WARNING:root:Truncating @ 40, latest SV = 0.002472218036577179\n",
      "WARNING:root:Truncating @ 40, latest SV = 0.002114189254283166\n",
      "WARNING:root:Truncating @ 40, latest SV = 0.001765481383213808\n",
      "WARNING:root:Truncating @ 40, latest SV = 0.0015548325184693952\n",
      "WARNING:root:Truncating @ 40, latest SV = 0.0011902638365123182\n",
      "WARNING:root:Truncating @ 40, latest SV = 0.0008868320038002245\n",
      "WARNING:root:Truncating @ 40, latest SV = 0.000492112516731421\n",
      "WARNING:root:Truncating @ 40, latest SV = 0.00019836259090906877\n",
      "WARNING:root:Truncating @ 40, latest SV = 1.4782571315470681e-05\n"
     ]
    },
    {
     "name": "stdout",
     "output_type": "stream",
     "text": [
      "130 [1, 2, 2, 4, 8, 16, 31, 40, 40, 40, 40, 40, 40, 40, 40, 40, 40, 40, 40, 40, 40, 40, 40, 40, 40, 32, 16, 8, 4, 2, 1]\n",
      "MPS with length 30 and physical d=2\n",
      "chi [1, 6, 6, 12, 24, 48, 93, 120, 120, 120, 120, 120, 120, 120, 120, 120, 120, 120, 120, 120, 120, 120, 120, 120, 120, 96, 48, 24, 12, 6, 1]\n"
     ]
    },
    {
     "name": "stderr",
     "output_type": "stream",
     "text": [
      "WARNING:root:Truncating @ 40, latest SV = 0.0008554072122960619\n",
      "WARNING:root:Truncating @ 40, latest SV = 0.0017200881533504884\n",
      "WARNING:root:Truncating @ 40, latest SV = 0.002614005026122492\n",
      "WARNING:root:Truncating @ 40, latest SV = 0.0030989667383791147\n",
      "WARNING:root:Truncating @ 40, latest SV = 0.0035491468325543687\n",
      "WARNING:root:Truncating @ 40, latest SV = 0.003522355478431514\n",
      "WARNING:root:Truncating @ 40, latest SV = 0.00359917302763645\n",
      "WARNING:root:Truncating @ 40, latest SV = 0.003438750316367425\n",
      "WARNING:root:Truncating @ 40, latest SV = 0.003119961791733603\n",
      "WARNING:root:Truncating @ 40, latest SV = 0.0028916732425127174\n",
      "WARNING:root:Truncating @ 40, latest SV = 0.0029762086015752724\n",
      "WARNING:root:Truncating @ 40, latest SV = 0.0024723668583695566\n",
      "WARNING:root:Truncating @ 40, latest SV = 0.0022478594835077287\n",
      "WARNING:root:Truncating @ 40, latest SV = 0.0018369018127934282\n",
      "WARNING:root:Truncating @ 40, latest SV = 0.0013183236082949046\n",
      "WARNING:root:Truncating @ 40, latest SV = 0.0006683940662251762\n",
      "WARNING:root:Truncating @ 40, latest SV = 0.00013188323499964787\n",
      "WARNING:root:Truncating @ 40, latest SV = 3.4713806063124985e-06\n"
     ]
    },
    {
     "name": "stdout",
     "output_type": "stream",
     "text": [
      "131 [1, 1, 2, 4, 8, 16, 32, 40, 40, 40, 40, 40, 40, 40, 40, 40, 40, 40, 40, 40, 40, 40, 40, 40, 40, 32, 16, 8, 4, 2, 1]\n",
      "MPS with length 30 and physical d=2\n",
      "chi [1, 3, 6, 12, 24, 48, 96, 120, 120, 120, 120, 120, 120, 120, 120, 120, 120, 120, 120, 120, 120, 120, 120, 120, 120, 96, 48, 24, 12, 6, 1]\n"
     ]
    },
    {
     "name": "stderr",
     "output_type": "stream",
     "text": [
      "WARNING:root:Truncating @ 40, latest SV = 0.0011881627024182186\n",
      "WARNING:root:Truncating @ 40, latest SV = 0.0018627358542242793\n",
      "WARNING:root:Truncating @ 40, latest SV = 0.0025695626316154826\n",
      "WARNING:root:Truncating @ 40, latest SV = 0.002884472952690076\n",
      "WARNING:root:Truncating @ 40, latest SV = 0.003180978571968912\n",
      "WARNING:root:Truncating @ 40, latest SV = 0.0032062756032089903\n",
      "WARNING:root:Truncating @ 40, latest SV = 0.0031977042959068246\n",
      "WARNING:root:Truncating @ 40, latest SV = 0.0030332746437964084\n",
      "WARNING:root:Truncating @ 40, latest SV = 0.002894525336631554\n",
      "WARNING:root:Truncating @ 40, latest SV = 0.0027079127512428082\n",
      "WARNING:root:Truncating @ 40, latest SV = 0.0021840936886801865\n",
      "WARNING:root:Truncating @ 40, latest SV = 0.0019266509371923806\n",
      "WARNING:root:Truncating @ 40, latest SV = 0.0016611519093652804\n",
      "WARNING:root:Truncating @ 40, latest SV = 0.0012304863785070233\n",
      "WARNING:root:Truncating @ 40, latest SV = 0.0006990363979467242\n",
      "WARNING:root:Truncating @ 40, latest SV = 0.00030724832812691955\n",
      "WARNING:root:Truncating @ 40, latest SV = 5.985427297080263e-05\n",
      "WARNING:root:Truncating @ 40, latest SV = 2.403204005807154e-06\n",
      "WARNING:root:Truncating @ 40, latest SV = 1.5714891833672486e-10\n"
     ]
    },
    {
     "name": "stdout",
     "output_type": "stream",
     "text": [
      "132 [1, 2, 4, 7, 13, 22, 40, 40, 40, 40, 40, 40, 40, 40, 40, 40, 40, 40, 40, 40, 40, 40, 40, 40, 40, 32, 16, 8, 4, 2, 1]\n",
      "MPS with length 30 and physical d=2\n",
      "chi [1, 6, 12, 21, 39, 66, 120, 120, 120, 120, 120, 120, 120, 120, 120, 120, 120, 120, 120, 120, 120, 120, 120, 120, 120, 96, 48, 24, 12, 6, 1]\n"
     ]
    },
    {
     "name": "stderr",
     "output_type": "stream",
     "text": [
      "WARNING:root:Truncating @ 40, latest SV = 0.0018394813693070264\n",
      "WARNING:root:Truncating @ 40, latest SV = 0.003080154995791769\n",
      "WARNING:root:Truncating @ 40, latest SV = 0.003799296940939796\n",
      "WARNING:root:Truncating @ 40, latest SV = 0.004451480079766811\n",
      "WARNING:root:Truncating @ 40, latest SV = 0.004444248924101333\n",
      "WARNING:root:Truncating @ 40, latest SV = 0.004834737409454273\n",
      "WARNING:root:Truncating @ 40, latest SV = 0.0047062373064882855\n",
      "WARNING:root:Truncating @ 40, latest SV = 0.004581978906281522\n",
      "WARNING:root:Truncating @ 40, latest SV = 0.004298626797514053\n",
      "WARNING:root:Truncating @ 40, latest SV = 0.0037097262760555486\n",
      "WARNING:root:Truncating @ 40, latest SV = 0.0036597445601073645\n",
      "WARNING:root:Truncating @ 40, latest SV = 0.0032945666250531747\n",
      "WARNING:root:Truncating @ 40, latest SV = 0.0025105234465627093\n",
      "WARNING:root:Truncating @ 40, latest SV = 0.0018004095338547245\n",
      "WARNING:root:Truncating @ 40, latest SV = 0.0012102766508081697\n",
      "WARNING:root:Truncating @ 40, latest SV = 0.0006460670308726398\n",
      "WARNING:root:Truncating @ 40, latest SV = 0.00017491733790523186\n",
      "WARNING:root:Truncating @ 40, latest SV = 5.813379023525868e-06\n",
      "WARNING:root:Truncating @ 40, latest SV = 1.4915304776400097e-08\n"
     ]
    },
    {
     "name": "stdout",
     "output_type": "stream",
     "text": [
      "133 [1, 2, 4, 8, 16, 30, 40, 40, 40, 40, 40, 40, 40, 40, 40, 40, 40, 40, 40, 40, 40, 40, 40, 40, 40, 32, 16, 8, 4, 2, 1]\n",
      "MPS with length 30 and physical d=2\n",
      "chi [1, 6, 12, 24, 48, 90, 120, 120, 120, 120, 120, 120, 120, 120, 120, 120, 120, 120, 120, 120, 120, 120, 120, 120, 120, 96, 48, 24, 12, 6, 1]\n"
     ]
    },
    {
     "name": "stderr",
     "output_type": "stream",
     "text": [
      "WARNING:root:Truncating @ 40, latest SV = 0.0011631460842689324\n",
      "WARNING:root:Truncating @ 40, latest SV = 0.001994173643422748\n",
      "WARNING:root:Truncating @ 40, latest SV = 0.002875996728511771\n",
      "WARNING:root:Truncating @ 40, latest SV = 0.0033881767826088155\n",
      "WARNING:root:Truncating @ 40, latest SV = 0.0034827988542320094\n",
      "WARNING:root:Truncating @ 40, latest SV = 0.003572873139070884\n",
      "WARNING:root:Truncating @ 40, latest SV = 0.003762125215691936\n",
      "WARNING:root:Truncating @ 40, latest SV = 0.00363404859604151\n",
      "WARNING:root:Truncating @ 40, latest SV = 0.0032291581027423123\n",
      "WARNING:root:Truncating @ 40, latest SV = 0.003016551898114192\n",
      "WARNING:root:Truncating @ 40, latest SV = 0.0024418956031030223\n",
      "WARNING:root:Truncating @ 40, latest SV = 0.0020006671732889407\n",
      "WARNING:root:Truncating @ 40, latest SV = 0.0014620794375289465\n",
      "WARNING:root:Truncating @ 40, latest SV = 0.0009524391690238215\n",
      "WARNING:root:Truncating @ 40, latest SV = 0.0005568250472728628\n",
      "WARNING:root:Truncating @ 40, latest SV = 0.00025686293847235485\n",
      "WARNING:root:Truncating @ 40, latest SV = 7.552285053122096e-05\n",
      "WARNING:root:Truncating @ 40, latest SV = 1.8901544700532675e-06\n",
      "WARNING:root:Truncating @ 40, latest SV = 3.0017729192078837e-08\n"
     ]
    },
    {
     "name": "stdout",
     "output_type": "stream",
     "text": [
      "134 [1, 2, 4, 8, 16, 30, 40, 40, 40, 40, 40, 40, 40, 40, 40, 40, 40, 40, 40, 40, 40, 40, 40, 40, 40, 32, 16, 8, 4, 2, 1]\n",
      "MPS with length 30 and physical d=2\n",
      "chi [1, 6, 12, 24, 48, 90, 120, 120, 120, 120, 120, 120, 120, 120, 120, 120, 120, 120, 120, 120, 120, 120, 120, 120, 120, 96, 48, 24, 12, 6, 1]\n"
     ]
    },
    {
     "name": "stderr",
     "output_type": "stream",
     "text": [
      "WARNING:root:Truncating @ 40, latest SV = 0.0011656289413134399\n",
      "WARNING:root:Truncating @ 40, latest SV = 0.0019138021827824403\n",
      "WARNING:root:Truncating @ 40, latest SV = 0.0025335726929555263\n",
      "WARNING:root:Truncating @ 40, latest SV = 0.0029154923161732174\n",
      "WARNING:root:Truncating @ 40, latest SV = 0.0029973694455565887\n",
      "WARNING:root:Truncating @ 40, latest SV = 0.0031791802487160198\n",
      "WARNING:root:Truncating @ 40, latest SV = 0.0030700528758174765\n",
      "WARNING:root:Truncating @ 40, latest SV = 0.003033083540699083\n",
      "WARNING:root:Truncating @ 40, latest SV = 0.0025772102150141414\n",
      "WARNING:root:Truncating @ 40, latest SV = 0.002215244081201878\n",
      "WARNING:root:Truncating @ 40, latest SV = 0.0018606032961089394\n",
      "WARNING:root:Truncating @ 40, latest SV = 0.0015512140541896343\n",
      "WARNING:root:Truncating @ 40, latest SV = 0.001163416833480755\n",
      "WARNING:root:Truncating @ 40, latest SV = 0.0007237740245576928\n",
      "WARNING:root:Truncating @ 40, latest SV = 0.00023512787160924432\n",
      "WARNING:root:Truncating @ 40, latest SV = 8.584593183647138e-05\n",
      "WARNING:root:Truncating @ 40, latest SV = 2.7192004760620402e-05\n",
      "WARNING:root:Truncating @ 40, latest SV = 1.89465999611879e-06\n",
      "WARNING:root:Truncating @ 40, latest SV = 4.136739360975727e-08\n"
     ]
    },
    {
     "name": "stdout",
     "output_type": "stream",
     "text": [
      "135 [1, 2, 4, 8, 16, 30, 40, 40, 40, 40, 40, 40, 40, 40, 40, 40, 40, 40, 40, 40, 40, 40, 40, 40, 40, 32, 16, 8, 4, 2, 1]\n",
      "MPS with length 30 and physical d=2\n",
      "chi [1, 6, 12, 24, 48, 90, 120, 120, 120, 120, 120, 120, 120, 120, 120, 120, 120, 120, 120, 120, 120, 120, 120, 120, 120, 96, 48, 24, 12, 6, 1]\n"
     ]
    },
    {
     "name": "stderr",
     "output_type": "stream",
     "text": [
      "WARNING:root:Truncating @ 40, latest SV = 0.0010173365100511114\n",
      "WARNING:root:Truncating @ 40, latest SV = 0.0018178397571846855\n",
      "WARNING:root:Truncating @ 40, latest SV = 0.0025790678242252414\n",
      "WARNING:root:Truncating @ 40, latest SV = 0.002968939063190191\n",
      "WARNING:root:Truncating @ 40, latest SV = 0.0029065589374612697\n",
      "WARNING:root:Truncating @ 40, latest SV = 0.0030623761806918394\n",
      "WARNING:root:Truncating @ 40, latest SV = 0.0029373519261485666\n",
      "WARNING:root:Truncating @ 40, latest SV = 0.002770449063231157\n",
      "WARNING:root:Truncating @ 40, latest SV = 0.0025524913764696623\n",
      "WARNING:root:Truncating @ 40, latest SV = 0.002364658047755997\n",
      "WARNING:root:Truncating @ 40, latest SV = 0.0021401033711525978\n",
      "WARNING:root:Truncating @ 40, latest SV = 0.0017198547721189658\n",
      "WARNING:root:Truncating @ 40, latest SV = 0.0012605686127499715\n",
      "WARNING:root:Truncating @ 40, latest SV = 0.000708681364828442\n",
      "WARNING:root:Truncating @ 40, latest SV = 0.00022185528528496885\n",
      "WARNING:root:Truncating @ 40, latest SV = 6.108935567850146e-05\n",
      "WARNING:root:Truncating @ 40, latest SV = 2.439279666697577e-05\n",
      "WARNING:root:Truncating @ 40, latest SV = 1.2713895534594884e-06\n",
      "WARNING:root:Truncating @ 40, latest SV = 3.9642519200690926e-08\n"
     ]
    },
    {
     "name": "stdout",
     "output_type": "stream",
     "text": [
      "136 [1, 2, 4, 8, 16, 31, 40, 40, 40, 40, 40, 40, 40, 40, 40, 40, 40, 40, 40, 40, 40, 40, 40, 40, 40, 32, 16, 8, 4, 2, 1]\n",
      "MPS with length 30 and physical d=2\n",
      "chi [1, 6, 12, 24, 48, 93, 120, 120, 120, 120, 120, 120, 120, 120, 120, 120, 120, 120, 120, 120, 120, 120, 120, 120, 120, 96, 48, 24, 12, 6, 1]\n"
     ]
    },
    {
     "name": "stderr",
     "output_type": "stream",
     "text": [
      "WARNING:root:Truncating @ 40, latest SV = 0.001035856408722396\n",
      "WARNING:root:Truncating @ 40, latest SV = 0.0018363479606816236\n",
      "WARNING:root:Truncating @ 40, latest SV = 0.002664482716977347\n",
      "WARNING:root:Truncating @ 40, latest SV = 0.0031318490955438575\n",
      "WARNING:root:Truncating @ 40, latest SV = 0.003263002260020555\n",
      "WARNING:root:Truncating @ 40, latest SV = 0.0034388798758409685\n",
      "WARNING:root:Truncating @ 40, latest SV = 0.003466211199750581\n",
      "WARNING:root:Truncating @ 40, latest SV = 0.003329017001030097\n",
      "WARNING:root:Truncating @ 40, latest SV = 0.0030779319908866287\n",
      "WARNING:root:Truncating @ 40, latest SV = 0.002653110188747061\n",
      "WARNING:root:Truncating @ 40, latest SV = 0.0021235501019818115\n",
      "WARNING:root:Truncating @ 40, latest SV = 0.00167436780799488\n",
      "WARNING:root:Truncating @ 40, latest SV = 0.0011692113112409632\n",
      "WARNING:root:Truncating @ 40, latest SV = 0.0005599058018304261\n",
      "WARNING:root:Truncating @ 40, latest SV = 0.00012763988924083638\n",
      "WARNING:root:Truncating @ 40, latest SV = 5.994178324077544e-05\n",
      "WARNING:root:Truncating @ 40, latest SV = 3.0171524202731793e-05\n",
      "WARNING:root:Truncating @ 40, latest SV = 1.486940446066189e-06\n",
      "WARNING:root:Truncating @ 40, latest SV = 3.316016406468715e-08\n"
     ]
    },
    {
     "name": "stdout",
     "output_type": "stream",
     "text": [
      "137 [1, 2, 4, 8, 16, 30, 40, 40, 40, 40, 40, 40, 40, 40, 40, 40, 40, 40, 40, 40, 40, 40, 40, 40, 40, 32, 16, 8, 4, 2, 1]\n",
      "MPS with length 30 and physical d=2\n",
      "chi [1, 6, 12, 24, 48, 90, 120, 120, 120, 120, 120, 120, 120, 120, 120, 120, 120, 120, 120, 120, 120, 120, 120, 120, 120, 96, 48, 24, 12, 6, 1]\n"
     ]
    },
    {
     "name": "stderr",
     "output_type": "stream",
     "text": [
      "WARNING:root:Truncating @ 40, latest SV = 0.001169034671889716\n",
      "WARNING:root:Truncating @ 40, latest SV = 0.002305797726754363\n",
      "WARNING:root:Truncating @ 40, latest SV = 0.003661241013570336\n",
      "WARNING:root:Truncating @ 40, latest SV = 0.0045654756073968145\n",
      "WARNING:root:Truncating @ 40, latest SV = 0.004961526536594614\n",
      "WARNING:root:Truncating @ 40, latest SV = 0.0050406495971072095\n",
      "WARNING:root:Truncating @ 40, latest SV = 0.00488094468721342\n",
      "WARNING:root:Truncating @ 40, latest SV = 0.004511590528548399\n",
      "WARNING:root:Truncating @ 40, latest SV = 0.004308278031839903\n",
      "WARNING:root:Truncating @ 40, latest SV = 0.0039001408115629517\n",
      "WARNING:root:Truncating @ 40, latest SV = 0.0032795033627643173\n",
      "WARNING:root:Truncating @ 40, latest SV = 0.0027418538322320947\n",
      "WARNING:root:Truncating @ 40, latest SV = 0.0018780600010574714\n",
      "WARNING:root:Truncating @ 40, latest SV = 0.0011910056836317404\n",
      "WARNING:root:Truncating @ 40, latest SV = 0.00039609914699710445\n",
      "WARNING:root:Truncating @ 40, latest SV = 0.00017355918480230686\n",
      "WARNING:root:Truncating @ 40, latest SV = 4.8874776537283965e-05\n",
      "WARNING:root:Truncating @ 40, latest SV = 4.764988691780438e-06\n",
      "WARNING:root:Truncating @ 40, latest SV = 8.553237127013093e-09\n"
     ]
    },
    {
     "name": "stdout",
     "output_type": "stream",
     "text": [
      "138 [1, 2, 4, 8, 15, 28, 40, 40, 40, 40, 40, 40, 40, 40, 40, 40, 40, 40, 40, 40, 40, 40, 40, 40, 40, 32, 16, 8, 4, 2, 1]\n",
      "MPS with length 30 and physical d=2\n",
      "chi [1, 6, 12, 24, 45, 84, 120, 120, 120, 120, 120, 120, 120, 120, 120, 120, 120, 120, 120, 120, 120, 120, 120, 120, 120, 96, 48, 24, 12, 6, 1]\n"
     ]
    },
    {
     "name": "stderr",
     "output_type": "stream",
     "text": [
      "WARNING:root:Truncating @ 40, latest SV = 0.0012065042500142677\n",
      "WARNING:root:Truncating @ 40, latest SV = 0.0019084850905210498\n",
      "WARNING:root:Truncating @ 40, latest SV = 0.002971232626749405\n",
      "WARNING:root:Truncating @ 40, latest SV = 0.0038748408206785282\n",
      "WARNING:root:Truncating @ 40, latest SV = 0.004254226220782629\n",
      "WARNING:root:Truncating @ 40, latest SV = 0.0041228259820102085\n",
      "WARNING:root:Truncating @ 40, latest SV = 0.00398338925124264\n",
      "WARNING:root:Truncating @ 40, latest SV = 0.003593515963313662\n",
      "WARNING:root:Truncating @ 40, latest SV = 0.0036019949899792885\n",
      "WARNING:root:Truncating @ 40, latest SV = 0.003162649585565806\n",
      "WARNING:root:Truncating @ 40, latest SV = 0.002534517845253896\n",
      "WARNING:root:Truncating @ 40, latest SV = 0.0018081104818987326\n",
      "WARNING:root:Truncating @ 40, latest SV = 0.0012011978075382964\n",
      "WARNING:root:Truncating @ 40, latest SV = 0.0005077601550207255\n",
      "WARNING:root:Truncating @ 40, latest SV = 0.00015532092392643373\n",
      "WARNING:root:Truncating @ 40, latest SV = 9.236431000126958e-05\n",
      "WARNING:root:Truncating @ 40, latest SV = 3.172043644101667e-05\n",
      "WARNING:root:Truncating @ 40, latest SV = 6.092020080314601e-07\n",
      "WARNING:root:Truncating @ 40, latest SV = 6.727160485835297e-09\n"
     ]
    },
    {
     "name": "stdout",
     "output_type": "stream",
     "text": [
      "139 [1, 2, 4, 8, 14, 26, 40, 40, 40, 40, 40, 40, 40, 40, 40, 40, 40, 40, 40, 40, 40, 40, 40, 40, 40, 32, 16, 8, 4, 2, 1]\n",
      "MPS with length 30 and physical d=2\n",
      "chi [1, 6, 12, 24, 42, 78, 120, 120, 120, 120, 120, 120, 120, 120, 120, 120, 120, 120, 120, 120, 120, 120, 120, 120, 120, 96, 48, 24, 12, 6, 1]\n"
     ]
    },
    {
     "name": "stderr",
     "output_type": "stream",
     "text": [
      "WARNING:root:Truncating @ 40, latest SV = 0.000934890722941863\n",
      "WARNING:root:Truncating @ 40, latest SV = 0.0016096218176521603\n",
      "WARNING:root:Truncating @ 40, latest SV = 0.00280233005035743\n",
      "WARNING:root:Truncating @ 40, latest SV = 0.0030824221241152264\n",
      "WARNING:root:Truncating @ 40, latest SV = 0.003499162455428374\n",
      "WARNING:root:Truncating @ 40, latest SV = 0.0034554112415102665\n",
      "WARNING:root:Truncating @ 40, latest SV = 0.0033845299713856102\n",
      "WARNING:root:Truncating @ 40, latest SV = 0.003275661527917024\n",
      "WARNING:root:Truncating @ 40, latest SV = 0.0028921761860557925\n",
      "WARNING:root:Truncating @ 40, latest SV = 0.0026337128730740335\n",
      "WARNING:root:Truncating @ 40, latest SV = 0.0022153495427919526\n",
      "WARNING:root:Truncating @ 40, latest SV = 0.001868776000464448\n",
      "WARNING:root:Truncating @ 40, latest SV = 0.0014783629258760629\n",
      "WARNING:root:Truncating @ 40, latest SV = 0.0010206990233017125\n",
      "WARNING:root:Truncating @ 40, latest SV = 0.000489901729041657\n",
      "WARNING:root:Truncating @ 40, latest SV = 0.00019742705547949737\n",
      "WARNING:root:Truncating @ 40, latest SV = 4.2379277936444966e-05\n",
      "WARNING:root:Truncating @ 40, latest SV = 2.3948807309874857e-06\n",
      "WARNING:root:Truncating @ 40, latest SV = 2.290290264951991e-09\n"
     ]
    },
    {
     "name": "stdout",
     "output_type": "stream",
     "text": [
      "140 [1, 2, 4, 8, 15, 26, 40, 40, 40, 40, 40, 40, 40, 40, 40, 40, 40, 40, 40, 40, 40, 40, 40, 40, 40, 32, 16, 8, 4, 2, 1]\n",
      "MPS with length 30 and physical d=2\n",
      "chi [1, 6, 12, 24, 45, 78, 120, 120, 120, 120, 120, 120, 120, 120, 120, 120, 120, 120, 120, 120, 120, 120, 120, 120, 120, 96, 48, 24, 12, 6, 1]\n"
     ]
    },
    {
     "name": "stderr",
     "output_type": "stream",
     "text": [
      "WARNING:root:Truncating @ 40, latest SV = 0.0008045701208513682\n",
      "WARNING:root:Truncating @ 40, latest SV = 0.0015923183570438664\n",
      "WARNING:root:Truncating @ 40, latest SV = 0.0023665650271186126\n",
      "WARNING:root:Truncating @ 40, latest SV = 0.002842538602822252\n",
      "WARNING:root:Truncating @ 40, latest SV = 0.0030145426527492143\n",
      "WARNING:root:Truncating @ 40, latest SV = 0.0029575575952473874\n",
      "WARNING:root:Truncating @ 40, latest SV = 0.00283376579849524\n",
      "WARNING:root:Truncating @ 40, latest SV = 0.0028515716111296415\n",
      "WARNING:root:Truncating @ 40, latest SV = 0.0025613648972888877\n",
      "WARNING:root:Truncating @ 40, latest SV = 0.0023324416782546757\n",
      "WARNING:root:Truncating @ 40, latest SV = 0.001941184156236294\n",
      "WARNING:root:Truncating @ 40, latest SV = 0.0014708159860371967\n",
      "WARNING:root:Truncating @ 40, latest SV = 0.0011134590169343689\n",
      "WARNING:root:Truncating @ 40, latest SV = 0.0006876864929992235\n",
      "WARNING:root:Truncating @ 40, latest SV = 0.0003697100024770656\n",
      "WARNING:root:Truncating @ 40, latest SV = 9.614185978257284e-05\n",
      "WARNING:root:Truncating @ 40, latest SV = 8.028546667033154e-06\n",
      "WARNING:root:Truncating @ 40, latest SV = 4.058932664969549e-07\n",
      "WARNING:root:Truncating @ 40, latest SV = 4.0813476086840955e-09\n"
     ]
    },
    {
     "name": "stdout",
     "output_type": "stream",
     "text": [
      "141 [1, 2, 4, 8, 15, 27, 40, 40, 40, 40, 40, 40, 40, 40, 40, 40, 40, 40, 40, 40, 40, 40, 40, 40, 40, 32, 16, 8, 4, 2, 1]\n",
      "MPS with length 30 and physical d=2\n",
      "chi [1, 6, 12, 24, 45, 81, 120, 120, 120, 120, 120, 120, 120, 120, 120, 120, 120, 120, 120, 120, 120, 120, 120, 120, 120, 96, 48, 24, 12, 6, 1]\n"
     ]
    },
    {
     "name": "stderr",
     "output_type": "stream",
     "text": [
      "WARNING:root:Truncating @ 40, latest SV = 0.0007248848854990613\n",
      "WARNING:root:Truncating @ 40, latest SV = 0.0012214621319308972\n",
      "WARNING:root:Truncating @ 40, latest SV = 0.001935739523752783\n",
      "WARNING:root:Truncating @ 40, latest SV = 0.0022928986860570382\n",
      "WARNING:root:Truncating @ 40, latest SV = 0.002498519165718913\n",
      "WARNING:root:Truncating @ 40, latest SV = 0.00268956585400475\n",
      "WARNING:root:Truncating @ 40, latest SV = 0.0027759378038783133\n",
      "WARNING:root:Truncating @ 40, latest SV = 0.002577902765323326\n",
      "WARNING:root:Truncating @ 40, latest SV = 0.0023536593708188866\n",
      "WARNING:root:Truncating @ 40, latest SV = 0.002248734379641137\n",
      "WARNING:root:Truncating @ 40, latest SV = 0.001986864973887354\n",
      "WARNING:root:Truncating @ 40, latest SV = 0.0016894045269423643\n",
      "WARNING:root:Truncating @ 40, latest SV = 0.0012923923695485468\n",
      "WARNING:root:Truncating @ 40, latest SV = 0.0008150920131380674\n",
      "WARNING:root:Truncating @ 40, latest SV = 0.00031063549177858614\n",
      "WARNING:root:Truncating @ 40, latest SV = 0.0001414132830675299\n",
      "WARNING:root:Truncating @ 40, latest SV = 3.44319406151249e-05\n",
      "WARNING:root:Truncating @ 40, latest SV = 1.4823856048058723e-06\n",
      "WARNING:root:Truncating @ 40, latest SV = 2.9030399623159404e-09\n"
     ]
    },
    {
     "name": "stdout",
     "output_type": "stream",
     "text": [
      "142 [1, 2, 4, 8, 14, 25, 40, 40, 40, 40, 40, 40, 40, 40, 40, 40, 40, 40, 40, 40, 40, 40, 40, 40, 40, 32, 16, 8, 4, 2, 1]\n",
      "MPS with length 30 and physical d=2\n",
      "chi [1, 6, 12, 24, 42, 75, 120, 120, 120, 120, 120, 120, 120, 120, 120, 120, 120, 120, 120, 120, 120, 120, 120, 120, 120, 96, 48, 24, 12, 6, 1]\n"
     ]
    },
    {
     "name": "stderr",
     "output_type": "stream",
     "text": [
      "WARNING:root:Truncating @ 40, latest SV = 0.0009279710169521488\n",
      "WARNING:root:Truncating @ 40, latest SV = 0.001684845126218059\n",
      "WARNING:root:Truncating @ 40, latest SV = 0.002302960406631762\n",
      "WARNING:root:Truncating @ 40, latest SV = 0.00291168336088813\n",
      "WARNING:root:Truncating @ 40, latest SV = 0.0030170311493350984\n",
      "WARNING:root:Truncating @ 40, latest SV = 0.002980206836414758\n",
      "WARNING:root:Truncating @ 40, latest SV = 0.0028505201426632684\n",
      "WARNING:root:Truncating @ 40, latest SV = 0.002800457437980485\n",
      "WARNING:root:Truncating @ 40, latest SV = 0.002477539881268807\n",
      "WARNING:root:Truncating @ 40, latest SV = 0.002156510131772937\n",
      "WARNING:root:Truncating @ 40, latest SV = 0.001988573694177643\n",
      "WARNING:root:Truncating @ 40, latest SV = 0.0016351663659907696\n",
      "WARNING:root:Truncating @ 40, latest SV = 0.0009557813551552839\n",
      "WARNING:root:Truncating @ 40, latest SV = 0.0004779532445722768\n",
      "WARNING:root:Truncating @ 40, latest SV = 0.0002005189771009409\n",
      "WARNING:root:Truncating @ 40, latest SV = 5.833986309631694e-05\n",
      "WARNING:root:Truncating @ 40, latest SV = 1.2722123987779283e-05\n",
      "WARNING:root:Truncating @ 40, latest SV = 2.788974232920299e-07\n",
      "WARNING:root:Truncating @ 40, latest SV = 8.800971321660116e-10\n"
     ]
    },
    {
     "name": "stdout",
     "output_type": "stream",
     "text": [
      "143 [1, 2, 4, 8, 14, 25, 40, 40, 40, 40, 40, 40, 40, 40, 40, 40, 40, 40, 40, 40, 40, 40, 40, 40, 40, 32, 16, 8, 4, 2, 1]\n",
      "MPS with length 30 and physical d=2\n",
      "chi [1, 6, 12, 24, 42, 75, 120, 120, 120, 120, 120, 120, 120, 120, 120, 120, 120, 120, 120, 120, 120, 120, 120, 120, 120, 96, 48, 24, 12, 6, 1]\n"
     ]
    },
    {
     "name": "stderr",
     "output_type": "stream",
     "text": [
      "WARNING:root:Truncating @ 40, latest SV = 0.0009440721037049033\n",
      "WARNING:root:Truncating @ 40, latest SV = 0.001719671271218389\n",
      "WARNING:root:Truncating @ 40, latest SV = 0.0024230585817619447\n",
      "WARNING:root:Truncating @ 40, latest SV = 0.0028197494839004252\n",
      "WARNING:root:Truncating @ 40, latest SV = 0.003142021826377291\n",
      "WARNING:root:Truncating @ 40, latest SV = 0.00323360046713811\n",
      "WARNING:root:Truncating @ 40, latest SV = 0.003364913084545516\n",
      "WARNING:root:Truncating @ 40, latest SV = 0.00326546341705866\n",
      "WARNING:root:Truncating @ 40, latest SV = 0.0031567316411685695\n",
      "WARNING:root:Truncating @ 40, latest SV = 0.002974178183848272\n",
      "WARNING:root:Truncating @ 40, latest SV = 0.0025597981140165903\n",
      "WARNING:root:Truncating @ 40, latest SV = 0.002339904219334439\n",
      "WARNING:root:Truncating @ 40, latest SV = 0.0019310255372942092\n",
      "WARNING:root:Truncating @ 40, latest SV = 0.001353875863628822\n",
      "WARNING:root:Truncating @ 40, latest SV = 0.0006080626219569157\n",
      "WARNING:root:Truncating @ 40, latest SV = 0.00019016725982877366\n",
      "WARNING:root:Truncating @ 40, latest SV = 2.476437453175239e-05\n",
      "WARNING:root:Truncating @ 40, latest SV = 1.5224143205574947e-06\n",
      "WARNING:root:Truncating @ 40, latest SV = 3.081376535466116e-10\n"
     ]
    },
    {
     "name": "stdout",
     "output_type": "stream",
     "text": [
      "144 [1, 2, 4, 8, 14, 25, 40, 40, 40, 40, 40, 40, 40, 40, 40, 40, 40, 40, 40, 40, 40, 40, 40, 40, 40, 32, 16, 8, 4, 2, 1]\n",
      "MPS with length 30 and physical d=2\n",
      "chi [1, 6, 12, 24, 42, 75, 120, 120, 120, 120, 120, 120, 120, 120, 120, 120, 120, 120, 120, 120, 120, 120, 120, 120, 120, 96, 48, 24, 12, 6, 1]\n"
     ]
    },
    {
     "name": "stderr",
     "output_type": "stream",
     "text": [
      "WARNING:root:Truncating @ 40, latest SV = 0.000754332149706963\n",
      "WARNING:root:Truncating @ 40, latest SV = 0.0014216081240762668\n",
      "WARNING:root:Truncating @ 40, latest SV = 0.00209008203849362\n",
      "WARNING:root:Truncating @ 40, latest SV = 0.002602177533962808\n",
      "WARNING:root:Truncating @ 40, latest SV = 0.002824688089946284\n",
      "WARNING:root:Truncating @ 40, latest SV = 0.0029421626244939885\n",
      "WARNING:root:Truncating @ 40, latest SV = 0.002937330172841768\n",
      "WARNING:root:Truncating @ 40, latest SV = 0.002698867849537964\n",
      "WARNING:root:Truncating @ 40, latest SV = 0.002443144044832675\n",
      "WARNING:root:Truncating @ 40, latest SV = 0.002214622014726876\n",
      "WARNING:root:Truncating @ 40, latest SV = 0.002199332806326531\n",
      "WARNING:root:Truncating @ 40, latest SV = 0.0017154472275109098\n",
      "WARNING:root:Truncating @ 40, latest SV = 0.0012852007878777119\n",
      "WARNING:root:Truncating @ 40, latest SV = 0.0007094579286189945\n",
      "WARNING:root:Truncating @ 40, latest SV = 0.00014682969205275873\n",
      "WARNING:root:Truncating @ 40, latest SV = 6.570525867440904e-05\n",
      "WARNING:root:Truncating @ 40, latest SV = 1.8314042404006126e-05\n",
      "WARNING:root:Truncating @ 40, latest SV = 2.1840315944334625e-07\n",
      "WARNING:root:Truncating @ 40, latest SV = 1.95747511763638e-10\n"
     ]
    },
    {
     "name": "stdout",
     "output_type": "stream",
     "text": [
      "145 [1, 2, 4, 7, 13, 24, 40, 40, 40, 40, 40, 40, 40, 40, 40, 40, 40, 40, 40, 40, 40, 40, 40, 40, 40, 32, 16, 8, 4, 2, 1]\n",
      "MPS with length 30 and physical d=2\n",
      "chi [1, 6, 12, 21, 39, 72, 120, 120, 120, 120, 120, 120, 120, 120, 120, 120, 120, 120, 120, 120, 120, 120, 120, 120, 120, 96, 48, 24, 12, 6, 1]\n"
     ]
    },
    {
     "name": "stderr",
     "output_type": "stream",
     "text": [
      "WARNING:root:Truncating @ 40, latest SV = 0.0007111143733131006\n",
      "WARNING:root:Truncating @ 40, latest SV = 0.0011949816258344662\n",
      "WARNING:root:Truncating @ 40, latest SV = 0.001794574563330071\n",
      "WARNING:root:Truncating @ 40, latest SV = 0.0023595863516989147\n",
      "WARNING:root:Truncating @ 40, latest SV = 0.0024397691675301075\n",
      "WARNING:root:Truncating @ 40, latest SV = 0.002583698662901263\n",
      "WARNING:root:Truncating @ 40, latest SV = 0.0025529716488983537\n",
      "WARNING:root:Truncating @ 40, latest SV = 0.002407101732047678\n",
      "WARNING:root:Truncating @ 40, latest SV = 0.0022385512138901023\n",
      "WARNING:root:Truncating @ 40, latest SV = 0.0020295877477799883\n",
      "WARNING:root:Truncating @ 40, latest SV = 0.001686060808982513\n",
      "WARNING:root:Truncating @ 40, latest SV = 0.001266569571176514\n",
      "WARNING:root:Truncating @ 40, latest SV = 0.0009002741133849679\n",
      "WARNING:root:Truncating @ 40, latest SV = 0.0005444684895098873\n",
      "WARNING:root:Truncating @ 40, latest SV = 0.00026780236305140294\n",
      "WARNING:root:Truncating @ 40, latest SV = 0.00011530305207025049\n",
      "WARNING:root:Truncating @ 40, latest SV = 3.710146042709522e-05\n",
      "WARNING:root:Truncating @ 40, latest SV = 1.9028314708596756e-06\n",
      "WARNING:root:Truncating @ 40, latest SV = 4.5012613822743373e-10\n"
     ]
    },
    {
     "name": "stdout",
     "output_type": "stream",
     "text": [
      "146 [1, 2, 4, 7, 14, 24, 40, 40, 40, 40, 40, 40, 40, 40, 40, 40, 40, 40, 40, 40, 40, 40, 40, 40, 40, 32, 16, 8, 4, 2, 1]\n",
      "MPS with length 30 and physical d=2\n",
      "chi [1, 6, 12, 21, 42, 72, 120, 120, 120, 120, 120, 120, 120, 120, 120, 120, 120, 120, 120, 120, 120, 120, 120, 120, 120, 96, 48, 24, 12, 6, 1]\n"
     ]
    },
    {
     "name": "stderr",
     "output_type": "stream",
     "text": [
      "WARNING:root:Truncating @ 40, latest SV = 0.0012900196725045318\n",
      "WARNING:root:Truncating @ 40, latest SV = 0.0019840182960507123\n",
      "WARNING:root:Truncating @ 40, latest SV = 0.0026993656485409796\n",
      "WARNING:root:Truncating @ 40, latest SV = 0.003233180260635931\n",
      "WARNING:root:Truncating @ 40, latest SV = 0.003310791778972507\n",
      "WARNING:root:Truncating @ 40, latest SV = 0.003547365748993442\n",
      "WARNING:root:Truncating @ 40, latest SV = 0.003227766161761959\n",
      "WARNING:root:Truncating @ 40, latest SV = 0.0031545558164715695\n",
      "WARNING:root:Truncating @ 40, latest SV = 0.002879818517497005\n",
      "WARNING:root:Truncating @ 40, latest SV = 0.002742981131243937\n",
      "WARNING:root:Truncating @ 40, latest SV = 0.0023025199682450595\n",
      "WARNING:root:Truncating @ 40, latest SV = 0.0018978014888730312\n",
      "WARNING:root:Truncating @ 40, latest SV = 0.0013496016461424826\n",
      "WARNING:root:Truncating @ 40, latest SV = 0.0007443540614589872\n",
      "WARNING:root:Truncating @ 40, latest SV = 0.00025415420851096477\n",
      "WARNING:root:Truncating @ 40, latest SV = 0.00011779884262291221\n",
      "WARNING:root:Truncating @ 40, latest SV = 3.566560088947719e-05\n",
      "WARNING:root:Truncating @ 40, latest SV = 3.713908296938613e-07\n",
      "WARNING:root:Truncating @ 40, latest SV = 7.397362995835088e-10\n"
     ]
    },
    {
     "name": "stdout",
     "output_type": "stream",
     "text": [
      "147 [1, 2, 4, 8, 15, 27, 40, 40, 40, 40, 40, 40, 40, 40, 40, 40, 40, 40, 40, 40, 40, 40, 40, 40, 40, 32, 16, 8, 4, 2, 1]\n",
      "MPS with length 30 and physical d=2\n",
      "chi [1, 6, 12, 24, 45, 81, 120, 120, 120, 120, 120, 120, 120, 120, 120, 120, 120, 120, 120, 120, 120, 120, 120, 120, 120, 96, 48, 24, 12, 6, 1]\n"
     ]
    },
    {
     "name": "stderr",
     "output_type": "stream",
     "text": [
      "WARNING:root:Truncating @ 40, latest SV = 0.00144053567182459\n",
      "WARNING:root:Truncating @ 40, latest SV = 0.0025793012323634262\n",
      "WARNING:root:Truncating @ 40, latest SV = 0.00390461080407346\n",
      "WARNING:root:Truncating @ 40, latest SV = 0.004572117161598587\n",
      "WARNING:root:Truncating @ 40, latest SV = 0.00495695402766854\n",
      "WARNING:root:Truncating @ 40, latest SV = 0.005056085836539398\n",
      "WARNING:root:Truncating @ 40, latest SV = 0.004847687125628529\n",
      "WARNING:root:Truncating @ 40, latest SV = 0.004561373650497349\n",
      "WARNING:root:Truncating @ 40, latest SV = 0.004250618177218453\n",
      "WARNING:root:Truncating @ 40, latest SV = 0.003831867416759863\n",
      "WARNING:root:Truncating @ 40, latest SV = 0.003164743422694943\n",
      "WARNING:root:Truncating @ 40, latest SV = 0.0024907361230399787\n",
      "WARNING:root:Truncating @ 40, latest SV = 0.0018824439589888832\n",
      "WARNING:root:Truncating @ 40, latest SV = 0.0010514832660482518\n",
      "WARNING:root:Truncating @ 40, latest SV = 0.0005151073633565287\n",
      "WARNING:root:Truncating @ 40, latest SV = 0.00026036975157136335\n",
      "WARNING:root:Truncating @ 40, latest SV = 6.956063863629292e-05\n",
      "WARNING:root:Truncating @ 40, latest SV = 4.029136737867488e-06\n",
      "WARNING:root:Truncating @ 40, latest SV = 1.3186814760526553e-09\n"
     ]
    },
    {
     "name": "stdout",
     "output_type": "stream",
     "text": [
      "148 [1, 2, 4, 7, 13, 25, 40, 40, 40, 40, 40, 40, 40, 40, 40, 40, 40, 40, 40, 40, 40, 40, 40, 40, 40, 32, 16, 8, 4, 2, 1]\n",
      "MPS with length 30 and physical d=2\n",
      "chi [1, 6, 12, 21, 39, 75, 120, 120, 120, 120, 120, 120, 120, 120, 120, 120, 120, 120, 120, 120, 120, 120, 120, 120, 120, 96, 48, 24, 12, 6, 1]\n"
     ]
    },
    {
     "name": "stderr",
     "output_type": "stream",
     "text": [
      "WARNING:root:Truncating @ 40, latest SV = 0.0013855738831278818\n",
      "WARNING:root:Truncating @ 40, latest SV = 0.0026705481591378527\n",
      "WARNING:root:Truncating @ 40, latest SV = 0.00412920988768099\n",
      "WARNING:root:Truncating @ 40, latest SV = 0.005099657596299184\n",
      "WARNING:root:Truncating @ 40, latest SV = 0.005330599403325043\n",
      "WARNING:root:Truncating @ 40, latest SV = 0.005493281731861174\n",
      "WARNING:root:Truncating @ 40, latest SV = 0.005255707481337195\n",
      "WARNING:root:Truncating @ 40, latest SV = 0.005037905585481479\n",
      "WARNING:root:Truncating @ 40, latest SV = 0.004301744410646801\n",
      "WARNING:root:Truncating @ 40, latest SV = 0.003883244887796734\n",
      "WARNING:root:Truncating @ 40, latest SV = 0.0033354043064384234\n",
      "WARNING:root:Truncating @ 40, latest SV = 0.0024510729705384507\n",
      "WARNING:root:Truncating @ 40, latest SV = 0.0017709641675069275\n",
      "WARNING:root:Truncating @ 40, latest SV = 0.0009462653439882919\n",
      "WARNING:root:Truncating @ 40, latest SV = 0.00042948183110745044\n",
      "WARNING:root:Truncating @ 40, latest SV = 0.0002291930255512593\n",
      "WARNING:root:Truncating @ 40, latest SV = 8.043804404175435e-05\n",
      "WARNING:root:Truncating @ 40, latest SV = 2.972301635929366e-06\n",
      "WARNING:root:Truncating @ 40, latest SV = 8.840446473542471e-10\n"
     ]
    },
    {
     "name": "stdout",
     "output_type": "stream",
     "text": [
      "149 [1, 2, 4, 8, 15, 27, 40, 40, 40, 40, 40, 40, 40, 40, 40, 40, 40, 40, 40, 40, 40, 40, 40, 40, 40, 32, 16, 8, 4, 2, 1]\n",
      "MPS with length 30 and physical d=2\n",
      "chi [1, 6, 12, 24, 45, 81, 120, 120, 120, 120, 120, 120, 120, 120, 120, 120, 120, 120, 120, 120, 120, 120, 120, 120, 120, 96, 48, 24, 12, 6, 1]\n"
     ]
    },
    {
     "name": "stderr",
     "output_type": "stream",
     "text": [
      "WARNING:root:Truncating @ 40, latest SV = 0.0014507997743853779\n",
      "WARNING:root:Truncating @ 40, latest SV = 0.0022293601654567435\n",
      "WARNING:root:Truncating @ 40, latest SV = 0.0031936810570657344\n",
      "WARNING:root:Truncating @ 40, latest SV = 0.004039690648352529\n",
      "WARNING:root:Truncating @ 40, latest SV = 0.004353171924108783\n",
      "WARNING:root:Truncating @ 40, latest SV = 0.004629141920281033\n",
      "WARNING:root:Truncating @ 40, latest SV = 0.004376716457774837\n",
      "WARNING:root:Truncating @ 40, latest SV = 0.004227927963859434\n",
      "WARNING:root:Truncating @ 40, latest SV = 0.003967909268703855\n",
      "WARNING:root:Truncating @ 40, latest SV = 0.0033217417461105397\n",
      "WARNING:root:Truncating @ 40, latest SV = 0.002882522844815123\n",
      "WARNING:root:Truncating @ 40, latest SV = 0.002385038350114081\n",
      "WARNING:root:Truncating @ 40, latest SV = 0.0018804055276750173\n",
      "WARNING:root:Truncating @ 40, latest SV = 0.0012304517686507561\n",
      "WARNING:root:Truncating @ 40, latest SV = 0.000700609629350214\n",
      "WARNING:root:Truncating @ 40, latest SV = 0.00024187280413712924\n",
      "WARNING:root:Truncating @ 40, latest SV = 9.35215293915119e-05\n",
      "WARNING:root:Truncating @ 40, latest SV = 3.909380217087861e-06\n",
      "WARNING:root:Truncating @ 40, latest SV = 1.9067320447630147e-10\n"
     ]
    },
    {
     "name": "stdout",
     "output_type": "stream",
     "text": [
      "150 [1, 2, 4, 7, 13, 24, 40, 40, 40, 40, 40, 40, 40, 40, 40, 40, 40, 40, 40, 40, 40, 40, 40, 40, 40, 32, 16, 8, 4, 2, 1]\n",
      "MPS with length 30 and physical d=2\n",
      "chi [1, 6, 12, 21, 39, 72, 120, 120, 120, 120, 120, 120, 120, 120, 120, 120, 120, 120, 120, 120, 120, 120, 120, 120, 120, 96, 48, 24, 12, 6, 1]\n"
     ]
    },
    {
     "name": "stderr",
     "output_type": "stream",
     "text": [
      "WARNING:root:Truncating @ 40, latest SV = 0.000634682500874594\n",
      "WARNING:root:Truncating @ 40, latest SV = 0.0011810066674282486\n",
      "WARNING:root:Truncating @ 40, latest SV = 0.0018459978893883779\n",
      "WARNING:root:Truncating @ 40, latest SV = 0.0021872696994958024\n",
      "WARNING:root:Truncating @ 40, latest SV = 0.0023746609609417947\n",
      "WARNING:root:Truncating @ 40, latest SV = 0.0024908036728570316\n",
      "WARNING:root:Truncating @ 40, latest SV = 0.0024328184666532115\n",
      "WARNING:root:Truncating @ 40, latest SV = 0.0023737967020850924\n",
      "WARNING:root:Truncating @ 40, latest SV = 0.002157682037456672\n",
      "WARNING:root:Truncating @ 40, latest SV = 0.0018765013782123775\n",
      "WARNING:root:Truncating @ 40, latest SV = 0.0014983387999916865\n",
      "WARNING:root:Truncating @ 40, latest SV = 0.001201137679897397\n",
      "WARNING:root:Truncating @ 40, latest SV = 0.0007756613716612586\n",
      "WARNING:root:Truncating @ 40, latest SV = 0.00056335761464947\n",
      "WARNING:root:Truncating @ 40, latest SV = 0.0003015092507950942\n",
      "WARNING:root:Truncating @ 40, latest SV = 0.00011271571825535486\n",
      "WARNING:root:Truncating @ 40, latest SV = 3.905050794123519e-05\n",
      "WARNING:root:Truncating @ 40, latest SV = 1.2298742638705358e-06\n"
     ]
    },
    {
     "name": "stdout",
     "output_type": "stream",
     "text": [
      "151 [1, 2, 4, 7, 13, 22, 40, 40, 40, 40, 40, 40, 40, 40, 40, 40, 40, 40, 40, 40, 40, 40, 40, 40, 40, 32, 16, 8, 4, 2, 1]\n",
      "MPS with length 30 and physical d=2\n",
      "chi [1, 6, 12, 21, 39, 66, 120, 120, 120, 120, 120, 120, 120, 120, 120, 120, 120, 120, 120, 120, 120, 120, 120, 120, 120, 96, 48, 24, 12, 6, 1]\n"
     ]
    },
    {
     "name": "stderr",
     "output_type": "stream",
     "text": [
      "WARNING:root:Truncating @ 40, latest SV = 0.0009243320651311429\n",
      "WARNING:root:Truncating @ 40, latest SV = 0.001524238132713612\n",
      "WARNING:root:Truncating @ 40, latest SV = 0.0022277086658504916\n",
      "WARNING:root:Truncating @ 40, latest SV = 0.002753294819430355\n",
      "WARNING:root:Truncating @ 40, latest SV = 0.0031621893138449168\n",
      "WARNING:root:Truncating @ 40, latest SV = 0.0031585572172905425\n",
      "WARNING:root:Truncating @ 40, latest SV = 0.0031085905330699016\n",
      "WARNING:root:Truncating @ 40, latest SV = 0.0030785728895427363\n",
      "WARNING:root:Truncating @ 40, latest SV = 0.002961843855846896\n",
      "WARNING:root:Truncating @ 40, latest SV = 0.0026461947878371208\n",
      "WARNING:root:Truncating @ 40, latest SV = 0.002285574337778683\n",
      "WARNING:root:Truncating @ 40, latest SV = 0.001953800912077831\n",
      "WARNING:root:Truncating @ 40, latest SV = 0.0016119733598435426\n",
      "WARNING:root:Truncating @ 40, latest SV = 0.0010827142434680463\n",
      "WARNING:root:Truncating @ 40, latest SV = 0.0004618184888204929\n",
      "WARNING:root:Truncating @ 40, latest SV = 0.0002026267201348367\n",
      "WARNING:root:Truncating @ 40, latest SV = 9.361133859168076e-05\n",
      "WARNING:root:Truncating @ 40, latest SV = 1.4728642684677815e-06\n"
     ]
    },
    {
     "name": "stdout",
     "output_type": "stream",
     "text": [
      "152 [1, 2, 4, 7, 11, 21, 39, 40, 40, 40, 40, 40, 40, 40, 40, 40, 40, 40, 40, 40, 40, 40, 40, 40, 40, 32, 16, 8, 4, 2, 1]\n",
      "MPS with length 30 and physical d=2\n",
      "chi [1, 6, 12, 21, 33, 63, 117, 120, 120, 120, 120, 120, 120, 120, 120, 120, 120, 120, 120, 120, 120, 120, 120, 120, 120, 96, 48, 24, 12, 6, 1]\n"
     ]
    },
    {
     "name": "stderr",
     "output_type": "stream",
     "text": [
      "WARNING:root:Truncating @ 40, latest SV = 0.0009497957679706182\n",
      "WARNING:root:Truncating @ 40, latest SV = 0.00161029851178686\n",
      "WARNING:root:Truncating @ 40, latest SV = 0.0022519912374814183\n",
      "WARNING:root:Truncating @ 40, latest SV = 0.0027933835073594405\n",
      "WARNING:root:Truncating @ 40, latest SV = 0.0031162456252017403\n",
      "WARNING:root:Truncating @ 40, latest SV = 0.0032291629748470237\n",
      "WARNING:root:Truncating @ 40, latest SV = 0.0029848424698584396\n",
      "WARNING:root:Truncating @ 40, latest SV = 0.002890716214445685\n",
      "WARNING:root:Truncating @ 40, latest SV = 0.002614216592460082\n",
      "WARNING:root:Truncating @ 40, latest SV = 0.0021631630445579507\n",
      "WARNING:root:Truncating @ 40, latest SV = 0.00183616515104291\n",
      "WARNING:root:Truncating @ 40, latest SV = 0.0014299920846557854\n",
      "WARNING:root:Truncating @ 40, latest SV = 0.0013153998108648367\n",
      "WARNING:root:Truncating @ 40, latest SV = 0.000929182912894704\n",
      "WARNING:root:Truncating @ 40, latest SV = 0.0006083786956692719\n",
      "WARNING:root:Truncating @ 40, latest SV = 0.00021931051719528523\n",
      "WARNING:root:Truncating @ 40, latest SV = 4.343681525234844e-05\n",
      "WARNING:root:Truncating @ 40, latest SV = 1.1997319721089294e-06\n",
      "WARNING:root:Truncating @ 40, latest SV = 1.7465000593387622e-10\n"
     ]
    },
    {
     "name": "stdout",
     "output_type": "stream",
     "text": [
      "153 [1, 2, 4, 6, 12, 22, 40, 40, 40, 40, 40, 40, 40, 40, 40, 40, 40, 40, 40, 40, 40, 40, 40, 40, 40, 32, 16, 8, 4, 2, 1]\n",
      "MPS with length 30 and physical d=2\n",
      "chi [1, 6, 12, 18, 36, 66, 120, 120, 120, 120, 120, 120, 120, 120, 120, 120, 120, 120, 120, 120, 120, 120, 120, 120, 120, 96, 48, 24, 12, 6, 1]\n"
     ]
    },
    {
     "name": "stderr",
     "output_type": "stream",
     "text": [
      "WARNING:root:Truncating @ 40, latest SV = 0.000765599589817281\n",
      "WARNING:root:Truncating @ 40, latest SV = 0.001609410967303445\n",
      "WARNING:root:Truncating @ 40, latest SV = 0.0025173989740778224\n",
      "WARNING:root:Truncating @ 40, latest SV = 0.0031404791798418695\n",
      "WARNING:root:Truncating @ 40, latest SV = 0.0032141058579908343\n",
      "WARNING:root:Truncating @ 40, latest SV = 0.0031789346134314714\n",
      "WARNING:root:Truncating @ 40, latest SV = 0.003045389259324108\n",
      "WARNING:root:Truncating @ 40, latest SV = 0.002859015395734541\n",
      "WARNING:root:Truncating @ 40, latest SV = 0.0028843579215733265\n",
      "WARNING:root:Truncating @ 40, latest SV = 0.0026174104293522037\n",
      "WARNING:root:Truncating @ 40, latest SV = 0.0024347404385660337\n",
      "WARNING:root:Truncating @ 40, latest SV = 0.0020973372246685753\n",
      "WARNING:root:Truncating @ 40, latest SV = 0.0017937547616496913\n",
      "WARNING:root:Truncating @ 40, latest SV = 0.001357354066333932\n",
      "WARNING:root:Truncating @ 40, latest SV = 0.0006888696120178537\n",
      "WARNING:root:Truncating @ 40, latest SV = 0.00022856525721156305\n",
      "WARNING:root:Truncating @ 40, latest SV = 0.00010204155346807868\n",
      "WARNING:root:Truncating @ 40, latest SV = 3.382728843848067e-06\n"
     ]
    },
    {
     "name": "stdout",
     "output_type": "stream",
     "text": [
      "154 [1, 2, 4, 7, 11, 19, 35, 40, 40, 40, 40, 40, 40, 40, 40, 40, 40, 40, 40, 40, 40, 40, 40, 40, 40, 32, 16, 8, 4, 2, 1]\n",
      "MPS with length 30 and physical d=2\n",
      "chi [1, 6, 12, 21, 33, 57, 105, 120, 120, 120, 120, 120, 120, 120, 120, 120, 120, 120, 120, 120, 120, 120, 120, 120, 120, 96, 48, 24, 12, 6, 1]\n"
     ]
    },
    {
     "name": "stderr",
     "output_type": "stream",
     "text": [
      "WARNING:root:Truncating @ 40, latest SV = 0.0007782467235768963\n",
      "WARNING:root:Truncating @ 40, latest SV = 0.0012839752486907294\n",
      "WARNING:root:Truncating @ 40, latest SV = 0.002090896793978403\n",
      "WARNING:root:Truncating @ 40, latest SV = 0.002717696296209804\n",
      "WARNING:root:Truncating @ 40, latest SV = 0.0029660807857232324\n",
      "WARNING:root:Truncating @ 40, latest SV = 0.00300669534694659\n",
      "WARNING:root:Truncating @ 40, latest SV = 0.002803232712968436\n",
      "WARNING:root:Truncating @ 40, latest SV = 0.002950271412452469\n",
      "WARNING:root:Truncating @ 40, latest SV = 0.0026446161124313826\n",
      "WARNING:root:Truncating @ 40, latest SV = 0.0023584452852235794\n",
      "WARNING:root:Truncating @ 40, latest SV = 0.00209115100963991\n",
      "WARNING:root:Truncating @ 40, latest SV = 0.00181000728165887\n",
      "WARNING:root:Truncating @ 40, latest SV = 0.0014912736849564715\n",
      "WARNING:root:Truncating @ 40, latest SV = 0.0010569583966324137\n",
      "WARNING:root:Truncating @ 40, latest SV = 0.0007456890265914296\n",
      "WARNING:root:Truncating @ 40, latest SV = 0.000299679826856303\n",
      "WARNING:root:Truncating @ 40, latest SV = 5.6839029835264084e-05\n",
      "WARNING:root:Truncating @ 40, latest SV = 3.6994420998210363e-06\n"
     ]
    },
    {
     "name": "stdout",
     "output_type": "stream",
     "text": [
      "155 [1, 2, 4, 6, 11, 21, 39, 40, 40, 40, 40, 40, 40, 40, 40, 40, 40, 40, 40, 40, 40, 40, 40, 40, 40, 32, 16, 8, 4, 2, 1]\n",
      "MPS with length 30 and physical d=2\n",
      "chi [1, 6, 12, 18, 33, 63, 117, 120, 120, 120, 120, 120, 120, 120, 120, 120, 120, 120, 120, 120, 120, 120, 120, 120, 120, 96, 48, 24, 12, 6, 1]\n"
     ]
    },
    {
     "name": "stderr",
     "output_type": "stream",
     "text": [
      "WARNING:root:Truncating @ 40, latest SV = 0.0008090023207169557\n",
      "WARNING:root:Truncating @ 40, latest SV = 0.0015398028473388036\n",
      "WARNING:root:Truncating @ 40, latest SV = 0.0023751120019306817\n",
      "WARNING:root:Truncating @ 40, latest SV = 0.002841607794674248\n",
      "WARNING:root:Truncating @ 40, latest SV = 0.003261081284341864\n",
      "WARNING:root:Truncating @ 40, latest SV = 0.0032541321235005634\n",
      "WARNING:root:Truncating @ 40, latest SV = 0.0032660000287314467\n",
      "WARNING:root:Truncating @ 40, latest SV = 0.0029186044170309514\n",
      "WARNING:root:Truncating @ 40, latest SV = 0.0028029766104273354\n",
      "WARNING:root:Truncating @ 40, latest SV = 0.0024152720144868115\n",
      "WARNING:root:Truncating @ 40, latest SV = 0.0022975874396283474\n",
      "WARNING:root:Truncating @ 40, latest SV = 0.002139425570046257\n",
      "WARNING:root:Truncating @ 40, latest SV = 0.0018803559166106645\n",
      "WARNING:root:Truncating @ 40, latest SV = 0.0013868387771735129\n",
      "WARNING:root:Truncating @ 40, latest SV = 0.0006901708472632428\n",
      "WARNING:root:Truncating @ 40, latest SV = 0.0002185795967728719\n",
      "WARNING:root:Truncating @ 40, latest SV = 8.811941038386386e-05\n",
      "WARNING:root:Truncating @ 40, latest SV = 1.3243949428029434e-06\n"
     ]
    },
    {
     "name": "stdout",
     "output_type": "stream",
     "text": [
      "156 [1, 2, 3, 5, 9, 18, 35, 40, 40, 40, 40, 40, 40, 40, 40, 40, 40, 40, 40, 40, 40, 40, 40, 40, 40, 32, 16, 8, 4, 2, 1]\n",
      "MPS with length 30 and physical d=2\n",
      "chi [1, 6, 9, 15, 27, 54, 105, 120, 120, 120, 120, 120, 120, 120, 120, 120, 120, 120, 120, 120, 120, 120, 120, 120, 120, 96, 48, 24, 12, 6, 1]\n"
     ]
    },
    {
     "name": "stderr",
     "output_type": "stream",
     "text": [
      "WARNING:root:Truncating @ 40, latest SV = 0.0008264305334083225\n",
      "WARNING:root:Truncating @ 40, latest SV = 0.0014773528061772054\n",
      "WARNING:root:Truncating @ 40, latest SV = 0.002106136983255152\n",
      "WARNING:root:Truncating @ 40, latest SV = 0.002564981091527936\n",
      "WARNING:root:Truncating @ 40, latest SV = 0.0029494583810536347\n",
      "WARNING:root:Truncating @ 40, latest SV = 0.0029469811242122607\n",
      "WARNING:root:Truncating @ 40, latest SV = 0.002815155555964423\n",
      "WARNING:root:Truncating @ 40, latest SV = 0.002838070877337623\n",
      "WARNING:root:Truncating @ 40, latest SV = 0.0027796654769136606\n",
      "WARNING:root:Truncating @ 40, latest SV = 0.0024296284931346114\n",
      "WARNING:root:Truncating @ 40, latest SV = 0.002085304125489863\n",
      "WARNING:root:Truncating @ 40, latest SV = 0.0018855742952784303\n",
      "WARNING:root:Truncating @ 40, latest SV = 0.0017103705735641635\n",
      "WARNING:root:Truncating @ 40, latest SV = 0.0011624820845084996\n",
      "WARNING:root:Truncating @ 40, latest SV = 0.0007423761275472019\n",
      "WARNING:root:Truncating @ 40, latest SV = 0.00036054222075469636\n",
      "WARNING:root:Truncating @ 40, latest SV = 0.00019040953297314514\n",
      "WARNING:root:Truncating @ 40, latest SV = 1.983703731978558e-05\n"
     ]
    },
    {
     "name": "stdout",
     "output_type": "stream",
     "text": [
      "157 [1, 2, 4, 7, 11, 19, 33, 40, 40, 40, 40, 40, 40, 40, 40, 40, 40, 40, 40, 40, 40, 40, 40, 40, 40, 32, 16, 8, 4, 2, 1]\n",
      "MPS with length 30 and physical d=2\n",
      "chi [1, 6, 12, 21, 33, 57, 99, 120, 120, 120, 120, 120, 120, 120, 120, 120, 120, 120, 120, 120, 120, 120, 120, 120, 120, 96, 48, 24, 12, 6, 1]\n"
     ]
    },
    {
     "name": "stderr",
     "output_type": "stream",
     "text": [
      "WARNING:root:Truncating @ 40, latest SV = 0.0009816291105218843\n",
      "WARNING:root:Truncating @ 40, latest SV = 0.0016934145589464335\n",
      "WARNING:root:Truncating @ 40, latest SV = 0.0024235037515768333\n",
      "WARNING:root:Truncating @ 40, latest SV = 0.0028600013470287417\n",
      "WARNING:root:Truncating @ 40, latest SV = 0.002944161097752055\n",
      "WARNING:root:Truncating @ 40, latest SV = 0.002844896903034587\n",
      "WARNING:root:Truncating @ 40, latest SV = 0.0028956653816060297\n",
      "WARNING:root:Truncating @ 40, latest SV = 0.00261978925917004\n",
      "WARNING:root:Truncating @ 40, latest SV = 0.0024366884421521576\n",
      "WARNING:root:Truncating @ 40, latest SV = 0.0019805870397489288\n",
      "WARNING:root:Truncating @ 40, latest SV = 0.0019657129902503553\n",
      "WARNING:root:Truncating @ 40, latest SV = 0.001841070706800348\n",
      "WARNING:root:Truncating @ 40, latest SV = 0.0015334356532486384\n",
      "WARNING:root:Truncating @ 40, latest SV = 0.0012509950416649412\n",
      "WARNING:root:Truncating @ 40, latest SV = 0.0009352717055420369\n",
      "WARNING:root:Truncating @ 40, latest SV = 0.0007099271717097386\n",
      "WARNING:root:Truncating @ 40, latest SV = 0.00035272592688235783\n",
      "WARNING:root:Truncating @ 40, latest SV = 6.246036834662318e-05\n"
     ]
    },
    {
     "name": "stdout",
     "output_type": "stream",
     "text": [
      "158 [1, 2, 4, 7, 10, 18, 35, 40, 40, 40, 40, 40, 40, 40, 40, 40, 40, 40, 40, 40, 40, 40, 40, 40, 40, 32, 16, 8, 4, 2, 1]\n",
      "MPS with length 30 and physical d=2\n",
      "chi [1, 6, 12, 21, 30, 54, 105, 120, 120, 120, 120, 120, 120, 120, 120, 120, 120, 120, 120, 120, 120, 120, 120, 120, 120, 96, 48, 24, 12, 6, 1]\n"
     ]
    },
    {
     "name": "stderr",
     "output_type": "stream",
     "text": [
      "WARNING:root:Truncating @ 40, latest SV = 0.000992017727956062\n",
      "WARNING:root:Truncating @ 40, latest SV = 0.001702890388260256\n",
      "WARNING:root:Truncating @ 40, latest SV = 0.002437070815614377\n",
      "WARNING:root:Truncating @ 40, latest SV = 0.0030943338574671705\n",
      "WARNING:root:Truncating @ 40, latest SV = 0.0033294492545376964\n",
      "WARNING:root:Truncating @ 40, latest SV = 0.0034590349980367203\n",
      "WARNING:root:Truncating @ 40, latest SV = 0.0035148929233021634\n",
      "WARNING:root:Truncating @ 40, latest SV = 0.003154787118406661\n",
      "WARNING:root:Truncating @ 40, latest SV = 0.0031003796540376377\n",
      "WARNING:root:Truncating @ 40, latest SV = 0.0028713228408042374\n",
      "WARNING:root:Truncating @ 40, latest SV = 0.0027086523890628286\n",
      "WARNING:root:Truncating @ 40, latest SV = 0.0023423596556084573\n",
      "WARNING:root:Truncating @ 40, latest SV = 0.0020187564247243226\n",
      "WARNING:root:Truncating @ 40, latest SV = 0.0016229165851112727\n",
      "WARNING:root:Truncating @ 40, latest SV = 0.0010903538423309512\n",
      "WARNING:root:Truncating @ 40, latest SV = 0.0006818199929100993\n",
      "WARNING:root:Truncating @ 40, latest SV = 0.0002352210655373185\n",
      "WARNING:root:Truncating @ 40, latest SV = 3.9817033238998876e-05\n"
     ]
    },
    {
     "name": "stdout",
     "output_type": "stream",
     "text": [
      "159 [1, 2, 4, 6, 11, 17, 33, 40, 40, 40, 40, 40, 40, 40, 40, 40, 40, 40, 40, 40, 40, 40, 40, 40, 40, 32, 16, 8, 4, 2, 1]\n",
      "MPS with length 30 and physical d=2\n",
      "chi [1, 6, 12, 18, 33, 51, 99, 120, 120, 120, 120, 120, 120, 120, 120, 120, 120, 120, 120, 120, 120, 120, 120, 120, 120, 96, 48, 24, 12, 6, 1]\n"
     ]
    },
    {
     "name": "stderr",
     "output_type": "stream",
     "text": [
      "WARNING:root:Truncating @ 40, latest SV = 0.001117329794867726\n",
      "WARNING:root:Truncating @ 40, latest SV = 0.0022610260132665547\n",
      "WARNING:root:Truncating @ 40, latest SV = 0.00320071647172556\n",
      "WARNING:root:Truncating @ 40, latest SV = 0.0035479171248625455\n",
      "WARNING:root:Truncating @ 40, latest SV = 0.003854512491635021\n",
      "WARNING:root:Truncating @ 40, latest SV = 0.004054808373817155\n",
      "WARNING:root:Truncating @ 40, latest SV = 0.0039005310392450157\n",
      "WARNING:root:Truncating @ 40, latest SV = 0.003928698132484912\n",
      "WARNING:root:Truncating @ 40, latest SV = 0.0034549701800079477\n",
      "WARNING:root:Truncating @ 40, latest SV = 0.0031923735133209947\n",
      "WARNING:root:Truncating @ 40, latest SV = 0.0030973378153859917\n",
      "WARNING:root:Truncating @ 40, latest SV = 0.0026431312021551593\n",
      "WARNING:root:Truncating @ 40, latest SV = 0.002338401153605097\n",
      "WARNING:root:Truncating @ 40, latest SV = 0.0019068399110859652\n",
      "WARNING:root:Truncating @ 40, latest SV = 0.0012809594076299195\n",
      "WARNING:root:Truncating @ 40, latest SV = 0.0008686710855470462\n",
      "WARNING:root:Truncating @ 40, latest SV = 0.00037813959820327006\n",
      "WARNING:root:Truncating @ 40, latest SV = 5.640345666364699e-05\n"
     ]
    },
    {
     "name": "stdout",
     "output_type": "stream",
     "text": [
      "160 [1, 2, 3, 5, 9, 16, 32, 40, 40, 40, 40, 40, 40, 40, 40, 40, 40, 40, 40, 40, 40, 40, 40, 40, 40, 32, 16, 8, 4, 2, 1]\n",
      "MPS with length 30 and physical d=2\n",
      "chi [1, 6, 9, 15, 27, 48, 96, 120, 120, 120, 120, 120, 120, 120, 120, 120, 120, 120, 120, 120, 120, 120, 120, 120, 120, 96, 48, 24, 12, 6, 1]\n"
     ]
    },
    {
     "name": "stderr",
     "output_type": "stream",
     "text": [
      "WARNING:root:Truncating @ 40, latest SV = 0.0012879774058558284\n",
      "WARNING:root:Truncating @ 40, latest SV = 0.0018442833186623777\n",
      "WARNING:root:Truncating @ 40, latest SV = 0.0026986339925165305\n",
      "WARNING:root:Truncating @ 40, latest SV = 0.003002836139273577\n",
      "WARNING:root:Truncating @ 40, latest SV = 0.003251598614102895\n",
      "WARNING:root:Truncating @ 40, latest SV = 0.0033838183732625465\n",
      "WARNING:root:Truncating @ 40, latest SV = 0.003418520460515599\n",
      "WARNING:root:Truncating @ 40, latest SV = 0.003300290693280874\n",
      "WARNING:root:Truncating @ 40, latest SV = 0.0028793571650279626\n",
      "WARNING:root:Truncating @ 40, latest SV = 0.002630280526641921\n",
      "WARNING:root:Truncating @ 40, latest SV = 0.0024282134213841856\n",
      "WARNING:root:Truncating @ 40, latest SV = 0.0021087702868955206\n",
      "WARNING:root:Truncating @ 40, latest SV = 0.00172591992389147\n",
      "WARNING:root:Truncating @ 40, latest SV = 0.0015116651778832903\n",
      "WARNING:root:Truncating @ 40, latest SV = 0.0010299215472636797\n",
      "WARNING:root:Truncating @ 40, latest SV = 0.0005460155564421987\n",
      "WARNING:root:Truncating @ 40, latest SV = 0.00023375102405599602\n",
      "WARNING:root:Truncating @ 40, latest SV = 1.8813949365445223e-05\n"
     ]
    },
    {
     "name": "stdout",
     "output_type": "stream",
     "text": [
      "161 [1, 2, 4, 5, 9, 16, 32, 40, 40, 40, 40, 40, 40, 40, 40, 40, 40, 40, 40, 40, 40, 40, 40, 40, 40, 32, 16, 8, 4, 2, 1]\n",
      "MPS with length 30 and physical d=2\n",
      "chi [1, 6, 12, 15, 27, 48, 96, 120, 120, 120, 120, 120, 120, 120, 120, 120, 120, 120, 120, 120, 120, 120, 120, 120, 120, 96, 48, 24, 12, 6, 1]\n"
     ]
    },
    {
     "name": "stderr",
     "output_type": "stream",
     "text": [
      "WARNING:root:Truncating @ 40, latest SV = 0.0016300623840979896\n",
      "WARNING:root:Truncating @ 40, latest SV = 0.0024799061603273612\n",
      "WARNING:root:Truncating @ 40, latest SV = 0.0031590501439910357\n",
      "WARNING:root:Truncating @ 40, latest SV = 0.0035303856712101136\n",
      "WARNING:root:Truncating @ 40, latest SV = 0.0036610870710809076\n",
      "WARNING:root:Truncating @ 40, latest SV = 0.0036200799526785745\n",
      "WARNING:root:Truncating @ 40, latest SV = 0.00351715792963269\n",
      "WARNING:root:Truncating @ 40, latest SV = 0.003439959186779628\n",
      "WARNING:root:Truncating @ 40, latest SV = 0.0030526110073696823\n",
      "WARNING:root:Truncating @ 40, latest SV = 0.0028394362898701278\n",
      "WARNING:root:Truncating @ 40, latest SV = 0.002407016408662842\n",
      "WARNING:root:Truncating @ 40, latest SV = 0.0020750402502801744\n",
      "WARNING:root:Truncating @ 40, latest SV = 0.0016988231442154854\n",
      "WARNING:root:Truncating @ 40, latest SV = 0.0012261717609164016\n",
      "WARNING:root:Truncating @ 40, latest SV = 0.0007640587073252203\n",
      "WARNING:root:Truncating @ 40, latest SV = 0.00040436790527944466\n",
      "WARNING:root:Truncating @ 40, latest SV = 0.00022545215585749052\n",
      "WARNING:root:Truncating @ 40, latest SV = 4.684794147609497e-05\n"
     ]
    },
    {
     "name": "stdout",
     "output_type": "stream",
     "text": [
      "162 [1, 2, 2, 4, 8, 16, 32, 40, 40, 40, 40, 40, 40, 40, 40, 40, 40, 40, 40, 40, 40, 40, 40, 40, 40, 32, 16, 8, 4, 2, 1]\n",
      "MPS with length 30 and physical d=2\n",
      "chi [1, 6, 6, 12, 24, 48, 96, 120, 120, 120, 120, 120, 120, 120, 120, 120, 120, 120, 120, 120, 120, 120, 120, 120, 120, 96, 48, 24, 12, 6, 1]\n"
     ]
    },
    {
     "name": "stderr",
     "output_type": "stream",
     "text": [
      "WARNING:root:Truncating @ 40, latest SV = 0.0010020903919326673\n",
      "WARNING:root:Truncating @ 40, latest SV = 0.002129448751739326\n",
      "WARNING:root:Truncating @ 40, latest SV = 0.003171542784838081\n",
      "WARNING:root:Truncating @ 40, latest SV = 0.0036389890956623036\n",
      "WARNING:root:Truncating @ 40, latest SV = 0.00371952451914549\n",
      "WARNING:root:Truncating @ 40, latest SV = 0.0038309574980516623\n",
      "WARNING:root:Truncating @ 40, latest SV = 0.00394461464841288\n",
      "WARNING:root:Truncating @ 40, latest SV = 0.0036148929198070215\n",
      "WARNING:root:Truncating @ 40, latest SV = 0.003511642695223462\n",
      "WARNING:root:Truncating @ 40, latest SV = 0.003141654937539043\n",
      "WARNING:root:Truncating @ 40, latest SV = 0.0027586039061915633\n",
      "WARNING:root:Truncating @ 40, latest SV = 0.002489318556650251\n",
      "WARNING:root:Truncating @ 40, latest SV = 0.002051245277286133\n",
      "WARNING:root:Truncating @ 40, latest SV = 0.0015189728702902881\n",
      "WARNING:root:Truncating @ 40, latest SV = 0.0010686481494656223\n",
      "WARNING:root:Truncating @ 40, latest SV = 0.0006063037930886867\n",
      "WARNING:root:Truncating @ 40, latest SV = 0.0001993730632496902\n",
      "WARNING:root:Truncating @ 40, latest SV = 2.1528896352920545e-05\n"
     ]
    },
    {
     "name": "stdout",
     "output_type": "stream",
     "text": [
      "163 [1, 2, 2, 4, 8, 16, 32, 40, 40, 40, 40, 40, 40, 40, 40, 40, 40, 40, 40, 40, 40, 40, 40, 40, 40, 32, 16, 8, 4, 2, 1]\n",
      "MPS with length 30 and physical d=2\n",
      "chi [1, 6, 6, 12, 24, 48, 96, 120, 120, 120, 120, 120, 120, 120, 120, 120, 120, 120, 120, 120, 120, 120, 120, 120, 120, 96, 48, 24, 12, 6, 1]\n"
     ]
    },
    {
     "name": "stderr",
     "output_type": "stream",
     "text": [
      "WARNING:root:Truncating @ 40, latest SV = 0.0008206232465305996\n",
      "WARNING:root:Truncating @ 40, latest SV = 0.001652056247191405\n",
      "WARNING:root:Truncating @ 40, latest SV = 0.002735628423079185\n",
      "WARNING:root:Truncating @ 40, latest SV = 0.003099569277993921\n",
      "WARNING:root:Truncating @ 40, latest SV = 0.0030882370586354582\n",
      "WARNING:root:Truncating @ 40, latest SV = 0.003304185826304407\n",
      "WARNING:root:Truncating @ 40, latest SV = 0.0030476486323003002\n",
      "WARNING:root:Truncating @ 40, latest SV = 0.0027910838303992535\n",
      "WARNING:root:Truncating @ 40, latest SV = 0.002381439507369748\n",
      "WARNING:root:Truncating @ 40, latest SV = 0.002088124765758103\n",
      "WARNING:root:Truncating @ 40, latest SV = 0.0018297136713017943\n",
      "WARNING:root:Truncating @ 40, latest SV = 0.0012284322981320297\n",
      "WARNING:root:Truncating @ 40, latest SV = 0.0008967412073976336\n",
      "WARNING:root:Truncating @ 40, latest SV = 0.0006309822394940406\n",
      "WARNING:root:Truncating @ 40, latest SV = 0.0004090485186690418\n",
      "WARNING:root:Truncating @ 40, latest SV = 0.00017586617960160523\n",
      "WARNING:root:Truncating @ 40, latest SV = 5.820765499024597e-05\n",
      "WARNING:root:Truncating @ 40, latest SV = 7.407526685154048e-06\n"
     ]
    },
    {
     "name": "stdout",
     "output_type": "stream",
     "text": [
      "164 [1, 2, 2, 4, 8, 16, 32, 40, 40, 40, 40, 40, 40, 40, 40, 40, 40, 40, 40, 40, 40, 40, 40, 40, 40, 32, 16, 8, 4, 2, 1]\n",
      "MPS with length 30 and physical d=2\n",
      "chi [1, 6, 6, 12, 24, 48, 96, 120, 120, 120, 120, 120, 120, 120, 120, 120, 120, 120, 120, 120, 120, 120, 120, 120, 120, 96, 48, 24, 12, 6, 1]\n"
     ]
    },
    {
     "name": "stderr",
     "output_type": "stream",
     "text": [
      "WARNING:root:Truncating @ 40, latest SV = 0.0011738778697364298\n",
      "WARNING:root:Truncating @ 40, latest SV = 0.0018153520614402354\n",
      "WARNING:root:Truncating @ 40, latest SV = 0.0027589142630645488\n",
      "WARNING:root:Truncating @ 40, latest SV = 0.003149457496502801\n",
      "WARNING:root:Truncating @ 40, latest SV = 0.0034688993160041644\n",
      "WARNING:root:Truncating @ 40, latest SV = 0.0035374615700284546\n",
      "WARNING:root:Truncating @ 40, latest SV = 0.0034043926926003542\n",
      "WARNING:root:Truncating @ 40, latest SV = 0.003466319384482209\n",
      "WARNING:root:Truncating @ 40, latest SV = 0.0032977609359837474\n",
      "WARNING:root:Truncating @ 40, latest SV = 0.002832168318615305\n",
      "WARNING:root:Truncating @ 40, latest SV = 0.002700663069605989\n",
      "WARNING:root:Truncating @ 40, latest SV = 0.0023736662093666295\n",
      "WARNING:root:Truncating @ 40, latest SV = 0.0018652834595722831\n",
      "WARNING:root:Truncating @ 40, latest SV = 0.0012805816755354705\n",
      "WARNING:root:Truncating @ 40, latest SV = 0.0006714811327829985\n",
      "WARNING:root:Truncating @ 40, latest SV = 0.00026761416224628813\n",
      "WARNING:root:Truncating @ 40, latest SV = 4.220852601386176e-05\n",
      "WARNING:root:Truncating @ 40, latest SV = 1.7769092796594363e-06\n"
     ]
    },
    {
     "name": "stdout",
     "output_type": "stream",
     "text": [
      "165 [1, 1, 2, 4, 8, 16, 32, 40, 40, 40, 40, 40, 40, 40, 40, 40, 40, 40, 40, 40, 40, 40, 40, 40, 40, 32, 16, 8, 4, 2, 1]\n",
      "MPS with length 30 and physical d=2\n",
      "chi [1, 3, 6, 12, 24, 48, 96, 120, 120, 120, 120, 120, 120, 120, 120, 120, 120, 120, 120, 120, 120, 120, 120, 120, 120, 96, 48, 24, 12, 6, 1]\n"
     ]
    },
    {
     "name": "stderr",
     "output_type": "stream",
     "text": [
      "WARNING:root:Truncating @ 40, latest SV = 0.0011299655897709351\n",
      "WARNING:root:Truncating @ 40, latest SV = 0.0022419547076022715\n",
      "WARNING:root:Truncating @ 40, latest SV = 0.0030605118853043014\n",
      "WARNING:root:Truncating @ 40, latest SV = 0.00355625579863818\n",
      "WARNING:root:Truncating @ 40, latest SV = 0.00372325780780495\n",
      "WARNING:root:Truncating @ 40, latest SV = 0.0034701296072876214\n",
      "WARNING:root:Truncating @ 40, latest SV = 0.0031662326699065362\n",
      "WARNING:root:Truncating @ 40, latest SV = 0.0033931146402081053\n",
      "WARNING:root:Truncating @ 40, latest SV = 0.0030123060924228053\n",
      "WARNING:root:Truncating @ 40, latest SV = 0.0025304177148076415\n",
      "WARNING:root:Truncating @ 40, latest SV = 0.0022558452515192566\n",
      "WARNING:root:Truncating @ 40, latest SV = 0.0019530141614555842\n",
      "WARNING:root:Truncating @ 40, latest SV = 0.0014212032439144657\n",
      "WARNING:root:Truncating @ 40, latest SV = 0.0008126483046781609\n",
      "WARNING:root:Truncating @ 40, latest SV = 0.0003856496867023646\n",
      "WARNING:root:Truncating @ 40, latest SV = 0.00017692655361802736\n",
      "WARNING:root:Truncating @ 40, latest SV = 2.051663184272555e-05\n",
      "WARNING:root:Truncating @ 40, latest SV = 1.5419176690098104e-06\n",
      "WARNING:root:Truncating @ 40, latest SV = 1.80661914904933e-09\n"
     ]
    },
    {
     "name": "stdout",
     "output_type": "stream",
     "text": [
      "166 [1, 2, 4, 8, 13, 24, 40, 40, 40, 40, 40, 40, 40, 40, 40, 40, 40, 40, 40, 40, 40, 40, 40, 40, 40, 32, 16, 8, 4, 2, 1]\n",
      "MPS with length 30 and physical d=2\n",
      "chi [1, 6, 12, 24, 39, 72, 120, 120, 120, 120, 120, 120, 120, 120, 120, 120, 120, 120, 120, 120, 120, 120, 120, 120, 120, 96, 48, 24, 12, 6, 1]\n"
     ]
    },
    {
     "name": "stderr",
     "output_type": "stream",
     "text": [
      "WARNING:root:Truncating @ 40, latest SV = 0.0015647209656645595\n",
      "WARNING:root:Truncating @ 40, latest SV = 0.0025180323790774278\n",
      "WARNING:root:Truncating @ 40, latest SV = 0.0032267755751350376\n",
      "WARNING:root:Truncating @ 40, latest SV = 0.0038689888385858994\n",
      "WARNING:root:Truncating @ 40, latest SV = 0.003961870825010648\n",
      "WARNING:root:Truncating @ 40, latest SV = 0.004247417882173974\n",
      "WARNING:root:Truncating @ 40, latest SV = 0.004232058913854382\n",
      "WARNING:root:Truncating @ 40, latest SV = 0.003970942655674048\n",
      "WARNING:root:Truncating @ 40, latest SV = 0.00349768958849956\n",
      "WARNING:root:Truncating @ 40, latest SV = 0.0032318238656653254\n",
      "WARNING:root:Truncating @ 40, latest SV = 0.0026039977274489056\n",
      "WARNING:root:Truncating @ 40, latest SV = 0.0022843013608480774\n",
      "WARNING:root:Truncating @ 40, latest SV = 0.0020535362016120655\n",
      "WARNING:root:Truncating @ 40, latest SV = 0.0015432375809471606\n",
      "WARNING:root:Truncating @ 40, latest SV = 0.0009729385431016815\n",
      "WARNING:root:Truncating @ 40, latest SV = 0.0005421100278362862\n",
      "WARNING:root:Truncating @ 40, latest SV = 0.00020012483918090783\n",
      "WARNING:root:Truncating @ 40, latest SV = 5.795092765036149e-06\n",
      "WARNING:root:Truncating @ 40, latest SV = 5.503329304450246e-09\n"
     ]
    },
    {
     "name": "stdout",
     "output_type": "stream",
     "text": [
      "167 [1, 2, 4, 8, 16, 29, 40, 40, 40, 40, 40, 40, 40, 40, 40, 40, 40, 40, 40, 40, 40, 40, 40, 40, 40, 32, 16, 8, 4, 2, 1]\n",
      "MPS with length 30 and physical d=2\n",
      "chi [1, 6, 12, 24, 48, 87, 120, 120, 120, 120, 120, 120, 120, 120, 120, 120, 120, 120, 120, 120, 120, 120, 120, 120, 120, 96, 48, 24, 12, 6, 1]\n"
     ]
    },
    {
     "name": "stderr",
     "output_type": "stream",
     "text": [
      "WARNING:root:Truncating @ 40, latest SV = 0.0013564782184384409\n",
      "WARNING:root:Truncating @ 40, latest SV = 0.0023586101558525814\n",
      "WARNING:root:Truncating @ 40, latest SV = 0.0033194873365994543\n",
      "WARNING:root:Truncating @ 40, latest SV = 0.00387301535161522\n",
      "WARNING:root:Truncating @ 40, latest SV = 0.004079528024153723\n",
      "WARNING:root:Truncating @ 40, latest SV = 0.004145821230496301\n",
      "WARNING:root:Truncating @ 40, latest SV = 0.0036948391666985292\n",
      "WARNING:root:Truncating @ 40, latest SV = 0.0038373303503114057\n",
      "WARNING:root:Truncating @ 40, latest SV = 0.0035746928337102232\n",
      "WARNING:root:Truncating @ 40, latest SV = 0.003013507037930841\n",
      "WARNING:root:Truncating @ 40, latest SV = 0.0027461394144844735\n",
      "WARNING:root:Truncating @ 40, latest SV = 0.00218404882903348\n",
      "WARNING:root:Truncating @ 40, latest SV = 0.0018050030395292257\n",
      "WARNING:root:Truncating @ 40, latest SV = 0.0011163207622435281\n",
      "WARNING:root:Truncating @ 40, latest SV = 0.0006850417225999776\n",
      "WARNING:root:Truncating @ 40, latest SV = 0.00029080816354744245\n",
      "WARNING:root:Truncating @ 40, latest SV = 7.608125658992186e-05\n",
      "WARNING:root:Truncating @ 40, latest SV = 3.210287110806046e-06\n",
      "WARNING:root:Truncating @ 40, latest SV = 3.1547731203922675e-08\n"
     ]
    },
    {
     "name": "stdout",
     "output_type": "stream",
     "text": [
      "168 [1, 2, 4, 8, 15, 29, 40, 40, 40, 40, 40, 40, 40, 40, 40, 40, 40, 40, 40, 40, 40, 40, 40, 40, 40, 32, 16, 8, 4, 2, 1]\n",
      "MPS with length 30 and physical d=2\n",
      "chi [1, 6, 12, 24, 45, 87, 120, 120, 120, 120, 120, 120, 120, 120, 120, 120, 120, 120, 120, 120, 120, 120, 120, 120, 120, 96, 48, 24, 12, 6, 1]\n"
     ]
    },
    {
     "name": "stderr",
     "output_type": "stream",
     "text": [
      "WARNING:root:Truncating @ 40, latest SV = 0.0010647140007619812\n",
      "WARNING:root:Truncating @ 40, latest SV = 0.0022291734942909854\n",
      "WARNING:root:Truncating @ 40, latest SV = 0.003569673870453538\n",
      "WARNING:root:Truncating @ 40, latest SV = 0.00453032199598937\n",
      "WARNING:root:Truncating @ 40, latest SV = 0.004675326571334461\n",
      "WARNING:root:Truncating @ 40, latest SV = 0.004570165215269674\n",
      "WARNING:root:Truncating @ 40, latest SV = 0.004505558573096971\n",
      "WARNING:root:Truncating @ 40, latest SV = 0.004133744934472725\n",
      "WARNING:root:Truncating @ 40, latest SV = 0.0038726647693943296\n",
      "WARNING:root:Truncating @ 40, latest SV = 0.00318491898516725\n",
      "WARNING:root:Truncating @ 40, latest SV = 0.0027001191338672285\n",
      "WARNING:root:Truncating @ 40, latest SV = 0.002310107432609558\n",
      "WARNING:root:Truncating @ 40, latest SV = 0.0016747682915429587\n",
      "WARNING:root:Truncating @ 40, latest SV = 0.0011023835554926206\n",
      "WARNING:root:Truncating @ 40, latest SV = 0.0005211091542632264\n",
      "WARNING:root:Truncating @ 40, latest SV = 0.00014172391508251005\n",
      "WARNING:root:Truncating @ 40, latest SV = 5.1965159238107246e-05\n",
      "WARNING:root:Truncating @ 40, latest SV = 5.138557754394912e-06\n",
      "WARNING:root:Truncating @ 40, latest SV = 1.0670761370585395e-07\n"
     ]
    },
    {
     "name": "stdout",
     "output_type": "stream",
     "text": [
      "169 [1, 2, 4, 8, 16, 30, 40, 40, 40, 40, 40, 40, 40, 40, 40, 40, 40, 40, 40, 40, 40, 40, 40, 40, 40, 32, 16, 8, 4, 2, 1]\n",
      "MPS with length 30 and physical d=2\n",
      "chi [1, 6, 12, 24, 48, 90, 120, 120, 120, 120, 120, 120, 120, 120, 120, 120, 120, 120, 120, 120, 120, 120, 120, 120, 120, 96, 48, 24, 12, 6, 1]\n"
     ]
    },
    {
     "name": "stderr",
     "output_type": "stream",
     "text": [
      "WARNING:root:Truncating @ 40, latest SV = 0.0012231598364400929\n",
      "WARNING:root:Truncating @ 40, latest SV = 0.0019494220971213935\n",
      "WARNING:root:Truncating @ 40, latest SV = 0.0025656820387285327\n",
      "WARNING:root:Truncating @ 40, latest SV = 0.0030393433071590867\n",
      "WARNING:root:Truncating @ 40, latest SV = 0.0032017250752925824\n",
      "WARNING:root:Truncating @ 40, latest SV = 0.003132967349904105\n",
      "WARNING:root:Truncating @ 40, latest SV = 0.003044922565593369\n",
      "WARNING:root:Truncating @ 40, latest SV = 0.002855946692170771\n",
      "WARNING:root:Truncating @ 40, latest SV = 0.0025507800025817745\n",
      "WARNING:root:Truncating @ 40, latest SV = 0.002181525060598718\n",
      "WARNING:root:Truncating @ 40, latest SV = 0.001904037327362746\n",
      "WARNING:root:Truncating @ 40, latest SV = 0.001567639492466287\n",
      "WARNING:root:Truncating @ 40, latest SV = 0.0012318855209003208\n",
      "WARNING:root:Truncating @ 40, latest SV = 0.0009674286912885296\n",
      "WARNING:root:Truncating @ 40, latest SV = 0.0006366979531475218\n",
      "WARNING:root:Truncating @ 40, latest SV = 9.225137234021416e-05\n",
      "WARNING:root:Truncating @ 40, latest SV = 1.9605938266789502e-05\n",
      "WARNING:root:Truncating @ 40, latest SV = 3.478068545932699e-06\n",
      "WARNING:root:Truncating @ 40, latest SV = 3.385060511352588e-08\n"
     ]
    },
    {
     "name": "stdout",
     "output_type": "stream",
     "text": [
      "170 [1, 2, 4, 8, 16, 31, 40, 40, 40, 40, 40, 40, 40, 40, 40, 40, 40, 40, 40, 40, 40, 40, 40, 40, 40, 32, 16, 8, 4, 2, 1]\n",
      "MPS with length 30 and physical d=2\n",
      "chi [1, 6, 12, 24, 48, 93, 120, 120, 120, 120, 120, 120, 120, 120, 120, 120, 120, 120, 120, 120, 120, 120, 120, 120, 120, 96, 48, 24, 12, 6, 1]\n"
     ]
    },
    {
     "name": "stderr",
     "output_type": "stream",
     "text": [
      "WARNING:root:Truncating @ 40, latest SV = 0.0013092288793211785\n",
      "WARNING:root:Truncating @ 40, latest SV = 0.002045943952930031\n",
      "WARNING:root:Truncating @ 40, latest SV = 0.0025393264223968494\n",
      "WARNING:root:Truncating @ 40, latest SV = 0.0029635704544212567\n",
      "WARNING:root:Truncating @ 40, latest SV = 0.0031422549824434492\n",
      "WARNING:root:Truncating @ 40, latest SV = 0.0028905339275849483\n",
      "WARNING:root:Truncating @ 40, latest SV = 0.0026428967407963466\n",
      "WARNING:root:Truncating @ 40, latest SV = 0.0024849317455074415\n",
      "WARNING:root:Truncating @ 40, latest SV = 0.002374406977764939\n",
      "WARNING:root:Truncating @ 40, latest SV = 0.002169010495014493\n",
      "WARNING:root:Truncating @ 40, latest SV = 0.0019751875388705755\n",
      "WARNING:root:Truncating @ 40, latest SV = 0.0018140573866310184\n",
      "WARNING:root:Truncating @ 40, latest SV = 0.0013649514214642056\n",
      "WARNING:root:Truncating @ 40, latest SV = 0.0008508173427080885\n",
      "WARNING:root:Truncating @ 40, latest SV = 0.0002724645793808806\n",
      "WARNING:root:Truncating @ 40, latest SV = 0.00012552602254136525\n",
      "WARNING:root:Truncating @ 40, latest SV = 3.418238582953405e-05\n",
      "WARNING:root:Truncating @ 40, latest SV = 2.748850064912571e-06\n",
      "WARNING:root:Truncating @ 40, latest SV = 1.2620707195443931e-08\n"
     ]
    },
    {
     "name": "stdout",
     "output_type": "stream",
     "text": [
      "171 [1, 2, 4, 8, 15, 28, 40, 40, 40, 40, 40, 40, 40, 40, 40, 40, 40, 40, 40, 40, 40, 40, 40, 40, 40, 32, 16, 8, 4, 2, 1]\n",
      "MPS with length 30 and physical d=2\n",
      "chi [1, 6, 12, 24, 45, 84, 120, 120, 120, 120, 120, 120, 120, 120, 120, 120, 120, 120, 120, 120, 120, 120, 120, 120, 120, 96, 48, 24, 12, 6, 1]\n"
     ]
    },
    {
     "name": "stderr",
     "output_type": "stream",
     "text": [
      "WARNING:root:Truncating @ 40, latest SV = 0.0012138182086549774\n",
      "WARNING:root:Truncating @ 40, latest SV = 0.0018940172151483538\n",
      "WARNING:root:Truncating @ 40, latest SV = 0.0025757602090921298\n",
      "WARNING:root:Truncating @ 40, latest SV = 0.002819075849996031\n",
      "WARNING:root:Truncating @ 40, latest SV = 0.003007199442841263\n",
      "WARNING:root:Truncating @ 40, latest SV = 0.0027496609063132034\n",
      "WARNING:root:Truncating @ 40, latest SV = 0.00270774715873241\n",
      "WARNING:root:Truncating @ 40, latest SV = 0.002628794733681547\n",
      "WARNING:root:Truncating @ 40, latest SV = 0.0023819097714041326\n",
      "WARNING:root:Truncating @ 40, latest SV = 0.002373946136381992\n",
      "WARNING:root:Truncating @ 40, latest SV = 0.001989955307947944\n",
      "WARNING:root:Truncating @ 40, latest SV = 0.001497889083846135\n",
      "WARNING:root:Truncating @ 40, latest SV = 0.001152195222440817\n",
      "WARNING:root:Truncating @ 40, latest SV = 0.0005813388583057264\n",
      "WARNING:root:Truncating @ 40, latest SV = 0.00017725464439890225\n",
      "WARNING:root:Truncating @ 40, latest SV = 8.964200609565204e-05\n",
      "WARNING:root:Truncating @ 40, latest SV = 2.275708979496253e-05\n",
      "WARNING:root:Truncating @ 40, latest SV = 1.004254424865973e-06\n",
      "WARNING:root:Truncating @ 40, latest SV = 4.210849606867607e-09\n"
     ]
    },
    {
     "name": "stdout",
     "output_type": "stream",
     "text": [
      "172 [1, 2, 4, 8, 15, 27, 40, 40, 40, 40, 40, 40, 40, 40, 40, 40, 40, 40, 40, 40, 40, 40, 40, 40, 40, 32, 16, 8, 4, 2, 1]\n",
      "MPS with length 30 and physical d=2\n",
      "chi [1, 6, 12, 24, 45, 81, 120, 120, 120, 120, 120, 120, 120, 120, 120, 120, 120, 120, 120, 120, 120, 120, 120, 120, 120, 96, 48, 24, 12, 6, 1]\n"
     ]
    },
    {
     "name": "stderr",
     "output_type": "stream",
     "text": [
      "WARNING:root:Truncating @ 40, latest SV = 0.0014470698858586946\n",
      "WARNING:root:Truncating @ 40, latest SV = 0.0020054772727417436\n",
      "WARNING:root:Truncating @ 40, latest SV = 0.0027559003995456352\n",
      "WARNING:root:Truncating @ 40, latest SV = 0.0029437807697134254\n",
      "WARNING:root:Truncating @ 40, latest SV = 0.002997225852559649\n",
      "WARNING:root:Truncating @ 40, latest SV = 0.002850509944709209\n",
      "WARNING:root:Truncating @ 40, latest SV = 0.00293568325970371\n",
      "WARNING:root:Truncating @ 40, latest SV = 0.0026962953365021903\n",
      "WARNING:root:Truncating @ 40, latest SV = 0.0024707262896546565\n",
      "WARNING:root:Truncating @ 40, latest SV = 0.0022473393957933036\n",
      "WARNING:root:Truncating @ 40, latest SV = 0.001885870981770387\n",
      "WARNING:root:Truncating @ 40, latest SV = 0.0015436003401065987\n",
      "WARNING:root:Truncating @ 40, latest SV = 0.001203990071368382\n",
      "WARNING:root:Truncating @ 40, latest SV = 0.0007948950328813507\n",
      "WARNING:root:Truncating @ 40, latest SV = 0.00036035570065472687\n",
      "WARNING:root:Truncating @ 40, latest SV = 0.00015695440919519861\n",
      "WARNING:root:Truncating @ 40, latest SV = 5.7900875928540697e-05\n",
      "WARNING:root:Truncating @ 40, latest SV = 1.931007217882257e-06\n",
      "WARNING:root:Truncating @ 40, latest SV = 3.44575770029402e-09\n"
     ]
    },
    {
     "name": "stdout",
     "output_type": "stream",
     "text": [
      "173 [1, 2, 4, 8, 15, 28, 40, 40, 40, 40, 40, 40, 40, 40, 40, 40, 40, 40, 40, 40, 40, 40, 40, 40, 40, 32, 16, 8, 4, 2, 1]\n",
      "MPS with length 30 and physical d=2\n",
      "chi [1, 6, 12, 24, 45, 84, 120, 120, 120, 120, 120, 120, 120, 120, 120, 120, 120, 120, 120, 120, 120, 120, 120, 120, 120, 96, 48, 24, 12, 6, 1]\n"
     ]
    },
    {
     "name": "stderr",
     "output_type": "stream",
     "text": [
      "WARNING:root:Truncating @ 40, latest SV = 0.0011742620203831402\n",
      "WARNING:root:Truncating @ 40, latest SV = 0.0018459128799898801\n",
      "WARNING:root:Truncating @ 40, latest SV = 0.0023912748522001643\n",
      "WARNING:root:Truncating @ 40, latest SV = 0.002672115147557144\n",
      "WARNING:root:Truncating @ 40, latest SV = 0.0026816992385060743\n",
      "WARNING:root:Truncating @ 40, latest SV = 0.0028880693652197057\n",
      "WARNING:root:Truncating @ 40, latest SV = 0.0026684579121978354\n",
      "WARNING:root:Truncating @ 40, latest SV = 0.002640600586932351\n",
      "WARNING:root:Truncating @ 40, latest SV = 0.0024711923728976057\n",
      "WARNING:root:Truncating @ 40, latest SV = 0.0020300737424284064\n",
      "WARNING:root:Truncating @ 40, latest SV = 0.0016070951748369902\n",
      "WARNING:root:Truncating @ 40, latest SV = 0.0012008553071976668\n",
      "WARNING:root:Truncating @ 40, latest SV = 0.0007729841510855136\n",
      "WARNING:root:Truncating @ 40, latest SV = 0.00043435526715208516\n",
      "WARNING:root:Truncating @ 40, latest SV = 0.00014990183540411158\n",
      "WARNING:root:Truncating @ 40, latest SV = 7.535627039595851e-05\n",
      "WARNING:root:Truncating @ 40, latest SV = 2.6330049912848425e-05\n",
      "WARNING:root:Truncating @ 40, latest SV = 2.2903030781655004e-07\n",
      "WARNING:root:Truncating @ 40, latest SV = 1.4503236401001148e-09\n"
     ]
    },
    {
     "name": "stdout",
     "output_type": "stream",
     "text": [
      "174 [1, 2, 4, 8, 14, 25, 40, 40, 40, 40, 40, 40, 40, 40, 40, 40, 40, 40, 40, 40, 40, 40, 40, 40, 40, 32, 16, 8, 4, 2, 1]\n",
      "MPS with length 30 and physical d=2\n",
      "chi [1, 6, 12, 24, 42, 75, 120, 120, 120, 120, 120, 120, 120, 120, 120, 120, 120, 120, 120, 120, 120, 120, 120, 120, 120, 96, 48, 24, 12, 6, 1]\n"
     ]
    },
    {
     "name": "stderr",
     "output_type": "stream",
     "text": [
      "WARNING:root:Truncating @ 40, latest SV = 0.0008359216265860526\n",
      "WARNING:root:Truncating @ 40, latest SV = 0.0013469390092406856\n",
      "WARNING:root:Truncating @ 40, latest SV = 0.0021078047476620443\n",
      "WARNING:root:Truncating @ 40, latest SV = 0.002474954012520869\n",
      "WARNING:root:Truncating @ 40, latest SV = 0.002580429727790455\n",
      "WARNING:root:Truncating @ 40, latest SV = 0.0026449493240096548\n",
      "WARNING:root:Truncating @ 40, latest SV = 0.0025421629481978333\n",
      "WARNING:root:Truncating @ 40, latest SV = 0.002544880129010308\n",
      "WARNING:root:Truncating @ 40, latest SV = 0.0022136664103935065\n",
      "WARNING:root:Truncating @ 40, latest SV = 0.0019947602613836057\n",
      "WARNING:root:Truncating @ 40, latest SV = 0.0018489404455133873\n",
      "WARNING:root:Truncating @ 40, latest SV = 0.001572727305378533\n",
      "WARNING:root:Truncating @ 40, latest SV = 0.0012125111559075157\n",
      "WARNING:root:Truncating @ 40, latest SV = 0.0007957022206620697\n",
      "WARNING:root:Truncating @ 40, latest SV = 0.00027159743234248716\n",
      "WARNING:root:Truncating @ 40, latest SV = 0.00010737694264134336\n",
      "WARNING:root:Truncating @ 40, latest SV = 1.5186623952726858e-05\n",
      "WARNING:root:Truncating @ 40, latest SV = 4.2801867290743613e-07\n",
      "WARNING:root:Truncating @ 40, latest SV = 6.101724056415846e-10\n"
     ]
    },
    {
     "name": "stdout",
     "output_type": "stream",
     "text": [
      "175 [1, 2, 4, 7, 13, 24, 40, 40, 40, 40, 40, 40, 40, 40, 40, 40, 40, 40, 40, 40, 40, 40, 40, 40, 40, 32, 16, 8, 4, 2, 1]\n",
      "MPS with length 30 and physical d=2\n",
      "chi [1, 6, 12, 21, 39, 72, 120, 120, 120, 120, 120, 120, 120, 120, 120, 120, 120, 120, 120, 120, 120, 120, 120, 120, 120, 96, 48, 24, 12, 6, 1]\n"
     ]
    },
    {
     "name": "stderr",
     "output_type": "stream",
     "text": [
      "WARNING:root:Truncating @ 40, latest SV = 0.0012778508698071628\n",
      "WARNING:root:Truncating @ 40, latest SV = 0.002260756562688154\n",
      "WARNING:root:Truncating @ 40, latest SV = 0.0032699511619181834\n",
      "WARNING:root:Truncating @ 40, latest SV = 0.0037216800855414825\n",
      "WARNING:root:Truncating @ 40, latest SV = 0.004051667899957415\n",
      "WARNING:root:Truncating @ 40, latest SV = 0.004049596821833499\n",
      "WARNING:root:Truncating @ 40, latest SV = 0.003619046046080179\n",
      "WARNING:root:Truncating @ 40, latest SV = 0.0031456257666747766\n",
      "WARNING:root:Truncating @ 40, latest SV = 0.002780554898828451\n",
      "WARNING:root:Truncating @ 40, latest SV = 0.002258742697087169\n",
      "WARNING:root:Truncating @ 40, latest SV = 0.0020881690875537546\n",
      "WARNING:root:Truncating @ 40, latest SV = 0.001630003743151811\n",
      "WARNING:root:Truncating @ 40, latest SV = 0.0010654306018374959\n",
      "WARNING:root:Truncating @ 40, latest SV = 0.0005367274367030196\n",
      "WARNING:root:Truncating @ 40, latest SV = 0.00014671225379896528\n",
      "WARNING:root:Truncating @ 40, latest SV = 5.8462527726575035e-05\n",
      "WARNING:root:Truncating @ 40, latest SV = 2.5373743994558062e-05\n",
      "WARNING:root:Truncating @ 40, latest SV = 1.6577380618628067e-06\n",
      "WARNING:root:Truncating @ 40, latest SV = 4.771769882607257e-10\n"
     ]
    },
    {
     "name": "stdout",
     "output_type": "stream",
     "text": [
      "176 [1, 2, 4, 7, 14, 26, 40, 40, 40, 40, 40, 40, 40, 40, 40, 40, 40, 40, 40, 40, 40, 40, 40, 40, 40, 32, 16, 8, 4, 2, 1]\n",
      "MPS with length 30 and physical d=2\n",
      "chi [1, 6, 12, 21, 42, 78, 120, 120, 120, 120, 120, 120, 120, 120, 120, 120, 120, 120, 120, 120, 120, 120, 120, 120, 120, 96, 48, 24, 12, 6, 1]\n"
     ]
    },
    {
     "name": "stderr",
     "output_type": "stream",
     "text": [
      "WARNING:root:Truncating @ 40, latest SV = 0.0011496690215132912\n",
      "WARNING:root:Truncating @ 40, latest SV = 0.0021184131000986386\n",
      "WARNING:root:Truncating @ 40, latest SV = 0.0034607792245461306\n",
      "WARNING:root:Truncating @ 40, latest SV = 0.004249310928673006\n",
      "WARNING:root:Truncating @ 40, latest SV = 0.0048384088706336\n",
      "WARNING:root:Truncating @ 40, latest SV = 0.004248026935320101\n",
      "WARNING:root:Truncating @ 40, latest SV = 0.0041532693668742\n",
      "WARNING:root:Truncating @ 40, latest SV = 0.00378370839200955\n",
      "WARNING:root:Truncating @ 40, latest SV = 0.003261110569426172\n",
      "WARNING:root:Truncating @ 40, latest SV = 0.0030027817151396497\n",
      "WARNING:root:Truncating @ 40, latest SV = 0.0024687717984274086\n",
      "WARNING:root:Truncating @ 40, latest SV = 0.0021564623789192394\n",
      "WARNING:root:Truncating @ 40, latest SV = 0.0016263378804120853\n",
      "WARNING:root:Truncating @ 40, latest SV = 0.0011274937520153333\n",
      "WARNING:root:Truncating @ 40, latest SV = 0.0005751075137493944\n",
      "WARNING:root:Truncating @ 40, latest SV = 0.00028772801442840195\n",
      "WARNING:root:Truncating @ 40, latest SV = 0.00010065046627297659\n",
      "WARNING:root:Truncating @ 40, latest SV = 7.893028234078907e-07\n",
      "WARNING:root:Truncating @ 40, latest SV = 1.0566204102363075e-10\n"
     ]
    },
    {
     "name": "stdout",
     "output_type": "stream",
     "text": [
      "177 [1, 2, 4, 7, 13, 23, 40, 40, 40, 40, 40, 40, 40, 40, 40, 40, 40, 40, 40, 40, 40, 40, 40, 40, 40, 32, 16, 8, 4, 2, 1]\n",
      "MPS with length 30 and physical d=2\n",
      "chi [1, 6, 12, 21, 39, 69, 120, 120, 120, 120, 120, 120, 120, 120, 120, 120, 120, 120, 120, 120, 120, 120, 120, 120, 120, 96, 48, 24, 12, 6, 1]\n"
     ]
    },
    {
     "name": "stderr",
     "output_type": "stream",
     "text": [
      "WARNING:root:Truncating @ 40, latest SV = 0.0008038603227851106\n",
      "WARNING:root:Truncating @ 40, latest SV = 0.001523536176368671\n",
      "WARNING:root:Truncating @ 40, latest SV = 0.002477735192724338\n",
      "WARNING:root:Truncating @ 40, latest SV = 0.0028552624419250078\n",
      "WARNING:root:Truncating @ 40, latest SV = 0.0031772409232061058\n",
      "WARNING:root:Truncating @ 40, latest SV = 0.0030800429919937587\n",
      "WARNING:root:Truncating @ 40, latest SV = 0.0028733664564562617\n",
      "WARNING:root:Truncating @ 40, latest SV = 0.0028649634595374934\n",
      "WARNING:root:Truncating @ 40, latest SV = 0.002434114203831546\n",
      "WARNING:root:Truncating @ 40, latest SV = 0.0021175337484148037\n",
      "WARNING:root:Truncating @ 40, latest SV = 0.0017579060352882134\n",
      "WARNING:root:Truncating @ 40, latest SV = 0.001434921388287656\n",
      "WARNING:root:Truncating @ 40, latest SV = 0.0009832383057108306\n",
      "WARNING:root:Truncating @ 40, latest SV = 0.0005292478791520158\n",
      "WARNING:root:Truncating @ 40, latest SV = 0.0003328466183635799\n",
      "WARNING:root:Truncating @ 40, latest SV = 0.00016315876635394737\n",
      "WARNING:root:Truncating @ 40, latest SV = 3.0700276541925475e-05\n",
      "WARNING:root:Truncating @ 40, latest SV = 5.307717677394259e-07\n",
      "WARNING:root:Truncating @ 40, latest SV = 4.4347539151088255e-10\n"
     ]
    },
    {
     "name": "stdout",
     "output_type": "stream",
     "text": [
      "178 [1, 2, 4, 8, 15, 25, 40, 40, 40, 40, 40, 40, 40, 40, 40, 40, 40, 40, 40, 40, 40, 40, 40, 40, 40, 32, 16, 8, 4, 2, 1]\n",
      "MPS with length 30 and physical d=2\n",
      "chi [1, 6, 12, 24, 45, 75, 120, 120, 120, 120, 120, 120, 120, 120, 120, 120, 120, 120, 120, 120, 120, 120, 120, 120, 120, 96, 48, 24, 12, 6, 1]\n"
     ]
    },
    {
     "name": "stderr",
     "output_type": "stream",
     "text": [
      "WARNING:root:Truncating @ 40, latest SV = 0.0007736184400581485\n",
      "WARNING:root:Truncating @ 40, latest SV = 0.001345164848531245\n",
      "WARNING:root:Truncating @ 40, latest SV = 0.001923243335513624\n",
      "WARNING:root:Truncating @ 40, latest SV = 0.002524321409967817\n",
      "WARNING:root:Truncating @ 40, latest SV = 0.0027752941188128595\n",
      "WARNING:root:Truncating @ 40, latest SV = 0.002989202806422571\n",
      "WARNING:root:Truncating @ 40, latest SV = 0.0028995770400906677\n",
      "WARNING:root:Truncating @ 40, latest SV = 0.002681683788791392\n",
      "WARNING:root:Truncating @ 40, latest SV = 0.002491005464156735\n",
      "WARNING:root:Truncating @ 40, latest SV = 0.0020856140593651833\n",
      "WARNING:root:Truncating @ 40, latest SV = 0.0017829183475789668\n",
      "WARNING:root:Truncating @ 40, latest SV = 0.001433895171616208\n",
      "WARNING:root:Truncating @ 40, latest SV = 0.0009083694707403601\n",
      "WARNING:root:Truncating @ 40, latest SV = 0.0005205012425451875\n",
      "WARNING:root:Truncating @ 40, latest SV = 0.00027667433766169724\n",
      "WARNING:root:Truncating @ 40, latest SV = 0.00011149177526402159\n",
      "WARNING:root:Truncating @ 40, latest SV = 2.87941031914111e-05\n",
      "WARNING:root:Truncating @ 40, latest SV = 2.8163424660429142e-06\n",
      "WARNING:root:Truncating @ 40, latest SV = 1.3702445822696314e-10\n"
     ]
    },
    {
     "name": "stdout",
     "output_type": "stream",
     "text": [
      "179 [1, 2, 4, 7, 13, 25, 40, 40, 40, 40, 40, 40, 40, 40, 40, 40, 40, 40, 40, 40, 40, 40, 40, 40, 40, 32, 16, 8, 4, 2, 1]\n",
      "MPS with length 30 and physical d=2\n",
      "chi [1, 6, 12, 21, 39, 75, 120, 120, 120, 120, 120, 120, 120, 120, 120, 120, 120, 120, 120, 120, 120, 120, 120, 120, 120, 96, 48, 24, 12, 6, 1]\n"
     ]
    },
    {
     "name": "stderr",
     "output_type": "stream",
     "text": [
      "WARNING:root:Truncating @ 40, latest SV = 0.0007159241201469224\n",
      "WARNING:root:Truncating @ 40, latest SV = 0.0011256900996230912\n",
      "WARNING:root:Truncating @ 40, latest SV = 0.0015852401991105843\n",
      "WARNING:root:Truncating @ 40, latest SV = 0.001898568802824725\n",
      "WARNING:root:Truncating @ 40, latest SV = 0.0022201011826140224\n",
      "WARNING:root:Truncating @ 40, latest SV = 0.0021737607542221633\n",
      "WARNING:root:Truncating @ 40, latest SV = 0.002146656407882487\n",
      "WARNING:root:Truncating @ 40, latest SV = 0.002211331850424211\n",
      "WARNING:root:Truncating @ 40, latest SV = 0.00193972417059201\n",
      "WARNING:root:Truncating @ 40, latest SV = 0.0017861581079816865\n",
      "WARNING:root:Truncating @ 40, latest SV = 0.001352582993111875\n",
      "WARNING:root:Truncating @ 40, latest SV = 0.0010667899330052716\n",
      "WARNING:root:Truncating @ 40, latest SV = 0.0006363139338485069\n",
      "WARNING:root:Truncating @ 40, latest SV = 0.0004522367527482798\n",
      "WARNING:root:Truncating @ 40, latest SV = 0.00012655790264981577\n",
      "WARNING:root:Truncating @ 40, latest SV = 6.813495078709663e-05\n",
      "WARNING:root:Truncating @ 40, latest SV = 1.402511324091656e-05\n",
      "WARNING:root:Truncating @ 40, latest SV = 1.0150454325329407e-06\n",
      "WARNING:root:Truncating @ 40, latest SV = 4.2474399131577435e-10\n"
     ]
    },
    {
     "name": "stdout",
     "output_type": "stream",
     "text": [
      "180 [1, 2, 4, 8, 14, 24, 40, 40, 40, 40, 40, 40, 40, 40, 40, 40, 40, 40, 40, 40, 40, 40, 40, 40, 40, 32, 16, 8, 4, 2, 1]\n",
      "MPS with length 30 and physical d=2\n",
      "chi [1, 6, 12, 24, 42, 72, 120, 120, 120, 120, 120, 120, 120, 120, 120, 120, 120, 120, 120, 120, 120, 120, 120, 120, 120, 96, 48, 24, 12, 6, 1]\n"
     ]
    },
    {
     "name": "stderr",
     "output_type": "stream",
     "text": [
      "WARNING:root:Truncating @ 40, latest SV = 0.000665239544408739\n",
      "WARNING:root:Truncating @ 40, latest SV = 0.0012095498605642077\n",
      "WARNING:root:Truncating @ 40, latest SV = 0.001663162293355994\n",
      "WARNING:root:Truncating @ 40, latest SV = 0.0020900512066860666\n",
      "WARNING:root:Truncating @ 40, latest SV = 0.0023992943209555744\n",
      "WARNING:root:Truncating @ 40, latest SV = 0.0024830122674696065\n",
      "WARNING:root:Truncating @ 40, latest SV = 0.0023429077287051825\n",
      "WARNING:root:Truncating @ 40, latest SV = 0.0022919107832453174\n",
      "WARNING:root:Truncating @ 40, latest SV = 0.002031088622096327\n",
      "WARNING:root:Truncating @ 40, latest SV = 0.0018803546619770976\n",
      "WARNING:root:Truncating @ 40, latest SV = 0.0016002471284652206\n",
      "WARNING:root:Truncating @ 40, latest SV = 0.001418854722099847\n",
      "WARNING:root:Truncating @ 40, latest SV = 0.0010911407376706691\n",
      "WARNING:root:Truncating @ 40, latest SV = 0.000695422402158883\n",
      "WARNING:root:Truncating @ 40, latest SV = 0.0002275493924683187\n",
      "WARNING:root:Truncating @ 40, latest SV = 9.268720353329173e-05\n",
      "WARNING:root:Truncating @ 40, latest SV = 3.1699290063791226e-05\n",
      "WARNING:root:Truncating @ 40, latest SV = 6.247242963392351e-07\n"
     ]
    },
    {
     "name": "stdout",
     "output_type": "stream",
     "text": [
      "181 [1, 2, 4, 7, 11, 20, 36, 40, 40, 40, 40, 40, 40, 40, 40, 40, 40, 40, 40, 40, 40, 40, 40, 40, 40, 32, 16, 8, 4, 2, 1]\n",
      "MPS with length 30 and physical d=2\n",
      "chi [1, 6, 12, 21, 33, 60, 108, 120, 120, 120, 120, 120, 120, 120, 120, 120, 120, 120, 120, 120, 120, 120, 120, 120, 120, 96, 48, 24, 12, 6, 1]\n"
     ]
    },
    {
     "name": "stderr",
     "output_type": "stream",
     "text": [
      "WARNING:root:Truncating @ 40, latest SV = 0.000495656192600801\n",
      "WARNING:root:Truncating @ 40, latest SV = 0.0010726703324799342\n",
      "WARNING:root:Truncating @ 40, latest SV = 0.0016660974422675525\n",
      "WARNING:root:Truncating @ 40, latest SV = 0.0019376464156304377\n",
      "WARNING:root:Truncating @ 40, latest SV = 0.0021818922786389318\n",
      "WARNING:root:Truncating @ 40, latest SV = 0.002301438774139422\n",
      "WARNING:root:Truncating @ 40, latest SV = 0.0022062082883729187\n",
      "WARNING:root:Truncating @ 40, latest SV = 0.0020093566160867787\n",
      "WARNING:root:Truncating @ 40, latest SV = 0.0018158456454838924\n",
      "WARNING:root:Truncating @ 40, latest SV = 0.0015720612605987627\n",
      "WARNING:root:Truncating @ 40, latest SV = 0.0012915714785521233\n",
      "WARNING:root:Truncating @ 40, latest SV = 0.0008545137587414627\n",
      "WARNING:root:Truncating @ 40, latest SV = 0.0005976310192397848\n",
      "WARNING:root:Truncating @ 40, latest SV = 0.0003823434801810202\n",
      "WARNING:root:Truncating @ 40, latest SV = 0.0002563480229523989\n",
      "WARNING:root:Truncating @ 40, latest SV = 0.00012824176504474177\n",
      "WARNING:root:Truncating @ 40, latest SV = 2.492202487025922e-05\n",
      "WARNING:root:Truncating @ 40, latest SV = 8.396716640904663e-07\n"
     ]
    },
    {
     "name": "stdout",
     "output_type": "stream",
     "text": [
      "182 [1, 2, 4, 7, 12, 22, 38, 40, 40, 40, 40, 40, 40, 40, 40, 40, 40, 40, 40, 40, 40, 40, 40, 40, 40, 32, 16, 8, 4, 2, 1]\n",
      "MPS with length 30 and physical d=2\n",
      "chi [1, 6, 12, 21, 36, 66, 114, 120, 120, 120, 120, 120, 120, 120, 120, 120, 120, 120, 120, 120, 120, 120, 120, 120, 120, 96, 48, 24, 12, 6, 1]\n"
     ]
    },
    {
     "name": "stderr",
     "output_type": "stream",
     "text": [
      "WARNING:root:Truncating @ 40, latest SV = 0.0006871526148056246\n",
      "WARNING:root:Truncating @ 40, latest SV = 0.0014146818094675434\n",
      "WARNING:root:Truncating @ 40, latest SV = 0.002311763995884895\n",
      "WARNING:root:Truncating @ 40, latest SV = 0.0028892399244219674\n",
      "WARNING:root:Truncating @ 40, latest SV = 0.0030575813859775977\n",
      "WARNING:root:Truncating @ 40, latest SV = 0.0030211085356289386\n",
      "WARNING:root:Truncating @ 40, latest SV = 0.0031128768303459913\n",
      "WARNING:root:Truncating @ 40, latest SV = 0.0028463894027059445\n",
      "WARNING:root:Truncating @ 40, latest SV = 0.0024936464424229164\n",
      "WARNING:root:Truncating @ 40, latest SV = 0.002150100875396042\n",
      "WARNING:root:Truncating @ 40, latest SV = 0.0019139705390477874\n",
      "WARNING:root:Truncating @ 40, latest SV = 0.0016817599363646426\n",
      "WARNING:root:Truncating @ 40, latest SV = 0.0014387117990139113\n",
      "WARNING:root:Truncating @ 40, latest SV = 0.001009871471461661\n",
      "WARNING:root:Truncating @ 40, latest SV = 0.0003604937274042085\n",
      "WARNING:root:Truncating @ 40, latest SV = 0.00011140227282852129\n",
      "WARNING:root:Truncating @ 40, latest SV = 4.219653586792996e-05\n",
      "WARNING:root:Truncating @ 40, latest SV = 1.2707296270679583e-06\n"
     ]
    },
    {
     "name": "stdout",
     "output_type": "stream",
     "text": [
      "183 [1, 2, 4, 7, 11, 20, 35, 40, 40, 40, 40, 40, 40, 40, 40, 40, 40, 40, 40, 40, 40, 40, 40, 40, 40, 32, 16, 8, 4, 2, 1]\n",
      "MPS with length 30 and physical d=2\n",
      "chi [1, 6, 12, 21, 33, 60, 105, 120, 120, 120, 120, 120, 120, 120, 120, 120, 120, 120, 120, 120, 120, 120, 120, 120, 120, 96, 48, 24, 12, 6, 1]\n"
     ]
    },
    {
     "name": "stderr",
     "output_type": "stream",
     "text": [
      "WARNING:root:Truncating @ 40, latest SV = 0.0010962219484769928\n",
      "WARNING:root:Truncating @ 40, latest SV = 0.001602990672860451\n",
      "WARNING:root:Truncating @ 40, latest SV = 0.002291362596340599\n",
      "WARNING:root:Truncating @ 40, latest SV = 0.0026275196820574015\n",
      "WARNING:root:Truncating @ 40, latest SV = 0.0027895935909294004\n",
      "WARNING:root:Truncating @ 40, latest SV = 0.002778787687970463\n",
      "WARNING:root:Truncating @ 40, latest SV = 0.0026760447860691566\n",
      "WARNING:root:Truncating @ 40, latest SV = 0.0023980584348085197\n",
      "WARNING:root:Truncating @ 40, latest SV = 0.002192563902666996\n",
      "WARNING:root:Truncating @ 40, latest SV = 0.0020724862828217054\n",
      "WARNING:root:Truncating @ 40, latest SV = 0.001774160656750668\n",
      "WARNING:root:Truncating @ 40, latest SV = 0.0014274609800787484\n",
      "WARNING:root:Truncating @ 40, latest SV = 0.0009748429765455317\n",
      "WARNING:root:Truncating @ 40, latest SV = 0.00047392705934892185\n",
      "WARNING:root:Truncating @ 40, latest SV = 0.00023006793317804678\n",
      "WARNING:root:Truncating @ 40, latest SV = 0.00010632634693018456\n",
      "WARNING:root:Truncating @ 40, latest SV = 4.321210952695907e-05\n",
      "WARNING:root:Truncating @ 40, latest SV = 3.4390623834291656e-06\n"
     ]
    },
    {
     "name": "stdout",
     "output_type": "stream",
     "text": [
      "184 [1, 2, 4, 6, 11, 20, 37, 40, 40, 40, 40, 40, 40, 40, 40, 40, 40, 40, 40, 40, 40, 40, 40, 40, 40, 32, 16, 8, 4, 2, 1]\n",
      "MPS with length 30 and physical d=2\n",
      "chi [1, 6, 12, 18, 33, 60, 111, 120, 120, 120, 120, 120, 120, 120, 120, 120, 120, 120, 120, 120, 120, 120, 120, 120, 120, 96, 48, 24, 12, 6, 1]\n"
     ]
    },
    {
     "name": "stderr",
     "output_type": "stream",
     "text": [
      "WARNING:root:Truncating @ 40, latest SV = 0.001125935524659475\n",
      "WARNING:root:Truncating @ 40, latest SV = 0.0019149774330365138\n",
      "WARNING:root:Truncating @ 40, latest SV = 0.0027878783149528352\n",
      "WARNING:root:Truncating @ 40, latest SV = 0.003183239041609467\n",
      "WARNING:root:Truncating @ 40, latest SV = 0.0034511806733934355\n",
      "WARNING:root:Truncating @ 40, latest SV = 0.0032750793422087828\n",
      "WARNING:root:Truncating @ 40, latest SV = 0.003288684512327159\n",
      "WARNING:root:Truncating @ 40, latest SV = 0.003039311325441407\n",
      "WARNING:root:Truncating @ 40, latest SV = 0.00283158894467533\n",
      "WARNING:root:Truncating @ 40, latest SV = 0.0026090795138623796\n",
      "WARNING:root:Truncating @ 40, latest SV = 0.002241858438832401\n",
      "WARNING:root:Truncating @ 40, latest SV = 0.0018129812904072594\n",
      "WARNING:root:Truncating @ 40, latest SV = 0.0014922836442801731\n",
      "WARNING:root:Truncating @ 40, latest SV = 0.0009315835048852724\n",
      "WARNING:root:Truncating @ 40, latest SV = 0.00036031430513423654\n",
      "WARNING:root:Truncating @ 40, latest SV = 0.0001909711711667292\n",
      "WARNING:root:Truncating @ 40, latest SV = 6.498119554600646e-05\n",
      "WARNING:root:Truncating @ 40, latest SV = 1.5499925618571868e-06\n"
     ]
    },
    {
     "name": "stdout",
     "output_type": "stream",
     "text": [
      "185 [1, 2, 4, 6, 10, 19, 35, 40, 40, 40, 40, 40, 40, 40, 40, 40, 40, 40, 40, 40, 40, 40, 40, 40, 40, 32, 16, 8, 4, 2, 1]\n",
      "MPS with length 30 and physical d=2\n",
      "chi [1, 6, 12, 18, 30, 57, 105, 120, 120, 120, 120, 120, 120, 120, 120, 120, 120, 120, 120, 120, 120, 120, 120, 120, 120, 96, 48, 24, 12, 6, 1]\n"
     ]
    },
    {
     "name": "stderr",
     "output_type": "stream",
     "text": [
      "WARNING:root:Truncating @ 40, latest SV = 0.0008434743052054897\n",
      "WARNING:root:Truncating @ 40, latest SV = 0.0014305577224340178\n",
      "WARNING:root:Truncating @ 40, latest SV = 0.002108973636608804\n",
      "WARNING:root:Truncating @ 40, latest SV = 0.0025814557373312354\n",
      "WARNING:root:Truncating @ 40, latest SV = 0.0027428369481090676\n",
      "WARNING:root:Truncating @ 40, latest SV = 0.002842456142976774\n",
      "WARNING:root:Truncating @ 40, latest SV = 0.0029738630844263034\n",
      "WARNING:root:Truncating @ 40, latest SV = 0.002617032851565317\n",
      "WARNING:root:Truncating @ 40, latest SV = 0.002413748058690977\n",
      "WARNING:root:Truncating @ 40, latest SV = 0.0022267069042588073\n",
      "WARNING:root:Truncating @ 40, latest SV = 0.0017459082462848588\n",
      "WARNING:root:Truncating @ 40, latest SV = 0.0014266930442747002\n",
      "WARNING:root:Truncating @ 40, latest SV = 0.0010374461353068489\n",
      "WARNING:root:Truncating @ 40, latest SV = 0.0006197386713451582\n",
      "WARNING:root:Truncating @ 40, latest SV = 0.0003889159145157353\n",
      "WARNING:root:Truncating @ 40, latest SV = 0.00011969543810661979\n",
      "WARNING:root:Truncating @ 40, latest SV = 2.48020801793926e-05\n",
      "WARNING:root:Truncating @ 40, latest SV = 8.912327137973552e-07\n"
     ]
    },
    {
     "name": "stdout",
     "output_type": "stream",
     "text": [
      "186 [1, 2, 3, 6, 10, 18, 34, 40, 40, 40, 40, 40, 40, 40, 40, 40, 40, 40, 40, 40, 40, 40, 40, 40, 40, 32, 16, 8, 4, 2, 1]\n",
      "MPS with length 30 and physical d=2\n",
      "chi [1, 6, 9, 18, 30, 54, 102, 120, 120, 120, 120, 120, 120, 120, 120, 120, 120, 120, 120, 120, 120, 120, 120, 120, 120, 96, 48, 24, 12, 6, 1]\n"
     ]
    },
    {
     "name": "stderr",
     "output_type": "stream",
     "text": [
      "WARNING:root:Truncating @ 40, latest SV = 0.0011091567316886416\n",
      "WARNING:root:Truncating @ 40, latest SV = 0.0019176302508396902\n",
      "WARNING:root:Truncating @ 40, latest SV = 0.0025213661852271914\n",
      "WARNING:root:Truncating @ 40, latest SV = 0.0033181545664888114\n",
      "WARNING:root:Truncating @ 40, latest SV = 0.0035041131115335247\n",
      "WARNING:root:Truncating @ 40, latest SV = 0.003758928652547747\n",
      "WARNING:root:Truncating @ 40, latest SV = 0.0035741706201946003\n",
      "WARNING:root:Truncating @ 40, latest SV = 0.0033172453070573426\n",
      "WARNING:root:Truncating @ 40, latest SV = 0.00299006024319237\n",
      "WARNING:root:Truncating @ 40, latest SV = 0.00282678325708399\n",
      "WARNING:root:Truncating @ 40, latest SV = 0.002148880543263031\n",
      "WARNING:root:Truncating @ 40, latest SV = 0.0018631847272103015\n",
      "WARNING:root:Truncating @ 40, latest SV = 0.001322129933961825\n",
      "WARNING:root:Truncating @ 40, latest SV = 0.0010286095910401526\n",
      "WARNING:root:Truncating @ 40, latest SV = 0.00068980491373266\n",
      "WARNING:root:Truncating @ 40, latest SV = 0.00027624712343716124\n",
      "WARNING:root:Truncating @ 40, latest SV = 2.4461456846688485e-05\n",
      "WARNING:root:Truncating @ 40, latest SV = 1.6888612776176312e-07\n"
     ]
    },
    {
     "name": "stdout",
     "output_type": "stream",
     "text": [
      "187 [1, 2, 4, 6, 11, 17, 30, 40, 40, 40, 40, 40, 40, 40, 40, 40, 40, 40, 40, 40, 40, 40, 40, 40, 40, 32, 16, 8, 4, 2, 1]\n",
      "MPS with length 30 and physical d=2\n",
      "chi [1, 6, 12, 18, 33, 51, 90, 120, 120, 120, 120, 120, 120, 120, 120, 120, 120, 120, 120, 120, 120, 120, 120, 120, 120, 96, 48, 24, 12, 6, 1]\n"
     ]
    },
    {
     "name": "stderr",
     "output_type": "stream",
     "text": [
      "WARNING:root:Truncating @ 40, latest SV = 0.000955641285852831\n",
      "WARNING:root:Truncating @ 40, latest SV = 0.0015918165191702142\n",
      "WARNING:root:Truncating @ 40, latest SV = 0.002211417174302754\n",
      "WARNING:root:Truncating @ 40, latest SV = 0.0025703434023213443\n",
      "WARNING:root:Truncating @ 40, latest SV = 0.0027887124086038713\n",
      "WARNING:root:Truncating @ 40, latest SV = 0.002842293314682855\n",
      "WARNING:root:Truncating @ 40, latest SV = 0.0026945052254157115\n",
      "WARNING:root:Truncating @ 40, latest SV = 0.0025944160718315663\n",
      "WARNING:root:Truncating @ 40, latest SV = 0.0024383875589149002\n",
      "WARNING:root:Truncating @ 40, latest SV = 0.002210133137800158\n",
      "WARNING:root:Truncating @ 40, latest SV = 0.0018253297216077053\n",
      "WARNING:root:Truncating @ 40, latest SV = 0.0015286980916288822\n",
      "WARNING:root:Truncating @ 40, latest SV = 0.0011891319302510723\n",
      "WARNING:root:Truncating @ 40, latest SV = 0.0009082731821115924\n",
      "WARNING:root:Truncating @ 40, latest SV = 0.0005469881890712898\n",
      "WARNING:root:Truncating @ 40, latest SV = 0.0002577017815619222\n",
      "WARNING:root:Truncating @ 40, latest SV = 9.885095914108431e-05\n",
      "WARNING:root:Truncating @ 40, latest SV = 1.552500743855587e-05\n"
     ]
    },
    {
     "name": "stdout",
     "output_type": "stream",
     "text": [
      "188 [1, 2, 4, 6, 10, 19, 34, 40, 40, 40, 40, 40, 40, 40, 40, 40, 40, 40, 40, 40, 40, 40, 40, 40, 40, 32, 16, 8, 4, 2, 1]\n",
      "MPS with length 30 and physical d=2\n",
      "chi [1, 6, 12, 18, 30, 57, 102, 120, 120, 120, 120, 120, 120, 120, 120, 120, 120, 120, 120, 120, 120, 120, 120, 120, 120, 96, 48, 24, 12, 6, 1]\n"
     ]
    },
    {
     "name": "stderr",
     "output_type": "stream",
     "text": [
      "WARNING:root:Truncating @ 40, latest SV = 0.0009494229133202079\n",
      "WARNING:root:Truncating @ 40, latest SV = 0.0016750247172358523\n",
      "WARNING:root:Truncating @ 40, latest SV = 0.002635750214182006\n",
      "WARNING:root:Truncating @ 40, latest SV = 0.00290625625807226\n",
      "WARNING:root:Truncating @ 40, latest SV = 0.0031629639971385267\n",
      "WARNING:root:Truncating @ 40, latest SV = 0.0031388508027730996\n",
      "WARNING:root:Truncating @ 40, latest SV = 0.0031316322713216176\n",
      "WARNING:root:Truncating @ 40, latest SV = 0.002798453095407944\n",
      "WARNING:root:Truncating @ 40, latest SV = 0.002573368083714349\n",
      "WARNING:root:Truncating @ 40, latest SV = 0.0023459517187147264\n",
      "WARNING:root:Truncating @ 40, latest SV = 0.002084683328743607\n",
      "WARNING:root:Truncating @ 40, latest SV = 0.0017792667049344438\n",
      "WARNING:root:Truncating @ 40, latest SV = 0.0014279161657873912\n",
      "WARNING:root:Truncating @ 40, latest SV = 0.0009015991521570046\n",
      "WARNING:root:Truncating @ 40, latest SV = 0.0006058183302220142\n",
      "WARNING:root:Truncating @ 40, latest SV = 0.00040431296558559107\n",
      "WARNING:root:Truncating @ 40, latest SV = 0.00018132155355965918\n",
      "WARNING:root:Truncating @ 40, latest SV = 8.21180505195216e-06\n"
     ]
    },
    {
     "name": "stdout",
     "output_type": "stream",
     "text": [
      "189 [1, 2, 4, 7, 11, 19, 35, 40, 40, 40, 40, 40, 40, 40, 40, 40, 40, 40, 40, 40, 40, 40, 40, 40, 40, 32, 16, 8, 4, 2, 1]\n",
      "MPS with length 30 and physical d=2\n",
      "chi [1, 6, 12, 21, 33, 57, 105, 120, 120, 120, 120, 120, 120, 120, 120, 120, 120, 120, 120, 120, 120, 120, 120, 120, 120, 96, 48, 24, 12, 6, 1]\n"
     ]
    },
    {
     "name": "stderr",
     "output_type": "stream",
     "text": [
      "WARNING:root:Truncating @ 40, latest SV = 0.0012533184455005078\n",
      "WARNING:root:Truncating @ 40, latest SV = 0.002141979824432723\n",
      "WARNING:root:Truncating @ 40, latest SV = 0.003081489199882201\n",
      "WARNING:root:Truncating @ 40, latest SV = 0.0036377032712889864\n",
      "WARNING:root:Truncating @ 40, latest SV = 0.00389528866376288\n",
      "WARNING:root:Truncating @ 40, latest SV = 0.003947332305261739\n",
      "WARNING:root:Truncating @ 40, latest SV = 0.003683142921479257\n",
      "WARNING:root:Truncating @ 40, latest SV = 0.0033286324364431795\n",
      "WARNING:root:Truncating @ 40, latest SV = 0.0029435482975717006\n",
      "WARNING:root:Truncating @ 40, latest SV = 0.002786587681183873\n",
      "WARNING:root:Truncating @ 40, latest SV = 0.002415463191482386\n",
      "WARNING:root:Truncating @ 40, latest SV = 0.0016059853037330262\n",
      "WARNING:root:Truncating @ 40, latest SV = 0.0011114360951770287\n",
      "WARNING:root:Truncating @ 40, latest SV = 0.000668512561667702\n",
      "WARNING:root:Truncating @ 40, latest SV = 0.0004712941812458735\n",
      "WARNING:root:Truncating @ 40, latest SV = 0.00029876612132095443\n",
      "WARNING:root:Truncating @ 40, latest SV = 0.00010622116290146823\n",
      "WARNING:root:Truncating @ 40, latest SV = 1.4891373842199265e-05\n"
     ]
    },
    {
     "name": "stdout",
     "output_type": "stream",
     "text": [
      "190 [1, 2, 3, 5, 9, 16, 32, 40, 40, 40, 40, 40, 40, 40, 40, 40, 40, 40, 40, 40, 40, 40, 40, 40, 40, 32, 16, 8, 4, 2, 1]\n",
      "MPS with length 30 and physical d=2\n",
      "chi [1, 6, 9, 15, 27, 48, 96, 120, 120, 120, 120, 120, 120, 120, 120, 120, 120, 120, 120, 120, 120, 120, 120, 120, 120, 96, 48, 24, 12, 6, 1]\n"
     ]
    },
    {
     "name": "stderr",
     "output_type": "stream",
     "text": [
      "WARNING:root:Truncating @ 40, latest SV = 0.0011983971947044124\n",
      "WARNING:root:Truncating @ 40, latest SV = 0.002130749128265168\n",
      "WARNING:root:Truncating @ 40, latest SV = 0.00310418920946529\n",
      "WARNING:root:Truncating @ 40, latest SV = 0.003890457448616275\n",
      "WARNING:root:Truncating @ 40, latest SV = 0.003848792103369283\n",
      "WARNING:root:Truncating @ 40, latest SV = 0.003907349391542998\n",
      "WARNING:root:Truncating @ 40, latest SV = 0.003975337084368739\n",
      "WARNING:root:Truncating @ 40, latest SV = 0.0036283891720118866\n",
      "WARNING:root:Truncating @ 40, latest SV = 0.003235305720535657\n",
      "WARNING:root:Truncating @ 40, latest SV = 0.0030070074664876297\n",
      "WARNING:root:Truncating @ 40, latest SV = 0.002603298434104761\n",
      "WARNING:root:Truncating @ 40, latest SV = 0.002292962713908064\n",
      "WARNING:root:Truncating @ 40, latest SV = 0.0017969157981480824\n",
      "WARNING:root:Truncating @ 40, latest SV = 0.0012387434054433675\n",
      "WARNING:root:Truncating @ 40, latest SV = 0.000511196470821911\n",
      "WARNING:root:Truncating @ 40, latest SV = 0.00019539803592685963\n",
      "WARNING:root:Truncating @ 40, latest SV = 5.843899919483157e-05\n",
      "WARNING:root:Truncating @ 40, latest SV = 1.9893663706847865e-06\n"
     ]
    },
    {
     "name": "stdout",
     "output_type": "stream",
     "text": [
      "191 [1, 2, 3, 5, 9, 17, 31, 40, 40, 40, 40, 40, 40, 40, 40, 40, 40, 40, 40, 40, 40, 40, 40, 40, 40, 32, 16, 8, 4, 2, 1]\n",
      "MPS with length 30 and physical d=2\n",
      "chi [1, 6, 9, 15, 27, 51, 93, 120, 120, 120, 120, 120, 120, 120, 120, 120, 120, 120, 120, 120, 120, 120, 120, 120, 120, 96, 48, 24, 12, 6, 1]\n"
     ]
    },
    {
     "name": "stderr",
     "output_type": "stream",
     "text": [
      "WARNING:root:Truncating @ 40, latest SV = 0.0008915007885691304\n",
      "WARNING:root:Truncating @ 40, latest SV = 0.0016556326669109748\n",
      "WARNING:root:Truncating @ 40, latest SV = 0.0026094242786802607\n",
      "WARNING:root:Truncating @ 40, latest SV = 0.003092413990981194\n",
      "WARNING:root:Truncating @ 40, latest SV = 0.0032674184372141852\n",
      "WARNING:root:Truncating @ 40, latest SV = 0.003385900086829649\n",
      "WARNING:root:Truncating @ 40, latest SV = 0.003133874325350413\n",
      "WARNING:root:Truncating @ 40, latest SV = 0.003046484742457236\n",
      "WARNING:root:Truncating @ 40, latest SV = 0.0026268576903852895\n",
      "WARNING:root:Truncating @ 40, latest SV = 0.002332311790204798\n",
      "WARNING:root:Truncating @ 40, latest SV = 0.002055956138021932\n",
      "WARNING:root:Truncating @ 40, latest SV = 0.0016709438829673035\n",
      "WARNING:root:Truncating @ 40, latest SV = 0.001304563114940096\n",
      "WARNING:root:Truncating @ 40, latest SV = 0.000888066868342644\n",
      "WARNING:root:Truncating @ 40, latest SV = 0.0005075585868801266\n",
      "WARNING:root:Truncating @ 40, latest SV = 0.00031966363384266816\n",
      "WARNING:root:Truncating @ 40, latest SV = 0.0001612677957039261\n",
      "WARNING:root:Truncating @ 40, latest SV = 2.1063853052458426e-05\n"
     ]
    },
    {
     "name": "stdout",
     "output_type": "stream",
     "text": [
      "192 [1, 2, 4, 6, 9, 17, 32, 40, 40, 40, 40, 40, 40, 40, 40, 40, 40, 40, 40, 40, 40, 40, 40, 40, 40, 32, 16, 8, 4, 2, 1]\n",
      "MPS with length 30 and physical d=2\n",
      "chi [1, 6, 12, 18, 27, 51, 96, 120, 120, 120, 120, 120, 120, 120, 120, 120, 120, 120, 120, 120, 120, 120, 120, 120, 120, 96, 48, 24, 12, 6, 1]\n"
     ]
    },
    {
     "name": "stderr",
     "output_type": "stream",
     "text": [
      "WARNING:root:Truncating @ 40, latest SV = 0.0006871660074685253\n",
      "WARNING:root:Truncating @ 40, latest SV = 0.0013059495167868187\n",
      "WARNING:root:Truncating @ 40, latest SV = 0.0021134867547323863\n",
      "WARNING:root:Truncating @ 40, latest SV = 0.002462736536452388\n",
      "WARNING:root:Truncating @ 40, latest SV = 0.0027081294178601303\n",
      "WARNING:root:Truncating @ 40, latest SV = 0.0027342584455184228\n",
      "WARNING:root:Truncating @ 40, latest SV = 0.0025933078150805126\n",
      "WARNING:root:Truncating @ 40, latest SV = 0.002604260410410588\n",
      "WARNING:root:Truncating @ 40, latest SV = 0.0023491582200381375\n",
      "WARNING:root:Truncating @ 40, latest SV = 0.0020467578143986355\n",
      "WARNING:root:Truncating @ 40, latest SV = 0.00179975907508856\n",
      "WARNING:root:Truncating @ 40, latest SV = 0.0016844977778123092\n",
      "WARNING:root:Truncating @ 40, latest SV = 0.0015275942951751987\n",
      "WARNING:root:Truncating @ 40, latest SV = 0.0012898733224810074\n",
      "WARNING:root:Truncating @ 40, latest SV = 0.0010750298930801757\n",
      "WARNING:root:Truncating @ 40, latest SV = 0.0007152062945352685\n",
      "WARNING:root:Truncating @ 40, latest SV = 0.00031360930912701187\n",
      "WARNING:root:Truncating @ 40, latest SV = 4.874240085377449e-05\n"
     ]
    },
    {
     "name": "stdout",
     "output_type": "stream",
     "text": [
      "193 [1, 2, 3, 5, 9, 16, 32, 40, 40, 40, 40, 40, 40, 40, 40, 40, 40, 40, 40, 40, 40, 40, 40, 40, 40, 32, 16, 8, 4, 2, 1]\n",
      "MPS with length 30 and physical d=2\n",
      "chi [1, 6, 9, 15, 27, 48, 96, 120, 120, 120, 120, 120, 120, 120, 120, 120, 120, 120, 120, 120, 120, 120, 120, 120, 120, 96, 48, 24, 12, 6, 1]\n"
     ]
    },
    {
     "name": "stderr",
     "output_type": "stream",
     "text": [
      "WARNING:root:Truncating @ 40, latest SV = 0.0006451590330633275\n",
      "WARNING:root:Truncating @ 40, latest SV = 0.0012619562088631196\n",
      "WARNING:root:Truncating @ 40, latest SV = 0.001897180571914349\n",
      "WARNING:root:Truncating @ 40, latest SV = 0.0023188412338503873\n",
      "WARNING:root:Truncating @ 40, latest SV = 0.0023868761253187146\n",
      "WARNING:root:Truncating @ 40, latest SV = 0.0024797315387850385\n",
      "WARNING:root:Truncating @ 40, latest SV = 0.0022119629609881073\n",
      "WARNING:root:Truncating @ 40, latest SV = 0.002098742047131694\n",
      "WARNING:root:Truncating @ 40, latest SV = 0.0020648333763439598\n",
      "WARNING:root:Truncating @ 40, latest SV = 0.001986533094327664\n",
      "WARNING:root:Truncating @ 40, latest SV = 0.0017839249116566975\n",
      "WARNING:root:Truncating @ 40, latest SV = 0.0016001842489059425\n",
      "WARNING:root:Truncating @ 40, latest SV = 0.0014530155345322197\n",
      "WARNING:root:Truncating @ 40, latest SV = 0.0012748191226390516\n",
      "WARNING:root:Truncating @ 40, latest SV = 0.0011022339458292732\n",
      "WARNING:root:Truncating @ 40, latest SV = 0.0007911107872954292\n",
      "WARNING:root:Truncating @ 40, latest SV = 0.00040946856944387494\n",
      "WARNING:root:Truncating @ 40, latest SV = 5.668949703170448e-05\n"
     ]
    },
    {
     "name": "stdout",
     "output_type": "stream",
     "text": [
      "194 [1, 1, 2, 4, 8, 16, 32, 40, 40, 40, 40, 40, 40, 40, 40, 40, 40, 40, 40, 40, 40, 40, 40, 40, 40, 32, 16, 8, 4, 2, 1]\n",
      "MPS with length 30 and physical d=2\n",
      "chi [1, 3, 6, 12, 24, 48, 96, 120, 120, 120, 120, 120, 120, 120, 120, 120, 120, 120, 120, 120, 120, 120, 120, 120, 120, 96, 48, 24, 12, 6, 1]\n"
     ]
    },
    {
     "name": "stderr",
     "output_type": "stream",
     "text": [
      "WARNING:root:Truncating @ 40, latest SV = 0.0007605245152386805\n",
      "WARNING:root:Truncating @ 40, latest SV = 0.0015659402247487871\n",
      "WARNING:root:Truncating @ 40, latest SV = 0.0023033630110041677\n",
      "WARNING:root:Truncating @ 40, latest SV = 0.002790562656925557\n",
      "WARNING:root:Truncating @ 40, latest SV = 0.0031189849030725404\n",
      "WARNING:root:Truncating @ 40, latest SV = 0.003144324344081427\n",
      "WARNING:root:Truncating @ 40, latest SV = 0.0031830326839688105\n",
      "WARNING:root:Truncating @ 40, latest SV = 0.0028611200172408108\n",
      "WARNING:root:Truncating @ 40, latest SV = 0.002595482251483266\n",
      "WARNING:root:Truncating @ 40, latest SV = 0.0023052867298687008\n",
      "WARNING:root:Truncating @ 40, latest SV = 0.0022072976022966154\n",
      "WARNING:root:Truncating @ 40, latest SV = 0.001903728865780718\n",
      "WARNING:root:Truncating @ 40, latest SV = 0.0016430315559060173\n",
      "WARNING:root:Truncating @ 40, latest SV = 0.0014538356766942491\n",
      "WARNING:root:Truncating @ 40, latest SV = 0.0011762638978521935\n",
      "WARNING:root:Truncating @ 40, latest SV = 0.0005902721351208282\n",
      "WARNING:root:Truncating @ 40, latest SV = 0.00019426176266526253\n",
      "WARNING:root:Truncating @ 40, latest SV = 2.776600815769613e-05\n",
      "WARNING:root:Truncating @ 40, latest SV = 1.2417849460723322e-07\n"
     ]
    },
    {
     "name": "stdout",
     "output_type": "stream",
     "text": [
      "195 [1, 2, 4, 8, 15, 26, 40, 40, 40, 40, 40, 40, 40, 40, 40, 40, 40, 40, 40, 40, 40, 40, 40, 40, 40, 32, 16, 8, 4, 2, 1]\n",
      "MPS with length 30 and physical d=2\n",
      "chi [1, 6, 12, 24, 45, 78, 120, 120, 120, 120, 120, 120, 120, 120, 120, 120, 120, 120, 120, 120, 120, 120, 120, 120, 120, 96, 48, 24, 12, 6, 1]\n"
     ]
    },
    {
     "name": "stderr",
     "output_type": "stream",
     "text": [
      "WARNING:root:Truncating @ 40, latest SV = 0.0010108415466519244\n",
      "WARNING:root:Truncating @ 40, latest SV = 0.0017463776305332288\n",
      "WARNING:root:Truncating @ 40, latest SV = 0.0024082181633172557\n",
      "WARNING:root:Truncating @ 40, latest SV = 0.0028966988255832438\n",
      "WARNING:root:Truncating @ 40, latest SV = 0.0032016061766516613\n",
      "WARNING:root:Truncating @ 40, latest SV = 0.003177630779939877\n",
      "WARNING:root:Truncating @ 40, latest SV = 0.0032460289058227503\n",
      "WARNING:root:Truncating @ 40, latest SV = 0.0031190779230419728\n",
      "WARNING:root:Truncating @ 40, latest SV = 0.002915290598790239\n",
      "WARNING:root:Truncating @ 40, latest SV = 0.002581125656156256\n",
      "WARNING:root:Truncating @ 40, latest SV = 0.002357898255792875\n",
      "WARNING:root:Truncating @ 40, latest SV = 0.0021891123797981352\n",
      "WARNING:root:Truncating @ 40, latest SV = 0.001796611954259323\n",
      "WARNING:root:Truncating @ 40, latest SV = 0.0014470793534245986\n",
      "WARNING:root:Truncating @ 40, latest SV = 0.0010684516878726566\n",
      "WARNING:root:Truncating @ 40, latest SV = 0.0006496726002379633\n",
      "WARNING:root:Truncating @ 40, latest SV = 0.00022541464572678488\n",
      "WARNING:root:Truncating @ 40, latest SV = 2.300312532103738e-05\n",
      "WARNING:root:Truncating @ 40, latest SV = 2.8928691246738525e-07\n"
     ]
    },
    {
     "name": "stdout",
     "output_type": "stream",
     "text": [
      "196 [1, 2, 4, 8, 16, 30, 40, 40, 40, 40, 40, 40, 40, 40, 40, 40, 40, 40, 40, 40, 40, 40, 40, 40, 40, 32, 16, 8, 4, 2, 1]\n",
      "MPS with length 30 and physical d=2\n",
      "chi [1, 6, 12, 24, 48, 90, 120, 120, 120, 120, 120, 120, 120, 120, 120, 120, 120, 120, 120, 120, 120, 120, 120, 120, 120, 96, 48, 24, 12, 6, 1]\n"
     ]
    },
    {
     "name": "stderr",
     "output_type": "stream",
     "text": [
      "WARNING:root:Truncating @ 40, latest SV = 0.0007636542456201943\n",
      "WARNING:root:Truncating @ 40, latest SV = 0.0014394670756955558\n",
      "WARNING:root:Truncating @ 40, latest SV = 0.002290459064134511\n",
      "WARNING:root:Truncating @ 40, latest SV = 0.0028156870346864563\n",
      "WARNING:root:Truncating @ 40, latest SV = 0.0030214479415833296\n",
      "WARNING:root:Truncating @ 40, latest SV = 0.003208458151462177\n",
      "WARNING:root:Truncating @ 40, latest SV = 0.0030594839148920263\n",
      "WARNING:root:Truncating @ 40, latest SV = 0.0029478328750743702\n",
      "WARNING:root:Truncating @ 40, latest SV = 0.0027414229151736906\n",
      "WARNING:root:Truncating @ 40, latest SV = 0.0023191887425105724\n",
      "WARNING:root:Truncating @ 40, latest SV = 0.0021136818864259553\n",
      "WARNING:root:Truncating @ 40, latest SV = 0.0017654678798783032\n",
      "WARNING:root:Truncating @ 40, latest SV = 0.0013883337000195385\n",
      "WARNING:root:Truncating @ 40, latest SV = 0.0010159320372404917\n",
      "WARNING:root:Truncating @ 40, latest SV = 0.0006357017859854471\n",
      "WARNING:root:Truncating @ 40, latest SV = 0.0003170083593794215\n",
      "WARNING:root:Truncating @ 40, latest SV = 9.912990228874642e-05\n",
      "WARNING:root:Truncating @ 40, latest SV = 1.5216329965755878e-05\n",
      "WARNING:root:Truncating @ 40, latest SV = 2.7946090713034323e-07\n"
     ]
    },
    {
     "name": "stdout",
     "output_type": "stream",
     "text": [
      "197 [1, 2, 4, 8, 16, 31, 40, 40, 40, 40, 40, 40, 40, 40, 40, 40, 40, 40, 40, 40, 40, 40, 40, 40, 40, 32, 16, 8, 4, 2, 1]\n",
      "MPS with length 30 and physical d=2\n",
      "chi [1, 6, 12, 24, 48, 93, 120, 120, 120, 120, 120, 120, 120, 120, 120, 120, 120, 120, 120, 120, 120, 120, 120, 120, 120, 96, 48, 24, 12, 6, 1]\n"
     ]
    },
    {
     "name": "stderr",
     "output_type": "stream",
     "text": [
      "WARNING:root:Truncating @ 40, latest SV = 0.001114440090230562\n",
      "WARNING:root:Truncating @ 40, latest SV = 0.0017822860384876008\n",
      "WARNING:root:Truncating @ 40, latest SV = 0.002446837394689947\n",
      "WARNING:root:Truncating @ 40, latest SV = 0.0028022741124952033\n",
      "WARNING:root:Truncating @ 40, latest SV = 0.0031633940443820266\n",
      "WARNING:root:Truncating @ 40, latest SV = 0.0032205771494971135\n",
      "WARNING:root:Truncating @ 40, latest SV = 0.003058836957401528\n",
      "WARNING:root:Truncating @ 40, latest SV = 0.0030379615026015767\n",
      "WARNING:root:Truncating @ 40, latest SV = 0.002547311676333275\n",
      "WARNING:root:Truncating @ 40, latest SV = 0.0022691378202530886\n",
      "WARNING:root:Truncating @ 40, latest SV = 0.00199702261969855\n",
      "WARNING:root:Truncating @ 40, latest SV = 0.0016391006868144817\n",
      "WARNING:root:Truncating @ 40, latest SV = 0.0012927096787837106\n",
      "WARNING:root:Truncating @ 40, latest SV = 0.0009788472688633675\n",
      "WARNING:root:Truncating @ 40, latest SV = 0.00046334369141480644\n",
      "WARNING:root:Truncating @ 40, latest SV = 0.00016685082805741673\n",
      "WARNING:root:Truncating @ 40, latest SV = 6.373853102532075e-05\n",
      "WARNING:root:Truncating @ 40, latest SV = 9.484400354187457e-06\n",
      "WARNING:root:Truncating @ 40, latest SV = 1.392922540331899e-07\n"
     ]
    },
    {
     "name": "stdout",
     "output_type": "stream",
     "text": [
      "198 [1, 2, 4, 8, 16, 30, 40, 40, 40, 40, 40, 40, 40, 40, 40, 40, 40, 40, 40, 40, 40, 40, 40, 40, 40, 32, 16, 8, 4, 2, 1]\n",
      "MPS with length 30 and physical d=2\n",
      "chi [1, 6, 12, 24, 48, 90, 120, 120, 120, 120, 120, 120, 120, 120, 120, 120, 120, 120, 120, 120, 120, 120, 120, 120, 120, 96, 48, 24, 12, 6, 1]\n"
     ]
    },
    {
     "name": "stderr",
     "output_type": "stream",
     "text": [
      "WARNING:root:Truncating @ 40, latest SV = 0.0014638832395373262\n",
      "WARNING:root:Truncating @ 40, latest SV = 0.0025823936347409236\n",
      "WARNING:root:Truncating @ 40, latest SV = 0.003177611339524541\n",
      "WARNING:root:Truncating @ 40, latest SV = 0.0033709559302967113\n",
      "WARNING:root:Truncating @ 40, latest SV = 0.00381042728714131\n",
      "WARNING:root:Truncating @ 40, latest SV = 0.003860564335516232\n",
      "WARNING:root:Truncating @ 40, latest SV = 0.003545607612287183\n",
      "WARNING:root:Truncating @ 40, latest SV = 0.0032745317067105896\n",
      "WARNING:root:Truncating @ 40, latest SV = 0.0027750906452613405\n",
      "WARNING:root:Truncating @ 40, latest SV = 0.002311238544554605\n",
      "WARNING:root:Truncating @ 40, latest SV = 0.0023302993432778307\n",
      "WARNING:root:Truncating @ 40, latest SV = 0.0019235383604314013\n",
      "WARNING:root:Truncating @ 40, latest SV = 0.0014198006201134644\n",
      "WARNING:root:Truncating @ 40, latest SV = 0.0008264889077190444\n",
      "WARNING:root:Truncating @ 40, latest SV = 0.0002990112126815716\n",
      "WARNING:root:Truncating @ 40, latest SV = 0.00013257885805519512\n",
      "WARNING:root:Truncating @ 40, latest SV = 5.182003220185191e-05\n",
      "WARNING:root:Truncating @ 40, latest SV = 6.139578531508018e-06\n",
      "WARNING:root:Truncating @ 40, latest SV = 4.421169421158241e-08\n"
     ]
    },
    {
     "name": "stdout",
     "output_type": "stream",
     "text": [
      "199 [1, 2, 4, 8, 16, 30, 40, 40, 40, 40, 40, 40, 40, 40, 40, 40, 40, 40, 40, 40, 40, 40, 40, 40, 40, 32, 16, 8, 4, 2, 1]\n",
      "MPS with length 30 and physical d=2\n",
      "chi [1, 6, 12, 24, 48, 90, 120, 120, 120, 120, 120, 120, 120, 120, 120, 120, 120, 120, 120, 120, 120, 120, 120, 120, 120, 96, 48, 24, 12, 6, 1]\n"
     ]
    },
    {
     "name": "stderr",
     "output_type": "stream",
     "text": [
      "WARNING:root:Truncating @ 40, latest SV = 0.000990546157268247\n",
      "WARNING:root:Truncating @ 40, latest SV = 0.001749250066574892\n",
      "WARNING:root:Truncating @ 40, latest SV = 0.0023550299566627046\n",
      "WARNING:root:Truncating @ 40, latest SV = 0.0025379418251797073\n",
      "WARNING:root:Truncating @ 40, latest SV = 0.002739145997807708\n",
      "WARNING:root:Truncating @ 40, latest SV = 0.002774607902127839\n",
      "WARNING:root:Truncating @ 40, latest SV = 0.0026264954680730954\n",
      "WARNING:root:Truncating @ 40, latest SV = 0.00233327032092685\n",
      "WARNING:root:Truncating @ 40, latest SV = 0.0022059387728067437\n",
      "WARNING:root:Truncating @ 40, latest SV = 0.001901005391663383\n",
      "WARNING:root:Truncating @ 40, latest SV = 0.0015202390989687872\n",
      "WARNING:root:Truncating @ 40, latest SV = 0.0011244846303179628\n",
      "WARNING:root:Truncating @ 40, latest SV = 0.0008526072556975595\n",
      "WARNING:root:Truncating @ 40, latest SV = 0.00047201081652816006\n",
      "WARNING:root:Truncating @ 40, latest SV = 0.00013651753503934565\n",
      "WARNING:root:Truncating @ 40, latest SV = 8.435868577996151e-05\n",
      "WARNING:root:Truncating @ 40, latest SV = 1.9864502369170624e-05\n",
      "WARNING:root:Truncating @ 40, latest SV = 1.3541190239318819e-06\n",
      "WARNING:root:Truncating @ 40, latest SV = 7.772804974328524e-09\n"
     ]
    },
    {
     "name": "stdout",
     "output_type": "stream",
     "text": [
      "200 [1, 2, 4, 8, 15, 28, 40, 40, 40, 40, 40, 40, 40, 40, 40, 40, 40, 40, 40, 40, 40, 40, 40, 40, 40, 32, 16, 8, 4, 2, 1]\n",
      "MPS with length 30 and physical d=2\n",
      "chi [1, 6, 12, 24, 45, 84, 120, 120, 120, 120, 120, 120, 120, 120, 120, 120, 120, 120, 120, 120, 120, 120, 120, 120, 120, 96, 48, 24, 12, 6, 1]\n"
     ]
    },
    {
     "name": "stderr",
     "output_type": "stream",
     "text": [
      "WARNING:root:Truncating @ 40, latest SV = 0.0010182898812525795\n",
      "WARNING:root:Truncating @ 40, latest SV = 0.0015724898316680652\n",
      "WARNING:root:Truncating @ 40, latest SV = 0.001978375378896637\n",
      "WARNING:root:Truncating @ 40, latest SV = 0.002353100016821257\n",
      "WARNING:root:Truncating @ 40, latest SV = 0.0023989336992692382\n",
      "WARNING:root:Truncating @ 40, latest SV = 0.002441517069096731\n",
      "WARNING:root:Truncating @ 40, latest SV = 0.002335421108589695\n",
      "WARNING:root:Truncating @ 40, latest SV = 0.002096078827583712\n",
      "WARNING:root:Truncating @ 40, latest SV = 0.0019027243648673377\n",
      "WARNING:root:Truncating @ 40, latest SV = 0.0018154431562308858\n",
      "WARNING:root:Truncating @ 40, latest SV = 0.0015154644336853088\n",
      "WARNING:root:Truncating @ 40, latest SV = 0.001422517497251687\n",
      "WARNING:root:Truncating @ 40, latest SV = 0.0010548164145208537\n",
      "WARNING:root:Truncating @ 40, latest SV = 0.0006458578989361106\n",
      "WARNING:root:Truncating @ 40, latest SV = 0.00021469916149032884\n",
      "WARNING:root:Truncating @ 40, latest SV = 9.848285175662756e-05\n",
      "WARNING:root:Truncating @ 40, latest SV = 2.596402744428329e-05\n",
      "WARNING:root:Truncating @ 40, latest SV = 8.076060512028188e-07\n",
      "WARNING:root:Truncating @ 40, latest SV = 6.605860692084624e-09\n"
     ]
    },
    {
     "name": "stdout",
     "output_type": "stream",
     "text": [
      "201 [1, 2, 4, 8, 15, 28, 40, 40, 40, 40, 40, 40, 40, 40, 40, 40, 40, 40, 40, 40, 40, 40, 40, 40, 40, 32, 16, 8, 4, 2, 1]\n",
      "MPS with length 30 and physical d=2\n",
      "chi [1, 6, 12, 24, 45, 84, 120, 120, 120, 120, 120, 120, 120, 120, 120, 120, 120, 120, 120, 120, 120, 120, 120, 120, 120, 96, 48, 24, 12, 6, 1]\n"
     ]
    },
    {
     "name": "stderr",
     "output_type": "stream",
     "text": [
      "WARNING:root:Truncating @ 40, latest SV = 0.001041373464904871\n",
      "WARNING:root:Truncating @ 40, latest SV = 0.0017067599948659177\n",
      "WARNING:root:Truncating @ 40, latest SV = 0.0023154303193356303\n",
      "WARNING:root:Truncating @ 40, latest SV = 0.0026822524064605687\n",
      "WARNING:root:Truncating @ 40, latest SV = 0.002869507023534124\n",
      "WARNING:root:Truncating @ 40, latest SV = 0.002741332044821413\n",
      "WARNING:root:Truncating @ 40, latest SV = 0.002623263584837381\n",
      "WARNING:root:Truncating @ 40, latest SV = 0.002652334099898439\n",
      "WARNING:root:Truncating @ 40, latest SV = 0.0023196380287577065\n",
      "WARNING:root:Truncating @ 40, latest SV = 0.00204864372380205\n",
      "WARNING:root:Truncating @ 40, latest SV = 0.001644089412336899\n",
      "WARNING:root:Truncating @ 40, latest SV = 0.00133746675825628\n",
      "WARNING:root:Truncating @ 40, latest SV = 0.0009325349498252854\n",
      "WARNING:root:Truncating @ 40, latest SV = 0.00044743285628939567\n",
      "WARNING:root:Truncating @ 40, latest SV = 0.00011196019718351084\n",
      "WARNING:root:Truncating @ 40, latest SV = 4.161567035840907e-05\n",
      "WARNING:root:Truncating @ 40, latest SV = 8.870419508797254e-06\n",
      "WARNING:root:Truncating @ 40, latest SV = 5.55319963511046e-07\n",
      "WARNING:root:Truncating @ 40, latest SV = 5.65749738268499e-09\n"
     ]
    },
    {
     "name": "stdout",
     "output_type": "stream",
     "text": [
      "202 [1, 2, 4, 8, 15, 26, 40, 40, 40, 40, 40, 40, 40, 40, 40, 40, 40, 40, 40, 40, 40, 40, 40, 40, 40, 32, 16, 8, 4, 2, 1]\n",
      "MPS with length 30 and physical d=2\n",
      "chi [1, 6, 12, 24, 45, 78, 120, 120, 120, 120, 120, 120, 120, 120, 120, 120, 120, 120, 120, 120, 120, 120, 120, 120, 120, 96, 48, 24, 12, 6, 1]\n"
     ]
    },
    {
     "name": "stderr",
     "output_type": "stream",
     "text": [
      "WARNING:root:Truncating @ 40, latest SV = 0.0009220064515864553\n",
      "WARNING:root:Truncating @ 40, latest SV = 0.001570451085786321\n",
      "WARNING:root:Truncating @ 40, latest SV = 0.0022549756835994242\n",
      "WARNING:root:Truncating @ 40, latest SV = 0.0027607309248373697\n",
      "WARNING:root:Truncating @ 40, latest SV = 0.0029729892324127714\n",
      "WARNING:root:Truncating @ 40, latest SV = 0.0026816580357858465\n",
      "WARNING:root:Truncating @ 40, latest SV = 0.0027260073154524033\n",
      "WARNING:root:Truncating @ 40, latest SV = 0.0023618229339382787\n",
      "WARNING:root:Truncating @ 40, latest SV = 0.002377991176747844\n",
      "WARNING:root:Truncating @ 40, latest SV = 0.0021533329783446522\n",
      "WARNING:root:Truncating @ 40, latest SV = 0.0017663188238409252\n",
      "WARNING:root:Truncating @ 40, latest SV = 0.0015323167095918386\n",
      "WARNING:root:Truncating @ 40, latest SV = 0.0011433073352868476\n",
      "WARNING:root:Truncating @ 40, latest SV = 0.0007575626250724746\n",
      "WARNING:root:Truncating @ 40, latest SV = 0.00014512236047035804\n",
      "WARNING:root:Truncating @ 40, latest SV = 5.428296337682916e-05\n",
      "WARNING:root:Truncating @ 40, latest SV = 1.7279605986023055e-05\n",
      "WARNING:root:Truncating @ 40, latest SV = 7.453270600665497e-07\n",
      "WARNING:root:Truncating @ 40, latest SV = 3.773213785999809e-09\n"
     ]
    },
    {
     "name": "stdout",
     "output_type": "stream",
     "text": [
      "203 [1, 2, 4, 8, 15, 27, 40, 40, 40, 40, 40, 40, 40, 40, 40, 40, 40, 40, 40, 40, 40, 40, 40, 40, 40, 32, 16, 8, 4, 2, 1]\n",
      "MPS with length 30 and physical d=2\n",
      "chi [1, 6, 12, 24, 45, 81, 120, 120, 120, 120, 120, 120, 120, 120, 120, 120, 120, 120, 120, 120, 120, 120, 120, 120, 120, 96, 48, 24, 12, 6, 1]\n"
     ]
    },
    {
     "name": "stderr",
     "output_type": "stream",
     "text": [
      "WARNING:root:Truncating @ 40, latest SV = 0.0012708467825503613\n",
      "WARNING:root:Truncating @ 40, latest SV = 0.002159757257122575\n",
      "WARNING:root:Truncating @ 40, latest SV = 0.0030545019698149625\n",
      "WARNING:root:Truncating @ 40, latest SV = 0.0033117405139397\n",
      "WARNING:root:Truncating @ 40, latest SV = 0.003512171750705508\n",
      "WARNING:root:Truncating @ 40, latest SV = 0.0032365523854998484\n",
      "WARNING:root:Truncating @ 40, latest SV = 0.0032681842053588882\n",
      "WARNING:root:Truncating @ 40, latest SV = 0.0030894666063223165\n",
      "WARNING:root:Truncating @ 40, latest SV = 0.0029564641530314077\n",
      "WARNING:root:Truncating @ 40, latest SV = 0.002450730989984989\n",
      "WARNING:root:Truncating @ 40, latest SV = 0.0022470360216895204\n",
      "WARNING:root:Truncating @ 40, latest SV = 0.0017876059001369396\n",
      "WARNING:root:Truncating @ 40, latest SV = 0.0011949431601972556\n",
      "WARNING:root:Truncating @ 40, latest SV = 0.0007624826723332794\n",
      "WARNING:root:Truncating @ 40, latest SV = 0.00028942229590020555\n",
      "WARNING:root:Truncating @ 40, latest SV = 6.454675493503059e-05\n",
      "WARNING:root:Truncating @ 40, latest SV = 1.045173208811938e-05\n",
      "WARNING:root:Truncating @ 40, latest SV = 3.7540572236653746e-07\n",
      "WARNING:root:Truncating @ 40, latest SV = 3.3395905113463684e-09\n"
     ]
    },
    {
     "name": "stdout",
     "output_type": "stream",
     "text": [
      "204 [1, 2, 4, 8, 15, 26, 40, 40, 40, 40, 40, 40, 40, 40, 40, 40, 40, 40, 40, 40, 40, 40, 40, 40, 40, 32, 16, 8, 4, 2, 1]\n",
      "MPS with length 30 and physical d=2\n",
      "chi [1, 6, 12, 24, 45, 78, 120, 120, 120, 120, 120, 120, 120, 120, 120, 120, 120, 120, 120, 120, 120, 120, 120, 120, 120, 96, 48, 24, 12, 6, 1]\n"
     ]
    },
    {
     "name": "stderr",
     "output_type": "stream",
     "text": [
      "WARNING:root:Truncating @ 40, latest SV = 0.0009812486572633049\n",
      "WARNING:root:Truncating @ 40, latest SV = 0.0018543572620053472\n",
      "WARNING:root:Truncating @ 40, latest SV = 0.002809076755820746\n",
      "WARNING:root:Truncating @ 40, latest SV = 0.0034438351076847553\n",
      "WARNING:root:Truncating @ 40, latest SV = 0.0039471038583266905\n",
      "WARNING:root:Truncating @ 40, latest SV = 0.003972077828813298\n",
      "WARNING:root:Truncating @ 40, latest SV = 0.0038866353096613485\n",
      "WARNING:root:Truncating @ 40, latest SV = 0.0036890336492411357\n",
      "WARNING:root:Truncating @ 40, latest SV = 0.003351620717540344\n",
      "WARNING:root:Truncating @ 40, latest SV = 0.002934701995159115\n",
      "WARNING:root:Truncating @ 40, latest SV = 0.0026472997253941285\n",
      "WARNING:root:Truncating @ 40, latest SV = 0.0019432479827493556\n",
      "WARNING:root:Truncating @ 40, latest SV = 0.0015802608959486607\n",
      "WARNING:root:Truncating @ 40, latest SV = 0.0009806472996510879\n",
      "WARNING:root:Truncating @ 40, latest SV = 0.0002370649828301159\n",
      "WARNING:root:Truncating @ 40, latest SV = 6.016767399683498e-05\n",
      "WARNING:root:Truncating @ 40, latest SV = 2.490994067931926e-05\n",
      "WARNING:root:Truncating @ 40, latest SV = 7.00295898847393e-07\n",
      "WARNING:root:Truncating @ 40, latest SV = 4.6243691502999405e-10\n"
     ]
    },
    {
     "name": "stdout",
     "output_type": "stream",
     "text": [
      "205 [1, 2, 4, 7, 13, 24, 40, 40, 40, 40, 40, 40, 40, 40, 40, 40, 40, 40, 40, 40, 40, 40, 40, 40, 40, 32, 16, 8, 4, 2, 1]\n",
      "MPS with length 30 and physical d=2\n",
      "chi [1, 6, 12, 21, 39, 72, 120, 120, 120, 120, 120, 120, 120, 120, 120, 120, 120, 120, 120, 120, 120, 120, 120, 120, 120, 96, 48, 24, 12, 6, 1]\n"
     ]
    },
    {
     "name": "stderr",
     "output_type": "stream",
     "text": [
      "WARNING:root:Truncating @ 40, latest SV = 0.0009959085818269237\n",
      "WARNING:root:Truncating @ 40, latest SV = 0.0016309430874599275\n",
      "WARNING:root:Truncating @ 40, latest SV = 0.002226833138451597\n",
      "WARNING:root:Truncating @ 40, latest SV = 0.002782909741955074\n",
      "WARNING:root:Truncating @ 40, latest SV = 0.0027487801553704237\n",
      "WARNING:root:Truncating @ 40, latest SV = 0.0026873767148967794\n",
      "WARNING:root:Truncating @ 40, latest SV = 0.0026512936334036185\n",
      "WARNING:root:Truncating @ 40, latest SV = 0.0025739608175500725\n",
      "WARNING:root:Truncating @ 40, latest SV = 0.0024247106364124246\n",
      "WARNING:root:Truncating @ 40, latest SV = 0.002089198855412567\n",
      "WARNING:root:Truncating @ 40, latest SV = 0.0016826578649075234\n",
      "WARNING:root:Truncating @ 40, latest SV = 0.0014465102402980497\n",
      "WARNING:root:Truncating @ 40, latest SV = 0.00109887365201273\n",
      "WARNING:root:Truncating @ 40, latest SV = 0.0006342136420624404\n",
      "WARNING:root:Truncating @ 40, latest SV = 9.073195547230107e-05\n",
      "WARNING:root:Truncating @ 40, latest SV = 4.243604973519101e-05\n",
      "WARNING:root:Truncating @ 40, latest SV = 1.8880527568172242e-05\n",
      "WARNING:root:Truncating @ 40, latest SV = 1.5895817146711412e-06\n",
      "WARNING:root:Truncating @ 40, latest SV = 1.780530605562035e-09\n"
     ]
    },
    {
     "name": "stdout",
     "output_type": "stream",
     "text": [
      "206 [1, 2, 4, 8, 14, 26, 40, 40, 40, 40, 40, 40, 40, 40, 40, 40, 40, 40, 40, 40, 40, 40, 40, 40, 40, 32, 16, 8, 4, 2, 1]\n",
      "MPS with length 30 and physical d=2\n",
      "chi [1, 6, 12, 24, 42, 78, 120, 120, 120, 120, 120, 120, 120, 120, 120, 120, 120, 120, 120, 120, 120, 120, 120, 120, 120, 96, 48, 24, 12, 6, 1]\n"
     ]
    },
    {
     "name": "stderr",
     "output_type": "stream",
     "text": [
      "WARNING:root:Truncating @ 40, latest SV = 0.001511669091745349\n",
      "WARNING:root:Truncating @ 40, latest SV = 0.0024798518182323043\n",
      "WARNING:root:Truncating @ 40, latest SV = 0.0032747520875646753\n",
      "WARNING:root:Truncating @ 40, latest SV = 0.004049067179986184\n",
      "WARNING:root:Truncating @ 40, latest SV = 0.004162884697604053\n",
      "WARNING:root:Truncating @ 40, latest SV = 0.004084830140638456\n",
      "WARNING:root:Truncating @ 40, latest SV = 0.004011309628969215\n",
      "WARNING:root:Truncating @ 40, latest SV = 0.0035469106557188754\n",
      "WARNING:root:Truncating @ 40, latest SV = 0.0029441614532075876\n",
      "WARNING:root:Truncating @ 40, latest SV = 0.002669302223412248\n",
      "WARNING:root:Truncating @ 40, latest SV = 0.0021814907065557756\n",
      "WARNING:root:Truncating @ 40, latest SV = 0.0017747838909440135\n",
      "WARNING:root:Truncating @ 40, latest SV = 0.0013815957519120806\n",
      "WARNING:root:Truncating @ 40, latest SV = 0.0009107299955677825\n",
      "WARNING:root:Truncating @ 40, latest SV = 0.00045641864665473474\n",
      "WARNING:root:Truncating @ 40, latest SV = 0.00020774258392645004\n",
      "WARNING:root:Truncating @ 40, latest SV = 4.2288664550928696e-05\n",
      "WARNING:root:Truncating @ 40, latest SV = 7.121925189439407e-07\n",
      "WARNING:root:Truncating @ 40, latest SV = 7.682042050553618e-10\n"
     ]
    },
    {
     "name": "stdout",
     "output_type": "stream",
     "text": [
      "207 [1, 2, 4, 7, 13, 24, 40, 40, 40, 40, 40, 40, 40, 40, 40, 40, 40, 40, 40, 40, 40, 40, 40, 40, 40, 32, 16, 8, 4, 2, 1]\n",
      "MPS with length 30 and physical d=2\n",
      "chi [1, 6, 12, 21, 39, 72, 120, 120, 120, 120, 120, 120, 120, 120, 120, 120, 120, 120, 120, 120, 120, 120, 120, 120, 120, 96, 48, 24, 12, 6, 1]\n"
     ]
    },
    {
     "name": "stderr",
     "output_type": "stream",
     "text": [
      "WARNING:root:Truncating @ 40, latest SV = 0.0010218377348037257\n",
      "WARNING:root:Truncating @ 40, latest SV = 0.00173197340616734\n",
      "WARNING:root:Truncating @ 40, latest SV = 0.0026924379641368127\n",
      "WARNING:root:Truncating @ 40, latest SV = 0.0030425142773889773\n",
      "WARNING:root:Truncating @ 40, latest SV = 0.0029920528664642253\n",
      "WARNING:root:Truncating @ 40, latest SV = 0.0029955167356690415\n",
      "WARNING:root:Truncating @ 40, latest SV = 0.0029808106031319246\n",
      "WARNING:root:Truncating @ 40, latest SV = 0.0027736414368253726\n",
      "WARNING:root:Truncating @ 40, latest SV = 0.0022980791438120254\n",
      "WARNING:root:Truncating @ 40, latest SV = 0.002136059266449771\n",
      "WARNING:root:Truncating @ 40, latest SV = 0.0017256821163962634\n",
      "WARNING:root:Truncating @ 40, latest SV = 0.0013618079823694603\n",
      "WARNING:root:Truncating @ 40, latest SV = 0.0008905263645710447\n",
      "WARNING:root:Truncating @ 40, latest SV = 0.0005764129986704356\n",
      "WARNING:root:Truncating @ 40, latest SV = 0.00016408896447503484\n",
      "WARNING:root:Truncating @ 40, latest SV = 9.750305082570677e-05\n",
      "WARNING:root:Truncating @ 40, latest SV = 3.876939108173906e-05\n",
      "WARNING:root:Truncating @ 40, latest SV = 7.931583706150234e-07\n",
      "WARNING:root:Truncating @ 40, latest SV = 1.488869423250564e-09\n"
     ]
    },
    {
     "name": "stdout",
     "output_type": "stream",
     "text": [
      "208 [1, 2, 4, 8, 15, 26, 40, 40, 40, 40, 40, 40, 40, 40, 40, 40, 40, 40, 40, 40, 40, 40, 40, 40, 40, 32, 16, 8, 4, 2, 1]\n",
      "MPS with length 30 and physical d=2\n",
      "chi [1, 6, 12, 24, 45, 78, 120, 120, 120, 120, 120, 120, 120, 120, 120, 120, 120, 120, 120, 120, 120, 120, 120, 120, 120, 96, 48, 24, 12, 6, 1]\n"
     ]
    },
    {
     "name": "stderr",
     "output_type": "stream",
     "text": [
      "WARNING:root:Truncating @ 40, latest SV = 0.0015087422889453988\n",
      "WARNING:root:Truncating @ 40, latest SV = 0.0023572816569640076\n",
      "WARNING:root:Truncating @ 40, latest SV = 0.0036180059449844523\n",
      "WARNING:root:Truncating @ 40, latest SV = 0.004114298202090847\n",
      "WARNING:root:Truncating @ 40, latest SV = 0.0041239682371306905\n",
      "WARNING:root:Truncating @ 40, latest SV = 0.0042008582647337965\n",
      "WARNING:root:Truncating @ 40, latest SV = 0.004148400860620934\n",
      "WARNING:root:Truncating @ 40, latest SV = 0.004128217558218749\n",
      "WARNING:root:Truncating @ 40, latest SV = 0.003416314112426444\n",
      "WARNING:root:Truncating @ 40, latest SV = 0.00327325247322926\n",
      "WARNING:root:Truncating @ 40, latest SV = 0.002485895638964555\n",
      "WARNING:root:Truncating @ 40, latest SV = 0.0019412211002601272\n",
      "WARNING:root:Truncating @ 40, latest SV = 0.0013463310463343963\n",
      "WARNING:root:Truncating @ 40, latest SV = 0.0009211484484281501\n",
      "WARNING:root:Truncating @ 40, latest SV = 0.0005176904658396393\n",
      "WARNING:root:Truncating @ 40, latest SV = 0.00019235109544878652\n",
      "WARNING:root:Truncating @ 40, latest SV = 3.6828208151821063e-05\n",
      "WARNING:root:Truncating @ 40, latest SV = 1.458802806512565e-06\n",
      "WARNING:root:Truncating @ 40, latest SV = 2.249540930729659e-10\n"
     ]
    },
    {
     "name": "stdout",
     "output_type": "stream",
     "text": [
      "209 [1, 2, 4, 7, 13, 23, 40, 40, 40, 40, 40, 40, 40, 40, 40, 40, 40, 40, 40, 40, 40, 40, 40, 40, 40, 32, 16, 8, 4, 2, 1]\n",
      "MPS with length 30 and physical d=2\n",
      "chi [1, 6, 12, 21, 39, 69, 120, 120, 120, 120, 120, 120, 120, 120, 120, 120, 120, 120, 120, 120, 120, 120, 120, 120, 120, 96, 48, 24, 12, 6, 1]\n"
     ]
    },
    {
     "name": "stderr",
     "output_type": "stream",
     "text": [
      "WARNING:root:Truncating @ 40, latest SV = 0.0012700011659074568\n",
      "WARNING:root:Truncating @ 40, latest SV = 0.002214224316737154\n",
      "WARNING:root:Truncating @ 40, latest SV = 0.0030910621129118013\n",
      "WARNING:root:Truncating @ 40, latest SV = 0.0037529248448974137\n",
      "WARNING:root:Truncating @ 40, latest SV = 0.003942893810092831\n",
      "WARNING:root:Truncating @ 40, latest SV = 0.003840570270859413\n",
      "WARNING:root:Truncating @ 40, latest SV = 0.0038618903846987175\n",
      "WARNING:root:Truncating @ 40, latest SV = 0.0036699087984286604\n",
      "WARNING:root:Truncating @ 40, latest SV = 0.003138280263032151\n",
      "WARNING:root:Truncating @ 40, latest SV = 0.002786383011525787\n",
      "WARNING:root:Truncating @ 40, latest SV = 0.0021471756413169707\n",
      "WARNING:root:Truncating @ 40, latest SV = 0.0017490482491082635\n",
      "WARNING:root:Truncating @ 40, latest SV = 0.0011703783118251151\n",
      "WARNING:root:Truncating @ 40, latest SV = 0.0007553038793842447\n",
      "WARNING:root:Truncating @ 40, latest SV = 0.00034081716043282885\n",
      "WARNING:root:Truncating @ 40, latest SV = 0.00014582170242162014\n",
      "WARNING:root:Truncating @ 40, latest SV = 5.48257448536915e-05\n",
      "WARNING:root:Truncating @ 40, latest SV = 2.0698327443219804e-06\n",
      "WARNING:root:Truncating @ 40, latest SV = 3.7522069030027287e-10\n"
     ]
    },
    {
     "name": "stdout",
     "output_type": "stream",
     "text": [
      "210 [1, 2, 4, 7, 14, 25, 40, 40, 40, 40, 40, 40, 40, 40, 40, 40, 40, 40, 40, 40, 40, 40, 40, 40, 40, 32, 16, 8, 4, 2, 1]\n",
      "MPS with length 30 and physical d=2\n",
      "chi [1, 6, 12, 21, 42, 75, 120, 120, 120, 120, 120, 120, 120, 120, 120, 120, 120, 120, 120, 120, 120, 120, 120, 120, 120, 96, 48, 24, 12, 6, 1]\n"
     ]
    },
    {
     "name": "stderr",
     "output_type": "stream",
     "text": [
      "WARNING:root:Truncating @ 40, latest SV = 0.0013227061845638235\n",
      "WARNING:root:Truncating @ 40, latest SV = 0.0022554520336461837\n",
      "WARNING:root:Truncating @ 40, latest SV = 0.0031263290299617585\n",
      "WARNING:root:Truncating @ 40, latest SV = 0.0037669142314921984\n",
      "WARNING:root:Truncating @ 40, latest SV = 0.003941102760024106\n",
      "WARNING:root:Truncating @ 40, latest SV = 0.0038108859738121724\n",
      "WARNING:root:Truncating @ 40, latest SV = 0.003541193162918127\n",
      "WARNING:root:Truncating @ 40, latest SV = 0.0032024600925673772\n",
      "WARNING:root:Truncating @ 40, latest SV = 0.0030693638559277725\n",
      "WARNING:root:Truncating @ 40, latest SV = 0.00269194914904239\n",
      "WARNING:root:Truncating @ 40, latest SV = 0.002366550782276188\n",
      "WARNING:root:Truncating @ 40, latest SV = 0.0020485784101685668\n",
      "WARNING:root:Truncating @ 40, latest SV = 0.0016039881315357517\n",
      "WARNING:root:Truncating @ 40, latest SV = 0.001058120429123468\n",
      "WARNING:root:Truncating @ 40, latest SV = 0.0004871620621393251\n",
      "WARNING:root:Truncating @ 40, latest SV = 0.00024322948848700676\n",
      "WARNING:root:Truncating @ 40, latest SV = 9.049057381996341e-05\n",
      "WARNING:root:Truncating @ 40, latest SV = 1.2415844495714382e-06\n",
      "WARNING:root:Truncating @ 40, latest SV = 1.1553009892508067e-10\n"
     ]
    },
    {
     "name": "stdout",
     "output_type": "stream",
     "text": [
      "211 [1, 2, 4, 7, 12, 23, 40, 40, 40, 40, 40, 40, 40, 40, 40, 40, 40, 40, 40, 40, 40, 40, 40, 40, 40, 32, 16, 8, 4, 2, 1]\n",
      "MPS with length 30 and physical d=2\n",
      "chi [1, 6, 12, 21, 36, 69, 120, 120, 120, 120, 120, 120, 120, 120, 120, 120, 120, 120, 120, 120, 120, 120, 120, 120, 120, 96, 48, 24, 12, 6, 1]\n"
     ]
    },
    {
     "name": "stderr",
     "output_type": "stream",
     "text": [
      "WARNING:root:Truncating @ 40, latest SV = 0.0015331343598953032\n",
      "WARNING:root:Truncating @ 40, latest SV = 0.0021457604792763673\n",
      "WARNING:root:Truncating @ 40, latest SV = 0.0029248745473538936\n",
      "WARNING:root:Truncating @ 40, latest SV = 0.003025484693761334\n",
      "WARNING:root:Truncating @ 40, latest SV = 0.003220272359324861\n",
      "WARNING:root:Truncating @ 40, latest SV = 0.003296680116128798\n",
      "WARNING:root:Truncating @ 40, latest SV = 0.002944902874069851\n",
      "WARNING:root:Truncating @ 40, latest SV = 0.0028800441676555613\n",
      "WARNING:root:Truncating @ 40, latest SV = 0.002437883872787606\n",
      "WARNING:root:Truncating @ 40, latest SV = 0.0022610287143397306\n",
      "WARNING:root:Truncating @ 40, latest SV = 0.0018736667475444395\n",
      "WARNING:root:Truncating @ 40, latest SV = 0.0014428535665210853\n",
      "WARNING:root:Truncating @ 40, latest SV = 0.0010815348398769224\n",
      "WARNING:root:Truncating @ 40, latest SV = 0.0006634690346890041\n",
      "WARNING:root:Truncating @ 40, latest SV = 0.00031964365055614925\n",
      "WARNING:root:Truncating @ 40, latest SV = 0.00016135668788798372\n",
      "WARNING:root:Truncating @ 40, latest SV = 2.5542617878267922e-05\n",
      "WARNING:root:Truncating @ 40, latest SV = 7.49755306837421e-07\n"
     ]
    },
    {
     "name": "stdout",
     "output_type": "stream",
     "text": [
      "212 [1, 2, 4, 7, 13, 22, 38, 40, 40, 40, 40, 40, 40, 40, 40, 40, 40, 40, 40, 40, 40, 40, 40, 40, 40, 32, 16, 8, 4, 2, 1]\n",
      "MPS with length 30 and physical d=2\n",
      "chi [1, 6, 12, 21, 39, 66, 114, 120, 120, 120, 120, 120, 120, 120, 120, 120, 120, 120, 120, 120, 120, 120, 120, 120, 120, 96, 48, 24, 12, 6, 1]\n"
     ]
    },
    {
     "name": "stderr",
     "output_type": "stream",
     "text": [
      "WARNING:root:Truncating @ 40, latest SV = 0.001506192063114536\n",
      "WARNING:root:Truncating @ 40, latest SV = 0.0027087449745968766\n",
      "WARNING:root:Truncating @ 40, latest SV = 0.0034620351465084864\n",
      "WARNING:root:Truncating @ 40, latest SV = 0.004091049484963849\n",
      "WARNING:root:Truncating @ 40, latest SV = 0.004281331560495885\n",
      "WARNING:root:Truncating @ 40, latest SV = 0.004175831263857827\n",
      "WARNING:root:Truncating @ 40, latest SV = 0.003952462414983067\n",
      "WARNING:root:Truncating @ 40, latest SV = 0.003691255659600495\n",
      "WARNING:root:Truncating @ 40, latest SV = 0.003452746889516584\n",
      "WARNING:root:Truncating @ 40, latest SV = 0.002959018759763091\n",
      "WARNING:root:Truncating @ 40, latest SV = 0.0024893443825215493\n",
      "WARNING:root:Truncating @ 40, latest SV = 0.0020020723954488518\n",
      "WARNING:root:Truncating @ 40, latest SV = 0.0015416793410399272\n",
      "WARNING:root:Truncating @ 40, latest SV = 0.0009882598204013179\n",
      "WARNING:root:Truncating @ 40, latest SV = 0.0004822013937943849\n",
      "WARNING:root:Truncating @ 40, latest SV = 0.00018976595566659024\n",
      "WARNING:root:Truncating @ 40, latest SV = 3.7853406648122285e-05\n",
      "WARNING:root:Truncating @ 40, latest SV = 3.3759550127373166e-06\n"
     ]
    },
    {
     "name": "stdout",
     "output_type": "stream",
     "text": [
      "213 [1, 2, 4, 8, 14, 21, 37, 40, 40, 40, 40, 40, 40, 40, 40, 40, 40, 40, 40, 40, 40, 40, 40, 40, 40, 32, 16, 8, 4, 2, 1]\n",
      "MPS with length 30 and physical d=2\n",
      "chi [1, 6, 12, 24, 42, 63, 111, 120, 120, 120, 120, 120, 120, 120, 120, 120, 120, 120, 120, 120, 120, 120, 120, 120, 120, 96, 48, 24, 12, 6, 1]\n"
     ]
    },
    {
     "name": "stderr",
     "output_type": "stream",
     "text": [
      "WARNING:root:Truncating @ 40, latest SV = 0.0014214584275082389\n",
      "WARNING:root:Truncating @ 40, latest SV = 0.0021484691606712568\n",
      "WARNING:root:Truncating @ 40, latest SV = 0.0030057812372125724\n",
      "WARNING:root:Truncating @ 40, latest SV = 0.003467635818895001\n",
      "WARNING:root:Truncating @ 40, latest SV = 0.004008330106990357\n",
      "WARNING:root:Truncating @ 40, latest SV = 0.003916262069712741\n",
      "WARNING:root:Truncating @ 40, latest SV = 0.003864492231031722\n",
      "WARNING:root:Truncating @ 40, latest SV = 0.0034598614535871035\n",
      "WARNING:root:Truncating @ 40, latest SV = 0.003108302420738669\n",
      "WARNING:root:Truncating @ 40, latest SV = 0.0024819330517389057\n",
      "WARNING:root:Truncating @ 40, latest SV = 0.0021554671018714504\n",
      "WARNING:root:Truncating @ 40, latest SV = 0.0014909227642125984\n",
      "WARNING:root:Truncating @ 40, latest SV = 0.000988121641333674\n",
      "WARNING:root:Truncating @ 40, latest SV = 0.0005611022181251146\n",
      "WARNING:root:Truncating @ 40, latest SV = 0.0002867884893406202\n",
      "WARNING:root:Truncating @ 40, latest SV = 0.00012274671229416933\n",
      "WARNING:root:Truncating @ 40, latest SV = 4.469041617201987e-05\n",
      "WARNING:root:Truncating @ 40, latest SV = 1.793196443890222e-06\n"
     ]
    },
    {
     "name": "stdout",
     "output_type": "stream",
     "text": [
      "214 [1, 2, 4, 7, 13, 23, 40, 40, 40, 40, 40, 40, 40, 40, 40, 40, 40, 40, 40, 40, 40, 40, 40, 40, 40, 32, 16, 8, 4, 2, 1]\n",
      "MPS with length 30 and physical d=2\n",
      "chi [1, 6, 12, 21, 39, 69, 120, 120, 120, 120, 120, 120, 120, 120, 120, 120, 120, 120, 120, 120, 120, 120, 120, 120, 120, 96, 48, 24, 12, 6, 1]\n"
     ]
    },
    {
     "name": "stderr",
     "output_type": "stream",
     "text": [
      "WARNING:root:Truncating @ 40, latest SV = 0.0012607033176864463\n",
      "WARNING:root:Truncating @ 40, latest SV = 0.0022198090453771045\n",
      "WARNING:root:Truncating @ 40, latest SV = 0.002952251192308281\n",
      "WARNING:root:Truncating @ 40, latest SV = 0.0032862000294832487\n",
      "WARNING:root:Truncating @ 40, latest SV = 0.0033202529136571023\n",
      "WARNING:root:Truncating @ 40, latest SV = 0.003446147185932485\n",
      "WARNING:root:Truncating @ 40, latest SV = 0.0034730291146243654\n",
      "WARNING:root:Truncating @ 40, latest SV = 0.0031799169494398285\n",
      "WARNING:root:Truncating @ 40, latest SV = 0.002812877299869486\n",
      "WARNING:root:Truncating @ 40, latest SV = 0.002563509605362656\n",
      "WARNING:root:Truncating @ 40, latest SV = 0.0021329149656521868\n",
      "WARNING:root:Truncating @ 40, latest SV = 0.0016827111152673483\n",
      "WARNING:root:Truncating @ 40, latest SV = 0.001105195422919124\n",
      "WARNING:root:Truncating @ 40, latest SV = 0.000768368431460236\n",
      "WARNING:root:Truncating @ 40, latest SV = 0.00047618606978813715\n",
      "WARNING:root:Truncating @ 40, latest SV = 0.00025231260943225106\n",
      "WARNING:root:Truncating @ 40, latest SV = 8.284643113103551e-05\n",
      "WARNING:root:Truncating @ 40, latest SV = 2.0970634289485326e-06\n"
     ]
    },
    {
     "name": "stdout",
     "output_type": "stream",
     "text": [
      "215 [1, 2, 4, 7, 12, 21, 38, 40, 40, 40, 40, 40, 40, 40, 40, 40, 40, 40, 40, 40, 40, 40, 40, 40, 40, 32, 16, 8, 4, 2, 1]\n",
      "MPS with length 30 and physical d=2\n",
      "chi [1, 6, 12, 21, 36, 63, 114, 120, 120, 120, 120, 120, 120, 120, 120, 120, 120, 120, 120, 120, 120, 120, 120, 120, 120, 96, 48, 24, 12, 6, 1]\n"
     ]
    },
    {
     "name": "stderr",
     "output_type": "stream",
     "text": [
      "WARNING:root:Truncating @ 40, latest SV = 0.0012634794102145649\n",
      "WARNING:root:Truncating @ 40, latest SV = 0.0018249580760283082\n",
      "WARNING:root:Truncating @ 40, latest SV = 0.002381758051738727\n",
      "WARNING:root:Truncating @ 40, latest SV = 0.002795771802739516\n",
      "WARNING:root:Truncating @ 40, latest SV = 0.002924077863822907\n",
      "WARNING:root:Truncating @ 40, latest SV = 0.002754648247981108\n",
      "WARNING:root:Truncating @ 40, latest SV = 0.0026682629388773316\n",
      "WARNING:root:Truncating @ 40, latest SV = 0.0025838692346709124\n",
      "WARNING:root:Truncating @ 40, latest SV = 0.0023317150800592676\n",
      "WARNING:root:Truncating @ 40, latest SV = 0.0020005327972136265\n",
      "WARNING:root:Truncating @ 40, latest SV = 0.001527966084907567\n",
      "WARNING:root:Truncating @ 40, latest SV = 0.0013100516852916889\n",
      "WARNING:root:Truncating @ 40, latest SV = 0.001040955439469505\n",
      "WARNING:root:Truncating @ 40, latest SV = 0.0006356015495953296\n",
      "WARNING:root:Truncating @ 40, latest SV = 0.00028267137027809954\n",
      "WARNING:root:Truncating @ 40, latest SV = 0.00013879272636758386\n",
      "WARNING:root:Truncating @ 40, latest SV = 6.284158970300907e-05\n",
      "WARNING:root:Truncating @ 40, latest SV = 1.3283649059728873e-06\n"
     ]
    },
    {
     "name": "stdout",
     "output_type": "stream",
     "text": [
      "216 [1, 2, 4, 6, 11, 20, 36, 40, 40, 40, 40, 40, 40, 40, 40, 40, 40, 40, 40, 40, 40, 40, 40, 40, 40, 32, 16, 8, 4, 2, 1]\n",
      "MPS with length 30 and physical d=2\n",
      "chi [1, 6, 12, 18, 33, 60, 108, 120, 120, 120, 120, 120, 120, 120, 120, 120, 120, 120, 120, 120, 120, 120, 120, 120, 120, 96, 48, 24, 12, 6, 1]\n"
     ]
    },
    {
     "name": "stderr",
     "output_type": "stream",
     "text": [
      "WARNING:root:Truncating @ 40, latest SV = 0.001199315316094745\n",
      "WARNING:root:Truncating @ 40, latest SV = 0.001891853392538731\n",
      "WARNING:root:Truncating @ 40, latest SV = 0.0025345143690961194\n",
      "WARNING:root:Truncating @ 40, latest SV = 0.0028153754466715667\n",
      "WARNING:root:Truncating @ 40, latest SV = 0.002979987719967589\n",
      "WARNING:root:Truncating @ 40, latest SV = 0.0029270207815225136\n",
      "WARNING:root:Truncating @ 40, latest SV = 0.0027606012700136734\n",
      "WARNING:root:Truncating @ 40, latest SV = 0.0025256585409634113\n",
      "WARNING:root:Truncating @ 40, latest SV = 0.0023321181581594267\n",
      "WARNING:root:Truncating @ 40, latest SV = 0.0020013168007527206\n",
      "WARNING:root:Truncating @ 40, latest SV = 0.0018601881909547896\n",
      "WARNING:root:Truncating @ 40, latest SV = 0.0014488306060557337\n",
      "WARNING:root:Truncating @ 40, latest SV = 0.0010832953371295486\n",
      "WARNING:root:Truncating @ 40, latest SV = 0.0007111522120367596\n",
      "WARNING:root:Truncating @ 40, latest SV = 0.00038769425769041084\n",
      "WARNING:root:Truncating @ 40, latest SV = 0.00020051819087339403\n",
      "WARNING:root:Truncating @ 40, latest SV = 2.3131394370948593e-05\n",
      "WARNING:root:Truncating @ 40, latest SV = 1.3590697750712344e-06\n"
     ]
    },
    {
     "name": "stdout",
     "output_type": "stream",
     "text": [
      "217 [1, 2, 4, 6, 11, 19, 34, 40, 40, 40, 40, 40, 40, 40, 40, 40, 40, 40, 40, 40, 40, 40, 40, 40, 40, 32, 16, 8, 4, 2, 1]\n",
      "MPS with length 30 and physical d=2\n",
      "chi [1, 6, 12, 18, 33, 57, 102, 120, 120, 120, 120, 120, 120, 120, 120, 120, 120, 120, 120, 120, 120, 120, 120, 120, 120, 96, 48, 24, 12, 6, 1]\n"
     ]
    },
    {
     "name": "stderr",
     "output_type": "stream",
     "text": [
      "WARNING:root:Truncating @ 40, latest SV = 0.0012785634329196792\n",
      "WARNING:root:Truncating @ 40, latest SV = 0.002143966884320426\n",
      "WARNING:root:Truncating @ 40, latest SV = 0.002780751024485382\n",
      "WARNING:root:Truncating @ 40, latest SV = 0.002915962237894879\n",
      "WARNING:root:Truncating @ 40, latest SV = 0.002989733090836984\n",
      "WARNING:root:Truncating @ 40, latest SV = 0.0029739322964261305\n",
      "WARNING:root:Truncating @ 40, latest SV = 0.002833588024182603\n",
      "WARNING:root:Truncating @ 40, latest SV = 0.0026525379026714844\n",
      "WARNING:root:Truncating @ 40, latest SV = 0.002420966803898589\n",
      "WARNING:root:Truncating @ 40, latest SV = 0.0021176861600207273\n",
      "WARNING:root:Truncating @ 40, latest SV = 0.0018499480308908154\n",
      "WARNING:root:Truncating @ 40, latest SV = 0.0015844289935547\n",
      "WARNING:root:Truncating @ 40, latest SV = 0.0012168889252751893\n",
      "WARNING:root:Truncating @ 40, latest SV = 0.0008347470623864572\n",
      "WARNING:root:Truncating @ 40, latest SV = 0.0002908105121608057\n",
      "WARNING:root:Truncating @ 40, latest SV = 0.00013576748995361668\n",
      "WARNING:root:Truncating @ 40, latest SV = 3.9656738771961555e-05\n",
      "WARNING:root:Truncating @ 40, latest SV = 2.2160342213363652e-06\n"
     ]
    },
    {
     "name": "stdout",
     "output_type": "stream",
     "text": [
      "218 [1, 2, 4, 6, 9, 18, 34, 40, 40, 40, 40, 40, 40, 40, 40, 40, 40, 40, 40, 40, 40, 40, 40, 40, 40, 32, 16, 8, 4, 2, 1]\n",
      "MPS with length 30 and physical d=2\n",
      "chi [1, 6, 12, 18, 27, 54, 102, 120, 120, 120, 120, 120, 120, 120, 120, 120, 120, 120, 120, 120, 120, 120, 120, 120, 120, 96, 48, 24, 12, 6, 1]\n"
     ]
    },
    {
     "name": "stderr",
     "output_type": "stream",
     "text": [
      "WARNING:root:Truncating @ 40, latest SV = 0.0010587255017797152\n",
      "WARNING:root:Truncating @ 40, latest SV = 0.0018257207720933726\n",
      "WARNING:root:Truncating @ 40, latest SV = 0.00246196390787304\n",
      "WARNING:root:Truncating @ 40, latest SV = 0.0026906248357745615\n",
      "WARNING:root:Truncating @ 40, latest SV = 0.0029552308328187247\n",
      "WARNING:root:Truncating @ 40, latest SV = 0.0028356531663489342\n",
      "WARNING:root:Truncating @ 40, latest SV = 0.00280457350801997\n",
      "WARNING:root:Truncating @ 40, latest SV = 0.002741607220244842\n",
      "WARNING:root:Truncating @ 40, latest SV = 0.0025005241827786074\n",
      "WARNING:root:Truncating @ 40, latest SV = 0.0023584993229953544\n",
      "WARNING:root:Truncating @ 40, latest SV = 0.0021000513503460242\n",
      "WARNING:root:Truncating @ 40, latest SV = 0.0016482535460876323\n",
      "WARNING:root:Truncating @ 40, latest SV = 0.0013965831655112252\n",
      "WARNING:root:Truncating @ 40, latest SV = 0.0008583384013778555\n",
      "WARNING:root:Truncating @ 40, latest SV = 0.00023106912896635347\n",
      "WARNING:root:Truncating @ 40, latest SV = 0.00011179389684510747\n",
      "WARNING:root:Truncating @ 40, latest SV = 4.464744732536116e-05\n",
      "WARNING:root:Truncating @ 40, latest SV = 1.4394277860643755e-06\n"
     ]
    },
    {
     "name": "stdout",
     "output_type": "stream",
     "text": [
      "219 [1, 2, 3, 5, 10, 18, 34, 40, 40, 40, 40, 40, 40, 40, 40, 40, 40, 40, 40, 40, 40, 40, 40, 40, 40, 32, 16, 8, 4, 2, 1]\n",
      "MPS with length 30 and physical d=2\n",
      "chi [1, 6, 9, 15, 30, 54, 102, 120, 120, 120, 120, 120, 120, 120, 120, 120, 120, 120, 120, 120, 120, 120, 120, 120, 120, 96, 48, 24, 12, 6, 1]\n"
     ]
    },
    {
     "name": "stderr",
     "output_type": "stream",
     "text": [
      "WARNING:root:Truncating @ 40, latest SV = 0.001091955932566391\n",
      "WARNING:root:Truncating @ 40, latest SV = 0.0020077596086331513\n",
      "WARNING:root:Truncating @ 40, latest SV = 0.0029474671640399887\n",
      "WARNING:root:Truncating @ 40, latest SV = 0.0036244907439403583\n",
      "WARNING:root:Truncating @ 40, latest SV = 0.0035070973878397103\n",
      "WARNING:root:Truncating @ 40, latest SV = 0.0035316936306471884\n",
      "WARNING:root:Truncating @ 40, latest SV = 0.003172630527872675\n",
      "WARNING:root:Truncating @ 40, latest SV = 0.002903116434938056\n",
      "WARNING:root:Truncating @ 40, latest SV = 0.0027614846842264965\n",
      "WARNING:root:Truncating @ 40, latest SV = 0.0023524134490420334\n",
      "WARNING:root:Truncating @ 40, latest SV = 0.0018314963722646032\n",
      "WARNING:root:Truncating @ 40, latest SV = 0.0014194123712985762\n",
      "WARNING:root:Truncating @ 40, latest SV = 0.001022973193008927\n",
      "WARNING:root:Truncating @ 40, latest SV = 0.0007334605861858126\n",
      "WARNING:root:Truncating @ 40, latest SV = 0.0005037283647371699\n",
      "WARNING:root:Truncating @ 40, latest SV = 0.00024143175468596028\n",
      "WARNING:root:Truncating @ 40, latest SV = 8.491663177518677e-05\n",
      "WARNING:root:Truncating @ 40, latest SV = 9.944665076798764e-07\n"
     ]
    },
    {
     "name": "stdout",
     "output_type": "stream",
     "text": [
      "220 [1, 2, 4, 7, 10, 17, 31, 40, 40, 40, 40, 40, 40, 40, 40, 40, 40, 40, 40, 40, 40, 40, 40, 40, 40, 32, 16, 8, 4, 2, 1]\n",
      "MPS with length 30 and physical d=2\n",
      "chi [1, 6, 12, 21, 30, 51, 93, 120, 120, 120, 120, 120, 120, 120, 120, 120, 120, 120, 120, 120, 120, 120, 120, 120, 120, 96, 48, 24, 12, 6, 1]\n"
     ]
    },
    {
     "name": "stderr",
     "output_type": "stream",
     "text": [
      "WARNING:root:Truncating @ 40, latest SV = 0.0008815779694609678\n",
      "WARNING:root:Truncating @ 40, latest SV = 0.0015485147698484445\n",
      "WARNING:root:Truncating @ 40, latest SV = 0.0024569529837349213\n",
      "WARNING:root:Truncating @ 40, latest SV = 0.003033697685893671\n",
      "WARNING:root:Truncating @ 40, latest SV = 0.0031171250387045796\n",
      "WARNING:root:Truncating @ 40, latest SV = 0.003357030870079459\n",
      "WARNING:root:Truncating @ 40, latest SV = 0.003284772374474614\n",
      "WARNING:root:Truncating @ 40, latest SV = 0.002754202382029789\n",
      "WARNING:root:Truncating @ 40, latest SV = 0.002559916592200088\n",
      "WARNING:root:Truncating @ 40, latest SV = 0.002353952756433313\n",
      "WARNING:root:Truncating @ 40, latest SV = 0.0019887365935811496\n",
      "WARNING:root:Truncating @ 40, latest SV = 0.0017969318709539987\n",
      "WARNING:root:Truncating @ 40, latest SV = 0.001480298633667641\n",
      "WARNING:root:Truncating @ 40, latest SV = 0.0012557283073442566\n",
      "WARNING:root:Truncating @ 40, latest SV = 0.0008975660579625142\n",
      "WARNING:root:Truncating @ 40, latest SV = 0.0005815867638972559\n",
      "WARNING:root:Truncating @ 40, latest SV = 0.0003081533778736874\n",
      "WARNING:root:Truncating @ 40, latest SV = 1.651036884658977e-05\n"
     ]
    },
    {
     "name": "stdout",
     "output_type": "stream",
     "text": [
      "221 [1, 2, 4, 6, 10, 17, 33, 40, 40, 40, 40, 40, 40, 40, 40, 40, 40, 40, 40, 40, 40, 40, 40, 40, 40, 32, 16, 8, 4, 2, 1]\n",
      "MPS with length 30 and physical d=2\n",
      "chi [1, 6, 12, 18, 30, 51, 99, 120, 120, 120, 120, 120, 120, 120, 120, 120, 120, 120, 120, 120, 120, 120, 120, 120, 120, 96, 48, 24, 12, 6, 1]\n"
     ]
    },
    {
     "name": "stderr",
     "output_type": "stream",
     "text": [
      "WARNING:root:Truncating @ 40, latest SV = 0.0009234133473698955\n",
      "WARNING:root:Truncating @ 40, latest SV = 0.0017102044640676557\n",
      "WARNING:root:Truncating @ 40, latest SV = 0.0025434135714686367\n",
      "WARNING:root:Truncating @ 40, latest SV = 0.0029512481001212326\n",
      "WARNING:root:Truncating @ 40, latest SV = 0.0033529241381800075\n",
      "WARNING:root:Truncating @ 40, latest SV = 0.00347801074903035\n",
      "WARNING:root:Truncating @ 40, latest SV = 0.002982875842148978\n",
      "WARNING:root:Truncating @ 40, latest SV = 0.002924315801923036\n",
      "WARNING:root:Truncating @ 40, latest SV = 0.0027668166948297446\n",
      "WARNING:root:Truncating @ 40, latest SV = 0.0024507528677428056\n",
      "WARNING:root:Truncating @ 40, latest SV = 0.0022090371774163486\n",
      "WARNING:root:Truncating @ 40, latest SV = 0.0022412310184885945\n",
      "WARNING:root:Truncating @ 40, latest SV = 0.0018866255843277217\n",
      "WARNING:root:Truncating @ 40, latest SV = 0.0015033955847509137\n",
      "WARNING:root:Truncating @ 40, latest SV = 0.0011234151402142168\n",
      "WARNING:root:Truncating @ 40, latest SV = 0.0007840405111885487\n",
      "WARNING:root:Truncating @ 40, latest SV = 0.0003150834821788748\n",
      "WARNING:root:Truncating @ 40, latest SV = 1.7060948034979627e-05\n"
     ]
    },
    {
     "name": "stdout",
     "output_type": "stream",
     "text": [
      "222 [1, 2, 3, 5, 9, 17, 33, 40, 40, 40, 40, 40, 40, 40, 40, 40, 40, 40, 40, 40, 40, 40, 40, 40, 40, 32, 16, 8, 4, 2, 1]\n",
      "MPS with length 30 and physical d=2\n",
      "chi [1, 6, 9, 15, 27, 51, 99, 120, 120, 120, 120, 120, 120, 120, 120, 120, 120, 120, 120, 120, 120, 120, 120, 120, 120, 96, 48, 24, 12, 6, 1]\n"
     ]
    },
    {
     "name": "stderr",
     "output_type": "stream",
     "text": [
      "WARNING:root:Truncating @ 40, latest SV = 0.0008255835626526308\n",
      "WARNING:root:Truncating @ 40, latest SV = 0.001612383399057793\n",
      "WARNING:root:Truncating @ 40, latest SV = 0.0023149796343862523\n",
      "WARNING:root:Truncating @ 40, latest SV = 0.0027910709052916976\n",
      "WARNING:root:Truncating @ 40, latest SV = 0.0028132710272880555\n",
      "WARNING:root:Truncating @ 40, latest SV = 0.0029182792130225104\n",
      "WARNING:root:Truncating @ 40, latest SV = 0.0027470678218905246\n",
      "WARNING:root:Truncating @ 40, latest SV = 0.0027196986799020713\n",
      "WARNING:root:Truncating @ 40, latest SV = 0.002411411787827453\n",
      "WARNING:root:Truncating @ 40, latest SV = 0.002190358559132531\n",
      "WARNING:root:Truncating @ 40, latest SV = 0.0018189577978610484\n",
      "WARNING:root:Truncating @ 40, latest SV = 0.001611812124277609\n",
      "WARNING:root:Truncating @ 40, latest SV = 0.0015795564109557041\n",
      "WARNING:root:Truncating @ 40, latest SV = 0.0012070624617516056\n",
      "WARNING:root:Truncating @ 40, latest SV = 0.00104469572035352\n",
      "WARNING:root:Truncating @ 40, latest SV = 0.0008086157955056007\n",
      "WARNING:root:Truncating @ 40, latest SV = 0.0005030504060269907\n",
      "WARNING:root:Truncating @ 40, latest SV = 0.00011091197802501592\n"
     ]
    },
    {
     "name": "stdout",
     "output_type": "stream",
     "text": [
      "223 [1, 2, 3, 5, 8, 16, 32, 40, 40, 40, 40, 40, 40, 40, 40, 40, 40, 40, 40, 40, 40, 40, 40, 40, 40, 32, 16, 8, 4, 2, 1]\n",
      "MPS with length 30 and physical d=2\n",
      "chi [1, 6, 9, 15, 24, 48, 96, 120, 120, 120, 120, 120, 120, 120, 120, 120, 120, 120, 120, 120, 120, 120, 120, 120, 120, 96, 48, 24, 12, 6, 1]\n"
     ]
    },
    {
     "name": "stderr",
     "output_type": "stream",
     "text": [
      "WARNING:root:Truncating @ 40, latest SV = 0.0009028490546545589\n",
      "WARNING:root:Truncating @ 40, latest SV = 0.00143745857231875\n",
      "WARNING:root:Truncating @ 40, latest SV = 0.0023240105040811935\n",
      "WARNING:root:Truncating @ 40, latest SV = 0.0027758949155653055\n",
      "WARNING:root:Truncating @ 40, latest SV = 0.0031141949244440767\n",
      "WARNING:root:Truncating @ 40, latest SV = 0.0028876074573063624\n",
      "WARNING:root:Truncating @ 40, latest SV = 0.002807517775627758\n",
      "WARNING:root:Truncating @ 40, latest SV = 0.002668095367601815\n",
      "WARNING:root:Truncating @ 40, latest SV = 0.0025824750556353625\n",
      "WARNING:root:Truncating @ 40, latest SV = 0.0022674015648345308\n",
      "WARNING:root:Truncating @ 40, latest SV = 0.0021382868400263437\n",
      "WARNING:root:Truncating @ 40, latest SV = 0.001737650403047712\n",
      "WARNING:root:Truncating @ 40, latest SV = 0.0015807279152776728\n",
      "WARNING:root:Truncating @ 40, latest SV = 0.0012508717023801085\n",
      "WARNING:root:Truncating @ 40, latest SV = 0.0009488796141706135\n",
      "WARNING:root:Truncating @ 40, latest SV = 0.0005067447144168006\n",
      "WARNING:root:Truncating @ 40, latest SV = 0.00013533614156699734\n",
      "WARNING:root:Truncating @ 40, latest SV = 6.829377223586419e-06\n"
     ]
    },
    {
     "name": "stdout",
     "output_type": "stream",
     "text": [
      "224 [1, 1, 2, 4, 8, 16, 32, 40, 40, 40, 40, 40, 40, 40, 40, 40, 40, 40, 40, 40, 40, 40, 40, 40, 40, 32, 16, 8, 4, 2, 1]\n",
      "MPS with length 30 and physical d=2\n",
      "chi [1, 3, 6, 12, 24, 48, 96, 120, 120, 120, 120, 120, 120, 120, 120, 120, 120, 120, 120, 120, 120, 120, 120, 120, 120, 96, 48, 24, 12, 6, 1]\n"
     ]
    },
    {
     "name": "stderr",
     "output_type": "stream",
     "text": [
      "WARNING:root:Truncating @ 40, latest SV = 0.001128656534904403\n",
      "WARNING:root:Truncating @ 40, latest SV = 0.0020948320803908455\n",
      "WARNING:root:Truncating @ 40, latest SV = 0.0028694414150958578\n",
      "WARNING:root:Truncating @ 40, latest SV = 0.003416986291004244\n",
      "WARNING:root:Truncating @ 40, latest SV = 0.003906917723660483\n",
      "WARNING:root:Truncating @ 40, latest SV = 0.003743275235930272\n",
      "WARNING:root:Truncating @ 40, latest SV = 0.0037192665776344578\n",
      "WARNING:root:Truncating @ 40, latest SV = 0.0036538952839753986\n",
      "WARNING:root:Truncating @ 40, latest SV = 0.0032963790957697002\n",
      "WARNING:root:Truncating @ 40, latest SV = 0.002929517786517659\n",
      "WARNING:root:Truncating @ 40, latest SV = 0.0025299268844405564\n",
      "WARNING:root:Truncating @ 40, latest SV = 0.0024139021268348533\n",
      "WARNING:root:Truncating @ 40, latest SV = 0.0019314953405829627\n",
      "WARNING:root:Truncating @ 40, latest SV = 0.0015147564967536147\n",
      "WARNING:root:Truncating @ 40, latest SV = 0.0009868437522301862\n",
      "WARNING:root:Truncating @ 40, latest SV = 0.0005096243359294942\n",
      "WARNING:root:Truncating @ 40, latest SV = 0.00011651556774265818\n",
      "WARNING:root:Truncating @ 40, latest SV = 4.3070334008704945e-06\n",
      "WARNING:root:Truncating @ 40, latest SV = 3.6957779504808864e-09\n"
     ]
    },
    {
     "name": "stdout",
     "output_type": "stream",
     "text": [
      "225 [1, 2, 4, 8, 14, 25, 40, 40, 40, 40, 40, 40, 40, 40, 40, 40, 40, 40, 40, 40, 40, 40, 40, 40, 40, 32, 16, 8, 4, 2, 1]\n",
      "MPS with length 30 and physical d=2\n",
      "chi [1, 6, 12, 24, 42, 75, 120, 120, 120, 120, 120, 120, 120, 120, 120, 120, 120, 120, 120, 120, 120, 120, 120, 120, 120, 96, 48, 24, 12, 6, 1]\n"
     ]
    },
    {
     "name": "stderr",
     "output_type": "stream",
     "text": [
      "WARNING:root:Truncating @ 40, latest SV = 0.0014802499330780368\n",
      "WARNING:root:Truncating @ 40, latest SV = 0.002394104397363223\n",
      "WARNING:root:Truncating @ 40, latest SV = 0.003229420816737944\n",
      "WARNING:root:Truncating @ 40, latest SV = 0.003768286868314358\n",
      "WARNING:root:Truncating @ 40, latest SV = 0.003803307968306569\n",
      "WARNING:root:Truncating @ 40, latest SV = 0.003583139935613222\n",
      "WARNING:root:Truncating @ 40, latest SV = 0.0034574712831430413\n",
      "WARNING:root:Truncating @ 40, latest SV = 0.003616284236229596\n",
      "WARNING:root:Truncating @ 40, latest SV = 0.0031344294470684745\n",
      "WARNING:root:Truncating @ 40, latest SV = 0.002754223451025926\n",
      "WARNING:root:Truncating @ 40, latest SV = 0.002381635184616239\n",
      "WARNING:root:Truncating @ 40, latest SV = 0.0020345660513845483\n",
      "WARNING:root:Truncating @ 40, latest SV = 0.0015238696141407523\n",
      "WARNING:root:Truncating @ 40, latest SV = 0.0009832933604686464\n",
      "WARNING:root:Truncating @ 40, latest SV = 0.0005342659491189014\n",
      "WARNING:root:Truncating @ 40, latest SV = 0.0002528181905367042\n",
      "WARNING:root:Truncating @ 40, latest SV = 8.772316734621253e-05\n",
      "WARNING:root:Truncating @ 40, latest SV = 9.604997232802424e-06\n",
      "WARNING:root:Truncating @ 40, latest SV = 2.2318375619704305e-08\n"
     ]
    },
    {
     "name": "stdout",
     "output_type": "stream",
     "text": [
      "226 [1, 2, 4, 8, 14, 28, 40, 40, 40, 40, 40, 40, 40, 40, 40, 40, 40, 40, 40, 40, 40, 40, 40, 40, 40, 32, 16, 8, 4, 2, 1]\n",
      "MPS with length 30 and physical d=2\n",
      "chi [1, 6, 12, 24, 42, 84, 120, 120, 120, 120, 120, 120, 120, 120, 120, 120, 120, 120, 120, 120, 120, 120, 120, 120, 120, 96, 48, 24, 12, 6, 1]\n"
     ]
    },
    {
     "name": "stderr",
     "output_type": "stream",
     "text": [
      "WARNING:root:Truncating @ 40, latest SV = 0.0012438377696184018\n",
      "WARNING:root:Truncating @ 40, latest SV = 0.001986743762085895\n",
      "WARNING:root:Truncating @ 40, latest SV = 0.002660852182773204\n",
      "WARNING:root:Truncating @ 40, latest SV = 0.0032395507886903577\n",
      "WARNING:root:Truncating @ 40, latest SV = 0.0035038472622389645\n",
      "WARNING:root:Truncating @ 40, latest SV = 0.0035164576634408667\n",
      "WARNING:root:Truncating @ 40, latest SV = 0.00365039037729928\n",
      "WARNING:root:Truncating @ 40, latest SV = 0.0032446510785755036\n",
      "WARNING:root:Truncating @ 40, latest SV = 0.003008250345986287\n",
      "WARNING:root:Truncating @ 40, latest SV = 0.0030337295931415916\n",
      "WARNING:root:Truncating @ 40, latest SV = 0.0026368778305565126\n",
      "WARNING:root:Truncating @ 40, latest SV = 0.0022111583916835926\n",
      "WARNING:root:Truncating @ 40, latest SV = 0.0015603672789814456\n",
      "WARNING:root:Truncating @ 40, latest SV = 0.000627347508151769\n",
      "WARNING:root:Truncating @ 40, latest SV = 0.0003407652967865423\n",
      "WARNING:root:Truncating @ 40, latest SV = 0.0001641780072088648\n",
      "WARNING:root:Truncating @ 40, latest SV = 6.316435576186838e-05\n",
      "WARNING:root:Truncating @ 40, latest SV = 5.603931300590818e-06\n",
      "WARNING:root:Truncating @ 40, latest SV = 2.6982859745726012e-08\n"
     ]
    },
    {
     "name": "stdout",
     "output_type": "stream",
     "text": [
      "227 [1, 2, 4, 8, 16, 29, 40, 40, 40, 40, 40, 40, 40, 40, 40, 40, 40, 40, 40, 40, 40, 40, 40, 40, 40, 32, 16, 8, 4, 2, 1]\n",
      "MPS with length 30 and physical d=2\n",
      "chi [1, 6, 12, 24, 48, 87, 120, 120, 120, 120, 120, 120, 120, 120, 120, 120, 120, 120, 120, 120, 120, 120, 120, 120, 120, 96, 48, 24, 12, 6, 1]\n"
     ]
    },
    {
     "name": "stderr",
     "output_type": "stream",
     "text": [
      "WARNING:root:Truncating @ 40, latest SV = 0.0008326439719674767\n",
      "WARNING:root:Truncating @ 40, latest SV = 0.0018412106343705975\n",
      "WARNING:root:Truncating @ 40, latest SV = 0.0027838943896935624\n",
      "WARNING:root:Truncating @ 40, latest SV = 0.0032159012099975477\n",
      "WARNING:root:Truncating @ 40, latest SV = 0.0036495871607189674\n",
      "WARNING:root:Truncating @ 40, latest SV = 0.0036018148606107225\n",
      "WARNING:root:Truncating @ 40, latest SV = 0.003473470018211762\n",
      "WARNING:root:Truncating @ 40, latest SV = 0.0029673607527640443\n",
      "WARNING:root:Truncating @ 40, latest SV = 0.002821043274376882\n",
      "WARNING:root:Truncating @ 40, latest SV = 0.0024857688919542893\n",
      "WARNING:root:Truncating @ 40, latest SV = 0.0019283797407842675\n",
      "WARNING:root:Truncating @ 40, latest SV = 0.0015818359493232936\n",
      "WARNING:root:Truncating @ 40, latest SV = 0.0009980475231214031\n",
      "WARNING:root:Truncating @ 40, latest SV = 0.0005784301148487669\n",
      "WARNING:root:Truncating @ 40, latest SV = 0.00033210133018997216\n",
      "WARNING:root:Truncating @ 40, latest SV = 0.00015478952772256558\n",
      "WARNING:root:Truncating @ 40, latest SV = 4.6921983367943336e-05\n",
      "WARNING:root:Truncating @ 40, latest SV = 2.8474536200992174e-06\n",
      "WARNING:root:Truncating @ 40, latest SV = 4.298280225661096e-08\n"
     ]
    },
    {
     "name": "stdout",
     "output_type": "stream",
     "text": [
      "228 [1, 2, 4, 8, 16, 30, 40, 40, 40, 40, 40, 40, 40, 40, 40, 40, 40, 40, 40, 40, 40, 40, 40, 40, 40, 32, 16, 8, 4, 2, 1]\n",
      "MPS with length 30 and physical d=2\n",
      "chi [1, 6, 12, 24, 48, 90, 120, 120, 120, 120, 120, 120, 120, 120, 120, 120, 120, 120, 120, 120, 120, 120, 120, 120, 120, 96, 48, 24, 12, 6, 1]\n"
     ]
    },
    {
     "name": "stderr",
     "output_type": "stream",
     "text": [
      "WARNING:root:Truncating @ 40, latest SV = 0.0009348959273277291\n",
      "WARNING:root:Truncating @ 40, latest SV = 0.001387501211541357\n",
      "WARNING:root:Truncating @ 40, latest SV = 0.0020020380693546807\n",
      "WARNING:root:Truncating @ 40, latest SV = 0.0024021863495936684\n",
      "WARNING:root:Truncating @ 40, latest SV = 0.002639775381166443\n",
      "WARNING:root:Truncating @ 40, latest SV = 0.00272676467446934\n",
      "WARNING:root:Truncating @ 40, latest SV = 0.002791934236181969\n",
      "WARNING:root:Truncating @ 40, latest SV = 0.0026385796836929975\n",
      "WARNING:root:Truncating @ 40, latest SV = 0.0022407338619059294\n",
      "WARNING:root:Truncating @ 40, latest SV = 0.0019485882613589237\n",
      "WARNING:root:Truncating @ 40, latest SV = 0.0015317155496765913\n",
      "WARNING:root:Truncating @ 40, latest SV = 0.001214582883615895\n",
      "WARNING:root:Truncating @ 40, latest SV = 0.0008098335950955101\n",
      "WARNING:root:Truncating @ 40, latest SV = 0.00040623633271638453\n",
      "WARNING:root:Truncating @ 40, latest SV = 0.00011722881284968446\n",
      "WARNING:root:Truncating @ 40, latest SV = 4.6750851065670016e-05\n",
      "WARNING:root:Truncating @ 40, latest SV = 1.5844346552567346e-05\n",
      "WARNING:root:Truncating @ 40, latest SV = 1.2944859693432437e-06\n",
      "WARNING:root:Truncating @ 40, latest SV = 2.1631507731547608e-08\n"
     ]
    },
    {
     "name": "stdout",
     "output_type": "stream",
     "text": [
      "229 [1, 2, 4, 8, 16, 29, 40, 40, 40, 40, 40, 40, 40, 40, 40, 40, 40, 40, 40, 40, 40, 40, 40, 40, 40, 32, 16, 8, 4, 2, 1]\n",
      "MPS with length 30 and physical d=2\n",
      "chi [1, 6, 12, 24, 48, 87, 120, 120, 120, 120, 120, 120, 120, 120, 120, 120, 120, 120, 120, 120, 120, 120, 120, 120, 120, 96, 48, 24, 12, 6, 1]\n"
     ]
    },
    {
     "name": "stderr",
     "output_type": "stream",
     "text": [
      "WARNING:root:Truncating @ 40, latest SV = 0.0010932411522075146\n",
      "WARNING:root:Truncating @ 40, latest SV = 0.001955138640708346\n",
      "WARNING:root:Truncating @ 40, latest SV = 0.00312211061594263\n",
      "WARNING:root:Truncating @ 40, latest SV = 0.0036172653138602452\n",
      "WARNING:root:Truncating @ 40, latest SV = 0.003935880539266141\n",
      "WARNING:root:Truncating @ 40, latest SV = 0.003929853461712156\n",
      "WARNING:root:Truncating @ 40, latest SV = 0.003745060505326214\n",
      "WARNING:root:Truncating @ 40, latest SV = 0.0035762304370112502\n",
      "WARNING:root:Truncating @ 40, latest SV = 0.003164375505032439\n",
      "WARNING:root:Truncating @ 40, latest SV = 0.0027860016295424127\n",
      "WARNING:root:Truncating @ 40, latest SV = 0.002466052068523019\n",
      "WARNING:root:Truncating @ 40, latest SV = 0.002199499413392535\n",
      "WARNING:root:Truncating @ 40, latest SV = 0.0016009462595984302\n",
      "WARNING:root:Truncating @ 40, latest SV = 0.0010848620851396404\n",
      "WARNING:root:Truncating @ 40, latest SV = 0.00023894591880122153\n",
      "WARNING:root:Truncating @ 40, latest SV = 0.00012489735522661113\n",
      "WARNING:root:Truncating @ 40, latest SV = 4.440907605442052e-05\n",
      "WARNING:root:Truncating @ 40, latest SV = 1.4721803965723174e-06\n",
      "WARNING:root:Truncating @ 40, latest SV = 3.572288193427878e-08\n"
     ]
    },
    {
     "name": "stdout",
     "output_type": "stream",
     "text": [
      "230 [1, 2, 4, 8, 16, 30, 40, 40, 40, 40, 40, 40, 40, 40, 40, 40, 40, 40, 40, 40, 40, 40, 40, 40, 40, 32, 16, 8, 4, 2, 1]\n",
      "MPS with length 30 and physical d=2\n",
      "chi [1, 6, 12, 24, 48, 90, 120, 120, 120, 120, 120, 120, 120, 120, 120, 120, 120, 120, 120, 120, 120, 120, 120, 120, 120, 96, 48, 24, 12, 6, 1]\n"
     ]
    },
    {
     "name": "stderr",
     "output_type": "stream",
     "text": [
      "WARNING:root:Truncating @ 40, latest SV = 0.0007352229143003856\n",
      "WARNING:root:Truncating @ 40, latest SV = 0.00147566365585345\n",
      "WARNING:root:Truncating @ 40, latest SV = 0.0024564616102505914\n",
      "WARNING:root:Truncating @ 40, latest SV = 0.0030366363829085244\n",
      "WARNING:root:Truncating @ 40, latest SV = 0.0031309710528607594\n",
      "WARNING:root:Truncating @ 40, latest SV = 0.0031278080556523926\n",
      "WARNING:root:Truncating @ 40, latest SV = 0.0031734254851989345\n",
      "WARNING:root:Truncating @ 40, latest SV = 0.0028339354864870413\n",
      "WARNING:root:Truncating @ 40, latest SV = 0.002644927232596545\n",
      "WARNING:root:Truncating @ 40, latest SV = 0.0022177803983425303\n",
      "WARNING:root:Truncating @ 40, latest SV = 0.0017243249404174095\n",
      "WARNING:root:Truncating @ 40, latest SV = 0.001442556289752199\n",
      "WARNING:root:Truncating @ 40, latest SV = 0.0009239780009301786\n",
      "WARNING:root:Truncating @ 40, latest SV = 0.0003564785145017942\n",
      "WARNING:root:Truncating @ 40, latest SV = 0.00010662022635656083\n",
      "WARNING:root:Truncating @ 40, latest SV = 6.0775688780873205e-05\n",
      "WARNING:root:Truncating @ 40, latest SV = 1.508660795356829e-05\n",
      "WARNING:root:Truncating @ 40, latest SV = 9.531269709694085e-07\n",
      "WARNING:root:Truncating @ 40, latest SV = 1.1491143830604387e-08\n"
     ]
    },
    {
     "name": "stdout",
     "output_type": "stream",
     "text": [
      "231 [1, 2, 4, 8, 16, 29, 40, 40, 40, 40, 40, 40, 40, 40, 40, 40, 40, 40, 40, 40, 40, 40, 40, 40, 40, 32, 16, 8, 4, 2, 1]\n",
      "MPS with length 30 and physical d=2\n",
      "chi [1, 6, 12, 24, 48, 87, 120, 120, 120, 120, 120, 120, 120, 120, 120, 120, 120, 120, 120, 120, 120, 120, 120, 120, 120, 96, 48, 24, 12, 6, 1]\n"
     ]
    },
    {
     "name": "stderr",
     "output_type": "stream",
     "text": [
      "WARNING:root:Truncating @ 40, latest SV = 0.001111967364153786\n",
      "WARNING:root:Truncating @ 40, latest SV = 0.001700428218400857\n",
      "WARNING:root:Truncating @ 40, latest SV = 0.0023613818475638044\n",
      "WARNING:root:Truncating @ 40, latest SV = 0.0028903601979254965\n",
      "WARNING:root:Truncating @ 40, latest SV = 0.00325749035219793\n",
      "WARNING:root:Truncating @ 40, latest SV = 0.0034387055991773443\n",
      "WARNING:root:Truncating @ 40, latest SV = 0.0033694275486342083\n",
      "WARNING:root:Truncating @ 40, latest SV = 0.0032091436108032797\n",
      "WARNING:root:Truncating @ 40, latest SV = 0.0032305104652926736\n",
      "WARNING:root:Truncating @ 40, latest SV = 0.0027966953843800435\n",
      "WARNING:root:Truncating @ 40, latest SV = 0.002162503737333825\n",
      "WARNING:root:Truncating @ 40, latest SV = 0.0017534104134687833\n",
      "WARNING:root:Truncating @ 40, latest SV = 0.0012237303349431784\n",
      "WARNING:root:Truncating @ 40, latest SV = 0.0006104414628130557\n",
      "WARNING:root:Truncating @ 40, latest SV = 0.00014114928641618873\n",
      "WARNING:root:Truncating @ 40, latest SV = 6.255096891519791e-05\n",
      "WARNING:root:Truncating @ 40, latest SV = 3.013736128145615e-05\n",
      "WARNING:root:Truncating @ 40, latest SV = 1.2116777787692044e-06\n",
      "WARNING:root:Truncating @ 40, latest SV = 9.216134990109519e-09\n"
     ]
    },
    {
     "name": "stdout",
     "output_type": "stream",
     "text": [
      "232 [1, 2, 4, 8, 15, 27, 40, 40, 40, 40, 40, 40, 40, 40, 40, 40, 40, 40, 40, 40, 40, 40, 40, 40, 40, 32, 16, 8, 4, 2, 1]\n",
      "MPS with length 30 and physical d=2\n",
      "chi [1, 6, 12, 24, 45, 81, 120, 120, 120, 120, 120, 120, 120, 120, 120, 120, 120, 120, 120, 120, 120, 120, 120, 120, 120, 96, 48, 24, 12, 6, 1]\n"
     ]
    },
    {
     "name": "stderr",
     "output_type": "stream",
     "text": [
      "WARNING:root:Truncating @ 40, latest SV = 0.0008165160327675772\n",
      "WARNING:root:Truncating @ 40, latest SV = 0.0015855025031401035\n",
      "WARNING:root:Truncating @ 40, latest SV = 0.0024033538767941824\n",
      "WARNING:root:Truncating @ 40, latest SV = 0.002923532571749587\n",
      "WARNING:root:Truncating @ 40, latest SV = 0.002916951317793915\n",
      "WARNING:root:Truncating @ 40, latest SV = 0.003070427831724037\n",
      "WARNING:root:Truncating @ 40, latest SV = 0.0028657216829819357\n",
      "WARNING:root:Truncating @ 40, latest SV = 0.0028489480485193517\n",
      "WARNING:root:Truncating @ 40, latest SV = 0.002530955174907451\n",
      "WARNING:root:Truncating @ 40, latest SV = 0.002124901272392683\n",
      "WARNING:root:Truncating @ 40, latest SV = 0.0018507450159713258\n",
      "WARNING:root:Truncating @ 40, latest SV = 0.001383741593245193\n",
      "WARNING:root:Truncating @ 40, latest SV = 0.0008175667566969621\n",
      "WARNING:root:Truncating @ 40, latest SV = 0.00041154118841020846\n",
      "WARNING:root:Truncating @ 40, latest SV = 0.00011673201761777817\n",
      "WARNING:root:Truncating @ 40, latest SV = 4.639421593350318e-05\n",
      "WARNING:root:Truncating @ 40, latest SV = 1.8166280884323554e-05\n",
      "WARNING:root:Truncating @ 40, latest SV = 7.529023268707055e-07\n",
      "WARNING:root:Truncating @ 40, latest SV = 8.491384452673281e-09\n"
     ]
    },
    {
     "name": "stdout",
     "output_type": "stream",
     "text": [
      "233 [1, 2, 4, 8, 15, 28, 40, 40, 40, 40, 40, 40, 40, 40, 40, 40, 40, 40, 40, 40, 40, 40, 40, 40, 40, 32, 16, 8, 4, 2, 1]\n",
      "MPS with length 30 and physical d=2\n",
      "chi [1, 6, 12, 24, 45, 84, 120, 120, 120, 120, 120, 120, 120, 120, 120, 120, 120, 120, 120, 120, 120, 120, 120, 120, 120, 96, 48, 24, 12, 6, 1]\n"
     ]
    },
    {
     "name": "stderr",
     "output_type": "stream",
     "text": [
      "WARNING:root:Truncating @ 40, latest SV = 0.0009132127988280605\n",
      "WARNING:root:Truncating @ 40, latest SV = 0.0015457079093581301\n",
      "WARNING:root:Truncating @ 40, latest SV = 0.0022807965420623354\n",
      "WARNING:root:Truncating @ 40, latest SV = 0.002807375666657228\n",
      "WARNING:root:Truncating @ 40, latest SV = 0.003216092978174419\n",
      "WARNING:root:Truncating @ 40, latest SV = 0.0032944080958663604\n",
      "WARNING:root:Truncating @ 40, latest SV = 0.0031595071730415583\n",
      "WARNING:root:Truncating @ 40, latest SV = 0.002924224218780299\n",
      "WARNING:root:Truncating @ 40, latest SV = 0.0027304099109506518\n",
      "WARNING:root:Truncating @ 40, latest SV = 0.0024083197952668675\n",
      "WARNING:root:Truncating @ 40, latest SV = 0.0020644996438123793\n",
      "WARNING:root:Truncating @ 40, latest SV = 0.001680517005598515\n",
      "WARNING:root:Truncating @ 40, latest SV = 0.0013391823595717057\n",
      "WARNING:root:Truncating @ 40, latest SV = 0.0008544846502017286\n",
      "WARNING:root:Truncating @ 40, latest SV = 0.0001900024483908408\n",
      "WARNING:root:Truncating @ 40, latest SV = 6.380269153551557e-05\n",
      "WARNING:root:Truncating @ 40, latest SV = 2.2418878799317487e-05\n",
      "WARNING:root:Truncating @ 40, latest SV = 1.4716704335227106e-06\n",
      "WARNING:root:Truncating @ 40, latest SV = 6.316733630071512e-09\n"
     ]
    },
    {
     "name": "stdout",
     "output_type": "stream",
     "text": [
      "234 [1, 2, 4, 8, 15, 27, 40, 40, 40, 40, 40, 40, 40, 40, 40, 40, 40, 40, 40, 40, 40, 40, 40, 40, 40, 32, 16, 8, 4, 2, 1]\n",
      "MPS with length 30 and physical d=2\n",
      "chi [1, 6, 12, 24, 45, 81, 120, 120, 120, 120, 120, 120, 120, 120, 120, 120, 120, 120, 120, 120, 120, 120, 120, 120, 120, 96, 48, 24, 12, 6, 1]\n"
     ]
    },
    {
     "name": "stderr",
     "output_type": "stream",
     "text": [
      "WARNING:root:Truncating @ 40, latest SV = 0.00077678068439236\n",
      "WARNING:root:Truncating @ 40, latest SV = 0.001361713933912072\n",
      "WARNING:root:Truncating @ 40, latest SV = 0.0020710881666881516\n",
      "WARNING:root:Truncating @ 40, latest SV = 0.0024964998752720307\n",
      "WARNING:root:Truncating @ 40, latest SV = 0.0026259463999803298\n",
      "WARNING:root:Truncating @ 40, latest SV = 0.0027716474152948947\n",
      "WARNING:root:Truncating @ 40, latest SV = 0.002567400178100076\n",
      "WARNING:root:Truncating @ 40, latest SV = 0.002517567817317126\n",
      "WARNING:root:Truncating @ 40, latest SV = 0.00221745325129773\n",
      "WARNING:root:Truncating @ 40, latest SV = 0.001978162510688747\n",
      "WARNING:root:Truncating @ 40, latest SV = 0.0016653413929668631\n",
      "WARNING:root:Truncating @ 40, latest SV = 0.0012781709252384056\n",
      "WARNING:root:Truncating @ 40, latest SV = 0.0008837528598568577\n",
      "WARNING:root:Truncating @ 40, latest SV = 0.0004835358499013733\n",
      "WARNING:root:Truncating @ 40, latest SV = 0.00013908812000527508\n",
      "WARNING:root:Truncating @ 40, latest SV = 6.8417692721387e-05\n",
      "WARNING:root:Truncating @ 40, latest SV = 3.726802653421492e-05\n",
      "WARNING:root:Truncating @ 40, latest SV = 3.103970017540053e-07\n",
      "WARNING:root:Truncating @ 40, latest SV = 2.679633375778118e-09\n"
     ]
    },
    {
     "name": "stdout",
     "output_type": "stream",
     "text": [
      "235 [1, 2, 4, 8, 14, 27, 40, 40, 40, 40, 40, 40, 40, 40, 40, 40, 40, 40, 40, 40, 40, 40, 40, 40, 40, 32, 16, 8, 4, 2, 1]\n",
      "MPS with length 30 and physical d=2\n",
      "chi [1, 6, 12, 24, 42, 81, 120, 120, 120, 120, 120, 120, 120, 120, 120, 120, 120, 120, 120, 120, 120, 120, 120, 120, 120, 96, 48, 24, 12, 6, 1]\n"
     ]
    },
    {
     "name": "stderr",
     "output_type": "stream",
     "text": [
      "WARNING:root:Truncating @ 40, latest SV = 0.0009389514114550455\n",
      "WARNING:root:Truncating @ 40, latest SV = 0.001605421362112636\n",
      "WARNING:root:Truncating @ 40, latest SV = 0.00229904266546251\n",
      "WARNING:root:Truncating @ 40, latest SV = 0.00294454228769471\n",
      "WARNING:root:Truncating @ 40, latest SV = 0.003221465225721632\n",
      "WARNING:root:Truncating @ 40, latest SV = 0.003483548969062412\n",
      "WARNING:root:Truncating @ 40, latest SV = 0.0033345881404945833\n",
      "WARNING:root:Truncating @ 40, latest SV = 0.0031278488839560094\n",
      "WARNING:root:Truncating @ 40, latest SV = 0.002882288053042426\n",
      "WARNING:root:Truncating @ 40, latest SV = 0.002804794205889634\n",
      "WARNING:root:Truncating @ 40, latest SV = 0.0024084967606357527\n",
      "WARNING:root:Truncating @ 40, latest SV = 0.002306604328131177\n",
      "WARNING:root:Truncating @ 40, latest SV = 0.001838448498068167\n",
      "WARNING:root:Truncating @ 40, latest SV = 0.001297992784609785\n",
      "WARNING:root:Truncating @ 40, latest SV = 0.0005225066909131496\n",
      "WARNING:root:Truncating @ 40, latest SV = 0.0001251957914640698\n",
      "WARNING:root:Truncating @ 40, latest SV = 2.613846703909345e-05\n",
      "WARNING:root:Truncating @ 40, latest SV = 1.4313694242443063e-06\n",
      "WARNING:root:Truncating @ 40, latest SV = 2.5420270684224393e-09\n"
     ]
    },
    {
     "name": "stdout",
     "output_type": "stream",
     "text": [
      "236 [1, 2, 4, 8, 14, 25, 40, 40, 40, 40, 40, 40, 40, 40, 40, 40, 40, 40, 40, 40, 40, 40, 40, 40, 40, 32, 16, 8, 4, 2, 1]\n",
      "MPS with length 30 and physical d=2\n",
      "chi [1, 6, 12, 24, 42, 75, 120, 120, 120, 120, 120, 120, 120, 120, 120, 120, 120, 120, 120, 120, 120, 120, 120, 120, 120, 96, 48, 24, 12, 6, 1]\n"
     ]
    },
    {
     "name": "stderr",
     "output_type": "stream",
     "text": [
      "WARNING:root:Truncating @ 40, latest SV = 0.0008034764947948322\n",
      "WARNING:root:Truncating @ 40, latest SV = 0.0015505682343855728\n",
      "WARNING:root:Truncating @ 40, latest SV = 0.002388745307498689\n",
      "WARNING:root:Truncating @ 40, latest SV = 0.00262647785762201\n",
      "WARNING:root:Truncating @ 40, latest SV = 0.0027152054351748636\n",
      "WARNING:root:Truncating @ 40, latest SV = 0.0027048550165934895\n",
      "WARNING:root:Truncating @ 40, latest SV = 0.0025355299756740796\n",
      "WARNING:root:Truncating @ 40, latest SV = 0.0025409911380316064\n",
      "WARNING:root:Truncating @ 40, latest SV = 0.0023287042092609276\n",
      "WARNING:root:Truncating @ 40, latest SV = 0.002095163570762269\n",
      "WARNING:root:Truncating @ 40, latest SV = 0.0019362166324451806\n",
      "WARNING:root:Truncating @ 40, latest SV = 0.001515397577285999\n",
      "WARNING:root:Truncating @ 40, latest SV = 0.0011167031019702523\n",
      "WARNING:root:Truncating @ 40, latest SV = 0.0005989800503843913\n",
      "WARNING:root:Truncating @ 40, latest SV = 0.00021100574954146509\n",
      "WARNING:root:Truncating @ 40, latest SV = 5.834318589547031e-05\n",
      "WARNING:root:Truncating @ 40, latest SV = 2.199062552701773e-05\n",
      "WARNING:root:Truncating @ 40, latest SV = 1.6259379924930093e-07\n",
      "WARNING:root:Truncating @ 40, latest SV = 7.309900167598758e-10\n"
     ]
    },
    {
     "name": "stdout",
     "output_type": "stream",
     "text": [
      "237 [1, 2, 4, 8, 13, 25, 40, 40, 40, 40, 40, 40, 40, 40, 40, 40, 40, 40, 40, 40, 40, 40, 40, 40, 40, 32, 16, 8, 4, 2, 1]\n",
      "MPS with length 30 and physical d=2\n",
      "chi [1, 6, 12, 24, 39, 75, 120, 120, 120, 120, 120, 120, 120, 120, 120, 120, 120, 120, 120, 120, 120, 120, 120, 120, 120, 96, 48, 24, 12, 6, 1]\n"
     ]
    },
    {
     "name": "stderr",
     "output_type": "stream",
     "text": [
      "WARNING:root:Truncating @ 40, latest SV = 0.0008568863471130842\n",
      "WARNING:root:Truncating @ 40, latest SV = 0.0014426464150136622\n",
      "WARNING:root:Truncating @ 40, latest SV = 0.002232656902756335\n",
      "WARNING:root:Truncating @ 40, latest SV = 0.002947879796536146\n",
      "WARNING:root:Truncating @ 40, latest SV = 0.0031906684206912386\n",
      "WARNING:root:Truncating @ 40, latest SV = 0.0031825409735260924\n",
      "WARNING:root:Truncating @ 40, latest SV = 0.003111784308237914\n",
      "WARNING:root:Truncating @ 40, latest SV = 0.003393956160952748\n",
      "WARNING:root:Truncating @ 40, latest SV = 0.003166822227447004\n",
      "WARNING:root:Truncating @ 40, latest SV = 0.0025913615898441765\n",
      "WARNING:root:Truncating @ 40, latest SV = 0.0021471749765715705\n",
      "WARNING:root:Truncating @ 40, latest SV = 0.0019164175981795776\n",
      "WARNING:root:Truncating @ 40, latest SV = 0.0015949281181440505\n",
      "WARNING:root:Truncating @ 40, latest SV = 0.0009635474754864214\n",
      "WARNING:root:Truncating @ 40, latest SV = 0.0005462529643831463\n",
      "WARNING:root:Truncating @ 40, latest SV = 0.00024360483950222557\n",
      "WARNING:root:Truncating @ 40, latest SV = 5.0791398558196404e-05\n",
      "WARNING:root:Truncating @ 40, latest SV = 2.6457027736522634e-06\n",
      "WARNING:root:Truncating @ 40, latest SV = 4.6379235393098104e-10\n"
     ]
    },
    {
     "name": "stdout",
     "output_type": "stream",
     "text": [
      "238 [1, 2, 4, 8, 14, 26, 40, 40, 40, 40, 40, 40, 40, 40, 40, 40, 40, 40, 40, 40, 40, 40, 40, 40, 40, 32, 16, 8, 4, 2, 1]\n",
      "MPS with length 30 and physical d=2\n",
      "chi [1, 6, 12, 24, 42, 78, 120, 120, 120, 120, 120, 120, 120, 120, 120, 120, 120, 120, 120, 120, 120, 120, 120, 120, 120, 96, 48, 24, 12, 6, 1]\n"
     ]
    },
    {
     "name": "stderr",
     "output_type": "stream",
     "text": [
      "WARNING:root:Truncating @ 40, latest SV = 0.0007280901724359008\n",
      "WARNING:root:Truncating @ 40, latest SV = 0.0016468138127735644\n",
      "WARNING:root:Truncating @ 40, latest SV = 0.002763373522402998\n",
      "WARNING:root:Truncating @ 40, latest SV = 0.0034007541113581312\n",
      "WARNING:root:Truncating @ 40, latest SV = 0.0035669549837572\n",
      "WARNING:root:Truncating @ 40, latest SV = 0.0034489352819270114\n",
      "WARNING:root:Truncating @ 40, latest SV = 0.0034099862546523698\n",
      "WARNING:root:Truncating @ 40, latest SV = 0.003018986819301354\n",
      "WARNING:root:Truncating @ 40, latest SV = 0.0029006490840037956\n",
      "WARNING:root:Truncating @ 40, latest SV = 0.002356737837474152\n",
      "WARNING:root:Truncating @ 40, latest SV = 0.002120359348409197\n",
      "WARNING:root:Truncating @ 40, latest SV = 0.0017351085099256579\n",
      "WARNING:root:Truncating @ 40, latest SV = 0.0011014325237702588\n",
      "WARNING:root:Truncating @ 40, latest SV = 0.0007405154389316203\n",
      "WARNING:root:Truncating @ 40, latest SV = 0.00033076105627655845\n",
      "WARNING:root:Truncating @ 40, latest SV = 0.00011049034504011434\n",
      "WARNING:root:Truncating @ 40, latest SV = 1.686498752773221e-05\n",
      "WARNING:root:Truncating @ 40, latest SV = 1.2632732089066016e-07\n",
      "WARNING:root:Truncating @ 40, latest SV = 7.434130518716371e-10\n"
     ]
    },
    {
     "name": "stdout",
     "output_type": "stream",
     "text": [
      "239 [1, 2, 4, 8, 13, 24, 40, 40, 40, 40, 40, 40, 40, 40, 40, 40, 40, 40, 40, 40, 40, 40, 40, 40, 40, 32, 16, 8, 4, 2, 1]\n",
      "MPS with length 30 and physical d=2\n",
      "chi [1, 6, 12, 24, 39, 72, 120, 120, 120, 120, 120, 120, 120, 120, 120, 120, 120, 120, 120, 120, 120, 120, 120, 120, 120, 96, 48, 24, 12, 6, 1]\n"
     ]
    },
    {
     "name": "stderr",
     "output_type": "stream",
     "text": [
      "WARNING:root:Truncating @ 40, latest SV = 0.0010040269053893216\n",
      "WARNING:root:Truncating @ 40, latest SV = 0.0020521651843845284\n",
      "WARNING:root:Truncating @ 40, latest SV = 0.0034946044705659405\n",
      "WARNING:root:Truncating @ 40, latest SV = 0.004160942660538622\n",
      "WARNING:root:Truncating @ 40, latest SV = 0.004439003596441571\n",
      "WARNING:root:Truncating @ 40, latest SV = 0.0044113737186758616\n",
      "WARNING:root:Truncating @ 40, latest SV = 0.004202514303907214\n",
      "WARNING:root:Truncating @ 40, latest SV = 0.0037241148301415668\n",
      "WARNING:root:Truncating @ 40, latest SV = 0.003567980435465618\n",
      "WARNING:root:Truncating @ 40, latest SV = 0.003219092135696527\n",
      "WARNING:root:Truncating @ 40, latest SV = 0.0026984364217420465\n",
      "WARNING:root:Truncating @ 40, latest SV = 0.0022838182391199577\n",
      "WARNING:root:Truncating @ 40, latest SV = 0.001664854826925119\n",
      "WARNING:root:Truncating @ 40, latest SV = 0.0011438629096421104\n",
      "WARNING:root:Truncating @ 40, latest SV = 0.00045965078062675305\n",
      "WARNING:root:Truncating @ 40, latest SV = 0.00015514272838370043\n",
      "WARNING:root:Truncating @ 40, latest SV = 5.334011239385574e-05\n",
      "WARNING:root:Truncating @ 40, latest SV = 5.354899423528247e-06\n",
      "WARNING:root:Truncating @ 40, latest SV = 1.833357541350697e-10\n"
     ]
    },
    {
     "name": "stdout",
     "output_type": "stream",
     "text": [
      "240 [1, 2, 4, 7, 14, 24, 40, 40, 40, 40, 40, 40, 40, 40, 40, 40, 40, 40, 40, 40, 40, 40, 40, 40, 40, 32, 16, 8, 4, 2, 1]\n",
      "MPS with length 30 and physical d=2\n",
      "chi [1, 6, 12, 21, 42, 72, 120, 120, 120, 120, 120, 120, 120, 120, 120, 120, 120, 120, 120, 120, 120, 120, 120, 120, 120, 96, 48, 24, 12, 6, 1]\n"
     ]
    },
    {
     "name": "stderr",
     "output_type": "stream",
     "text": [
      "WARNING:root:Truncating @ 40, latest SV = 0.001427429555174901\n",
      "WARNING:root:Truncating @ 40, latest SV = 0.002427800191272369\n",
      "WARNING:root:Truncating @ 40, latest SV = 0.0032597025547316527\n",
      "WARNING:root:Truncating @ 40, latest SV = 0.0036317837701393516\n",
      "WARNING:root:Truncating @ 40, latest SV = 0.003852835539507715\n",
      "WARNING:root:Truncating @ 40, latest SV = 0.00388297752897056\n",
      "WARNING:root:Truncating @ 40, latest SV = 0.0036202100027979815\n",
      "WARNING:root:Truncating @ 40, latest SV = 0.003782209057526648\n",
      "WARNING:root:Truncating @ 40, latest SV = 0.003642432250892766\n",
      "WARNING:root:Truncating @ 40, latest SV = 0.003385022576054999\n",
      "WARNING:root:Truncating @ 40, latest SV = 0.0028446968651426115\n",
      "WARNING:root:Truncating @ 40, latest SV = 0.002341174900673028\n",
      "WARNING:root:Truncating @ 40, latest SV = 0.001745696821101947\n",
      "WARNING:root:Truncating @ 40, latest SV = 0.0009715969158093557\n",
      "WARNING:root:Truncating @ 40, latest SV = 0.0004780519061246732\n",
      "WARNING:root:Truncating @ 40, latest SV = 0.00015013387071448418\n",
      "WARNING:root:Truncating @ 40, latest SV = 2.796812218904646e-05\n",
      "WARNING:root:Truncating @ 40, latest SV = 2.814222227322592e-07\n",
      "WARNING:root:Truncating @ 40, latest SV = 4.3409920753392605e-10\n"
     ]
    },
    {
     "name": "stdout",
     "output_type": "stream",
     "text": [
      "241 [1, 2, 4, 8, 13, 25, 40, 40, 40, 40, 40, 40, 40, 40, 40, 40, 40, 40, 40, 40, 40, 40, 40, 40, 40, 32, 16, 8, 4, 2, 1]\n",
      "MPS with length 30 and physical d=2\n",
      "chi [1, 6, 12, 24, 39, 75, 120, 120, 120, 120, 120, 120, 120, 120, 120, 120, 120, 120, 120, 120, 120, 120, 120, 120, 120, 96, 48, 24, 12, 6, 1]\n"
     ]
    },
    {
     "name": "stderr",
     "output_type": "stream",
     "text": [
      "WARNING:root:Truncating @ 40, latest SV = 0.0010784606832927631\n",
      "WARNING:root:Truncating @ 40, latest SV = 0.0019827999375291016\n",
      "WARNING:root:Truncating @ 40, latest SV = 0.002682904962274669\n",
      "WARNING:root:Truncating @ 40, latest SV = 0.00304338849798306\n",
      "WARNING:root:Truncating @ 40, latest SV = 0.0032040976876610634\n",
      "WARNING:root:Truncating @ 40, latest SV = 0.0031790974118489\n",
      "WARNING:root:Truncating @ 40, latest SV = 0.0031354033602683015\n",
      "WARNING:root:Truncating @ 40, latest SV = 0.003082768499691987\n",
      "WARNING:root:Truncating @ 40, latest SV = 0.0028986621488370193\n",
      "WARNING:root:Truncating @ 40, latest SV = 0.0026641806587932204\n",
      "WARNING:root:Truncating @ 40, latest SV = 0.0022514887859958676\n",
      "WARNING:root:Truncating @ 40, latest SV = 0.0019617640820109\n",
      "WARNING:root:Truncating @ 40, latest SV = 0.0013387312734787949\n",
      "WARNING:root:Truncating @ 40, latest SV = 0.0009391969741762825\n",
      "WARNING:root:Truncating @ 40, latest SV = 0.00039602905657927723\n",
      "WARNING:root:Truncating @ 40, latest SV = 0.00012038354367033284\n",
      "WARNING:root:Truncating @ 40, latest SV = 4.142384659837453e-05\n",
      "WARNING:root:Truncating @ 40, latest SV = 2.4119946078994164e-06\n",
      "WARNING:root:Truncating @ 40, latest SV = 2.3366302591151926e-10\n"
     ]
    },
    {
     "name": "stdout",
     "output_type": "stream",
     "text": [
      "242 [1, 2, 4, 7, 14, 26, 40, 40, 40, 40, 40, 40, 40, 40, 40, 40, 40, 40, 40, 40, 40, 40, 40, 40, 40, 32, 16, 8, 4, 2, 1]\n",
      "MPS with length 30 and physical d=2\n",
      "chi [1, 6, 12, 21, 42, 78, 120, 120, 120, 120, 120, 120, 120, 120, 120, 120, 120, 120, 120, 120, 120, 120, 120, 120, 120, 96, 48, 24, 12, 6, 1]\n"
     ]
    },
    {
     "name": "stderr",
     "output_type": "stream",
     "text": [
      "WARNING:root:Truncating @ 40, latest SV = 0.001050711064626983\n",
      "WARNING:root:Truncating @ 40, latest SV = 0.0017966609686000444\n",
      "WARNING:root:Truncating @ 40, latest SV = 0.0024075157107019576\n",
      "WARNING:root:Truncating @ 40, latest SV = 0.0028851975720010983\n",
      "WARNING:root:Truncating @ 40, latest SV = 0.0031844734598434356\n",
      "WARNING:root:Truncating @ 40, latest SV = 0.002995037678659203\n",
      "WARNING:root:Truncating @ 40, latest SV = 0.002962475108363655\n",
      "WARNING:root:Truncating @ 40, latest SV = 0.0027231205559655153\n",
      "WARNING:root:Truncating @ 40, latest SV = 0.0025739343924373074\n",
      "WARNING:root:Truncating @ 40, latest SV = 0.0022307471928838373\n",
      "WARNING:root:Truncating @ 40, latest SV = 0.0019515060161523021\n",
      "WARNING:root:Truncating @ 40, latest SV = 0.001351698883171125\n",
      "WARNING:root:Truncating @ 40, latest SV = 0.0009264964925890752\n",
      "WARNING:root:Truncating @ 40, latest SV = 0.0005438939955888459\n",
      "WARNING:root:Truncating @ 40, latest SV = 0.00026985684871135484\n",
      "WARNING:root:Truncating @ 40, latest SV = 4.8741403329385454e-05\n",
      "WARNING:root:Truncating @ 40, latest SV = 1.0026575045441796e-05\n",
      "WARNING:root:Truncating @ 40, latest SV = 3.7639937829167794e-07\n",
      "WARNING:root:Truncating @ 40, latest SV = 1.0465524188614311e-10\n"
     ]
    },
    {
     "name": "stdout",
     "output_type": "stream",
     "text": [
      "243 [1, 2, 4, 8, 13, 24, 40, 40, 40, 40, 40, 40, 40, 40, 40, 40, 40, 40, 40, 40, 40, 40, 40, 40, 40, 32, 16, 8, 4, 2, 1]\n",
      "MPS with length 30 and physical d=2\n",
      "chi [1, 6, 12, 24, 39, 72, 120, 120, 120, 120, 120, 120, 120, 120, 120, 120, 120, 120, 120, 120, 120, 120, 120, 120, 120, 96, 48, 24, 12, 6, 1]\n"
     ]
    },
    {
     "name": "stderr",
     "output_type": "stream",
     "text": [
      "WARNING:root:Truncating @ 40, latest SV = 0.0014198531474518476\n",
      "WARNING:root:Truncating @ 40, latest SV = 0.0024561838034622067\n",
      "WARNING:root:Truncating @ 40, latest SV = 0.0035178139686307267\n",
      "WARNING:root:Truncating @ 40, latest SV = 0.004007169088821044\n",
      "WARNING:root:Truncating @ 40, latest SV = 0.00434496583325902\n",
      "WARNING:root:Truncating @ 40, latest SV = 0.004332670290281005\n",
      "WARNING:root:Truncating @ 40, latest SV = 0.004022311943134309\n",
      "WARNING:root:Truncating @ 40, latest SV = 0.0036742483731220725\n",
      "WARNING:root:Truncating @ 40, latest SV = 0.0036758622268190733\n",
      "WARNING:root:Truncating @ 40, latest SV = 0.0033403443808917017\n",
      "WARNING:root:Truncating @ 40, latest SV = 0.002976498564156665\n",
      "WARNING:root:Truncating @ 40, latest SV = 0.0025022168810741193\n",
      "WARNING:root:Truncating @ 40, latest SV = 0.0018210669178489833\n",
      "WARNING:root:Truncating @ 40, latest SV = 0.0010666353372397286\n",
      "WARNING:root:Truncating @ 40, latest SV = 0.0005900748881270121\n",
      "WARNING:root:Truncating @ 40, latest SV = 0.00026423785743822417\n",
      "WARNING:root:Truncating @ 40, latest SV = 2.9212930074980873e-05\n",
      "WARNING:root:Truncating @ 40, latest SV = 1.3159094955370312e-06\n"
     ]
    },
    {
     "name": "stdout",
     "output_type": "stream",
     "text": [
      "244 [1, 2, 4, 7, 11, 22, 38, 40, 40, 40, 40, 40, 40, 40, 40, 40, 40, 40, 40, 40, 40, 40, 40, 40, 40, 32, 16, 8, 4, 2, 1]\n",
      "MPS with length 30 and physical d=2\n",
      "chi [1, 6, 12, 21, 33, 66, 114, 120, 120, 120, 120, 120, 120, 120, 120, 120, 120, 120, 120, 120, 120, 120, 120, 120, 120, 96, 48, 24, 12, 6, 1]\n"
     ]
    },
    {
     "name": "stderr",
     "output_type": "stream",
     "text": [
      "WARNING:root:Truncating @ 40, latest SV = 0.0008614045000722423\n",
      "WARNING:root:Truncating @ 40, latest SV = 0.0014085562785239043\n",
      "WARNING:root:Truncating @ 40, latest SV = 0.0024434546623901404\n",
      "WARNING:root:Truncating @ 40, latest SV = 0.002845867405432729\n",
      "WARNING:root:Truncating @ 40, latest SV = 0.0030334486349798263\n",
      "WARNING:root:Truncating @ 40, latest SV = 0.0030947926180393717\n",
      "WARNING:root:Truncating @ 40, latest SV = 0.0029294857844912336\n",
      "WARNING:root:Truncating @ 40, latest SV = 0.0027760906703055517\n",
      "WARNING:root:Truncating @ 40, latest SV = 0.002568654163673488\n",
      "WARNING:root:Truncating @ 40, latest SV = 0.0024851747339290757\n",
      "WARNING:root:Truncating @ 40, latest SV = 0.002051921706857986\n",
      "WARNING:root:Truncating @ 40, latest SV = 0.0016802174164045709\n",
      "WARNING:root:Truncating @ 40, latest SV = 0.0014613646995564721\n",
      "WARNING:root:Truncating @ 40, latest SV = 0.0008360249776272401\n",
      "WARNING:root:Truncating @ 40, latest SV = 0.000534759338777821\n",
      "WARNING:root:Truncating @ 40, latest SV = 0.000245894399981303\n",
      "WARNING:root:Truncating @ 40, latest SV = 3.867273371657312e-05\n",
      "WARNING:root:Truncating @ 40, latest SV = 2.470586341016272e-07\n"
     ]
    },
    {
     "name": "stdout",
     "output_type": "stream",
     "text": [
      "245 [1, 2, 4, 7, 14, 24, 40, 40, 40, 40, 40, 40, 40, 40, 40, 40, 40, 40, 40, 40, 40, 40, 40, 40, 40, 32, 16, 8, 4, 2, 1]\n",
      "MPS with length 30 and physical d=2\n",
      "chi [1, 6, 12, 21, 42, 72, 120, 120, 120, 120, 120, 120, 120, 120, 120, 120, 120, 120, 120, 120, 120, 120, 120, 120, 120, 96, 48, 24, 12, 6, 1]\n"
     ]
    },
    {
     "name": "stderr",
     "output_type": "stream",
     "text": [
      "WARNING:root:Truncating @ 40, latest SV = 0.000909500962319733\n",
      "WARNING:root:Truncating @ 40, latest SV = 0.0017102694461035627\n",
      "WARNING:root:Truncating @ 40, latest SV = 0.0025935293376491892\n",
      "WARNING:root:Truncating @ 40, latest SV = 0.003272836265105684\n",
      "WARNING:root:Truncating @ 40, latest SV = 0.0035194350017389467\n",
      "WARNING:root:Truncating @ 40, latest SV = 0.0035401816321913\n",
      "WARNING:root:Truncating @ 40, latest SV = 0.003304901236886925\n",
      "WARNING:root:Truncating @ 40, latest SV = 0.0032262293242251304\n",
      "WARNING:root:Truncating @ 40, latest SV = 0.0030002083526231987\n",
      "WARNING:root:Truncating @ 40, latest SV = 0.0026700492780470718\n",
      "WARNING:root:Truncating @ 40, latest SV = 0.002356218261268309\n",
      "WARNING:root:Truncating @ 40, latest SV = 0.0018879755699453464\n",
      "WARNING:root:Truncating @ 40, latest SV = 0.0017349046596957386\n",
      "WARNING:root:Truncating @ 40, latest SV = 0.001382376421641472\n",
      "WARNING:root:Truncating @ 40, latest SV = 0.0008200912518425835\n",
      "WARNING:root:Truncating @ 40, latest SV = 0.0003624906751431134\n",
      "WARNING:root:Truncating @ 40, latest SV = 9.400290563256782e-05\n",
      "WARNING:root:Truncating @ 40, latest SV = 1.6306301160304507e-06\n"
     ]
    },
    {
     "name": "stdout",
     "output_type": "stream",
     "text": [
      "246 [1, 2, 4, 7, 12, 20, 38, 40, 40, 40, 40, 40, 40, 40, 40, 40, 40, 40, 40, 40, 40, 40, 40, 40, 40, 32, 16, 8, 4, 2, 1]\n",
      "MPS with length 30 and physical d=2\n",
      "chi [1, 6, 12, 21, 36, 60, 114, 120, 120, 120, 120, 120, 120, 120, 120, 120, 120, 120, 120, 120, 120, 120, 120, 120, 120, 96, 48, 24, 12, 6, 1]\n"
     ]
    },
    {
     "name": "stderr",
     "output_type": "stream",
     "text": [
      "WARNING:root:Truncating @ 40, latest SV = 0.00138730818437927\n",
      "WARNING:root:Truncating @ 40, latest SV = 0.002031223226128171\n",
      "WARNING:root:Truncating @ 40, latest SV = 0.002832461302045366\n",
      "WARNING:root:Truncating @ 40, latest SV = 0.0032846992697922995\n",
      "WARNING:root:Truncating @ 40, latest SV = 0.003600750769373173\n",
      "WARNING:root:Truncating @ 40, latest SV = 0.0036544960835142135\n",
      "WARNING:root:Truncating @ 40, latest SV = 0.0035302737417078067\n",
      "WARNING:root:Truncating @ 40, latest SV = 0.003346121479143076\n",
      "WARNING:root:Truncating @ 40, latest SV = 0.0030067248573922255\n",
      "WARNING:root:Truncating @ 40, latest SV = 0.002865248323302631\n",
      "WARNING:root:Truncating @ 40, latest SV = 0.0022440093175308787\n",
      "WARNING:root:Truncating @ 40, latest SV = 0.001806942710229007\n",
      "WARNING:root:Truncating @ 40, latest SV = 0.001418855147009916\n",
      "WARNING:root:Truncating @ 40, latest SV = 0.0008569573854275997\n",
      "WARNING:root:Truncating @ 40, latest SV = 0.0005517742452492512\n",
      "WARNING:root:Truncating @ 40, latest SV = 0.00022370165700345544\n",
      "WARNING:root:Truncating @ 40, latest SV = 3.118473438369456e-05\n",
      "WARNING:root:Truncating @ 40, latest SV = 7.963973668716127e-07\n"
     ]
    },
    {
     "name": "stdout",
     "output_type": "stream",
     "text": [
      "247 [1, 2, 4, 7, 12, 21, 35, 40, 40, 40, 40, 40, 40, 40, 40, 40, 40, 40, 40, 40, 40, 40, 40, 40, 40, 32, 16, 8, 4, 2, 1]\n",
      "MPS with length 30 and physical d=2\n",
      "chi [1, 6, 12, 21, 36, 63, 105, 120, 120, 120, 120, 120, 120, 120, 120, 120, 120, 120, 120, 120, 120, 120, 120, 120, 120, 96, 48, 24, 12, 6, 1]\n"
     ]
    },
    {
     "name": "stderr",
     "output_type": "stream",
     "text": [
      "WARNING:root:Truncating @ 40, latest SV = 0.0012076866113202962\n",
      "WARNING:root:Truncating @ 40, latest SV = 0.0021130135379791083\n",
      "WARNING:root:Truncating @ 40, latest SV = 0.0031653258784600613\n",
      "WARNING:root:Truncating @ 40, latest SV = 0.0036525198574005914\n",
      "WARNING:root:Truncating @ 40, latest SV = 0.004201646317705781\n",
      "WARNING:root:Truncating @ 40, latest SV = 0.003910368639075675\n",
      "WARNING:root:Truncating @ 40, latest SV = 0.0038249246412164323\n",
      "WARNING:root:Truncating @ 40, latest SV = 0.0034725723747278236\n",
      "WARNING:root:Truncating @ 40, latest SV = 0.003312382288092648\n",
      "WARNING:root:Truncating @ 40, latest SV = 0.0028613708954046808\n",
      "WARNING:root:Truncating @ 40, latest SV = 0.0027620389471716468\n",
      "WARNING:root:Truncating @ 40, latest SV = 0.002332021909679855\n",
      "WARNING:root:Truncating @ 40, latest SV = 0.0018865467983268476\n",
      "WARNING:root:Truncating @ 40, latest SV = 0.001384148119229457\n",
      "WARNING:root:Truncating @ 40, latest SV = 0.0007155509066104381\n",
      "WARNING:root:Truncating @ 40, latest SV = 0.0003235987786838659\n",
      "WARNING:root:Truncating @ 40, latest SV = 9.289083576147744e-05\n",
      "WARNING:root:Truncating @ 40, latest SV = 4.255155548354175e-06\n"
     ]
    },
    {
     "name": "stdout",
     "output_type": "stream",
     "text": [
      "248 [1, 2, 4, 7, 11, 19, 36, 40, 40, 40, 40, 40, 40, 40, 40, 40, 40, 40, 40, 40, 40, 40, 40, 40, 40, 32, 16, 8, 4, 2, 1]\n",
      "MPS with length 30 and physical d=2\n",
      "chi [1, 6, 12, 21, 33, 57, 108, 120, 120, 120, 120, 120, 120, 120, 120, 120, 120, 120, 120, 120, 120, 120, 120, 120, 120, 96, 48, 24, 12, 6, 1]\n"
     ]
    },
    {
     "name": "stderr",
     "output_type": "stream",
     "text": [
      "WARNING:root:Truncating @ 40, latest SV = 0.0008762195570253395\n",
      "WARNING:root:Truncating @ 40, latest SV = 0.0015751523069829363\n",
      "WARNING:root:Truncating @ 40, latest SV = 0.0024135106635831288\n",
      "WARNING:root:Truncating @ 40, latest SV = 0.002874616592164955\n",
      "WARNING:root:Truncating @ 40, latest SV = 0.0031679316052745923\n",
      "WARNING:root:Truncating @ 40, latest SV = 0.003498454877610137\n",
      "WARNING:root:Truncating @ 40, latest SV = 0.0030873525579883762\n",
      "WARNING:root:Truncating @ 40, latest SV = 0.0030434888149149884\n",
      "WARNING:root:Truncating @ 40, latest SV = 0.0027982824715907695\n",
      "WARNING:root:Truncating @ 40, latest SV = 0.0024561461188240684\n",
      "WARNING:root:Truncating @ 40, latest SV = 0.0022159885746075945\n",
      "WARNING:root:Truncating @ 40, latest SV = 0.0017446586103707195\n",
      "WARNING:root:Truncating @ 40, latest SV = 0.0014969982548565046\n",
      "WARNING:root:Truncating @ 40, latest SV = 0.0011343161404116125\n",
      "WARNING:root:Truncating @ 40, latest SV = 0.0007298072001289189\n",
      "WARNING:root:Truncating @ 40, latest SV = 0.00020373575340909761\n",
      "WARNING:root:Truncating @ 40, latest SV = 4.7152325045671306e-05\n",
      "WARNING:root:Truncating @ 40, latest SV = 1.7182552060590018e-06\n"
     ]
    },
    {
     "name": "stdout",
     "output_type": "stream",
     "text": [
      "249 [1, 2, 4, 6, 11, 22, 40, 40, 40, 40, 40, 40, 40, 40, 40, 40, 40, 40, 40, 40, 40, 40, 40, 40, 40, 32, 16, 8, 4, 2, 1]\n",
      "MPS with length 30 and physical d=2\n",
      "chi [1, 6, 12, 18, 33, 66, 120, 120, 120, 120, 120, 120, 120, 120, 120, 120, 120, 120, 120, 120, 120, 120, 120, 120, 120, 96, 48, 24, 12, 6, 1]\n"
     ]
    },
    {
     "name": "stderr",
     "output_type": "stream",
     "text": [
      "WARNING:root:Truncating @ 40, latest SV = 0.0007549309423389072\n",
      "WARNING:root:Truncating @ 40, latest SV = 0.0016023556789387119\n",
      "WARNING:root:Truncating @ 40, latest SV = 0.0022914780136254333\n",
      "WARNING:root:Truncating @ 40, latest SV = 0.0030193360085722406\n",
      "WARNING:root:Truncating @ 40, latest SV = 0.0034183276416075467\n",
      "WARNING:root:Truncating @ 40, latest SV = 0.003555585808371558\n",
      "WARNING:root:Truncating @ 40, latest SV = 0.0032993113228409862\n",
      "WARNING:root:Truncating @ 40, latest SV = 0.0032078402230223007\n",
      "WARNING:root:Truncating @ 40, latest SV = 0.0030134084292601083\n",
      "WARNING:root:Truncating @ 40, latest SV = 0.0028923002909103557\n",
      "WARNING:root:Truncating @ 40, latest SV = 0.002541260962683004\n",
      "WARNING:root:Truncating @ 40, latest SV = 0.0023746579152055577\n",
      "WARNING:root:Truncating @ 40, latest SV = 0.0019110461874355617\n",
      "WARNING:root:Truncating @ 40, latest SV = 0.0014288940132302392\n",
      "WARNING:root:Truncating @ 40, latest SV = 0.0007410917734477295\n",
      "WARNING:root:Truncating @ 40, latest SV = 0.0001800807206554085\n",
      "WARNING:root:Truncating @ 40, latest SV = 6.956854002990486e-05\n",
      "WARNING:root:Truncating @ 40, latest SV = 2.918319425142088e-06\n"
     ]
    },
    {
     "name": "stdout",
     "output_type": "stream",
     "text": [
      "250 [1, 2, 3, 5, 9, 18, 35, 40, 40, 40, 40, 40, 40, 40, 40, 40, 40, 40, 40, 40, 40, 40, 40, 40, 40, 32, 16, 8, 4, 2, 1]\n",
      "MPS with length 30 and physical d=2\n",
      "chi [1, 6, 9, 15, 27, 54, 105, 120, 120, 120, 120, 120, 120, 120, 120, 120, 120, 120, 120, 120, 120, 120, 120, 120, 120, 96, 48, 24, 12, 6, 1]\n"
     ]
    },
    {
     "name": "stderr",
     "output_type": "stream",
     "text": [
      "WARNING:root:Truncating @ 40, latest SV = 0.0010383548646451402\n",
      "WARNING:root:Truncating @ 40, latest SV = 0.0017635964835127141\n",
      "WARNING:root:Truncating @ 40, latest SV = 0.002551369639586962\n",
      "WARNING:root:Truncating @ 40, latest SV = 0.003144707136747127\n",
      "WARNING:root:Truncating @ 40, latest SV = 0.003574371146845013\n",
      "WARNING:root:Truncating @ 40, latest SV = 0.003785308588399581\n",
      "WARNING:root:Truncating @ 40, latest SV = 0.0034256707664880827\n",
      "WARNING:root:Truncating @ 40, latest SV = 0.0035109334627470923\n",
      "WARNING:root:Truncating @ 40, latest SV = 0.0030922530556954228\n",
      "WARNING:root:Truncating @ 40, latest SV = 0.002854822413742114\n",
      "WARNING:root:Truncating @ 40, latest SV = 0.0025800908238404327\n",
      "WARNING:root:Truncating @ 40, latest SV = 0.0023258515730470424\n",
      "WARNING:root:Truncating @ 40, latest SV = 0.001964567990816039\n",
      "WARNING:root:Truncating @ 40, latest SV = 0.0016269270199475822\n",
      "WARNING:root:Truncating @ 40, latest SV = 0.0010266125071982596\n",
      "WARNING:root:Truncating @ 40, latest SV = 0.0006402376217635432\n",
      "WARNING:root:Truncating @ 40, latest SV = 0.00016191935311676836\n",
      "WARNING:root:Truncating @ 40, latest SV = 1.4593773020642247e-05\n"
     ]
    },
    {
     "name": "stdout",
     "output_type": "stream",
     "text": [
      "251 [1, 2, 4, 8, 14, 21, 37, 40, 40, 40, 40, 40, 40, 40, 40, 40, 40, 40, 40, 40, 40, 40, 40, 40, 40, 32, 16, 8, 4, 2, 1]\n",
      "MPS with length 30 and physical d=2\n",
      "chi [1, 6, 12, 24, 42, 63, 111, 120, 120, 120, 120, 120, 120, 120, 120, 120, 120, 120, 120, 120, 120, 120, 120, 120, 120, 96, 48, 24, 12, 6, 1]\n"
     ]
    },
    {
     "name": "stderr",
     "output_type": "stream",
     "text": [
      "WARNING:root:Truncating @ 40, latest SV = 0.0009694036721824094\n",
      "WARNING:root:Truncating @ 40, latest SV = 0.0017758085607558125\n",
      "WARNING:root:Truncating @ 40, latest SV = 0.0024550624890285226\n",
      "WARNING:root:Truncating @ 40, latest SV = 0.003039029342036248\n",
      "WARNING:root:Truncating @ 40, latest SV = 0.003143539474009971\n",
      "WARNING:root:Truncating @ 40, latest SV = 0.0032373442701807333\n",
      "WARNING:root:Truncating @ 40, latest SV = 0.0031369751863557374\n",
      "WARNING:root:Truncating @ 40, latest SV = 0.00312356523619699\n",
      "WARNING:root:Truncating @ 40, latest SV = 0.0029874135319181007\n",
      "WARNING:root:Truncating @ 40, latest SV = 0.002726172599171061\n",
      "WARNING:root:Truncating @ 40, latest SV = 0.002671730331185482\n",
      "WARNING:root:Truncating @ 40, latest SV = 0.002377227411505348\n",
      "WARNING:root:Truncating @ 40, latest SV = 0.0022321072600827788\n",
      "WARNING:root:Truncating @ 40, latest SV = 0.001943288116793928\n",
      "WARNING:root:Truncating @ 40, latest SV = 0.0015389296151434183\n",
      "WARNING:root:Truncating @ 40, latest SV = 0.000999595600082196\n",
      "WARNING:root:Truncating @ 40, latest SV = 0.0005177743811373179\n",
      "WARNING:root:Truncating @ 40, latest SV = 7.447934830090028e-05\n"
     ]
    },
    {
     "name": "stdout",
     "output_type": "stream",
     "text": [
      "252 [1, 2, 4, 6, 9, 18, 35, 40, 40, 40, 40, 40, 40, 40, 40, 40, 40, 40, 40, 40, 40, 40, 40, 40, 40, 32, 16, 8, 4, 2, 1]\n",
      "MPS with length 30 and physical d=2\n",
      "chi [1, 6, 12, 18, 27, 54, 105, 120, 120, 120, 120, 120, 120, 120, 120, 120, 120, 120, 120, 120, 120, 120, 120, 120, 120, 96, 48, 24, 12, 6, 1]\n"
     ]
    },
    {
     "name": "stderr",
     "output_type": "stream",
     "text": [
      "WARNING:root:Truncating @ 40, latest SV = 0.001159088024251476\n",
      "WARNING:root:Truncating @ 40, latest SV = 0.0017652807272384575\n",
      "WARNING:root:Truncating @ 40, latest SV = 0.0025691641521549723\n",
      "WARNING:root:Truncating @ 40, latest SV = 0.003060417884116292\n",
      "WARNING:root:Truncating @ 40, latest SV = 0.003321941538958405\n",
      "WARNING:root:Truncating @ 40, latest SV = 0.0032709555124957623\n",
      "WARNING:root:Truncating @ 40, latest SV = 0.0032007619443685585\n",
      "WARNING:root:Truncating @ 40, latest SV = 0.003333113148943456\n",
      "WARNING:root:Truncating @ 40, latest SV = 0.0030336391134779092\n",
      "WARNING:root:Truncating @ 40, latest SV = 0.0031869126474667955\n",
      "WARNING:root:Truncating @ 40, latest SV = 0.0029066529782072912\n",
      "WARNING:root:Truncating @ 40, latest SV = 0.0026740855144104167\n",
      "WARNING:root:Truncating @ 40, latest SV = 0.0027230596027709776\n",
      "WARNING:root:Truncating @ 40, latest SV = 0.002336916987183505\n",
      "WARNING:root:Truncating @ 40, latest SV = 0.0018446934500769244\n",
      "WARNING:root:Truncating @ 40, latest SV = 0.0010968024474906856\n",
      "WARNING:root:Truncating @ 40, latest SV = 0.00030077185700578044\n",
      "WARNING:root:Truncating @ 40, latest SV = 4.5305509815417754e-05\n"
     ]
    },
    {
     "name": "stdout",
     "output_type": "stream",
     "text": [
      "253 [1, 2, 4, 6, 9, 17, 33, 40, 40, 40, 40, 40, 40, 40, 40, 40, 40, 40, 40, 40, 40, 40, 40, 40, 40, 32, 16, 8, 4, 2, 1]\n",
      "MPS with length 30 and physical d=2\n",
      "chi [1, 6, 12, 18, 27, 51, 99, 120, 120, 120, 120, 120, 120, 120, 120, 120, 120, 120, 120, 120, 120, 120, 120, 120, 120, 96, 48, 24, 12, 6, 1]\n"
     ]
    },
    {
     "name": "stderr",
     "output_type": "stream",
     "text": [
      "WARNING:root:Truncating @ 40, latest SV = 0.0007991824845999538\n",
      "WARNING:root:Truncating @ 40, latest SV = 0.0014659563021976222\n",
      "WARNING:root:Truncating @ 40, latest SV = 0.002455945054011261\n",
      "WARNING:root:Truncating @ 40, latest SV = 0.0027360263905818996\n",
      "WARNING:root:Truncating @ 40, latest SV = 0.0032206315456780057\n",
      "WARNING:root:Truncating @ 40, latest SV = 0.003002710071756004\n",
      "WARNING:root:Truncating @ 40, latest SV = 0.0028827433126506295\n",
      "WARNING:root:Truncating @ 40, latest SV = 0.00273361103944139\n",
      "WARNING:root:Truncating @ 40, latest SV = 0.0028467858348511714\n",
      "WARNING:root:Truncating @ 40, latest SV = 0.002731829312166423\n",
      "WARNING:root:Truncating @ 40, latest SV = 0.002529639811742895\n",
      "WARNING:root:Truncating @ 40, latest SV = 0.0022920443421877382\n",
      "WARNING:root:Truncating @ 40, latest SV = 0.0020071038857355623\n",
      "WARNING:root:Truncating @ 40, latest SV = 0.0015734546079558054\n",
      "WARNING:root:Truncating @ 40, latest SV = 0.0011843524401674683\n",
      "WARNING:root:Truncating @ 40, latest SV = 0.0007240579002881358\n",
      "WARNING:root:Truncating @ 40, latest SV = 0.0003792147740329378\n",
      "WARNING:root:Truncating @ 40, latest SV = 2.807582640427921e-05\n"
     ]
    },
    {
     "name": "stdout",
     "output_type": "stream",
     "text": [
      "254 [1, 2, 3, 5, 9, 17, 33, 40, 40, 40, 40, 40, 40, 40, 40, 40, 40, 40, 40, 40, 40, 40, 40, 40, 40, 32, 16, 8, 4, 2, 1]\n",
      "MPS with length 30 and physical d=2\n",
      "chi [1, 6, 9, 15, 27, 51, 99, 120, 120, 120, 120, 120, 120, 120, 120, 120, 120, 120, 120, 120, 120, 120, 120, 120, 120, 96, 48, 24, 12, 6, 1]\n"
     ]
    },
    {
     "name": "stderr",
     "output_type": "stream",
     "text": [
      "WARNING:root:Truncating @ 40, latest SV = 0.0009612754534878054\n",
      "WARNING:root:Truncating @ 40, latest SV = 0.001819898896268994\n",
      "WARNING:root:Truncating @ 40, latest SV = 0.0025997415055904007\n",
      "WARNING:root:Truncating @ 40, latest SV = 0.0031357751333729107\n",
      "WARNING:root:Truncating @ 40, latest SV = 0.0033683320173568216\n",
      "WARNING:root:Truncating @ 40, latest SV = 0.0033009666308287887\n",
      "WARNING:root:Truncating @ 40, latest SV = 0.003314931433171583\n",
      "WARNING:root:Truncating @ 40, latest SV = 0.0030471857606092934\n",
      "WARNING:root:Truncating @ 40, latest SV = 0.0029587618113126627\n",
      "WARNING:root:Truncating @ 40, latest SV = 0.0028700041596144616\n",
      "WARNING:root:Truncating @ 40, latest SV = 0.002690161479974025\n",
      "WARNING:root:Truncating @ 40, latest SV = 0.0022829323458683276\n",
      "WARNING:root:Truncating @ 40, latest SV = 0.0020658517043855417\n",
      "WARNING:root:Truncating @ 40, latest SV = 0.0015321480864390932\n",
      "WARNING:root:Truncating @ 40, latest SV = 0.001162638014685213\n",
      "WARNING:root:Truncating @ 40, latest SV = 0.000653070370544346\n",
      "WARNING:root:Truncating @ 40, latest SV = 0.00023273018237181036\n",
      "WARNING:root:Truncating @ 40, latest SV = 2.487432719616881e-05\n"
     ]
    },
    {
     "name": "stdout",
     "output_type": "stream",
     "text": [
      "255 [1, 2, 4, 5, 8, 16, 32, 40, 40, 40, 40, 40, 40, 40, 40, 40, 40, 40, 40, 40, 40, 40, 40, 40, 40, 32, 16, 8, 4, 2, 1]\n",
      "MPS with length 30 and physical d=2\n",
      "chi [1, 6, 12, 15, 24, 48, 96, 120, 120, 120, 120, 120, 120, 120, 120, 120, 120, 120, 120, 120, 120, 120, 120, 120, 120, 96, 48, 24, 12, 6, 1]\n"
     ]
    },
    {
     "name": "stderr",
     "output_type": "stream",
     "text": [
      "WARNING:root:Truncating @ 40, latest SV = 0.0007392504209942065\n",
      "WARNING:root:Truncating @ 40, latest SV = 0.0012443019198770746\n",
      "WARNING:root:Truncating @ 40, latest SV = 0.0018070155864182659\n",
      "WARNING:root:Truncating @ 40, latest SV = 0.0023852882232235015\n",
      "WARNING:root:Truncating @ 40, latest SV = 0.002597592367081282\n",
      "WARNING:root:Truncating @ 40, latest SV = 0.002717831841562959\n",
      "WARNING:root:Truncating @ 40, latest SV = 0.0026340288346592203\n",
      "WARNING:root:Truncating @ 40, latest SV = 0.002303496278225326\n",
      "WARNING:root:Truncating @ 40, latest SV = 0.0019253288637417325\n",
      "WARNING:root:Truncating @ 40, latest SV = 0.0018171847601786651\n",
      "WARNING:root:Truncating @ 40, latest SV = 0.0014528848263900191\n",
      "WARNING:root:Truncating @ 40, latest SV = 0.0012842279205565706\n",
      "WARNING:root:Truncating @ 40, latest SV = 0.0010660756630280503\n",
      "WARNING:root:Truncating @ 40, latest SV = 0.0009530291196829884\n",
      "WARNING:root:Truncating @ 40, latest SV = 0.0006412236273783692\n",
      "WARNING:root:Truncating @ 40, latest SV = 0.000383163455641825\n",
      "WARNING:root:Truncating @ 40, latest SV = 0.00016019242123166056\n",
      "WARNING:root:Truncating @ 40, latest SV = 1.3427175707468749e-05\n"
     ]
    },
    {
     "name": "stdout",
     "output_type": "stream",
     "text": [
      "256 [1, 2, 2, 4, 8, 16, 32, 40, 40, 40, 40, 40, 40, 40, 40, 40, 40, 40, 40, 40, 40, 40, 40, 40, 40, 32, 16, 8, 4, 2, 1]\n",
      "MPS with length 30 and physical d=2\n",
      "chi [1, 6, 6, 12, 24, 48, 96, 120, 120, 120, 120, 120, 120, 120, 120, 120, 120, 120, 120, 120, 120, 120, 120, 120, 120, 96, 48, 24, 12, 6, 1]\n"
     ]
    },
    {
     "name": "stderr",
     "output_type": "stream",
     "text": [
      "WARNING:root:Truncating @ 40, latest SV = 0.0014375833451406488\n",
      "WARNING:root:Truncating @ 40, latest SV = 0.0025405793794998667\n",
      "WARNING:root:Truncating @ 40, latest SV = 0.00365887068559603\n",
      "WARNING:root:Truncating @ 40, latest SV = 0.004169415519291977\n",
      "WARNING:root:Truncating @ 40, latest SV = 0.0046353411307476135\n",
      "WARNING:root:Truncating @ 40, latest SV = 0.00472108626031936\n",
      "WARNING:root:Truncating @ 40, latest SV = 0.00458541592319158\n",
      "WARNING:root:Truncating @ 40, latest SV = 0.004547123496641452\n",
      "WARNING:root:Truncating @ 40, latest SV = 0.0038739492120775957\n",
      "WARNING:root:Truncating @ 40, latest SV = 0.0033361176576756028\n",
      "WARNING:root:Truncating @ 40, latest SV = 0.0031551124240235466\n",
      "WARNING:root:Truncating @ 40, latest SV = 0.0027273935777770548\n",
      "WARNING:root:Truncating @ 40, latest SV = 0.0021176233376366703\n",
      "WARNING:root:Truncating @ 40, latest SV = 0.0014999844547437023\n",
      "WARNING:root:Truncating @ 40, latest SV = 0.0009259448097443475\n",
      "WARNING:root:Truncating @ 40, latest SV = 0.0005471694330813588\n",
      "WARNING:root:Truncating @ 40, latest SV = 0.00018783091932543974\n",
      "WARNING:root:Truncating @ 40, latest SV = 1.4419985350984813e-05\n"
     ]
    },
    {
     "name": "stdout",
     "output_type": "stream",
     "text": [
      "257 [1, 2, 2, 4, 8, 16, 32, 40, 40, 40, 40, 40, 40, 40, 40, 40, 40, 40, 40, 40, 40, 40, 40, 40, 40, 32, 16, 8, 4, 2, 1]\n",
      "MPS with length 30 and physical d=2\n",
      "chi [1, 6, 6, 12, 24, 48, 96, 120, 120, 120, 120, 120, 120, 120, 120, 120, 120, 120, 120, 120, 120, 120, 120, 120, 120, 96, 48, 24, 12, 6, 1]\n"
     ]
    },
    {
     "name": "stderr",
     "output_type": "stream",
     "text": [
      "WARNING:root:Truncating @ 40, latest SV = 0.0014261298088916888\n",
      "WARNING:root:Truncating @ 40, latest SV = 0.0024910792150201616\n",
      "WARNING:root:Truncating @ 40, latest SV = 0.0032946618413562958\n",
      "WARNING:root:Truncating @ 40, latest SV = 0.0039483758439804876\n",
      "WARNING:root:Truncating @ 40, latest SV = 0.00425388571384017\n",
      "WARNING:root:Truncating @ 40, latest SV = 0.004231454722563359\n",
      "WARNING:root:Truncating @ 40, latest SV = 0.004319911287347305\n",
      "WARNING:root:Truncating @ 40, latest SV = 0.003761202469094731\n",
      "WARNING:root:Truncating @ 40, latest SV = 0.0035050758243021017\n",
      "WARNING:root:Truncating @ 40, latest SV = 0.0029849292950810706\n",
      "WARNING:root:Truncating @ 40, latest SV = 0.002370374651266713\n",
      "WARNING:root:Truncating @ 40, latest SV = 0.0015904093982222576\n",
      "WARNING:root:Truncating @ 40, latest SV = 0.001093400308452993\n",
      "WARNING:root:Truncating @ 40, latest SV = 0.0006777706989942431\n",
      "WARNING:root:Truncating @ 40, latest SV = 0.0004305093591235014\n",
      "WARNING:root:Truncating @ 40, latest SV = 0.00023922416225426215\n",
      "WARNING:root:Truncating @ 40, latest SV = 5.97803119228287e-05\n",
      "WARNING:root:Truncating @ 40, latest SV = 4.8250050839960365e-06\n"
     ]
    },
    {
     "name": "stdout",
     "output_type": "stream",
     "text": [
      "258 [1, 2, 2, 4, 8, 16, 32, 40, 40, 40, 40, 40, 40, 40, 40, 40, 40, 40, 40, 40, 40, 40, 40, 40, 40, 32, 16, 8, 4, 2, 1]\n",
      "MPS with length 30 and physical d=2\n",
      "chi [1, 6, 6, 12, 24, 48, 96, 120, 120, 120, 120, 120, 120, 120, 120, 120, 120, 120, 120, 120, 120, 120, 120, 120, 120, 96, 48, 24, 12, 6, 1]\n"
     ]
    },
    {
     "name": "stderr",
     "output_type": "stream",
     "text": [
      "WARNING:root:Truncating @ 40, latest SV = 0.0007047176529443074\n",
      "WARNING:root:Truncating @ 40, latest SV = 0.0014797202432745582\n",
      "WARNING:root:Truncating @ 40, latest SV = 0.0023313767358535235\n",
      "WARNING:root:Truncating @ 40, latest SV = 0.002670952797834501\n",
      "WARNING:root:Truncating @ 40, latest SV = 0.0028648543620081734\n",
      "WARNING:root:Truncating @ 40, latest SV = 0.0030222997070569416\n",
      "WARNING:root:Truncating @ 40, latest SV = 0.002834517888725452\n",
      "WARNING:root:Truncating @ 40, latest SV = 0.0028169909225248244\n",
      "WARNING:root:Truncating @ 40, latest SV = 0.0025368563958529946\n",
      "WARNING:root:Truncating @ 40, latest SV = 0.00229290611888283\n",
      "WARNING:root:Truncating @ 40, latest SV = 0.002032477796498662\n",
      "WARNING:root:Truncating @ 40, latest SV = 0.0016449867058305587\n",
      "WARNING:root:Truncating @ 40, latest SV = 0.0011641910103443614\n",
      "WARNING:root:Truncating @ 40, latest SV = 0.000625696212842012\n",
      "WARNING:root:Truncating @ 40, latest SV = 0.0004040333871718449\n",
      "WARNING:root:Truncating @ 40, latest SV = 0.00014338190452113642\n",
      "WARNING:root:Truncating @ 40, latest SV = 2.6906331914521434e-05\n",
      "WARNING:root:Truncating @ 40, latest SV = 9.113868977490644e-07\n"
     ]
    },
    {
     "name": "stdout",
     "output_type": "stream",
     "text": [
      "259 [1, 1, 2, 4, 8, 16, 32, 40, 40, 40, 40, 40, 40, 40, 40, 40, 40, 40, 40, 40, 40, 40, 40, 40, 40, 32, 16, 8, 4, 2, 1]\n",
      "MPS with length 30 and physical d=2\n",
      "chi [1, 3, 6, 12, 24, 48, 96, 120, 120, 120, 120, 120, 120, 120, 120, 120, 120, 120, 120, 120, 120, 120, 120, 120, 120, 96, 48, 24, 12, 6, 1]\n"
     ]
    },
    {
     "name": "stderr",
     "output_type": "stream",
     "text": [
      "WARNING:root:Truncating @ 40, latest SV = 0.000488873147011436\n",
      "WARNING:root:Truncating @ 40, latest SV = 0.0010864919104034072\n",
      "WARNING:root:Truncating @ 40, latest SV = 0.0018634213782586118\n",
      "WARNING:root:Truncating @ 40, latest SV = 0.002248066508536396\n",
      "WARNING:root:Truncating @ 40, latest SV = 0.0024064755951382468\n",
      "WARNING:root:Truncating @ 40, latest SV = 0.0023573083060457046\n",
      "WARNING:root:Truncating @ 40, latest SV = 0.002376299615036417\n",
      "WARNING:root:Truncating @ 40, latest SV = 0.0021081140083911345\n",
      "WARNING:root:Truncating @ 40, latest SV = 0.0019459915503928598\n",
      "WARNING:root:Truncating @ 40, latest SV = 0.0017466230095757162\n",
      "WARNING:root:Truncating @ 40, latest SV = 0.0013242610570441814\n",
      "WARNING:root:Truncating @ 40, latest SV = 0.0009387550534394928\n",
      "WARNING:root:Truncating @ 40, latest SV = 0.0006288865466427289\n",
      "WARNING:root:Truncating @ 40, latest SV = 0.0003387101373340822\n",
      "WARNING:root:Truncating @ 40, latest SV = 0.00019069599267393868\n",
      "WARNING:root:Truncating @ 40, latest SV = 7.214528826939559e-05\n",
      "WARNING:root:Truncating @ 40, latest SV = 1.2470807557446098e-05\n",
      "WARNING:root:Truncating @ 40, latest SV = 7.656050736057749e-07\n",
      "WARNING:root:Truncating @ 40, latest SV = 2.1619562183524215e-10\n"
     ]
    },
    {
     "name": "stdout",
     "output_type": "stream",
     "text": [
      "260 [1, 2, 4, 8, 13, 23, 40, 40, 40, 40, 40, 40, 40, 40, 40, 40, 40, 40, 40, 40, 40, 40, 40, 40, 40, 32, 16, 8, 4, 2, 1]\n",
      "MPS with length 30 and physical d=2\n",
      "chi [1, 6, 12, 24, 39, 69, 120, 120, 120, 120, 120, 120, 120, 120, 120, 120, 120, 120, 120, 120, 120, 120, 120, 120, 120, 96, 48, 24, 12, 6, 1]\n"
     ]
    },
    {
     "name": "stderr",
     "output_type": "stream",
     "text": [
      "WARNING:root:Truncating @ 40, latest SV = 0.000894348309859404\n",
      "WARNING:root:Truncating @ 40, latest SV = 0.001317415478219587\n",
      "WARNING:root:Truncating @ 40, latest SV = 0.00190229027919822\n",
      "WARNING:root:Truncating @ 40, latest SV = 0.002452540098263221\n",
      "WARNING:root:Truncating @ 40, latest SV = 0.002560765557010221\n",
      "WARNING:root:Truncating @ 40, latest SV = 0.0026200317238963384\n",
      "WARNING:root:Truncating @ 40, latest SV = 0.0027333949820925077\n",
      "WARNING:root:Truncating @ 40, latest SV = 0.002575094739171214\n",
      "WARNING:root:Truncating @ 40, latest SV = 0.0026574936138350404\n",
      "WARNING:root:Truncating @ 40, latest SV = 0.0026050684854657057\n",
      "WARNING:root:Truncating @ 40, latest SV = 0.002247852947880176\n",
      "WARNING:root:Truncating @ 40, latest SV = 0.002122973470413941\n",
      "WARNING:root:Truncating @ 40, latest SV = 0.0015556997486979563\n",
      "WARNING:root:Truncating @ 40, latest SV = 0.0007818026795599013\n",
      "WARNING:root:Truncating @ 40, latest SV = 0.0004896673269477829\n",
      "WARNING:root:Truncating @ 40, latest SV = 0.0002695249186221064\n",
      "WARNING:root:Truncating @ 40, latest SV = 6.416655265207495e-05\n",
      "WARNING:root:Truncating @ 40, latest SV = 3.5351305102699636e-06\n",
      "WARNING:root:Truncating @ 40, latest SV = 3.3550694673601395e-09\n"
     ]
    },
    {
     "name": "stdout",
     "output_type": "stream",
     "text": [
      "261 [1, 2, 4, 8, 15, 28, 40, 40, 40, 40, 40, 40, 40, 40, 40, 40, 40, 40, 40, 40, 40, 40, 40, 40, 40, 32, 16, 8, 4, 2, 1]\n",
      "MPS with length 30 and physical d=2\n",
      "chi [1, 6, 12, 24, 45, 84, 120, 120, 120, 120, 120, 120, 120, 120, 120, 120, 120, 120, 120, 120, 120, 120, 120, 120, 120, 96, 48, 24, 12, 6, 1]\n"
     ]
    },
    {
     "name": "stderr",
     "output_type": "stream",
     "text": [
      "WARNING:root:Truncating @ 40, latest SV = 0.000735150811046438\n",
      "WARNING:root:Truncating @ 40, latest SV = 0.0013542611958492438\n",
      "WARNING:root:Truncating @ 40, latest SV = 0.0017234088361229632\n",
      "WARNING:root:Truncating @ 40, latest SV = 0.0019785512234240746\n",
      "WARNING:root:Truncating @ 40, latest SV = 0.0022634423277794915\n",
      "WARNING:root:Truncating @ 40, latest SV = 0.0022516987757995994\n",
      "WARNING:root:Truncating @ 40, latest SV = 0.0023134727343506437\n",
      "WARNING:root:Truncating @ 40, latest SV = 0.0022053397194580753\n",
      "WARNING:root:Truncating @ 40, latest SV = 0.002183227492470972\n",
      "WARNING:root:Truncating @ 40, latest SV = 0.0018649386743555825\n",
      "WARNING:root:Truncating @ 40, latest SV = 0.0016541963240049242\n",
      "WARNING:root:Truncating @ 40, latest SV = 0.0012553838545908897\n",
      "WARNING:root:Truncating @ 40, latest SV = 0.0009734504536597627\n",
      "WARNING:root:Truncating @ 40, latest SV = 0.0006608906042884975\n",
      "WARNING:root:Truncating @ 40, latest SV = 0.00037130983556659156\n",
      "WARNING:root:Truncating @ 40, latest SV = 0.0001539356561128432\n",
      "WARNING:root:Truncating @ 40, latest SV = 3.956897025546988e-05\n",
      "WARNING:root:Truncating @ 40, latest SV = 1.956818706476493e-06\n",
      "WARNING:root:Truncating @ 40, latest SV = 1.5615946740580015e-08\n"
     ]
    },
    {
     "name": "stdout",
     "output_type": "stream",
     "text": [
      "262 [1, 2, 4, 8, 16, 29, 40, 40, 40, 40, 40, 40, 40, 40, 40, 40, 40, 40, 40, 40, 40, 40, 40, 40, 40, 32, 16, 8, 4, 2, 1]\n",
      "MPS with length 30 and physical d=2\n",
      "chi [1, 6, 12, 24, 48, 87, 120, 120, 120, 120, 120, 120, 120, 120, 120, 120, 120, 120, 120, 120, 120, 120, 120, 120, 120, 96, 48, 24, 12, 6, 1]\n"
     ]
    },
    {
     "name": "stderr",
     "output_type": "stream",
     "text": [
      "WARNING:root:Truncating @ 40, latest SV = 0.0011586805607476055\n",
      "WARNING:root:Truncating @ 40, latest SV = 0.0022924552818331984\n",
      "WARNING:root:Truncating @ 40, latest SV = 0.0027370819016100147\n",
      "WARNING:root:Truncating @ 40, latest SV = 0.0034091661352858324\n",
      "WARNING:root:Truncating @ 40, latest SV = 0.00369819374042901\n",
      "WARNING:root:Truncating @ 40, latest SV = 0.003497029159203984\n",
      "WARNING:root:Truncating @ 40, latest SV = 0.003503582184392768\n",
      "WARNING:root:Truncating @ 40, latest SV = 0.00328645729626975\n",
      "WARNING:root:Truncating @ 40, latest SV = 0.0028936001154635086\n",
      "WARNING:root:Truncating @ 40, latest SV = 0.002543303391098082\n",
      "WARNING:root:Truncating @ 40, latest SV = 0.002389665801569377\n",
      "WARNING:root:Truncating @ 40, latest SV = 0.001910453428840209\n",
      "WARNING:root:Truncating @ 40, latest SV = 0.0015927477912903005\n",
      "WARNING:root:Truncating @ 40, latest SV = 0.0010663541222816783\n",
      "WARNING:root:Truncating @ 40, latest SV = 0.0005214849803165739\n",
      "WARNING:root:Truncating @ 40, latest SV = 6.31289812425623e-05\n",
      "WARNING:root:Truncating @ 40, latest SV = 2.5436463487882055e-05\n",
      "WARNING:root:Truncating @ 40, latest SV = 1.7325840902316576e-06\n",
      "WARNING:root:Truncating @ 40, latest SV = 4.610443777300456e-08\n"
     ]
    },
    {
     "name": "stdout",
     "output_type": "stream",
     "text": [
      "263 [1, 2, 4, 8, 16, 30, 40, 40, 40, 40, 40, 40, 40, 40, 40, 40, 40, 40, 40, 40, 40, 40, 40, 40, 40, 32, 16, 8, 4, 2, 1]\n",
      "MPS with length 30 and physical d=2\n",
      "chi [1, 6, 12, 24, 48, 90, 120, 120, 120, 120, 120, 120, 120, 120, 120, 120, 120, 120, 120, 120, 120, 120, 120, 120, 120, 96, 48, 24, 12, 6, 1]\n"
     ]
    },
    {
     "name": "stderr",
     "output_type": "stream",
     "text": [
      "WARNING:root:Truncating @ 40, latest SV = 0.0017535133680675007\n",
      "WARNING:root:Truncating @ 40, latest SV = 0.0028963399299911327\n",
      "WARNING:root:Truncating @ 40, latest SV = 0.004510389905960241\n",
      "WARNING:root:Truncating @ 40, latest SV = 0.005189649989390497\n",
      "WARNING:root:Truncating @ 40, latest SV = 0.005381757249310539\n",
      "WARNING:root:Truncating @ 40, latest SV = 0.005099763508792145\n",
      "WARNING:root:Truncating @ 40, latest SV = 0.0051124617179635675\n",
      "WARNING:root:Truncating @ 40, latest SV = 0.004777585158150814\n",
      "WARNING:root:Truncating @ 40, latest SV = 0.0042936061881587335\n",
      "WARNING:root:Truncating @ 40, latest SV = 0.003954373513488075\n",
      "WARNING:root:Truncating @ 40, latest SV = 0.003331596760841304\n",
      "WARNING:root:Truncating @ 40, latest SV = 0.0024510316900517313\n",
      "WARNING:root:Truncating @ 40, latest SV = 0.001624331306682309\n",
      "WARNING:root:Truncating @ 40, latest SV = 0.0010004704112588766\n",
      "WARNING:root:Truncating @ 40, latest SV = 0.0002618349129936944\n",
      "WARNING:root:Truncating @ 40, latest SV = 7.580301273552629e-05\n",
      "WARNING:root:Truncating @ 40, latest SV = 1.906081143658413e-05\n",
      "WARNING:root:Truncating @ 40, latest SV = 2.3149240403204457e-06\n",
      "WARNING:root:Truncating @ 40, latest SV = 1.4167648748837468e-08\n"
     ]
    },
    {
     "name": "stdout",
     "output_type": "stream",
     "text": [
      "264 [1, 2, 4, 8, 16, 30, 40, 40, 40, 40, 40, 40, 40, 40, 40, 40, 40, 40, 40, 40, 40, 40, 40, 40, 40, 32, 16, 8, 4, 2, 1]\n",
      "MPS with length 30 and physical d=2\n",
      "chi [1, 6, 12, 24, 48, 90, 120, 120, 120, 120, 120, 120, 120, 120, 120, 120, 120, 120, 120, 120, 120, 120, 120, 120, 120, 96, 48, 24, 12, 6, 1]\n"
     ]
    },
    {
     "name": "stderr",
     "output_type": "stream",
     "text": [
      "WARNING:root:Truncating @ 40, latest SV = 0.0013889165156765275\n",
      "WARNING:root:Truncating @ 40, latest SV = 0.0025225591368184283\n",
      "WARNING:root:Truncating @ 40, latest SV = 0.00352369702719714\n",
      "WARNING:root:Truncating @ 40, latest SV = 0.0043190576860465514\n",
      "WARNING:root:Truncating @ 40, latest SV = 0.004438868309075545\n",
      "WARNING:root:Truncating @ 40, latest SV = 0.0044638190935087215\n",
      "WARNING:root:Truncating @ 40, latest SV = 0.004534902081360339\n",
      "WARNING:root:Truncating @ 40, latest SV = 0.004142268086460246\n",
      "WARNING:root:Truncating @ 40, latest SV = 0.003778645536917736\n",
      "WARNING:root:Truncating @ 40, latest SV = 0.003219493039140389\n",
      "WARNING:root:Truncating @ 40, latest SV = 0.0026318113277313438\n",
      "WARNING:root:Truncating @ 40, latest SV = 0.0020053419763915495\n",
      "WARNING:root:Truncating @ 40, latest SV = 0.001537551133612703\n",
      "WARNING:root:Truncating @ 40, latest SV = 0.001084152833244899\n",
      "WARNING:root:Truncating @ 40, latest SV = 0.0005729280961315166\n",
      "WARNING:root:Truncating @ 40, latest SV = 0.0002238843412829661\n",
      "WARNING:root:Truncating @ 40, latest SV = 5.607730804192872e-05\n",
      "WARNING:root:Truncating @ 40, latest SV = 3.2802444207412395e-06\n",
      "WARNING:root:Truncating @ 40, latest SV = 1.4709464490105876e-08\n"
     ]
    },
    {
     "name": "stdout",
     "output_type": "stream",
     "text": [
      "265 [1, 2, 4, 8, 15, 27, 40, 40, 40, 40, 40, 40, 40, 40, 40, 40, 40, 40, 40, 40, 40, 40, 40, 40, 40, 32, 16, 8, 4, 2, 1]\n",
      "MPS with length 30 and physical d=2\n",
      "chi [1, 6, 12, 24, 45, 81, 120, 120, 120, 120, 120, 120, 120, 120, 120, 120, 120, 120, 120, 120, 120, 120, 120, 120, 120, 96, 48, 24, 12, 6, 1]\n"
     ]
    },
    {
     "name": "stderr",
     "output_type": "stream",
     "text": [
      "WARNING:root:Truncating @ 40, latest SV = 0.0013354833906554543\n",
      "WARNING:root:Truncating @ 40, latest SV = 0.002135947756562036\n",
      "WARNING:root:Truncating @ 40, latest SV = 0.0029873550214326097\n",
      "WARNING:root:Truncating @ 40, latest SV = 0.0034964404094411567\n",
      "WARNING:root:Truncating @ 40, latest SV = 0.003758940903612883\n",
      "WARNING:root:Truncating @ 40, latest SV = 0.003637835917027068\n",
      "WARNING:root:Truncating @ 40, latest SV = 0.0034857827788618762\n",
      "WARNING:root:Truncating @ 40, latest SV = 0.003409804470725379\n",
      "WARNING:root:Truncating @ 40, latest SV = 0.0031202822341762806\n",
      "WARNING:root:Truncating @ 40, latest SV = 0.002742409917841419\n",
      "WARNING:root:Truncating @ 40, latest SV = 0.002191296151990725\n",
      "WARNING:root:Truncating @ 40, latest SV = 0.0015870780253254746\n",
      "WARNING:root:Truncating @ 40, latest SV = 0.0010645094798401216\n",
      "WARNING:root:Truncating @ 40, latest SV = 0.0007098964702168569\n",
      "WARNING:root:Truncating @ 40, latest SV = 0.0004210724001855887\n",
      "WARNING:root:Truncating @ 40, latest SV = 8.009980607740809e-05\n",
      "WARNING:root:Truncating @ 40, latest SV = 2.713087383229556e-05\n",
      "WARNING:root:Truncating @ 40, latest SV = 1.304213682961144e-06\n",
      "WARNING:root:Truncating @ 40, latest SV = 1.1581737494675526e-08\n"
     ]
    },
    {
     "name": "stdout",
     "output_type": "stream",
     "text": [
      "266 [1, 2, 4, 8, 15, 28, 40, 40, 40, 40, 40, 40, 40, 40, 40, 40, 40, 40, 40, 40, 40, 40, 40, 40, 40, 32, 16, 8, 4, 2, 1]\n",
      "MPS with length 30 and physical d=2\n",
      "chi [1, 6, 12, 24, 45, 84, 120, 120, 120, 120, 120, 120, 120, 120, 120, 120, 120, 120, 120, 120, 120, 120, 120, 120, 120, 96, 48, 24, 12, 6, 1]\n"
     ]
    },
    {
     "name": "stderr",
     "output_type": "stream",
     "text": [
      "WARNING:root:Truncating @ 40, latest SV = 0.0009702443118846877\n",
      "WARNING:root:Truncating @ 40, latest SV = 0.0018035049935004952\n",
      "WARNING:root:Truncating @ 40, latest SV = 0.002832928951148924\n",
      "WARNING:root:Truncating @ 40, latest SV = 0.0032955414023743113\n",
      "WARNING:root:Truncating @ 40, latest SV = 0.0036575368134734885\n",
      "WARNING:root:Truncating @ 40, latest SV = 0.003506431356227806\n",
      "WARNING:root:Truncating @ 40, latest SV = 0.003663856260002302\n",
      "WARNING:root:Truncating @ 40, latest SV = 0.0033431992920420765\n",
      "WARNING:root:Truncating @ 40, latest SV = 0.003030609594878674\n",
      "WARNING:root:Truncating @ 40, latest SV = 0.002809014243517349\n",
      "WARNING:root:Truncating @ 40, latest SV = 0.0024624421102608326\n",
      "WARNING:root:Truncating @ 40, latest SV = 0.002123137620147065\n",
      "WARNING:root:Truncating @ 40, latest SV = 0.0016973544437771115\n",
      "WARNING:root:Truncating @ 40, latest SV = 0.001097993204594637\n",
      "WARNING:root:Truncating @ 40, latest SV = 0.0005103079545617789\n",
      "WARNING:root:Truncating @ 40, latest SV = 0.00023265432775286456\n",
      "WARNING:root:Truncating @ 40, latest SV = 3.077091440854888e-05\n",
      "WARNING:root:Truncating @ 40, latest SV = 2.148336131690437e-06\n",
      "WARNING:root:Truncating @ 40, latest SV = 2.497668201416282e-09\n"
     ]
    },
    {
     "name": "stdout",
     "output_type": "stream",
     "text": [
      "267 [1, 2, 4, 8, 15, 27, 40, 40, 40, 40, 40, 40, 40, 40, 40, 40, 40, 40, 40, 40, 40, 40, 40, 40, 40, 32, 16, 8, 4, 2, 1]\n",
      "MPS with length 30 and physical d=2\n",
      "chi [1, 6, 12, 24, 45, 81, 120, 120, 120, 120, 120, 120, 120, 120, 120, 120, 120, 120, 120, 120, 120, 120, 120, 120, 120, 96, 48, 24, 12, 6, 1]\n"
     ]
    },
    {
     "name": "stderr",
     "output_type": "stream",
     "text": [
      "WARNING:root:Truncating @ 40, latest SV = 0.0010381163273641043\n",
      "WARNING:root:Truncating @ 40, latest SV = 0.0018934631037063447\n",
      "WARNING:root:Truncating @ 40, latest SV = 0.0027278451639614677\n",
      "WARNING:root:Truncating @ 40, latest SV = 0.003235856513108091\n",
      "WARNING:root:Truncating @ 40, latest SV = 0.0038002161018660316\n",
      "WARNING:root:Truncating @ 40, latest SV = 0.0040701196037564785\n",
      "WARNING:root:Truncating @ 40, latest SV = 0.0038216457275314303\n",
      "WARNING:root:Truncating @ 40, latest SV = 0.0035037608261511673\n",
      "WARNING:root:Truncating @ 40, latest SV = 0.0035461976309894418\n",
      "WARNING:root:Truncating @ 40, latest SV = 0.0031216812732562764\n",
      "WARNING:root:Truncating @ 40, latest SV = 0.002741639100936577\n",
      "WARNING:root:Truncating @ 40, latest SV = 0.0021938129867814615\n",
      "WARNING:root:Truncating @ 40, latest SV = 0.0016373531858513912\n",
      "WARNING:root:Truncating @ 40, latest SV = 0.0012149691942233579\n",
      "WARNING:root:Truncating @ 40, latest SV = 0.000611898094892028\n",
      "WARNING:root:Truncating @ 40, latest SV = 0.00010270205942026643\n",
      "WARNING:root:Truncating @ 40, latest SV = 1.1121085504478102e-05\n",
      "WARNING:root:Truncating @ 40, latest SV = 5.225296766344408e-07\n",
      "WARNING:root:Truncating @ 40, latest SV = 2.7508597033150335e-09\n"
     ]
    },
    {
     "name": "stdout",
     "output_type": "stream",
     "text": [
      "268 [1, 2, 4, 8, 15, 27, 40, 40, 40, 40, 40, 40, 40, 40, 40, 40, 40, 40, 40, 40, 40, 40, 40, 40, 40, 32, 16, 8, 4, 2, 1]\n",
      "MPS with length 30 and physical d=2\n",
      "chi [1, 6, 12, 24, 45, 81, 120, 120, 120, 120, 120, 120, 120, 120, 120, 120, 120, 120, 120, 120, 120, 120, 120, 120, 120, 96, 48, 24, 12, 6, 1]\n"
     ]
    },
    {
     "name": "stderr",
     "output_type": "stream",
     "text": [
      "WARNING:root:Truncating @ 40, latest SV = 0.001351957643522314\n",
      "WARNING:root:Truncating @ 40, latest SV = 0.0023179394836917557\n",
      "WARNING:root:Truncating @ 40, latest SV = 0.0029783463246380202\n",
      "WARNING:root:Truncating @ 40, latest SV = 0.0037069435902955476\n",
      "WARNING:root:Truncating @ 40, latest SV = 0.0036988151137998136\n",
      "WARNING:root:Truncating @ 40, latest SV = 0.0038875012487664166\n",
      "WARNING:root:Truncating @ 40, latest SV = 0.003718748135164408\n",
      "WARNING:root:Truncating @ 40, latest SV = 0.0037483075460062716\n",
      "WARNING:root:Truncating @ 40, latest SV = 0.0033907144282020836\n",
      "WARNING:root:Truncating @ 40, latest SV = 0.002891612179297272\n",
      "WARNING:root:Truncating @ 40, latest SV = 0.002646797131356871\n",
      "WARNING:root:Truncating @ 40, latest SV = 0.0022227573823170176\n",
      "WARNING:root:Truncating @ 40, latest SV = 0.0017408545868442186\n",
      "WARNING:root:Truncating @ 40, latest SV = 0.0009940296653328825\n",
      "WARNING:root:Truncating @ 40, latest SV = 0.000398547409715058\n",
      "WARNING:root:Truncating @ 40, latest SV = 0.00020302598811438119\n",
      "WARNING:root:Truncating @ 40, latest SV = 3.496083143363373e-05\n",
      "WARNING:root:Truncating @ 40, latest SV = 1.780267680108764e-06\n",
      "WARNING:root:Truncating @ 40, latest SV = 1.6016574907901399e-09\n"
     ]
    },
    {
     "name": "stdout",
     "output_type": "stream",
     "text": [
      "269 [1, 2, 4, 7, 14, 26, 40, 40, 40, 40, 40, 40, 40, 40, 40, 40, 40, 40, 40, 40, 40, 40, 40, 40, 40, 32, 16, 8, 4, 2, 1]\n",
      "MPS with length 30 and physical d=2\n",
      "chi [1, 6, 12, 21, 42, 78, 120, 120, 120, 120, 120, 120, 120, 120, 120, 120, 120, 120, 120, 120, 120, 120, 120, 120, 120, 96, 48, 24, 12, 6, 1]\n"
     ]
    },
    {
     "name": "stderr",
     "output_type": "stream",
     "text": [
      "WARNING:root:Truncating @ 40, latest SV = 0.0010212066543700128\n",
      "WARNING:root:Truncating @ 40, latest SV = 0.0021298341813010438\n",
      "WARNING:root:Truncating @ 40, latest SV = 0.0029052196246623137\n",
      "WARNING:root:Truncating @ 40, latest SV = 0.0033869746871162333\n",
      "WARNING:root:Truncating @ 40, latest SV = 0.0036263362096874965\n",
      "WARNING:root:Truncating @ 40, latest SV = 0.003807514623673442\n",
      "WARNING:root:Truncating @ 40, latest SV = 0.0033171938684733024\n",
      "WARNING:root:Truncating @ 40, latest SV = 0.0033390510437760423\n",
      "WARNING:root:Truncating @ 40, latest SV = 0.0027527551235412987\n",
      "WARNING:root:Truncating @ 40, latest SV = 0.0025941605392392347\n",
      "WARNING:root:Truncating @ 40, latest SV = 0.0020593952762760184\n",
      "WARNING:root:Truncating @ 40, latest SV = 0.0015918945052225148\n",
      "WARNING:root:Truncating @ 40, latest SV = 0.0010004666375648527\n",
      "WARNING:root:Truncating @ 40, latest SV = 0.00040719720337613975\n",
      "WARNING:root:Truncating @ 40, latest SV = 0.0001758604399970838\n",
      "WARNING:root:Truncating @ 40, latest SV = 6.69829567117573e-05\n",
      "WARNING:root:Truncating @ 40, latest SV = 2.013381415554424e-05\n",
      "WARNING:root:Truncating @ 40, latest SV = 7.056579193686315e-07\n",
      "WARNING:root:Truncating @ 40, latest SV = 1.2092353463038936e-09\n"
     ]
    },
    {
     "name": "stdout",
     "output_type": "stream",
     "text": [
      "270 [1, 2, 4, 8, 15, 25, 40, 40, 40, 40, 40, 40, 40, 40, 40, 40, 40, 40, 40, 40, 40, 40, 40, 40, 40, 32, 16, 8, 4, 2, 1]\n",
      "MPS with length 30 and physical d=2\n",
      "chi [1, 6, 12, 24, 45, 75, 120, 120, 120, 120, 120, 120, 120, 120, 120, 120, 120, 120, 120, 120, 120, 120, 120, 120, 120, 96, 48, 24, 12, 6, 1]\n"
     ]
    },
    {
     "name": "stderr",
     "output_type": "stream",
     "text": [
      "WARNING:root:Truncating @ 40, latest SV = 0.0014626397703700292\n",
      "WARNING:root:Truncating @ 40, latest SV = 0.0022670757486361547\n",
      "WARNING:root:Truncating @ 40, latest SV = 0.0029961170598689006\n",
      "WARNING:root:Truncating @ 40, latest SV = 0.0033940655460290474\n",
      "WARNING:root:Truncating @ 40, latest SV = 0.0035878094540862985\n",
      "WARNING:root:Truncating @ 40, latest SV = 0.0036685177678421883\n",
      "WARNING:root:Truncating @ 40, latest SV = 0.0034322826254947784\n",
      "WARNING:root:Truncating @ 40, latest SV = 0.0031661292813072025\n",
      "WARNING:root:Truncating @ 40, latest SV = 0.0029868601878292847\n",
      "WARNING:root:Truncating @ 40, latest SV = 0.002673595729014978\n",
      "WARNING:root:Truncating @ 40, latest SV = 0.002267669161268277\n",
      "WARNING:root:Truncating @ 40, latest SV = 0.0019290255612573561\n",
      "WARNING:root:Truncating @ 40, latest SV = 0.0016196000662017872\n",
      "WARNING:root:Truncating @ 40, latest SV = 0.0011749355631401296\n",
      "WARNING:root:Truncating @ 40, latest SV = 0.0005552385516897165\n",
      "WARNING:root:Truncating @ 40, latest SV = 0.00019165554339573953\n",
      "WARNING:root:Truncating @ 40, latest SV = 3.594427832095199e-05\n",
      "WARNING:root:Truncating @ 40, latest SV = 8.415844419031848e-07\n",
      "WARNING:root:Truncating @ 40, latest SV = 2.444905294199365e-10\n"
     ]
    },
    {
     "name": "stdout",
     "output_type": "stream",
     "text": [
      "271 [1, 2, 4, 8, 13, 24, 40, 40, 40, 40, 40, 40, 40, 40, 40, 40, 40, 40, 40, 40, 40, 40, 40, 40, 40, 32, 16, 8, 4, 2, 1]\n",
      "MPS with length 30 and physical d=2\n",
      "chi [1, 6, 12, 24, 39, 72, 120, 120, 120, 120, 120, 120, 120, 120, 120, 120, 120, 120, 120, 120, 120, 120, 120, 120, 120, 96, 48, 24, 12, 6, 1]\n"
     ]
    },
    {
     "name": "stderr",
     "output_type": "stream",
     "text": [
      "WARNING:root:Truncating @ 40, latest SV = 0.0010247777890249237\n",
      "WARNING:root:Truncating @ 40, latest SV = 0.0018039011937813333\n",
      "WARNING:root:Truncating @ 40, latest SV = 0.002607365622664833\n",
      "WARNING:root:Truncating @ 40, latest SV = 0.003058638311176405\n",
      "WARNING:root:Truncating @ 40, latest SV = 0.0032854604038074255\n",
      "WARNING:root:Truncating @ 40, latest SV = 0.0032997504476058996\n",
      "WARNING:root:Truncating @ 40, latest SV = 0.0031212223047523387\n",
      "WARNING:root:Truncating @ 40, latest SV = 0.003026055603180732\n",
      "WARNING:root:Truncating @ 40, latest SV = 0.002628376760319156\n",
      "WARNING:root:Truncating @ 40, latest SV = 0.0022615955807269304\n",
      "WARNING:root:Truncating @ 40, latest SV = 0.001902269729218096\n",
      "WARNING:root:Truncating @ 40, latest SV = 0.0016156259783269324\n",
      "WARNING:root:Truncating @ 40, latest SV = 0.0012598404299735758\n",
      "WARNING:root:Truncating @ 40, latest SV = 0.0007813887624086551\n",
      "WARNING:root:Truncating @ 40, latest SV = 0.0005306215031775119\n",
      "WARNING:root:Truncating @ 40, latest SV = 0.00015721378013423015\n",
      "WARNING:root:Truncating @ 40, latest SV = 2.658381407493968e-05\n",
      "WARNING:root:Truncating @ 40, latest SV = 2.757744046751597e-07\n"
     ]
    },
    {
     "name": "stdout",
     "output_type": "stream",
     "text": [
      "272 [1, 2, 4, 7, 13, 23, 40, 40, 40, 40, 40, 40, 40, 40, 40, 40, 40, 40, 40, 40, 40, 40, 40, 40, 40, 32, 16, 8, 4, 2, 1]\n",
      "MPS with length 30 and physical d=2\n",
      "chi [1, 6, 12, 21, 39, 69, 120, 120, 120, 120, 120, 120, 120, 120, 120, 120, 120, 120, 120, 120, 120, 120, 120, 120, 120, 96, 48, 24, 12, 6, 1]\n"
     ]
    },
    {
     "name": "stderr",
     "output_type": "stream",
     "text": [
      "WARNING:root:Truncating @ 40, latest SV = 0.0012498800859129615\n",
      "WARNING:root:Truncating @ 40, latest SV = 0.0025360535318954217\n",
      "WARNING:root:Truncating @ 40, latest SV = 0.003558289664924782\n",
      "WARNING:root:Truncating @ 40, latest SV = 0.004176538386483581\n",
      "WARNING:root:Truncating @ 40, latest SV = 0.0043405937289146684\n",
      "WARNING:root:Truncating @ 40, latest SV = 0.004278517394648621\n",
      "WARNING:root:Truncating @ 40, latest SV = 0.004032539005420135\n",
      "WARNING:root:Truncating @ 40, latest SV = 0.004041621444127857\n",
      "WARNING:root:Truncating @ 40, latest SV = 0.003501907242447718\n",
      "WARNING:root:Truncating @ 40, latest SV = 0.003163007691090321\n",
      "WARNING:root:Truncating @ 40, latest SV = 0.0027461887770151936\n",
      "WARNING:root:Truncating @ 40, latest SV = 0.002511047485515255\n",
      "WARNING:root:Truncating @ 40, latest SV = 0.002058233705664602\n",
      "WARNING:root:Truncating @ 40, latest SV = 0.0014607738614547988\n",
      "WARNING:root:Truncating @ 40, latest SV = 0.0009274291820150242\n",
      "WARNING:root:Truncating @ 40, latest SV = 0.0003172229960452072\n",
      "WARNING:root:Truncating @ 40, latest SV = 8.575961901182535e-05\n",
      "WARNING:root:Truncating @ 40, latest SV = 2.920362994256187e-06\n",
      "WARNING:root:Truncating @ 40, latest SV = 2.828776611308089e-10\n"
     ]
    },
    {
     "name": "stdout",
     "output_type": "stream",
     "text": [
      "273 [1, 2, 4, 7, 13, 24, 40, 40, 40, 40, 40, 40, 40, 40, 40, 40, 40, 40, 40, 40, 40, 40, 40, 40, 40, 32, 16, 8, 4, 2, 1]\n",
      "MPS with length 30 and physical d=2\n",
      "chi [1, 6, 12, 21, 39, 72, 120, 120, 120, 120, 120, 120, 120, 120, 120, 120, 120, 120, 120, 120, 120, 120, 120, 120, 120, 96, 48, 24, 12, 6, 1]\n"
     ]
    },
    {
     "name": "stderr",
     "output_type": "stream",
     "text": [
      "WARNING:root:Truncating @ 40, latest SV = 0.001189378289604967\n",
      "WARNING:root:Truncating @ 40, latest SV = 0.0019136307306059936\n",
      "WARNING:root:Truncating @ 40, latest SV = 0.0023851728400745478\n",
      "WARNING:root:Truncating @ 40, latest SV = 0.00282377792270863\n",
      "WARNING:root:Truncating @ 40, latest SV = 0.0030803765601432236\n",
      "WARNING:root:Truncating @ 40, latest SV = 0.0030431250876060676\n",
      "WARNING:root:Truncating @ 40, latest SV = 0.002959078743522664\n",
      "WARNING:root:Truncating @ 40, latest SV = 0.002883256872332702\n",
      "WARNING:root:Truncating @ 40, latest SV = 0.002681178258852597\n",
      "WARNING:root:Truncating @ 40, latest SV = 0.0025053715961909123\n",
      "WARNING:root:Truncating @ 40, latest SV = 0.002195637435503779\n",
      "WARNING:root:Truncating @ 40, latest SV = 0.0018649107950427163\n",
      "WARNING:root:Truncating @ 40, latest SV = 0.0015468156979119838\n",
      "WARNING:root:Truncating @ 40, latest SV = 0.0009122981352503334\n",
      "WARNING:root:Truncating @ 40, latest SV = 0.0004112502106244467\n",
      "WARNING:root:Truncating @ 40, latest SV = 0.00012172642723355503\n",
      "WARNING:root:Truncating @ 40, latest SV = 2.3309352413460383e-05\n",
      "WARNING:root:Truncating @ 40, latest SV = 1.740395756718898e-06\n",
      "WARNING:root:Truncating @ 40, latest SV = 2.1761240206684647e-10\n"
     ]
    },
    {
     "name": "stdout",
     "output_type": "stream",
     "text": [
      "274 [1, 2, 4, 7, 14, 24, 40, 40, 40, 40, 40, 40, 40, 40, 40, 40, 40, 40, 40, 40, 40, 40, 40, 40, 40, 32, 16, 8, 4, 2, 1]\n",
      "MPS with length 30 and physical d=2\n",
      "chi [1, 6, 12, 21, 42, 72, 120, 120, 120, 120, 120, 120, 120, 120, 120, 120, 120, 120, 120, 120, 120, 120, 120, 120, 120, 96, 48, 24, 12, 6, 1]\n"
     ]
    },
    {
     "name": "stderr",
     "output_type": "stream",
     "text": [
      "WARNING:root:Truncating @ 40, latest SV = 0.0010707296194885072\n",
      "WARNING:root:Truncating @ 40, latest SV = 0.0017912825233625984\n",
      "WARNING:root:Truncating @ 40, latest SV = 0.0024555828474383356\n",
      "WARNING:root:Truncating @ 40, latest SV = 0.002812602833101943\n",
      "WARNING:root:Truncating @ 40, latest SV = 0.003093836100766424\n",
      "WARNING:root:Truncating @ 40, latest SV = 0.0030102323485537304\n",
      "WARNING:root:Truncating @ 40, latest SV = 0.0029845781912901485\n",
      "WARNING:root:Truncating @ 40, latest SV = 0.0027974810537640545\n",
      "WARNING:root:Truncating @ 40, latest SV = 0.0027696975525541754\n",
      "WARNING:root:Truncating @ 40, latest SV = 0.002260086787147431\n",
      "WARNING:root:Truncating @ 40, latest SV = 0.0021977114901926323\n",
      "WARNING:root:Truncating @ 40, latest SV = 0.0019673489072877188\n",
      "WARNING:root:Truncating @ 40, latest SV = 0.001618443673011892\n",
      "WARNING:root:Truncating @ 40, latest SV = 0.0010433832525487924\n",
      "WARNING:root:Truncating @ 40, latest SV = 0.00037147495998741953\n",
      "WARNING:root:Truncating @ 40, latest SV = 0.00015352647389742252\n",
      "WARNING:root:Truncating @ 40, latest SV = 3.977663644566675e-05\n",
      "WARNING:root:Truncating @ 40, latest SV = 1.1907121883753013e-06\n"
     ]
    },
    {
     "name": "stdout",
     "output_type": "stream",
     "text": [
      "275 [1, 2, 4, 7, 13, 23, 40, 40, 40, 40, 40, 40, 40, 40, 40, 40, 40, 40, 40, 40, 40, 40, 40, 40, 40, 32, 16, 8, 4, 2, 1]\n",
      "MPS with length 30 and physical d=2\n",
      "chi [1, 6, 12, 21, 39, 69, 120, 120, 120, 120, 120, 120, 120, 120, 120, 120, 120, 120, 120, 120, 120, 120, 120, 120, 120, 96, 48, 24, 12, 6, 1]\n"
     ]
    },
    {
     "name": "stderr",
     "output_type": "stream",
     "text": [
      "WARNING:root:Truncating @ 40, latest SV = 0.0012701422930183138\n",
      "WARNING:root:Truncating @ 40, latest SV = 0.0020105504074177066\n",
      "WARNING:root:Truncating @ 40, latest SV = 0.002807396385533752\n",
      "WARNING:root:Truncating @ 40, latest SV = 0.003251382614789574\n",
      "WARNING:root:Truncating @ 40, latest SV = 0.003351506412190783\n",
      "WARNING:root:Truncating @ 40, latest SV = 0.003436122094641832\n",
      "WARNING:root:Truncating @ 40, latest SV = 0.0032229430238619873\n",
      "WARNING:root:Truncating @ 40, latest SV = 0.0029851949781145677\n",
      "WARNING:root:Truncating @ 40, latest SV = 0.0029304555349135585\n",
      "WARNING:root:Truncating @ 40, latest SV = 0.0025614250085520592\n",
      "WARNING:root:Truncating @ 40, latest SV = 0.002279568096621271\n",
      "WARNING:root:Truncating @ 40, latest SV = 0.0019422126885376236\n",
      "WARNING:root:Truncating @ 40, latest SV = 0.0012359774432760006\n",
      "WARNING:root:Truncating @ 40, latest SV = 0.0007582651028331949\n",
      "WARNING:root:Truncating @ 40, latest SV = 0.00035698499860185184\n",
      "WARNING:root:Truncating @ 40, latest SV = 0.00010099797270773028\n",
      "WARNING:root:Truncating @ 40, latest SV = 3.105114590394909e-05\n",
      "WARNING:root:Truncating @ 40, latest SV = 1.5889541878835126e-06\n",
      "WARNING:root:Truncating @ 40, latest SV = 2.6639825871128056e-10\n"
     ]
    },
    {
     "name": "stdout",
     "output_type": "stream",
     "text": [
      "276 [1, 2, 4, 8, 15, 26, 40, 40, 40, 40, 40, 40, 40, 40, 40, 40, 40, 40, 40, 40, 40, 40, 40, 40, 40, 32, 16, 8, 4, 2, 1]\n",
      "MPS with length 30 and physical d=2\n",
      "chi [1, 6, 12, 24, 45, 78, 120, 120, 120, 120, 120, 120, 120, 120, 120, 120, 120, 120, 120, 120, 120, 120, 120, 120, 120, 96, 48, 24, 12, 6, 1]\n"
     ]
    },
    {
     "name": "stderr",
     "output_type": "stream",
     "text": [
      "WARNING:root:Truncating @ 40, latest SV = 0.0012408447372276624\n",
      "WARNING:root:Truncating @ 40, latest SV = 0.0021745279814621233\n",
      "WARNING:root:Truncating @ 40, latest SV = 0.003038668428260157\n",
      "WARNING:root:Truncating @ 40, latest SV = 0.003467268306582527\n",
      "WARNING:root:Truncating @ 40, latest SV = 0.003347857410011111\n",
      "WARNING:root:Truncating @ 40, latest SV = 0.0036422151296953502\n",
      "WARNING:root:Truncating @ 40, latest SV = 0.0035167585530379254\n",
      "WARNING:root:Truncating @ 40, latest SV = 0.003350046943431782\n",
      "WARNING:root:Truncating @ 40, latest SV = 0.003204205271903533\n",
      "WARNING:root:Truncating @ 40, latest SV = 0.0027008798978209706\n",
      "WARNING:root:Truncating @ 40, latest SV = 0.0023195326290342245\n",
      "WARNING:root:Truncating @ 40, latest SV = 0.001948324253581018\n",
      "WARNING:root:Truncating @ 40, latest SV = 0.0016358872452887307\n",
      "WARNING:root:Truncating @ 40, latest SV = 0.0009867828297680998\n",
      "WARNING:root:Truncating @ 40, latest SV = 0.000334857333090454\n",
      "WARNING:root:Truncating @ 40, latest SV = 0.00015083102408159512\n",
      "WARNING:root:Truncating @ 40, latest SV = 5.4362668512409295e-05\n",
      "WARNING:root:Truncating @ 40, latest SV = 5.676379902301003e-06\n"
     ]
    },
    {
     "name": "stdout",
     "output_type": "stream",
     "text": [
      "277 [1, 2, 4, 7, 13, 22, 39, 40, 40, 40, 40, 40, 40, 40, 40, 40, 40, 40, 40, 40, 40, 40, 40, 40, 40, 32, 16, 8, 4, 2, 1]\n",
      "MPS with length 30 and physical d=2\n",
      "chi [1, 6, 12, 21, 39, 66, 117, 120, 120, 120, 120, 120, 120, 120, 120, 120, 120, 120, 120, 120, 120, 120, 120, 120, 120, 96, 48, 24, 12, 6, 1]\n"
     ]
    },
    {
     "name": "stderr",
     "output_type": "stream",
     "text": [
      "WARNING:root:Truncating @ 40, latest SV = 0.0009273490611273907\n",
      "WARNING:root:Truncating @ 40, latest SV = 0.0016725067513603312\n",
      "WARNING:root:Truncating @ 40, latest SV = 0.0022075319748565566\n",
      "WARNING:root:Truncating @ 40, latest SV = 0.0027011829527695433\n",
      "WARNING:root:Truncating @ 40, latest SV = 0.0028772831178108947\n",
      "WARNING:root:Truncating @ 40, latest SV = 0.002935553374726715\n",
      "WARNING:root:Truncating @ 40, latest SV = 0.002715309142905559\n",
      "WARNING:root:Truncating @ 40, latest SV = 0.0026035734403340926\n",
      "WARNING:root:Truncating @ 40, latest SV = 0.0023085438105258592\n",
      "WARNING:root:Truncating @ 40, latest SV = 0.0018989126695845508\n",
      "WARNING:root:Truncating @ 40, latest SV = 0.00161766435912691\n",
      "WARNING:root:Truncating @ 40, latest SV = 0.0013215555798908652\n",
      "WARNING:root:Truncating @ 40, latest SV = 0.0009156006158339818\n",
      "WARNING:root:Truncating @ 40, latest SV = 0.0005658546806019338\n",
      "WARNING:root:Truncating @ 40, latest SV = 0.0002701507916742099\n",
      "WARNING:root:Truncating @ 40, latest SV = 0.00011720165821647155\n",
      "WARNING:root:Truncating @ 40, latest SV = 3.790250359782338e-05\n",
      "WARNING:root:Truncating @ 40, latest SV = 1.7669304421325667e-06\n",
      "WARNING:root:Truncating @ 40, latest SV = 1.1274669488523382e-10\n"
     ]
    },
    {
     "name": "stdout",
     "output_type": "stream",
     "text": [
      "278 [1, 2, 4, 7, 12, 22, 40, 40, 40, 40, 40, 40, 40, 40, 40, 40, 40, 40, 40, 40, 40, 40, 40, 40, 40, 32, 16, 8, 4, 2, 1]\n",
      "MPS with length 30 and physical d=2\n",
      "chi [1, 6, 12, 21, 36, 66, 120, 120, 120, 120, 120, 120, 120, 120, 120, 120, 120, 120, 120, 120, 120, 120, 120, 120, 120, 96, 48, 24, 12, 6, 1]\n"
     ]
    },
    {
     "name": "stderr",
     "output_type": "stream",
     "text": [
      "WARNING:root:Truncating @ 40, latest SV = 0.0011921048775694896\n",
      "WARNING:root:Truncating @ 40, latest SV = 0.0018985612285521074\n",
      "WARNING:root:Truncating @ 40, latest SV = 0.00228629900492513\n",
      "WARNING:root:Truncating @ 40, latest SV = 0.00247549001330454\n",
      "WARNING:root:Truncating @ 40, latest SV = 0.002699543720088101\n",
      "WARNING:root:Truncating @ 40, latest SV = 0.0028276589835762225\n",
      "WARNING:root:Truncating @ 40, latest SV = 0.002837236824435522\n",
      "WARNING:root:Truncating @ 40, latest SV = 0.002600751955237572\n",
      "WARNING:root:Truncating @ 40, latest SV = 0.002538297622097671\n",
      "WARNING:root:Truncating @ 40, latest SV = 0.002085852007693727\n",
      "WARNING:root:Truncating @ 40, latest SV = 0.0018437983402220207\n",
      "WARNING:root:Truncating @ 40, latest SV = 0.0014147556074684121\n",
      "WARNING:root:Truncating @ 40, latest SV = 0.0009643779411869179\n",
      "WARNING:root:Truncating @ 40, latest SV = 0.0006711712815437918\n",
      "WARNING:root:Truncating @ 40, latest SV = 0.00033882463685766935\n",
      "WARNING:root:Truncating @ 40, latest SV = 0.0001313826496898675\n",
      "WARNING:root:Truncating @ 40, latest SV = 5.5896905392489254e-05\n",
      "WARNING:root:Truncating @ 40, latest SV = 3.976086270673719e-06\n"
     ]
    },
    {
     "name": "stdout",
     "output_type": "stream",
     "text": [
      "279 [1, 2, 4, 7, 11, 20, 36, 40, 40, 40, 40, 40, 40, 40, 40, 40, 40, 40, 40, 40, 40, 40, 40, 40, 40, 32, 16, 8, 4, 2, 1]\n",
      "MPS with length 30 and physical d=2\n",
      "chi [1, 6, 12, 21, 33, 60, 108, 120, 120, 120, 120, 120, 120, 120, 120, 120, 120, 120, 120, 120, 120, 120, 120, 120, 120, 96, 48, 24, 12, 6, 1]\n"
     ]
    },
    {
     "name": "stderr",
     "output_type": "stream",
     "text": [
      "WARNING:root:Truncating @ 40, latest SV = 0.0012172820914231864\n",
      "WARNING:root:Truncating @ 40, latest SV = 0.002054177680995998\n",
      "WARNING:root:Truncating @ 40, latest SV = 0.002526700613546573\n",
      "WARNING:root:Truncating @ 40, latest SV = 0.0031341906820253783\n",
      "WARNING:root:Truncating @ 40, latest SV = 0.0032233457196174224\n",
      "WARNING:root:Truncating @ 40, latest SV = 0.0030701866506331263\n",
      "WARNING:root:Truncating @ 40, latest SV = 0.002963983685710571\n",
      "WARNING:root:Truncating @ 40, latest SV = 0.002939503586407188\n",
      "WARNING:root:Truncating @ 40, latest SV = 0.0026762067292847407\n",
      "WARNING:root:Truncating @ 40, latest SV = 0.002420556528335843\n",
      "WARNING:root:Truncating @ 40, latest SV = 0.002013960270186697\n",
      "WARNING:root:Truncating @ 40, latest SV = 0.001532085128964285\n",
      "WARNING:root:Truncating @ 40, latest SV = 0.0011092341491266125\n",
      "WARNING:root:Truncating @ 40, latest SV = 0.0006344420502941923\n",
      "WARNING:root:Truncating @ 40, latest SV = 0.0003138790372979917\n",
      "WARNING:root:Truncating @ 40, latest SV = 0.0001953180169602749\n",
      "WARNING:root:Truncating @ 40, latest SV = 6.494940445193141e-05\n",
      "WARNING:root:Truncating @ 40, latest SV = 1.2562215542456194e-06\n"
     ]
    },
    {
     "name": "stdout",
     "output_type": "stream",
     "text": [
      "280 [1, 2, 4, 7, 13, 23, 39, 40, 40, 40, 40, 40, 40, 40, 40, 40, 40, 40, 40, 40, 40, 40, 40, 40, 40, 32, 16, 8, 4, 2, 1]\n",
      "MPS with length 30 and physical d=2\n",
      "chi [1, 6, 12, 21, 39, 69, 117, 120, 120, 120, 120, 120, 120, 120, 120, 120, 120, 120, 120, 120, 120, 120, 120, 120, 120, 96, 48, 24, 12, 6, 1]\n"
     ]
    },
    {
     "name": "stderr",
     "output_type": "stream",
     "text": [
      "WARNING:root:Truncating @ 40, latest SV = 0.0015948463201245688\n",
      "WARNING:root:Truncating @ 40, latest SV = 0.0022160900184494013\n",
      "WARNING:root:Truncating @ 40, latest SV = 0.002809106641108079\n",
      "WARNING:root:Truncating @ 40, latest SV = 0.002946940098323908\n",
      "WARNING:root:Truncating @ 40, latest SV = 0.0032222785252172766\n",
      "WARNING:root:Truncating @ 40, latest SV = 0.003119764421261603\n",
      "WARNING:root:Truncating @ 40, latest SV = 0.002895097656507937\n",
      "WARNING:root:Truncating @ 40, latest SV = 0.0027467042362778584\n",
      "WARNING:root:Truncating @ 40, latest SV = 0.002475723287753534\n",
      "WARNING:root:Truncating @ 40, latest SV = 0.002070459587223663\n",
      "WARNING:root:Truncating @ 40, latest SV = 0.001895030310155316\n",
      "WARNING:root:Truncating @ 40, latest SV = 0.0016425121735145762\n",
      "WARNING:root:Truncating @ 40, latest SV = 0.0012818111271543158\n",
      "WARNING:root:Truncating @ 40, latest SV = 0.0008384884812554869\n",
      "WARNING:root:Truncating @ 40, latest SV = 0.0004672628228246078\n",
      "WARNING:root:Truncating @ 40, latest SV = 0.0002514630489400918\n",
      "WARNING:root:Truncating @ 40, latest SV = 8.13366757927249e-05\n",
      "WARNING:root:Truncating @ 40, latest SV = 1.4725996818356291e-05\n"
     ]
    },
    {
     "name": "stdout",
     "output_type": "stream",
     "text": [
      "281 [1, 2, 4, 7, 12, 20, 37, 40, 40, 40, 40, 40, 40, 40, 40, 40, 40, 40, 40, 40, 40, 40, 40, 40, 40, 32, 16, 8, 4, 2, 1]\n",
      "MPS with length 30 and physical d=2\n",
      "chi [1, 6, 12, 21, 36, 60, 111, 120, 120, 120, 120, 120, 120, 120, 120, 120, 120, 120, 120, 120, 120, 120, 120, 120, 120, 96, 48, 24, 12, 6, 1]\n"
     ]
    },
    {
     "name": "stderr",
     "output_type": "stream",
     "text": [
      "WARNING:root:Truncating @ 40, latest SV = 0.0012136077664803204\n",
      "WARNING:root:Truncating @ 40, latest SV = 0.0019138054328794198\n",
      "WARNING:root:Truncating @ 40, latest SV = 0.0024886297628640415\n",
      "WARNING:root:Truncating @ 40, latest SV = 0.002709069020835787\n",
      "WARNING:root:Truncating @ 40, latest SV = 0.002639811352170364\n",
      "WARNING:root:Truncating @ 40, latest SV = 0.002775295725928538\n",
      "WARNING:root:Truncating @ 40, latest SV = 0.0025118853784173094\n",
      "WARNING:root:Truncating @ 40, latest SV = 0.002334038901413633\n",
      "WARNING:root:Truncating @ 40, latest SV = 0.002031362345256336\n",
      "WARNING:root:Truncating @ 40, latest SV = 0.0017581393231909828\n",
      "WARNING:root:Truncating @ 40, latest SV = 0.0014076392521967388\n",
      "WARNING:root:Truncating @ 40, latest SV = 0.0012808154290073702\n",
      "WARNING:root:Truncating @ 40, latest SV = 0.0009753507004116404\n",
      "WARNING:root:Truncating @ 40, latest SV = 0.0006691291068826476\n",
      "WARNING:root:Truncating @ 40, latest SV = 0.0004416094926721107\n",
      "WARNING:root:Truncating @ 40, latest SV = 0.00015829215430934547\n",
      "WARNING:root:Truncating @ 40, latest SV = 6.448541655594656e-05\n",
      "WARNING:root:Truncating @ 40, latest SV = 1.942707350909022e-06\n"
     ]
    },
    {
     "name": "stdout",
     "output_type": "stream",
     "text": [
      "282 [1, 2, 4, 6, 11, 22, 38, 40, 40, 40, 40, 40, 40, 40, 40, 40, 40, 40, 40, 40, 40, 40, 40, 40, 40, 32, 16, 8, 4, 2, 1]\n",
      "MPS with length 30 and physical d=2\n",
      "chi [1, 6, 12, 18, 33, 66, 114, 120, 120, 120, 120, 120, 120, 120, 120, 120, 120, 120, 120, 120, 120, 120, 120, 120, 120, 96, 48, 24, 12, 6, 1]\n"
     ]
    },
    {
     "name": "stderr",
     "output_type": "stream",
     "text": [
      "WARNING:root:Truncating @ 40, latest SV = 0.001198590052635973\n",
      "WARNING:root:Truncating @ 40, latest SV = 0.0018495101349380579\n",
      "WARNING:root:Truncating @ 40, latest SV = 0.002454220824358681\n",
      "WARNING:root:Truncating @ 40, latest SV = 0.0027411988104352695\n",
      "WARNING:root:Truncating @ 40, latest SV = 0.00267319571664446\n",
      "WARNING:root:Truncating @ 40, latest SV = 0.0027951921640477226\n",
      "WARNING:root:Truncating @ 40, latest SV = 0.002749867070748727\n",
      "WARNING:root:Truncating @ 40, latest SV = 0.0024786584803192457\n",
      "WARNING:root:Truncating @ 40, latest SV = 0.0021572773133079187\n",
      "WARNING:root:Truncating @ 40, latest SV = 0.00212741550891637\n",
      "WARNING:root:Truncating @ 40, latest SV = 0.0018408668792592438\n",
      "WARNING:root:Truncating @ 40, latest SV = 0.0017023214955133132\n",
      "WARNING:root:Truncating @ 40, latest SV = 0.0013044478102680586\n",
      "WARNING:root:Truncating @ 40, latest SV = 0.0009377754049503256\n",
      "WARNING:root:Truncating @ 40, latest SV = 0.0005438461017167538\n",
      "WARNING:root:Truncating @ 40, latest SV = 0.0002046991272034754\n",
      "WARNING:root:Truncating @ 40, latest SV = 7.203330978699451e-05\n",
      "WARNING:root:Truncating @ 40, latest SV = 3.4421075565468368e-06\n"
     ]
    },
    {
     "name": "stdout",
     "output_type": "stream",
     "text": [
      "283 [1, 2, 3, 5, 10, 18, 34, 40, 40, 40, 40, 40, 40, 40, 40, 40, 40, 40, 40, 40, 40, 40, 40, 40, 40, 32, 16, 8, 4, 2, 1]\n",
      "MPS with length 30 and physical d=2\n",
      "chi [1, 6, 9, 15, 30, 54, 102, 120, 120, 120, 120, 120, 120, 120, 120, 120, 120, 120, 120, 120, 120, 120, 120, 120, 120, 96, 48, 24, 12, 6, 1]\n"
     ]
    },
    {
     "name": "stderr",
     "output_type": "stream",
     "text": [
      "WARNING:root:Truncating @ 40, latest SV = 0.0013022420965157838\n",
      "WARNING:root:Truncating @ 40, latest SV = 0.0020472710932942654\n",
      "WARNING:root:Truncating @ 40, latest SV = 0.0025469570017553856\n",
      "WARNING:root:Truncating @ 40, latest SV = 0.0028455849639998083\n",
      "WARNING:root:Truncating @ 40, latest SV = 0.0028450400810279956\n",
      "WARNING:root:Truncating @ 40, latest SV = 0.00289821163068059\n",
      "WARNING:root:Truncating @ 40, latest SV = 0.0025621916400874155\n",
      "WARNING:root:Truncating @ 40, latest SV = 0.002425232502459948\n",
      "WARNING:root:Truncating @ 40, latest SV = 0.002270952249140016\n",
      "WARNING:root:Truncating @ 40, latest SV = 0.0019034500982385912\n",
      "WARNING:root:Truncating @ 40, latest SV = 0.001789164292536691\n",
      "WARNING:root:Truncating @ 40, latest SV = 0.0014784016387956686\n",
      "WARNING:root:Truncating @ 40, latest SV = 0.0012295408805187008\n",
      "WARNING:root:Truncating @ 40, latest SV = 0.0008665063168473803\n",
      "WARNING:root:Truncating @ 40, latest SV = 0.0006457535834567099\n",
      "WARNING:root:Truncating @ 40, latest SV = 0.00041406193200462215\n",
      "WARNING:root:Truncating @ 40, latest SV = 0.00016774515300674268\n",
      "WARNING:root:Truncating @ 40, latest SV = 9.2325907832121e-06\n"
     ]
    },
    {
     "name": "stdout",
     "output_type": "stream",
     "text": [
      "284 [1, 2, 4, 8, 11, 18, 33, 40, 40, 40, 40, 40, 40, 40, 40, 40, 40, 40, 40, 40, 40, 40, 40, 40, 40, 32, 16, 8, 4, 2, 1]\n",
      "MPS with length 30 and physical d=2\n",
      "chi [1, 6, 12, 24, 33, 54, 99, 120, 120, 120, 120, 120, 120, 120, 120, 120, 120, 120, 120, 120, 120, 120, 120, 120, 120, 96, 48, 24, 12, 6, 1]\n"
     ]
    },
    {
     "name": "stderr",
     "output_type": "stream",
     "text": [
      "WARNING:root:Truncating @ 40, latest SV = 0.0015742607508472683\n",
      "WARNING:root:Truncating @ 40, latest SV = 0.002661621089732805\n",
      "WARNING:root:Truncating @ 40, latest SV = 0.003314288988107908\n",
      "WARNING:root:Truncating @ 40, latest SV = 0.0038306511216751548\n",
      "WARNING:root:Truncating @ 40, latest SV = 0.0038491354837172746\n",
      "WARNING:root:Truncating @ 40, latest SV = 0.004064986872756202\n",
      "WARNING:root:Truncating @ 40, latest SV = 0.0034666128746739596\n",
      "WARNING:root:Truncating @ 40, latest SV = 0.0033030414450044817\n",
      "WARNING:root:Truncating @ 40, latest SV = 0.0028735798209274773\n",
      "WARNING:root:Truncating @ 40, latest SV = 0.0027111297769915337\n",
      "WARNING:root:Truncating @ 40, latest SV = 0.0024513118562130066\n",
      "WARNING:root:Truncating @ 40, latest SV = 0.002001485028295245\n",
      "WARNING:root:Truncating @ 40, latest SV = 0.001685104623058763\n",
      "WARNING:root:Truncating @ 40, latest SV = 0.0013328598198302265\n",
      "WARNING:root:Truncating @ 40, latest SV = 0.0009539396578802\n",
      "WARNING:root:Truncating @ 40, latest SV = 0.0005912496892876111\n",
      "WARNING:root:Truncating @ 40, latest SV = 0.00031320930751020583\n",
      "WARNING:root:Truncating @ 40, latest SV = 4.3551653713324436e-05\n"
     ]
    },
    {
     "name": "stdout",
     "output_type": "stream",
     "text": [
      "285 [1, 2, 4, 6, 11, 18, 33, 40, 40, 40, 40, 40, 40, 40, 40, 40, 40, 40, 40, 40, 40, 40, 40, 40, 40, 32, 16, 8, 4, 2, 1]\n",
      "MPS with length 30 and physical d=2\n",
      "chi [1, 6, 12, 18, 33, 54, 99, 120, 120, 120, 120, 120, 120, 120, 120, 120, 120, 120, 120, 120, 120, 120, 120, 120, 120, 96, 48, 24, 12, 6, 1]\n"
     ]
    },
    {
     "name": "stderr",
     "output_type": "stream",
     "text": [
      "WARNING:root:Truncating @ 40, latest SV = 0.0018201684373378648\n",
      "WARNING:root:Truncating @ 40, latest SV = 0.002938253249468475\n",
      "WARNING:root:Truncating @ 40, latest SV = 0.0036298699993506625\n",
      "WARNING:root:Truncating @ 40, latest SV = 0.00383322980730591\n",
      "WARNING:root:Truncating @ 40, latest SV = 0.004102909627227838\n",
      "WARNING:root:Truncating @ 40, latest SV = 0.004226348467043253\n",
      "WARNING:root:Truncating @ 40, latest SV = 0.003950975292732027\n",
      "WARNING:root:Truncating @ 40, latest SV = 0.003747203680936282\n",
      "WARNING:root:Truncating @ 40, latest SV = 0.0033747132838464877\n",
      "WARNING:root:Truncating @ 40, latest SV = 0.002954433009779241\n",
      "WARNING:root:Truncating @ 40, latest SV = 0.002734858380304295\n",
      "WARNING:root:Truncating @ 40, latest SV = 0.0026000839033538336\n",
      "WARNING:root:Truncating @ 40, latest SV = 0.001974682159017266\n",
      "WARNING:root:Truncating @ 40, latest SV = 0.0014457225462480043\n",
      "WARNING:root:Truncating @ 40, latest SV = 0.0009286106526198366\n",
      "WARNING:root:Truncating @ 40, latest SV = 0.0005680079353472006\n",
      "WARNING:root:Truncating @ 40, latest SV = 0.00025795444779248724\n",
      "WARNING:root:Truncating @ 40, latest SV = 2.574012616947098e-05\n"
     ]
    },
    {
     "name": "stdout",
     "output_type": "stream",
     "text": [
      "286 [1, 2, 4, 5, 9, 17, 33, 40, 40, 40, 40, 40, 40, 40, 40, 40, 40, 40, 40, 40, 40, 40, 40, 40, 40, 32, 16, 8, 4, 2, 1]\n",
      "MPS with length 30 and physical d=2\n",
      "chi [1, 6, 12, 15, 27, 51, 99, 120, 120, 120, 120, 120, 120, 120, 120, 120, 120, 120, 120, 120, 120, 120, 120, 120, 120, 96, 48, 24, 12, 6, 1]\n"
     ]
    },
    {
     "name": "stderr",
     "output_type": "stream",
     "text": [
      "WARNING:root:Truncating @ 40, latest SV = 0.0019383364992901868\n",
      "WARNING:root:Truncating @ 40, latest SV = 0.003033152966592312\n",
      "WARNING:root:Truncating @ 40, latest SV = 0.003750617767837576\n",
      "WARNING:root:Truncating @ 40, latest SV = 0.00397624916715877\n",
      "WARNING:root:Truncating @ 40, latest SV = 0.0038633801880747945\n",
      "WARNING:root:Truncating @ 40, latest SV = 0.003708251803649157\n",
      "WARNING:root:Truncating @ 40, latest SV = 0.0034634937493948515\n",
      "WARNING:root:Truncating @ 40, latest SV = 0.0035188605307213752\n",
      "WARNING:root:Truncating @ 40, latest SV = 0.003225609017065837\n",
      "WARNING:root:Truncating @ 40, latest SV = 0.0027787950743798297\n",
      "WARNING:root:Truncating @ 40, latest SV = 0.0025228358141178423\n",
      "WARNING:root:Truncating @ 40, latest SV = 0.0020442412415317603\n",
      "WARNING:root:Truncating @ 40, latest SV = 0.001690761450973665\n",
      "WARNING:root:Truncating @ 40, latest SV = 0.0013075528277394007\n",
      "WARNING:root:Truncating @ 40, latest SV = 0.0010076092714312928\n",
      "WARNING:root:Truncating @ 40, latest SV = 0.0006548882505857522\n",
      "WARNING:root:Truncating @ 40, latest SV = 0.00042550121071400907\n",
      "WARNING:root:Truncating @ 40, latest SV = 0.00010629709766829838\n"
     ]
    },
    {
     "name": "stdout",
     "output_type": "stream",
     "text": [
      "287 [1, 2, 3, 5, 8, 16, 32, 40, 40, 40, 40, 40, 40, 40, 40, 40, 40, 40, 40, 40, 40, 40, 40, 40, 40, 32, 16, 8, 4, 2, 1]\n",
      "MPS with length 30 and physical d=2\n",
      "chi [1, 6, 9, 15, 24, 48, 96, 120, 120, 120, 120, 120, 120, 120, 120, 120, 120, 120, 120, 120, 120, 120, 120, 120, 120, 96, 48, 24, 12, 6, 1]\n"
     ]
    },
    {
     "name": "stderr",
     "output_type": "stream",
     "text": [
      "WARNING:root:Truncating @ 40, latest SV = 0.0014281035642222872\n",
      "WARNING:root:Truncating @ 40, latest SV = 0.0021473061831794576\n",
      "WARNING:root:Truncating @ 40, latest SV = 0.0026164841956072458\n",
      "WARNING:root:Truncating @ 40, latest SV = 0.0032247538789271627\n",
      "WARNING:root:Truncating @ 40, latest SV = 0.0032584609220383098\n",
      "WARNING:root:Truncating @ 40, latest SV = 0.00325283894991044\n",
      "WARNING:root:Truncating @ 40, latest SV = 0.003097826790028001\n",
      "WARNING:root:Truncating @ 40, latest SV = 0.0030604146002204684\n",
      "WARNING:root:Truncating @ 40, latest SV = 0.002745396579637487\n",
      "WARNING:root:Truncating @ 40, latest SV = 0.0025274090678873806\n",
      "WARNING:root:Truncating @ 40, latest SV = 0.0020840693583902684\n",
      "WARNING:root:Truncating @ 40, latest SV = 0.0019678589946593083\n",
      "WARNING:root:Truncating @ 40, latest SV = 0.0015122814339841686\n",
      "WARNING:root:Truncating @ 40, latest SV = 0.0011373759433353657\n",
      "WARNING:root:Truncating @ 40, latest SV = 0.0008453063653926429\n",
      "WARNING:root:Truncating @ 40, latest SV = 0.0004892229648090486\n",
      "WARNING:root:Truncating @ 40, latest SV = 0.00015379909586574463\n",
      "WARNING:root:Truncating @ 40, latest SV = 2.270180745339998e-05\n"
     ]
    },
    {
     "name": "stdout",
     "output_type": "stream",
     "text": [
      "288 [1, 2, 4, 6, 9, 16, 32, 40, 40, 40, 40, 40, 40, 40, 40, 40, 40, 40, 40, 40, 40, 40, 40, 40, 40, 32, 16, 8, 4, 2, 1]\n",
      "MPS with length 30 and physical d=2\n",
      "chi [1, 6, 12, 18, 27, 48, 96, 120, 120, 120, 120, 120, 120, 120, 120, 120, 120, 120, 120, 120, 120, 120, 120, 120, 120, 96, 48, 24, 12, 6, 1]\n"
     ]
    },
    {
     "name": "stderr",
     "output_type": "stream",
     "text": [
      "WARNING:root:Truncating @ 40, latest SV = 0.0016561489847423316\n",
      "WARNING:root:Truncating @ 40, latest SV = 0.0023441566332445124\n",
      "WARNING:root:Truncating @ 40, latest SV = 0.0028236524906832495\n",
      "WARNING:root:Truncating @ 40, latest SV = 0.003047699176556066\n",
      "WARNING:root:Truncating @ 40, latest SV = 0.003228985098315858\n",
      "WARNING:root:Truncating @ 40, latest SV = 0.003166796927680432\n",
      "WARNING:root:Truncating @ 40, latest SV = 0.002731056294827889\n",
      "WARNING:root:Truncating @ 40, latest SV = 0.0028254203410884205\n",
      "WARNING:root:Truncating @ 40, latest SV = 0.002630277480424774\n",
      "WARNING:root:Truncating @ 40, latest SV = 0.002225678632227391\n",
      "WARNING:root:Truncating @ 40, latest SV = 0.0018963347613997798\n",
      "WARNING:root:Truncating @ 40, latest SV = 0.001642268408526171\n",
      "WARNING:root:Truncating @ 40, latest SV = 0.001295345215824393\n",
      "WARNING:root:Truncating @ 40, latest SV = 0.0009636870569281416\n",
      "WARNING:root:Truncating @ 40, latest SV = 0.0006495089930720778\n",
      "WARNING:root:Truncating @ 40, latest SV = 0.00044305545579779895\n",
      "WARNING:root:Truncating @ 40, latest SV = 0.00018609253943029474\n",
      "WARNING:root:Truncating @ 40, latest SV = 2.500201892044773e-05\n"
     ]
    },
    {
     "name": "stdout",
     "output_type": "stream",
     "text": [
      "289 [1, 2, 2, 4, 8, 16, 32, 40, 40, 40, 40, 40, 40, 40, 40, 40, 40, 40, 40, 40, 40, 40, 40, 40, 40, 32, 16, 8, 4, 2, 1]\n",
      "MPS with length 30 and physical d=2\n",
      "chi [1, 6, 6, 12, 24, 48, 96, 120, 120, 120, 120, 120, 120, 120, 120, 120, 120, 120, 120, 120, 120, 120, 120, 120, 120, 96, 48, 24, 12, 6, 1]\n"
     ]
    },
    {
     "name": "stderr",
     "output_type": "stream",
     "text": [
      "WARNING:root:Truncating @ 40, latest SV = 0.001954610970294526\n",
      "WARNING:root:Truncating @ 40, latest SV = 0.00266330737442852\n",
      "WARNING:root:Truncating @ 40, latest SV = 0.0031004066705369246\n",
      "WARNING:root:Truncating @ 40, latest SV = 0.0035333537162856553\n",
      "WARNING:root:Truncating @ 40, latest SV = 0.0036976826217062814\n",
      "WARNING:root:Truncating @ 40, latest SV = 0.0037946915096715825\n",
      "WARNING:root:Truncating @ 40, latest SV = 0.003367378493325909\n",
      "WARNING:root:Truncating @ 40, latest SV = 0.003266607165056235\n",
      "WARNING:root:Truncating @ 40, latest SV = 0.0032008593921792864\n",
      "WARNING:root:Truncating @ 40, latest SV = 0.0029306568846156076\n",
      "WARNING:root:Truncating @ 40, latest SV = 0.00257839993797867\n",
      "WARNING:root:Truncating @ 40, latest SV = 0.0024428098444613825\n",
      "WARNING:root:Truncating @ 40, latest SV = 0.002179371622784375\n",
      "WARNING:root:Truncating @ 40, latest SV = 0.001702884554363621\n",
      "WARNING:root:Truncating @ 40, latest SV = 0.0013108721291160874\n",
      "WARNING:root:Truncating @ 40, latest SV = 0.0005574313477704495\n",
      "WARNING:root:Truncating @ 40, latest SV = 0.00018550296392348916\n",
      "WARNING:root:Truncating @ 40, latest SV = 1.6950499621657575e-05\n"
     ]
    },
    {
     "name": "stdout",
     "output_type": "stream",
     "text": [
      "290 [1, 2, 2, 4, 8, 16, 32, 40, 40, 40, 40, 40, 40, 40, 40, 40, 40, 40, 40, 40, 40, 40, 40, 40, 40, 32, 16, 8, 4, 2, 1]\n",
      "MPS with length 30 and physical d=2\n",
      "chi [1, 6, 6, 12, 24, 48, 96, 120, 120, 120, 120, 120, 120, 120, 120, 120, 120, 120, 120, 120, 120, 120, 120, 120, 120, 96, 48, 24, 12, 6, 1]\n"
     ]
    },
    {
     "name": "stderr",
     "output_type": "stream",
     "text": [
      "WARNING:root:Truncating @ 40, latest SV = 0.0015662694232331856\n",
      "WARNING:root:Truncating @ 40, latest SV = 0.0023095092835720443\n",
      "WARNING:root:Truncating @ 40, latest SV = 0.0029373032724286994\n",
      "WARNING:root:Truncating @ 40, latest SV = 0.0030791592075827606\n",
      "WARNING:root:Truncating @ 40, latest SV = 0.0030951129432084277\n",
      "WARNING:root:Truncating @ 40, latest SV = 0.0029231938817269715\n",
      "WARNING:root:Truncating @ 40, latest SV = 0.00294903856418823\n",
      "WARNING:root:Truncating @ 40, latest SV = 0.0027034402312697196\n",
      "WARNING:root:Truncating @ 40, latest SV = 0.0024883809447197457\n",
      "WARNING:root:Truncating @ 40, latest SV = 0.0023581926435653285\n",
      "WARNING:root:Truncating @ 40, latest SV = 0.0018408376591649647\n",
      "WARNING:root:Truncating @ 40, latest SV = 0.0014859353294822528\n",
      "WARNING:root:Truncating @ 40, latest SV = 0.0010579689350658998\n",
      "WARNING:root:Truncating @ 40, latest SV = 0.0006831960149163091\n",
      "WARNING:root:Truncating @ 40, latest SV = 0.00034001005928584513\n",
      "WARNING:root:Truncating @ 40, latest SV = 0.00015933940290300467\n",
      "WARNING:root:Truncating @ 40, latest SV = 5.2173823982846584e-05\n",
      "WARNING:root:Truncating @ 40, latest SV = 3.496209783153299e-06\n"
     ]
    },
    {
     "name": "stdout",
     "output_type": "stream",
     "text": [
      "291 [1, 2, 2, 4, 8, 16, 32, 40, 40, 40, 40, 40, 40, 40, 40, 40, 40, 40, 40, 40, 40, 40, 40, 40, 40, 32, 16, 8, 4, 2, 1]\n",
      "MPS with length 30 and physical d=2\n",
      "chi [1, 6, 6, 12, 24, 48, 96, 120, 120, 120, 120, 120, 120, 120, 120, 120, 120, 120, 120, 120, 120, 120, 120, 120, 120, 96, 48, 24, 12, 6, 1]\n"
     ]
    },
    {
     "name": "stderr",
     "output_type": "stream",
     "text": [
      "WARNING:root:Truncating @ 40, latest SV = 0.0021040292499168414\n",
      "WARNING:root:Truncating @ 40, latest SV = 0.0031297223124764385\n",
      "WARNING:root:Truncating @ 40, latest SV = 0.003872851618742421\n",
      "WARNING:root:Truncating @ 40, latest SV = 0.004455172959036289\n",
      "WARNING:root:Truncating @ 40, latest SV = 0.005108368914622099\n",
      "WARNING:root:Truncating @ 40, latest SV = 0.0051763175947394605\n",
      "WARNING:root:Truncating @ 40, latest SV = 0.00492022873365644\n",
      "WARNING:root:Truncating @ 40, latest SV = 0.004546660622550889\n",
      "WARNING:root:Truncating @ 40, latest SV = 0.004259382736743572\n",
      "WARNING:root:Truncating @ 40, latest SV = 0.0040645348342421925\n",
      "WARNING:root:Truncating @ 40, latest SV = 0.003548447466670044\n",
      "WARNING:root:Truncating @ 40, latest SV = 0.00286264787143203\n",
      "WARNING:root:Truncating @ 40, latest SV = 0.001962969649847952\n",
      "WARNING:root:Truncating @ 40, latest SV = 0.0011885456702142435\n",
      "WARNING:root:Truncating @ 40, latest SV = 0.0006158387139574734\n",
      "WARNING:root:Truncating @ 40, latest SV = 0.00022202564389117122\n",
      "WARNING:root:Truncating @ 40, latest SV = 4.1980815281382425e-05\n",
      "WARNING:root:Truncating @ 40, latest SV = 1.7601735332198293e-06\n"
     ]
    },
    {
     "name": "stdout",
     "output_type": "stream",
     "text": [
      "292 [1, 1, 2, 4, 8, 16, 32, 40, 40, 40, 40, 40, 40, 40, 40, 40, 40, 40, 40, 40, 40, 40, 40, 40, 40, 32, 16, 8, 4, 2, 1]\n",
      "MPS with length 30 and physical d=2\n",
      "chi [1, 3, 6, 12, 24, 48, 96, 120, 120, 120, 120, 120, 120, 120, 120, 120, 120, 120, 120, 120, 120, 120, 120, 120, 120, 96, 48, 24, 12, 6, 1]\n"
     ]
    },
    {
     "name": "stderr",
     "output_type": "stream",
     "text": [
      "WARNING:root:Truncating @ 40, latest SV = 0.0018765632413478871\n",
      "WARNING:root:Truncating @ 40, latest SV = 0.0029295096406703807\n",
      "WARNING:root:Truncating @ 40, latest SV = 0.003993946126659498\n",
      "WARNING:root:Truncating @ 40, latest SV = 0.004516420387705313\n",
      "WARNING:root:Truncating @ 40, latest SV = 0.004699479012925528\n",
      "WARNING:root:Truncating @ 40, latest SV = 0.005034996013157626\n",
      "WARNING:root:Truncating @ 40, latest SV = 0.004908397662403605\n",
      "WARNING:root:Truncating @ 40, latest SV = 0.004103647479600513\n",
      "WARNING:root:Truncating @ 40, latest SV = 0.0038327762244384604\n",
      "WARNING:root:Truncating @ 40, latest SV = 0.003175435425311629\n",
      "WARNING:root:Truncating @ 40, latest SV = 0.0026545761262644395\n",
      "WARNING:root:Truncating @ 40, latest SV = 0.0019558785538469855\n",
      "WARNING:root:Truncating @ 40, latest SV = 0.00126173389917135\n",
      "WARNING:root:Truncating @ 40, latest SV = 0.0008057724261924859\n",
      "WARNING:root:Truncating @ 40, latest SV = 0.00039253590155299264\n",
      "WARNING:root:Truncating @ 40, latest SV = 0.00017121356713726367\n",
      "WARNING:root:Truncating @ 40, latest SV = 2.3154700195212858e-05\n",
      "WARNING:root:Truncating @ 40, latest SV = 1.5243738484871024e-06\n",
      "WARNING:root:Truncating @ 40, latest SV = 1.5024035777538793e-09\n"
     ]
    },
    {
     "name": "stdout",
     "output_type": "stream",
     "text": [
      "293 [1, 2, 4, 8, 13, 24, 40, 40, 40, 40, 40, 40, 40, 40, 40, 40, 40, 40, 40, 40, 40, 40, 40, 40, 40, 32, 16, 8, 4, 2, 1]\n",
      "MPS with length 30 and physical d=2\n",
      "chi [1, 6, 12, 24, 39, 72, 120, 120, 120, 120, 120, 120, 120, 120, 120, 120, 120, 120, 120, 120, 120, 120, 120, 120, 120, 96, 48, 24, 12, 6, 1]\n"
     ]
    },
    {
     "name": "stderr",
     "output_type": "stream",
     "text": [
      "WARNING:root:Truncating @ 40, latest SV = 0.0013885426855665135\n",
      "WARNING:root:Truncating @ 40, latest SV = 0.0022741278931745386\n",
      "WARNING:root:Truncating @ 40, latest SV = 0.0029704948779588564\n",
      "WARNING:root:Truncating @ 40, latest SV = 0.003540971684842624\n",
      "WARNING:root:Truncating @ 40, latest SV = 0.0040218919491549045\n",
      "WARNING:root:Truncating @ 40, latest SV = 0.004092263614594271\n",
      "WARNING:root:Truncating @ 40, latest SV = 0.0038512035633639858\n",
      "WARNING:root:Truncating @ 40, latest SV = 0.00379870639918392\n",
      "WARNING:root:Truncating @ 40, latest SV = 0.0033002231636997084\n",
      "WARNING:root:Truncating @ 40, latest SV = 0.0029276388942810804\n",
      "WARNING:root:Truncating @ 40, latest SV = 0.002466624297856436\n",
      "WARNING:root:Truncating @ 40, latest SV = 0.0019064974298808374\n",
      "WARNING:root:Truncating @ 40, latest SV = 0.0014546844605577305\n",
      "WARNING:root:Truncating @ 40, latest SV = 0.0008383259344311454\n",
      "WARNING:root:Truncating @ 40, latest SV = 0.0005476823774413426\n",
      "WARNING:root:Truncating @ 40, latest SV = 0.0003095070935896534\n",
      "WARNING:root:Truncating @ 40, latest SV = 9.34330748296055e-05\n",
      "WARNING:root:Truncating @ 40, latest SV = 5.399548194360478e-06\n",
      "WARNING:root:Truncating @ 40, latest SV = 1.5186561375660966e-08\n"
     ]
    },
    {
     "name": "stdout",
     "output_type": "stream",
     "text": [
      "294 [1, 2, 4, 8, 16, 30, 40, 40, 40, 40, 40, 40, 40, 40, 40, 40, 40, 40, 40, 40, 40, 40, 40, 40, 40, 32, 16, 8, 4, 2, 1]\n",
      "MPS with length 30 and physical d=2\n",
      "chi [1, 6, 12, 24, 48, 90, 120, 120, 120, 120, 120, 120, 120, 120, 120, 120, 120, 120, 120, 120, 120, 120, 120, 120, 120, 96, 48, 24, 12, 6, 1]\n"
     ]
    },
    {
     "name": "stderr",
     "output_type": "stream",
     "text": [
      "WARNING:root:Truncating @ 40, latest SV = 0.0012498249345878742\n",
      "WARNING:root:Truncating @ 40, latest SV = 0.0019802169908727926\n",
      "WARNING:root:Truncating @ 40, latest SV = 0.002579133042054176\n",
      "WARNING:root:Truncating @ 40, latest SV = 0.0032187086518170164\n",
      "WARNING:root:Truncating @ 40, latest SV = 0.0037504356978120303\n",
      "WARNING:root:Truncating @ 40, latest SV = 0.0036365420551653796\n",
      "WARNING:root:Truncating @ 40, latest SV = 0.0036199889482199546\n",
      "WARNING:root:Truncating @ 40, latest SV = 0.0034464009523095364\n",
      "WARNING:root:Truncating @ 40, latest SV = 0.0032466130760915543\n",
      "WARNING:root:Truncating @ 40, latest SV = 0.002361460287196106\n",
      "WARNING:root:Truncating @ 40, latest SV = 0.0018850067049222775\n",
      "WARNING:root:Truncating @ 40, latest SV = 0.0015805097812776673\n",
      "WARNING:root:Truncating @ 40, latest SV = 0.0010820835048836683\n",
      "WARNING:root:Truncating @ 40, latest SV = 0.0008950606655732979\n",
      "WARNING:root:Truncating @ 40, latest SV = 0.00038222495549865434\n",
      "WARNING:root:Truncating @ 40, latest SV = 0.00016143852752060605\n",
      "WARNING:root:Truncating @ 40, latest SV = 4.3634898099925065e-05\n",
      "WARNING:root:Truncating @ 40, latest SV = 1.9445118580730217e-06\n",
      "WARNING:root:Truncating @ 40, latest SV = 2.060669912162998e-08\n"
     ]
    },
    {
     "name": "stdout",
     "output_type": "stream",
     "text": [
      "295 [1, 2, 4, 8, 16, 30, 40, 40, 40, 40, 40, 40, 40, 40, 40, 40, 40, 40, 40, 40, 40, 40, 40, 40, 40, 32, 16, 8, 4, 2, 1]\n",
      "MPS with length 30 and physical d=2\n",
      "chi [1, 6, 12, 24, 48, 90, 120, 120, 120, 120, 120, 120, 120, 120, 120, 120, 120, 120, 120, 120, 120, 120, 120, 120, 120, 96, 48, 24, 12, 6, 1]\n"
     ]
    },
    {
     "name": "stderr",
     "output_type": "stream",
     "text": [
      "WARNING:root:Truncating @ 40, latest SV = 0.001531899757333076\n",
      "WARNING:root:Truncating @ 40, latest SV = 0.0022785878491676957\n",
      "WARNING:root:Truncating @ 40, latest SV = 0.0030514613289150737\n",
      "WARNING:root:Truncating @ 40, latest SV = 0.004042120787401548\n",
      "WARNING:root:Truncating @ 40, latest SV = 0.004425667817594898\n",
      "WARNING:root:Truncating @ 40, latest SV = 0.004757369303169377\n",
      "WARNING:root:Truncating @ 40, latest SV = 0.004598684699295365\n",
      "WARNING:root:Truncating @ 40, latest SV = 0.004799122531137447\n",
      "WARNING:root:Truncating @ 40, latest SV = 0.004357711635361528\n",
      "WARNING:root:Truncating @ 40, latest SV = 0.0036196444667096657\n",
      "WARNING:root:Truncating @ 40, latest SV = 0.002991455362196366\n",
      "WARNING:root:Truncating @ 40, latest SV = 0.002457141756465172\n",
      "WARNING:root:Truncating @ 40, latest SV = 0.001742061300766154\n",
      "WARNING:root:Truncating @ 40, latest SV = 0.0011481348040074041\n",
      "WARNING:root:Truncating @ 40, latest SV = 0.0006514799276685228\n",
      "WARNING:root:Truncating @ 40, latest SV = 0.00015007291661782836\n",
      "WARNING:root:Truncating @ 40, latest SV = 4.575274960398612e-05\n",
      "WARNING:root:Truncating @ 40, latest SV = 2.359907350177095e-06\n",
      "WARNING:root:Truncating @ 40, latest SV = 4.4536951713711726e-08\n"
     ]
    },
    {
     "name": "stdout",
     "output_type": "stream",
     "text": [
      "296 [1, 2, 4, 8, 16, 30, 40, 40, 40, 40, 40, 40, 40, 40, 40, 40, 40, 40, 40, 40, 40, 40, 40, 40, 40, 32, 16, 8, 4, 2, 1]\n",
      "MPS with length 30 and physical d=2\n",
      "chi [1, 6, 12, 24, 48, 90, 120, 120, 120, 120, 120, 120, 120, 120, 120, 120, 120, 120, 120, 120, 120, 120, 120, 120, 120, 96, 48, 24, 12, 6, 1]\n"
     ]
    },
    {
     "name": "stderr",
     "output_type": "stream",
     "text": [
      "WARNING:root:Truncating @ 40, latest SV = 0.0016548813661711702\n",
      "WARNING:root:Truncating @ 40, latest SV = 0.003052513969192411\n",
      "WARNING:root:Truncating @ 40, latest SV = 0.004436521767227828\n",
      "WARNING:root:Truncating @ 40, latest SV = 0.005044952749340676\n",
      "WARNING:root:Truncating @ 40, latest SV = 0.006016598045149065\n",
      "WARNING:root:Truncating @ 40, latest SV = 0.005816974281609628\n",
      "WARNING:root:Truncating @ 40, latest SV = 0.00545751030500358\n",
      "WARNING:root:Truncating @ 40, latest SV = 0.005612083962961255\n",
      "WARNING:root:Truncating @ 40, latest SV = 0.004770864459703758\n",
      "WARNING:root:Truncating @ 40, latest SV = 0.004082947768445823\n",
      "WARNING:root:Truncating @ 40, latest SV = 0.0036456284334040905\n",
      "WARNING:root:Truncating @ 40, latest SV = 0.0028065748143426624\n",
      "WARNING:root:Truncating @ 40, latest SV = 0.0020924704726169806\n",
      "WARNING:root:Truncating @ 40, latest SV = 0.0013814589643244108\n",
      "WARNING:root:Truncating @ 40, latest SV = 0.0007264962254879467\n",
      "WARNING:root:Truncating @ 40, latest SV = 0.0001326302478195188\n",
      "WARNING:root:Truncating @ 40, latest SV = 3.7319614180467294e-05\n",
      "WARNING:root:Truncating @ 40, latest SV = 4.951550789796374e-06\n",
      "WARNING:root:Truncating @ 40, latest SV = 6.381705093480027e-08\n"
     ]
    },
    {
     "name": "stdout",
     "output_type": "stream",
     "text": [
      "297 [1, 2, 4, 8, 16, 30, 40, 40, 40, 40, 40, 40, 40, 40, 40, 40, 40, 40, 40, 40, 40, 40, 40, 40, 40, 32, 16, 8, 4, 2, 1]\n",
      "MPS with length 30 and physical d=2\n",
      "chi [1, 6, 12, 24, 48, 90, 120, 120, 120, 120, 120, 120, 120, 120, 120, 120, 120, 120, 120, 120, 120, 120, 120, 120, 120, 96, 48, 24, 12, 6, 1]\n"
     ]
    },
    {
     "name": "stderr",
     "output_type": "stream",
     "text": [
      "WARNING:root:Truncating @ 40, latest SV = 0.0016329992622780515\n",
      "WARNING:root:Truncating @ 40, latest SV = 0.0029803856716912485\n",
      "WARNING:root:Truncating @ 40, latest SV = 0.0038583886922991554\n",
      "WARNING:root:Truncating @ 40, latest SV = 0.004417641589986239\n",
      "WARNING:root:Truncating @ 40, latest SV = 0.004647680538597183\n",
      "WARNING:root:Truncating @ 40, latest SV = 0.004550156845486387\n",
      "WARNING:root:Truncating @ 40, latest SV = 0.0048001806271281595\n",
      "WARNING:root:Truncating @ 40, latest SV = 0.004384053071440306\n",
      "WARNING:root:Truncating @ 40, latest SV = 0.003936452161733182\n",
      "WARNING:root:Truncating @ 40, latest SV = 0.003487726173082156\n",
      "WARNING:root:Truncating @ 40, latest SV = 0.002798867628848514\n",
      "WARNING:root:Truncating @ 40, latest SV = 0.0024402427833215288\n",
      "WARNING:root:Truncating @ 40, latest SV = 0.0017610455261006688\n",
      "WARNING:root:Truncating @ 40, latest SV = 0.0010864263522657525\n",
      "WARNING:root:Truncating @ 40, latest SV = 0.0003992396984267527\n",
      "WARNING:root:Truncating @ 40, latest SV = 5.311280263074332e-05\n",
      "WARNING:root:Truncating @ 40, latest SV = 1.8263666779123568e-05\n",
      "WARNING:root:Truncating @ 40, latest SV = 1.2464706458407e-06\n",
      "WARNING:root:Truncating @ 40, latest SV = 4.04441511867015e-09\n"
     ]
    },
    {
     "name": "stdout",
     "output_type": "stream",
     "text": [
      "298 [1, 2, 4, 8, 15, 27, 40, 40, 40, 40, 40, 40, 40, 40, 40, 40, 40, 40, 40, 40, 40, 40, 40, 40, 40, 32, 16, 8, 4, 2, 1]\n",
      "MPS with length 30 and physical d=2\n",
      "chi [1, 6, 12, 24, 45, 81, 120, 120, 120, 120, 120, 120, 120, 120, 120, 120, 120, 120, 120, 120, 120, 120, 120, 120, 120, 96, 48, 24, 12, 6, 1]\n"
     ]
    },
    {
     "name": "stderr",
     "output_type": "stream",
     "text": [
      "WARNING:root:Truncating @ 40, latest SV = 0.001527549528002242\n",
      "WARNING:root:Truncating @ 40, latest SV = 0.002431947998687093\n",
      "WARNING:root:Truncating @ 40, latest SV = 0.003609167747410953\n",
      "WARNING:root:Truncating @ 40, latest SV = 0.0042033083355024845\n",
      "WARNING:root:Truncating @ 40, latest SV = 0.004566162998394755\n",
      "WARNING:root:Truncating @ 40, latest SV = 0.004630583398591772\n",
      "WARNING:root:Truncating @ 40, latest SV = 0.004674863161500359\n",
      "WARNING:root:Truncating @ 40, latest SV = 0.004306241062746989\n",
      "WARNING:root:Truncating @ 40, latest SV = 0.004081818405567287\n",
      "WARNING:root:Truncating @ 40, latest SV = 0.0035651458069831704\n",
      "WARNING:root:Truncating @ 40, latest SV = 0.0030731166533993306\n",
      "WARNING:root:Truncating @ 40, latest SV = 0.0025213921005733052\n",
      "WARNING:root:Truncating @ 40, latest SV = 0.0020652443551689814\n",
      "WARNING:root:Truncating @ 40, latest SV = 0.0013463557521976102\n",
      "WARNING:root:Truncating @ 40, latest SV = 0.0007886075677976809\n",
      "WARNING:root:Truncating @ 40, latest SV = 0.000407596681753082\n",
      "WARNING:root:Truncating @ 40, latest SV = 0.00013440826303098006\n",
      "WARNING:root:Truncating @ 40, latest SV = 5.213287795499351e-06\n",
      "WARNING:root:Truncating @ 40, latest SV = 1.461209057443842e-08\n"
     ]
    },
    {
     "name": "stdout",
     "output_type": "stream",
     "text": [
      "299 [1, 2, 4, 8, 15, 27, 40, 40, 40, 40, 40, 40, 40, 40, 40, 40, 40, 40, 40, 40, 40, 40, 40, 40, 40, 32, 16, 8, 4, 2, 1]\n"
     ]
    }
   ],
   "source": [
    "LLL = 30\n",
    "\n",
    "psi = myMPS(randMPS(LLL))\n",
    "\n",
    "o = myMPO(isingMPO(LLL))\n",
    "\n",
    "opsi = applyMPOtoMPS(o, psi)\n",
    "\n",
    "ents = opsi.getEntropies()\n",
    "#print(f\"Entropies = {ents}\")\n",
    "emid = ents[LLL//2]\n",
    "\n",
    "de = 1.\n",
    "\n",
    "iter = []\n",
    "devec = []\n",
    "\n",
    "#while de > 0.01:\n",
    "for j in range(1,300):\n",
    "    opsi = applyMPOtoMPS(o, opsi, chiMax = 40)  # Should return it already canonical\n",
    "    enew = opsi.getEntropies()[LLL//2]\n",
    "    de = emid - enew\n",
    "    #print(f\"Entropies: {emid, enew, de}\")\n",
    "    devec.append(de)\n",
    "    iter.append(j)\n",
    "    emid = enew\n",
    "    print(j, opsi.chis)\n",
    "\n",
    "#print(devec)\n",
    "\n",
    "\n"
   ]
  },
  {
   "cell_type": "code",
   "execution_count": 26,
   "metadata": {},
   "outputs": [
    {
     "data": {
      "text/plain": [
       "[<matplotlib.lines.Line2D at 0x11d3bbd60>]"
      ]
     },
     "execution_count": 26,
     "metadata": {},
     "output_type": "execute_result"
    },
    {
     "data": {
      "image/png": "[encoded data removed]",
      "text/plain": [
       "<Figure size 432x288 with 1 Axes>"
      ]
     },
     "metadata": {
      "needs_background": "light"
     },
     "output_type": "display_data"
    }
   ],
   "source": [
    "import matplotlib.pyplot as plt\n",
    "\n",
    "fig, ax = plt.subplots()\n",
    "ax.plot(iter, devec)"
   ]
  },
  {
   "cell_type": "code",
   "execution_count": null,
   "metadata": {},
   "outputs": [],
   "source": []
  }
 ],
 "metadata": {
  "interpreter": {
   "hash": "aee8b7b246df8f9039afb4144a1f6fd8d2ca17a180786b69acc140d282b71a49"
  },
  "kernelspec": {
   "display_name": "Python 3.9.10 64-bit",
   "language": "python",
   "name": "python3"
  },
  "language_info": {
   "codemirror_mode": {
    "name": "ipython",
    "version": 3
   },
   "file_extension": ".py",
   "mimetype": "text/x-python",
   "name": "python",
   "nbconvert_exporter": "python",
   "pygments_lexer": "ipython3",
   "version": "3.9.13"
  },
  "orig_nbformat": 4
 },
 "nbformat": 4,
 "nbformat_minor": 2
}
