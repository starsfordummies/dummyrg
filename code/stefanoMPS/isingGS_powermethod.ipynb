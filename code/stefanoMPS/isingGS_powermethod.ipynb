{
 "cells": [
  {
   "cell_type": "code",
   "execution_count": 1,
   "metadata": {},
   "outputs": [],
   "source": [
    "import numpy as np\n",
    "import logging\n",
    "\n",
    "\n",
    "import matplotlib.pyplot as plt\n",
    "import myMPSstuff as mps\n",
    "import myMPOstuff as mpo\n",
    "\n",
    "from isingMPO import IsingMPO, OneMinusEpsHIsingMPO, expMinusEpsHIsingMPO\n",
    "\n",
    "from powerMethod import power_method\n",
    "\n",
    "from oned_ising_tenpy import example_DMRG_tf_ising_finite"
   ]
  },
  {
   "cell_type": "code",
   "execution_count": 6,
   "metadata": {},
   "outputs": [
    {
     "name": "stdout",
     "output_type": "stream",
     "text": [
      "finite DMRG, transverse field Ising model\n",
      "L=20, g=0.40\n",
      "E = -19.8900466137288\n",
      "final bond dimensions:  [2, 4, 8, 14, 18, 22, 24, 24, 26, 26, 26, 24, 24, 22, 18, 14, 8, 4, 2]\n",
      "midchainEE: 0.6943389921906786 \n"
     ]
    },
    {
     "ename": "IndexError",
     "evalue": "tuple index out of range",
     "output_type": "error",
     "traceback": [
      "\u001b[0;31m---------------------------------------------------------------------------\u001b[0m",
      "\u001b[0;31mIndexError\u001b[0m                                Traceback (most recent call last)",
      "\u001b[1;32m/Users/uno/TN/dummyrg/code/stefanoMPS/isingGS_powermethod.ipynb Cell 2\u001b[0m in \u001b[0;36m<cell line: 17>\u001b[0;34m()\u001b[0m\n\u001b[1;32m     <a href='vscode-notebook-cell:/Users/uno/TN/dummyrg/code/stefanoMPS/isingGS_powermethod.ipynb#ch0000001?line=11'>12</a>\u001b[0m Smid_tenpy \u001b[39m=\u001b[39m psi_tenpy\u001b[39m.\u001b[39mentanglement_entropy()[(LLL\u001b[39m-\u001b[39m\u001b[39m1\u001b[39m)\u001b[39m/\u001b[39m\u001b[39m/\u001b[39m\u001b[39m2\u001b[39m]\n\u001b[1;32m     <a href='vscode-notebook-cell:/Users/uno/TN/dummyrg/code/stefanoMPS/isingGS_powermethod.ipynb#ch0000001?line=13'>14</a>\u001b[0m \u001b[39m# Now do it with my power method \u001b[39;00m\n\u001b[1;32m     <a href='vscode-notebook-cell:/Users/uno/TN/dummyrg/code/stefanoMPS/isingGS_powermethod.ipynb#ch0000001?line=14'>15</a>\u001b[0m \n\u001b[1;32m     <a href='vscode-notebook-cell:/Users/uno/TN/dummyrg/code/stefanoMPS/isingGS_powermethod.ipynb#ch0000001?line=15'>16</a>\u001b[0m \u001b[39m#psi = mps.myMPS(mps.randMPS(LLL))\u001b[39;00m\n\u001b[0;32m---> <a href='vscode-notebook-cell:/Users/uno/TN/dummyrg/code/stefanoMPS/isingGS_powermethod.ipynb#ch0000001?line=16'>17</a>\u001b[0m psi \u001b[39m=\u001b[39m mps\u001b[39m.\u001b[39;49mmyMPS([np\u001b[39m.\u001b[39;49mones(\u001b[39m2\u001b[39;49m)]\u001b[39m*\u001b[39;49mLLL)\n\u001b[1;32m     <a href='vscode-notebook-cell:/Users/uno/TN/dummyrg/code/stefanoMPS/isingGS_powermethod.ipynb#ch0000001?line=19'>20</a>\u001b[0m Hising \u001b[39m=\u001b[39m mpo\u001b[39m.\u001b[39mmyMPO(IsingMPO(LLL, J\u001b[39m=\u001b[39m\u001b[39m1.\u001b[39m, g\u001b[39m=\u001b[39mgg))\n\u001b[1;32m     <a href='vscode-notebook-cell:/Users/uno/TN/dummyrg/code/stefanoMPS/isingGS_powermethod.ipynb#ch0000001?line=20'>21</a>\u001b[0m Uising \u001b[39m=\u001b[39m mpo\u001b[39m.\u001b[39mmyMPO(OneMinusEpsHIsingMPO(LLL, J\u001b[39m=\u001b[39m\u001b[39m1.\u001b[39m, g\u001b[39m=\u001b[39mgg, eps\u001b[39m=\u001b[39m\u001b[39m0.1\u001b[39m))\n",
      "File \u001b[0;32m~/TN/dummyrg/code/stefanoMPS/myMPSstuff.py:93\u001b[0m, in \u001b[0;36mmyMPS.__init__\u001b[0;34m(self, inputMPS, can)\u001b[0m\n\u001b[1;32m     90\u001b[0m \u001b[39mself\u001b[39m\u001b[39m.\u001b[39midx \u001b[39m=\u001b[39m idx\n\u001b[1;32m     92\u001b[0m \u001b[39m#Physical dimension - we assume it to be constant for the whole MPS\u001b[39;00m\n\u001b[0;32m---> 93\u001b[0m DD \u001b[39m=\u001b[39m np\u001b[39m.\u001b[39;49mshape(inputMPS[\u001b[39m1\u001b[39;49m])[idx[\u001b[39m'\u001b[39;49m\u001b[39mph\u001b[39;49m\u001b[39m'\u001b[39;49m]]  \u001b[39m# not the most elegant way to extract it but eh..\u001b[39;00m\n\u001b[1;32m     95\u001b[0m \u001b[39mself\u001b[39m\u001b[39m.\u001b[39mMPS \u001b[39m=\u001b[39m inputMPS  \n\u001b[1;32m     97\u001b[0m mChi \u001b[39m=\u001b[39m [ np\u001b[39m.\u001b[39mshape(mm)[idx[\u001b[39m'\u001b[39m\u001b[39mvL\u001b[39m\u001b[39m'\u001b[39m]] \u001b[39mfor\u001b[39;00m mm \u001b[39min\u001b[39;00m inputMPS ]\n",
      "\u001b[0;31mIndexError\u001b[0m: tuple index out of range"
     ]
    }
   ],
   "source": [
    "# Apply MPO to MPS operations \n",
    "\n",
    "LLL = 20\n",
    "\n",
    "# maximum chi \n",
    "chiM = 40\n",
    "\n",
    "gg = 0.4\n",
    "\n",
    "# Do it with tenpy \n",
    "E_tenpy, psi_tenpy, _ = example_DMRG_tf_ising_finite(LLL, gg, chiM)\n",
    "Smid_tenpy = psi_tenpy.entanglement_entropy()[(LLL-1)//2]\n",
    "\n",
    "# Now do it with my power method \n",
    "\n",
    "#psi = mps.myMPS(mps.randMPS(LLL))\n",
    "psi = mps.myMPS([np.ones(2)]*LLL)\n",
    "\n",
    "\n",
    "Hising = mpo.myMPO(IsingMPO(LLL, J=1., g=gg))\n",
    "Uising = mpo.myMPO(OneMinusEpsHIsingMPO(LLL, J=1., g=gg, eps=0.1))\n",
    "\n",
    "\n",
    "opsi, iter, ents, devec, energies = power_method(Uising, psi, chiM = chiM, iters = 100, HMPO = Hising)\n",
    "\n",
    "\n",
    "print(ents[-1],energies[-1])\n"
   ]
  },
  {
   "cell_type": "code",
   "execution_count": 3,
   "metadata": {},
   "outputs": [
    {
     "name": "stdout",
     "output_type": "stream",
     "text": [
      "-19.89004597893782\n",
      "2.989004597893783\n"
     ]
    }
   ],
   "source": [
    "print(opsi.expValMPO(Hising))\n",
    "print(opsi.expValMPO(Uising))"
   ]
  },
  {
   "cell_type": "code",
   "execution_count": 4,
   "metadata": {},
   "outputs": [
    {
     "data": {
      "text/plain": [
       "(-0.1, 0.1)"
      ]
     },
     "execution_count": 4,
     "metadata": {},
     "output_type": "execute_result"
    },
    {
     "data": {
      "image/png": "[encoded data removed]",
      "text/plain": [
       "<Figure size 432x288 with 4 Axes>"
      ]
     },
     "metadata": {
      "needs_background": "light"
     },
     "output_type": "display_data"
    }
   ],
   "source": [
    "\n",
    "fig, axe = plt.subplots(2,2)\n",
    "fig.suptitle(f'  g = {gg}')\n",
    "\n",
    "ax = np.ravel(axe)\n",
    "ax[0].set_title('entropies')\n",
    "ax[1].set_title('dS(next-prev)')\n",
    "ax[2].set_title('energy')\n",
    "ax[3].set_title('Egs-Egs_tenpy')\n",
    "\n",
    "\n",
    "ax[0].scatter(iter, ents , s=2)\n",
    "ax[0].hlines(y=Smid_tenpy, xmin=iter[len(iter)//2], xmax=iter[-1], linewidth=2, color='r')\n",
    "\n",
    "ax[1].plot(iter, devec)\n",
    "ax[1].hlines(y=0, xmin=iter[len(iter)//2], xmax=iter[-1], linewidth=2, color='r')\n",
    "\n",
    "ax[2].scatter(iter, energies, s=2)\n",
    "ax[2].hlines(y=E_tenpy, xmin=iter[len(iter)//2], xmax=iter[-1], linewidth=2, color='r')\n",
    "\n",
    "\n",
    "ax[3].plot(iter, [ei - E_tenpy for ei in energies])\n",
    "ax[3].hlines(y=0, xmin=iter[0], xmax=iter[-1], linewidth=2, color='r')\n",
    "ax[3].set_ylim(-0.1,0.1)\n",
    "\n"
   ]
  },
  {
   "cell_type": "markdown",
   "metadata": {},
   "source": [
    "\n",
    "## what if instead we try and apply Hising directly ? \n"
   ]
  },
  {
   "cell_type": "code",
   "execution_count": 5,
   "metadata": {},
   "outputs": [
    {
     "name": "stdout",
     "output_type": "stream",
     "text": [
      "Returning energies as expectation value of the evolution MPO\n"
     ]
    },
    {
     "name": "stderr",
     "output_type": "stream",
     "text": [
      "100, chi/max 60/60: 100%|██████████| 100/100 [00:52<00:00,  1.92it/s]\n",
      "ERROR:root:largest entropy is NOT at midchain! (11 vs 10)\n",
      "ERROR:root:Largest entropy: S(11) = 0.6110956465137042\n",
      "ERROR:root:entropies = [0.0, 0.5392171311462342, 0.5995469542195306, 0.6091603073441133, 0.6107459261371624, 0.6110246125157862, 0.6110787073507453, 0.6110909163830059, 0.6110941514531198, 0.6110951513550473, 0.6110955371616036, 0.6110956465137042, 0.6110951702499777, 0.6110925836755103, 0.6110813917018662, 0.6110291539284222, 0.6107539086849179, 0.6091739110651876, 0.5995608859385253, 0.5392181539623085, 0.0]\n"
     ]
    },
    {
     "name": "stdout",
     "output_type": "stream",
     "text": [
      "max chi reached: 60 (vs. chiMax = 60)\n",
      "0.6110955371616036 -19.885101018923976\n"
     ]
    }
   ],
   "source": [
    "\n",
    "LLL = 20\n",
    "\n",
    "# maximum chi \n",
    "chiM = 60\n",
    "\n",
    "psi = mps.myMPS(mps.randMPS(LLL))\n",
    "\n",
    "opsi, iter, ents, devec, energies = power_method(Hising, psi, chiM = chiM, iters = 100)\n",
    "\n",
    "\n",
    "print(ents[-1],energies[-1])\n",
    "\n",
    "# Now the energy looks good but the entropy is completely off (?)"
   ]
  },
  {
   "cell_type": "code",
   "execution_count": 6,
   "metadata": {},
   "outputs": [
    {
     "data": {
      "text/plain": [
       "(-0.1, 0.1)"
      ]
     },
     "execution_count": 6,
     "metadata": {},
     "output_type": "execute_result"
    },
    {
     "data": {
      "image/png": "[encoded data removed]",
      "text/plain": [
       "<Figure size 432x288 with 4 Axes>"
      ]
     },
     "metadata": {
      "needs_background": "light"
     },
     "output_type": "display_data"
    }
   ],
   "source": [
    "\n",
    "fig, axe = plt.subplots(2,2)\n",
    "fig.suptitle(f'  g = {gg}, applying Hising instead of U~1-eps*H')\n",
    "\n",
    "ax = np.ravel(axe)\n",
    "ax[0].set_title('entropies')\n",
    "ax[1].set_title('dS(next-prev)')\n",
    "ax[2].set_title('energy')\n",
    "ax[3].set_title('Egs-Egs_tenpy')\n",
    "\n",
    "\n",
    "ax[0].scatter(iter, ents , s=2)\n",
    "ax[0].hlines(y=Smid_tenpy, xmin=iter[len(iter)//2], xmax=iter[-1], linewidth=2, color='r')\n",
    "\n",
    "ax[1].plot(iter, devec)\n",
    "ax[1].hlines(y=0, xmin=iter[len(iter)//2], xmax=iter[-1], linewidth=2, color='r')\n",
    "\n",
    "ax[2].scatter(iter, energies, s=2)\n",
    "ax[2].hlines(y=E_tenpy, xmin=iter[len(iter)//2], xmax=iter[-1], linewidth=2, color='r')\n",
    "\n",
    "\n",
    "ax[3].plot(iter, [ei - E_tenpy for ei in energies])\n",
    "ax[3].hlines(y=0, xmin=iter[0], xmax=iter[-1], linewidth=2, color='r')\n",
    "ax[3].set_ylim(-0.1,0.1)\n"
   ]
  },
  {
   "cell_type": "markdown",
   "metadata": {},
   "source": [
    "\n",
    "## Critical Ising (g=1)\n"
   ]
  },
  {
   "cell_type": "code",
   "execution_count": 7,
   "metadata": {},
   "outputs": [
    {
     "name": "stdout",
     "output_type": "stream",
     "text": [
      "finite DMRG, transverse field Ising model\n",
      "L=20, g=1.00\n",
      "E = -25.1077971116238\n",
      "final bond dimensions:  [2, 4, 8, 16, 26, 34, 41, 43, 45, 46, 45, 43, 41, 34, 26, 16, 8, 4, 2]\n",
      "midchainEE: 0.4437994306157701 \n",
      "Ising MPO, parameters: J=1.0 g=1.0,  shapes:\n",
      "[(1, 3, 2, 2), (3, 3, 2, 2), (3, 3, 2, 2), (3, 3, 2, 2), (3, 3, 2, 2), (3, 3, 2, 2), (3, 3, 2, 2), (3, 3, 2, 2), (3, 3, 2, 2), (3, 3, 2, 2), (3, 3, 2, 2), (3, 3, 2, 2), (3, 3, 2, 2), (3, 3, 2, 2), (3, 3, 2, 2), (3, 3, 2, 2), (3, 3, 2, 2), (3, 3, 2, 2), (3, 3, 2, 2), (3, 1, 2, 2)]\n"
     ]
    },
    {
     "name": "stderr",
     "output_type": "stream",
     "text": [
      "300, chi/max 59/60: 100%|██████████| 300/300 [03:46<00:00,  1.33it/s]"
     ]
    },
    {
     "name": "stdout",
     "output_type": "stream",
     "text": [
      "max chi reached: 60 (vs. chiMax = 60)\n",
      "0.44206001376593845 -25.10777588549346\n"
     ]
    },
    {
     "name": "stderr",
     "output_type": "stream",
     "text": [
      "\n"
     ]
    }
   ],
   "source": [
    "\n",
    "LLL = 20\n",
    "\n",
    "# maximum chi \n",
    "chiM = 60\n",
    "\n",
    "gg = 1.\n",
    "\n",
    "\n",
    "# Do it with tenpy \n",
    "E_tenpy, psi_tenpy, _ = example_DMRG_tf_ising_finite(LLL, gg, chiM)\n",
    "Smid_tenpy = psi_tenpy.entanglement_entropy()[(LLL-1)//2]\n",
    "\n",
    "\n",
    "\n",
    "# my power method \n",
    "\n",
    "psi = mps.myMPS(mps.randMPS(LLL))\n",
    "\n",
    "\n",
    "Hising = mpo.myMPO(IsingMPO(LLL, J=1.0, g=gg))\n",
    "Uising = mpo.myMPO(OneMinusEpsHIsingMPO(LLL, J=1., g=gg, eps=0.1))\n",
    "\n",
    "\n",
    "opsi, iter, ents, devec, energies = power_method(Uising, psi, chiM = chiM, iters = 300, HMPO = Hising)\n",
    "\n",
    "\n",
    "print(ents[-1],energies[-1])\n"
   ]
  },
  {
   "cell_type": "code",
   "execution_count": 8,
   "metadata": {},
   "outputs": [
    {
     "data": {
      "text/plain": [
       "<matplotlib.collections.LineCollection at 0x123cf8940>"
      ]
     },
     "execution_count": 8,
     "metadata": {},
     "output_type": "execute_result"
    },
    {
     "data": {
      "image/png": "[encoded data removed]",
      "text/plain": [
       "<Figure size 432x288 with 4 Axes>"
      ]
     },
     "metadata": {
      "needs_background": "light"
     },
     "output_type": "display_data"
    }
   ],
   "source": [
    "\n",
    "fig, axe = plt.subplots(2,2)\n",
    "fig.suptitle(f'  g = {gg}')\n",
    "\n",
    "ax = np.ravel(axe)\n",
    "ax[0].set_title('entropies')\n",
    "ax[1].set_title('dS(next-prev)')\n",
    "ax[2].set_title('energy')\n",
    "ax[3].set_title('Egs-Egs_tenpy')\n",
    "\n",
    "\n",
    "ax[0].scatter(iter, ents , s=2)\n",
    "ax[0].hlines(y=Smid_tenpy, xmin=iter[len(iter)//2], xmax=iter[-1], linewidth=2, color='r')\n",
    "\n",
    "ax[1].plot(iter, devec)\n",
    "ax[1].hlines(y=0, xmin=iter[len(iter)//2], xmax=iter[-1], linewidth=2, color='r')\n",
    "\n",
    "ax[2].scatter(iter, energies, s=2)\n",
    "ax[2].hlines(y=E_tenpy, xmin=iter[len(iter)//2], xmax=iter[-1], linewidth=2, color='r')\n",
    "\n",
    "\n",
    "ax[3].plot(iter, [ei - E_tenpy for ei in energies])\n",
    "ax[3].hlines(y=0, xmin=iter[len(iter)//2], xmax=iter[-1], linewidth=2, color='r')\n"
   ]
  },
  {
   "cell_type": "code",
   "execution_count": 9,
   "metadata": {},
   "outputs": [
    {
     "name": "stdout",
     "output_type": "stream",
     "text": [
      "finite DMRG, transverse field Ising model\n",
      "L=4, g=0.90\n",
      "E = -4.4426730871153\n",
      "final bond dimensions:  [2, 4, 2]\n",
      "midchainEE: 0.33445817829069296 \n",
      "Ising MPO, parameters: J=1.0 g=0.9,  shapes:\n",
      "[(1, 3, 2, 2), (3, 3, 2, 2), (3, 3, 2, 2), (3, 1, 2, 2)]\n"
     ]
    },
    {
     "name": "stderr",
     "output_type": "stream",
     "text": [
      "200, chi/max 4/5: 100%|██████████| 200/200 [00:07<00:00, 27.56it/s]"
     ]
    },
    {
     "name": "stdout",
     "output_type": "stream",
     "text": [
      "max chi reached: 5 (vs. chiMax = 60)\n",
      "0.3344581784369366 1.444267308686466\n"
     ]
    },
    {
     "name": "stderr",
     "output_type": "stream",
     "text": [
      "\n"
     ]
    }
   ],
   "source": [
    "#New data to check N=4 delta_t =0.1 c_g =0.9\n",
    "#MPO expected value 1.56831482176985\n",
    "#Entropy mid chain 0.332330405177682\n",
    "\n",
    "# Apply MPO to MPS operations \n",
    "\n",
    "LLL = 4\n",
    "\n",
    "# maximum chi \n",
    "chiM = 60\n",
    "\n",
    "gg = 0.9\n",
    "\n",
    "# Do it with tenpy \n",
    "E_tenpy, psi_tenpy, _ = example_DMRG_tf_ising_finite(LLL, gg, chiM)\n",
    "Smid_tenpy = psi_tenpy.entanglement_entropy()[(LLL-1)//2]\n",
    "\n",
    "# Now do it with my power method \n",
    "\n",
    "psi = mps.myMPS(mps.randMPS(LLL))\n",
    "\n",
    "\n",
    "Hising = mpo.myMPO(IsingMPO(LLL, J=1., g=gg))\n",
    "Uising = mpo.myMPO(OneMinusEpsHIsingMPO(LLL, J=1., g=gg, eps=0.1))\n",
    "\n",
    "\n",
    "opsi, iter, ents, devec, energies = power_method(Uising, psi, chiM = chiM, iters = 200, HMPO = Uising)\n",
    "\n",
    "\n",
    "print(ents[-1],energies[-1])\n"
   ]
  },
  {
   "cell_type": "code",
   "execution_count": 11,
   "metadata": {},
   "outputs": [
    {
     "data": {
      "text/plain": [
       "array(1.44426731)"
      ]
     },
     "execution_count": 11,
     "metadata": {},
     "output_type": "execute_result"
    }
   ],
   "source": [
    "opsi.expValMPO(Uising)"
   ]
  },
  {
   "cell_type": "code",
   "execution_count": 12,
   "metadata": {},
   "outputs": [
    {
     "name": "stdout",
     "output_type": "stream",
     "text": [
      "finite DMRG, transverse field Ising model\n",
      "L=20, g=1.10\n",
      "E = -26.5698390057306\n",
      "final bond dimensions:  [2, 4, 8, 16, 26, 33, 37, 40, 42, 42, 42, 40, 37, 33, 26, 16, 8, 4, 2]\n",
      "midchainEE: 0.3224763897168084 \n",
      "Ising MPO, parameters: J=1.0 g=1.1,  shapes:\n",
      "[(1, 3, 2, 2), (3, 3, 2, 2), (3, 3, 2, 2), (3, 3, 2, 2), (3, 3, 2, 2), (3, 3, 2, 2), (3, 3, 2, 2), (3, 3, 2, 2), (3, 3, 2, 2), (3, 3, 2, 2), (3, 3, 2, 2), (3, 3, 2, 2), (3, 3, 2, 2), (3, 3, 2, 2), (3, 3, 2, 2), (3, 3, 2, 2), (3, 3, 2, 2), (3, 3, 2, 2), (3, 3, 2, 2), (3, 1, 2, 2)]\n"
     ]
    },
    {
     "name": "stderr",
     "output_type": "stream",
     "text": [
      "100, chi/max 50/50: 100%|██████████| 100/100 [00:23<00:00,  4.30it/s]"
     ]
    },
    {
     "name": "stdout",
     "output_type": "stream",
     "text": [
      "max chi reached: 50 (vs. chiMax = 50)\n",
      "0.32069461563814256 -26.569105216410247\n"
     ]
    },
    {
     "name": "stderr",
     "output_type": "stream",
     "text": [
      "\n"
     ]
    }
   ],
   "source": [
    "LLL = 20\n",
    "\n",
    "# maximum chi \n",
    "chiM = 50\n",
    "\n",
    "gg = 1.1\n",
    "\n",
    "# Do it with tenpy \n",
    "E_tenpy, psi_tenpy, _ = example_DMRG_tf_ising_finite(LLL, gg, chiM)\n",
    "Smid_tenpy = psi_tenpy.entanglement_entropy()[(LLL-1)//2]\n",
    "\n",
    "# Now do it with my power method \n",
    "\n",
    "psi = mps.myMPS(mps.randMPS(LLL))\n",
    "\n",
    "\n",
    "Hising = mpo.myMPO(IsingMPO(LLL, J=1., g=gg))\n",
    "Uising = mpo.myMPO(expMinusEpsHIsingMPO(LLL, J=1., g=gg, eps=0.1, mode=\"svd\"))\n",
    "\n",
    "\n",
    "opsi, iter, ents, devec, energies = power_method(Uising, psi, chiM = chiM, iters = 100, HMPO= Hising)\n",
    "\n",
    "\n",
    "print(ents[-1],energies[-1])"
   ]
  },
  {
   "cell_type": "code",
   "execution_count": 14,
   "metadata": {},
   "outputs": [
    {
     "name": "stdout",
     "output_type": "stream",
     "text": [
      "True\n",
      "[[[ 0.00000000e+00  0.00000000e+00]\n",
      "  [ 0.00000000e+00  0.00000000e+00]]\n",
      "\n",
      " [[ 0.00000000e+00 -3.47469581e-18]\n",
      "  [-3.05465283e-18 -5.55111512e-17]]]\n"
     ]
    }
   ],
   "source": [
    "testsvd = expMinusEpsHIsingMPO(5, J=1., g=1.1, eps=0.1, mode=\"svd\")\n",
    "np.shape(testsvd[-1])\n",
    "fi=testsvd[0].reshape(2,2,2)\n",
    "la=testsvd[-1].reshape(2,2,2)\n",
    "print(np.all(fi-la < 1e-14))\n",
    "print(fi-la)"
   ]
  },
  {
   "cell_type": "code",
   "execution_count": null,
   "metadata": {},
   "outputs": [],
   "source": []
  }
 ],
 "metadata": {
  "kernelspec": {
   "display_name": "Python 3.9.13 64-bit",
   "language": "python",
   "name": "python3"
  },
  "language_info": {
   "codemirror_mode": {
    "name": "ipython",
    "version": 3
   },
   "file_extension": ".py",
   "mimetype": "text/x-python",
   "name": "python",
   "nbconvert_exporter": "python",
   "pygments_lexer": "ipython3",
   "version": "3.9.13"
  },
  "orig_nbformat": 4,
  "vscode": {
   "interpreter": {
    "hash": "aee8b7b246df8f9039afb4144a1f6fd8d2ca17a180786b69acc140d282b71a49"
   }
  }
 },
 "nbformat": 4,
 "nbformat_minor": 2
}
