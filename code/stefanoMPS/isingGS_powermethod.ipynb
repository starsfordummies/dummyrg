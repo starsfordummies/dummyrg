{
 "cells": [
  {
   "cell_type": "code",
   "execution_count": 1,
   "metadata": {},
   "outputs": [],
   "source": [
    "import numpy as np\n",
    "\n",
    "import matplotlib.pyplot as plt\n",
    "import myMPSstuff as mps\n",
    "import myMPOstuff as mpo\n",
    "import applMPOMPS as mpomps\n",
    "\n",
    "from isingMPO import IsingMPO, OneMinusEpsHIsingMPO, expMinusEpsHIsingMPO\n",
    "\n",
    "from powerMethod import power_method\n",
    "\n",
    "from oned_ising_tenpy import example_DMRG_tf_ising_finite"
   ]
  },
  {
   "cell_type": "code",
   "execution_count": 2,
   "metadata": {},
   "outputs": [
    {
     "name": "stdout",
     "output_type": "stream",
     "text": [
      "finite DMRG, transverse field Ising model\n",
      "L=20, g=0.40\n",
      "E = -19.8900466137288\n",
      "final bond dimensions:  [2, 4, 8, 14, 18, 22, 24, 24, 26, 26, 26, 24, 24, 22, 18, 14, 8, 4, 2]\n",
      "midchainEE: 0.6943389921906786 \n"
     ]
    },
    {
     "name": "stderr",
     "output_type": "stream",
     "text": [
      "100, chi/max 34/40: 100%|██████████| 100/100 [00:32<00:00,  3.11it/s]\n",
      "WARNING:root:largest entropy is NOT at midchain! (12 vs 10)\n",
      "WARNING:root:Largest entropy: S(12) = 0.6454247752618066\n",
      "WARNING:root:entropies = [0.0, 0.5683489793344245, 0.6315110078535677, 0.6423920515528158, 0.6446052809281008, 0.6451580032252892, 0.6453257168959089, 0.6453834104241599, 0.6454042512194905, 0.6454123805439881, 0.6454174092052561, 0.6454217812274777, 0.6454247752618066, 0.6454196413062224, 0.6453844411725758, 0.6452447678740051, 0.6447203999262378, 0.6425330600047738, 0.631673565212621, 0.5685221004576086, 0.0]\n"
     ]
    },
    {
     "name": "stdout",
     "output_type": "stream",
     "text": [
      "max chi reached(/max): 40/40, final dSmid = 3.0115335163838353e-05\n",
      "0.6454174092052561 -19.88753232529777\n"
     ]
    }
   ],
   "source": [
    "# Apply MPO to MPS operations \n",
    "\n",
    "LLL = 20\n",
    "\n",
    "# maximum chi \n",
    "chiM = 40\n",
    "\n",
    "gg = 0.4\n",
    "\n",
    "# Do it with tenpy \n",
    "E_tenpy, psi_tenpy, _ = example_DMRG_tf_ising_finite(LLL, gg, chiM)\n",
    "Smid_tenpy = psi_tenpy.entanglement_entropy()[(LLL-1)//2]\n",
    "\n",
    "# Now do it with my power method \n",
    "\n",
    "psi = mps.myMPS(mps.randMPS(LLL))\n",
    "#psi = mps.myMPS([np.ones(2)]*LLL)\n",
    "\n",
    "\n",
    "Hising = mpo.myMPO(IsingMPO(LLL, J=1., g=gg))\n",
    "Uising = mpo.myMPO(OneMinusEpsHIsingMPO(LLL, J=1., g=gg, eps=0.1))\n",
    "\n",
    "\n",
    "opsi, iter, ents, devec, energies = power_method(Uising, psi, chiM = chiM, iters = 100, HMPO = Hising)\n",
    "\n",
    "\n",
    "print(ents[-1],energies[-1])\n"
   ]
  },
  {
   "cell_type": "code",
   "execution_count": 3,
   "metadata": {},
   "outputs": [
    {
     "name": "stdout",
     "output_type": "stream",
     "text": [
      "-19.88753232529777\n",
      "2.988753232529775\n"
     ]
    }
   ],
   "source": [
    "print(mpomps.expValMPO(opsi,Hising))\n",
    "print(mpomps.expValMPO(opsi,Uising))"
   ]
  },
  {
   "cell_type": "code",
   "execution_count": 4,
   "metadata": {},
   "outputs": [
    {
     "data": {
      "text/plain": [
       "(-0.1, 0.1)"
      ]
     },
     "execution_count": 4,
     "metadata": {},
     "output_type": "execute_result"
    },
    {
     "data": {
      "image/png": "[encoded data removed]",
      "text/plain": [
       "<Figure size 432x288 with 4 Axes>"
      ]
     },
     "metadata": {
      "needs_background": "light"
     },
     "output_type": "display_data"
    }
   ],
   "source": [
    "\n",
    "fig, axe = plt.subplots(2,2)\n",
    "fig.suptitle(f'  g = {gg}')\n",
    "\n",
    "ax = np.ravel(axe)\n",
    "ax[0].set_title('entropies')\n",
    "ax[1].set_title('dS(next-prev)')\n",
    "ax[2].set_title('energy')\n",
    "ax[3].set_title('Egs-Egs_tenpy')\n",
    "\n",
    "\n",
    "ax[0].scatter(iter, ents , s=2)\n",
    "ax[0].hlines(y=Smid_tenpy, xmin=iter[len(iter)//2], xmax=iter[-1], linewidth=2, color='r')\n",
    "\n",
    "ax[1].plot(iter, devec)\n",
    "ax[1].hlines(y=0, xmin=iter[len(iter)//2], xmax=iter[-1], linewidth=2, color='r')\n",
    "\n",
    "ax[2].scatter(iter, energies, s=2)\n",
    "ax[2].hlines(y=E_tenpy, xmin=iter[len(iter)//2], xmax=iter[-1], linewidth=2, color='r')\n",
    "\n",
    "\n",
    "ax[3].plot(iter, [ei - E_tenpy for ei in energies])\n",
    "ax[3].hlines(y=0, xmin=iter[0], xmax=iter[-1], linewidth=2, color='r')\n",
    "ax[3].set_ylim(-0.1,0.1)\n",
    "\n"
   ]
  },
  {
   "cell_type": "markdown",
   "metadata": {},
   "source": [
    "\n",
    "## what if instead we try and apply Hising directly ? \n"
   ]
  },
  {
   "cell_type": "code",
   "execution_count": 5,
   "metadata": {},
   "outputs": [
    {
     "name": "stdout",
     "output_type": "stream",
     "text": [
      "Returning energies as expectation value of the evolution MPO\n"
     ]
    },
    {
     "name": "stderr",
     "output_type": "stream",
     "text": [
      "100, chi/max 48/60: 100%|██████████| 100/100 [00:52<00:00,  1.90it/s]\n",
      "WARNING:root:largest entropy is NOT at midchain! (11 vs 10)\n",
      "WARNING:root:Largest entropy: S(11) = 0.6576658827944526\n",
      "WARNING:root:entropies = [0.0, 0.5800671815709799, 0.6452475229480279, 0.6555811908825326, 0.6572842998458864, 0.6575850313553745, 0.657644517905168, 0.6576587588157119, 0.6576631140898794, 0.6576648359784787, 0.6576656479926, 0.6576658827944526, 0.657665185328813, 0.6576618705163632, 0.6576487785052797, 0.6575905801141094, 0.657291068820032, 0.6555885866843034, 0.6452472492157859, 0.5800509626911085, 0.0]\n"
     ]
    },
    {
     "name": "stdout",
     "output_type": "stream",
     "text": [
      "max chi reached(/max): 60/60, final dSmid = 7.613682881935091e-07\n",
      "0.6576656479926 -19.883080330358187\n"
     ]
    }
   ],
   "source": [
    "\n",
    "LLL = 20\n",
    "\n",
    "# maximum chi \n",
    "chiM = 60\n",
    "\n",
    "psi = mps.myMPS(mps.randMPS(LLL))\n",
    "\n",
    "opsi, iter, ents, devec, energies = power_method(Hising, psi, chiM = chiM, iters = 100)\n",
    "\n",
    "\n",
    "print(ents[-1],energies[-1])\n"
   ]
  },
  {
   "cell_type": "code",
   "execution_count": 6,
   "metadata": {},
   "outputs": [
    {
     "data": {
      "text/plain": [
       "(-0.1, 0.1)"
      ]
     },
     "execution_count": 6,
     "metadata": {},
     "output_type": "execute_result"
    },
    {
     "data": {
      "image/png": "[encoded data removed]",
      "text/plain": [
       "<Figure size 432x288 with 4 Axes>"
      ]
     },
     "metadata": {
      "needs_background": "light"
     },
     "output_type": "display_data"
    }
   ],
   "source": [
    "\n",
    "fig, axe = plt.subplots(2,2)\n",
    "fig.suptitle(f'  g = {gg}, applying Hising instead of U~1-eps*H')\n",
    "\n",
    "ax = np.ravel(axe)\n",
    "ax[0].set_title('entropies')\n",
    "ax[1].set_title('dS(next-prev)')\n",
    "ax[2].set_title('energy')\n",
    "ax[3].set_title('Egs-Egs_tenpy')\n",
    "\n",
    "\n",
    "ax[0].scatter(iter, ents , s=2)\n",
    "ax[0].hlines(y=Smid_tenpy, xmin=iter[len(iter)//2], xmax=iter[-1], linewidth=2, color='r')\n",
    "\n",
    "ax[1].plot(iter, devec)\n",
    "ax[1].hlines(y=0, xmin=iter[len(iter)//2], xmax=iter[-1], linewidth=2, color='r')\n",
    "\n",
    "ax[2].scatter(iter, energies, s=2)\n",
    "ax[2].hlines(y=E_tenpy, xmin=iter[len(iter)//2], xmax=iter[-1], linewidth=2, color='r')\n",
    "\n",
    "\n",
    "ax[3].plot(iter, [ei - E_tenpy for ei in energies])\n",
    "ax[3].hlines(y=0, xmin=iter[0], xmax=iter[-1], linewidth=2, color='r')\n",
    "ax[3].set_ylim(-0.1,0.1)\n"
   ]
  },
  {
   "cell_type": "markdown",
   "metadata": {},
   "source": [
    "\n",
    "## Critical Ising (g=1)\n"
   ]
  },
  {
   "cell_type": "code",
   "execution_count": 7,
   "metadata": {},
   "outputs": [
    {
     "name": "stdout",
     "output_type": "stream",
     "text": [
      "finite DMRG, transverse field Ising model\n",
      "L=20, g=1.00\n",
      "E = -25.1077971116238\n",
      "final bond dimensions:  [2, 4, 8, 16, 26, 34, 41, 43, 45, 46, 45, 43, 41, 34, 26, 16, 8, 4, 2]\n",
      "midchainEE: 0.4437994306157701 \n"
     ]
    },
    {
     "name": "stderr",
     "output_type": "stream",
     "text": [
      "300, chi/max 42/60: 100%|██████████| 300/300 [01:51<00:00,  2.68it/s]"
     ]
    },
    {
     "name": "stdout",
     "output_type": "stream",
     "text": [
      "max chi reached(/max): 60/60, final dSmid = 3.427141712636361e-05\n",
      "0.44163744042424186 -25.107676222193675\n"
     ]
    },
    {
     "name": "stderr",
     "output_type": "stream",
     "text": [
      "\n"
     ]
    }
   ],
   "source": [
    "\n",
    "LLL = 20\n",
    "\n",
    "# maximum chi \n",
    "chiM = 60\n",
    "\n",
    "gg = 1.\n",
    "\n",
    "\n",
    "# Do it with tenpy \n",
    "E_tenpy, psi_tenpy, _ = example_DMRG_tf_ising_finite(LLL, gg, chiM)\n",
    "Smid_tenpy = psi_tenpy.entanglement_entropy()[(LLL-1)//2]\n",
    "\n",
    "\n",
    "\n",
    "# my power method \n",
    "\n",
    "psi = mps.myMPS(mps.randMPS(LLL))\n",
    "\n",
    "\n",
    "Hising = mpo.myMPO(IsingMPO(LLL, J=1.0, g=gg))\n",
    "Uising = mpo.myMPO(OneMinusEpsHIsingMPO(LLL, J=1., g=gg, eps=0.1))\n",
    "\n",
    "\n",
    "opsi, iter, ents, devec, energies = power_method(Uising, psi, chiM = chiM, iters = 300, HMPO = Hising)\n",
    "\n",
    "\n",
    "print(ents[-1],energies[-1])\n"
   ]
  },
  {
   "cell_type": "code",
   "execution_count": 8,
   "metadata": {},
   "outputs": [
    {
     "data": {
      "text/plain": [
       "<matplotlib.collections.LineCollection at 0x1164522b0>"
      ]
     },
     "execution_count": 8,
     "metadata": {},
     "output_type": "execute_result"
    },
    {
     "data": {
      "image/png": "[encoded data removed]",
      "text/plain": [
       "<Figure size 432x288 with 4 Axes>"
      ]
     },
     "metadata": {
      "needs_background": "light"
     },
     "output_type": "display_data"
    }
   ],
   "source": [
    "\n",
    "fig, axe = plt.subplots(2,2)\n",
    "fig.suptitle(f'  g = {gg}')\n",
    "\n",
    "ax = np.ravel(axe)\n",
    "ax[0].set_title('entropies')\n",
    "ax[1].set_title('dS(next-prev)')\n",
    "ax[2].set_title('energy')\n",
    "ax[3].set_title('Egs-Egs_tenpy')\n",
    "\n",
    "\n",
    "ax[0].scatter(iter, ents , s=2)\n",
    "ax[0].hlines(y=Smid_tenpy, xmin=iter[len(iter)//2], xmax=iter[-1], linewidth=2, color='r')\n",
    "\n",
    "ax[1].plot(iter, devec)\n",
    "ax[1].hlines(y=0, xmin=iter[len(iter)//2], xmax=iter[-1], linewidth=2, color='r')\n",
    "\n",
    "ax[2].scatter(iter, energies, s=2)\n",
    "ax[2].hlines(y=E_tenpy, xmin=iter[len(iter)//2], xmax=iter[-1], linewidth=2, color='r')\n",
    "\n",
    "\n",
    "ax[3].plot(iter, [ei - E_tenpy for ei in energies])\n",
    "ax[3].hlines(y=0, xmin=iter[len(iter)//2], xmax=iter[-1], linewidth=2, color='r')\n"
   ]
  },
  {
   "cell_type": "code",
   "execution_count": 9,
   "metadata": {},
   "outputs": [
    {
     "name": "stdout",
     "output_type": "stream",
     "text": [
      "finite DMRG, transverse field Ising model\n",
      "L=4, g=0.90\n",
      "E = -4.4426730871153\n",
      "final bond dimensions:  [2, 4, 2]\n",
      "midchainEE: 0.33445817829069296 \n"
     ]
    },
    {
     "name": "stderr",
     "output_type": "stream",
     "text": [
      "200, chi/max 4/5: 100%|██████████| 200/200 [00:06<00:00, 29.62it/s]"
     ]
    },
    {
     "name": "stdout",
     "output_type": "stream",
     "text": [
      "max chi reached(/max): 5/60, final dSmid = 3.981326379687289e-11\n",
      "0.3344581777889018 1.4442673086027906\n"
     ]
    },
    {
     "name": "stderr",
     "output_type": "stream",
     "text": [
      "\n"
     ]
    }
   ],
   "source": [
    "#New data to check N=4 delta_t =0.1 c_g =0.9\n",
    "#MPO expected value 1.56831482176985\n",
    "#Entropy mid chain 0.332330405177682\n",
    "\n",
    "# Apply MPO to MPS operations \n",
    "\n",
    "LLL = 4\n",
    "\n",
    "# maximum chi \n",
    "chiM = 60\n",
    "\n",
    "gg = 0.9\n",
    "\n",
    "# Do it with tenpy \n",
    "E_tenpy, psi_tenpy, _ = example_DMRG_tf_ising_finite(LLL, gg, chiM)\n",
    "Smid_tenpy = psi_tenpy.entanglement_entropy()[(LLL-1)//2]\n",
    "\n",
    "# Now do it with my power method \n",
    "\n",
    "psi = mps.myMPS(mps.randMPS(LLL))\n",
    "\n",
    "\n",
    "Hising = mpo.myMPO(IsingMPO(LLL, J=1., g=gg))\n",
    "Uising = mpo.myMPO(OneMinusEpsHIsingMPO(LLL, J=1., g=gg, eps=0.1))\n",
    "\n",
    "\n",
    "opsi, iter, ents, devec, energies = power_method(Uising, psi, chiM = chiM, iters = 200, HMPO = Uising)\n",
    "\n",
    "\n",
    "print(ents[-1],energies[-1])\n"
   ]
  },
  {
   "cell_type": "code",
   "execution_count": 11,
   "metadata": {},
   "outputs": [
    {
     "data": {
      "text/plain": [
       "array(1.44426731)"
      ]
     },
     "execution_count": 11,
     "metadata": {},
     "output_type": "execute_result"
    }
   ],
   "source": [
    "mpomps.expValMPO(opsi,Uising)"
   ]
  },
  {
   "cell_type": "code",
   "execution_count": null,
   "metadata": {},
   "outputs": [],
   "source": [
    "LLL = 20\n",
    "\n",
    "# maximum chi \n",
    "chiM = 50\n",
    "\n",
    "gg = 1.1\n",
    "\n",
    "# Do it with tenpy \n",
    "E_tenpy, psi_tenpy, _ = example_DMRG_tf_ising_finite(LLL, gg, chiM)\n",
    "Smid_tenpy = psi_tenpy.entanglement_entropy()[(LLL-1)//2]\n",
    "\n",
    "# Now do it with my power method \n",
    "\n",
    "psi = mps.myMPS(mps.randMPS(LLL))\n",
    "\n",
    "\n",
    "Hising = mpo.myMPO(IsingMPO(LLL, J=1., g=gg))\n",
    "Uising = mpo.myMPO(expMinusEpsHIsingMPO(LLL, J=1., g=gg, eps=0.1, mode=\"svd\"))\n",
    "\n",
    "\n",
    "opsi, iter, ents, devec, energies = power_method(Uising, psi, chiM = chiM, iters = 100, HMPO= Hising)\n",
    "\n",
    "\n",
    "print(ents[-1],energies[-1])"
   ]
  },
  {
   "cell_type": "code",
   "execution_count": null,
   "metadata": {},
   "outputs": [],
   "source": [
    "testsvd = expMinusEpsHIsingMPO(5, J=1., g=1.1, eps=0.1, mode=\"svd\")\n",
    "np.shape(testsvd[-1])\n",
    "fi=testsvd[0].reshape(2,2,2)\n",
    "la=testsvd[-1].reshape(2,2,2)\n",
    "print(np.all(fi-la < 1e-14))\n",
    "print(fi-la)"
   ]
  },
  {
   "cell_type": "code",
   "execution_count": null,
   "metadata": {},
   "outputs": [],
   "source": []
  }
 ],
 "metadata": {
  "kernelspec": {
   "display_name": "Python 3.9.13 64-bit",
   "language": "python",
   "name": "python3"
  },
  "language_info": {
   "codemirror_mode": {
    "name": "ipython",
    "version": 3
   },
   "file_extension": ".py",
   "mimetype": "text/x-python",
   "name": "python",
   "nbconvert_exporter": "python",
   "pygments_lexer": "ipython3",
   "version": "3.9.13"
  },
  "orig_nbformat": 4,
  "vscode": {
   "interpreter": {
    "hash": "aee8b7b246df8f9039afb4144a1f6fd8d2ca17a180786b69acc140d282b71a49"
   }
  }
 },
 "nbformat": 4,
 "nbformat_minor": 2
}
