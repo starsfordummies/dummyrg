{
 "cells": [
  {
   "cell_type": "code",
   "execution_count": 1,
   "metadata": {},
   "outputs": [],
   "source": [
    "import matplotlib.pyplot as plt\n",
    "\n",
    "import myMPSstuff as mps\n",
    "import myMPOstuff as mpo\n",
    "import rotfoldMPO as rf\n",
    "from powerMethod import power_method"
   ]
  },
  {
   "cell_type": "code",
   "execution_count": 2,
   "metadata": {},
   "outputs": [
    {
     "name": "stdout",
     "output_type": "stream",
     "text": [
      "**Unfolded MPO - time evolution up to t=1.0 in steps of 0.1\n",
      "MPO length = 20\n",
      "Building **IMAG** time evol MPO with dtau = i dt\n",
      "Using SVD decomposition\n",
      "flip&conj elem 10/19\n",
      "(2, 2, 2, 2)\n",
      "flip&conj elem 11/19\n",
      "(2, 2, 2, 2)\n",
      "flip&conj elem 12/19\n",
      "(2, 2, 2, 2)\n",
      "flip&conj elem 13/19\n",
      "(2, 2, 2, 2)\n",
      "flip&conj elem 14/19\n",
      "(2, 2, 2, 2)\n",
      "flip&conj elem 15/19\n",
      "(2, 2, 2, 2)\n",
      "flip&conj elem 16/19\n",
      "(2, 2, 2, 2)\n",
      "flip&conj elem 17/19\n",
      "(2, 2, 2, 2)\n",
      "flip&conj elem 18/19\n",
      "(2, 2, 2, 2)\n",
      "flip&conj elem 19/19\n",
      "(2, 2, 1, 2)\n",
      "Returning energies as expectation value of the evolution MPO\n"
     ]
    },
    {
     "name": "stderr",
     "output_type": "stream",
     "text": [
      "100, chi/max 17/17: 100%|██████████| 100/100 [00:14<00:00,  6.80it/s]\n"
     ]
    },
    {
     "name": "stdout",
     "output_type": "stream",
     "text": [
      "max chi reached: 17 (vs. chiMax = 100)\n",
      "Final chis: [1, 2, 4, 8, 12, 14, 16, 16, 17, 17, 17, 17, 17, 16, 16, 14, 12, 8, 4, 2, 1]\n",
      "Final entropies: [0.0, 0.11920146364944431, 0.18348153811945211, 0.2267123022052615, 0.25758248079315677, 0.2802003942326273, 0.29681761447358884, 0.30875863800812087, 0.31682578492587465, 0.32149714324043743, 0.3230275553239852, 0.3214971432404366, 0.3168257849258725, 0.3087586380081194, 0.29681761447358745, 0.2802003942326261, 0.25758248079315643, 0.22671230220526087, 0.18348153811944884, 0.11920146364944283, 0.0]\n",
      "final en = 9.97215714893957, ent = 0.3230275553239852\n"
     ]
    }
   ],
   "source": [
    "LL = 20\n",
    "chiM = 100\n",
    "mygz = 0.9\n",
    "\n",
    "rules = {\n",
    "    \"ttype\" : \"imag\",\n",
    "    \"mmode\" : \"svd\",\n",
    "    \"fold\" : False\n",
    "}\n",
    "\n",
    "\n",
    "rMPO = mpo.myMPO( rf.buildRotFoldMPO(Tmax = 1., dt = 0.1, gz=mygz, rules=rules) )\n",
    "tryState = mps.myMPS(mps.randMPS(LL=rMPO.LL, chi=10, d=rMPO.DD))\n",
    "\n",
    "\n",
    "ifPsi, iter, ents, devec, energies = power_method(rMPO, tryState, chiM, iters=100)\n",
    "\n",
    "finalEntropies = ifPsi.getEntropies()\n",
    "print(f\"Final chis: {ifPsi.chis}\")\n",
    "print(f\"Final entropies: {finalEntropies}\")\n",
    "#print(devec)\n",
    "\n",
    "print(f\"final en = {energies[-1]}, ent = {ents[-1]}\")"
   ]
  },
  {
   "cell_type": "code",
   "execution_count": 5,
   "metadata": {},
   "outputs": [
    {
     "name": "stdout",
     "output_type": "stream",
     "text": [
      "**Unfolded MPO - time evolution up to t=1.0 in steps of 0.1\n",
      "MPO length = 20\n",
      "Building **REAL** time evol MPO\n",
      "Using SVD decomposition\n",
      "flip&conj elem 10/19\n",
      "(2, 2, 2, 2)\n",
      "flip&conj elem 11/19\n",
      "(2, 2, 2, 2)\n",
      "flip&conj elem 12/19\n",
      "(2, 2, 2, 2)\n",
      "flip&conj elem 13/19\n",
      "(2, 2, 2, 2)\n",
      "flip&conj elem 14/19\n",
      "(2, 2, 2, 2)\n",
      "flip&conj elem 15/19\n",
      "(2, 2, 2, 2)\n",
      "flip&conj elem 16/19\n",
      "(2, 2, 2, 2)\n",
      "flip&conj elem 17/19\n",
      "(2, 2, 2, 2)\n",
      "flip&conj elem 18/19\n",
      "(2, 2, 2, 2)\n",
      "flip&conj elem 19/19\n",
      "(2, 2, 1, 2)\n",
      "Returning energies as expectation value of the evolution MPO\n"
     ]
    },
    {
     "name": "stderr",
     "output_type": "stream",
     "text": [
      "200, chi/max 25/25: 100%|██████████| 200/200 [00:27<00:00,  7.24it/s]"
     ]
    },
    {
     "name": "stdout",
     "output_type": "stream",
     "text": [
      "max chi reached: 25 (vs. chiMax = 100)\n",
      "Final chis: [1, 2, 4, 8, 14, 17, 20, 20, 21, 22, 25, 22, 21, 20, 20, 17, 14, 8, 4, 2, 1]\n",
      "Final entropies: [0.0, 0.2742226433145556, 0.40632952575481507, 0.48913766601391945, 0.5458191987941654, 0.5872866471040821, 0.619489256825235, 0.6458931588976984, 0.668115903091631, 0.6853681364169386, 0.6930635213506487, 0.6853681364169387, 0.6681159030916305, 0.645893158897698, 0.6194892568252328, 0.5872866471040796, 0.5458191987941629, 0.48913766601391745, 0.4063295257548125, 0.2742226433145537, 0.0]\n",
      "final en = -0.1095986419643492, ent = 0.6930635213506487\n"
     ]
    },
    {
     "name": "stderr",
     "output_type": "stream",
     "text": [
      "\n"
     ]
    }
   ],
   "source": [
    "LL = 20\n",
    "chiM = 100\n",
    "mygz = 0.9\n",
    "\n",
    "rules = {\n",
    "    \"ttype\" : \"real\",\n",
    "    \"mmode\" : \"svd\",\n",
    "    \"fold\" : False\n",
    "}\n",
    "\n",
    "\n",
    "rMPO = mpo.myMPO( rf.buildRotFoldMPO(Tmax = 1., dt = 0.1, gz=mygz, rules=rules) )\n",
    "tryState = mps.myMPS(mps.randMPS(LL=rMPO.LL, chi=10, d=rMPO.DD))\n",
    "\n",
    "\n",
    "ifPsi, iter, ents, devec, energies = power_method(rMPO, tryState, chiM)\n",
    "\n",
    "finalEntropies = ifPsi.getEntropies()\n",
    "print(f\"Final chis: {ifPsi.chis}\")\n",
    "print(f\"Final entropies: {finalEntropies}\")\n",
    "#print(devec)\n",
    "\n",
    "print(f\"final en = {energies[-1]}, ent = {ents[-1]}\")"
   ]
  },
  {
   "cell_type": "code",
   "execution_count": 6,
   "metadata": {},
   "outputs": [
    {
     "name": "stdout",
     "output_type": "stream",
     "text": [
      "**Folded MPO - time evolution up to t=1.0 in steps of 0.1\n",
      "MPO length = 10\n",
      "Building **IMAG** time evol MPO with dtau = i dt\n",
      "Using SVD decomposition\n",
      "**Folded MPO - time evolution up to t=-1j in steps of -0.1j\n",
      "Returning energies as expectation value of the evolution MPO\n"
     ]
    },
    {
     "name": "stderr",
     "output_type": "stream",
     "text": [
      "200, chi/max 55/55: 100%|██████████| 200/200 [02:12<00:00,  1.51it/s]"
     ]
    },
    {
     "name": "stdout",
     "output_type": "stream",
     "text": [
      "max chi reached: 55 (vs. chiMax = 100)\n",
      "Final chis: [1, 4, 16, 42, 54, 55, 51, 41, 16, 4, 1]\n",
      "Final entropies: [0.0, 0.22787087419749502, 0.34113758607256106, 0.40778994977994293, 0.44494315945236235, 0.4601020948066076, 0.456305331060806, 0.4330407464067079, 0.38397863749233474, 0.285312408524269, 0.0]\n",
      "final en = 9.972157148939601, ent = 0.4601020948066076\n"
     ]
    },
    {
     "name": "stderr",
     "output_type": "stream",
     "text": [
      "\n"
     ]
    }
   ],
   "source": [
    "LL = 10\n",
    "chiM = 100\n",
    "mygz = 0.9\n",
    "\n",
    "rules = {\n",
    "    \"ttype\" : \"imag\",\n",
    "    \"mmode\" : \"svd\",\n",
    "    \"fold\": True\n",
    "}\n",
    "\n",
    "\n",
    "rMPO = mpo.myMPO( rf.buildRotFoldMPO(Tmax = 1., dt = 0.1, gz=mygz, rules= rules) )\n",
    "tryState = mps.myMPS(mps.randMPS(LL=rMPO.LL, chi=10, d=rMPO.DD))\n",
    "\n",
    "\n",
    "ifPsi, iter, ents, devec, energies = power_method(rMPO, tryState, chiM)\n",
    "\n",
    "finalEntropies = ifPsi.getEntropies()\n",
    "print(f\"Final chis: {ifPsi.chis}\")\n",
    "print(f\"Final entropies: {finalEntropies}\")\n",
    "#print(devec)\n",
    "\n",
    "print(f\"final en = {energies[-1]}, ent = {ents[-1]}\")"
   ]
  },
  {
   "cell_type": "code",
   "execution_count": 9,
   "metadata": {},
   "outputs": [
    {
     "name": "stdout",
     "output_type": "stream",
     "text": [
      "**Folded MPO - time evolution up to t=1.0 in steps of 0.1\n",
      "MPO length = 10\n",
      "Building **REAL** time evol MPO\n",
      "Using SVD decomposition\n",
      "**Folded MPO - time evolution up to t=1.0 in steps of 0.1\n",
      "Returning energies as expectation value of the evolution MPO\n"
     ]
    },
    {
     "name": "stderr",
     "output_type": "stream",
     "text": [
      "100, chi/max 44/53: 100%|██████████| 100/100 [00:21<00:00,  4.68it/s]\n",
      "ERROR:root:largest entropy is NOT at midchain! (4 vs 5)\n",
      "ERROR:root:Largest entropy: S(4) = 0.6568947586501326\n",
      "ERROR:root:entropies = [0.0, 0.46103642518514265, 0.6099153012357074, 0.6560411188866769, 0.6568947586501326, 0.6377939440410236, 0.6076073457945026, 0.5640698578322151, 0.49361363184387064, 0.3596139564849817, 0.0]\n"
     ]
    },
    {
     "name": "stdout",
     "output_type": "stream",
     "text": [
      "max chi reached: 53 (vs. chiMax = 100)\n",
      "Final chis: [1, 4, 16, 42, 44, 31, 16, 8, 4, 2, 1]\n",
      "Final entropies: [0.0, 0.46103642518514265, 0.6099153012357074, 0.6560411188866769, 0.6568947586501326, 0.6377939440410236, 0.6076073457945026, 0.5640698578322151, 0.49361363184387064, 0.3596139564849817, 0.0]\n",
      "final en = 0.8045025165597165, ent = 0.6377939440410236\n"
     ]
    }
   ],
   "source": [
    "LL = 10\n",
    "chiM = 100\n",
    "mygz = 0.9\n",
    "\n",
    "rules = {\n",
    "    \"ttype\" : \"real\",\n",
    "    \"mmode\" : \"svd\",\n",
    "    \"fold\" : True\n",
    "}\n",
    "\n",
    "rMPO = mpo.myMPO( rf.buildRotFoldMPO(Tmax = 1., dt = 0.1, gz=mygz, rules=rules) )\n",
    "tryState = mps.myMPS(mps.randMPS(LL=rMPO.LL, chi=10, d=rMPO.DD))\n",
    "\n",
    "ifPsi, iter, ents, devec, energies = power_method(rMPO, tryState, chiM, iters = 100)\n",
    "\n",
    "finalEntropies = ifPsi.getEntropies()\n",
    "print(f\"Final chis: {ifPsi.chis}\")\n",
    "print(f\"Final entropies: {finalEntropies}\")\n",
    "#print(devec)\n",
    "\n",
    "print(f\"final en = {energies[-1]}, ent = {ents[-1]}\")"
   ]
  },
  {
   "cell_type": "code",
   "execution_count": null,
   "metadata": {},
   "outputs": [],
   "source": []
  }
 ],
 "metadata": {
  "kernelspec": {
   "display_name": "Python 3.9.13 64-bit",
   "language": "python",
   "name": "python3"
  },
  "language_info": {
   "codemirror_mode": {
    "name": "ipython",
    "version": 3
   },
   "file_extension": ".py",
   "mimetype": "text/x-python",
   "name": "python",
   "nbconvert_exporter": "python",
   "pygments_lexer": "ipython3",
   "version": "3.9.13"
  },
  "orig_nbformat": 4,
  "vscode": {
   "interpreter": {
    "hash": "aee8b7b246df8f9039afb4144a1f6fd8d2ca17a180786b69acc140d282b71a49"
   }
  }
 },
 "nbformat": 4,
 "nbformat_minor": 2
}
