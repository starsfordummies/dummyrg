{
 "cells": [
  {
   "cell_type": "markdown",
   "metadata": {},
   "source": [
    "# MPS canonical forms "
   ]
  },
  {
   "cell_type": "code",
   "execution_count": 1,
   "metadata": {},
   "outputs": [],
   "source": [
    "\n",
    "import numpy as np\n",
    "from numpy import linalg as LA\n",
    "from tensornetwork import ncon\n",
    "import logging\n",
    "\n",
    "import math \n",
    "import copy \n",
    "\n",
    "from myMPSstuff import myMPS, randMPS, bringCan, checkIdMatrix, expValOneSite\n"
   ]
  },
  {
   "cell_type": "code",
   "execution_count": 2,
   "metadata": {},
   "outputs": [
    {
     "name": "stdout",
     "output_type": "stream",
     "text": [
      "MPS with length 7 and physical d=2\n",
      "chi [5, 5, 5, 5, 5, 5]\n",
      "MPS with length 4 and physical d=3\n",
      "chi [7, 7, 7]\n"
     ]
    }
   ],
   "source": [
    "test = myMPS()\n",
    "\n",
    "mpstest = np.random.rand(4,7,3,7)\n",
    "\n",
    "test = myMPS(mpstest)\n",
    "\n"
   ]
  },
  {
   "cell_type": "code",
   "execution_count": null,
   "metadata": {},
   "outputs": [],
   "source": []
  },
  {
   "cell_type": "markdown",
   "metadata": {},
   "source": [
    "## Are the SVs the same in the Left and Right forms ?"
   ]
  },
  {
   "cell_type": "code",
   "execution_count": 3,
   "metadata": {},
   "outputs": [
    {
     "name": "stdout",
     "output_type": "stream",
     "text": [
      "MPS with length 20 and physical d=2\n",
      "chi [5, 5, 5, 5, 5, 5, 5, 5, 5, 5, 5, 5, 5, 5, 5, 5, 5, 5, 5]\n",
      "Chis = [2, 4, 5, 5, 5, 5, 5, 5, 5, 5, 5, 5, 5, 5, 5, 5, 5, 5, 5]\n",
      "Chis = [2, 4, 5, 5, 5, 5, 5, 5, 5, 5, 5, 5, 5, 5, 5, 5, 5, 4, 2]\n",
      "Chis = [2, 4, 5, 5, 5, 5, 5, 5, 5, 5, 5, 5, 5, 5, 5, 5, 5, 4, 2]\n",
      "######\n",
      "[True, True]\n",
      "######\n"
     ]
    },
    {
     "name": "stderr",
     "output_type": "stream",
     "text": [
      "/usr/local/lib/python3.9/site-packages/numpy/core/fromnumeric.py:86: VisibleDeprecationWarning: Creating an ndarray from ragged nested sequences (which is a list-or-tuple of lists-or-tuples-or ndarrays with different lengths or shapes) is deprecated. If you meant to do this, you must specify 'dtype=object' when creating the ndarray.\n",
      "  return ufunc.reduce(obj, axis, dtype, out, **passkwargs)\n"
     ]
    }
   ],
   "source": [
    "mymps2 = myMPS(randMPS(20))\n",
    "\n",
    "bringCan(mymps2,mode='LR',epsTrunc=1e-8)\n",
    "aaa = mymps2.SV\n",
    "\n",
    "bringCan(mymps2,mode='L')\n",
    "bbb = mymps2.SV\n",
    "\n",
    "diff = [aaa[i]-bbb[i] for i in range(0,len(aaa)) ]\n",
    "\n",
    "#[ aa[np.abs(aa) < 1e-14] = 0  for aa in diff]\n",
    "\n",
    "#[ [el if el > 1e-14 else 0 for el in aa]  for aa in diff]\n",
    "\n",
    "print(\"######\")\n",
    "#print([ [el if el > 1e-14 else 0 for el in aa]  for aa in diff])\n",
    "print( np.all([ [aa < 1e-14 for aa in el] for el in diff]) )\n",
    "print(\"######\")\n",
    "\n",
    "\n",
    "# looks like YES "
   ]
  },
  {
   "cell_type": "markdown",
   "metadata": {},
   "source": [
    "## Check that we're actually in proper L-R canon forms by contracting a bit and see if we recover identity matrices and normalizations "
   ]
  },
  {
   "cell_type": "code",
   "execution_count": 4,
   "metadata": {},
   "outputs": [
    {
     "name": "stdout",
     "output_type": "stream",
     "text": [
      "MPS with length 20 and physical d=2\n",
      "chi [5, 5, 5, 5, 5, 5, 5, 5, 5, 5, 5, 5, 5, 5, 5, 5, 5, 5, 5]\n",
      "Chis = [2, 4, 5, 5, 5, 5, 5, 5, 5, 5, 5, 5, 5, 5, 5, 5, 5, 5, 5]\n",
      "Chis = [2, 4, 5, 5, 5, 5, 5, 5, 5, 5, 5, 5, 5, 5, 5, 5, 5, 4, 2]\n",
      "Chis = [2, 4, 5, 5, 5, 5, 5, 5, 5, 5, 5, 5, 5, 5, 5, 5, 5, 4, 2]\n",
      "identity, size = 2\n",
      "identity, size = 4\n",
      "identity, size = 5\n",
      "identity, size = 5\n",
      "identity, size = 2\n",
      "1.0000000000000002\n"
     ]
    }
   ],
   "source": [
    "mymps3 = myMPS(randMPS(20))\n",
    "aaa = bringCan(mymps3,mode='LR',epsTrunc=1e-6)\n",
    "bbb = bringCan(mymps3,mode='L')\n",
    "\n",
    "# So now the MPS should be normalized and in  LEFT canonical form \n",
    "# Check by contracting some A's \n",
    "\n",
    "mp = mymps3.MPS\n",
    "sv = mymps3.SV\n",
    "svinv = [svv**(-1) for svv in sv ]\n",
    "\n",
    "m0m0 = ncon([mp[0],np.conjugate(mp[0])],[[1,-1],[1,-2]])\n",
    "checkIdMatrix(m0m0)\n",
    "\n",
    "\n",
    "m1m1 = ncon([mp[1],np.conjugate(mp[1])],[[1,2,-1],[1,2,-2]])\n",
    "checkIdMatrix(m1m1)\n",
    "\n",
    "m4m4 = ncon([mp[5],np.conjugate(mp[5])],[[1,2,-1],[1,2,-2]])\n",
    "checkIdMatrix(m4m4)\n",
    "\n",
    "\n",
    "# Looks good \n",
    "\n",
    "# Now try and build the B's using the recipe \n",
    "\n",
    "#Bj = (L_{j-1})^-1 @ Aj @ Lj\n",
    "\n",
    "#print(np.shape(np.diag(svinv[2])),np.shape(mp[3]),np.shape(np.diag(sv[3])))\n",
    "\n",
    "\n",
    "bb3 = ncon([np.diag(svinv[2]),  mp[3] ,  np.diag(sv[3]) ], [[-1,1],[1,-2,2],[2,-3]])\n",
    "\n",
    "b3b3 = ncon([bb3,np.conjugate(bb3)],[[-1,1,2],[-2,1,2]])\n",
    "\n",
    "checkIdMatrix(b3b3)\n",
    "\n",
    "bb1 = ncon([np.diag(svinv[0]),  mp[1] ,  np.diag(sv[1]) ], [[-1,1],[1,-2,2],[2,-3]])\n",
    "\n",
    "b1b1 = ncon([bb1,np.conjugate(bb1)],[[-1,1,2],[-2,1,2]])\n",
    "checkIdMatrix(b1b1)\n",
    "\n",
    "# Also looks good. \n",
    "\n",
    "# Work out the corners, we should have \n",
    "\n",
    "b0 = mp[0] @ np.diag(sv[0])\n",
    "b0b0close =  ncon([b0,np.conjugate(b0)],[[1,2],[1,2]])\n",
    "print(np.real_if_close(b0b0close))\n"
   ]
  },
  {
   "cell_type": "markdown",
   "metadata": {},
   "source": [
    "## Try computing an expectation value, first the \"hard\" way (ncon the whole thing), then using the right-canonical expression"
   ]
  },
  {
   "cell_type": "code",
   "execution_count": 5,
   "metadata": {},
   "outputs": [
    {
     "name": "stdout",
     "output_type": "stream",
     "text": [
      "MPS with length 10 and physical d=2\n",
      "chi [5, 5, 5, 5, 5, 5, 5, 5, 5]\n",
      "20 20\n",
      "[[1, 11], [1, 21], [11, 2, 12], [21, 2, 22], [12, 3, 13], [22, 3, 23], [13, 4, 14], [23, 4, 24], [14, 5, 15], [24, 5, 25], [15, 6, 16], [25, 6, 26], [16, 7, 17], [26, 7, 27], [17, 8, 18], [27, 8, 28], [18, 9, 19], [28, 9, 29], [19, 10], [29, 10]]\n",
      "1.0\n"
     ]
    }
   ],
   "source": [
    "\n",
    "\n",
    "testL = 10\n",
    "testd = 2\n",
    "testChi = 5\n",
    "\n",
    "mymps4 = myMPS(randMPS(testL,chi=testChi, d=testd))\n",
    "\n",
    "indicesMPS = [0]*2*testL\n",
    "\n",
    "# Try to label p0 = 0, p1 = 1.. pL = L\n",
    "# and l1 = L+1, l2=L+2, .. lL = 2L \n",
    "\n",
    "def pjj(jj: int):\n",
    "    return jj+1\n",
    "\n",
    "def ljj(jj: int):\n",
    "    return jj+testL+1\n",
    "\n",
    "def lbjj(jj: int):\n",
    "    return jj+2*testL+1\n",
    "\n",
    "tMPS = [mymps4.MPS[0]]\n",
    "tMPS.append(np.conj(mymps4.MPS[0]))\n",
    "\n",
    "iMPS = [[pjj(0),ljj(0)]]\n",
    "iMPS.append([pjj(0),lbjj(0)])\n",
    "\n",
    "for (jj, elem) in enumerate(mymps4.MPS[1:] ):\n",
    "\n",
    "    #print(jj)\n",
    "    tMPS.append(elem)\n",
    "    tMPS.append(np.conj(elem))\n",
    "\n",
    "    iMPS.append([ljj(jj),pjj(jj+1),ljj(jj+1)])\n",
    "    iMPS.append([lbjj(jj),pjj(jj+1),lbjj(jj+1)])\n",
    "\n",
    "\n",
    "iMPS[-2] = ([ljj(testL-2),pjj(testL-1)])\n",
    "iMPS[-1] = ([lbjj(testL-2),pjj(testL-1)])\n",
    "\n",
    "print(len(tMPS),len(iMPS))\n",
    "print(iMPS)\n",
    "\n",
    "tnc = ncon(tMPS,iMPS)\n",
    "\n",
    "norm= tnc/np.real(tnc)\n",
    "\n",
    "print(np.real_if_close(norm))\n",
    "\n",
    "\n",
    "\n",
    "\n"
   ]
  },
  {
   "cell_type": "code",
   "execution_count": 6,
   "metadata": {},
   "outputs": [
    {
     "name": "stdout",
     "output_type": "stream",
     "text": [
      "MPS with length 7 and physical d=2\n",
      "chi [5, 5, 5, 5, 5, 5]\n",
      "MPS with length 7 and physical d=2\n",
      "chi [5, 5, 5, 5, 5, 5]\n",
      "[{'vL': 0, 'ph': 1, 'vR': 22}, {'vL': 22, 'ph': 2, 'vR': 23}, {'vL': 23, 'ph': 3, 'vR': 24}, {'vL': 24, 'ph': 4, 'vR': 25}, {'vL': 25, 'ph': 5, 'vR': 26}, {'vL': 26, 'ph': 6, 'vR': 27}, {'vL': 27, 'ph': 7, 'vR': 0}]\n",
      "[[1, 22], [22, 2, 23], [23, 3, 24], [24, 4, 25], [25, 5, 26], [26, 6, 27], [27, 7]]\n",
      "[[1, 36], [36, 2, 37], [37, 3, 38], [38, 4, 39], [39, 5, 40], [40, 6, 41], [41, 7]]\n",
      "[[1, 22], [22, 2, 23], [23, 3, 24], [24, 4, 25], [25, 5, 26], [26, 6, 27], [27, 7], [1, 36], [36, 2, 37], [37, 3, 38], [38, 4, 39], [39, 5, 40], [40, 6, 41], [41, 7]]\n",
      "norm/alized = 164429410.63905928,1.0\n",
      "15 7 7 2\n",
      "0.9761630417692106\n",
      "Chis = [2, 4, 5, 5, 5, 5]\n",
      "Chis = [2, 4, 5, 5, 4, 2]\n",
      "(4, 4)\n",
      "(4, 4)\n",
      "(4, 2, 5)\n",
      "(4, 2, 5)\n",
      "(2, 2)\n",
      "5 5\n",
      "0.9761630417692098\n",
      "Chis = [2, 4, 5, 5, 5, 5]\n",
      "Chis = [2, 4, 5, 5, 4, 2]\n",
      "0.9761630417692098\n"
     ]
    }
   ],
   "source": [
    "# Try to do it a bit better, define separately psi and psi*\n",
    "# and compute the norm \n",
    "\n",
    "testL = 7\n",
    "testd = 2\n",
    "testChi = 5\n",
    "\n",
    "mypsi = myMPS(randMPS(testL,chi=testChi, d=testd), offIndices=3)\n",
    "mypsic = myMPS(randMPS(testL,chi=testChi, d=testd), offIndices=5)\n",
    "\n",
    "conjMPS = [np.conj(m) for m in mypsi.MPS]\n",
    "mypsic.MPS = conjMPS\n",
    "\n",
    "\"\"\"\n",
    "self.MPS = mMPS  \n",
    "self.indices = indices\n",
    "updateindices()\n",
    "\"\"\"\n",
    "\n",
    "print(mypsi.indices)\n",
    "print(mypsi.getIndices())\n",
    "print(mypsic.getIndices())\n",
    "\n",
    "mtocon = copy.deepcopy(mypsi.MPS)\n",
    "mtocon.extend(mypsic.MPS)\n",
    "\n",
    "itocon = mypsi.getIndices()\n",
    "itocon.extend(mypsic.getIndices())\n",
    "\n",
    "print(itocon)\n",
    "\n",
    "norm = ncon(mtocon,itocon)\n",
    "\n",
    "normalized = norm/np.real(norm)\n",
    "\n",
    "print(f\"norm/alized = {np.real(norm)},{np.real_if_close(normalized)}\")\n",
    "\n",
    "\n",
    "# Now define the operator to exp-value\n",
    "\n",
    "# Say we wanna compute <sigma_x> \n",
    "op1 = np.array([[0,1.],[1.,0]])\n",
    "\n",
    "# at site r = 3 \n",
    "\n",
    "psiOpens = [1,2,66,4,5,6,7]\n",
    "psicOpens = [1,2,67,4,5,6,7]\n",
    "op1Opens = [[66,67]]\n",
    "\n",
    "mypsi.updateIndices(psiOpens)\n",
    "mypsic.updateIndices(psicOpens)\n",
    "\n",
    "mtocon = copy.deepcopy(mypsi.MPS)\n",
    "mtocon.extend(mypsic.MPS)\n",
    "mtocon.extend([op1])\n",
    "\n",
    "print(len(mtocon),len(mypsi.MPS),len(mypsic.MPS),len(op1))\n",
    "\n",
    "itocon = mypsi.getIndices()\n",
    "itocon.extend(mypsic.getIndices())\n",
    "itocon.extend(op1Opens)\n",
    "\n",
    "#print(itocon)\n",
    "#print(mtocon)\n",
    "#print(len(itocon),len(mtocon))\n",
    "\n",
    "tnc = ncon(mtocon,itocon)\n",
    "\n",
    "print(np.real_if_close(tnc/norm))\n",
    "\n",
    "\n",
    "# Now compute it with the canonical form \n",
    "\n",
    "copymypsi = copy.deepcopy(mypsi)\n",
    "psiR = bringCan(copymypsi,mode='LR',epsTrunc=1e-12)\n",
    "\n",
    "\n",
    "conTen = [np.diag(copymypsi.SV[1]),np.diag(copymypsi.SV[1]),copymypsi.MPS[2],np.conj(copymypsi.MPS[2]),op1]\n",
    "conIdx = [[1,2],[1,3],[3,4,5],[2,6,5],[4,6]]\n",
    "\n",
    "[print(np.shape(elem)) for elem in conTen]\n",
    "print(len(conTen),len(conIdx))\n",
    "\n",
    "print(np.real_if_close(ncon(conTen,conIdx)))\n",
    "\n",
    "copymypsi2 = copy.deepcopy(mypsi)\n",
    "\n",
    "print(expValOneSite(copymypsi2,op1,2))"
   ]
  },
  {
   "cell_type": "markdown",
   "metadata": {},
   "source": [
    "# The canonical form Gamma-Lambda \n",
    "\n",
    "Let's build it from our LR sweep\n",
    "and check that we get the same results for our MPS "
   ]
  },
  {
   "cell_type": "code",
   "execution_count": 7,
   "metadata": {},
   "outputs": [
    {
     "name": "stderr",
     "output_type": "stream",
     "text": [
      "WARNING:root:Building Gamma-Lambda canonical form\n"
     ]
    },
    {
     "name": "stdout",
     "output_type": "stream",
     "text": [
      "MPS with length 20 and physical d=2\n",
      "chi [5, 5, 5, 5, 5, 5, 5, 5, 5, 5, 5, 5, 5, 5, 5, 5, 5, 5, 5]\n",
      "Chis = [2, 4, 5, 5, 5, 5, 5, 5, 5, 5, 5, 5, 5, 5, 5, 5, 5, 5, 5]\n",
      "Chis = [2, 4, 5, 5, 5, 5, 5, 5, 5, 5, 5, 5, 5, 5, 5, 5, 5, 4, 2]\n",
      "Chis = [2, 4, 5, 5, 5, 5, 5, 5, 5, 5, 5, 5, 5, 5, 5, 5, 5, 4, 2]\n",
      "Chis = [2, 4, 5, 5, 5, 5, 5, 5, 5, 5, 5, 5, 5, 5, 5, 5, 5, 4, 2]\n",
      "identity, size = 2\n",
      "Square but not id, difference = [[613.24464682 697.7499909 ]\n",
      " [697.7499909  793.90183399]]\n",
      "identity, size = 2\n"
     ]
    },
    {
     "data": {
      "text/plain": [
       "True"
      ]
     },
     "execution_count": 7,
     "metadata": {},
     "output_type": "execute_result"
    }
   ],
   "source": [
    "mympsCC = myMPS(randMPS(20))\n",
    "\n",
    "bringCan(mympsCC,mode='LR',epsTrunc=1e-8)\n",
    "\n",
    "matsB = mympsCC.MPS[:]\n",
    "svs = mympsCC.SV[:]\n",
    "\n",
    "bringCan(mympsCC,mode='C',epsTrunc=1e-8)\n",
    "\n",
    "\n",
    "matsG = mympsCC.MPS[:]\n",
    "svinvs = mympsCC.SVinv[:]\n",
    "\n",
    "\n",
    "# This brings it to the Gamma1-Gamma2-Gamma3... form, and separately we hold the SVs \n",
    "\n",
    "# Check that we can recover the L-R forms from it by contracting again everything on the left and the right\n",
    "# of some middle site \n",
    "\n",
    "\n",
    "a0 =  matsB[19] \n",
    "\n",
    "checkIdMatrix( ncon([a0,np.conj(a0)],[[1,-1],[1,-2]]))\n",
    "\n",
    "\n",
    "aa0 =  matsG[19] \n",
    "\n",
    "checkIdMatrix( ncon([aa0,np.conj(aa0)],[[1,-1],[1,-2]]))\n",
    "\n",
    "aa0r = np.diag(svs[18]) @ matsG[19] \n",
    "\n",
    "\n",
    "checkIdMatrix( ncon([aa0r,np.conj(aa0r)],[[1,-1],[1,-2]]) )"
   ]
  },
  {
   "cell_type": "code",
   "execution_count": 8,
   "metadata": {},
   "outputs": [],
   "source": [
    "\n",
    "# Now introduce MPOs \n"
   ]
  },
  {
   "cell_type": "code",
   "execution_count": null,
   "metadata": {},
   "outputs": [],
   "source": []
  }
 ],
 "metadata": {
  "interpreter": {
   "hash": "aee8b7b246df8f9039afb4144a1f6fd8d2ca17a180786b69acc140d282b71a49"
  },
  "kernelspec": {
   "display_name": "Python 3.9.10 64-bit",
   "language": "python",
   "name": "python3"
  },
  "language_info": {
   "codemirror_mode": {
    "name": "ipython",
    "version": 3
   },
   "file_extension": ".py",
   "mimetype": "text/x-python",
   "name": "python",
   "nbconvert_exporter": "python",
   "pygments_lexer": "ipython3",
   "version": "3.9.12"
  },
  "orig_nbformat": 4
 },
 "nbformat": 4,
 "nbformat_minor": 2
}
