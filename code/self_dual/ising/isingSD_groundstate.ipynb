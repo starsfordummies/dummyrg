{
 "cells": [
  {
   "cell_type": "code",
   "execution_count": 1,
   "metadata": {},
   "outputs": [],
   "source": [
    "\n",
    "import numpy as np\n",
    "\n",
    "import matplotlib.pyplot as plt\n",
    "np.set_printoptions(precision=5, suppress=True, linewidth=100)\n",
    "plt.rcParams['figure.dpi'] = 150\n",
    "import tenpy\n",
    "\n",
    "from tenpy.algorithms import dmrg\n",
    "from tenpy.networks.mps import MPS\n",
    "\n",
    "from model_isingselfdual import TFISDChain\n",
    "\n",
    "from scipy.optimize import curve_fit\n",
    "\n",
    "tenpy.tools.misc.setup_logging(to_stdout=\"INFO\")\n"
   ]
  },
  {
   "cell_type": "code",
   "execution_count": 2,
   "metadata": {},
   "outputs": [
    {
     "name": "stdout",
     "output_type": "stream",
     "text": [
      "INFO    : TFISDChain: reading 'bc_MPS'='finite'\n",
      "INFO    : TFISDChain: reading 'L'=64\n",
      "INFO    : TFISDChain: reading 'p'=0.2\n",
      "INFO    : TFISDChain: reading 'lambda'=1.0\n"
     ]
    }
   ],
   "source": [
    "# Parameters \n",
    "\n",
    "L = 64\n",
    "chiMax = 400\n",
    "\n",
    "\n",
    "model_params = {\n",
    "    'p': 0.2 , 'lambda': 1.,  # for lambda=1 and p \"small enough\" the model should be critical\n",
    "    'L': L,\n",
    "    'bc_MPS': 'finite',\n",
    "}\n",
    "\n",
    "M = TFISDChain(model_params)"
   ]
  },
  {
   "cell_type": "code",
   "execution_count": 3,
   "metadata": {},
   "outputs": [
    {
     "name": "stdout",
     "output_type": "stream",
     "text": [
      "INFO    : TwoSiteDMRGEngine: subconfig 'trunc_params'=Config(<2 options>, 'trunc_params')\n",
      "INFO    : TwoSiteDMRGEngine: reading 'combine'=True\n",
      "INFO    : TwoSiteDMRGEngine: reading 'max_E_err'=1e-10\n",
      "INFO    : TwoSiteDMRGEngine: reading 'mixer'=None\n",
      "INFO    : Running sweep with optimization\n",
      "INFO    : trunc_params: reading 'chi_max'=400\n",
      "INFO    : trunc_params: reading 'svd_min'=1e-10\n",
      "INFO    : checkpoint after sweep 1\n",
      "energy=-67.6048273237556856, max S=0.3583552167620049, age=64, norm_err=9.2e-02\n",
      "Current memory usage 113932.0MB, wall time: 3.6s\n",
      "Delta E = nan, Delta S = 3.5157e-01 (per sweep)\n",
      "max trunc_err = 0.0000e+00, max E_trunc = 9.9476e-14\n",
      "chi: 4\n",
      "================================================================================\n",
      "INFO    : Running sweep with optimization\n",
      "INFO    : checkpoint after sweep 2\n",
      "energy=-67.6228735435221324, max S=0.5152188045008408, age=64, norm_err=9.1e-03\n",
      "Current memory usage 116396.0MB, wall time: 3.8s\n",
      "Delta E = -1.8046e-02, Delta S = 1.2035e-01 (per sweep)\n",
      "max trunc_err = 0.0000e+00, max E_trunc = 9.9476e-14\n",
      "chi: 16\n",
      "================================================================================\n",
      "INFO    : Running sweep with optimization\n",
      "INFO    : checkpoint after sweep 3\n",
      "energy=-67.6229055397157879, max S=0.5469193082456049, age=64, norm_err=1.0e-05\n",
      "Current memory usage 124312.0MB, wall time: 6.0s\n",
      "Delta E = -3.1996e-05, Delta S = 1.7436e-02 (per sweep)\n",
      "max trunc_err = 2.0953e-20, max E_trunc = 1.8474e-13\n",
      "chi: 64\n",
      "================================================================================\n",
      "INFO    : Running sweep with optimization\n",
      "INFO    : checkpoint after sweep 4\n",
      "energy=-67.6229055399546297, max S=0.5469728316958828, age=64, norm_err=3.4e-10\n",
      "Current memory usage 135260.0MB, wall time: 16.3s\n",
      "Delta E = -2.3884e-10, Delta S = 2.2758e-05 (per sweep)\n",
      "max trunc_err = 8.8671e-20, max E_trunc = 1.7053e-13\n",
      "chi: 116\n",
      "================================================================================\n",
      "INFO    : Running sweep with optimization\n",
      "INFO    : checkpoint after sweep 5\n",
      "energy=-67.6229055399549281, max S=0.5469728317967222, age=64, norm_err=3.2e-13\n",
      "Current memory usage 135260.0MB, wall time: 10.0s\n",
      "Delta E = -2.9843e-13, Delta S = 4.9903e-11 (per sweep)\n",
      "max trunc_err = 8.5737e-20, max E_trunc = 1.2790e-13\n",
      "chi: 117\n",
      "================================================================================\n",
      "INFO    : DMRG finished after 5 sweeps, max chi=117\n"
     ]
    }
   ],
   "source": [
    "psi = MPS.from_lat_product_state(M.lat, [['up']])\n",
    "\n",
    "#Run DMRG \n",
    "\n",
    "dmrg_params = {\n",
    "    'mixer': None,  # setting this to True helps to escape local minima\n",
    "    'max_E_err': 1.e-10,\n",
    "    'trunc_params': {\n",
    "        'chi_max': chiMax,\n",
    "        'svd_min': 1.e-10,\n",
    "    },\n",
    "    'combine': True\n",
    "}\n",
    "\n",
    "engine = dmrg.TwoSiteDMRGEngine(psi, M, dmrg_params)\n",
    "\n",
    "E, psi = engine.run() # the main work; modifies psi in place"
   ]
  },
  {
   "cell_type": "code",
   "execution_count": 4,
   "metadata": {},
   "outputs": [
    {
     "name": "stdout",
     "output_type": "stream",
     "text": [
      "ground state energy =  -67.62290553995493 -67.62290553995503\n"
     ]
    }
   ],
   "source": [
    "# E is the ground state energy directly returned by dmrg.run()\n",
    "\n",
    "# there are other ways to extract the energy from psi:\n",
    "E1 = M.H_MPO.expectation_value(psi)  # based on the MPO\n",
    "\n",
    "print(\"ground state energy = \", E, E1)\n",
    "\n",
    "#E2 = np.sum(M.bond_energies(psi))  # based on bond terms of H, works only for a NearestNeighborModel\n",
    "assert abs(E-E1) < 1.e-10\n"
   ]
  },
  {
   "cell_type": "code",
   "execution_count": 5,
   "metadata": {},
   "outputs": [
    {
     "name": "stdout",
     "output_type": "stream",
     "text": [
      "[2, 4, 8, 16, 32, 46, 54, 63, 68, 73, 78, 83, 86, 90, 93, 96, 100, 102, 105, 107, 108, 109, 111, 112, 112, 114, 115, 116, 117, 117, 117, 117, 117, 117, 117, 116, 115, 115, 112, 112, 112, 109, 109, 107, 105, 102, 100, 96, 93, 90, 86, 83, 78, 72, 68, 63, 54, 46, 32, 16, 8, 4, 2]\n"
     ]
    }
   ],
   "source": [
    "#Bond dimensions\n",
    "print(psi.chi)"
   ]
  },
  {
   "cell_type": "code",
   "execution_count": 6,
   "metadata": {},
   "outputs": [
    {
     "data": {
      "image/png": "[encoded data removed]",
      "text/plain": [
       "<Figure size 432x288 with 1 Axes>"
      ]
     },
     "metadata": {
      "needs_background": "light"
     },
     "output_type": "display_data"
    }
   ],
   "source": [
    "\n",
    "\n",
    "# onsite expectation values\n",
    "\n",
    "X = psi.expectation_value(\"Sigmax\")\n",
    "Z = psi.expectation_value(\"Sigmaz\")\n",
    "x = np.arange(psi.L)\n",
    "plt.figure()\n",
    "plt.plot(x, Z, label=\"Z\")\n",
    "plt.plot(x, X, label=\"X\")   # note: it's clear that this is zero due to charge conservation!\n",
    "plt.xlabel(\"site\")\n",
    "plt.ylabel(\"onsite expectation value\")\n",
    "plt.legend()\n",
    "plt.show()"
   ]
  },
  {
   "cell_type": "code",
   "execution_count": 7,
   "metadata": {},
   "outputs": [
    {
     "data": {
      "image/png": "[encoded data removed]",
      "text/plain": [
       "<Figure size 432x288 with 1 Axes>"
      ]
     },
     "metadata": {
      "needs_background": "light"
     },
     "output_type": "display_data"
    }
   ],
   "source": [
    "# correlation functions\n",
    "\n",
    "i0 = psi.L // 4  # for fixed `i`\n",
    "j = np.arange(i0 + 1, psi.L)\n",
    "XX = psi.term_correlation_function_right([(\"Sigmax\", 0)], [(\"Sigmax\", 0)], i_L=i0, j_R=j)\n",
    "XX_disc = XX - X[i0] * X[j]\n",
    "ZZ = psi.term_correlation_function_right([(\"Sigmaz\", 0)], [(\"Sigmaz\", 0)], i_L=i0, j_R=j)\n",
    "ZZ_disc = ZZ - Z[i0] * Z[j]\n",
    "\n",
    "dx = j - i0\n",
    "plt.figure()\n",
    "plt.plot(dx, XX_disc, label=\"X X\")\n",
    "plt.plot(dx, ZZ_disc, label=\"Z Z\")\n",
    "plt.xlabel(r\"distance $|i-j|$\")\n",
    "plt.ylabel(r\"disconnected correlations $\\langle A_i A_j\\rangle - \\langle A_i \\rangle\\langle A_j\\rangle$\")\n",
    "plt.legend()\n",
    "plt.loglog()\n",
    "plt.show()"
   ]
  },
  {
   "cell_type": "code",
   "execution_count": 8,
   "metadata": {},
   "outputs": [
    {
     "data": {
      "text/plain": [
       "[<matplotlib.lines.Line2D at 0x118beba00>]"
      ]
     },
     "execution_count": 8,
     "metadata": {},
     "output_type": "execute_result"
    },
    {
     "data": {
      "image/png": "[encoded data removed]",
      "text/plain": [
       "<Figure size 432x288 with 1 Axes>"
      ]
     },
     "metadata": {
      "needs_background": "light"
     },
     "output_type": "display_data"
    }
   ],
   "source": [
    "bonds = range(1,L)\n",
    "entrop = psi.entanglement_entropy()\n",
    "plt.figure()\n",
    "plt.plot(bonds,entrop)"
   ]
  },
  {
   "cell_type": "code",
   "execution_count": 13,
   "metadata": {},
   "outputs": [
    {
     "ename": "TypeError",
     "evalue": "unsupported operand type(s) for +: 'range' and 'float'",
     "output_type": "error",
     "traceback": [
      "\u001b[0;31m---------------------------------------------------------------------------\u001b[0m",
      "\u001b[0;31mTypeError\u001b[0m                                 Traceback (most recent call last)",
      "\u001b[1;32m/Users/uno/TN/dummyrg/code/self_dual/isingSD_groundstate.ipynb Cell 9'\u001b[0m in \u001b[0;36m<cell line: 6>\u001b[0;34m()\u001b[0m\n\u001b[1;32m      <a href='vscode-notebook-cell:/Users/uno/TN/dummyrg/code/self_dual/isingSD_groundstate.ipynb#ch0000008?line=2'>3</a>\u001b[0m \u001b[39mdef\u001b[39;00m \u001b[39mfitFunc\u001b[39m(x, c, a):\n\u001b[1;32m      <a href='vscode-notebook-cell:/Users/uno/TN/dummyrg/code/self_dual/isingSD_groundstate.ipynb#ch0000008?line=3'>4</a>\u001b[0m         \u001b[39mreturn\u001b[39;00m (c \u001b[39m/\u001b[39m \u001b[39m6\u001b[39m) \u001b[39m*\u001b[39m np\u001b[39m.\u001b[39mlog(L\u001b[39m/\u001b[39mnp\u001b[39m.\u001b[39mpi \u001b[39m*\u001b[39m np\u001b[39m.\u001b[39msin(np\u001b[39m.\u001b[39mpi\u001b[39m*\u001b[39mx\u001b[39m/\u001b[39mL)) \u001b[39m+\u001b[39m a\n\u001b[0;32m----> <a href='vscode-notebook-cell:/Users/uno/TN/dummyrg/code/self_dual/isingSD_groundstate.ipynb#ch0000008?line=5'>6</a>\u001b[0m ell\u001b[39m=\u001b[39mnp\u001b[39m.\u001b[39marray(\u001b[39mrange\u001b[39;49m(\u001b[39m1\u001b[39;49m,L) \u001b[39m+\u001b[39;49m \u001b[39m0.5\u001b[39;49m)\n\u001b[1;32m      <a href='vscode-notebook-cell:/Users/uno/TN/dummyrg/code/self_dual/isingSD_groundstate.ipynb#ch0000008?line=6'>7</a>\u001b[0m entropies\u001b[39m=\u001b[39m np\u001b[39m.\u001b[39marray(entrop)\n\u001b[1;32m      <a href='vscode-notebook-cell:/Users/uno/TN/dummyrg/code/self_dual/isingSD_groundstate.ipynb#ch0000008?line=8'>9</a>\u001b[0m w_l_L \u001b[39m=\u001b[39m [np\u001b[39m.\u001b[39mlog(L\u001b[39m/\u001b[39mnp\u001b[39m.\u001b[39mpi\u001b[39m*\u001b[39mnp\u001b[39m.\u001b[39msin(np\u001b[39m.\u001b[39mpi\u001b[39m*\u001b[39mell[k]\u001b[39m/\u001b[39mL)) \u001b[39mfor\u001b[39;00m k \u001b[39min\u001b[39;00m \u001b[39mrange\u001b[39m(\u001b[39m0\u001b[39m,\u001b[39mlen\u001b[39m(ell))]\n",
      "\u001b[0;31mTypeError\u001b[0m: unsupported operand type(s) for +: 'range' and 'float'"
     ]
    }
   ],
   "source": [
    "\n",
    "\n",
    "# Fit the central charge \"c\" against the CFT prediction\n",
    "\n",
    "def fitFunc(x, c, a):\n",
    "        return (c / 6) * np.log(L/np.pi * np.sin(np.pi*x/L)) + a\n",
    "\n",
    "ell=np.array(range(1,L))\n",
    "entropies= np.array(entrop)\n",
    "\n",
    "w_l_L = [np.log(L/np.pi*np.sin(np.pi*ell[k]/L)) for k in range(0,len(ell))]\n",
    "\n",
    "fitParams, fitCovariances = curve_fit(fitFunc,ell[10:-10] ,entropies[10:-10])\n",
    "\n",
    "plt.errorbar(ell,\n",
    "                 entropies,\n",
    "                 fmt='o',\n",
    "                 c='blue',\n",
    "                 ms=5.5,\n",
    "                 markerfacecolor='white',\n",
    "                 markeredgecolor='blue',\n",
    "                 markeredgewidth=1.4)\n",
    "\n",
    "plt.plot(ell,\n",
    "             fitFunc(ell, fitParams[0], fitParams[1]),\n",
    "             linewidth=1.5,\n",
    "             c='black',\n",
    "             label='fit c = {c:.2f}'.format(c = fitParams[0]))\n",
    "\n",
    "plt.xlabel(r'$\\ell$', fontsize=16)\n",
    "plt.ylabel(r'$S$', fontsize=16)\n",
    "\n",
    "plt.legend(loc='lower right', borderaxespad=0., fancybox=True, shadow=True, fontsize=16)\n",
    "\n",
    "fig_ent= plt.figure()\n",
    "\n",
    "plt.plot(w_l_L,entropies, 'o',\n",
    "                 c='blue',\n",
    "                 ms=5.5,\n",
    "                 markerfacecolor='white',\n",
    "                 markeredgecolor='blue',\n",
    "                 markeredgewidth=1.4 )\n",
    "\n",
    "plt.xlabel(r'$W(\\ell,N)$', fontsize=16)\n",
    "plt.ylabel(r'$S$', fontsize=16)\n",
    "\n",
    "z2= np.polyfit(w_l_L[10:-10], entropies[10:-10], 1)\n",
    "p2=np.poly1d(z2)\n",
    "\n",
    "plt.plot(np.linspace(np.min(w_l_L),np.max(w_l_L)),p2(np.linspace(np.min(w_l_L),np.max(w_l_L))),'-',color='red')\n",
    "\n",
    "print(z2*6)\n",
    "print(p2)"
   ]
  },
  {
   "cell_type": "code",
   "execution_count": 10,
   "metadata": {},
   "outputs": [
    {
     "data": {
      "text/plain": [
       "Text(0, 0.5, '$\\\\Delta_i/\\\\Delta_j$')"
      ]
     },
     "execution_count": 10,
     "metadata": {},
     "output_type": "execute_result"
    },
    {
     "data": {
      "image/png": "[encoded data removed]",
      "text/plain": [
       "<Figure size 432x288 with 1 Axes>"
      ]
     },
     "metadata": {
      "needs_background": "light"
     },
     "output_type": "display_data"
    }
   ],
   "source": [
    "spectrum = psi.entanglement_spectrum()\n",
    "\n",
    "#ent_gaps=[spectrum[k]-spectrum[k][0] for k in  range(len(spectrum))]\n",
    "ent_gaps = [lam - lam[0] for lam in spectrum]\n",
    "\n",
    "#ent_ratios=[ent_gaps[k][0:10]/ent_gaps[k][1] for k in  range(len(spectrum))]\n",
    "ent_ratios = [rr[0:8]/rr[1] for rr in ent_gaps]\n",
    "\n",
    "for pos in range(2,L-1):\n",
    "    elle=1./(np.log(L/np.pi*np.sin(np.pi*float(pos)/L)))*np.ones(len(ent_ratios[pos]))\n",
    "    plt.errorbar(elle,\n",
    "                 ent_ratios[pos],\n",
    "                 fmt='o',\n",
    "                 c='blue',\n",
    "                 ms=5.5,\n",
    "                 markerfacecolor='white',\n",
    "                 markeredgecolor='blue',\n",
    "                 markeredgewidth=1.4)\n",
    "\n",
    "plt.hlines([1,2,3,4,5],\n",
    "     1./np.log(L/2+1), 1./np.log(2), colors='k', linestyles='dashed')\n",
    "\n",
    "#plt.hlines([3.5],   1./np.log(L/2+1),  1./np.log(2), colors='r', linestyles='dashed')\n",
    "\n",
    "plt.xlabel(r'$1/(W(L,\\ell))$', fontsize=16)\n",
    "plt.ylabel(r'$\\Delta_i/\\Delta_j$', fontsize=16)"
   ]
  },
  {
   "cell_type": "code",
   "execution_count": 11,
   "metadata": {},
   "outputs": [
    {
     "ename": "IndexError",
     "evalue": "index 2 is out of bounds for axis 0 with size 2",
     "output_type": "error",
     "traceback": [
      "\u001b[0;31m---------------------------------------------------------------------------\u001b[0m",
      "\u001b[0;31mIndexError\u001b[0m                                Traceback (most recent call last)",
      "\u001b[1;32m/Users/uno/TN/dummyrg/code/self_dual/isingSD_groundstate.ipynb Cell 11'\u001b[0m in \u001b[0;36m<cell line: 5>\u001b[0;34m()\u001b[0m\n\u001b[1;32m     <a href='vscode-notebook-cell:/Users/uno/TN/dummyrg/code/self_dual/isingSD_groundstate.ipynb#ch0000010?line=17'>18</a>\u001b[0m     plt\u001b[39m.\u001b[39mplot(inverse_log, first_ratio,\u001b[39m'\u001b[39m\u001b[39m.\u001b[39m\u001b[39m'\u001b[39m,\n\u001b[1;32m     <a href='vscode-notebook-cell:/Users/uno/TN/dummyrg/code/self_dual/isingSD_groundstate.ipynb#ch0000010?line=18'>19</a>\u001b[0m                  c\u001b[39m=\u001b[39m\u001b[39m'\u001b[39m\u001b[39mblue\u001b[39m\u001b[39m'\u001b[39m,\n\u001b[1;32m     <a href='vscode-notebook-cell:/Users/uno/TN/dummyrg/code/self_dual/isingSD_groundstate.ipynb#ch0000010?line=19'>20</a>\u001b[0m                  ms\u001b[39m=\u001b[39m\u001b[39m10.5\u001b[39m,\n\u001b[1;32m     <a href='vscode-notebook-cell:/Users/uno/TN/dummyrg/code/self_dual/isingSD_groundstate.ipynb#ch0000010?line=20'>21</a>\u001b[0m                  markerfacecolor\u001b[39m=\u001b[39m\u001b[39m'\u001b[39m\u001b[39mwhite\u001b[39m\u001b[39m'\u001b[39m,\n\u001b[1;32m     <a href='vscode-notebook-cell:/Users/uno/TN/dummyrg/code/self_dual/isingSD_groundstate.ipynb#ch0000010?line=21'>22</a>\u001b[0m                  markeredgecolor\u001b[39m=\u001b[39m\u001b[39m'\u001b[39m\u001b[39mblue\u001b[39m\u001b[39m'\u001b[39m,\n\u001b[1;32m     <a href='vscode-notebook-cell:/Users/uno/TN/dummyrg/code/self_dual/isingSD_groundstate.ipynb#ch0000010?line=22'>23</a>\u001b[0m                  markeredgewidth\u001b[39m=\u001b[39m\u001b[39m1.4\u001b[39m)\n\u001b[1;32m     <a href='vscode-notebook-cell:/Users/uno/TN/dummyrg/code/self_dual/isingSD_groundstate.ipynb#ch0000010?line=24'>25</a>\u001b[0m \u001b[39m#plt.plot(np.linspace(0.2,1.4,100),\u001b[39;00m\n\u001b[1;32m     <a href='vscode-notebook-cell:/Users/uno/TN/dummyrg/code/self_dual/isingSD_groundstate.ipynb#ch0000010?line=25'>26</a>\u001b[0m  \u001b[39m#            quadfit(np.linspace(0,0.3,100), fitParams[0], fitParams[1], fitParams[2]),\u001b[39;00m\n\u001b[1;32m     <a href='vscode-notebook-cell:/Users/uno/TN/dummyrg/code/self_dual/isingSD_groundstate.ipynb#ch0000010?line=26'>27</a>\u001b[0m   \u001b[39m#           linewidth=1.5,\u001b[39;00m\n\u001b[1;32m     <a href='vscode-notebook-cell:/Users/uno/TN/dummyrg/code/self_dual/isingSD_groundstate.ipynb#ch0000010?line=27'>28</a>\u001b[0m    \u001b[39m#          c='black',\u001b[39;00m\n\u001b[1;32m     <a href='vscode-notebook-cell:/Users/uno/TN/dummyrg/code/self_dual/isingSD_groundstate.ipynb#ch0000010?line=28'>29</a>\u001b[0m     \u001b[39m#         label='fit c = {c:.2f}'.format(c = fitParams[2]))\u001b[39;00m\n\u001b[1;32m     <a href='vscode-notebook-cell:/Users/uno/TN/dummyrg/code/self_dual/isingSD_groundstate.ipynb#ch0000010?line=29'>30</a>\u001b[0m     plt\u001b[39m.\u001b[39mplot(np\u001b[39m.\u001b[39mlinspace(\u001b[39m0.\u001b[39m,\u001b[39m1.5\u001b[39m,\u001b[39m100\u001b[39m), p(np\u001b[39m.\u001b[39mlinspace(\u001b[39m0.\u001b[39m,\u001b[39m1.5\u001b[39m,\u001b[39m100\u001b[39m)),\u001b[39m'\u001b[39m\u001b[39m-\u001b[39m\u001b[39m'\u001b[39m,\n\u001b[1;32m     <a href='vscode-notebook-cell:/Users/uno/TN/dummyrg/code/self_dual/isingSD_groundstate.ipynb#ch0000010?line=30'>31</a>\u001b[0m                  c\u001b[39m=\u001b[39m\u001b[39m'\u001b[39m\u001b[39mred\u001b[39m\u001b[39m'\u001b[39m,\n\u001b[1;32m     <a href='vscode-notebook-cell:/Users/uno/TN/dummyrg/code/self_dual/isingSD_groundstate.ipynb#ch0000010?line=31'>32</a>\u001b[0m                  markeredgewidth\u001b[39m=\u001b[39m\u001b[39m1.4\u001b[39m,\n\u001b[0;32m---> <a href='vscode-notebook-cell:/Users/uno/TN/dummyrg/code/self_dual/isingSD_groundstate.ipynb#ch0000010?line=32'>33</a>\u001b[0m     label\u001b[39m=\u001b[39m\u001b[39m'\u001b[39m\u001b[39mfit c = \u001b[39m\u001b[39m{c:.2f}\u001b[39;00m\u001b[39m'\u001b[39m\u001b[39m.\u001b[39mformat(c \u001b[39m=\u001b[39m fitParams[\u001b[39m2\u001b[39;49m]))\n\u001b[1;32m     <a href='vscode-notebook-cell:/Users/uno/TN/dummyrg/code/self_dual/isingSD_groundstate.ipynb#ch0000010?line=33'>34</a>\u001b[0m    \u001b[39m# fitParams[2]\u001b[39;00m\n\u001b[1;32m     <a href='vscode-notebook-cell:/Users/uno/TN/dummyrg/code/self_dual/isingSD_groundstate.ipynb#ch0000010?line=34'>35</a>\u001b[0m    \u001b[39m# plt.legend(loc='lower right', borderaxespad=0., fancybox=True, shadow=True, fontsize=16)\u001b[39;00m\n\u001b[1;32m     <a href='vscode-notebook-cell:/Users/uno/TN/dummyrg/code/self_dual/isingSD_groundstate.ipynb#ch0000010?line=36'>37</a>\u001b[0m plt\u001b[39m.\u001b[39mhlines([\u001b[39m1\u001b[39m,\u001b[39m2\u001b[39m,\u001b[39m3\u001b[39m,\u001b[39m4\u001b[39m,\u001b[39m5\u001b[39m],\n\u001b[1;32m     <a href='vscode-notebook-cell:/Users/uno/TN/dummyrg/code/self_dual/isingSD_groundstate.ipynb#ch0000010?line=37'>38</a>\u001b[0m     \u001b[39m0\u001b[39m, \u001b[39m1.\u001b[39m\u001b[39m/\u001b[39mnp\u001b[39m.\u001b[39mlog(\u001b[39m2\u001b[39m), colors\u001b[39m=\u001b[39m\u001b[39m'\u001b[39m\u001b[39mk\u001b[39m\u001b[39m'\u001b[39m, linestyles\u001b[39m=\u001b[39m\u001b[39m'\u001b[39m\u001b[39mdashed\u001b[39m\u001b[39m'\u001b[39m)\n",
      "\u001b[0;31mIndexError\u001b[0m: index 2 is out of bounds for axis 0 with size 2"
     ]
    },
    {
     "data": {
      "image/png": "[encoded data removed]",
      "text/plain": [
       "<Figure size 432x288 with 1 Axes>"
      ]
     },
     "metadata": {
      "needs_background": "light"
     },
     "output_type": "display_data"
    }
   ],
   "source": [
    "low=12\n",
    "high=L-low\n",
    "\n",
    "fig = plt.figure()\n",
    "for num_ratio in range(1,5):\n",
    "    first_ratio=[ent_ratios[k][num_ratio] for k in  range(low,high) ]\n",
    "#p=range(1,len(spectrum))\n",
    "#inverse_log=[1./np.log((np.float(k))) for k in range(2,L-1)]\n",
    "    inverse_log=[1./(np.log(L/np.pi*np.sin(np.pi*float(k)/L))) for k in range(low,high)]\n",
    "    #def quadfit(x, a, b,c):\n",
    "    #        return a*x*x+b*x+c\n",
    "    \n",
    "    z = np.polyfit(inverse_log, first_ratio, 2)\n",
    "    p = np.poly1d(z)\n",
    "    #fitParams, fitCovariances = curve_fit(quadfit,inverse_log ,first_ratio)\n",
    "    \n",
    "\n",
    "    plt.plot(inverse_log, first_ratio,'.',\n",
    "                 c='blue',\n",
    "                 ms=10.5,\n",
    "                 markerfacecolor='white',\n",
    "                 markeredgecolor='blue',\n",
    "                 markeredgewidth=1.4)\n",
    "\n",
    "#plt.plot(np.linspace(0.2,1.4,100),\n",
    " #            quadfit(np.linspace(0,0.3,100), fitParams[0], fitParams[1], fitParams[2]),\n",
    "  #           linewidth=1.5,\n",
    "   #          c='black',\n",
    "    #         label='fit c = {c:.2f}'.format(c = fitParams[2]))\n",
    "    plt.plot(np.linspace(0.,1.5,100), p(np.linspace(0.,1.5,100)),'-',\n",
    "                 c='red',\n",
    "                 markeredgewidth=1.4,\n",
    "    label='fit c = {c:.2f}'.format(c = fitParams[2]))\n",
    "   # fitParams[2]\n",
    "   # plt.legend(loc='lower right', borderaxespad=0., fancybox=True, shadow=True, fontsize=16)\n",
    "\n",
    "plt.hlines([1,2,3,4,5],\n",
    "    0, 1./np.log(2), colors='k', linestyles='dashed')\n",
    "#plt.hlines([3.5],\n",
    "  #    0,  1./np.log(2), colors='r', linestyles='dashed')\n",
    "plt.xlabel(r'$1/W(\\ell,N)$', fontsize=16)\n",
    "plt.xlim([0,0.6])\n",
    "plt.ylim([0,8])\n",
    "plt.ylabel(r'$r_j$', fontsize=16)\n",
    "#ax2 = plt.axes([0,0,1,1])\n",
    "plt.tight_layout()\n",
    "ax2=fig.add_axes([0.72, 0.7, 0.25, 0.25]) \n",
    "\n",
    "ax2.plot(w_l_L,entropies, 'o',\n",
    "                 c='blue',\n",
    "                 ms=5.5,\n",
    "                 markerfacecolor='white',\n",
    "                 markeredgecolor='blue',\n",
    "                 markeredgewidth=1.4 )\n",
    "\n",
    "ax2.set_xlabel(r'$W$', fontsize=16)\n",
    "ax2.set_ylabel(r'$S$', fontsize=16)\n",
    "\n",
    "ax2.plot(np.linspace(np.min(w_l_L),np.max(w_l_L)),p2(np.linspace(np.min(w_l_L),np.max(w_l_L))),'-',color='red')"
   ]
  },
  {
   "cell_type": "code",
   "execution_count": null,
   "metadata": {},
   "outputs": [],
   "source": []
  }
 ],
 "metadata": {
  "interpreter": {
   "hash": "aee8b7b246df8f9039afb4144a1f6fd8d2ca17a180786b69acc140d282b71a49"
  },
  "kernelspec": {
   "display_name": "Python 3.9.12 64-bit",
   "language": "python",
   "name": "python3"
  },
  "language_info": {
   "codemirror_mode": {
    "name": "ipython",
    "version": 3
   },
   "file_extension": ".py",
   "mimetype": "text/x-python",
   "name": "python",
   "nbconvert_exporter": "python",
   "pygments_lexer": "ipython3",
   "version": "3.9.12"
  },
  "orig_nbformat": 4
 },
 "nbformat": 4,
 "nbformat_minor": 2
}
