{
 "cells": [
  {
   "cell_type": "markdown",
   "metadata": {},
   "source": [
    "# MPS canonical forms "
   ]
  },
  {
   "cell_type": "code",
   "execution_count": 20,
   "metadata": {},
   "outputs": [
    {
     "name": "stdout",
     "output_type": "stream",
     "text": [
      "The autoreload extension is already loaded. To reload it, use:\n",
      "  %reload_ext autoreload\n"
     ]
    }
   ],
   "source": [
    "%load_ext autoreload\n",
    "%autoreload 2\n"
   ]
  },
  {
   "cell_type": "code",
   "execution_count": 88,
   "metadata": {},
   "outputs": [],
   "source": [
    "\n",
    "import numpy as np\n",
    "from numpy import linalg as LA\n",
    "from tensornetwork import ncon\n",
    "import logging\n",
    "\n",
    "import math \n",
    "import copy \n",
    "\n",
    "from myMPSstuff import myMPS, randMPS, bringCan, checkIdMatrix, expValOneSite\n",
    "\n",
    "\n",
    "logging.basicConfig()\n",
    "logger = logging.getLogger('Something')\n",
    "logger.setLevel(logging.INFO)"
   ]
  },
  {
   "cell_type": "code",
   "execution_count": 96,
   "metadata": {},
   "outputs": [
    {
     "name": "stdout",
     "output_type": "stream",
     "text": [
      "MPS with length 7 and physical d=2\n",
      "chi [1, 5, 5, 5, 5, 5, 5, 1]\n",
      "MPS with length 4 and physical d=3\n",
      "chi [7, 7, 7, 7, 7]\n",
      "Indices:\n",
      "\n",
      "[[29, 1, 30], [30, 2, 31], [31, 3, 32], [32, 4, 33]] [[29, 1, 38], [38, 2, 39], [39, 3, 40], [40, 4, 33]]\n"
     ]
    },
    {
     "data": {
      "text/plain": [
       "array(2322960.58995492)"
      ]
     },
     "execution_count": 96,
     "metadata": {},
     "output_type": "execute_result"
    }
   ],
   "source": [
    "test = myMPS()\n",
    "\n",
    "mpstest = np.random.rand(4,7,3,7)\n",
    "\n",
    "test = myMPS(mpstest)\n",
    "\n",
    "test.getIndices()\n",
    "\n",
    "test.updatePhysIndices([9,9,9,9])\n",
    "\n",
    "test.updateEdgeIndices([999,999])\n",
    "\n",
    "test.getIndices()\n",
    "\n",
    "test.getNorm()\n"
   ]
  },
  {
   "cell_type": "code",
   "execution_count": null,
   "metadata": {},
   "outputs": [],
   "source": []
  },
  {
   "cell_type": "markdown",
   "metadata": {},
   "source": [
    "## Are the SVs the same in the Left and Right forms ?"
   ]
  },
  {
   "cell_type": "code",
   "execution_count": 79,
   "metadata": {},
   "outputs": [
    {
     "name": "stdout",
     "output_type": "stream",
     "text": [
      "MPS with length 20 and physical d=2\n",
      "chi [1, 5, 5, 5, 5, 5, 5, 5, 5, 5, 5, 5, 5, 5, 5, 5, 5, 5, 5, 5, 1]\n",
      "Chis = [1, 2, 4, 5, 5, 5, 5, 5, 5, 5, 5, 5, 5, 5, 5, 5, 5, 5, 5, 5, 1]\n",
      "Chis = [1, 2, 4, 5, 5, 5, 5, 5, 5, 5, 5, 5, 5, 5, 5, 5, 5, 5, 4, 2, 1]\n",
      "Chis = [1, 2, 4, 5, 5, 5, 5, 5, 5, 5, 5, 5, 5, 5, 5, 5, 5, 5, 4, 2, 1]\n",
      "######\n",
      "[True]\n",
      "######\n"
     ]
    },
    {
     "name": "stderr",
     "output_type": "stream",
     "text": [
      "/usr/local/lib/python3.9/site-packages/numpy/core/fromnumeric.py:86: VisibleDeprecationWarning: Creating an ndarray from ragged nested sequences (which is a list-or-tuple of lists-or-tuples-or ndarrays with different lengths or shapes) is deprecated. If you meant to do this, you must specify 'dtype=object' when creating the ndarray.\n",
      "  return ufunc.reduce(obj, axis, dtype, out, **passkwargs)\n"
     ]
    }
   ],
   "source": [
    "mymps2 = myMPS(randMPS(20))\n",
    "\n",
    "bringCan(mymps2,mode='LR',epsTrunc=1e-8)\n",
    "aaa = mymps2.SV\n",
    "\n",
    "bringCan(mymps2,mode='L')\n",
    "bbb = mymps2.SV\n",
    "\n",
    "#print(aaa)\n",
    "\n",
    "#print(bbb)\n",
    "\n",
    "diff = [aaa[i]-bbb[i] for i in range(0,len(aaa)) ]\n",
    "\n",
    "#[ aa[np.abs(aa) < 1e-14] = 0  for aa in diff]\n",
    "\n",
    "#[ [el if el > 1e-14 else 0 for el in aa]  for aa in diff]\n",
    "\n",
    "print(\"######\")\n",
    "#print([ [el if el > 1e-14 else 0 for el in aa]  for aa in diff])\n",
    "print( np.all([ [aa < 1e-14 for aa in el] for el in diff]) )\n",
    "print(\"######\")\n",
    "\n",
    "\n",
    "# looks like YES "
   ]
  },
  {
   "cell_type": "markdown",
   "metadata": {},
   "source": [
    "## Check that we're actually in proper L-R canon forms by contracting a bit and see if we recover identity matrices and normalizations "
   ]
  },
  {
   "cell_type": "code",
   "execution_count": 99,
   "metadata": {},
   "outputs": [
    {
     "name": "stdout",
     "output_type": "stream",
     "text": [
      "MPS with length 6 and physical d=2\n",
      "chi [1, 5, 5, 5, 5, 5, 1]\n",
      "Chis = [1, 2, 4, 5, 5, 5, 1]\n",
      "Chis = [1, 2, 4, 5, 4, 2, 1]\n",
      "Chis = [1, 2, 4, 5, 4, 2, 1]\n",
      "Indices:\n",
      "\n",
      "[[43, 1, 44], [44, 2, 45], [45, 3, 46], [46, 4, 47], [47, 5, 48], [48, 6, 49]] [[43, 1, 56], [56, 2, 57], [57, 3, 58], [58, 4, 59], [59, 5, 60], [60, 6, 49]]\n",
      "Norm=1.0\n",
      "identity, size = 2\n",
      "identity, size = 4\n",
      "identity, size = 5\n",
      "identity, size = 4\n",
      "identity, size = 2\n",
      "identity, size = 1\n",
      "\n",
      "identity, size = 1\n",
      "identity, size = 2\n",
      "identity, size = 4\n",
      "identity, size = 5\n",
      "identity, size = 4\n",
      "identity, size = 2\n"
     ]
    }
   ],
   "source": [
    "mymps3 = myMPS(randMPS(6))\n",
    "aaa = bringCan(mymps3,mode='LR',epsTrunc=1e-6)\n",
    "bbb = bringCan(mymps3,mode='L')\n",
    "\n",
    "# So now the MPS should be normalized and in  LEFT canonical form \n",
    "# Check by contracting some A's \n",
    "\n",
    "print(f\"Norm={mymps3.getNorm()}\")\n",
    "\n",
    "mp = mymps3.MPS\n",
    "sv = mymps3.SV\n",
    "svinv = [svv**(-1) for svv in sv ]\n",
    "\n",
    "for m in mp:\n",
    "    checkIdMatrix(ncon([m,np.conj(m)],[[1,2,-1],[1,2,-2]]))\n",
    "\n",
    "\n",
    "\n",
    "# Looks good \n",
    "\n",
    "# Now try and build the B's using the recipe \n",
    "#Bj = (L_{j-1})^-1 @ Aj @ Lj\n",
    "\n",
    "\n",
    "print(\"\")\n",
    "\n",
    "for j in range(0,len(mp)):\n",
    "    #print(j,np.shape(svinv[j]),  np.shape(mp[j]), np.shape(sv[j+1]))\n",
    "    mb = ncon([np.diag(svinv[j]),  mp[j] ,  np.diag(sv[j+1]) ], [[-1,1],[1,-2,2],[2,-3]])\n",
    "    checkIdMatrix(ncon([mb,np.conj(mb)],[[-1,1,2],[-2,1,2]]))\n",
    "\n",
    "\n",
    "# Also looks good. \n",
    "\n"
   ]
  },
  {
   "cell_type": "markdown",
   "metadata": {},
   "source": [
    "## Try computing an expectation value, first the \"hard\" way (ncon the whole thing), then using the right-canonical expression"
   ]
  },
  {
   "cell_type": "code",
   "execution_count": null,
   "metadata": {},
   "outputs": [
    {
     "name": "stdout",
     "output_type": "stream",
     "text": [
      "MPS with length 7 and physical d=2\n",
      "chi [5, 5, 5, 5, 5, 5]\n",
      "MPS with length 7 and physical d=2\n",
      "chi [5, 5, 5, 5, 5, 5]\n",
      "[{'vL': 0, 'ph': 1, 'vR': 22}, {'vL': 22, 'ph': 2, 'vR': 23}, {'vL': 23, 'ph': 3, 'vR': 24}, {'vL': 24, 'ph': 4, 'vR': 25}, {'vL': 25, 'ph': 5, 'vR': 26}, {'vL': 26, 'ph': 6, 'vR': 27}, {'vL': 27, 'ph': 7, 'vR': 0}]\n",
      "[[1, 22], [22, 2, 23], [23, 3, 24], [24, 4, 25], [25, 5, 26], [26, 6, 27], [27, 7]]\n",
      "[[1, 36], [36, 2, 37], [37, 3, 38], [38, 4, 39], [39, 5, 40], [40, 6, 41], [41, 7]]\n",
      "[[1, 22], [22, 2, 23], [23, 3, 24], [24, 4, 25], [25, 5, 26], [26, 6, 27], [27, 7], [1, 36], [36, 2, 37], [37, 3, 38], [38, 4, 39], [39, 5, 40], [40, 6, 41], [41, 7]]\n",
      "norm/alized = 164429410.63905928,1.0\n",
      "15 7 7 2\n",
      "0.9761630417692106\n",
      "Chis = [2, 4, 5, 5, 5, 5]\n",
      "Chis = [2, 4, 5, 5, 4, 2]\n",
      "(4, 4)\n",
      "(4, 4)\n",
      "(4, 2, 5)\n",
      "(4, 2, 5)\n",
      "(2, 2)\n",
      "5 5\n",
      "0.9761630417692098\n",
      "Chis = [2, 4, 5, 5, 5, 5]\n",
      "Chis = [2, 4, 5, 5, 4, 2]\n",
      "0.9761630417692098\n"
     ]
    }
   ],
   "source": [
    "# Try to do it a bit better, define separately psi and psi*\n",
    "# and compute the norm \n",
    "\n",
    "testL = 7\n",
    "testd = 2\n",
    "testChi = 5\n",
    "\n",
    "mypsi = myMPS(randMPS(testL,chi=testChi, d=testd), offIndices=3)\n",
    "mypsic = myMPS(randMPS(testL,chi=testChi, d=testd), offIndices=5)\n",
    "\n",
    "\n",
    "# Now define the operator to exp-value\n",
    "\n",
    "# Say we wanna compute <sigma_x> \n",
    "op1 = np.array([[0,1.],[1.,0]])\n",
    "\n",
    "# at site r = 3 \n",
    "\n",
    "psiOpens = [1,2,66,4,5,6,7]\n",
    "psicOpens = [1,2,67,4,5,6,7]\n",
    "op1Opens = [[66,67]]\n",
    "\n",
    "mypsi.updateIndices(psiOpens)\n",
    "mypsic.updateIndices(psicOpens)\n",
    "\n",
    "mtocon = copy.deepcopy(mypsi.MPS)\n",
    "mtocon.extend(mypsic.MPS)\n",
    "mtocon.extend([op1])\n",
    "\n",
    "print(len(mtocon),len(mypsi.MPS),len(mypsic.MPS),len(op1))\n",
    "\n",
    "itocon = mypsi.getIndices()\n",
    "itocon.extend(mypsic.getIndices())\n",
    "itocon.extend(op1Opens)\n",
    "\n",
    "#print(itocon)\n",
    "#print(mtocon)\n",
    "#print(len(itocon),len(mtocon))\n",
    "\n",
    "tnc = ncon(mtocon,itocon)\n",
    "\n",
    "print(np.real_if_close(tnc/norm))\n",
    "\n",
    "\n",
    "# Now compute it with the canonical form \n",
    "\n",
    "copymypsi = copy.deepcopy(mypsi)\n",
    "psiR = bringCan(copymypsi,mode='LR',epsTrunc=1e-12)\n",
    "\n",
    "\n",
    "conTen = [np.diag(copymypsi.SV[1]),np.diag(copymypsi.SV[1]),copymypsi.MPS[2],np.conj(copymypsi.MPS[2]),op1]\n",
    "conIdx = [[1,2],[1,3],[3,4,5],[2,6,5],[4,6]]\n",
    "\n",
    "[print(np.shape(elem)) for elem in conTen]\n",
    "print(len(conTen),len(conIdx))\n",
    "\n",
    "print(np.real_if_close(ncon(conTen,conIdx)))\n",
    "\n",
    "copymypsi2 = copy.deepcopy(mypsi)\n",
    "\n",
    "print(expValOneSite(copymypsi2,op1,2))"
   ]
  },
  {
   "cell_type": "markdown",
   "metadata": {},
   "source": [
    "# The canonical form Gamma-Lambda \n",
    "\n",
    "Let's build it from our LR sweep\n",
    "and check that we get the same results for our MPS "
   ]
  },
  {
   "cell_type": "code",
   "execution_count": null,
   "metadata": {},
   "outputs": [],
   "source": []
  }
 ],
 "metadata": {
  "interpreter": {
   "hash": "aee8b7b246df8f9039afb4144a1f6fd8d2ca17a180786b69acc140d282b71a49"
  },
  "kernelspec": {
   "display_name": "Python 3.9.10 64-bit",
   "language": "python",
   "name": "python3"
  },
  "language_info": {
   "codemirror_mode": {
    "name": "ipython",
    "version": 3
   },
   "file_extension": ".py",
   "mimetype": "text/x-python",
   "name": "python",
   "nbconvert_exporter": "python",
   "pygments_lexer": "ipython3",
   "version": "3.9.12"
  },
  "orig_nbformat": 4
 },
 "nbformat": 4,
 "nbformat_minor": 2
}
