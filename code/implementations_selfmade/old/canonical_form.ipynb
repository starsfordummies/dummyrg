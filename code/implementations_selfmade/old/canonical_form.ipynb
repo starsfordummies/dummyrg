{
 "cells": [
  {
   "cell_type": "markdown",
   "metadata": {},
   "source": [
    "# MPS canonical forms "
   ]
  },
  {
   "cell_type": "code",
   "execution_count": 17,
   "metadata": {},
   "outputs": [],
   "source": [
    "\n",
    "import numpy as np\n",
    "from numpy import linalg as LA\n",
    "from tensornetwork import ncon\n"
   ]
  },
  {
   "cell_type": "code",
   "execution_count": 18,
   "metadata": {},
   "outputs": [
    {
     "name": "stdout",
     "output_type": "stream",
     "text": [
      "[5, 5, 5, 5, 5, 5, 5, 5, 5, 5]\n"
     ]
    }
   ],
   "source": [
    "lis1 = [5]* 10\n",
    "print(lis1)"
   ]
  },
  {
   "cell_type": "code",
   "execution_count": 19,
   "metadata": {},
   "outputs": [],
   "source": [
    "# MPS Builder form - OBC for now \n",
    "def buildMPS(LL: int, chi: int=10, d: int=2):\n",
    "\n",
    "    print(f\"Building MPS with length {LL}, chi = {chi} and physical d={d}\")\n",
    "\n",
    "    myChi = [chi] * (LL-1)\n",
    "    mySV = [1] * (LL-1)\n",
    "\n",
    "    # Build the first element of the MPS A_1 (actually 0th elem of the list)\n",
    "    myMPS = [ np.random.rand(d,chi) + 1j*np.random.rand(d,chi) ]\n",
    "\n",
    "    #Build all the others, A_2 to A_(N-1)\n",
    "    for ii in range(2,LL):  # 2 to N-1, so actually building N-2 elements\n",
    "         myMPS.append(np.random.rand(chi,d,chi) + 1j*np.random.rand(chi,d,chi) )\n",
    " \n",
    "    # Build the Nth element (actually element N-1 of the list)\n",
    "    myMPS.append( np.random.rand(chi,d) + 1j*np.random.rand(chi,d))\n",
    "\n",
    "    return myMPS, myChi, mySV\n"
   ]
  },
  {
   "cell_type": "code",
   "execution_count": 20,
   "metadata": {},
   "outputs": [],
   "source": [
    "class randMPS:                   \n",
    " \n",
    "    def __init__(self, LL: int, chi: int=10, d: int=2):\n",
    "\n",
    "        print(f\"Building MPS with length {LL}, chi = {chi} and physical d={d}\")\n",
    "\n",
    "        mChi = [chi] * (LL-1)\n",
    "        mSV = [1] * (LL-1)\n",
    "\n",
    "        # Build the first element of the MPS A_1 (actually 0th elem of the list)\n",
    "        mMPS = [ np.random.rand(d,chi) + 1j*np.random.rand(d,chi) ]\n",
    "\n",
    "        #Build all the others, A_2 to A_(N-1)\n",
    "        for _ in range(2,LL):  # 2 to N-1, so actually building N-2 elements\n",
    "            mMPS.append(np.random.rand(chi,d,chi) + 1j*np.random.rand(chi,d,chi) )\n",
    "    \n",
    "        # Build the Nth element (actually element N-1 of the list)\n",
    "        mMPS.append( np.random.rand(chi,d) + 1j*np.random.rand(chi,d))\n",
    "\n",
    "    \n",
    "        self.MPS = mMPS  \n",
    "        self.d = d\n",
    "        self.LL = LL     \n",
    "        self.chi = mChi\n",
    "        self.SV = mSV  # Probably unnecessary\n",
    "        "
   ]
  },
  {
   "cell_type": "code",
   "execution_count": 21,
   "metadata": {},
   "outputs": [],
   "source": [
    "import logging\n",
    "\n",
    "def bringLeftCan(MPS: object):\n",
    "\n",
    "    \"\"\" \n",
    "    Performs LEFT sweep of MPS \n",
    "    \"\"\"\n",
    "    \n",
    "    Slist = MPS.SV\n",
    "  \n",
    "\n",
    "    chilist = MPS.chi\n",
    "\n",
    "    Vdaglist = []  # Unnecessary?\n",
    "    Alist = []\n",
    "\n",
    "    # First site:\n",
    "\n",
    "    U, S, Vdag = LA.svd(MPS[0],full_matrices=0)\n",
    "\n",
    "    logging.info(\"First SVD:\")\n",
    "    logging.info( f\"{np.shape(MPS[0])} = {np.shape(U)} . {np.shape(S)} . {np.shape(Vdag)}\")\n",
    "    logging.info(f\"SV = {S}\")\n",
    "    logging.info( f\"{aMPS[0]} = {U} . {S} . {Vdag}\")\n",
    "    logging.info(f\"r[0] (nonzero SVs) = {np.size(S)}\")\n",
    "\n",
    "    chilist[0] = np.size(S)\n",
    "\n",
    "    Slist[0] = np.diag(S)  # We build a matrix from the SVDs\n",
    "\n",
    "    Vdaglist.append(Vdag)\n",
    "\n",
    "    Alist.append(U)\n",
    "\n",
    "    \"\"\" \n",
    "    Going to the next one, we need to make some products and some reshaping.\n",
    "    We work with \n",
    "    \"\"\"\n",
    "\n",
    "    for jj in range(1,NN-1):\n",
    "        print(f\"Building leftcanon form for M[{jj}]. First build Mtilde = SV.Vdag.M[{jj}]\")\n",
    "        SVdag = Slist[-1] @ Vdaglist[-1]\n",
    "        \n",
    "        print(f\"SV = {np.shape(Slist[-1])} , Vdag = {np.shape(Vdaglist[-1])}\")\n",
    "        print(f\"SVdag = {np.shape(SVdag)} , M{jj} = {np.shape(aMPS[jj])}\")\n",
    "\n",
    "        Mtilde = ncon([SVdag, aMPS[jj]], [[-1,1],[1,-2,-3]])  # TODO: CHECK THIS PROD\n",
    "\n",
    "        print(f\"Mtilde = {np.shape(Mtilde)}\")\n",
    "        Mtr = np.reshape(Mtilde, (chilist[-1]*d, chi))\n",
    "\n",
    "        U, S, Vdag = LA.svd(Mtr,full_matrices=0)  #TODO: work with compressed matrices?\n",
    "        \n",
    "        print( f\"SVD: {np.shape(Mtr)} = {np.shape(U)} . {np.shape(S)} . {np.shape(Vdag)}\")\n",
    "\n",
    "        print(f\"r[{jj}] (nonzero SVs) = {np.size(S)}\")\n",
    "\n",
    "        chilist.append(np.size(S))\n",
    "\n",
    "        # Reshape U\n",
    "\n",
    "        U = np.reshape(U,(chilist[-2],d,chilist[-1]))\n",
    "\n",
    "        Ulist.append(U)\n",
    "        Slist.append(np.diag(S))  # We build a matrix from the SVDs\n",
    "        Vdaglist.append(Vdag)\n",
    "\n",
    "        Alist.append(U)\n",
    "\n",
    "\n",
    "    # Now the last site (\"L-1\")\n",
    "    print(f\"Last site is just a vector, ie. tensor has shape {np.shape(aMPS[NN-1])}\")\n",
    "\n",
    "    SVdag = Slist[-1] @ Vdaglist[-1]\n",
    "      \n",
    "    print(f\"SV = {np.shape(Slist[-1])} , Vdag = {np.shape(Vdaglist[-1])}\")\n",
    "    print(f\"SVdag = {np.shape(SVdag)} , M{NN-1} = {np.shape(aMPS[NN-1])}\")\n",
    "\n",
    "    Mtilde = ncon([SVdag, aMPS[NN-1]], [[-1,1],[1,-2]])  # TODO: CHECK THIS PROD\n",
    "\n",
    "    print(f\"Mtilde = {np.shape(Mtilde)}\")\n",
    "\n",
    "    # We should still reshape here!\n",
    "    Mtr = np.reshape(Mtilde, (chilist[-1]*d, 1))\n",
    "\n",
    "    U, S, Vdag = LA.svd(Mtr,full_matrices=0)  #TODO: work with compressed matrices?\n",
    "      \n",
    "    print( f\"SVD: {np.shape(Mtr)} = {np.shape(U)} . {np.shape(S)} . {np.shape(Vdag)}\")\n",
    "\n",
    "    print(f\"r[{jj}] (nonzero SVs) = {np.size(S)}\")\n",
    "\n",
    "    # We don't need the last chi, it's just 1 \n",
    "    #chilist.append(np.size(S))\n",
    "\n",
    "    # I guess we can reshape the last simply as\n",
    "\n",
    "    print(f\"From {np.shape(U)} \")\n",
    "    #U = np.reshape(U,(chilist[-2],d,chilist[-1]))\n",
    "    U = np.reshape(U,(chilist[-2],d))\n",
    "    print(f\"to {np.shape(U)} \")\n",
    "\n",
    "    Alist.append(U)\n",
    "\n",
    "    print(f\"Built a list of {len(Alist)} left-canon tensors (cfr. L = {NN} )\")\n",
    "    print(f\"And a list of {len(chilist)} bond dimensions\")\n",
    "\n",
    "    # The last factor should give the normalization\n",
    "\n",
    "    tail = S @ Vdag \n",
    "\n",
    "    print(tail, tail*tail)\n",
    "\n",
    "    # So we can just chuck it away I guess..\n"
   ]
  },
  {
   "cell_type": "code",
   "execution_count": 12,
   "metadata": {},
   "outputs": [
    {
     "name": "stdout",
     "output_type": "stream",
     "text": [
      "Building MPS with length 20, chi = 10 and physical d=2\n"
     ]
    }
   ],
   "source": [
    "\n",
    "mMPS, mChi, mSV = buildMPS(20)"
   ]
  },
  {
   "cell_type": "code",
   "execution_count": null,
   "metadata": {},
   "outputs": [],
   "source": []
  }
 ],
 "metadata": {
  "interpreter": {
   "hash": "aee8b7b246df8f9039afb4144a1f6fd8d2ca17a180786b69acc140d282b71a49"
  },
  "kernelspec": {
   "display_name": "Python 3.9.10 64-bit",
   "language": "python",
   "name": "python3"
  },
  "language_info": {
   "codemirror_mode": {
    "name": "ipython",
    "version": 3
   },
   "file_extension": ".py",
   "mimetype": "text/x-python",
   "name": "python",
   "nbconvert_exporter": "python",
   "pygments_lexer": "ipython3",
   "version": "3.9.10"
  },
  "orig_nbformat": 4
 },
 "nbformat": 4,
 "nbformat_minor": 2
}
