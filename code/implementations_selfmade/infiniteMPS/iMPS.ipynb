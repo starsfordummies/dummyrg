{
 "cells": [
  {
   "cell_type": "code",
   "execution_count": 8,
   "metadata": {},
   "outputs": [],
   "source": [
    "import numpy as np\n",
    "from numpy import linalg as LA\n",
    "from tensornetwork import ncon\n",
    "import logging\n",
    "\n",
    "from scipy.sparse.linalg import LinearOperator, eigs\n",
    "\n",
    "import math \n",
    "import copy \n"
   ]
  },
  {
   "cell_type": "code",
   "execution_count": 14,
   "metadata": {},
   "outputs": [
    {
     "name": "stdout",
     "output_type": "stream",
     "text": [
      "iter: 0, diff: 5.009089e+00\n",
      "iter: 1, diff: 3.900482e-03\n",
      "iter: 2, diff: 4.480649e-05\n",
      "iter: 3, diff: 5.857921e-07\n",
      "iter: 4, diff: 1.058770e-08\n",
      "iter: 5, diff: 1.158899e-10\n",
      "iter: 6, diff: 1.444826e-12\n",
      "iter: 7, diff: 1.829284e-14\n",
      "success!\n",
      "4.873060251453353e-16\n"
     ]
    }
   ],
   "source": [
    "d = 2\n",
    "chi = 10\n",
    "\n",
    "A = np.random.rand(chi, d, chi)\n",
    "B = np.random.rand(chi, d, chi)\n",
    "\n",
    "sAB = np.ones(chi) / np.sqrt(chi)  # set trivial initial weights\n",
    "sBA = np.ones(chi) / np.sqrt(chi)  # set trivial initial weights\n",
    "\n",
    "sigBA = np.random.rand(chi, chi)  # initialize random starting point\n",
    "\n",
    "tol = 1e-14  # set convergence tolerance\n",
    "\n",
    "\n",
    "# define the tensor network\n",
    "tensors = [np.diag(sBA), np.diag(sBA), A, A.conj(), np.diag(sAB),\n",
    "           np.diag(sAB), B, B.conj()]\n",
    "labels = [[1,2],[1,3],[2,4],[3,5,6],[4,5,7],[6,8],[7,9],[8,10,-1],[9,10,-2]]\n",
    "\n",
    "for k in range(1000):\n",
    "  sigBA_new = ncon([sigBA, *tensors], labels)  # contract transfer operator\n",
    "  sigBA_new = sigBA_new / np.trace(sigBA_new)  # normalize\n",
    "  if LA.norm(sigBA - sigBA_new) < tol:  # check convergence\n",
    "    print('success!')\n",
    "    break\n",
    "  else:\n",
    "    print('iter: %d, diff: %e' % (k, LA.norm(sigBA - sigBA_new)))\n",
    "    # print(sigBA_new)\n",
    "    sigBA = sigBA_new\n",
    "\n",
    "sigBAv1 = copy.copy(sigBA)\n",
    "\n",
    "\n",
    "sigBA = np.random.rand(chi, chi)\n",
    "\n",
    "# initialize the starting vector\n",
    "chiBA = A.shape[0]\n",
    "if sigBA.shape[0] == chiBA:\n",
    "    v0 = sigBA.reshape(np.prod(sigBA.shape))\n",
    "else:\n",
    "    v0 = (np.eye(chiBA) / chiBA).reshape(chiBA**2)\n",
    "\n",
    "# define network for transfer operator contract\n",
    "tensors = [np.diag(sBA), np.diag(sBA), A, A.conj(), np.diag(sAB),\n",
    "            np.diag(sAB), B, B.conj()]\n",
    "labels = [[1, 2], [1, 3], [2, 4], [3, 5, 6], [4, 5, 7], [6, 8], [7, 9],\n",
    "        [8, 10, -1], [9, 10, -2]]\n",
    "\n",
    "# define function for boundary contraction and pass to eigs\n",
    "def left_iter(sigBA):\n",
    "    return ncon([sigBA.reshape([chiBA, chiBA]), *tensors],\n",
    "            labels).reshape([chiBA**2, 1])\n",
    "\n",
    "Dtemp, sigBA = eigs(LinearOperator((chiBA**2, chiBA**2), matvec=left_iter),\n",
    "                    k=1, which='LM', tol=tol)\n",
    "\n",
    "# normalize the environment density matrix sigBA\n",
    "if np.isrealobj(A):\n",
    "    sigBA = np.real(sigBA)\n",
    "sigBA = sigBA.reshape(chiBA, chiBA)\n",
    "sigBA = 0.5 * (sigBA + np.conj(sigBA.T))\n",
    "sigBA = sigBA / np.trace(sigBA)\n",
    "\n",
    "print(LA.norm(sigBA.reshape(chiBA,chiBA)-sigBAv1))\n"
   ]
  },
  {
   "cell_type": "code",
   "execution_count": null,
   "metadata": {},
   "outputs": [],
   "source": []
  }
 ],
 "metadata": {
  "interpreter": {
   "hash": "aee8b7b246df8f9039afb4144a1f6fd8d2ca17a180786b69acc140d282b71a49"
  },
  "kernelspec": {
   "display_name": "Python 3.9.10 64-bit",
   "language": "python",
   "name": "python3"
  },
  "language_info": {
   "codemirror_mode": {
    "name": "ipython",
    "version": 3
   },
   "file_extension": ".py",
   "mimetype": "text/x-python",
   "name": "python",
   "nbconvert_exporter": "python",
   "pygments_lexer": "ipython3",
   "version": "3.9.12"
  },
  "orig_nbformat": 4
 },
 "nbformat": 4,
 "nbformat_minor": 2
}
