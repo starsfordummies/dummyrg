{
 "cells": [
  {
   "cell_type": "code",
   "execution_count": 1,
   "metadata": {},
   "outputs": [],
   "source": [
    "\n",
    "import numpy as np\n",
    "from numpy import linalg as LA\n",
    "from tensornetwork import ncon\n",
    "import logging\n",
    "from scipy.linalg import expm\n",
    "\n",
    "import math \n",
    "import copy \n",
    "\n",
    "from myMPSstuff import myMPS, randMPS, bringCan, checkIdMatrix, expValOneSite"
   ]
  },
  {
   "cell_type": "code",
   "execution_count": 2,
   "metadata": {},
   "outputs": [
    {
     "name": "stdout",
     "output_type": "stream",
     "text": [
      "MPS with length 20 and physical d=2\n",
      "chi [5, 5, 5, 5, 5, 5, 5, 5, 5, 5, 5, 5, 5, 5, 5, 5, 5, 5, 5]\n",
      "Chis = [2, 4, 5, 5, 5, 5, 5, 5, 5, 5, 5, 5, 5, 5, 5, 5, 5, 5, 5]\n",
      "Chis = [2, 4, 5, 5, 5, 5, 5, 5, 5, 5, 5, 5, 5, 5, 5, 5, 5, 4, 2]\n"
     ]
    },
    {
     "data": {
      "text/plain": [
       "'R'"
      ]
     },
     "execution_count": 2,
     "metadata": {},
     "output_type": "execute_result"
    }
   ],
   "source": [
    "mymps = myMPS(randMPS(20))\n",
    "sigmax = np.array([[0.,1.],[1.,0.]])\n",
    "sigmaz = np.array([[1,0],[0,-1]])\n",
    "\n",
    "gg = 0.25\n",
    "tau = 0.1\n",
    "\n",
    "\n",
    "sxsx = np.tensordot(sigmax,sigmax,axes=0)\n",
    "sz = 0.5*(np.tensordot(sigmaz,np.eye(2),axes=0) + np.tensordot(np.eye(2), sigmaz,axes=0))\n",
    "hnn = -gg*sxsx + sz\n",
    "\n",
    "\n",
    "exph = expm(- tau*hnn.reshape(4,4)).reshape(2,2,2,2)\n",
    "\n",
    "bringCan(mymps,mode='LR',epsTrunc=1e-8)\n",
    "\n",
    "lam = mymps.SV\n",
    "Bi = mymps.MPS\n",
    "\n",
    "for rr in range(len(Bi),2):\n",
    "    print(f\"Working with L_{rr}_, B_{rr} and B_{rr+1}\" )\n",
    "    theta = ncon([lam[rr], Bi[rr], Bi[rr+1]],[[-1,1],[1,-2,3],[3,-4,-5]])\n",
    "    thetaU = ncon([theta,exph],[[-1,1,2,-2],[1,-3,2,-4]])\n",
    "\n",
    "    A, Lamii, Btii = LA.svd(thetaU.reshape(...))\n",
    "\n",
    "\n"
   ]
  },
  {
   "cell_type": "code",
   "execution_count": null,
   "metadata": {},
   "outputs": [],
   "source": []
  }
 ],
 "metadata": {
  "interpreter": {
   "hash": "aee8b7b246df8f9039afb4144a1f6fd8d2ca17a180786b69acc140d282b71a49"
  },
  "kernelspec": {
   "display_name": "Python 3.9.10 64-bit",
   "language": "python",
   "name": "python3"
  },
  "language_info": {
   "codemirror_mode": {
    "name": "ipython",
    "version": 3
   },
   "file_extension": ".py",
   "mimetype": "text/x-python",
   "name": "python",
   "nbconvert_exporter": "python",
   "pygments_lexer": "ipython3",
   "version": "3.9.12"
  },
  "orig_nbformat": 4
 },
 "nbformat": 4,
 "nbformat_minor": 2
}
