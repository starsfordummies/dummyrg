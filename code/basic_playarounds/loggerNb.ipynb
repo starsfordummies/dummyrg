{
 "cells": [
  {
   "cell_type": "code",
   "execution_count": 1,
   "metadata": {},
   "outputs": [
    {
     "name": "stderr",
     "output_type": "stream",
     "text": [
      "2022-07-08 20:01:04,722 - mylog - DEBUG - debug message\n",
      "DEBUG:mylog:debug message\n",
      "2022-07-08 20:01:04,723 - mylog - INFO - info message\n",
      "INFO:mylog:info message\n",
      "2022-07-08 20:01:04,725 - mylog - WARNING - warn message\n",
      "WARNING:mylog:warn message\n",
      "2022-07-08 20:01:04,734 - mylog - ERROR - error message\n",
      "ERROR:mylog:error message\n",
      "2022-07-08 20:01:04,736 - mylog - CRITICAL - critical message\n",
      "CRITICAL:mylog:critical message\n"
     ]
    },
    {
     "name": "stdout",
     "output_type": "stream",
     "text": [
      "MPS with length 7 and physical d=2\n",
      "chi [1, 5, 5, 5, 5, 5, 5, 1]\n"
     ]
    }
   ],
   "source": [
    "\n",
    "###################\n",
    "# SETUP LOGGER\n",
    "###################\n",
    "\n",
    "import logging\n",
    "\n",
    "from myMPSstuff import myMPS\n",
    "\n",
    "# create logger\n",
    "#logger = logging.getLogger(__name__)\n",
    "logger = logging.getLogger('mylog')\n",
    "\n",
    "# set log level for all handlers to debug\n",
    "logger.setLevel(logging.DEBUG)\n",
    "\n",
    "# create console handler and set level to debug\n",
    "# best for development or debugging\n",
    "consoleHandler = logging.StreamHandler()\n",
    "consoleHandler.setLevel(logging.DEBUG)\n",
    "\n",
    "# create formatter\n",
    "formatter = logging.Formatter('%(asctime)s - %(name)s - %(levelname)s - %(message)s')\n",
    "\n",
    "# add formatter to ch\n",
    "consoleHandler.setFormatter(formatter)\n",
    "\n",
    "# add ch to logger\n",
    "logger.addHandler(consoleHandler)\n",
    "\n",
    "###################\n",
    "# USE LOGGER\n",
    "###################\n",
    "\n",
    "# example usage\n",
    "logger.debug('debug message')\n",
    "logger.info('info message')\n",
    "logger.warning('warn message')\n",
    "logger.error('error message')\n",
    "logger.critical('critical message')\n",
    "\n",
    "\n",
    "\n",
    "test = myMPS()  # This should spit out a logger message from console\n"
   ]
  },
  {
   "cell_type": "code",
   "execution_count": null,
   "metadata": {},
   "outputs": [],
   "source": []
  }
 ],
 "metadata": {
  "kernelspec": {
   "display_name": "Python 3.9.13 64-bit",
   "language": "python",
   "name": "python3"
  },
  "language_info": {
   "codemirror_mode": {
    "name": "ipython",
    "version": 3
   },
   "file_extension": ".py",
   "mimetype": "text/x-python",
   "name": "python",
   "nbconvert_exporter": "python",
   "pygments_lexer": "ipython3",
   "version": "3.9.13"
  },
  "orig_nbformat": 4,
  "vscode": {
   "interpreter": {
    "hash": "aee8b7b246df8f9039afb4144a1f6fd8d2ca17a180786b69acc140d282b71a49"
   }
  }
 },
 "nbformat": 4,
 "nbformat_minor": 2
}
