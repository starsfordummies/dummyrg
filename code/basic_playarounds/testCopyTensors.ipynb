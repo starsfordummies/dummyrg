{
 "cells": [
  {
   "cell_type": "code",
   "execution_count": 1,
   "metadata": {},
   "outputs": [],
   "source": [
    "import numpy as np \n",
    "import scipy.linalg as LA\n",
    "\n",
    "from tensornetwork import ncon"
   ]
  },
  {
   "cell_type": "code",
   "execution_count": 2,
   "metadata": {},
   "outputs": [],
   "source": [
    "sz = np.array([[1,0.],[0,-1]])\n"
   ]
  },
  {
   "cell_type": "code",
   "execution_count": 3,
   "metadata": {},
   "outputs": [
    {
     "name": "stdout",
     "output_type": "stream",
     "text": [
      "[[1. 0.]\n",
      " [0. 1.]]\n",
      "[[ 1. -0.]\n",
      " [-0.  1.]]\n",
      "[[ 1. -0.]\n",
      " [-0.  1.]]\n",
      "[[1. 0.]\n",
      " [0. 1.]]\n"
     ]
    }
   ],
   "source": [
    "\n",
    "\n",
    "phi = np.mod(np.random.rand(1),2*np.pi)[0]\n",
    "theta = np.mod(np.random.rand(1),np.pi)[0]\n",
    "psi = np.mod(np.random.rand(1),4.*np.pi)[0]\n",
    "\n",
    "uL = LA.expm(1j*sz*phi/2.) \n",
    "uR = LA.expm(1j*sz*psi/2.) \n",
    "\n",
    "cc =  np.cos( theta/2 )\n",
    "iss = 1j*np.sin(theta/2)\n",
    "\n",
    "V = np.array( [[ cc, iss ], [iss, cc  ]])\n",
    "\n",
    "\n",
    "U1 = uL @ V @ uR \n",
    "\n",
    "U1dag = np.conj(U1).transpose()\n",
    "\n",
    "print(np.real_if_close(np.round(U1 @ U1dag ,10)))\n",
    "print(np.real_if_close(np.round(U1dag @ U1 ,10)))\n",
    "\n",
    "print(np.real_if_close(np.round(ncon( [U1, U1.conj()], [[1,-1],[1,-2]]),10 )))\n",
    "print(np.real_if_close(np.round(ncon( [U1, U1.conj()], [[-1,1],[-2,1]]),10 )))"
   ]
  },
  {
   "cell_type": "code",
   "execution_count": 4,
   "metadata": {},
   "outputs": [],
   "source": [
    "ct3 = np.zeros((2,2,2))\n",
    "ct3[0,0,0]=1\n",
    "ct3[1,1,1]=1\n",
    "\n",
    "ct4 = np.zeros((2,2,2,2))\n",
    "ct4[0,0,0,0]=1\n",
    "ct4[1,1,1,1]=1\n",
    "\n"
   ]
  },
  {
   "cell_type": "code",
   "execution_count": 5,
   "metadata": {},
   "outputs": [
    {
     "data": {
      "text/plain": [
       "array([[0.+0.85029052j, 0.+0.49688699j],\n",
       "       [0.+0.49688699j, 0.-0.85029052j]])"
      ]
     },
     "execution_count": 5,
     "metadata": {},
     "output_type": "execute_result"
    }
   ],
   "source": [
    "U1c = U1.conj()\n",
    "U1-U1c"
   ]
  },
  {
   "cell_type": "code",
   "execution_count": 10,
   "metadata": {},
   "outputs": [
    {
     "name": "stdout",
     "output_type": "stream",
     "text": [
      "[(0.8649140586330117+0j), (0.8649140586330116+0j), (0.8649140586330117+0j)]\n",
      "[ True False  True False False  True False  True  True False  True False\n",
      " False  True False  True]\n",
      "[ True  True  True  True  True  True  True  True  True  True  True  True\n",
      "  True  True  True  True]\n",
      "[ True False  True False False  True False  True  True False  True False\n",
      " False  True False  True]\n",
      "[ 0.86491406+0.00000000e+00j  0.16808617+1.45057916e-01j\n",
      "  0.01238393-2.21678590e-01j  0.09382429-9.71864925e-02j\n",
      "  0.16808617-1.45057916e-01j  0.13508594+2.60208521e-18j\n",
      " -0.08241575-1.07032030e-01j -0.01238393+2.21678590e-01j\n",
      "  0.01238393+2.21678590e-01j -0.08241575+1.07032030e-01j\n",
      "  0.13508594-2.60208521e-18j -0.16808617-1.45057916e-01j\n",
      "  0.09382429+9.71864925e-02j -0.01238393-2.21678590e-01j\n",
      " -0.16808617+1.45057916e-01j  0.86491406+0.00000000e+00j]\n",
      "[ 0.86491406+0.j          0.01238393+0.22167859j  0.01238393-0.22167859j\n",
      "  0.13508594+0.j          0.01238393-0.22167859j  0.13508594+0.j\n",
      " -0.1342454 -0.01504602j -0.01238393+0.22167859j  0.01238393+0.22167859j\n",
      " -0.1342454 +0.01504602j  0.13508594+0.j         -0.01238393-0.22167859j\n",
      "  0.13508594+0.j         -0.01238393-0.22167859j -0.01238393+0.22167859j\n",
      "  0.86491406+0.j        ]\n",
      "[ 0.86491406+0.j          0.16808617+0.14505792j  0.01238393-0.22167859j\n",
      "  0.09382429-0.09718649j  0.16808617-0.14505792j  0.13508594+0.j\n",
      " -0.08241575-0.10703203j -0.01238393+0.22167859j  0.01238393+0.22167859j\n",
      " -0.08241575+0.10703203j  0.13508594+0.j         -0.16808617-0.14505792j\n",
      "  0.09382429+0.09718649j -0.01238393-0.22167859j -0.16808617+0.14505792j\n",
      "  0.86491406+0.j        ]\n"
     ]
    }
   ],
   "source": [
    "AA=ncon( [U1, U1c, ct4, U1c, U1], [[-1,1],[2,-2],[1,2,3,4],[-3,3],[4,-4]])\n",
    "\n",
    "B=ncon( [U1, ct3, U1c], [[-1,1],[1,-2,3],[-3,3]])\n",
    "BB = ncon([B, np.conj(B)], [[-1,1,-3],[-2,1,-4]])\n",
    "\n",
    "C = ncon( [U1, ct3, U1c], [[-1,1],[1,2,-3],[2,-2]])\n",
    "CC = ncon([C, np.conj(C)], [[-1,-2,1],[-3,-4,1]])\n",
    "\n",
    "print([np.max(i) for i in (AA,BB,CC)])\n",
    "\n",
    "print( np.ravel(np.isclose(AA,BB)) )\n",
    "print( np.ravel(np.isclose(AA,CC)) )\n",
    "print( np.ravel(np.isclose(BB,CC)))\n",
    "\n",
    "print(np.ravel(AA))\n",
    "print(np.ravel(BB))\n",
    "print(np.ravel(CC))"
   ]
  },
  {
   "cell_type": "code",
   "execution_count": null,
   "metadata": {},
   "outputs": [],
   "source": []
  }
 ],
 "metadata": {
  "kernelspec": {
   "display_name": "Python 3.9.13 64-bit",
   "language": "python",
   "name": "python3"
  },
  "language_info": {
   "codemirror_mode": {
    "name": "ipython",
    "version": 3
   },
   "file_extension": ".py",
   "mimetype": "text/x-python",
   "name": "python",
   "nbconvert_exporter": "python",
   "pygments_lexer": "ipython3",
   "version": "3.9.13"
  },
  "orig_nbformat": 4,
  "vscode": {
   "interpreter": {
    "hash": "aee8b7b246df8f9039afb4144a1f6fd8d2ca17a180786b69acc140d282b71a49"
   }
  }
 },
 "nbformat": 4,
 "nbformat_minor": 2
}
