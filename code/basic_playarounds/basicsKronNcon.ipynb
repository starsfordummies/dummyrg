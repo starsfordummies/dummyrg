{
 "cells": [
  {
   "cell_type": "code",
   "execution_count": 2,
   "metadata": {},
   "outputs": [],
   "source": [
    "import numpy as np \n",
    "from tensornetwork import ncon\n",
    "import scipy.linalg as LA \n"
   ]
  },
  {
   "cell_type": "code",
   "execution_count": 10,
   "metadata": {},
   "outputs": [
    {
     "name": "stdout",
     "output_type": "stream",
     "text": [
      "(1, 3, 4) (1, 1)\n",
      "[[[0. 0. 0. 0.]\n",
      "  [0. 0. 0. 0.]\n",
      "  [0. 0. 0. 0.]]]\n"
     ]
    }
   ],
   "source": [
    "t1 = np.random.rand(1,3,4)\n",
    "\n",
    "one = np.array(1.).reshape(1,1)\n",
    "\n",
    "print(np.shape(t1),np.shape(one))\n",
    "\n",
    "t2 = ncon([one,t1], [[1,-1],[1,-2,-3]])\n",
    "\n",
    "print(t1-t2)"
   ]
  },
  {
   "cell_type": "code",
   "execution_count": 13,
   "metadata": {},
   "outputs": [
    {
     "name": "stdout",
     "output_type": "stream",
     "text": [
      "[1.   1.1  1.2  1.3  1.1  1.21 1.32 1.43 1.2  1.32 1.44 1.56 1.3  1.43\n",
      " 1.56 1.69]\n",
      "[1.   1.1  1.2  1.3  1.1  1.21 1.32 1.43 1.2  1.32 1.44 1.56 1.3  1.43\n",
      " 1.56 1.69]\n",
      "[24.3946776  21.2637931  21.2637931  18.53473549 23.1968652  30.1938939\n",
      " 20.21971145 26.31872096 23.1968652  20.21971145 30.1938939  26.31872096\n",
      " 22.05786703 28.71133195 28.71133195 37.37172689]\n",
      "[39.90966681 42.44238832 42.44238832 46.29594287 46.30078726 51.48486363\n",
      " 50.50466495 55.06855456 46.30078726 50.50466495 51.48486363 55.06855456\n",
      " 55.09599813 60.07478679 60.07478679 66.50356032]\n"
     ]
    }
   ],
   "source": [
    "sz = np.array([[1., 1.1] , [1.2, 1.3]])\n",
    "\n",
    "ZkZ = np.kron(sz,sz)\n",
    "ZkZr = ZkZ.reshape(2,2,2,2)\n",
    "ZkZrp = ZkZr.transpose(0,2,1,3)\n",
    "\n",
    "ZncZ = ncon([sz,sz],[[-1,-2],[-3,-4]])\n",
    "\n",
    "print(np.ravel(ZkZrp))\n",
    "print(np.ravel(ZncZ))\n",
    "\n",
    "eZ_k_eZ = np.kron(LA.expm(sz), LA.expm(sz))\n",
    "e_ZkZ =  LA.expm(np.kron(sz,sz))\n",
    "\n",
    "print(np.ravel(eZ_k_eZ))\n",
    "print(np.ravel(e_ZkZ))\n"
   ]
  },
  {
   "cell_type": "code",
   "execution_count": null,
   "metadata": {},
   "outputs": [],
   "source": []
  }
 ],
 "metadata": {
  "kernelspec": {
   "display_name": "Python 3.9.13 64-bit",
   "language": "python",
   "name": "python3"
  },
  "language_info": {
   "codemirror_mode": {
    "name": "ipython",
    "version": 3
   },
   "file_extension": ".py",
   "mimetype": "text/x-python",
   "name": "python",
   "nbconvert_exporter": "python",
   "pygments_lexer": "ipython3",
   "version": "3.10.6"
  },
  "orig_nbformat": 4,
  "vscode": {
   "interpreter": {
    "hash": "aee8b7b246df8f9039afb4144a1f6fd8d2ca17a180786b69acc140d282b71a49"
   }
  }
 },
 "nbformat": 4,
 "nbformat_minor": 2
}
