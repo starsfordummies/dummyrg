{
 "cells": [
  {
   "cell_type": "markdown",
   "metadata": {},
   "source": [
    "# Test that the power method is really a thing "
   ]
  },
  {
   "cell_type": "code",
   "execution_count": 3,
   "metadata": {},
   "outputs": [],
   "source": [
    "import numpy as np\n",
    "from numpy import linalg as LA"
   ]
  },
  {
   "cell_type": "code",
   "execution_count": 43,
   "metadata": {},
   "outputs": [
    {
     "name": "stdout",
     "output_type": "stream",
     "text": [
      "[0.5        0.5        0.5        0.33333333]\n",
      "[0.5        0.5        0.5        0.33333333]\n",
      "[0.1 0.2 0.3 0.4]\n"
     ]
    }
   ],
   "source": [
    "vt1 = np.array([1,2,3,4])\n",
    "vt2 = np.array([2,4,6,12])\n",
    "print( vt1/vt2)\n",
    "print(np.divide(vt1,vt2))\n",
    "\n",
    "print(0.1*vt1)\n",
    "\n",
    "m1 = np.array([[ 1.,2,3,4,5],[2,3,4,4,4],[2,3,5,6,3],[2,2,2,3,1],[5,4,4,3,1]])\n",
    "m1h = m1 + np.transpose(m1)\n",
    "\n"
   ]
  },
  {
   "cell_type": "code",
   "execution_count": 33,
   "metadata": {},
   "outputs": [],
   "source": [
    "ee=LA.eig(m1h)\n",
    "e1 = ee[1][:,0]\n",
    "\n",
    "np.divide(m1h @ e1 , e1)"
   ]
  },
  {
   "cell_type": "code",
   "execution_count": 38,
   "metadata": {},
   "outputs": [],
   "source": [
    "v1 = np.array([2.,2,2,2,2])"
   ]
  },
  {
   "cell_type": "code",
   "execution_count": 41,
   "metadata": {},
   "outputs": [
    {
     "name": "stdout",
     "output_type": "stream",
     "text": [
      "[0.38404341 0.44271646 0.53302311 0.42892463 0.43407697]\n",
      "[-0.99999996 -0.99999999 -1.         -1.00000001 -1.00000004]\n"
     ]
    }
   ],
   "source": [
    "v2 = m1h @ v1\n",
    "v2n = v2/ (v2 @ v2)\n",
    "for j in range(0,10):\n",
    "    v2 = m1h @ v2n\n",
    "    v2n = v2/ np.sqrt(v2 @ v2)\n",
    "print(v2n)\n",
    "print( v2n / e1)"
   ]
  },
  {
   "cell_type": "code",
   "execution_count": null,
   "metadata": {},
   "outputs": [],
   "source": [
    "[-0.38404342, -0.6145912 ,  0.47470902,  0.45848067,  0.19807862],"
   ]
  }
 ],
 "metadata": {
  "kernelspec": {
   "display_name": "Python 3.9.13 64-bit",
   "language": "python",
   "name": "python3"
  },
  "language_info": {
   "codemirror_mode": {
    "name": "ipython",
    "version": 3
   },
   "file_extension": ".py",
   "mimetype": "text/x-python",
   "name": "python",
   "nbconvert_exporter": "python",
   "pygments_lexer": "ipython3",
   "version": "3.10.6"
  },
  "orig_nbformat": 4,
  "vscode": {
   "interpreter": {
    "hash": "aee8b7b246df8f9039afb4144a1f6fd8d2ca17a180786b69acc140d282b71a49"
   }
  }
 },
 "nbformat": 4,
 "nbformat_minor": 2
}
